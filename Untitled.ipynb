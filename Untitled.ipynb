{
 "cells": [
  {
   "cell_type": "code",
   "execution_count": 2,
   "metadata": {},
   "outputs": [],
   "source": [
    "library(visualizeR)"
   ]
  },
  {
   "cell_type": "code",
   "execution_count": 8,
   "metadata": {},
   "outputs": [],
   "source": [
    "data(\"coffeeNMRSpectra\")\n",
    "\n",
    "ID <- coffeeNMRSpectra$param$catalogID\n",
    "group <- coffeeNMRSpectra$param$country1\n",
    "metadata <- data.frame( sapply(coffeeNMRSpectra$param, function(x) x) )\n",
    "x <- matrix(sapply(I(as.matrix(coffeeNMRSpectra$nmr)), function(x) x), 34, 1610)\n",
    "x_axis <- as.numeric( colnames(coffeeNMRSpectra$nmr) )\n",
    "\n",
    "\n",
    "d = list()\n",
    "c <- data.frame(ID = ID,\n",
    "                group = group,\n",
    "                color = sapply(group, function(x) getColor2(as.character(x))), # can be made faster using levels\n",
    "                \"_hightlight\" = seq_along(group),\n",
    "                dataMatrix = I(matrix( c(rbind(repRow(x_axis, nrow(x)), x)), nrow(x), ncol(x)*2)),\n",
    "                I(metadata),\n",
    "                check.names = FALSE\n",
    ")\n",
    "d <- appendData(data = d, variableName = \"data\", variable = c, type = \"table\")\n",
    "\n",
    "b <- simplify2array( by(x, group, function(x) apply(x, 2, mean)) )\n",
    "\n",
    "for (i in levels(group)) {\n",
    "  var <- data.frame(y =  as.numeric(b[,i]), x = x_axis)\n",
    "  d <- appendData(data = d, variableName = paste0(\"mean\",i), variable = var, type = \"1D XY array\")\n",
    "}\n",
    "\n",
    "var <- data.frame(y = apply(x, 2, min), x = x_axis)\n",
    "d <- appendData(data = d, variableName = \"minSpectra\", variable = var, type = \"1D XY array\")\n",
    "var <- data.frame(y = apply(x, 2, max), x = x_axis)\n",
    "d <- appendData(data = d, variableName = \"maxSpectra\", variable = var, type = \"1D XY array\")\n",
    "\n",
    "imag = NULL\n",
    "for (i in seq(from=2, to=3220, by=2)) {\n",
    "  png(tf1 <- tempfile(fileext = \".png\"));  boxplot( dataMatrix[,i] ~ group, data = c); dev.off()\n",
    "  imag[[i/2]] <- paste0(\"data:image/png;base64,\", base64enc::base64encode(tf1))#base64enc::base64encode(tf1)\n",
    "}\n",
    "l <- data.frame(\"_hightlight\" = seq_along(x_axis),\n",
    "                #value = paste0(\"data:image/png;base64,\", base64enc::base64encode(tf1)),\n",
    "                value = unlist(imag),\n",
    "                check.names = FALSE)\n",
    "d <- appendData(data = d, variableName = \"img\", variable = l, type = \"table\")\n",
    "\n",
    "# library(ggplot2)\n",
    "# means <- aggregate(dataMatrix[,i] ~  group, c, mean)\n",
    "# names(means) <- c(\"group\", \"dataMatrix\")\n",
    "# ggplot(data=c, aes(x=group, y=dataMatrix[,i], fill=group)) + geom_boxplot() +\n",
    "#   stat_summary(fun.y=mean, colour=\"darkred\", geom=\"point\",\n",
    "#                shape=18, size=3,show.legend = FALSE) +\n",
    "#   geom_text(data = means, aes(label = round(dataMatrix,1), y = dataMatrix * 1.15))\n",
    "\n",
    "varQuantile <- apply(x,2,quantile)\n",
    "quantileData <- data.frame(\n",
    "  value = as.numeric(t(varQuantile)),\n",
    "  check.names = FALSE)\n",
    "d <- appendData(data = d, variableName = \"quantile\", variable = quantileData, type = \"table\")\n"
   ]
  },
  {
   "cell_type": "code",
   "execution_count": 12,
   "metadata": {},
   "outputs": [
    {
     "data": {
      "text/html": [
       "'http://127.0.0.1:5474/?viewURL=http://127.0.0.1:5474/view/spectraExplorer.view.json&amp;dataURL=http://127.0.0.1:5474/data/spectraExplorer.data.json'"
      ],
      "text/latex": [
       "'http://127.0.0.1:5474/?viewURL=http://127.0.0.1:5474/view/spectraExplorer.view.json\\&dataURL=http://127.0.0.1:5474/data/spectraExplorer.data.json'"
      ],
      "text/markdown": [
       "'http://127.0.0.1:5474/?viewURL=http://127.0.0.1:5474/view/spectraExplorer.view.json&amp;dataURL=http://127.0.0.1:5474/data/spectraExplorer.data.json'"
      ],
      "text/plain": [
       "[1] \"http://127.0.0.1:5474/?viewURL=http://127.0.0.1:5474/view/spectraExplorer.view.json&dataURL=http://127.0.0.1:5474/data/spectraExplorer.data.json\""
      ]
     },
     "metadata": {},
     "output_type": "display_data"
    }
   ],
   "source": [
    "v <- new(\"visualization\")\n",
    "v@view <- \"spectraExplorer.view.json\"\n",
    "v@data <- \"spectraExplorer.data.json\"\n",
    "push(v, type=\"data\", d)\n",
    "print(v)"
   ]
  },
  {
   "cell_type": "code",
   "execution_count": 13,
   "metadata": {},
   "outputs": [
    {
     "ename": "ERROR",
     "evalue": "Error in startServer(host, port, app): Failed to create server\n",
     "output_type": "error",
     "traceback": [
      "Error in startServer(host, port, app): Failed to create server\nTraceback:\n",
      "1. visualize(v)",
      "2. visualize(v)   # at line 17 of file /home/jul/git/visualizeR/R/visualize.R",
      "3. initServer(v@visuServer, force = FALSE)   # at line 20 of file /home/jul/git/visualizeR/R/visualize.visualization.R",
      "4. servr::httw(dir = server@rootDir, watch = server@rootDir, port = server@port)   # at line 26-28 of file /home/jul/git/visualizeR/R/initServer.R",
      "5. dynamic_site(dir, ..., build = watch_dir(watch, pattern = pattern, \n .     all_files = all_files, handler = handler))",
      "6. res$start_server(app)",
      "7. startServer(host, port, app)",
      "8. stop(\"Failed to create server\")"
     ]
    }
   ],
   "source": [
    "visualize(v)"
   ]
  },
  {
   "cell_type": "code",
   "execution_count": null,
   "metadata": {},
   "outputs": [],
   "source": []
  },
  {
   "cell_type": "code",
   "execution_count": null,
   "metadata": {},
   "outputs": [],
   "source": []
  }
 ],
 "metadata": {
  "kernelspec": {
   "display_name": "R 3.5",
   "language": "R",
   "name": "ir35"
  },
  "language_info": {
   "codemirror_mode": "r",
   "file_extension": ".r",
   "mimetype": "text/x-r-source",
   "name": "R",
   "pygments_lexer": "r",
   "version": "3.5.0"
  }
 },
 "nbformat": 4,
 "nbformat_minor": 2
}
