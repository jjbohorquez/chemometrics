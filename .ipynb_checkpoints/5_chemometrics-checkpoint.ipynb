{
 "cells": [
  {
   "cell_type": "markdown",
   "metadata": {
    "deletable": true,
    "editable": true
   },
   "source": [
    "# Chemometrics\n",
    "<br>\n",
    "**Julien Wist / 2017 / Universidad del Valle**\n",
    "<br>\n",
    "**Andrés Bernal / 2017 / ???**\n",
    "\n",
    "An up-to-date version of this notebook can be found here: https://github.com/jwist/chemometrics/"
   ]
  },
  {
   "cell_type": "code",
   "execution_count": 82,
   "metadata": {
    "collapsed": true,
    "deletable": true,
    "editable": true
   },
   "outputs": [],
   "source": [
    "options(repr.plot.width=4, repr.plot.height=4) # change these setting to plot larger figures"
   ]
  },
  {
   "cell_type": "code",
   "execution_count": 83,
   "metadata": {
    "collapsed": true,
    "deletable": true,
    "editable": true
   },
   "outputs": [],
   "source": [
    "library(caret)"
   ]
  },
  {
   "cell_type": "markdown",
   "metadata": {
    "deletable": true,
    "editable": true
   },
   "source": [
    "## diagnostic test\n",
    "\n",
    "We create a testset as described in Altman, D.G., Bland, J.M. (1994) “Diagnostic tests 1: sensitivity and specificity,” British Medical Journal, vol 308, 1552. and Altman, D.G., Bland, J.M. (1994) “Diagnostic tests 2: predictive values,” British Medical Journal, vol 309, 102.\n",
    "\n",
    "The truth is that 258 persons out of 344 have abnormal livers. Thus, the prevalence of the disease is 258/344=0.75."
   ]
  },
  {
   "cell_type": "code",
   "execution_count": 84,
   "metadata": {
    "collapsed": false,
    "deletable": true,
    "editable": true
   },
   "outputs": [
    {
     "data": {
      "text/html": [
       "<dl class=dl-horizontal>\n",
       "\t<dt>abnormal</dt>\n",
       "\t\t<dd>258</dd>\n",
       "\t<dt>normal</dt>\n",
       "\t\t<dd>86</dd>\n",
       "</dl>\n"
      ],
      "text/latex": [
       "\\begin{description*}\n",
       "\\item[abnormal] 258\n",
       "\\item[normal] 86\n",
       "\\end{description*}\n"
      ],
      "text/markdown": [
       "abnormal\n",
       ":   258normal\n",
       ":   86\n",
       "\n"
      ],
      "text/plain": [
       "abnormal   normal \n",
       "     258       86 "
      ]
     },
     "execution_count": 84,
     "metadata": {},
     "output_type": "execute_result"
    },
    {
     "data": {
      "text/html": [
       "0.75"
      ],
      "text/latex": [
       "0.75"
      ],
      "text/markdown": [
       "0.75"
      ],
      "text/plain": [
       "[1] 0.75"
      ]
     },
     "execution_count": 84,
     "metadata": {},
     "output_type": "execute_result"
    }
   ],
   "source": [
    "N <- 344\n",
    "neg <- 86\n",
    "lvs <- c(\"normal\", \"abnormal\")\n",
    "truth <- factor(rep(lvs, times = c(86, 344-86)),\n",
    "                levels = rev(lvs))\n",
    "summary(truth)\n",
    "\n",
    "prevalence <- sum(truth == \"abnormal\") / length(truth)\n",
    "prevalence"
   ]
  },
  {
   "cell_type": "markdown",
   "metadata": {
    "deletable": true,
    "editable": true
   },
   "source": [
    "So the odds of finding an abnormal liver (prior to the test) is:"
   ]
  },
  {
   "cell_type": "code",
   "execution_count": 85,
   "metadata": {
    "collapsed": false,
    "deletable": true,
    "editable": true
   },
   "outputs": [
    {
     "data": {
      "text/html": [
       "3"
      ],
      "text/latex": [
       "3"
      ],
      "text/markdown": [
       "3"
      ],
      "text/plain": [
       "[1] 3"
      ]
     },
     "execution_count": 85,
     "metadata": {},
     "output_type": "execute_result"
    }
   ],
   "source": [
    "prevalence / (1 - prevalence)"
   ]
  },
  {
   "cell_type": "markdown",
   "metadata": {
    "deletable": true,
    "editable": true
   },
   "source": [
    "A test has been developed that gives the following results:"
   ]
  },
  {
   "cell_type": "code",
   "execution_count": 86,
   "metadata": {
    "collapsed": false,
    "deletable": true,
    "editable": true
   },
   "outputs": [
    {
     "data": {
      "text/html": [
       "<dl class=dl-horizontal>\n",
       "\t<dt>abnormal</dt>\n",
       "\t\t<dd>263</dd>\n",
       "\t<dt>normal</dt>\n",
       "\t\t<dd>81</dd>\n",
       "</dl>\n"
      ],
      "text/latex": [
       "\\begin{description*}\n",
       "\\item[abnormal] 263\n",
       "\\item[normal] 81\n",
       "\\end{description*}\n"
      ],
      "text/markdown": [
       "abnormal\n",
       ":   263normal\n",
       ":   81\n",
       "\n"
      ],
      "text/plain": [
       "abnormal   normal \n",
       "     263       81 "
      ]
     },
     "execution_count": 86,
     "metadata": {},
     "output_type": "execute_result"
    }
   ],
   "source": [
    "pred <- factor(\n",
    "               c(\n",
    "                 rep(lvs, times = c(54, 32)),\n",
    "                 rep(lvs, times = c(27, 231))),               \n",
    "               levels = rev(lvs))\n",
    "summary(pred)"
   ]
  },
  {
   "cell_type": "markdown",
   "metadata": {
    "deletable": true,
    "editable": true
   },
   "source": [
    "By comparing both vector we can build a confusion matrix easily."
   ]
  },
  {
   "cell_type": "code",
   "execution_count": 87,
   "metadata": {
    "collapsed": false,
    "deletable": true,
    "editable": true
   },
   "outputs": [
    {
     "data": {
      "text/plain": [
       "          truth\n",
       "pred       abnormal normal\n",
       "  abnormal      231     32\n",
       "  normal         27     54"
      ]
     },
     "execution_count": 87,
     "metadata": {},
     "output_type": "execute_result"
    }
   ],
   "source": [
    "xtab <- table(pred, truth)\n",
    "xtab"
   ]
  },
  {
   "cell_type": "markdown",
   "metadata": {
    "deletable": true,
    "editable": true
   },
   "source": [
    "So there are 231+27=258 true positives (abnormal) and 32+54=86 true negatives (normal). Thus, there are 231/258=0.9 and 54/86=0.63 that were correctly classified. The first number is called sensitivity, while the second is called specificity."
   ]
  },
  {
   "cell_type": "code",
   "execution_count": 88,
   "metadata": {
    "collapsed": false,
    "deletable": true,
    "editable": true
   },
   "outputs": [
    {
     "data": {
      "text/html": [
       "0.9"
      ],
      "text/latex": [
       "0.9"
      ],
      "text/markdown": [
       "0.9"
      ],
      "text/plain": [
       "[1] 0.9"
      ]
     },
     "execution_count": 88,
     "metadata": {},
     "output_type": "execute_result"
    },
    {
     "data": {
      "text/html": [
       "0.63"
      ],
      "text/latex": [
       "0.63"
      ],
      "text/markdown": [
       "0.63"
      ],
      "text/plain": [
       "[1] 0.63"
      ]
     },
     "execution_count": 88,
     "metadata": {},
     "output_type": "execute_result"
    }
   ],
   "source": [
    "round( S <- sensitivity(pred, truth), 2)\n",
    "round( Sp <- specificity(xtab), 2 )"
   ]
  },
  {
   "cell_type": "markdown",
   "metadata": {
    "deletable": true,
    "editable": true
   },
   "source": [
    "But if often happens that only the results of the test are known. Therefore we can compute the proportion of the positive test (abnormal) that are actually abnormal."
   ]
  },
  {
   "cell_type": "code",
   "execution_count": 89,
   "metadata": {
    "collapsed": false,
    "deletable": true,
    "editable": true
   },
   "outputs": [
    {
     "data": {
      "text/html": [
       "0.88"
      ],
      "text/latex": [
       "0.88"
      ],
      "text/markdown": [
       "0.88"
      ],
      "text/plain": [
       "[1] 0.88"
      ]
     },
     "execution_count": 89,
     "metadata": {},
     "output_type": "execute_result"
    },
    {
     "data": {
      "text/html": [
       "0.878326996197719"
      ],
      "text/latex": [
       "0.878326996197719"
      ],
      "text/markdown": [
       "0.878326996197719"
      ],
      "text/plain": [
       "[1] 0.878327"
      ]
     },
     "execution_count": 89,
     "metadata": {},
     "output_type": "execute_result"
    },
    {
     "data": {
      "text/html": [
       "0.67"
      ],
      "text/latex": [
       "0.67"
      ],
      "text/markdown": [
       "0.67"
      ],
      "text/plain": [
       "[1] 0.67"
      ]
     },
     "execution_count": 89,
     "metadata": {},
     "output_type": "execute_result"
    },
    {
     "data": {
      "text/html": [
       "0.666666666666667"
      ],
      "text/latex": [
       "0.666666666666667"
      ],
      "text/markdown": [
       "0.666666666666667"
      ],
      "text/plain": [
       "[1] 0.6666667"
      ]
     },
     "execution_count": 89,
     "metadata": {},
     "output_type": "execute_result"
    }
   ],
   "source": [
    "round(PPV <- posPredValue(pred, truth),2)\n",
    "231/263\n",
    "\n",
    "round(NPV <- negPredValue(xtab),2)\n",
    "54/81"
   ]
  },
  {
   "cell_type": "code",
   "execution_count": 90,
   "metadata": {
    "collapsed": false,
    "deletable": true,
    "editable": true
   },
   "outputs": [
    {
     "data": {
      "text/html": [
       "7.22"
      ],
      "text/latex": [
       "7.22"
      ],
      "text/markdown": [
       "7.22"
      ],
      "text/plain": [
       "[1] 7.22"
      ]
     },
     "execution_count": 90,
     "metadata": {},
     "output_type": "execute_result"
    },
    {
     "data": {
      "text/html": [
       "2.40625"
      ],
      "text/latex": [
       "2.40625"
      ],
      "text/markdown": [
       "2.40625"
      ],
      "text/plain": [
       "[1] 2.40625"
      ]
     },
     "execution_count": 90,
     "metadata": {},
     "output_type": "execute_result"
    },
    {
     "data": {
      "text/html": [
       "2.40625"
      ],
      "text/latex": [
       "2.40625"
      ],
      "text/markdown": [
       "2.40625"
      ],
      "text/plain": [
       "[1] 2.40625"
      ]
     },
     "execution_count": 90,
     "metadata": {},
     "output_type": "execute_result"
    }
   ],
   "source": [
    "round( posteriorOdds <- PPV / (1 - PPV), 2 )\n",
    "priorOdds <- prevalence / (1 - prevalence)\n",
    "posteriorOdds / priorOdds\n",
    "\n",
    "likelyhoodRatio <- sensitivity(xtab) / (1-specificity(xtab))\n",
    "likelyhoodRatio"
   ]
  },
  {
   "cell_type": "markdown",
   "metadata": {
    "deletable": true,
    "editable": true
   },
   "source": [
    "The test is usefull because the posterior odds are higher than the prior odds, the multiplication of prior odds by likelyhood ration gives the posterior odds. A lot of these values can be calculated with a single command."
   ]
  },
  {
   "cell_type": "code",
   "execution_count": 91,
   "metadata": {
    "collapsed": false,
    "deletable": true,
    "editable": true
   },
   "outputs": [
    {
     "data": {
      "text/plain": [
       "Confusion Matrix and Statistics\n",
       "\n",
       "          Reference\n",
       "Prediction abnormal normal\n",
       "  abnormal      231     32\n",
       "  normal         27     54\n",
       "                                          \n",
       "               Accuracy : 0.8285          \n",
       "                 95% CI : (0.7844, 0.8668)\n",
       "    No Information Rate : 0.75            \n",
       "    P-Value [Acc > NIR] : 0.0003097       \n",
       "                                          \n",
       "                  Kappa : 0.5336          \n",
       " Mcnemar's Test P-Value : 0.6025370       \n",
       "                                          \n",
       "            Sensitivity : 0.8953          \n",
       "            Specificity : 0.6279          \n",
       "         Pos Pred Value : 0.8783          \n",
       "         Neg Pred Value : 0.6667          \n",
       "             Prevalence : 0.7500          \n",
       "         Detection Rate : 0.6715          \n",
       "   Detection Prevalence : 0.7645          \n",
       "      Balanced Accuracy : 0.7616          \n",
       "                                          \n",
       "       'Positive' Class : abnormal        \n",
       "                                          "
      ]
     },
     "execution_count": 91,
     "metadata": {},
     "output_type": "execute_result"
    }
   ],
   "source": [
    "confusionMatrix(pred,truth)"
   ]
  },
  {
   "cell_type": "markdown",
   "metadata": {
    "deletable": true,
    "editable": true
   },
   "source": [
    "A very important conclusion to keep in mind is that the PPV (and the NPV) will change if the prevalence is modified. PPV and NPV are computed only from the results of the test. If prevalence is rare, then we can more easily trust our negative to be indeed negative, and it becomes more difficult to trust in our positive results."
   ]
  },
  {
   "cell_type": "code",
   "execution_count": 92,
   "metadata": {
    "collapsed": false,
    "deletable": true,
    "editable": true
   },
   "outputs": [
    {
     "data": {
      "text/html": [
       "0.8"
      ],
      "text/latex": [
       "0.8"
      ],
      "text/markdown": [
       "0.8"
      ],
      "text/plain": [
       "[1] 0.8"
      ]
     },
     "execution_count": 92,
     "metadata": {},
     "output_type": "execute_result"
    },
    {
     "data": {
      "text/html": [
       "2.40625"
      ],
      "text/latex": [
       "2.40625"
      ],
      "text/markdown": [
       "2.40625"
      ],
      "text/plain": [
       "[1] 2.40625"
      ]
     },
     "execution_count": 92,
     "metadata": {},
     "output_type": "execute_result"
    },
    {
     "data": {
      "text/html": [
       "0.333333333333333"
      ],
      "text/latex": [
       "0.333333333333333"
      ],
      "text/markdown": [
       "0.333333333333333"
      ],
      "text/plain": [
       "[1] 0.3333333"
      ]
     },
     "execution_count": 92,
     "metadata": {},
     "output_type": "execute_result"
    }
   ],
   "source": [
    "prevalence <- 0.25\n",
    "PPV <- posPredValue(pred, truth, prevalence=0.25)\n",
    "round( posteriorOdds <- PPV / (1 - PPV), 2 )\n",
    "priorOdds <- prevalence / (1 - prevalence)\n",
    "posteriorOdds / priorOdds\n",
    "priorOdds"
   ]
  },
  {
   "cell_type": "code",
   "execution_count": 93,
   "metadata": {
    "collapsed": false,
    "deletable": true,
    "editable": true,
    "scrolled": false
   },
   "outputs": [
    {
     "data": {
      "image/png": "[encoded data removed]",
      "image/svg+xml": [
       "<?xml version=\"1.0\" encoding=\"UTF-8\"?>\n",
       "<svg xmlns=\"http://www.w3.org/2000/svg\" xmlns:xlink=\"http://www.w3.org/1999/xlink\" width=\"288pt\" height=\"288pt\" viewBox=\"0 0 288 288\" version=\"1.1\">\n",
       "<defs>\n",
       "<g>\n",
       "<symbol overflow=\"visible\" id=\"glyph0-0\">\n",
       "<path style=\"stroke:none;\" d=\"M 0.40625 0 L 0.40625 -8.96875 L 7.515625 -8.96875 L 7.515625 0 Z M 6.390625 -1.125 L 6.390625 -7.84375 L 1.53125 -7.84375 L 1.53125 -1.125 Z \"/>\n",
       "</symbol>\n",
       "<symbol overflow=\"visible\" id=\"glyph0-1\">\n",
       "<path style=\"stroke:none;\" d=\"M 3.375 -8.734375 C 4.507812 -8.734375 5.328125 -8.269531 5.828125 -7.34375 C 6.222656 -6.625 6.421875 -5.632812 6.421875 -4.375 C 6.421875 -3.1875 6.242188 -2.207031 5.890625 -1.4375 C 5.378906 -0.320312 4.539062 0.234375 3.375 0.234375 C 2.320312 0.234375 1.539062 -0.21875 1.03125 -1.125 C 0.601562 -1.882812 0.390625 -2.90625 0.390625 -4.1875 C 0.390625 -5.1875 0.519531 -6.039062 0.78125 -6.75 C 1.257812 -8.070312 2.125 -8.734375 3.375 -8.734375 Z M 3.375 -0.765625 C 3.9375 -0.765625 4.382812 -1.015625 4.71875 -1.515625 C 5.0625 -2.023438 5.234375 -2.96875 5.234375 -4.34375 C 5.234375 -5.332031 5.109375 -6.144531 4.859375 -6.78125 C 4.617188 -7.425781 4.148438 -7.75 3.453125 -7.75 C 2.804688 -7.75 2.332031 -7.441406 2.03125 -6.828125 C 1.726562 -6.222656 1.578125 -5.332031 1.578125 -4.15625 C 1.578125 -3.257812 1.675781 -2.539062 1.875 -2 C 2.164062 -1.175781 2.664062 -0.765625 3.375 -0.765625 Z \"/>\n",
       "</symbol>\n",
       "<symbol overflow=\"visible\" id=\"glyph0-2\">\n",
       "<path style=\"stroke:none;\" d=\"M 1.0625 -1.328125 L 2.34375 -1.328125 L 2.34375 0 L 1.0625 0 Z \"/>\n",
       "</symbol>\n",
       "<symbol overflow=\"visible\" id=\"glyph0-3\">\n",
       "<path style=\"stroke:none;\" d=\"M 0.390625 0 C 0.429688 -0.75 0.585938 -1.398438 0.859375 -1.953125 C 1.128906 -2.515625 1.65625 -3.023438 2.4375 -3.484375 L 3.609375 -4.15625 C 4.140625 -4.46875 4.507812 -4.726562 4.71875 -4.9375 C 5.050781 -5.28125 5.21875 -5.671875 5.21875 -6.109375 C 5.21875 -6.609375 5.0625 -7.007812 4.75 -7.3125 C 4.445312 -7.613281 4.046875 -7.765625 3.546875 -7.765625 C 2.785156 -7.765625 2.265625 -7.476562 1.984375 -6.90625 C 1.828125 -6.601562 1.738281 -6.179688 1.71875 -5.640625 L 0.609375 -5.640625 C 0.617188 -6.398438 0.757812 -7.019531 1.03125 -7.5 C 1.5 -8.34375 2.335938 -8.765625 3.546875 -8.765625 C 4.546875 -8.765625 5.273438 -8.492188 5.734375 -7.953125 C 6.203125 -7.410156 6.4375 -6.8125 6.4375 -6.15625 C 6.4375 -5.457031 6.1875 -4.859375 5.6875 -4.359375 C 5.40625 -4.066406 4.894531 -3.71875 4.15625 -3.3125 L 3.328125 -2.84375 C 2.929688 -2.625 2.617188 -2.414062 2.390625 -2.21875 C 1.984375 -1.863281 1.726562 -1.46875 1.625 -1.03125 L 6.390625 -1.03125 L 6.390625 0 Z \"/>\n",
       "</symbol>\n",
       "<symbol overflow=\"visible\" id=\"glyph0-4\">\n",
       "<path style=\"stroke:none;\" d=\"M 4.125 -3.09375 L 4.125 -7.0625 L 1.328125 -3.09375 Z M 4.15625 0 L 4.15625 -2.140625 L 0.3125 -2.140625 L 0.3125 -3.203125 L 4.328125 -8.765625 L 5.25 -8.765625 L 5.25 -3.09375 L 6.53125 -3.09375 L 6.53125 -2.140625 L 5.25 -2.140625 L 5.25 0 Z \"/>\n",
       "</symbol>\n",
       "<symbol overflow=\"visible\" id=\"glyph0-5\">\n",
       "<path style=\"stroke:none;\" d=\"M 3.65625 -8.78125 C 4.632812 -8.78125 5.316406 -8.523438 5.703125 -8.015625 C 6.085938 -7.503906 6.28125 -6.984375 6.28125 -6.453125 L 5.1875 -6.453125 C 5.125 -6.796875 5.019531 -7.066406 4.875 -7.265625 C 4.613281 -7.628906 4.210938 -7.8125 3.671875 -7.8125 C 3.054688 -7.8125 2.566406 -7.523438 2.203125 -6.953125 C 1.847656 -6.390625 1.648438 -5.578125 1.609375 -4.515625 C 1.859375 -4.890625 2.175781 -5.171875 2.5625 -5.359375 C 2.90625 -5.515625 3.296875 -5.59375 3.734375 -5.59375 C 4.460938 -5.59375 5.097656 -5.359375 5.640625 -4.890625 C 6.191406 -4.421875 6.46875 -3.722656 6.46875 -2.796875 C 6.46875 -2.003906 6.207031 -1.300781 5.6875 -0.6875 C 5.164062 -0.0820312 4.429688 0.21875 3.484375 0.21875 C 2.660156 0.21875 1.953125 -0.0859375 1.359375 -0.703125 C 0.765625 -1.328125 0.46875 -2.375 0.46875 -3.84375 C 0.46875 -4.925781 0.597656 -5.847656 0.859375 -6.609375 C 1.367188 -8.054688 2.300781 -8.78125 3.65625 -8.78125 Z M 3.578125 -0.75 C 4.148438 -0.75 4.578125 -0.941406 4.859375 -1.328125 C 5.148438 -1.722656 5.296875 -2.179688 5.296875 -2.703125 C 5.296875 -3.148438 5.164062 -3.578125 4.90625 -3.984375 C 4.65625 -4.390625 4.191406 -4.59375 3.515625 -4.59375 C 3.046875 -4.59375 2.632812 -4.4375 2.28125 -4.125 C 1.925781 -3.8125 1.75 -3.335938 1.75 -2.703125 C 1.75 -2.148438 1.910156 -1.6875 2.234375 -1.3125 C 2.554688 -0.9375 3.003906 -0.75 3.578125 -0.75 Z \"/>\n",
       "</symbol>\n",
       "<symbol overflow=\"visible\" id=\"glyph0-6\">\n",
       "<path style=\"stroke:none;\" d=\"M 3.40625 -5.078125 C 3.882812 -5.078125 4.257812 -5.210938 4.53125 -5.484375 C 4.800781 -5.753906 4.9375 -6.078125 4.9375 -6.453125 C 4.9375 -6.773438 4.804688 -7.070312 4.546875 -7.34375 C 4.285156 -7.613281 3.890625 -7.75 3.359375 -7.75 C 2.828125 -7.75 2.441406 -7.613281 2.203125 -7.34375 C 1.972656 -7.070312 1.859375 -6.753906 1.859375 -6.390625 C 1.859375 -5.984375 2.007812 -5.660156 2.3125 -5.421875 C 2.625 -5.191406 2.988281 -5.078125 3.40625 -5.078125 Z M 3.46875 -0.75 C 3.976562 -0.75 4.398438 -0.882812 4.734375 -1.15625 C 5.066406 -1.4375 5.234375 -1.847656 5.234375 -2.390625 C 5.234375 -2.953125 5.0625 -3.378906 4.71875 -3.671875 C 4.375 -3.972656 3.929688 -4.125 3.390625 -4.125 C 2.859375 -4.125 2.425781 -3.972656 2.09375 -3.671875 C 1.769531 -3.367188 1.609375 -2.953125 1.609375 -2.421875 C 1.609375 -1.972656 1.757812 -1.582031 2.0625 -1.25 C 2.363281 -0.914062 2.832031 -0.75 3.46875 -0.75 Z M 1.90625 -4.65625 C 1.601562 -4.789062 1.363281 -4.941406 1.1875 -5.109375 C 0.863281 -5.441406 0.703125 -5.867188 0.703125 -6.390625 C 0.703125 -7.035156 0.9375 -7.59375 1.40625 -8.0625 C 1.882812 -8.53125 2.554688 -8.765625 3.421875 -8.765625 C 4.265625 -8.765625 4.921875 -8.539062 5.390625 -8.09375 C 5.867188 -7.65625 6.109375 -7.144531 6.109375 -6.5625 C 6.109375 -6.007812 5.96875 -5.566406 5.6875 -5.234375 C 5.539062 -5.035156 5.300781 -4.847656 4.96875 -4.671875 C 5.332031 -4.503906 5.617188 -4.3125 5.828125 -4.09375 C 6.210938 -3.6875 6.40625 -3.160156 6.40625 -2.515625 C 6.40625 -1.742188 6.144531 -1.085938 5.625 -0.546875 C 5.113281 -0.015625 4.382812 0.25 3.4375 0.25 C 2.59375 0.25 1.875 0.0195312 1.28125 -0.4375 C 0.695312 -0.90625 0.40625 -1.578125 0.40625 -2.453125 C 0.40625 -2.972656 0.53125 -3.421875 0.78125 -3.796875 C 1.03125 -4.171875 1.40625 -4.457031 1.90625 -4.65625 Z \"/>\n",
       "</symbol>\n",
       "<symbol overflow=\"visible\" id=\"glyph0-7\">\n",
       "<path style=\"stroke:none;\" d=\"M 1.203125 -6.1875 L 1.203125 -7.03125 C 1.992188 -7.101562 2.546875 -7.226562 2.859375 -7.40625 C 3.171875 -7.59375 3.40625 -8.023438 3.5625 -8.703125 L 4.421875 -8.703125 L 4.421875 0 L 3.25 0 L 3.25 -6.1875 Z \"/>\n",
       "</symbol>\n",
       "<symbol overflow=\"visible\" id=\"glyph0-8\">\n",
       "<path style=\"stroke:none;\" d=\"M 1.0625 -8.96875 L 5.109375 -8.96875 C 5.898438 -8.96875 6.539062 -8.742188 7.03125 -8.296875 C 7.519531 -7.847656 7.765625 -7.210938 7.765625 -6.390625 C 7.765625 -5.691406 7.546875 -5.082031 7.109375 -4.5625 C 6.671875 -4.050781 6.003906 -3.796875 5.109375 -3.796875 L 2.28125 -3.796875 L 2.28125 0 L 1.0625 0 Z M 6.53125 -6.390625 C 6.53125 -7.046875 6.285156 -7.492188 5.796875 -7.734375 C 5.535156 -7.859375 5.171875 -7.921875 4.703125 -7.921875 L 2.28125 -7.921875 L 2.28125 -4.8125 L 4.703125 -4.8125 C 5.242188 -4.8125 5.679688 -4.925781 6.015625 -5.15625 C 6.359375 -5.394531 6.53125 -5.804688 6.53125 -6.390625 Z \"/>\n",
       "</symbol>\n",
       "<symbol overflow=\"visible\" id=\"glyph0-9\">\n",
       "<path style=\"stroke:none;\" d=\"M 0.84375 -6.53125 L 1.875 -6.53125 L 1.875 -5.40625 C 1.96875 -5.625 2.179688 -5.890625 2.515625 -6.203125 C 2.847656 -6.523438 3.226562 -6.6875 3.65625 -6.6875 C 3.675781 -6.6875 3.710938 -6.679688 3.765625 -6.671875 C 3.816406 -6.671875 3.898438 -6.664062 4.015625 -6.65625 L 4.015625 -5.5 C 3.953125 -5.507812 3.890625 -5.515625 3.828125 -5.515625 C 3.773438 -5.523438 3.71875 -5.53125 3.65625 -5.53125 C 3.101562 -5.53125 2.675781 -5.347656 2.375 -4.984375 C 2.082031 -4.628906 1.9375 -4.222656 1.9375 -3.765625 L 1.9375 0 L 0.84375 0 Z \"/>\n",
       "</symbol>\n",
       "<symbol overflow=\"visible\" id=\"glyph0-10\">\n",
       "<path style=\"stroke:none;\" d=\"M 3.53125 -6.6875 C 3.988281 -6.6875 4.4375 -6.578125 4.875 -6.359375 C 5.3125 -6.140625 5.644531 -5.859375 5.875 -5.515625 C 6.09375 -5.179688 6.238281 -4.796875 6.3125 -4.359375 C 6.375 -4.054688 6.40625 -3.578125 6.40625 -2.921875 L 1.625 -2.921875 C 1.632812 -2.253906 1.785156 -1.71875 2.078125 -1.3125 C 2.378906 -0.914062 2.835938 -0.71875 3.453125 -0.71875 C 4.023438 -0.71875 4.484375 -0.90625 4.828125 -1.28125 C 5.015625 -1.507812 5.148438 -1.765625 5.234375 -2.046875 L 6.3125 -2.046875 C 6.289062 -1.804688 6.195312 -1.539062 6.03125 -1.25 C 5.875 -0.957031 5.695312 -0.71875 5.5 -0.53125 C 5.164062 -0.195312 4.75 0.0234375 4.25 0.140625 C 3.988281 0.203125 3.691406 0.234375 3.359375 0.234375 C 2.546875 0.234375 1.851562 -0.0625 1.28125 -0.65625 C 0.71875 -1.25 0.4375 -2.078125 0.4375 -3.140625 C 0.4375 -4.191406 0.722656 -5.046875 1.296875 -5.703125 C 1.867188 -6.359375 2.613281 -6.6875 3.53125 -6.6875 Z M 5.28125 -3.796875 C 5.238281 -4.265625 5.132812 -4.644531 4.96875 -4.9375 C 4.664062 -5.457031 4.160156 -5.71875 3.453125 -5.71875 C 2.953125 -5.71875 2.53125 -5.535156 2.1875 -5.171875 C 1.84375 -4.804688 1.660156 -4.347656 1.640625 -3.796875 Z M 3.421875 -6.703125 Z \"/>\n",
       "</symbol>\n",
       "<symbol overflow=\"visible\" id=\"glyph0-11\">\n",
       "<path style=\"stroke:none;\" d=\"M 1.34375 -6.53125 L 3.09375 -1.21875 L 4.90625 -6.53125 L 6.109375 -6.53125 L 3.65625 0 L 2.484375 0 L 0.0625 -6.53125 Z \"/>\n",
       "</symbol>\n",
       "<symbol overflow=\"visible\" id=\"glyph0-12\">\n",
       "<path style=\"stroke:none;\" d=\"M 1.640625 -1.734375 C 1.640625 -1.421875 1.753906 -1.171875 1.984375 -0.984375 C 2.222656 -0.804688 2.5 -0.71875 2.8125 -0.71875 C 3.207031 -0.71875 3.582031 -0.804688 3.9375 -0.984375 C 4.550781 -1.273438 4.859375 -1.757812 4.859375 -2.4375 L 4.859375 -3.328125 C 4.722656 -3.242188 4.546875 -3.171875 4.328125 -3.109375 C 4.117188 -3.054688 3.914062 -3.015625 3.71875 -2.984375 L 3.046875 -2.90625 C 2.648438 -2.851562 2.351562 -2.769531 2.15625 -2.65625 C 1.8125 -2.46875 1.640625 -2.160156 1.640625 -1.734375 Z M 4.3125 -3.96875 C 4.5625 -4 4.726562 -4.101562 4.8125 -4.28125 C 4.863281 -4.375 4.890625 -4.515625 4.890625 -4.703125 C 4.890625 -5.078125 4.753906 -5.347656 4.484375 -5.515625 C 4.222656 -5.679688 3.84375 -5.765625 3.34375 -5.765625 C 2.769531 -5.765625 2.363281 -5.609375 2.125 -5.296875 C 1.988281 -5.128906 1.898438 -4.878906 1.859375 -4.546875 L 0.84375 -4.546875 C 0.851562 -5.347656 1.109375 -5.90625 1.609375 -6.21875 C 2.117188 -6.539062 2.707031 -6.703125 3.375 -6.703125 C 4.132812 -6.703125 4.757812 -6.550781 5.25 -6.25 C 5.71875 -5.957031 5.953125 -5.503906 5.953125 -4.890625 L 5.953125 -1.125 C 5.953125 -1.007812 5.972656 -0.914062 6.015625 -0.84375 C 6.066406 -0.78125 6.171875 -0.75 6.328125 -0.75 C 6.367188 -0.75 6.421875 -0.75 6.484375 -0.75 C 6.546875 -0.757812 6.613281 -0.769531 6.6875 -0.78125 L 6.6875 0.03125 C 6.507812 0.0820312 6.375 0.113281 6.28125 0.125 C 6.195312 0.132812 6.078125 0.140625 5.921875 0.140625 C 5.546875 0.140625 5.273438 0.00390625 5.109375 -0.265625 C 5.015625 -0.398438 4.945312 -0.597656 4.90625 -0.859375 C 4.6875 -0.566406 4.367188 -0.3125 3.953125 -0.09375 C 3.535156 0.113281 3.070312 0.21875 2.5625 0.21875 C 1.957031 0.21875 1.460938 0.0351562 1.078125 -0.328125 C 0.691406 -0.703125 0.5 -1.164062 0.5 -1.71875 C 0.5 -2.320312 0.6875 -2.789062 1.0625 -3.125 C 1.445312 -3.457031 1.945312 -3.660156 2.5625 -3.734375 Z M 3.40625 -6.703125 Z \"/>\n",
       "</symbol>\n",
       "<symbol overflow=\"visible\" id=\"glyph0-13\">\n",
       "<path style=\"stroke:none;\" d=\"M 0.84375 -8.96875 L 1.9375 -8.96875 L 1.9375 0 L 0.84375 0 Z \"/>\n",
       "</symbol>\n",
       "<symbol overflow=\"visible\" id=\"glyph0-14\">\n",
       "<path style=\"stroke:none;\" d=\"M 0.8125 -6.53125 L 1.84375 -6.53125 L 1.84375 -5.609375 C 2.15625 -5.992188 2.484375 -6.269531 2.828125 -6.4375 C 3.171875 -6.601562 3.554688 -6.6875 3.984375 -6.6875 C 4.910156 -6.6875 5.535156 -6.363281 5.859375 -5.71875 C 6.046875 -5.363281 6.140625 -4.851562 6.140625 -4.1875 L 6.140625 0 L 5.015625 0 L 5.015625 -4.125 C 5.015625 -4.519531 4.957031 -4.835938 4.84375 -5.078125 C 4.644531 -5.484375 4.289062 -5.6875 3.78125 -5.6875 C 3.519531 -5.6875 3.304688 -5.660156 3.140625 -5.609375 C 2.835938 -5.523438 2.570312 -5.347656 2.34375 -5.078125 C 2.15625 -4.859375 2.035156 -4.632812 1.984375 -4.40625 C 1.929688 -4.175781 1.90625 -3.847656 1.90625 -3.421875 L 1.90625 0 L 0.8125 0 Z M 3.390625 -6.703125 Z \"/>\n",
       "</symbol>\n",
       "<symbol overflow=\"visible\" id=\"glyph0-15\">\n",
       "<path style=\"stroke:none;\" d=\"M 3.328125 -6.71875 C 4.066406 -6.71875 4.664062 -6.539062 5.125 -6.1875 C 5.582031 -5.832031 5.859375 -5.21875 5.953125 -4.34375 L 4.890625 -4.34375 C 4.828125 -4.738281 4.675781 -5.070312 4.4375 -5.34375 C 4.207031 -5.613281 3.835938 -5.75 3.328125 -5.75 C 2.628906 -5.75 2.128906 -5.40625 1.828125 -4.71875 C 1.628906 -4.269531 1.53125 -3.722656 1.53125 -3.078125 C 1.53125 -2.421875 1.664062 -1.867188 1.9375 -1.421875 C 2.21875 -0.972656 2.65625 -0.75 3.25 -0.75 C 3.707031 -0.75 4.066406 -0.890625 4.328125 -1.171875 C 4.597656 -1.453125 4.785156 -1.832031 4.890625 -2.3125 L 5.953125 -2.3125 C 5.835938 -1.445312 5.535156 -0.8125 5.046875 -0.40625 C 4.554688 -0.0078125 3.929688 0.1875 3.171875 0.1875 C 2.316406 0.1875 1.632812 -0.125 1.125 -0.75 C 0.613281 -1.375 0.359375 -2.15625 0.359375 -3.09375 C 0.359375 -4.238281 0.632812 -5.128906 1.1875 -5.765625 C 1.75 -6.398438 2.460938 -6.71875 3.328125 -6.71875 Z M 3.15625 -6.703125 Z \"/>\n",
       "</symbol>\n",
       "<symbol overflow=\"visible\" id=\"glyph0-16\">\n",
       "<path style=\"stroke:none;\" d=\"\"/>\n",
       "</symbol>\n",
       "<symbol overflow=\"visible\" id=\"glyph0-17\">\n",
       "<path style=\"stroke:none;\" d=\"M 3.703125 -9.109375 C 3.054688 -7.867188 2.640625 -6.957031 2.453125 -6.375 C 2.160156 -5.476562 2.015625 -4.445312 2.015625 -3.28125 C 2.015625 -2.101562 2.179688 -1.023438 2.515625 -0.046875 C 2.710938 0.554688 3.113281 1.421875 3.71875 2.546875 L 2.984375 2.546875 C 2.390625 1.617188 2.019531 1.023438 1.875 0.765625 C 1.726562 0.515625 1.570312 0.171875 1.40625 -0.265625 C 1.175781 -0.867188 1.019531 -1.515625 0.9375 -2.203125 C 0.882812 -2.554688 0.859375 -2.890625 0.859375 -3.203125 C 0.859375 -4.410156 1.050781 -5.484375 1.4375 -6.421875 C 1.675781 -7.023438 2.175781 -7.921875 2.9375 -9.109375 Z \"/>\n",
       "</symbol>\n",
       "<symbol overflow=\"visible\" id=\"glyph0-18\">\n",
       "<path style=\"stroke:none;\" d=\"M 0.8125 -6.5 L 1.921875 -6.5 L 1.921875 0 L 0.8125 0 Z M 0.8125 -8.96875 L 1.921875 -8.96875 L 1.921875 -7.71875 L 0.8125 -7.71875 Z \"/>\n",
       "</symbol>\n",
       "<symbol overflow=\"visible\" id=\"glyph0-19\">\n",
       "<path style=\"stroke:none;\" d=\"M 3.5625 -0.734375 C 4.070312 -0.734375 4.5 -0.945312 4.84375 -1.375 C 5.1875 -1.8125 5.359375 -2.457031 5.359375 -3.3125 C 5.359375 -3.832031 5.28125 -4.28125 5.125 -4.65625 C 4.84375 -5.375 4.320312 -5.734375 3.5625 -5.734375 C 2.800781 -5.734375 2.28125 -5.351562 2 -4.59375 C 1.851562 -4.1875 1.78125 -3.671875 1.78125 -3.046875 C 1.78125 -2.535156 1.851562 -2.101562 2 -1.75 C 2.28125 -1.070312 2.800781 -0.734375 3.5625 -0.734375 Z M 0.71875 -6.5 L 1.78125 -6.5 L 1.78125 -5.640625 C 2.007812 -5.929688 2.253906 -6.160156 2.515625 -6.328125 C 2.878906 -6.578125 3.3125 -6.703125 3.8125 -6.703125 C 4.550781 -6.703125 5.175781 -6.414062 5.6875 -5.84375 C 6.207031 -5.28125 6.46875 -4.46875 6.46875 -3.40625 C 6.46875 -1.988281 6.097656 -0.972656 5.359375 -0.359375 C 4.890625 0.0234375 4.34375 0.21875 3.71875 0.21875 C 3.21875 0.21875 2.800781 0.109375 2.46875 -0.109375 C 2.269531 -0.222656 2.050781 -0.429688 1.8125 -0.734375 L 1.8125 2.609375 L 0.71875 2.609375 Z \"/>\n",
       "</symbol>\n",
       "<symbol overflow=\"visible\" id=\"glyph0-20\">\n",
       "<path style=\"stroke:none;\" d=\"M 3.40625 -0.703125 C 4.132812 -0.703125 4.628906 -0.976562 4.890625 -1.53125 C 5.160156 -2.082031 5.296875 -2.695312 5.296875 -3.375 C 5.296875 -3.988281 5.203125 -4.484375 5.015625 -4.859375 C 4.703125 -5.460938 4.164062 -5.765625 3.40625 -5.765625 C 2.738281 -5.765625 2.25 -5.507812 1.9375 -5 C 1.632812 -4.488281 1.484375 -3.867188 1.484375 -3.140625 C 1.484375 -2.441406 1.632812 -1.859375 1.9375 -1.390625 C 2.25 -0.929688 2.738281 -0.703125 3.40625 -0.703125 Z M 3.4375 -6.71875 C 4.28125 -6.71875 4.992188 -6.4375 5.578125 -5.875 C 6.160156 -5.320312 6.453125 -4.5 6.453125 -3.40625 C 6.453125 -2.351562 6.191406 -1.484375 5.671875 -0.796875 C 5.160156 -0.109375 4.367188 0.234375 3.296875 0.234375 C 2.398438 0.234375 1.6875 -0.0664062 1.15625 -0.671875 C 0.625 -1.285156 0.359375 -2.101562 0.359375 -3.125 C 0.359375 -4.21875 0.632812 -5.085938 1.1875 -5.734375 C 1.75 -6.390625 2.5 -6.71875 3.4375 -6.71875 Z M 3.40625 -6.703125 Z \"/>\n",
       "</symbol>\n",
       "<symbol overflow=\"visible\" id=\"glyph0-21\">\n",
       "<path style=\"stroke:none;\" d=\"M 0.4375 2.546875 C 1.082031 1.285156 1.5 0.367188 1.6875 -0.203125 C 1.96875 -1.078125 2.109375 -2.101562 2.109375 -3.28125 C 2.109375 -4.457031 1.945312 -5.535156 1.625 -6.515625 C 1.414062 -7.117188 1.015625 -7.984375 0.421875 -9.109375 L 1.15625 -9.109375 C 1.78125 -8.109375 2.15625 -7.488281 2.28125 -7.25 C 2.414062 -7.019531 2.5625 -6.703125 2.71875 -6.296875 C 2.914062 -5.785156 3.054688 -5.28125 3.140625 -4.78125 C 3.222656 -4.289062 3.265625 -3.8125 3.265625 -3.34375 C 3.265625 -2.144531 3.070312 -1.070312 2.6875 -0.125 C 2.445312 0.476562 1.953125 1.367188 1.203125 2.546875 Z \"/>\n",
       "</symbol>\n",
       "<symbol overflow=\"visible\" id=\"glyph0-22\">\n",
       "<path style=\"stroke:none;\" d=\"M 1.453125 -2.046875 C 1.484375 -1.679688 1.578125 -1.398438 1.734375 -1.203125 C 2.015625 -0.847656 2.492188 -0.671875 3.171875 -0.671875 C 3.578125 -0.671875 3.9375 -0.757812 4.25 -0.9375 C 4.5625 -1.113281 4.71875 -1.390625 4.71875 -1.765625 C 4.71875 -2.046875 4.59375 -2.257812 4.34375 -2.40625 C 4.1875 -2.5 3.875 -2.601562 3.40625 -2.71875 L 2.53125 -2.9375 C 1.96875 -3.070312 1.554688 -3.226562 1.296875 -3.40625 C 0.828125 -3.695312 0.59375 -4.101562 0.59375 -4.625 C 0.59375 -5.25 0.8125 -5.75 1.25 -6.125 C 1.695312 -6.507812 2.296875 -6.703125 3.046875 -6.703125 C 4.035156 -6.703125 4.75 -6.414062 5.1875 -5.84375 C 5.457031 -5.476562 5.585938 -5.082031 5.578125 -4.65625 L 4.546875 -4.65625 C 4.523438 -4.90625 4.4375 -5.128906 4.28125 -5.328125 C 4.03125 -5.617188 3.59375 -5.765625 2.96875 -5.765625 C 2.550781 -5.765625 2.234375 -5.6875 2.015625 -5.53125 C 1.804688 -5.375 1.703125 -5.164062 1.703125 -4.90625 C 1.703125 -4.613281 1.84375 -4.382812 2.125 -4.21875 C 2.289062 -4.113281 2.53125 -4.023438 2.84375 -3.953125 L 3.578125 -3.765625 C 4.359375 -3.578125 4.882812 -3.394531 5.15625 -3.21875 C 5.582031 -2.9375 5.796875 -2.492188 5.796875 -1.890625 C 5.796875 -1.304688 5.570312 -0.800781 5.125 -0.375 C 4.6875 0.0390625 4.019531 0.25 3.125 0.25 C 2.144531 0.25 1.453125 0.03125 1.046875 -0.40625 C 0.648438 -0.851562 0.4375 -1.398438 0.40625 -2.046875 Z M 3.078125 -6.703125 Z \"/>\n",
       "</symbol>\n",
       "<symbol overflow=\"visible\" id=\"glyph1-0\">\n",
       "<path style=\"stroke:none;\" d=\"M 0 -0.40625 L -8.96875 -0.40625 L -8.96875 -7.515625 L 0 -7.515625 Z M -1.125 -6.390625 L -7.84375 -6.390625 L -7.84375 -1.53125 L -1.125 -1.53125 Z \"/>\n",
       "</symbol>\n",
       "<symbol overflow=\"visible\" id=\"glyph1-1\">\n",
       "<path style=\"stroke:none;\" d=\"M -8.734375 -3.375 C -8.734375 -4.507812 -8.269531 -5.328125 -7.34375 -5.828125 C -6.625 -6.222656 -5.632812 -6.421875 -4.375 -6.421875 C -3.1875 -6.421875 -2.207031 -6.242188 -1.4375 -5.890625 C -0.320312 -5.378906 0.234375 -4.539062 0.234375 -3.375 C 0.234375 -2.320312 -0.21875 -1.539062 -1.125 -1.03125 C -1.882812 -0.601562 -2.90625 -0.390625 -4.1875 -0.390625 C -5.1875 -0.390625 -6.039062 -0.519531 -6.75 -0.78125 C -8.070312 -1.257812 -8.734375 -2.125 -8.734375 -3.375 Z M -0.765625 -3.375 C -0.765625 -3.9375 -1.015625 -4.382812 -1.515625 -4.71875 C -2.023438 -5.0625 -2.96875 -5.234375 -4.34375 -5.234375 C -5.332031 -5.234375 -6.144531 -5.109375 -6.78125 -4.859375 C -7.425781 -4.617188 -7.75 -4.148438 -7.75 -3.453125 C -7.75 -2.804688 -7.441406 -2.332031 -6.828125 -2.03125 C -6.222656 -1.726562 -5.332031 -1.578125 -4.15625 -1.578125 C -3.257812 -1.578125 -2.539062 -1.675781 -2 -1.875 C -1.175781 -2.164062 -0.765625 -2.664062 -0.765625 -3.375 Z \"/>\n",
       "</symbol>\n",
       "<symbol overflow=\"visible\" id=\"glyph1-2\">\n",
       "<path style=\"stroke:none;\" d=\"M -1.328125 -1.0625 L -1.328125 -2.34375 L 0 -2.34375 L 0 -1.0625 Z \"/>\n",
       "</symbol>\n",
       "<symbol overflow=\"visible\" id=\"glyph1-3\">\n",
       "<path style=\"stroke:none;\" d=\"M -6.1875 -1.203125 L -7.03125 -1.203125 C -7.101562 -1.992188 -7.226562 -2.546875 -7.40625 -2.859375 C -7.59375 -3.171875 -8.023438 -3.40625 -8.703125 -3.5625 L -8.703125 -4.421875 L 0 -4.421875 L 0 -3.25 L -6.1875 -3.25 Z \"/>\n",
       "</symbol>\n",
       "<symbol overflow=\"visible\" id=\"glyph1-4\">\n",
       "<path style=\"stroke:none;\" d=\"M 0 -0.390625 C -0.75 -0.429688 -1.398438 -0.585938 -1.953125 -0.859375 C -2.515625 -1.128906 -3.023438 -1.65625 -3.484375 -2.4375 L -4.15625 -3.609375 C -4.46875 -4.140625 -4.726562 -4.507812 -4.9375 -4.71875 C -5.28125 -5.050781 -5.671875 -5.21875 -6.109375 -5.21875 C -6.609375 -5.21875 -7.007812 -5.0625 -7.3125 -4.75 C -7.613281 -4.445312 -7.765625 -4.046875 -7.765625 -3.546875 C -7.765625 -2.785156 -7.476562 -2.265625 -6.90625 -1.984375 C -6.601562 -1.828125 -6.179688 -1.738281 -5.640625 -1.71875 L -5.640625 -0.609375 C -6.398438 -0.617188 -7.019531 -0.757812 -7.5 -1.03125 C -8.34375 -1.5 -8.765625 -2.335938 -8.765625 -3.546875 C -8.765625 -4.546875 -8.492188 -5.273438 -7.953125 -5.734375 C -7.410156 -6.203125 -6.8125 -6.4375 -6.15625 -6.4375 C -5.457031 -6.4375 -4.859375 -6.1875 -4.359375 -5.6875 C -4.066406 -5.40625 -3.71875 -4.894531 -3.3125 -4.15625 L -2.84375 -3.328125 C -2.625 -2.929688 -2.414062 -2.617188 -2.21875 -2.390625 C -1.863281 -1.984375 -1.46875 -1.726562 -1.03125 -1.625 L -1.03125 -6.390625 L 0 -6.390625 Z \"/>\n",
       "</symbol>\n",
       "<symbol overflow=\"visible\" id=\"glyph1-5\">\n",
       "<path style=\"stroke:none;\" d=\"M 0.234375 -3.25 C 0.234375 -2.21875 -0.046875 -1.46875 -0.609375 -1 C -1.179688 -0.53125 -1.875 -0.296875 -2.6875 -0.296875 L -2.6875 -1.453125 C -2.125 -1.492188 -1.710938 -1.597656 -1.453125 -1.765625 C -0.992188 -2.046875 -0.765625 -2.5625 -0.765625 -3.3125 C -0.765625 -3.882812 -0.914062 -4.34375 -1.21875 -4.6875 C -1.53125 -5.039062 -1.929688 -5.21875 -2.421875 -5.21875 C -3.023438 -5.21875 -3.445312 -5.035156 -3.6875 -4.671875 C -3.925781 -4.304688 -4.046875 -3.796875 -4.046875 -3.140625 C -4.046875 -3.066406 -4.046875 -2.988281 -4.046875 -2.90625 C -4.046875 -2.832031 -4.039062 -2.757812 -4.03125 -2.6875 L -5 -2.6875 C -4.988281 -2.800781 -4.976562 -2.894531 -4.96875 -2.96875 C -4.96875 -3.050781 -4.96875 -3.132812 -4.96875 -3.21875 C -4.96875 -3.632812 -5.035156 -3.972656 -5.171875 -4.234375 C -5.398438 -4.703125 -5.804688 -4.9375 -6.390625 -4.9375 C -6.828125 -4.9375 -7.160156 -4.78125 -7.390625 -4.46875 C -7.628906 -4.15625 -7.75 -3.796875 -7.75 -3.390625 C -7.75 -2.648438 -7.503906 -2.144531 -7.015625 -1.875 C -6.742188 -1.71875 -6.363281 -1.628906 -5.875 -1.609375 L -5.875 -0.515625 C -6.519531 -0.515625 -7.070312 -0.644531 -7.53125 -0.90625 C -8.34375 -1.351562 -8.75 -2.140625 -8.75 -3.265625 C -8.75 -4.160156 -8.550781 -4.851562 -8.15625 -5.34375 C -7.757812 -5.832031 -7.1875 -6.078125 -6.4375 -6.078125 C -5.894531 -6.078125 -5.457031 -5.929688 -5.125 -5.640625 C -4.914062 -5.460938 -4.753906 -5.226562 -4.640625 -4.9375 C -4.515625 -5.40625 -4.269531 -5.765625 -3.90625 -6.015625 C -3.550781 -6.273438 -3.113281 -6.40625 -2.59375 -6.40625 C -1.757812 -6.40625 -1.078125 -6.128906 -0.546875 -5.578125 C -0.0234375 -5.035156 0.234375 -4.257812 0.234375 -3.25 Z \"/>\n",
       "</symbol>\n",
       "</g>\n",
       "<clipPath id=\"clip1\">\n",
       "  <path d=\"M 65 59.039062 L 187 59.039062 L 187 210 L 65 210 Z \"/>\n",
       "</clipPath>\n",
       "<clipPath id=\"clip2\">\n",
       "  <path d=\"M 65 59.039062 L 218 59.039062 L 218 210 L 65 210 Z \"/>\n",
       "</clipPath>\n",
       "<clipPath id=\"clip3\">\n",
       "  <path d=\"M 59.039062 165 L 258.757812 165 L 258.757812 167 L 59.039062 167 Z \"/>\n",
       "</clipPath>\n",
       "<clipPath id=\"clip4\">\n",
       "  <path d=\"M 59.039062 178 L 258.757812 178 L 258.757812 180 L 59.039062 180 Z \"/>\n",
       "</clipPath>\n",
       "<clipPath id=\"clip5\">\n",
       "  <path d=\"M 205 59.039062 L 207 59.039062 L 207 215.558594 L 205 215.558594 Z \"/>\n",
       "</clipPath>\n",
       "<clipPath id=\"clip6\">\n",
       "  <path d=\"M 158 184 L 196 184 L 196 215.558594 L 158 215.558594 Z \"/>\n",
       "</clipPath>\n",
       "<clipPath id=\"clip7\">\n",
       "  <path d=\"M 180 206 L 207 206 L 207 215.558594 L 180 215.558594 Z \"/>\n",
       "</clipPath>\n",
       "</defs>\n",
       "<g id=\"surface714\">\n",
       "<rect x=\"0\" y=\"0\" width=\"288\" height=\"288\" style=\"fill:rgb(100%,100%,100%);fill-opacity:1;stroke:none;\"/>\n",
       "<path style=\"fill:none;stroke-width:1;stroke-linecap:round;stroke-linejoin:round;stroke:rgb(0%,0%,0%);stroke-opacity:1;stroke-miterlimit:10;\" d=\"M 66.398438 208.683594 L 76.085938 203.097656 L 85.769531 198.222656 L 95.453125 193.933594 L 105.136719 190.128906 L 114.820312 186.730469 L 124.503906 183.679688 L 134.191406 180.921875 L 143.875 178.421875 L 153.558594 176.140625 L 163.242188 174.050781 L 172.925781 172.128906 L 182.609375 170.359375 L 192.292969 168.722656 L 201.980469 167.203125 L 211.664062 165.789062 L 221.347656 164.472656 L 231.03125 163.238281 L 240.714844 162.085938 L 250.398438 161 \"/>\n",
       "<path style=\"fill:none;stroke-width:1;stroke-linecap:round;stroke-linejoin:round;stroke:rgb(0%,0%,0%);stroke-opacity:1;stroke-miterlimit:10;\" d=\"M 66.214844 214.558594 L 252.261719 214.558594 \"/>\n",
       "<path style=\"fill:none;stroke-width:1;stroke-linecap:round;stroke-linejoin:round;stroke:rgb(0%,0%,0%);stroke-opacity:1;stroke-miterlimit:10;\" d=\"M 66.214844 214.558594 L 66.214844 221.761719 \"/>\n",
       "<path style=\"fill:none;stroke-width:1;stroke-linecap:round;stroke-linejoin:round;stroke:rgb(0%,0%,0%);stroke-opacity:1;stroke-miterlimit:10;\" d=\"M 103.421875 214.558594 L 103.421875 221.761719 \"/>\n",
       "<path style=\"fill:none;stroke-width:1;stroke-linecap:round;stroke-linejoin:round;stroke:rgb(0%,0%,0%);stroke-opacity:1;stroke-miterlimit:10;\" d=\"M 140.632812 214.558594 L 140.632812 221.761719 \"/>\n",
       "<path style=\"fill:none;stroke-width:1;stroke-linecap:round;stroke-linejoin:round;stroke:rgb(0%,0%,0%);stroke-opacity:1;stroke-miterlimit:10;\" d=\"M 177.84375 214.558594 L 177.84375 221.761719 \"/>\n",
       "<path style=\"fill:none;stroke-width:1;stroke-linecap:round;stroke-linejoin:round;stroke:rgb(0%,0%,0%);stroke-opacity:1;stroke-miterlimit:10;\" d=\"M 215.050781 214.558594 L 215.050781 221.761719 \"/>\n",
       "<path style=\"fill:none;stroke-width:1;stroke-linecap:round;stroke-linejoin:round;stroke:rgb(0%,0%,0%);stroke-opacity:1;stroke-miterlimit:10;\" d=\"M 252.261719 214.558594 L 252.261719 221.761719 \"/>\n",
       "<g style=\"fill:rgb(0%,0%,0%);fill-opacity:1;\">\n",
       "  <use xlink:href=\"#glyph0-1\" x=\"57.527344\" y=\"241.921875\"/>\n",
       "  <use xlink:href=\"#glyph0-2\" x=\"64.479248\" y=\"241.921875\"/>\n",
       "  <use xlink:href=\"#glyph0-1\" x=\"67.952148\" y=\"241.921875\"/>\n",
       "</g>\n",
       "<g style=\"fill:rgb(0%,0%,0%);fill-opacity:1;\">\n",
       "  <use xlink:href=\"#glyph0-1\" x=\"94.734375\" y=\"241.921875\"/>\n",
       "  <use xlink:href=\"#glyph0-2\" x=\"101.686279\" y=\"241.921875\"/>\n",
       "  <use xlink:href=\"#glyph0-3\" x=\"105.15918\" y=\"241.921875\"/>\n",
       "</g>\n",
       "<g style=\"fill:rgb(0%,0%,0%);fill-opacity:1;\">\n",
       "  <use xlink:href=\"#glyph0-1\" x=\"131.945312\" y=\"241.921875\"/>\n",
       "  <use xlink:href=\"#glyph0-2\" x=\"138.897217\" y=\"241.921875\"/>\n",
       "  <use xlink:href=\"#glyph0-4\" x=\"142.370117\" y=\"241.921875\"/>\n",
       "</g>\n",
       "<g style=\"fill:rgb(0%,0%,0%);fill-opacity:1;\">\n",
       "  <use xlink:href=\"#glyph0-1\" x=\"169.15625\" y=\"241.921875\"/>\n",
       "  <use xlink:href=\"#glyph0-2\" x=\"176.108154\" y=\"241.921875\"/>\n",
       "  <use xlink:href=\"#glyph0-5\" x=\"179.581055\" y=\"241.921875\"/>\n",
       "</g>\n",
       "<g style=\"fill:rgb(0%,0%,0%);fill-opacity:1;\">\n",
       "  <use xlink:href=\"#glyph0-1\" x=\"206.363281\" y=\"241.921875\"/>\n",
       "  <use xlink:href=\"#glyph0-2\" x=\"213.315186\" y=\"241.921875\"/>\n",
       "  <use xlink:href=\"#glyph0-6\" x=\"216.788086\" y=\"241.921875\"/>\n",
       "</g>\n",
       "<g style=\"fill:rgb(0%,0%,0%);fill-opacity:1;\">\n",
       "  <use xlink:href=\"#glyph0-7\" x=\"243.574219\" y=\"241.921875\"/>\n",
       "  <use xlink:href=\"#glyph0-2\" x=\"250.526123\" y=\"241.921875\"/>\n",
       "  <use xlink:href=\"#glyph0-1\" x=\"253.999023\" y=\"241.921875\"/>\n",
       "</g>\n",
       "<path style=\"fill:none;stroke-width:1;stroke-linecap:round;stroke-linejoin:round;stroke:rgb(0%,0%,0%);stroke-opacity:1;stroke-miterlimit:10;\" d=\"M 59.039062 208.800781 L 59.039062 64.800781 \"/>\n",
       "<path style=\"fill:none;stroke-width:1;stroke-linecap:round;stroke-linejoin:round;stroke:rgb(0%,0%,0%);stroke-opacity:1;stroke-miterlimit:10;\" d=\"M 59.039062 208.800781 L 51.839844 208.800781 \"/>\n",
       "<path style=\"fill:none;stroke-width:1;stroke-linecap:round;stroke-linejoin:round;stroke:rgb(0%,0%,0%);stroke-opacity:1;stroke-miterlimit:10;\" d=\"M 59.039062 184.800781 L 51.839844 184.800781 \"/>\n",
       "<path style=\"fill:none;stroke-width:1;stroke-linecap:round;stroke-linejoin:round;stroke:rgb(0%,0%,0%);stroke-opacity:1;stroke-miterlimit:10;\" d=\"M 59.039062 160.800781 L 51.839844 160.800781 \"/>\n",
       "<path style=\"fill:none;stroke-width:1;stroke-linecap:round;stroke-linejoin:round;stroke:rgb(0%,0%,0%);stroke-opacity:1;stroke-miterlimit:10;\" d=\"M 59.039062 136.800781 L 51.839844 136.800781 \"/>\n",
       "<path style=\"fill:none;stroke-width:1;stroke-linecap:round;stroke-linejoin:round;stroke:rgb(0%,0%,0%);stroke-opacity:1;stroke-miterlimit:10;\" d=\"M 59.039062 112.800781 L 51.839844 112.800781 \"/>\n",
       "<path style=\"fill:none;stroke-width:1;stroke-linecap:round;stroke-linejoin:round;stroke:rgb(0%,0%,0%);stroke-opacity:1;stroke-miterlimit:10;\" d=\"M 59.039062 88.800781 L 51.839844 88.800781 \"/>\n",
       "<path style=\"fill:none;stroke-width:1;stroke-linecap:round;stroke-linejoin:round;stroke:rgb(0%,0%,0%);stroke-opacity:1;stroke-miterlimit:10;\" d=\"M 59.039062 64.800781 L 51.839844 64.800781 \"/>\n",
       "<g style=\"fill:rgb(0%,0%,0%);fill-opacity:1;\">\n",
       "  <use xlink:href=\"#glyph1-1\" x=\"43.199219\" y=\"217.488281\"/>\n",
       "  <use xlink:href=\"#glyph1-2\" x=\"43.199219\" y=\"210.536377\"/>\n",
       "  <use xlink:href=\"#glyph1-1\" x=\"43.199219\" y=\"207.063477\"/>\n",
       "</g>\n",
       "<g style=\"fill:rgb(0%,0%,0%);fill-opacity:1;\">\n",
       "  <use xlink:href=\"#glyph1-3\" x=\"43.199219\" y=\"169.488281\"/>\n",
       "  <use xlink:href=\"#glyph1-2\" x=\"43.199219\" y=\"162.536377\"/>\n",
       "  <use xlink:href=\"#glyph1-1\" x=\"43.199219\" y=\"159.063477\"/>\n",
       "</g>\n",
       "<g style=\"fill:rgb(0%,0%,0%);fill-opacity:1;\">\n",
       "  <use xlink:href=\"#glyph1-4\" x=\"43.199219\" y=\"121.488281\"/>\n",
       "  <use xlink:href=\"#glyph1-2\" x=\"43.199219\" y=\"114.536377\"/>\n",
       "  <use xlink:href=\"#glyph1-1\" x=\"43.199219\" y=\"111.063477\"/>\n",
       "</g>\n",
       "<g style=\"fill:rgb(0%,0%,0%);fill-opacity:1;\">\n",
       "  <use xlink:href=\"#glyph1-5\" x=\"43.199219\" y=\"73.488281\"/>\n",
       "  <use xlink:href=\"#glyph1-2\" x=\"43.199219\" y=\"66.536377\"/>\n",
       "  <use xlink:href=\"#glyph1-1\" x=\"43.199219\" y=\"63.063477\"/>\n",
       "</g>\n",
       "<path style=\"fill:none;stroke-width:1;stroke-linecap:round;stroke-linejoin:round;stroke:rgb(0%,0%,0%);stroke-opacity:1;stroke-miterlimit:10;\" d=\"M 59.039062 214.558594 L 257.761719 214.558594 L 257.761719 59.039062 L 59.039062 59.039062 L 59.039062 214.558594 \"/>\n",
       "<g style=\"fill:rgb(0%,0%,0%);fill-opacity:1;\">\n",
       "  <use xlink:href=\"#glyph0-8\" x=\"98.652344\" y=\"270.71875\"/>\n",
       "  <use xlink:href=\"#glyph0-9\" x=\"106.989746\" y=\"270.71875\"/>\n",
       "  <use xlink:href=\"#glyph0-10\" x=\"111.152344\" y=\"270.71875\"/>\n",
       "  <use xlink:href=\"#glyph0-11\" x=\"118.104248\" y=\"270.71875\"/>\n",
       "  <use xlink:href=\"#glyph0-12\" x=\"124.354248\" y=\"270.71875\"/>\n",
       "  <use xlink:href=\"#glyph0-13\" x=\"131.306152\" y=\"270.71875\"/>\n",
       "  <use xlink:href=\"#glyph0-10\" x=\"134.083252\" y=\"270.71875\"/>\n",
       "  <use xlink:href=\"#glyph0-14\" x=\"141.035156\" y=\"270.71875\"/>\n",
       "  <use xlink:href=\"#glyph0-15\" x=\"147.987061\" y=\"270.71875\"/>\n",
       "  <use xlink:href=\"#glyph0-10\" x=\"154.237061\" y=\"270.71875\"/>\n",
       "  <use xlink:href=\"#glyph0-16\" x=\"161.188965\" y=\"270.71875\"/>\n",
       "  <use xlink:href=\"#glyph0-17\" x=\"164.661865\" y=\"270.71875\"/>\n",
       "  <use xlink:href=\"#glyph0-18\" x=\"168.824463\" y=\"270.71875\"/>\n",
       "  <use xlink:href=\"#glyph0-2\" x=\"171.601562\" y=\"270.71875\"/>\n",
       "  <use xlink:href=\"#glyph0-10\" x=\"175.074463\" y=\"270.71875\"/>\n",
       "  <use xlink:href=\"#glyph0-2\" x=\"182.026367\" y=\"270.71875\"/>\n",
       "  <use xlink:href=\"#glyph0-16\" x=\"185.499268\" y=\"270.71875\"/>\n",
       "  <use xlink:href=\"#glyph0-19\" x=\"188.972168\" y=\"270.71875\"/>\n",
       "  <use xlink:href=\"#glyph0-9\" x=\"195.924072\" y=\"270.71875\"/>\n",
       "  <use xlink:href=\"#glyph0-18\" x=\"200.08667\" y=\"270.71875\"/>\n",
       "  <use xlink:href=\"#glyph0-20\" x=\"202.86377\" y=\"270.71875\"/>\n",
       "  <use xlink:href=\"#glyph0-9\" x=\"209.815674\" y=\"270.71875\"/>\n",
       "  <use xlink:href=\"#glyph0-21\" x=\"213.978271\" y=\"270.71875\"/>\n",
       "</g>\n",
       "<path style=\"fill:none;stroke-width:1;stroke-linecap:round;stroke-linejoin:round;stroke:rgb(100%,0%,0%);stroke-opacity:1;stroke-miterlimit:10;\" d=\"M 66.398438 160.808594 L 76.085938 161.242188 L 85.769531 161.722656 L 95.453125 162.246094 L 105.136719 162.828125 L 114.820312 163.472656 L 124.503906 164.191406 L 134.191406 165.003906 L 143.875 165.921875 L 153.558594 166.96875 L 163.242188 168.179688 L 172.925781 169.589844 L 182.609375 171.257812 L 192.292969 173.253906 L 201.980469 175.695312 L 211.664062 178.746094 L 221.347656 182.660156 L 231.03125 187.875 L 240.714844 195.160156 L 250.398438 206.058594 \"/>\n",
       "<g clip-path=\"url(#clip1)\" clip-rule=\"nonzero\">\n",
       "<path style=\"fill:none;stroke-width:1;stroke-linecap:round;stroke-linejoin:round;stroke:rgb(0%,0%,100%);stroke-opacity:1;stroke-miterlimit:10;\" d=\"M 66.398438 208.683594 L 76.085938 202.328125 L 85.769531 195.234375 L 95.453125 187.261719 L 105.136719 178.242188 L 114.820312 167.953125 L 124.503906 156.101562 L 134.191406 142.304688 L 143.875 126.042969 L 153.558594 106.589844 L 163.242188 82.90625 L 172.925781 53.441406 L 182.609375 15.78125 L 185.675781 0 \"/>\n",
       "</g>\n",
       "<g clip-path=\"url(#clip2)\" clip-rule=\"nonzero\">\n",
       "<path style=\"fill:none;stroke-width:1;stroke-linecap:round;stroke-linejoin:round;stroke:rgb(0%,100%,0%);stroke-opacity:1;stroke-miterlimit:10;\" d=\"M 66.398438 208.75 L 76.085938 206.109375 L 85.769531 203.164062 L 95.453125 199.851562 L 105.136719 196.101562 L 114.820312 191.824219 L 124.503906 186.898438 L 134.191406 181.164062 L 143.875 174.40625 L 153.558594 166.324219 L 163.242188 156.480469 L 172.925781 144.234375 L 182.609375 128.585938 L 192.292969 107.878906 L 201.980469 79.195312 L 211.664062 36.828125 L 216.839844 0 \"/>\n",
       "</g>\n",
       "<path style=\"fill:none;stroke-width:1;stroke-linecap:round;stroke-linejoin:round;stroke:rgb(100%,75.294118%,79.607843%);stroke-opacity:1;stroke-miterlimit:10;\" d=\"M 66.398438 93.300781 L 250.398438 93.300781 \"/>\n",
       "<g clip-path=\"url(#clip3)\" clip-rule=\"nonzero\">\n",
       "<path style=\"fill:none;stroke-width:1;stroke-linecap:round;stroke-linejoin:round;stroke:rgb(0%,0%,0%);stroke-opacity:1;stroke-dasharray:4,4;stroke-miterlimit:10;\" d=\"M 59.039062 165.824219 L 257.761719 165.824219 \"/>\n",
       "</g>\n",
       "<g clip-path=\"url(#clip4)\" clip-rule=\"nonzero\">\n",
       "<path style=\"fill:none;stroke-width:1;stroke-linecap:round;stroke-linejoin:round;stroke:rgb(100%,0%,0%);stroke-opacity:1;stroke-dasharray:4,4;stroke-miterlimit:10;\" d=\"M 59.039062 178.660156 L 257.761719 178.660156 \"/>\n",
       "</g>\n",
       "<g clip-path=\"url(#clip5)\" clip-rule=\"nonzero\">\n",
       "<path style=\"fill:none;stroke-width:1;stroke-linecap:round;stroke-linejoin:round;stroke:rgb(0%,100%,0%);stroke-opacity:1;stroke-dasharray:4,4;stroke-miterlimit:10;\" d=\"M 205.75 214.558594 L 205.75 59.039062 \"/>\n",
       "</g>\n",
       "<g clip-path=\"url(#clip6)\" clip-rule=\"nonzero\">\n",
       "<path style=\"fill:none;stroke-width:1;stroke-linecap:round;stroke-linejoin:round;stroke:rgb(0%,0%,0%);stroke-opacity:1;stroke-miterlimit:10;\" d=\"M 159.238281 184.800781 L 194.667969 184.800781 L 194.667969 214.941406 L 159.238281 214.941406 Z \"/>\n",
       "</g>\n",
       "<path style=\"fill:none;stroke-width:1;stroke-linecap:round;stroke-linejoin:round;stroke:rgb(0%,0%,0%);stroke-opacity:1;stroke-miterlimit:10;\" d=\"M 164.414062 190.828125 L 174.761719 190.828125 \"/>\n",
       "<path style=\"fill:none;stroke-width:1;stroke-linecap:round;stroke-linejoin:round;stroke:rgb(100%,0%,0%);stroke-opacity:1;stroke-miterlimit:10;\" d=\"M 164.414062 196.855469 L 174.761719 196.855469 \"/>\n",
       "<path style=\"fill:none;stroke-width:1;stroke-linecap:round;stroke-linejoin:round;stroke:rgb(0%,0%,0%);stroke-opacity:1;stroke-dasharray:4,4;stroke-miterlimit:10;\" d=\"M 164.414062 202.882812 L 174.761719 202.882812 \"/>\n",
       "<path style=\"fill:none;stroke-width:1;stroke-linecap:round;stroke-linejoin:round;stroke:rgb(100%,0%,0%);stroke-opacity:1;stroke-dasharray:4,4;stroke-miterlimit:10;\" d=\"M 164.414062 208.910156 L 174.761719 208.910156 \"/>\n",
       "<g style=\"fill:rgb(0%,0%,0%);fill-opacity:1;\">\n",
       "  <use xlink:href=\"#glyph0-19\" x=\"179.9375\" y=\"195.3125\"/>\n",
       "  <use xlink:href=\"#glyph0-19\" x=\"186.889404\" y=\"195.3125\"/>\n",
       "  <use xlink:href=\"#glyph0-11\" x=\"193.841309\" y=\"195.3125\"/>\n",
       "</g>\n",
       "<g style=\"fill:rgb(0%,0%,0%);fill-opacity:1;\">\n",
       "  <use xlink:href=\"#glyph0-14\" x=\"179.9375\" y=\"201.339844\"/>\n",
       "  <use xlink:href=\"#glyph0-19\" x=\"186.889404\" y=\"201.339844\"/>\n",
       "  <use xlink:href=\"#glyph0-11\" x=\"193.841309\" y=\"201.339844\"/>\n",
       "</g>\n",
       "<g style=\"fill:rgb(0%,0%,0%);fill-opacity:1;\">\n",
       "  <use xlink:href=\"#glyph0-22\" x=\"179.9375\" y=\"207.367188\"/>\n",
       "  <use xlink:href=\"#glyph0-10\" x=\"186.1875\" y=\"207.367188\"/>\n",
       "  <use xlink:href=\"#glyph0-14\" x=\"193.139404\" y=\"207.367188\"/>\n",
       "  <use xlink:href=\"#glyph0-22\" x=\"200.091309\" y=\"207.367188\"/>\n",
       "</g>\n",
       "<g clip-path=\"url(#clip7)\" clip-rule=\"nonzero\">\n",
       "<g style=\"fill:rgb(0%,0%,0%);fill-opacity:1;\">\n",
       "  <use xlink:href=\"#glyph0-22\" x=\"179.9375\" y=\"213.394531\"/>\n",
       "  <use xlink:href=\"#glyph0-19\" x=\"186.1875\" y=\"213.394531\"/>\n",
       "  <use xlink:href=\"#glyph0-10\" x=\"193.139404\" y=\"213.394531\"/>\n",
       "  <use xlink:href=\"#glyph0-15\" x=\"200.091309\" y=\"213.394531\"/>\n",
       "</g>\n",
       "</g>\n",
       "</g>\n",
       "</svg>\n"
      ],
      "text/plain": [
       "plot without title"
      ]
     },
     "metadata": {
      "image/svg+xml": {
       "isolated": true
      }
     },
     "output_type": "display_data"
    }
   ],
   "source": [
    "# https://artax.karlin.mff.cuni.cz/r-help/library/caret/html/sensitivity.html\n",
    "prev <- seq(0.001, .99, length = 20)\n",
    "npvVals <- ppvVals <- posOdds <- posOddsn <- priorOdds <- prev * NA\n",
    "for(i in seq(along = prev))\n",
    "  {\n",
    "    ppvVals[i] <- posPredValue(pred, truth, prevalence = prev[i])\n",
    "    npvVals[i] <- negPredValue(pred, truth, prevalence = prev[i])\n",
    "    posOdds[i] <- ppvVals[i] / (1 - ppvVals[i])\n",
    "    posOddsn[i] <- npvVals[i] / (1 - npvVals[i])\n",
    "    priorOdds[i] <- prev[i] / (1 - prev[i])\n",
    "  }\n",
    "\n",
    "plot(prev, ppvVals,\n",
    "     ylim = c(0, 3),\n",
    "     type = \"l\",\n",
    "     ylab = \"\",\n",
    "     xlab = \"Prevalence (i.e. prior)\")\n",
    "points(prev, npvVals, type = \"l\", col = \"red\")\n",
    "points(prev, posOdds, type = \"l\", col = \"blue\")\n",
    "#points(prev, posOddsn, type = \"l\", col = \"blue\")\n",
    "points(prev, priorOdds, type = \"l\", col = \"green\")\n",
    "#points(prev, 1 / priorOdds, type = \"l\", col = \"green\")\n",
    "points(prev, posOdds / priorOdds, type = \"l\", col = \"pink\")\n",
    "abline(h=sensitivity(pred, truth), lty = 2)\n",
    "abline(h=specificity(pred, truth), lty = 2, col = \"red\")\n",
    "abline(v=0.75, lty = 2, col=\"green\")\n",
    "legend(.5, .5,\n",
    "       c(\"ppv\", \"npv\", \"sens\", \"spec\"),\n",
    "       col = c(\"black\", \"red\", \"black\", \"red\"),\n",
    "       lty = c(1, 1, 2, 2))"
   ]
  },
  {
   "cell_type": "markdown",
   "metadata": {
    "deletable": true,
    "editable": true
   },
   "source": [
    "Although the likelyhood ratio is constant. It is clear that the prior and posterior odds vary with prevalence. Thus if prevalence is very small, the PPV and thus the odds are small. This means that positive results are less reliable at low prevalence than at high prevalence. The contrary happens to the negative rates.\n",
    "\n",
    "Please have a look to http://www.nature.com/news/no-publication-without-confirmation-1.21509"
   ]
  },
  {
   "cell_type": "markdown",
   "metadata": {
    "deletable": true,
    "editable": true
   },
   "source": [
    "## power of an experiment\n",
    "\n",
    "http://www.sciencedirect.com/science/book/9780121790608\n"
   ]
  },
  {
   "cell_type": "code",
   "execution_count": 94,
   "metadata": {
    "collapsed": true,
    "deletable": true,
    "editable": true
   },
   "outputs": [],
   "source": [
    "library(pwr) # follows Cohen's book"
   ]
  },
  {
   "cell_type": "markdown",
   "metadata": {
    "deletable": true,
    "editable": true
   },
   "source": [
    "### directionality\n",
    "\n",
    "If a research seek to reject the true null hypothesis by comparing A and B values (that could be the meand of 2 populations) if rejection is expected when A and B differ, then the test has no direction (two-tailed). To the contrary, if the true null hypothesis could be rejected when A is larger than B, then the test has a direction (one-tailed)."
   ]
  },
  {
   "cell_type": "markdown",
   "metadata": {
    "deletable": true,
    "editable": true
   },
   "source": [
    "### significance level, $\\alpha$\n",
    "\n",
    "The significance level is the rate at which the true null hypthesis may be rejected. A researcher claims that the results from his sample are significant *if* the probability to find such results if the true null hypothesis is below $\\alpha$.\n",
    "\n",
    "$\\alpha$ is also known as type-I error."
   ]
  },
  {
   "cell_type": "markdown",
   "metadata": {
    "deletable": true,
    "editable": true
   },
   "source": [
    "### power of a statistical test, $\\beta$\n",
    "\n",
    "\"The power of a statistical test of a null hypotheis is the probability that it will lead to the rejection of the null hypothesis, i.e., the probability that it will result in the conclusion that the phenomenon exists\" [Cohen]\n",
    "\n",
    "It illustrates the fact that even if an effect exists in the population (the total of the individuals) it is not obvious that it will be represented in a sample (of the population).\n",
    "\n",
    "For example, if the power of a test is low and no effect is found, the result should be considered with care. It is analogous to the conclusion that no substance is present because no signal is observed. A chemist will ask about the limit of detection of the equipment before concluding that the substance is not present.\n",
    "\n",
    "Thus, the power depends on three parameters, the significance, the reliability of the sample result (sample size) and the effect size, which is the degree to which the phenomenon exists (think of the prevalence in our previous examples)"
   ]
  },
  {
   "cell_type": "markdown",
   "metadata": {
    "deletable": true,
    "editable": true
   },
   "source": [
    " - The reliability of the sample result is often obtained as the standard deviation of the sample (the subset of the population). \n",
    " - The significance level is $\\alpha$ and is chosen by the user as an adjustable parameter.\n",
    " - The effect size is often unknown and difficult to estimate. As its name indicate it has to do with the size of the effect that should be observed. Strong effects are easily detected, while slight ones are mucho more difficult to observe with certainty."
   ]
  },
  {
   "cell_type": "markdown",
   "metadata": {
    "deletable": true,
    "editable": true
   },
   "source": [
    "### flip a coin -  example\n",
    "\n",
    "Let's assume that we want to determine if a coin is fair or not. Therefore we can make an experiment that consists in flipping the coin a hundred time and counting the number of heads and the number of tails.\n",
    "\n",
    "Clearly we expect both numbers to be similar. If too many tail are found we might believe that the coin is unfair. One important question is to determine this value, i.e., the acceptable difference in head or tail due to random flipping and a skewed distribution due to a manipulated coin.\n",
    "\n",
    "Let's flip a coin hundred times and see the distribution we obtain:"
   ]
  },
  {
   "cell_type": "code",
   "execution_count": 95,
   "metadata": {
    "collapsed": false,
    "deletable": true,
    "editable": true
   },
   "outputs": [
    {
     "data": {
      "image/png": "[encoded data removed]",
      "image/svg+xml": [
       "<?xml version=\"1.0\" encoding=\"UTF-8\"?>\n",
       "<svg xmlns=\"http://www.w3.org/2000/svg\" xmlns:xlink=\"http://www.w3.org/1999/xlink\" width=\"288pt\" height=\"288pt\" viewBox=\"0 0 288 288\" version=\"1.1\">\n",
       "<defs>\n",
       "<g>\n",
       "<symbol overflow=\"visible\" id=\"glyph0-0\">\n",
       "<path style=\"stroke:none;\" d=\"M 0.40625 0 L 0.40625 -8.96875 L 7.515625 -8.96875 L 7.515625 0 Z M 6.390625 -1.125 L 6.390625 -7.84375 L 1.53125 -7.84375 L 1.53125 -1.125 Z \"/>\n",
       "</symbol>\n",
       "<symbol overflow=\"visible\" id=\"glyph0-1\">\n",
       "<path style=\"stroke:none;\" d=\"M 1.203125 -6.1875 L 1.203125 -7.03125 C 1.992188 -7.101562 2.546875 -7.226562 2.859375 -7.40625 C 3.171875 -7.59375 3.40625 -8.023438 3.5625 -8.703125 L 4.421875 -8.703125 L 4.421875 0 L 3.25 0 L 3.25 -6.1875 Z \"/>\n",
       "</symbol>\n",
       "<symbol overflow=\"visible\" id=\"glyph0-2\">\n",
       "<path style=\"stroke:none;\" d=\"M 3.25 0.234375 C 2.21875 0.234375 1.46875 -0.046875 1 -0.609375 C 0.53125 -1.179688 0.296875 -1.875 0.296875 -2.6875 L 1.453125 -2.6875 C 1.492188 -2.125 1.597656 -1.710938 1.765625 -1.453125 C 2.046875 -0.992188 2.5625 -0.765625 3.3125 -0.765625 C 3.882812 -0.765625 4.34375 -0.914062 4.6875 -1.21875 C 5.039062 -1.53125 5.21875 -1.929688 5.21875 -2.421875 C 5.21875 -3.023438 5.035156 -3.445312 4.671875 -3.6875 C 4.304688 -3.925781 3.796875 -4.046875 3.140625 -4.046875 C 3.066406 -4.046875 2.988281 -4.046875 2.90625 -4.046875 C 2.832031 -4.046875 2.757812 -4.039062 2.6875 -4.03125 L 2.6875 -5 C 2.800781 -4.988281 2.894531 -4.976562 2.96875 -4.96875 C 3.050781 -4.96875 3.132812 -4.96875 3.21875 -4.96875 C 3.632812 -4.96875 3.972656 -5.035156 4.234375 -5.171875 C 4.703125 -5.398438 4.9375 -5.804688 4.9375 -6.390625 C 4.9375 -6.828125 4.78125 -7.160156 4.46875 -7.390625 C 4.15625 -7.628906 3.796875 -7.75 3.390625 -7.75 C 2.648438 -7.75 2.144531 -7.503906 1.875 -7.015625 C 1.71875 -6.742188 1.628906 -6.363281 1.609375 -5.875 L 0.515625 -5.875 C 0.515625 -6.519531 0.644531 -7.070312 0.90625 -7.53125 C 1.351562 -8.34375 2.140625 -8.75 3.265625 -8.75 C 4.160156 -8.75 4.851562 -8.550781 5.34375 -8.15625 C 5.832031 -7.757812 6.078125 -7.1875 6.078125 -6.4375 C 6.078125 -5.894531 5.929688 -5.457031 5.640625 -5.125 C 5.460938 -4.914062 5.226562 -4.753906 4.9375 -4.640625 C 5.40625 -4.515625 5.765625 -4.269531 6.015625 -3.90625 C 6.273438 -3.550781 6.40625 -3.113281 6.40625 -2.59375 C 6.40625 -1.757812 6.128906 -1.078125 5.578125 -0.546875 C 5.035156 -0.0234375 4.257812 0.234375 3.25 0.234375 Z \"/>\n",
       "</symbol>\n",
       "<symbol overflow=\"visible\" id=\"glyph0-3\">\n",
       "<path style=\"stroke:none;\" d=\"M 0.390625 0 C 0.429688 -0.75 0.585938 -1.398438 0.859375 -1.953125 C 1.128906 -2.515625 1.65625 -3.023438 2.4375 -3.484375 L 3.609375 -4.15625 C 4.140625 -4.46875 4.507812 -4.726562 4.71875 -4.9375 C 5.050781 -5.28125 5.21875 -5.671875 5.21875 -6.109375 C 5.21875 -6.609375 5.0625 -7.007812 4.75 -7.3125 C 4.445312 -7.613281 4.046875 -7.765625 3.546875 -7.765625 C 2.785156 -7.765625 2.265625 -7.476562 1.984375 -6.90625 C 1.828125 -6.601562 1.738281 -6.179688 1.71875 -5.640625 L 0.609375 -5.640625 C 0.617188 -6.398438 0.757812 -7.019531 1.03125 -7.5 C 1.5 -8.34375 2.335938 -8.765625 3.546875 -8.765625 C 4.546875 -8.765625 5.273438 -8.492188 5.734375 -7.953125 C 6.203125 -7.410156 6.4375 -6.8125 6.4375 -6.15625 C 6.4375 -5.457031 6.1875 -4.859375 5.6875 -4.359375 C 5.40625 -4.066406 4.894531 -3.71875 4.15625 -3.3125 L 3.328125 -2.84375 C 2.929688 -2.625 2.617188 -2.414062 2.390625 -2.21875 C 1.984375 -1.863281 1.726562 -1.46875 1.625 -1.03125 L 6.390625 -1.03125 L 6.390625 0 Z \"/>\n",
       "</symbol>\n",
       "<symbol overflow=\"visible\" id=\"glyph0-4\">\n",
       "<path style=\"stroke:none;\" d=\"M 6.53125 -8.59375 L 6.53125 -7.640625 C 6.25 -7.367188 5.875 -6.894531 5.40625 -6.21875 C 4.945312 -5.539062 4.539062 -4.8125 4.1875 -4.03125 C 3.832031 -3.269531 3.5625 -2.578125 3.375 -1.953125 C 3.257812 -1.546875 3.109375 -0.894531 2.921875 0 L 1.703125 0 C 1.984375 -1.664062 2.59375 -3.328125 3.53125 -4.984375 C 4.09375 -5.953125 4.679688 -6.785156 5.296875 -7.484375 L 0.453125 -7.484375 L 0.453125 -8.59375 Z \"/>\n",
       "</symbol>\n",
       "<symbol overflow=\"visible\" id=\"glyph0-5\">\n",
       "<path style=\"stroke:none;\" d=\"M 4.125 -3.09375 L 4.125 -7.0625 L 1.328125 -3.09375 Z M 4.15625 0 L 4.15625 -2.140625 L 0.3125 -2.140625 L 0.3125 -3.203125 L 4.328125 -8.765625 L 5.25 -8.765625 L 5.25 -3.09375 L 6.53125 -3.09375 L 6.53125 -2.140625 L 5.25 -2.140625 L 5.25 0 Z \"/>\n",
       "</symbol>\n",
       "<symbol overflow=\"visible\" id=\"glyph0-6\">\n",
       "<path style=\"stroke:none;\" d=\"M 1.546875 -2.234375 C 1.617188 -1.597656 1.910156 -1.160156 2.421875 -0.921875 C 2.679688 -0.804688 2.984375 -0.75 3.328125 -0.75 C 3.972656 -0.75 4.453125 -0.953125 4.765625 -1.359375 C 5.078125 -1.773438 5.234375 -2.238281 5.234375 -2.75 C 5.234375 -3.351562 5.046875 -3.820312 4.671875 -4.15625 C 4.304688 -4.488281 3.863281 -4.65625 3.34375 -4.65625 C 2.957031 -4.65625 2.628906 -4.582031 2.359375 -4.4375 C 2.085938 -4.289062 1.859375 -4.085938 1.671875 -3.828125 L 0.71875 -3.890625 L 1.390625 -8.59375 L 5.921875 -8.59375 L 5.921875 -7.53125 L 2.203125 -7.53125 L 1.84375 -5.109375 C 2.039062 -5.253906 2.234375 -5.367188 2.421875 -5.453125 C 2.742188 -5.585938 3.117188 -5.65625 3.546875 -5.65625 C 4.347656 -5.65625 5.023438 -5.394531 5.578125 -4.875 C 6.140625 -4.363281 6.421875 -3.707031 6.421875 -2.90625 C 6.421875 -2.082031 6.164062 -1.351562 5.65625 -0.71875 C 5.144531 -0.09375 4.328125 0.21875 3.203125 0.21875 C 2.492188 0.21875 1.863281 0.0195312 1.3125 -0.375 C 0.769531 -0.78125 0.46875 -1.398438 0.40625 -2.234375 Z \"/>\n",
       "</symbol>\n",
       "<symbol overflow=\"visible\" id=\"glyph0-7\">\n",
       "<path style=\"stroke:none;\" d=\"M 3.65625 -8.78125 C 4.632812 -8.78125 5.316406 -8.523438 5.703125 -8.015625 C 6.085938 -7.503906 6.28125 -6.984375 6.28125 -6.453125 L 5.1875 -6.453125 C 5.125 -6.796875 5.019531 -7.066406 4.875 -7.265625 C 4.613281 -7.628906 4.210938 -7.8125 3.671875 -7.8125 C 3.054688 -7.8125 2.566406 -7.523438 2.203125 -6.953125 C 1.847656 -6.390625 1.648438 -5.578125 1.609375 -4.515625 C 1.859375 -4.890625 2.175781 -5.171875 2.5625 -5.359375 C 2.90625 -5.515625 3.296875 -5.59375 3.734375 -5.59375 C 4.460938 -5.59375 5.097656 -5.359375 5.640625 -4.890625 C 6.191406 -4.421875 6.46875 -3.722656 6.46875 -2.796875 C 6.46875 -2.003906 6.207031 -1.300781 5.6875 -0.6875 C 5.164062 -0.0820312 4.429688 0.21875 3.484375 0.21875 C 2.660156 0.21875 1.953125 -0.0859375 1.359375 -0.703125 C 0.765625 -1.328125 0.46875 -2.375 0.46875 -3.84375 C 0.46875 -4.925781 0.597656 -5.847656 0.859375 -6.609375 C 1.367188 -8.054688 2.300781 -8.78125 3.65625 -8.78125 Z M 3.578125 -0.75 C 4.148438 -0.75 4.578125 -0.941406 4.859375 -1.328125 C 5.148438 -1.722656 5.296875 -2.179688 5.296875 -2.703125 C 5.296875 -3.148438 5.164062 -3.578125 4.90625 -3.984375 C 4.65625 -4.390625 4.191406 -4.59375 3.515625 -4.59375 C 3.046875 -4.59375 2.632812 -4.4375 2.28125 -4.125 C 1.925781 -3.8125 1.75 -3.335938 1.75 -2.703125 C 1.75 -2.148438 1.910156 -1.6875 2.234375 -1.3125 C 2.554688 -0.9375 3.003906 -0.75 3.578125 -0.75 Z \"/>\n",
       "</symbol>\n",
       "<symbol overflow=\"visible\" id=\"glyph0-8\">\n",
       "<path style=\"stroke:none;\" d=\"M 1.65625 -2.109375 C 1.6875 -1.503906 1.921875 -1.085938 2.359375 -0.859375 C 2.585938 -0.734375 2.84375 -0.671875 3.125 -0.671875 C 3.644531 -0.671875 4.085938 -0.890625 4.453125 -1.328125 C 4.828125 -1.765625 5.09375 -2.648438 5.25 -3.984375 C 5.007812 -3.597656 4.707031 -3.328125 4.34375 -3.171875 C 3.976562 -3.015625 3.59375 -2.9375 3.1875 -2.9375 C 2.34375 -2.9375 1.675781 -3.195312 1.1875 -3.71875 C 0.695312 -4.25 0.453125 -4.925781 0.453125 -5.75 C 0.453125 -6.550781 0.691406 -7.25 1.171875 -7.84375 C 1.648438 -8.445312 2.363281 -8.75 3.3125 -8.75 C 4.582031 -8.75 5.460938 -8.175781 5.953125 -7.03125 C 6.222656 -6.394531 6.359375 -5.601562 6.359375 -4.65625 C 6.359375 -3.59375 6.195312 -2.644531 5.875 -1.8125 C 5.34375 -0.4375 4.4375 0.25 3.15625 0.25 C 2.300781 0.25 1.648438 0.0234375 1.203125 -0.421875 C 0.765625 -0.867188 0.546875 -1.429688 0.546875 -2.109375 Z M 3.328125 -3.90625 C 3.765625 -3.90625 4.160156 -4.046875 4.515625 -4.328125 C 4.878906 -4.617188 5.0625 -5.125 5.0625 -5.84375 C 5.0625 -6.488281 4.898438 -6.96875 4.578125 -7.28125 C 4.253906 -7.59375 3.84375 -7.75 3.34375 -7.75 C 2.800781 -7.75 2.375 -7.566406 2.0625 -7.203125 C 1.75 -6.847656 1.59375 -6.367188 1.59375 -5.765625 C 1.59375 -5.191406 1.726562 -4.738281 2 -4.40625 C 2.28125 -4.070312 2.722656 -3.90625 3.328125 -3.90625 Z \"/>\n",
       "</symbol>\n",
       "<symbol overflow=\"visible\" id=\"glyph0-9\">\n",
       "<path style=\"stroke:none;\" d=\"M 3.40625 -5.078125 C 3.882812 -5.078125 4.257812 -5.210938 4.53125 -5.484375 C 4.800781 -5.753906 4.9375 -6.078125 4.9375 -6.453125 C 4.9375 -6.773438 4.804688 -7.070312 4.546875 -7.34375 C 4.285156 -7.613281 3.890625 -7.75 3.359375 -7.75 C 2.828125 -7.75 2.441406 -7.613281 2.203125 -7.34375 C 1.972656 -7.070312 1.859375 -6.753906 1.859375 -6.390625 C 1.859375 -5.984375 2.007812 -5.660156 2.3125 -5.421875 C 2.625 -5.191406 2.988281 -5.078125 3.40625 -5.078125 Z M 3.46875 -0.75 C 3.976562 -0.75 4.398438 -0.882812 4.734375 -1.15625 C 5.066406 -1.4375 5.234375 -1.847656 5.234375 -2.390625 C 5.234375 -2.953125 5.0625 -3.378906 4.71875 -3.671875 C 4.375 -3.972656 3.929688 -4.125 3.390625 -4.125 C 2.859375 -4.125 2.425781 -3.972656 2.09375 -3.671875 C 1.769531 -3.367188 1.609375 -2.953125 1.609375 -2.421875 C 1.609375 -1.972656 1.757812 -1.582031 2.0625 -1.25 C 2.363281 -0.914062 2.832031 -0.75 3.46875 -0.75 Z M 1.90625 -4.65625 C 1.601562 -4.789062 1.363281 -4.941406 1.1875 -5.109375 C 0.863281 -5.441406 0.703125 -5.867188 0.703125 -6.390625 C 0.703125 -7.035156 0.9375 -7.59375 1.40625 -8.0625 C 1.882812 -8.53125 2.554688 -8.765625 3.421875 -8.765625 C 4.265625 -8.765625 4.921875 -8.539062 5.390625 -8.09375 C 5.867188 -7.65625 6.109375 -7.144531 6.109375 -6.5625 C 6.109375 -6.007812 5.96875 -5.566406 5.6875 -5.234375 C 5.539062 -5.035156 5.300781 -4.847656 4.96875 -4.671875 C 5.332031 -4.503906 5.617188 -4.3125 5.828125 -4.09375 C 6.210938 -3.6875 6.40625 -3.160156 6.40625 -2.515625 C 6.40625 -1.742188 6.144531 -1.085938 5.625 -0.546875 C 5.113281 -0.015625 4.382812 0.25 3.4375 0.25 C 2.59375 0.25 1.875 0.0195312 1.28125 -0.4375 C 0.695312 -0.90625 0.40625 -1.578125 0.40625 -2.453125 C 0.40625 -2.972656 0.53125 -3.421875 0.78125 -3.796875 C 1.03125 -4.171875 1.40625 -4.457031 1.90625 -4.65625 Z \"/>\n",
       "</symbol>\n",
       "<symbol overflow=\"visible\" id=\"glyph1-0\">\n",
       "<path style=\"stroke:none;\" d=\"M 0 -0.40625 L -8.96875 -0.40625 L -8.96875 -7.515625 L 0 -7.515625 Z M -1.125 -6.390625 L -7.84375 -6.390625 L -7.84375 -1.53125 L -1.125 -1.53125 Z \"/>\n",
       "</symbol>\n",
       "<symbol overflow=\"visible\" id=\"glyph1-1\">\n",
       "<path style=\"stroke:none;\" d=\"M -8.734375 -3.375 C -8.734375 -4.507812 -8.269531 -5.328125 -7.34375 -5.828125 C -6.625 -6.222656 -5.632812 -6.421875 -4.375 -6.421875 C -3.1875 -6.421875 -2.207031 -6.242188 -1.4375 -5.890625 C -0.320312 -5.378906 0.234375 -4.539062 0.234375 -3.375 C 0.234375 -2.320312 -0.21875 -1.539062 -1.125 -1.03125 C -1.882812 -0.601562 -2.90625 -0.390625 -4.1875 -0.390625 C -5.1875 -0.390625 -6.039062 -0.519531 -6.75 -0.78125 C -8.070312 -1.257812 -8.734375 -2.125 -8.734375 -3.375 Z M -0.765625 -3.375 C -0.765625 -3.9375 -1.015625 -4.382812 -1.515625 -4.71875 C -2.023438 -5.0625 -2.96875 -5.234375 -4.34375 -5.234375 C -5.332031 -5.234375 -6.144531 -5.109375 -6.78125 -4.859375 C -7.425781 -4.617188 -7.75 -4.148438 -7.75 -3.453125 C -7.75 -2.804688 -7.441406 -2.332031 -6.828125 -2.03125 C -6.222656 -1.726562 -5.332031 -1.578125 -4.15625 -1.578125 C -3.257812 -1.578125 -2.539062 -1.675781 -2 -1.875 C -1.175781 -2.164062 -0.765625 -2.664062 -0.765625 -3.375 Z \"/>\n",
       "</symbol>\n",
       "<symbol overflow=\"visible\" id=\"glyph1-2\">\n",
       "<path style=\"stroke:none;\" d=\"M -1.328125 -1.0625 L -1.328125 -2.34375 L 0 -2.34375 L 0 -1.0625 Z \"/>\n",
       "</symbol>\n",
       "<symbol overflow=\"visible\" id=\"glyph1-3\">\n",
       "<path style=\"stroke:none;\" d=\"M 0 -0.390625 C -0.75 -0.429688 -1.398438 -0.585938 -1.953125 -0.859375 C -2.515625 -1.128906 -3.023438 -1.65625 -3.484375 -2.4375 L -4.15625 -3.609375 C -4.46875 -4.140625 -4.726562 -4.507812 -4.9375 -4.71875 C -5.28125 -5.050781 -5.671875 -5.21875 -6.109375 -5.21875 C -6.609375 -5.21875 -7.007812 -5.0625 -7.3125 -4.75 C -7.613281 -4.445312 -7.765625 -4.046875 -7.765625 -3.546875 C -7.765625 -2.785156 -7.476562 -2.265625 -6.90625 -1.984375 C -6.601562 -1.828125 -6.179688 -1.738281 -5.640625 -1.71875 L -5.640625 -0.609375 C -6.398438 -0.617188 -7.019531 -0.757812 -7.5 -1.03125 C -8.34375 -1.5 -8.765625 -2.335938 -8.765625 -3.546875 C -8.765625 -4.546875 -8.492188 -5.273438 -7.953125 -5.734375 C -7.410156 -6.203125 -6.8125 -6.4375 -6.15625 -6.4375 C -5.457031 -6.4375 -4.859375 -6.1875 -4.359375 -5.6875 C -4.066406 -5.40625 -3.71875 -4.894531 -3.3125 -4.15625 L -2.84375 -3.328125 C -2.625 -2.929688 -2.414062 -2.617188 -2.21875 -2.390625 C -1.863281 -1.984375 -1.46875 -1.726562 -1.03125 -1.625 L -1.03125 -6.390625 L 0 -6.390625 Z \"/>\n",
       "</symbol>\n",
       "<symbol overflow=\"visible\" id=\"glyph1-4\">\n",
       "<path style=\"stroke:none;\" d=\"M -3.09375 -4.125 L -7.0625 -4.125 L -3.09375 -1.328125 Z M 0 -4.15625 L -2.140625 -4.15625 L -2.140625 -0.3125 L -3.203125 -0.3125 L -8.765625 -4.328125 L -8.765625 -5.25 L -3.09375 -5.25 L -3.09375 -6.53125 L -2.140625 -6.53125 L -2.140625 -5.25 L 0 -5.25 Z \"/>\n",
       "</symbol>\n",
       "<symbol overflow=\"visible\" id=\"glyph1-5\">\n",
       "<path style=\"stroke:none;\" d=\"M -8.78125 -3.65625 C -8.78125 -4.632812 -8.523438 -5.316406 -8.015625 -5.703125 C -7.503906 -6.085938 -6.984375 -6.28125 -6.453125 -6.28125 L -6.453125 -5.1875 C -6.796875 -5.125 -7.066406 -5.019531 -7.265625 -4.875 C -7.628906 -4.613281 -7.8125 -4.210938 -7.8125 -3.671875 C -7.8125 -3.054688 -7.523438 -2.566406 -6.953125 -2.203125 C -6.390625 -1.847656 -5.578125 -1.648438 -4.515625 -1.609375 C -4.890625 -1.859375 -5.171875 -2.175781 -5.359375 -2.5625 C -5.515625 -2.90625 -5.59375 -3.296875 -5.59375 -3.734375 C -5.59375 -4.460938 -5.359375 -5.097656 -4.890625 -5.640625 C -4.421875 -6.191406 -3.722656 -6.46875 -2.796875 -6.46875 C -2.003906 -6.46875 -1.300781 -6.207031 -0.6875 -5.6875 C -0.0820312 -5.164062 0.21875 -4.429688 0.21875 -3.484375 C 0.21875 -2.660156 -0.0859375 -1.953125 -0.703125 -1.359375 C -1.328125 -0.765625 -2.375 -0.46875 -3.84375 -0.46875 C -4.925781 -0.46875 -5.847656 -0.597656 -6.609375 -0.859375 C -8.054688 -1.367188 -8.78125 -2.300781 -8.78125 -3.65625 Z M -0.75 -3.578125 C -0.75 -4.148438 -0.941406 -4.578125 -1.328125 -4.859375 C -1.722656 -5.148438 -2.179688 -5.296875 -2.703125 -5.296875 C -3.148438 -5.296875 -3.578125 -5.164062 -3.984375 -4.90625 C -4.390625 -4.65625 -4.59375 -4.191406 -4.59375 -3.515625 C -4.59375 -3.046875 -4.4375 -2.632812 -4.125 -2.28125 C -3.8125 -1.925781 -3.335938 -1.75 -2.703125 -1.75 C -2.148438 -1.75 -1.6875 -1.910156 -1.3125 -2.234375 C -0.9375 -2.554688 -0.75 -3.003906 -0.75 -3.578125 Z \"/>\n",
       "</symbol>\n",
       "<symbol overflow=\"visible\" id=\"glyph1-6\">\n",
       "<path style=\"stroke:none;\" d=\"M -5.078125 -3.40625 C -5.078125 -3.882812 -5.210938 -4.257812 -5.484375 -4.53125 C -5.753906 -4.800781 -6.078125 -4.9375 -6.453125 -4.9375 C -6.773438 -4.9375 -7.070312 -4.804688 -7.34375 -4.546875 C -7.613281 -4.285156 -7.75 -3.890625 -7.75 -3.359375 C -7.75 -2.828125 -7.613281 -2.441406 -7.34375 -2.203125 C -7.070312 -1.972656 -6.753906 -1.859375 -6.390625 -1.859375 C -5.984375 -1.859375 -5.660156 -2.007812 -5.421875 -2.3125 C -5.191406 -2.625 -5.078125 -2.988281 -5.078125 -3.40625 Z M -0.75 -3.46875 C -0.75 -3.976562 -0.882812 -4.398438 -1.15625 -4.734375 C -1.4375 -5.066406 -1.847656 -5.234375 -2.390625 -5.234375 C -2.953125 -5.234375 -3.378906 -5.0625 -3.671875 -4.71875 C -3.972656 -4.375 -4.125 -3.929688 -4.125 -3.390625 C -4.125 -2.859375 -3.972656 -2.425781 -3.671875 -2.09375 C -3.367188 -1.769531 -2.953125 -1.609375 -2.421875 -1.609375 C -1.972656 -1.609375 -1.582031 -1.757812 -1.25 -2.0625 C -0.914062 -2.363281 -0.75 -2.832031 -0.75 -3.46875 Z M -4.65625 -1.90625 C -4.789062 -1.601562 -4.941406 -1.363281 -5.109375 -1.1875 C -5.441406 -0.863281 -5.867188 -0.703125 -6.390625 -0.703125 C -7.035156 -0.703125 -7.59375 -0.9375 -8.0625 -1.40625 C -8.53125 -1.882812 -8.765625 -2.554688 -8.765625 -3.421875 C -8.765625 -4.265625 -8.539062 -4.921875 -8.09375 -5.390625 C -7.65625 -5.867188 -7.144531 -6.109375 -6.5625 -6.109375 C -6.007812 -6.109375 -5.566406 -5.96875 -5.234375 -5.6875 C -5.035156 -5.539062 -4.847656 -5.300781 -4.671875 -4.96875 C -4.503906 -5.332031 -4.3125 -5.617188 -4.09375 -5.828125 C -3.6875 -6.210938 -3.160156 -6.40625 -2.515625 -6.40625 C -1.742188 -6.40625 -1.085938 -6.144531 -0.546875 -5.625 C -0.015625 -5.113281 0.25 -4.382812 0.25 -3.4375 C 0.25 -2.59375 0.0195312 -1.875 -0.4375 -1.28125 C -0.90625 -0.695312 -1.578125 -0.40625 -2.453125 -0.40625 C -2.972656 -0.40625 -3.421875 -0.53125 -3.796875 -0.78125 C -4.171875 -1.03125 -4.457031 -1.40625 -4.65625 -1.90625 Z \"/>\n",
       "</symbol>\n",
       "</g>\n",
       "</defs>\n",
       "<g id=\"surface733\">\n",
       "<rect x=\"0\" y=\"0\" width=\"288\" height=\"288\" style=\"fill:rgb(100%,100%,100%);fill-opacity:1;stroke:none;\"/>\n",
       "<path style=\"fill:none;stroke-width:1;stroke-linecap:round;stroke-linejoin:round;stroke:rgb(0%,0%,0%);stroke-opacity:1;stroke-miterlimit:10;\" d=\"M 66.398438 214.558594 L 67.933594 214.558594 Z \"/>\n",
       "<path style=\"fill:none;stroke-width:1;stroke-linecap:round;stroke-linejoin:round;stroke:rgb(0%,0%,0%);stroke-opacity:1;stroke-miterlimit:10;\" d=\"M 68.242188 214.558594 L 69.777344 214.558594 Z \"/>\n",
       "<path style=\"fill:none;stroke-width:1;stroke-linecap:round;stroke-linejoin:round;stroke:rgb(0%,0%,0%);stroke-opacity:1;stroke-miterlimit:10;\" d=\"M 70.085938 214.558594 L 71.621094 214.558594 Z \"/>\n",
       "<path style=\"fill:none;stroke-width:1;stroke-linecap:round;stroke-linejoin:round;stroke:rgb(0%,0%,0%);stroke-opacity:1;stroke-miterlimit:10;\" d=\"M 71.929688 214.558594 L 73.464844 214.558594 Z \"/>\n",
       "<path style=\"fill:none;stroke-width:1;stroke-linecap:round;stroke-linejoin:round;stroke:rgb(0%,0%,0%);stroke-opacity:1;stroke-miterlimit:10;\" d=\"M 73.773438 214.558594 L 75.308594 214.558594 Z \"/>\n",
       "<path style=\"fill:none;stroke-width:1;stroke-linecap:round;stroke-linejoin:round;stroke:rgb(0%,0%,0%);stroke-opacity:1;stroke-miterlimit:10;\" d=\"M 75.617188 214.558594 L 77.152344 214.558594 Z \"/>\n",
       "<path style=\"fill:none;stroke-width:1;stroke-linecap:round;stroke-linejoin:round;stroke:rgb(0%,0%,0%);stroke-opacity:1;stroke-miterlimit:10;\" d=\"M 77.457031 214.558594 L 78.992188 214.558594 Z \"/>\n",
       "<path style=\"fill:none;stroke-width:1;stroke-linecap:round;stroke-linejoin:round;stroke:rgb(0%,0%,0%);stroke-opacity:1;stroke-miterlimit:10;\" d=\"M 79.300781 214.558594 L 80.835938 214.558594 Z \"/>\n",
       "<path style=\"fill:none;stroke-width:1;stroke-linecap:round;stroke-linejoin:round;stroke:rgb(0%,0%,0%);stroke-opacity:1;stroke-miterlimit:10;\" d=\"M 81.144531 214.558594 L 82.679688 214.558594 Z \"/>\n",
       "<path style=\"fill:none;stroke-width:1;stroke-linecap:round;stroke-linejoin:round;stroke:rgb(0%,0%,0%);stroke-opacity:1;stroke-miterlimit:10;\" d=\"M 82.988281 214.558594 L 84.523438 214.558594 Z \"/>\n",
       "<path style=\"fill:none;stroke-width:1;stroke-linecap:round;stroke-linejoin:round;stroke:rgb(0%,0%,0%);stroke-opacity:1;stroke-miterlimit:10;\" d=\"M 84.832031 214.558594 L 86.367188 214.558594 Z \"/>\n",
       "<path style=\"fill:none;stroke-width:1;stroke-linecap:round;stroke-linejoin:round;stroke:rgb(0%,0%,0%);stroke-opacity:1;stroke-miterlimit:10;\" d=\"M 86.671875 214.558594 L 88.207031 214.558594 Z \"/>\n",
       "<path style=\"fill:none;stroke-width:1;stroke-linecap:round;stroke-linejoin:round;stroke:rgb(0%,0%,0%);stroke-opacity:1;stroke-miterlimit:10;\" d=\"M 88.515625 214.558594 L 90.050781 214.558594 Z \"/>\n",
       "<path style=\"fill:none;stroke-width:1;stroke-linecap:round;stroke-linejoin:round;stroke:rgb(0%,0%,0%);stroke-opacity:1;stroke-miterlimit:10;\" d=\"M 90.359375 214.558594 L 91.894531 214.558594 Z \"/>\n",
       "<path style=\"fill:none;stroke-width:1;stroke-linecap:round;stroke-linejoin:round;stroke:rgb(0%,0%,0%);stroke-opacity:1;stroke-miterlimit:10;\" d=\"M 92.203125 214.558594 L 93.738281 214.558594 Z \"/>\n",
       "<path style=\"fill:none;stroke-width:1;stroke-linecap:round;stroke-linejoin:round;stroke:rgb(0%,0%,0%);stroke-opacity:1;stroke-miterlimit:10;\" d=\"M 94.046875 214.558594 L 95.582031 214.558594 Z \"/>\n",
       "<path style=\"fill:none;stroke-width:1;stroke-linecap:round;stroke-linejoin:round;stroke:rgb(0%,0%,0%);stroke-opacity:1;stroke-miterlimit:10;\" d=\"M 95.890625 214.558594 L 97.425781 214.558594 Z \"/>\n",
       "<path style=\"fill:none;stroke-width:1;stroke-linecap:round;stroke-linejoin:round;stroke:rgb(0%,0%,0%);stroke-opacity:1;stroke-miterlimit:10;\" d=\"M 97.730469 214.558594 L 99.265625 214.558594 Z \"/>\n",
       "<path style=\"fill:none;stroke-width:1;stroke-linecap:round;stroke-linejoin:round;stroke:rgb(0%,0%,0%);stroke-opacity:1;stroke-miterlimit:10;\" d=\"M 99.574219 214.558594 L 101.109375 214.558594 Z \"/>\n",
       "<path style=\"fill:none;stroke-width:1;stroke-linecap:round;stroke-linejoin:round;stroke:rgb(0%,0%,0%);stroke-opacity:1;stroke-miterlimit:10;\" d=\"M 101.417969 214.558594 L 102.953125 214.558594 Z \"/>\n",
       "<path style=\"fill:none;stroke-width:1;stroke-linecap:round;stroke-linejoin:round;stroke:rgb(0%,0%,0%);stroke-opacity:1;stroke-miterlimit:10;\" d=\"M 103.261719 214.558594 L 104.796875 214.558594 Z \"/>\n",
       "<path style=\"fill:none;stroke-width:1;stroke-linecap:round;stroke-linejoin:round;stroke:rgb(0%,0%,0%);stroke-opacity:1;stroke-miterlimit:10;\" d=\"M 105.105469 214.558594 L 106.640625 214.558594 Z \"/>\n",
       "<path style=\"fill:none;stroke-width:1;stroke-linecap:round;stroke-linejoin:round;stroke:rgb(0%,0%,0%);stroke-opacity:1;stroke-miterlimit:10;\" d=\"M 106.949219 214.558594 L 108.484375 214.558594 Z \"/>\n",
       "<path style=\"fill:none;stroke-width:1;stroke-linecap:round;stroke-linejoin:round;stroke:rgb(0%,0%,0%);stroke-opacity:1;stroke-miterlimit:10;\" d=\"M 108.789062 214.558594 L 110.324219 214.558594 Z \"/>\n",
       "<path style=\"fill:none;stroke-width:1;stroke-linecap:round;stroke-linejoin:round;stroke:rgb(0%,0%,0%);stroke-opacity:1;stroke-miterlimit:10;\" d=\"M 110.632812 214.558594 L 112.167969 214.558594 Z \"/>\n",
       "<path style=\"fill:none;stroke-width:1;stroke-linecap:round;stroke-linejoin:round;stroke:rgb(0%,0%,0%);stroke-opacity:1;stroke-miterlimit:10;\" d=\"M 112.476562 214.558594 L 114.011719 214.558594 Z \"/>\n",
       "<path style=\"fill-rule:nonzero;fill:rgb(74.509804%,74.509804%,74.509804%);fill-opacity:1;stroke-width:1;stroke-linecap:round;stroke-linejoin:round;stroke:rgb(0%,0%,0%);stroke-opacity:1;stroke-miterlimit:10;\" d=\"M 114.320312 214.558594 L 115.855469 214.558594 L 115.855469 214.5625 L 114.320312 214.5625 Z \"/>\n",
       "<path style=\"fill-rule:nonzero;fill:rgb(74.509804%,74.509804%,74.509804%);fill-opacity:1;stroke-width:1;stroke-linecap:round;stroke-linejoin:round;stroke:rgb(0%,0%,0%);stroke-opacity:1;stroke-miterlimit:10;\" d=\"M 116.164062 214.550781 L 117.699219 214.550781 L 117.699219 214.558594 L 116.164062 214.558594 Z \"/>\n",
       "<path style=\"fill-rule:nonzero;fill:rgb(74.509804%,74.509804%,74.509804%);fill-opacity:1;stroke-width:1;stroke-linecap:round;stroke-linejoin:round;stroke:rgb(0%,0%,0%);stroke-opacity:1;stroke-miterlimit:10;\" d=\"M 118.007812 214.539062 L 119.542969 214.539062 L 119.542969 214.558594 L 118.007812 214.558594 Z \"/>\n",
       "<path style=\"fill-rule:nonzero;fill:rgb(74.509804%,74.509804%,74.509804%);fill-opacity:1;stroke-width:1;stroke-linecap:round;stroke-linejoin:round;stroke:rgb(0%,0%,0%);stroke-opacity:1;stroke-miterlimit:10;\" d=\"M 119.847656 214.515625 L 121.382812 214.515625 L 121.382812 214.5625 L 119.847656 214.5625 Z \"/>\n",
       "<path style=\"fill-rule:nonzero;fill:rgb(74.509804%,74.509804%,74.509804%);fill-opacity:1;stroke-width:1;stroke-linecap:round;stroke-linejoin:round;stroke:rgb(0%,0%,0%);stroke-opacity:1;stroke-miterlimit:10;\" d=\"M 121.691406 214.457031 L 123.226562 214.457031 L 123.226562 214.558594 L 121.691406 214.558594 Z \"/>\n",
       "<path style=\"fill-rule:nonzero;fill:rgb(74.509804%,74.509804%,74.509804%);fill-opacity:1;stroke-width:1;stroke-linecap:round;stroke-linejoin:round;stroke:rgb(0%,0%,0%);stroke-opacity:1;stroke-miterlimit:10;\" d=\"M 123.535156 214.339844 L 125.070312 214.339844 L 125.070312 214.558594 L 123.535156 214.558594 Z \"/>\n",
       "<path style=\"fill-rule:nonzero;fill:rgb(74.509804%,74.509804%,74.509804%);fill-opacity:1;stroke-width:1;stroke-linecap:round;stroke-linejoin:round;stroke:rgb(0%,0%,0%);stroke-opacity:1;stroke-miterlimit:10;\" d=\"M 125.378906 214.109375 L 126.914062 214.109375 L 126.914062 214.5625 L 125.378906 214.5625 Z \"/>\n",
       "<path style=\"fill-rule:nonzero;fill:rgb(74.509804%,74.509804%,74.509804%);fill-opacity:1;stroke-width:1;stroke-linecap:round;stroke-linejoin:round;stroke:rgb(0%,0%,0%);stroke-opacity:1;stroke-miterlimit:10;\" d=\"M 127.222656 213.667969 L 128.757812 213.667969 L 128.757812 214.558594 L 127.222656 214.558594 Z \"/>\n",
       "<path style=\"fill-rule:nonzero;fill:rgb(74.509804%,74.509804%,74.509804%);fill-opacity:1;stroke-width:1;stroke-linecap:round;stroke-linejoin:round;stroke:rgb(0%,0%,0%);stroke-opacity:1;stroke-miterlimit:10;\" d=\"M 129.0625 212.878906 L 130.597656 212.878906 L 130.597656 214.558594 L 129.0625 214.558594 Z \"/>\n",
       "<path style=\"fill-rule:nonzero;fill:rgb(74.509804%,74.509804%,74.509804%);fill-opacity:1;stroke-width:1;stroke-linecap:round;stroke-linejoin:round;stroke:rgb(0%,0%,0%);stroke-opacity:1;stroke-miterlimit:10;\" d=\"M 130.90625 211.527344 L 132.441406 211.527344 L 132.441406 214.558594 L 130.90625 214.558594 Z \"/>\n",
       "<path style=\"fill-rule:nonzero;fill:rgb(74.509804%,74.509804%,74.509804%);fill-opacity:1;stroke-width:1;stroke-linecap:round;stroke-linejoin:round;stroke:rgb(0%,0%,0%);stroke-opacity:1;stroke-miterlimit:10;\" d=\"M 132.75 209.316406 L 134.285156 209.316406 L 134.285156 214.5625 L 132.75 214.5625 Z \"/>\n",
       "<path style=\"fill-rule:nonzero;fill:rgb(74.509804%,74.509804%,74.509804%);fill-opacity:1;stroke-width:1;stroke-linecap:round;stroke-linejoin:round;stroke:rgb(0%,0%,0%);stroke-opacity:1;stroke-miterlimit:10;\" d=\"M 134.59375 205.863281 L 136.128906 205.863281 L 136.128906 214.558594 L 134.59375 214.558594 Z \"/>\n",
       "<path style=\"fill-rule:nonzero;fill:rgb(74.509804%,74.509804%,74.509804%);fill-opacity:1;stroke-width:1;stroke-linecap:round;stroke-linejoin:round;stroke:rgb(0%,0%,0%);stroke-opacity:1;stroke-miterlimit:10;\" d=\"M 136.4375 200.738281 L 137.972656 200.738281 L 137.972656 214.5625 L 136.4375 214.5625 Z \"/>\n",
       "<path style=\"fill-rule:nonzero;fill:rgb(74.509804%,74.509804%,74.509804%);fill-opacity:1;stroke-width:1;stroke-linecap:round;stroke-linejoin:round;stroke:rgb(0%,0%,0%);stroke-opacity:1;stroke-miterlimit:10;\" d=\"M 138.28125 193.480469 L 139.816406 193.480469 L 139.816406 214.5625 L 138.28125 214.5625 Z \"/>\n",
       "<path style=\"fill-rule:nonzero;fill:rgb(74.509804%,74.509804%,74.509804%);fill-opacity:1;stroke-width:1;stroke-linecap:round;stroke-linejoin:round;stroke:rgb(0%,0%,0%);stroke-opacity:1;stroke-miterlimit:10;\" d=\"M 140.121094 183.710938 L 141.65625 183.710938 L 141.65625 214.558594 L 140.121094 214.558594 Z \"/>\n",
       "<path style=\"fill-rule:nonzero;fill:rgb(74.509804%,74.509804%,74.509804%);fill-opacity:1;stroke-width:1;stroke-linecap:round;stroke-linejoin:round;stroke:rgb(0%,0%,0%);stroke-opacity:1;stroke-miterlimit:10;\" d=\"M 141.964844 171.222656 L 143.5 171.222656 L 143.5 214.558594 L 141.964844 214.558594 Z \"/>\n",
       "<path style=\"fill-rule:nonzero;fill:rgb(74.509804%,74.509804%,74.509804%);fill-opacity:1;stroke-width:1;stroke-linecap:round;stroke-linejoin:round;stroke:rgb(0%,0%,0%);stroke-opacity:1;stroke-miterlimit:10;\" d=\"M 143.808594 156.105469 L 145.34375 156.105469 L 145.34375 214.558594 L 143.808594 214.558594 Z \"/>\n",
       "<path style=\"fill-rule:nonzero;fill:rgb(74.509804%,74.509804%,74.509804%);fill-opacity:1;stroke-width:1;stroke-linecap:round;stroke-linejoin:round;stroke:rgb(0%,0%,0%);stroke-opacity:1;stroke-miterlimit:10;\" d=\"M 145.652344 138.835938 L 147.1875 138.835938 L 147.1875 214.558594 L 145.652344 214.558594 Z \"/>\n",
       "<path style=\"fill-rule:nonzero;fill:rgb(74.509804%,74.509804%,74.509804%);fill-opacity:1;stroke-width:1;stroke-linecap:round;stroke-linejoin:round;stroke:rgb(0%,0%,0%);stroke-opacity:1;stroke-miterlimit:10;\" d=\"M 147.496094 120.324219 L 149.03125 120.324219 L 149.03125 214.558594 L 147.496094 214.558594 Z \"/>\n",
       "<path style=\"fill-rule:nonzero;fill:rgb(74.509804%,74.509804%,74.509804%);fill-opacity:1;stroke-width:1;stroke-linecap:round;stroke-linejoin:round;stroke:rgb(0%,0%,0%);stroke-opacity:1;stroke-miterlimit:10;\" d=\"M 149.339844 101.890625 L 150.875 101.890625 L 150.875 214.5625 L 149.339844 214.5625 Z \"/>\n",
       "<path style=\"fill-rule:nonzero;fill:rgb(74.509804%,74.509804%,74.509804%);fill-opacity:1;stroke-width:1;stroke-linecap:round;stroke-linejoin:round;stroke:rgb(0%,0%,0%);stroke-opacity:1;stroke-miterlimit:10;\" d=\"M 151.179688 85.109375 L 152.714844 85.109375 L 152.714844 214.5625 L 151.179688 214.5625 Z \"/>\n",
       "<path style=\"fill-rule:nonzero;fill:rgb(74.509804%,74.509804%,74.509804%);fill-opacity:1;stroke-width:1;stroke-linecap:round;stroke-linejoin:round;stroke:rgb(0%,0%,0%);stroke-opacity:1;stroke-miterlimit:10;\" d=\"M 153.023438 71.625 L 154.558594 71.625 L 154.558594 214.5625 L 153.023438 214.5625 Z \"/>\n",
       "<path style=\"fill-rule:nonzero;fill:rgb(74.509804%,74.509804%,74.509804%);fill-opacity:1;stroke-width:1;stroke-linecap:round;stroke-linejoin:round;stroke:rgb(0%,0%,0%);stroke-opacity:1;stroke-miterlimit:10;\" d=\"M 154.867188 62.871094 L 156.402344 62.871094 L 156.402344 214.558594 L 154.867188 214.558594 Z \"/>\n",
       "<path style=\"fill-rule:nonzero;fill:rgb(74.509804%,74.509804%,74.509804%);fill-opacity:1;stroke-width:1;stroke-linecap:round;stroke-linejoin:round;stroke:rgb(0%,0%,0%);stroke-opacity:1;stroke-miterlimit:10;\" d=\"M 156.710938 59.839844 L 158.246094 59.839844 L 158.246094 214.5625 L 156.710938 214.5625 Z \"/>\n",
       "<path style=\"fill-rule:nonzero;fill:rgb(74.509804%,74.509804%,74.509804%);fill-opacity:1;stroke-width:1;stroke-linecap:round;stroke-linejoin:round;stroke:rgb(0%,0%,0%);stroke-opacity:1;stroke-miterlimit:10;\" d=\"M 158.554688 62.871094 L 160.089844 62.871094 L 160.089844 214.558594 L 158.554688 214.558594 Z \"/>\n",
       "<path style=\"fill-rule:nonzero;fill:rgb(74.509804%,74.509804%,74.509804%);fill-opacity:1;stroke-width:1;stroke-linecap:round;stroke-linejoin:round;stroke:rgb(0%,0%,0%);stroke-opacity:1;stroke-miterlimit:10;\" d=\"M 160.398438 71.625 L 161.933594 71.625 L 161.933594 214.5625 L 160.398438 214.5625 Z \"/>\n",
       "<path style=\"fill-rule:nonzero;fill:rgb(74.509804%,74.509804%,74.509804%);fill-opacity:1;stroke-width:1;stroke-linecap:round;stroke-linejoin:round;stroke:rgb(0%,0%,0%);stroke-opacity:1;stroke-miterlimit:10;\" d=\"M 162.238281 85.109375 L 163.773438 85.109375 L 163.773438 214.5625 L 162.238281 214.5625 Z \"/>\n",
       "<path style=\"fill-rule:nonzero;fill:rgb(74.509804%,74.509804%,74.509804%);fill-opacity:1;stroke-width:1;stroke-linecap:round;stroke-linejoin:round;stroke:rgb(0%,0%,0%);stroke-opacity:1;stroke-miterlimit:10;\" d=\"M 164.082031 101.890625 L 165.617188 101.890625 L 165.617188 214.5625 L 164.082031 214.5625 Z \"/>\n",
       "<path style=\"fill-rule:nonzero;fill:rgb(74.509804%,74.509804%,74.509804%);fill-opacity:1;stroke-width:1;stroke-linecap:round;stroke-linejoin:round;stroke:rgb(0%,0%,0%);stroke-opacity:1;stroke-miterlimit:10;\" d=\"M 165.925781 120.324219 L 167.460938 120.324219 L 167.460938 214.558594 L 165.925781 214.558594 Z \"/>\n",
       "<path style=\"fill-rule:nonzero;fill:rgb(74.509804%,74.509804%,74.509804%);fill-opacity:1;stroke-width:1;stroke-linecap:round;stroke-linejoin:round;stroke:rgb(0%,0%,0%);stroke-opacity:1;stroke-miterlimit:10;\" d=\"M 167.769531 138.835938 L 169.304688 138.835938 L 169.304688 214.558594 L 167.769531 214.558594 Z \"/>\n",
       "<path style=\"fill-rule:nonzero;fill:rgb(74.509804%,74.509804%,74.509804%);fill-opacity:1;stroke-width:1;stroke-linecap:round;stroke-linejoin:round;stroke:rgb(0%,0%,0%);stroke-opacity:1;stroke-miterlimit:10;\" d=\"M 169.613281 156.105469 L 171.148438 156.105469 L 171.148438 214.558594 L 169.613281 214.558594 Z \"/>\n",
       "<path style=\"fill-rule:nonzero;fill:rgb(74.509804%,74.509804%,74.509804%);fill-opacity:1;stroke-width:1;stroke-linecap:round;stroke-linejoin:round;stroke:rgb(0%,0%,0%);stroke-opacity:1;stroke-miterlimit:10;\" d=\"M 171.457031 171.222656 L 172.992188 171.222656 L 172.992188 214.558594 L 171.457031 214.558594 Z \"/>\n",
       "<path style=\"fill-rule:nonzero;fill:rgb(74.509804%,74.509804%,74.509804%);fill-opacity:1;stroke-width:1;stroke-linecap:round;stroke-linejoin:round;stroke:rgb(0%,0%,0%);stroke-opacity:1;stroke-miterlimit:10;\" d=\"M 173.296875 183.710938 L 174.832031 183.710938 L 174.832031 214.558594 L 173.296875 214.558594 Z \"/>\n",
       "<path style=\"fill-rule:nonzero;fill:rgb(74.509804%,74.509804%,74.509804%);fill-opacity:1;stroke-width:1;stroke-linecap:round;stroke-linejoin:round;stroke:rgb(0%,0%,0%);stroke-opacity:1;stroke-miterlimit:10;\" d=\"M 175.140625 193.480469 L 176.675781 193.480469 L 176.675781 214.5625 L 175.140625 214.5625 Z \"/>\n",
       "<path style=\"fill-rule:nonzero;fill:rgb(74.509804%,74.509804%,74.509804%);fill-opacity:1;stroke-width:1;stroke-linecap:round;stroke-linejoin:round;stroke:rgb(0%,0%,0%);stroke-opacity:1;stroke-miterlimit:10;\" d=\"M 176.984375 200.738281 L 178.519531 200.738281 L 178.519531 214.5625 L 176.984375 214.5625 Z \"/>\n",
       "<path style=\"fill-rule:nonzero;fill:rgb(74.509804%,74.509804%,74.509804%);fill-opacity:1;stroke-width:1;stroke-linecap:round;stroke-linejoin:round;stroke:rgb(0%,0%,0%);stroke-opacity:1;stroke-miterlimit:10;\" d=\"M 178.828125 205.863281 L 180.363281 205.863281 L 180.363281 214.558594 L 178.828125 214.558594 Z \"/>\n",
       "<path style=\"fill-rule:nonzero;fill:rgb(74.509804%,74.509804%,74.509804%);fill-opacity:1;stroke-width:1;stroke-linecap:round;stroke-linejoin:round;stroke:rgb(0%,0%,0%);stroke-opacity:1;stroke-miterlimit:10;\" d=\"M 180.671875 209.316406 L 182.207031 209.316406 L 182.207031 214.5625 L 180.671875 214.5625 Z \"/>\n",
       "<path style=\"fill-rule:nonzero;fill:rgb(74.509804%,74.509804%,74.509804%);fill-opacity:1;stroke-width:1;stroke-linecap:round;stroke-linejoin:round;stroke:rgb(0%,0%,0%);stroke-opacity:1;stroke-miterlimit:10;\" d=\"M 182.511719 211.527344 L 184.046875 211.527344 L 184.046875 214.558594 L 182.511719 214.558594 Z \"/>\n",
       "<path style=\"fill-rule:nonzero;fill:rgb(74.509804%,74.509804%,74.509804%);fill-opacity:1;stroke-width:1;stroke-linecap:round;stroke-linejoin:round;stroke:rgb(0%,0%,0%);stroke-opacity:1;stroke-miterlimit:10;\" d=\"M 184.355469 212.878906 L 185.890625 212.878906 L 185.890625 214.558594 L 184.355469 214.558594 Z \"/>\n",
       "<path style=\"fill-rule:nonzero;fill:rgb(74.509804%,74.509804%,74.509804%);fill-opacity:1;stroke-width:1;stroke-linecap:round;stroke-linejoin:round;stroke:rgb(0%,0%,0%);stroke-opacity:1;stroke-miterlimit:10;\" d=\"M 186.199219 213.667969 L 187.734375 213.667969 L 187.734375 214.558594 L 186.199219 214.558594 Z \"/>\n",
       "<path style=\"fill-rule:nonzero;fill:rgb(74.509804%,74.509804%,74.509804%);fill-opacity:1;stroke-width:1;stroke-linecap:round;stroke-linejoin:round;stroke:rgb(0%,0%,0%);stroke-opacity:1;stroke-miterlimit:10;\" d=\"M 188.042969 214.109375 L 189.578125 214.109375 L 189.578125 214.5625 L 188.042969 214.5625 Z \"/>\n",
       "<path style=\"fill-rule:nonzero;fill:rgb(74.509804%,74.509804%,74.509804%);fill-opacity:1;stroke-width:1;stroke-linecap:round;stroke-linejoin:round;stroke:rgb(0%,0%,0%);stroke-opacity:1;stroke-miterlimit:10;\" d=\"M 189.886719 214.339844 L 191.421875 214.339844 L 191.421875 214.558594 L 189.886719 214.558594 Z \"/>\n",
       "<path style=\"fill-rule:nonzero;fill:rgb(74.509804%,74.509804%,74.509804%);fill-opacity:1;stroke-width:1;stroke-linecap:round;stroke-linejoin:round;stroke:rgb(0%,0%,0%);stroke-opacity:1;stroke-miterlimit:10;\" d=\"M 191.730469 214.457031 L 193.265625 214.457031 L 193.265625 214.558594 L 191.730469 214.558594 Z \"/>\n",
       "<path style=\"fill-rule:nonzero;fill:rgb(74.509804%,74.509804%,74.509804%);fill-opacity:1;stroke-width:1;stroke-linecap:round;stroke-linejoin:round;stroke:rgb(0%,0%,0%);stroke-opacity:1;stroke-miterlimit:10;\" d=\"M 193.570312 214.515625 L 195.105469 214.515625 L 195.105469 214.5625 L 193.570312 214.5625 Z \"/>\n",
       "<path style=\"fill-rule:nonzero;fill:rgb(74.509804%,74.509804%,74.509804%);fill-opacity:1;stroke-width:1;stroke-linecap:round;stroke-linejoin:round;stroke:rgb(0%,0%,0%);stroke-opacity:1;stroke-miterlimit:10;\" d=\"M 195.414062 214.539062 L 196.949219 214.539062 L 196.949219 214.558594 L 195.414062 214.558594 Z \"/>\n",
       "<path style=\"fill-rule:nonzero;fill:rgb(74.509804%,74.509804%,74.509804%);fill-opacity:1;stroke-width:1;stroke-linecap:round;stroke-linejoin:round;stroke:rgb(0%,0%,0%);stroke-opacity:1;stroke-miterlimit:10;\" d=\"M 197.257812 214.550781 L 198.792969 214.550781 L 198.792969 214.558594 L 197.257812 214.558594 Z \"/>\n",
       "<path style=\"fill-rule:nonzero;fill:rgb(74.509804%,74.509804%,74.509804%);fill-opacity:1;stroke-width:1;stroke-linecap:round;stroke-linejoin:round;stroke:rgb(0%,0%,0%);stroke-opacity:1;stroke-miterlimit:10;\" d=\"M 199.101562 214.558594 L 200.636719 214.558594 L 200.636719 214.5625 L 199.101562 214.5625 Z \"/>\n",
       "<path style=\"fill:none;stroke-width:1;stroke-linecap:round;stroke-linejoin:round;stroke:rgb(0%,0%,0%);stroke-opacity:1;stroke-miterlimit:10;\" d=\"M 200.945312 214.558594 L 202.480469 214.558594 Z \"/>\n",
       "<path style=\"fill:none;stroke-width:1;stroke-linecap:round;stroke-linejoin:round;stroke:rgb(0%,0%,0%);stroke-opacity:1;stroke-miterlimit:10;\" d=\"M 202.789062 214.558594 L 204.324219 214.558594 Z \"/>\n",
       "<path style=\"fill:none;stroke-width:1;stroke-linecap:round;stroke-linejoin:round;stroke:rgb(0%,0%,0%);stroke-opacity:1;stroke-miterlimit:10;\" d=\"M 204.628906 214.558594 L 206.164062 214.558594 Z \"/>\n",
       "<path style=\"fill:none;stroke-width:1;stroke-linecap:round;stroke-linejoin:round;stroke:rgb(0%,0%,0%);stroke-opacity:1;stroke-miterlimit:10;\" d=\"M 206.472656 214.558594 L 208.007812 214.558594 Z \"/>\n",
       "<path style=\"fill:none;stroke-width:1;stroke-linecap:round;stroke-linejoin:round;stroke:rgb(0%,0%,0%);stroke-opacity:1;stroke-miterlimit:10;\" d=\"M 208.316406 214.558594 L 209.851562 214.558594 Z \"/>\n",
       "<path style=\"fill:none;stroke-width:1;stroke-linecap:round;stroke-linejoin:round;stroke:rgb(0%,0%,0%);stroke-opacity:1;stroke-miterlimit:10;\" d=\"M 210.160156 214.558594 L 211.695312 214.558594 Z \"/>\n",
       "<path style=\"fill:none;stroke-width:1;stroke-linecap:round;stroke-linejoin:round;stroke:rgb(0%,0%,0%);stroke-opacity:1;stroke-miterlimit:10;\" d=\"M 212.003906 214.558594 L 213.539062 214.558594 Z \"/>\n",
       "<path style=\"fill:none;stroke-width:1;stroke-linecap:round;stroke-linejoin:round;stroke:rgb(0%,0%,0%);stroke-opacity:1;stroke-miterlimit:10;\" d=\"M 213.847656 214.558594 L 215.382812 214.558594 Z \"/>\n",
       "<path style=\"fill:none;stroke-width:1;stroke-linecap:round;stroke-linejoin:round;stroke:rgb(0%,0%,0%);stroke-opacity:1;stroke-miterlimit:10;\" d=\"M 215.6875 214.558594 L 217.222656 214.558594 Z \"/>\n",
       "<path style=\"fill:none;stroke-width:1;stroke-linecap:round;stroke-linejoin:round;stroke:rgb(0%,0%,0%);stroke-opacity:1;stroke-miterlimit:10;\" d=\"M 217.53125 214.558594 L 219.066406 214.558594 Z \"/>\n",
       "<path style=\"fill:none;stroke-width:1;stroke-linecap:round;stroke-linejoin:round;stroke:rgb(0%,0%,0%);stroke-opacity:1;stroke-miterlimit:10;\" d=\"M 219.375 214.558594 L 220.910156 214.558594 Z \"/>\n",
       "<path style=\"fill:none;stroke-width:1;stroke-linecap:round;stroke-linejoin:round;stroke:rgb(0%,0%,0%);stroke-opacity:1;stroke-miterlimit:10;\" d=\"M 221.21875 214.558594 L 222.753906 214.558594 Z \"/>\n",
       "<path style=\"fill:none;stroke-width:1;stroke-linecap:round;stroke-linejoin:round;stroke:rgb(0%,0%,0%);stroke-opacity:1;stroke-miterlimit:10;\" d=\"M 223.0625 214.558594 L 224.597656 214.558594 Z \"/>\n",
       "<path style=\"fill:none;stroke-width:1;stroke-linecap:round;stroke-linejoin:round;stroke:rgb(0%,0%,0%);stroke-opacity:1;stroke-miterlimit:10;\" d=\"M 224.902344 214.558594 L 226.4375 214.558594 Z \"/>\n",
       "<path style=\"fill:none;stroke-width:1;stroke-linecap:round;stroke-linejoin:round;stroke:rgb(0%,0%,0%);stroke-opacity:1;stroke-miterlimit:10;\" d=\"M 226.746094 214.558594 L 228.28125 214.558594 Z \"/>\n",
       "<path style=\"fill:none;stroke-width:1;stroke-linecap:round;stroke-linejoin:round;stroke:rgb(0%,0%,0%);stroke-opacity:1;stroke-miterlimit:10;\" d=\"M 228.589844 214.558594 L 230.125 214.558594 Z \"/>\n",
       "<path style=\"fill:none;stroke-width:1;stroke-linecap:round;stroke-linejoin:round;stroke:rgb(0%,0%,0%);stroke-opacity:1;stroke-miterlimit:10;\" d=\"M 230.433594 214.558594 L 231.96875 214.558594 Z \"/>\n",
       "<path style=\"fill:none;stroke-width:1;stroke-linecap:round;stroke-linejoin:round;stroke:rgb(0%,0%,0%);stroke-opacity:1;stroke-miterlimit:10;\" d=\"M 232.277344 214.558594 L 233.8125 214.558594 Z \"/>\n",
       "<path style=\"fill:none;stroke-width:1;stroke-linecap:round;stroke-linejoin:round;stroke:rgb(0%,0%,0%);stroke-opacity:1;stroke-miterlimit:10;\" d=\"M 234.121094 214.558594 L 235.65625 214.558594 Z \"/>\n",
       "<path style=\"fill:none;stroke-width:1;stroke-linecap:round;stroke-linejoin:round;stroke:rgb(0%,0%,0%);stroke-opacity:1;stroke-miterlimit:10;\" d=\"M 235.960938 214.558594 L 237.496094 214.558594 Z \"/>\n",
       "<path style=\"fill:none;stroke-width:1;stroke-linecap:round;stroke-linejoin:round;stroke:rgb(0%,0%,0%);stroke-opacity:1;stroke-miterlimit:10;\" d=\"M 237.804688 214.558594 L 239.339844 214.558594 Z \"/>\n",
       "<path style=\"fill:none;stroke-width:1;stroke-linecap:round;stroke-linejoin:round;stroke:rgb(0%,0%,0%);stroke-opacity:1;stroke-miterlimit:10;\" d=\"M 239.648438 214.558594 L 241.183594 214.558594 Z \"/>\n",
       "<path style=\"fill:none;stroke-width:1;stroke-linecap:round;stroke-linejoin:round;stroke:rgb(0%,0%,0%);stroke-opacity:1;stroke-miterlimit:10;\" d=\"M 241.492188 214.558594 L 243.027344 214.558594 Z \"/>\n",
       "<path style=\"fill:none;stroke-width:1;stroke-linecap:round;stroke-linejoin:round;stroke:rgb(0%,0%,0%);stroke-opacity:1;stroke-miterlimit:10;\" d=\"M 243.335938 214.558594 L 244.871094 214.558594 Z \"/>\n",
       "<path style=\"fill:none;stroke-width:1;stroke-linecap:round;stroke-linejoin:round;stroke:rgb(0%,0%,0%);stroke-opacity:1;stroke-miterlimit:10;\" d=\"M 245.179688 214.558594 L 246.714844 214.558594 Z \"/>\n",
       "<path style=\"fill:none;stroke-width:1;stroke-linecap:round;stroke-linejoin:round;stroke:rgb(0%,0%,0%);stroke-opacity:1;stroke-miterlimit:10;\" d=\"M 247.019531 214.558594 L 248.554688 214.558594 Z \"/>\n",
       "<path style=\"fill:none;stroke-width:1;stroke-linecap:round;stroke-linejoin:round;stroke:rgb(0%,0%,0%);stroke-opacity:1;stroke-miterlimit:10;\" d=\"M 248.863281 214.558594 L 250.398438 214.558594 Z \"/>\n",
       "<g style=\"fill:rgb(0%,0%,0%);fill-opacity:1;\">\n",
       "  <use xlink:href=\"#glyph0-1\" x=\"63.691406\" y=\"241.921875\"/>\n",
       "</g>\n",
       "<g style=\"fill:rgb(0%,0%,0%);fill-opacity:1;\">\n",
       "  <use xlink:href=\"#glyph0-1\" x=\"82.332031\" y=\"241.921875\"/>\n",
       "  <use xlink:href=\"#glyph0-2\" x=\"89.283936\" y=\"241.921875\"/>\n",
       "</g>\n",
       "<g style=\"fill:rgb(0%,0%,0%);fill-opacity:1;\">\n",
       "  <use xlink:href=\"#glyph0-3\" x=\"108.132812\" y=\"241.921875\"/>\n",
       "  <use xlink:href=\"#glyph0-4\" x=\"115.084717\" y=\"241.921875\"/>\n",
       "</g>\n",
       "<g style=\"fill:rgb(0%,0%,0%);fill-opacity:1;\">\n",
       "  <use xlink:href=\"#glyph0-5\" x=\"133.9375\" y=\"241.921875\"/>\n",
       "  <use xlink:href=\"#glyph0-1\" x=\"140.889404\" y=\"241.921875\"/>\n",
       "</g>\n",
       "<g style=\"fill:rgb(0%,0%,0%);fill-opacity:1;\">\n",
       "  <use xlink:href=\"#glyph0-6\" x=\"159.742188\" y=\"241.921875\"/>\n",
       "  <use xlink:href=\"#glyph0-6\" x=\"166.694092\" y=\"241.921875\"/>\n",
       "</g>\n",
       "<g style=\"fill:rgb(0%,0%,0%);fill-opacity:1;\">\n",
       "  <use xlink:href=\"#glyph0-7\" x=\"185.542969\" y=\"241.921875\"/>\n",
       "  <use xlink:href=\"#glyph0-8\" x=\"192.494873\" y=\"241.921875\"/>\n",
       "</g>\n",
       "<g style=\"fill:rgb(0%,0%,0%);fill-opacity:1;\">\n",
       "  <use xlink:href=\"#glyph0-9\" x=\"211.347656\" y=\"241.921875\"/>\n",
       "  <use xlink:href=\"#glyph0-2\" x=\"218.299561\" y=\"241.921875\"/>\n",
       "</g>\n",
       "<g style=\"fill:rgb(0%,0%,0%);fill-opacity:1;\">\n",
       "  <use xlink:href=\"#glyph0-8\" x=\"237.148438\" y=\"241.921875\"/>\n",
       "  <use xlink:href=\"#glyph0-4\" x=\"244.100342\" y=\"241.921875\"/>\n",
       "</g>\n",
       "<path style=\"fill:none;stroke-width:1;stroke-linecap:round;stroke-linejoin:round;stroke:rgb(0%,0%,0%);stroke-opacity:1;stroke-miterlimit:10;\" d=\"M 59.039062 214.558594 L 59.039062 59.039062 \"/>\n",
       "<path style=\"fill:none;stroke-width:1;stroke-linecap:round;stroke-linejoin:round;stroke:rgb(0%,0%,0%);stroke-opacity:1;stroke-miterlimit:10;\" d=\"M 59.039062 214.558594 L 51.839844 214.558594 \"/>\n",
       "<path style=\"fill:none;stroke-width:1;stroke-linecap:round;stroke-linejoin:round;stroke:rgb(0%,0%,0%);stroke-opacity:1;stroke-miterlimit:10;\" d=\"M 59.039062 175.679688 L 51.839844 175.679688 \"/>\n",
       "<path style=\"fill:none;stroke-width:1;stroke-linecap:round;stroke-linejoin:round;stroke:rgb(0%,0%,0%);stroke-opacity:1;stroke-miterlimit:10;\" d=\"M 59.039062 136.800781 L 51.839844 136.800781 \"/>\n",
       "<path style=\"fill:none;stroke-width:1;stroke-linecap:round;stroke-linejoin:round;stroke:rgb(0%,0%,0%);stroke-opacity:1;stroke-miterlimit:10;\" d=\"M 59.039062 97.921875 L 51.839844 97.921875 \"/>\n",
       "<path style=\"fill:none;stroke-width:1;stroke-linecap:round;stroke-linejoin:round;stroke:rgb(0%,0%,0%);stroke-opacity:1;stroke-miterlimit:10;\" d=\"M 59.039062 59.039062 L 51.839844 59.039062 \"/>\n",
       "<g style=\"fill:rgb(0%,0%,0%);fill-opacity:1;\">\n",
       "  <use xlink:href=\"#glyph1-1\" x=\"43.199219\" y=\"226.722656\"/>\n",
       "  <use xlink:href=\"#glyph1-2\" x=\"43.199219\" y=\"219.770752\"/>\n",
       "  <use xlink:href=\"#glyph1-1\" x=\"43.199219\" y=\"216.297852\"/>\n",
       "  <use xlink:href=\"#glyph1-1\" x=\"43.199219\" y=\"209.345947\"/>\n",
       "</g>\n",
       "<g style=\"fill:rgb(0%,0%,0%);fill-opacity:1;\">\n",
       "  <use xlink:href=\"#glyph1-1\" x=\"43.199219\" y=\"187.84375\"/>\n",
       "  <use xlink:href=\"#glyph1-2\" x=\"43.199219\" y=\"180.891846\"/>\n",
       "  <use xlink:href=\"#glyph1-1\" x=\"43.199219\" y=\"177.418945\"/>\n",
       "  <use xlink:href=\"#glyph1-3\" x=\"43.199219\" y=\"170.467041\"/>\n",
       "</g>\n",
       "<g style=\"fill:rgb(0%,0%,0%);fill-opacity:1;\">\n",
       "  <use xlink:href=\"#glyph1-1\" x=\"43.199219\" y=\"148.964844\"/>\n",
       "  <use xlink:href=\"#glyph1-2\" x=\"43.199219\" y=\"142.012939\"/>\n",
       "  <use xlink:href=\"#glyph1-1\" x=\"43.199219\" y=\"138.540039\"/>\n",
       "  <use xlink:href=\"#glyph1-4\" x=\"43.199219\" y=\"131.588135\"/>\n",
       "</g>\n",
       "<g style=\"fill:rgb(0%,0%,0%);fill-opacity:1;\">\n",
       "  <use xlink:href=\"#glyph1-1\" x=\"43.199219\" y=\"110.085938\"/>\n",
       "  <use xlink:href=\"#glyph1-2\" x=\"43.199219\" y=\"103.134033\"/>\n",
       "  <use xlink:href=\"#glyph1-1\" x=\"43.199219\" y=\"99.661133\"/>\n",
       "  <use xlink:href=\"#glyph1-5\" x=\"43.199219\" y=\"92.709229\"/>\n",
       "</g>\n",
       "<g style=\"fill:rgb(0%,0%,0%);fill-opacity:1;\">\n",
       "  <use xlink:href=\"#glyph1-1\" x=\"43.199219\" y=\"71.203125\"/>\n",
       "  <use xlink:href=\"#glyph1-2\" x=\"43.199219\" y=\"64.251221\"/>\n",
       "  <use xlink:href=\"#glyph1-1\" x=\"43.199219\" y=\"60.77832\"/>\n",
       "  <use xlink:href=\"#glyph1-6\" x=\"43.199219\" y=\"53.826416\"/>\n",
       "</g>\n",
       "</g>\n",
       "</svg>\n"
      ],
      "text/plain": [
       "plot without title"
      ]
     },
     "metadata": {
      "image/svg+xml": {
       "isolated": true
      }
     },
     "output_type": "display_data"
    }
   ],
   "source": [
    "barplot(dbinom(1:100,100,.5),names.arg=1:100,ylim=c(0,0.08))"
   ]
  },
  {
   "cell_type": "code",
   "execution_count": 96,
   "metadata": {
    "collapsed": false,
    "deletable": true,
    "editable": true
   },
   "outputs": [
    {
     "data": {
      "text/html": [
       "40"
      ],
      "text/latex": [
       "40"
      ],
      "text/markdown": [
       "40"
      ],
      "text/plain": [
       "[1] 40"
      ]
     },
     "execution_count": 96,
     "metadata": {},
     "output_type": "execute_result"
    },
    {
     "data": {
      "text/html": [
       "60"
      ],
      "text/latex": [
       "60"
      ],
      "text/markdown": [
       "60"
      ],
      "text/plain": [
       "[1] 60"
      ]
     },
     "execution_count": 96,
     "metadata": {},
     "output_type": "execute_result"
    }
   ],
   "source": [
    "qbinom(.025,100,.5)\n",
    "qbinom(.975,100,.5)"
   ]
  },
  {
   "cell_type": "markdown",
   "metadata": {
    "deletable": true,
    "editable": true
   },
   "source": [
    "So we would accept the null hypothesis if results **fall** between 40 and 60. And we would be wrong in 5% of the time (note that it is a two-tailed test, so 5% means 2.5% on each side)"
   ]
  },
  {
   "cell_type": "code",
   "execution_count": 97,
   "metadata": {
    "collapsed": false,
    "deletable": true,
    "editable": true
   },
   "outputs": [
    {
     "data": {
      "text/html": [
       "0.0284439668204904"
      ],
      "text/latex": [
       "0.0284439668204904"
      ],
      "text/markdown": [
       "0.0284439668204904"
      ],
      "text/plain": [
       "[1] 0.02844397"
      ]
     },
     "execution_count": 97,
     "metadata": {},
     "output_type": "execute_result"
    },
    {
     "data": {
      "text/html": [
       "0.982399899891148"
      ],
      "text/latex": [
       "0.982399899891148"
      ],
      "text/markdown": [
       "0.982399899891148"
      ],
      "text/plain": [
       "[1] 0.9823999"
      ]
     },
     "execution_count": 97,
     "metadata": {},
     "output_type": "execute_result"
    }
   ],
   "source": [
    "pbinom(40,100,.5)\n",
    "pbinom(60,100,.5)"
   ]
  },
  {
   "cell_type": "markdown",
   "metadata": {
    "deletable": true,
    "editable": true
   },
   "source": [
    "We simulate data and check that they behave as expected:"
   ]
  },
  {
   "cell_type": "code",
   "execution_count": 98,
   "metadata": {
    "collapsed": false,
    "deletable": true,
    "editable": true
   },
   "outputs": [
    {
     "data": {
      "text/html": [
       "0.04"
      ],
      "text/latex": [
       "0.04"
      ],
      "text/markdown": [
       "0.04"
      ],
      "text/plain": [
       "[1] 0.04"
      ]
     },
     "execution_count": 98,
     "metadata": {},
     "output_type": "execute_result"
    }
   ],
   "source": [
    "rr = rbinom(1000,100,.5);sum(rr<40|rr>60)/1000"
   ]
  },
  {
   "cell_type": "markdown",
   "metadata": {
    "collapsed": true,
    "deletable": true,
    "editable": true
   },
   "source": [
    "which is very close to what we obtain using the ```pbinom()``` function.\n",
    "\n",
    "Now, what happens if indeed the coin is not fair, i.e., one side is favoured? In this case the data would be others, but our hypothesis still would be the same, i.e., that the coin is fair. In that case we would use the same interval in order to accept or reject the null hypothesis. \n",
    "\n",
    "We can simulate the data that we would obtain if the coin is not fair, apply our statistical test and see what happens"
   ]
  },
  {
   "cell_type": "code",
   "execution_count": 99,
   "metadata": {
    "collapsed": false,
    "deletable": true,
    "editable": true
   },
   "outputs": [
    {
     "data": {
      "text/html": [
       "0.139"
      ],
      "text/latex": [
       "0.139"
      ],
      "text/markdown": [
       "0.139"
      ],
      "text/plain": [
       "[1] 0.139"
      ]
     },
     "execution_count": 99,
     "metadata": {},
     "output_type": "execute_result"
    }
   ],
   "source": [
    "rr = rbinom(1000,100,.55);sum(rr<40|rr>60)/1000"
   ]
  },
  {
   "cell_type": "markdown",
   "metadata": {
    "deletable": true,
    "editable": true
   },
   "source": [
    "Only in about 13% of the case we would reject the null hypothesis and declare the coin unfair... <mark>it means that in the rest of the time (about 87%) we will conclude that the coin is indeed fair.</mark>\n",
    "\n",
    "This is a very strong conclusion. It means that with this data (a 100 coin flips) we would wrongly conclude that the coin is unfair in 5% of the case if it is indeed fair and only in 13% of the cases our data would allow us to conclude that it is unfair when it is unfair by ES(effect size)=5% (|50%-5%|). "
   ]
  },
  {
   "cell_type": "markdown",
   "metadata": {
    "deletable": true,
    "editable": true
   },
   "source": [
    "I we repeat the same game but this time we toss the coin 500 times."
   ]
  },
  {
   "cell_type": "code",
   "execution_count": 100,
   "metadata": {
    "collapsed": false,
    "deletable": true,
    "editable": true
   },
   "outputs": [
    {
     "data": {
      "text/html": [
       "272"
      ],
      "text/latex": [
       "272"
      ],
      "text/markdown": [
       "272"
      ],
      "text/plain": [
       "[1] 272"
      ]
     },
     "execution_count": 100,
     "metadata": {},
     "output_type": "execute_result"
    },
    {
     "data": {
      "text/html": [
       "228"
      ],
      "text/latex": [
       "228"
      ],
      "text/markdown": [
       "228"
      ],
      "text/plain": [
       "[1] 228"
      ]
     },
     "execution_count": 100,
     "metadata": {},
     "output_type": "execute_result"
    }
   ],
   "source": [
    "qbinom(.975,500,.5)\n",
    "qbinom(.025,500,.5)"
   ]
  },
  {
   "cell_type": "code",
   "execution_count": 101,
   "metadata": {
    "collapsed": false,
    "deletable": true,
    "editable": true
   },
   "outputs": [
    {
     "data": {
      "text/html": [
       "0.576"
      ],
      "text/latex": [
       "0.576"
      ],
      "text/markdown": [
       "0.576"
      ],
      "text/plain": [
       "[1] 0.576"
      ]
     },
     "execution_count": 101,
     "metadata": {},
     "output_type": "execute_result"
    }
   ],
   "source": [
    "rr = rbinom(1000,500,.55);sum(rr<228|rr>272)/1000"
   ]
  },
  {
   "cell_type": "markdown",
   "metadata": {
    "deletable": true,
    "editable": true
   },
   "source": [
    "It means that we are now able to detect an unfair coin (ES=5%) with a much higher rate (about 60%)."
   ]
  },
  {
   "cell_type": "markdown",
   "metadata": {
    "deletable": true,
    "editable": true
   },
   "source": [
    "We can now design a function that will allows us to estimate the power as a function of the number of tosses:"
   ]
  },
  {
   "cell_type": "code",
   "execution_count": 102,
   "metadata": {
    "collapsed": false,
    "deletable": true,
    "editable": true
   },
   "outputs": [],
   "source": [
    "coin.power <- function(ntoss=100,nsim=1000,prob=.5){\n",
    "     lower <- qbinom(.025,ntoss,.5)\n",
    "     upper <- qbinom(.975,ntoss,.5)\n",
    "     rr <- rbinom(nsim,ntoss,prob)\n",
    "     sum(rr < lower | rr > upper) / nsim\n",
    " }"
   ]
  },
  {
   "cell_type": "code",
   "execution_count": 114,
   "metadata": {
    "collapsed": false,
    "deletable": true,
    "editable": true
   },
   "outputs": [
    {
     "data": {
      "text/html": [
       "<strong>1000:</strong> 0.892"
      ],
      "text/latex": [
       "\\textbf{1000:} 0.892"
      ],
      "text/markdown": [
       "**1000:** 0.892"
      ],
      "text/plain": [
       " 1000 \n",
       "0.892 "
      ]
     },
     "execution_count": 114,
     "metadata": {},
     "output_type": "execute_result"
    },
    {
     "data": {
      "image/png": "[encoded data removed]",
      "image/svg+xml": [
       "<?xml version=\"1.0\" encoding=\"UTF-8\"?>\n",
       "<svg xmlns=\"http://www.w3.org/2000/svg\" xmlns:xlink=\"http://www.w3.org/1999/xlink\" width=\"288pt\" height=\"288pt\" viewBox=\"0 0 288 288\" version=\"1.1\">\n",
       "<defs>\n",
       "<g>\n",
       "<symbol overflow=\"visible\" id=\"glyph0-0\">\n",
       "<path style=\"stroke:none;\" d=\"M 0.40625 0 L 0.40625 -8.96875 L 7.515625 -8.96875 L 7.515625 0 Z M 6.390625 -1.125 L 6.390625 -7.84375 L 1.53125 -7.84375 L 1.53125 -1.125 Z \"/>\n",
       "</symbol>\n",
       "<symbol overflow=\"visible\" id=\"glyph0-1\">\n",
       "<path style=\"stroke:none;\" d=\"M 3.375 -8.734375 C 4.507812 -8.734375 5.328125 -8.269531 5.828125 -7.34375 C 6.222656 -6.625 6.421875 -5.632812 6.421875 -4.375 C 6.421875 -3.1875 6.242188 -2.207031 5.890625 -1.4375 C 5.378906 -0.320312 4.539062 0.234375 3.375 0.234375 C 2.320312 0.234375 1.539062 -0.21875 1.03125 -1.125 C 0.601562 -1.882812 0.390625 -2.90625 0.390625 -4.1875 C 0.390625 -5.1875 0.519531 -6.039062 0.78125 -6.75 C 1.257812 -8.070312 2.125 -8.734375 3.375 -8.734375 Z M 3.375 -0.765625 C 3.9375 -0.765625 4.382812 -1.015625 4.71875 -1.515625 C 5.0625 -2.023438 5.234375 -2.96875 5.234375 -4.34375 C 5.234375 -5.332031 5.109375 -6.144531 4.859375 -6.78125 C 4.617188 -7.425781 4.148438 -7.75 3.453125 -7.75 C 2.804688 -7.75 2.332031 -7.441406 2.03125 -6.828125 C 1.726562 -6.222656 1.578125 -5.332031 1.578125 -4.15625 C 1.578125 -3.257812 1.675781 -2.539062 1.875 -2 C 2.164062 -1.175781 2.664062 -0.765625 3.375 -0.765625 Z \"/>\n",
       "</symbol>\n",
       "<symbol overflow=\"visible\" id=\"glyph0-2\">\n",
       "<path style=\"stroke:none;\" d=\"M 1.546875 -2.234375 C 1.617188 -1.597656 1.910156 -1.160156 2.421875 -0.921875 C 2.679688 -0.804688 2.984375 -0.75 3.328125 -0.75 C 3.972656 -0.75 4.453125 -0.953125 4.765625 -1.359375 C 5.078125 -1.773438 5.234375 -2.238281 5.234375 -2.75 C 5.234375 -3.351562 5.046875 -3.820312 4.671875 -4.15625 C 4.304688 -4.488281 3.863281 -4.65625 3.34375 -4.65625 C 2.957031 -4.65625 2.628906 -4.582031 2.359375 -4.4375 C 2.085938 -4.289062 1.859375 -4.085938 1.671875 -3.828125 L 0.71875 -3.890625 L 1.390625 -8.59375 L 5.921875 -8.59375 L 5.921875 -7.53125 L 2.203125 -7.53125 L 1.84375 -5.109375 C 2.039062 -5.253906 2.234375 -5.367188 2.421875 -5.453125 C 2.742188 -5.585938 3.117188 -5.65625 3.546875 -5.65625 C 4.347656 -5.65625 5.023438 -5.394531 5.578125 -4.875 C 6.140625 -4.363281 6.421875 -3.707031 6.421875 -2.90625 C 6.421875 -2.082031 6.164062 -1.351562 5.65625 -0.71875 C 5.144531 -0.09375 4.328125 0.21875 3.203125 0.21875 C 2.492188 0.21875 1.863281 0.0195312 1.3125 -0.375 C 0.769531 -0.78125 0.46875 -1.398438 0.40625 -2.234375 Z \"/>\n",
       "</symbol>\n",
       "<symbol overflow=\"visible\" id=\"glyph0-3\">\n",
       "<path style=\"stroke:none;\" d=\"M 1.203125 -6.1875 L 1.203125 -7.03125 C 1.992188 -7.101562 2.546875 -7.226562 2.859375 -7.40625 C 3.171875 -7.59375 3.40625 -8.023438 3.5625 -8.703125 L 4.421875 -8.703125 L 4.421875 0 L 3.25 0 L 3.25 -6.1875 Z \"/>\n",
       "</symbol>\n",
       "<symbol overflow=\"visible\" id=\"glyph0-4\">\n",
       "<path style=\"stroke:none;\" d=\"M 0.390625 0 C 0.429688 -0.75 0.585938 -1.398438 0.859375 -1.953125 C 1.128906 -2.515625 1.65625 -3.023438 2.4375 -3.484375 L 3.609375 -4.15625 C 4.140625 -4.46875 4.507812 -4.726562 4.71875 -4.9375 C 5.050781 -5.28125 5.21875 -5.671875 5.21875 -6.109375 C 5.21875 -6.609375 5.0625 -7.007812 4.75 -7.3125 C 4.445312 -7.613281 4.046875 -7.765625 3.546875 -7.765625 C 2.785156 -7.765625 2.265625 -7.476562 1.984375 -6.90625 C 1.828125 -6.601562 1.738281 -6.179688 1.71875 -5.640625 L 0.609375 -5.640625 C 0.617188 -6.398438 0.757812 -7.019531 1.03125 -7.5 C 1.5 -8.34375 2.335938 -8.765625 3.546875 -8.765625 C 4.546875 -8.765625 5.273438 -8.492188 5.734375 -7.953125 C 6.203125 -7.410156 6.4375 -6.8125 6.4375 -6.15625 C 6.4375 -5.457031 6.1875 -4.859375 5.6875 -4.359375 C 5.40625 -4.066406 4.894531 -3.71875 4.15625 -3.3125 L 3.328125 -2.84375 C 2.929688 -2.625 2.617188 -2.414062 2.390625 -2.21875 C 1.984375 -1.863281 1.726562 -1.46875 1.625 -1.03125 L 6.390625 -1.03125 L 6.390625 0 Z \"/>\n",
       "</symbol>\n",
       "<symbol overflow=\"visible\" id=\"glyph0-5\">\n",
       "<path style=\"stroke:none;\" d=\"M 0.1875 -3.421875 L 1.609375 -3.421875 L 2.171875 -5.53125 L 0.765625 -5.53125 L 0.953125 -6.234375 L 2.375 -6.234375 L 3.09375 -8.96875 L 4 -8.96875 L 3.265625 -6.234375 L 4.609375 -6.234375 L 5.359375 -8.96875 L 6.265625 -8.96875 L 5.53125 -6.234375 L 6.9375 -6.234375 L 6.75 -5.53125 L 5.328125 -5.53125 L 4.75 -3.421875 L 6.171875 -3.421875 L 5.984375 -2.71875 L 4.578125 -2.71875 L 3.828125 0 L 2.9375 0 L 3.671875 -2.71875 L 2.3125 -2.71875 L 1.59375 0 L 0.671875 0 L 1.421875 -2.71875 L 0 -2.71875 Z M 3.84375 -3.421875 L 4.421875 -5.53125 L 3.078125 -5.53125 L 2.515625 -3.421875 Z \"/>\n",
       "</symbol>\n",
       "<symbol overflow=\"visible\" id=\"glyph0-6\">\n",
       "<path style=\"stroke:none;\" d=\"\"/>\n",
       "</symbol>\n",
       "<symbol overflow=\"visible\" id=\"glyph0-7\">\n",
       "<path style=\"stroke:none;\" d=\"M 3.40625 -0.703125 C 4.132812 -0.703125 4.628906 -0.976562 4.890625 -1.53125 C 5.160156 -2.082031 5.296875 -2.695312 5.296875 -3.375 C 5.296875 -3.988281 5.203125 -4.484375 5.015625 -4.859375 C 4.703125 -5.460938 4.164062 -5.765625 3.40625 -5.765625 C 2.738281 -5.765625 2.25 -5.507812 1.9375 -5 C 1.632812 -4.488281 1.484375 -3.867188 1.484375 -3.140625 C 1.484375 -2.441406 1.632812 -1.859375 1.9375 -1.390625 C 2.25 -0.929688 2.738281 -0.703125 3.40625 -0.703125 Z M 3.4375 -6.71875 C 4.28125 -6.71875 4.992188 -6.4375 5.578125 -5.875 C 6.160156 -5.320312 6.453125 -4.5 6.453125 -3.40625 C 6.453125 -2.351562 6.191406 -1.484375 5.671875 -0.796875 C 5.160156 -0.109375 4.367188 0.234375 3.296875 0.234375 C 2.398438 0.234375 1.6875 -0.0664062 1.15625 -0.671875 C 0.625 -1.285156 0.359375 -2.101562 0.359375 -3.125 C 0.359375 -4.21875 0.632812 -5.085938 1.1875 -5.734375 C 1.75 -6.390625 2.5 -6.71875 3.4375 -6.71875 Z M 3.40625 -6.703125 Z \"/>\n",
       "</symbol>\n",
       "<symbol overflow=\"visible\" id=\"glyph0-8\">\n",
       "<path style=\"stroke:none;\" d=\"M 1.078125 -7.53125 C 1.097656 -7.988281 1.175781 -8.320312 1.3125 -8.53125 C 1.570312 -8.90625 2.066406 -9.09375 2.796875 -9.09375 C 2.867188 -9.09375 2.941406 -9.085938 3.015625 -9.078125 C 3.085938 -9.078125 3.171875 -9.070312 3.265625 -9.0625 L 3.265625 -8.0625 C 3.148438 -8.070312 3.066406 -8.078125 3.015625 -8.078125 C 2.960938 -8.085938 2.914062 -8.09375 2.875 -8.09375 C 2.539062 -8.09375 2.335938 -8.003906 2.265625 -7.828125 C 2.203125 -7.648438 2.171875 -7.207031 2.171875 -6.5 L 3.265625 -6.5 L 3.265625 -5.640625 L 2.171875 -5.640625 L 2.171875 0 L 1.078125 0 L 1.078125 -5.640625 L 0.171875 -5.640625 L 0.171875 -6.5 L 1.078125 -6.5 Z \"/>\n",
       "</symbol>\n",
       "<symbol overflow=\"visible\" id=\"glyph0-9\">\n",
       "<path style=\"stroke:none;\" d=\"M 1.03125 -8.359375 L 2.140625 -8.359375 L 2.140625 -6.53125 L 3.1875 -6.53125 L 3.1875 -5.640625 L 2.140625 -5.640625 L 2.140625 -1.375 C 2.140625 -1.144531 2.21875 -0.992188 2.375 -0.921875 C 2.457031 -0.867188 2.597656 -0.84375 2.796875 -0.84375 C 2.847656 -0.84375 2.90625 -0.84375 2.96875 -0.84375 C 3.03125 -0.851562 3.101562 -0.859375 3.1875 -0.859375 L 3.1875 0 C 3.050781 0.0390625 2.914062 0.0664062 2.78125 0.078125 C 2.644531 0.0976562 2.5 0.109375 2.34375 0.109375 C 1.832031 0.109375 1.484375 -0.0195312 1.296875 -0.28125 C 1.117188 -0.550781 1.03125 -0.894531 1.03125 -1.3125 L 1.03125 -5.640625 L 0.140625 -5.640625 L 0.140625 -6.53125 L 1.03125 -6.53125 Z \"/>\n",
       "</symbol>\n",
       "<symbol overflow=\"visible\" id=\"glyph0-10\">\n",
       "<path style=\"stroke:none;\" d=\"M 1.453125 -2.046875 C 1.484375 -1.679688 1.578125 -1.398438 1.734375 -1.203125 C 2.015625 -0.847656 2.492188 -0.671875 3.171875 -0.671875 C 3.578125 -0.671875 3.9375 -0.757812 4.25 -0.9375 C 4.5625 -1.113281 4.71875 -1.390625 4.71875 -1.765625 C 4.71875 -2.046875 4.59375 -2.257812 4.34375 -2.40625 C 4.1875 -2.5 3.875 -2.601562 3.40625 -2.71875 L 2.53125 -2.9375 C 1.96875 -3.070312 1.554688 -3.226562 1.296875 -3.40625 C 0.828125 -3.695312 0.59375 -4.101562 0.59375 -4.625 C 0.59375 -5.25 0.8125 -5.75 1.25 -6.125 C 1.695312 -6.507812 2.296875 -6.703125 3.046875 -6.703125 C 4.035156 -6.703125 4.75 -6.414062 5.1875 -5.84375 C 5.457031 -5.476562 5.585938 -5.082031 5.578125 -4.65625 L 4.546875 -4.65625 C 4.523438 -4.90625 4.4375 -5.128906 4.28125 -5.328125 C 4.03125 -5.617188 3.59375 -5.765625 2.96875 -5.765625 C 2.550781 -5.765625 2.234375 -5.6875 2.015625 -5.53125 C 1.804688 -5.375 1.703125 -5.164062 1.703125 -4.90625 C 1.703125 -4.613281 1.84375 -4.382812 2.125 -4.21875 C 2.289062 -4.113281 2.53125 -4.023438 2.84375 -3.953125 L 3.578125 -3.765625 C 4.359375 -3.578125 4.882812 -3.394531 5.15625 -3.21875 C 5.582031 -2.9375 5.796875 -2.492188 5.796875 -1.890625 C 5.796875 -1.304688 5.570312 -0.800781 5.125 -0.375 C 4.6875 0.0390625 4.019531 0.25 3.125 0.25 C 2.144531 0.25 1.453125 0.03125 1.046875 -0.40625 C 0.648438 -0.851562 0.4375 -1.398438 0.40625 -2.046875 Z M 3.078125 -6.703125 Z \"/>\n",
       "</symbol>\n",
       "<symbol overflow=\"visible\" id=\"glyph1-0\">\n",
       "<path style=\"stroke:none;\" d=\"M 0 -0.40625 L -8.96875 -0.40625 L -8.96875 -7.515625 L 0 -7.515625 Z M -1.125 -6.390625 L -7.84375 -6.390625 L -7.84375 -1.53125 L -1.125 -1.53125 Z \"/>\n",
       "</symbol>\n",
       "<symbol overflow=\"visible\" id=\"glyph1-1\">\n",
       "<path style=\"stroke:none;\" d=\"M -8.734375 -3.375 C -8.734375 -4.507812 -8.269531 -5.328125 -7.34375 -5.828125 C -6.625 -6.222656 -5.632812 -6.421875 -4.375 -6.421875 C -3.1875 -6.421875 -2.207031 -6.242188 -1.4375 -5.890625 C -0.320312 -5.378906 0.234375 -4.539062 0.234375 -3.375 C 0.234375 -2.320312 -0.21875 -1.539062 -1.125 -1.03125 C -1.882812 -0.601562 -2.90625 -0.390625 -4.1875 -0.390625 C -5.1875 -0.390625 -6.039062 -0.519531 -6.75 -0.78125 C -8.070312 -1.257812 -8.734375 -2.125 -8.734375 -3.375 Z M -0.765625 -3.375 C -0.765625 -3.9375 -1.015625 -4.382812 -1.515625 -4.71875 C -2.023438 -5.0625 -2.96875 -5.234375 -4.34375 -5.234375 C -5.332031 -5.234375 -6.144531 -5.109375 -6.78125 -4.859375 C -7.425781 -4.617188 -7.75 -4.148438 -7.75 -3.453125 C -7.75 -2.804688 -7.441406 -2.332031 -6.828125 -2.03125 C -6.222656 -1.726562 -5.332031 -1.578125 -4.15625 -1.578125 C -3.257812 -1.578125 -2.539062 -1.675781 -2 -1.875 C -1.175781 -2.164062 -0.765625 -2.664062 -0.765625 -3.375 Z \"/>\n",
       "</symbol>\n",
       "<symbol overflow=\"visible\" id=\"glyph1-2\">\n",
       "<path style=\"stroke:none;\" d=\"M -1.328125 -1.0625 L -1.328125 -2.34375 L 0 -2.34375 L 0 -1.0625 Z \"/>\n",
       "</symbol>\n",
       "<symbol overflow=\"visible\" id=\"glyph1-3\">\n",
       "<path style=\"stroke:none;\" d=\"M 0 -0.390625 C -0.75 -0.429688 -1.398438 -0.585938 -1.953125 -0.859375 C -2.515625 -1.128906 -3.023438 -1.65625 -3.484375 -2.4375 L -4.15625 -3.609375 C -4.46875 -4.140625 -4.726562 -4.507812 -4.9375 -4.71875 C -5.28125 -5.050781 -5.671875 -5.21875 -6.109375 -5.21875 C -6.609375 -5.21875 -7.007812 -5.0625 -7.3125 -4.75 C -7.613281 -4.445312 -7.765625 -4.046875 -7.765625 -3.546875 C -7.765625 -2.785156 -7.476562 -2.265625 -6.90625 -1.984375 C -6.601562 -1.828125 -6.179688 -1.738281 -5.640625 -1.71875 L -5.640625 -0.609375 C -6.398438 -0.617188 -7.019531 -0.757812 -7.5 -1.03125 C -8.34375 -1.5 -8.765625 -2.335938 -8.765625 -3.546875 C -8.765625 -4.546875 -8.492188 -5.273438 -7.953125 -5.734375 C -7.410156 -6.203125 -6.8125 -6.4375 -6.15625 -6.4375 C -5.457031 -6.4375 -4.859375 -6.1875 -4.359375 -5.6875 C -4.066406 -5.40625 -3.71875 -4.894531 -3.3125 -4.15625 L -2.84375 -3.328125 C -2.625 -2.929688 -2.414062 -2.617188 -2.21875 -2.390625 C -1.863281 -1.984375 -1.46875 -1.726562 -1.03125 -1.625 L -1.03125 -6.390625 L 0 -6.390625 Z \"/>\n",
       "</symbol>\n",
       "<symbol overflow=\"visible\" id=\"glyph1-4\">\n",
       "<path style=\"stroke:none;\" d=\"M -3.09375 -4.125 L -7.0625 -4.125 L -3.09375 -1.328125 Z M 0 -4.15625 L -2.140625 -4.15625 L -2.140625 -0.3125 L -3.203125 -0.3125 L -8.765625 -4.328125 L -8.765625 -5.25 L -3.09375 -5.25 L -3.09375 -6.53125 L -2.140625 -6.53125 L -2.140625 -5.25 L 0 -5.25 Z \"/>\n",
       "</symbol>\n",
       "<symbol overflow=\"visible\" id=\"glyph1-5\">\n",
       "<path style=\"stroke:none;\" d=\"M -8.78125 -3.65625 C -8.78125 -4.632812 -8.523438 -5.316406 -8.015625 -5.703125 C -7.503906 -6.085938 -6.984375 -6.28125 -6.453125 -6.28125 L -6.453125 -5.1875 C -6.796875 -5.125 -7.066406 -5.019531 -7.265625 -4.875 C -7.628906 -4.613281 -7.8125 -4.210938 -7.8125 -3.671875 C -7.8125 -3.054688 -7.523438 -2.566406 -6.953125 -2.203125 C -6.390625 -1.847656 -5.578125 -1.648438 -4.515625 -1.609375 C -4.890625 -1.859375 -5.171875 -2.175781 -5.359375 -2.5625 C -5.515625 -2.90625 -5.59375 -3.296875 -5.59375 -3.734375 C -5.59375 -4.460938 -5.359375 -5.097656 -4.890625 -5.640625 C -4.421875 -6.191406 -3.722656 -6.46875 -2.796875 -6.46875 C -2.003906 -6.46875 -1.300781 -6.207031 -0.6875 -5.6875 C -0.0820312 -5.164062 0.21875 -4.429688 0.21875 -3.484375 C 0.21875 -2.660156 -0.0859375 -1.953125 -0.703125 -1.359375 C -1.328125 -0.765625 -2.375 -0.46875 -3.84375 -0.46875 C -4.925781 -0.46875 -5.847656 -0.597656 -6.609375 -0.859375 C -8.054688 -1.367188 -8.78125 -2.300781 -8.78125 -3.65625 Z M -0.75 -3.578125 C -0.75 -4.148438 -0.941406 -4.578125 -1.328125 -4.859375 C -1.722656 -5.148438 -2.179688 -5.296875 -2.703125 -5.296875 C -3.148438 -5.296875 -3.578125 -5.164062 -3.984375 -4.90625 C -4.390625 -4.65625 -4.59375 -4.191406 -4.59375 -3.515625 C -4.59375 -3.046875 -4.4375 -2.632812 -4.125 -2.28125 C -3.8125 -1.925781 -3.335938 -1.75 -2.703125 -1.75 C -2.148438 -1.75 -1.6875 -1.910156 -1.3125 -2.234375 C -0.9375 -2.554688 -0.75 -3.003906 -0.75 -3.578125 Z \"/>\n",
       "</symbol>\n",
       "<symbol overflow=\"visible\" id=\"glyph1-6\">\n",
       "<path style=\"stroke:none;\" d=\"M -5.078125 -3.40625 C -5.078125 -3.882812 -5.210938 -4.257812 -5.484375 -4.53125 C -5.753906 -4.800781 -6.078125 -4.9375 -6.453125 -4.9375 C -6.773438 -4.9375 -7.070312 -4.804688 -7.34375 -4.546875 C -7.613281 -4.285156 -7.75 -3.890625 -7.75 -3.359375 C -7.75 -2.828125 -7.613281 -2.441406 -7.34375 -2.203125 C -7.070312 -1.972656 -6.753906 -1.859375 -6.390625 -1.859375 C -5.984375 -1.859375 -5.660156 -2.007812 -5.421875 -2.3125 C -5.191406 -2.625 -5.078125 -2.988281 -5.078125 -3.40625 Z M -0.75 -3.46875 C -0.75 -3.976562 -0.882812 -4.398438 -1.15625 -4.734375 C -1.4375 -5.066406 -1.847656 -5.234375 -2.390625 -5.234375 C -2.953125 -5.234375 -3.378906 -5.0625 -3.671875 -4.71875 C -3.972656 -4.375 -4.125 -3.929688 -4.125 -3.390625 C -4.125 -2.859375 -3.972656 -2.425781 -3.671875 -2.09375 C -3.367188 -1.769531 -2.953125 -1.609375 -2.421875 -1.609375 C -1.972656 -1.609375 -1.582031 -1.757812 -1.25 -2.0625 C -0.914062 -2.363281 -0.75 -2.832031 -0.75 -3.46875 Z M -4.65625 -1.90625 C -4.789062 -1.601562 -4.941406 -1.363281 -5.109375 -1.1875 C -5.441406 -0.863281 -5.867188 -0.703125 -6.390625 -0.703125 C -7.035156 -0.703125 -7.59375 -0.9375 -8.0625 -1.40625 C -8.53125 -1.882812 -8.765625 -2.554688 -8.765625 -3.421875 C -8.765625 -4.265625 -8.539062 -4.921875 -8.09375 -5.390625 C -7.65625 -5.867188 -7.144531 -6.109375 -6.5625 -6.109375 C -6.007812 -6.109375 -5.566406 -5.96875 -5.234375 -5.6875 C -5.035156 -5.539062 -4.847656 -5.300781 -4.671875 -4.96875 C -4.503906 -5.332031 -4.3125 -5.617188 -4.09375 -5.828125 C -3.6875 -6.210938 -3.160156 -6.40625 -2.515625 -6.40625 C -1.742188 -6.40625 -1.085938 -6.144531 -0.546875 -5.625 C -0.015625 -5.113281 0.25 -4.382812 0.25 -3.4375 C 0.25 -2.59375 0.0195312 -1.875 -0.4375 -1.28125 C -0.90625 -0.695312 -1.578125 -0.40625 -2.453125 -0.40625 C -2.972656 -0.40625 -3.421875 -0.53125 -3.796875 -0.78125 C -4.171875 -1.03125 -4.457031 -1.40625 -4.65625 -1.90625 Z \"/>\n",
       "</symbol>\n",
       "<symbol overflow=\"visible\" id=\"glyph1-7\">\n",
       "<path style=\"stroke:none;\" d=\"M -6.1875 -1.203125 L -7.03125 -1.203125 C -7.101562 -1.992188 -7.226562 -2.546875 -7.40625 -2.859375 C -7.59375 -3.171875 -8.023438 -3.40625 -8.703125 -3.5625 L -8.703125 -4.421875 L 0 -4.421875 L 0 -3.25 L -6.1875 -3.25 Z \"/>\n",
       "</symbol>\n",
       "<symbol overflow=\"visible\" id=\"glyph1-8\">\n",
       "<path style=\"stroke:none;\" d=\"M -0.734375 -3.5625 C -0.734375 -4.070312 -0.945312 -4.5 -1.375 -4.84375 C -1.8125 -5.1875 -2.457031 -5.359375 -3.3125 -5.359375 C -3.832031 -5.359375 -4.28125 -5.28125 -4.65625 -5.125 C -5.375 -4.84375 -5.734375 -4.320312 -5.734375 -3.5625 C -5.734375 -2.800781 -5.351562 -2.28125 -4.59375 -2 C -4.1875 -1.851562 -3.671875 -1.78125 -3.046875 -1.78125 C -2.535156 -1.78125 -2.101562 -1.851562 -1.75 -2 C -1.070312 -2.28125 -0.734375 -2.800781 -0.734375 -3.5625 Z M -6.5 -0.71875 L -6.5 -1.78125 L -5.640625 -1.78125 C -5.929688 -2.007812 -6.160156 -2.253906 -6.328125 -2.515625 C -6.578125 -2.878906 -6.703125 -3.3125 -6.703125 -3.8125 C -6.703125 -4.550781 -6.414062 -5.175781 -5.84375 -5.6875 C -5.28125 -6.207031 -4.46875 -6.46875 -3.40625 -6.46875 C -1.988281 -6.46875 -0.972656 -6.097656 -0.359375 -5.359375 C 0.0234375 -4.890625 0.21875 -4.34375 0.21875 -3.71875 C 0.21875 -3.21875 0.109375 -2.800781 -0.109375 -2.46875 C -0.222656 -2.269531 -0.429688 -2.050781 -0.734375 -1.8125 L 2.609375 -1.8125 L 2.609375 -0.71875 Z \"/>\n",
       "</symbol>\n",
       "<symbol overflow=\"visible\" id=\"glyph1-9\">\n",
       "<path style=\"stroke:none;\" d=\"M -0.703125 -3.40625 C -0.703125 -4.132812 -0.976562 -4.628906 -1.53125 -4.890625 C -2.082031 -5.160156 -2.695312 -5.296875 -3.375 -5.296875 C -3.988281 -5.296875 -4.484375 -5.203125 -4.859375 -5.015625 C -5.460938 -4.703125 -5.765625 -4.164062 -5.765625 -3.40625 C -5.765625 -2.738281 -5.507812 -2.25 -5 -1.9375 C -4.488281 -1.632812 -3.867188 -1.484375 -3.140625 -1.484375 C -2.441406 -1.484375 -1.859375 -1.632812 -1.390625 -1.9375 C -0.929688 -2.25 -0.703125 -2.738281 -0.703125 -3.40625 Z M -6.71875 -3.4375 C -6.71875 -4.28125 -6.4375 -4.992188 -5.875 -5.578125 C -5.320312 -6.160156 -4.5 -6.453125 -3.40625 -6.453125 C -2.351562 -6.453125 -1.484375 -6.191406 -0.796875 -5.671875 C -0.109375 -5.160156 0.234375 -4.367188 0.234375 -3.296875 C 0.234375 -2.398438 -0.0664062 -1.6875 -0.671875 -1.15625 C -1.285156 -0.625 -2.101562 -0.359375 -3.125 -0.359375 C -4.21875 -0.359375 -5.085938 -0.632812 -5.734375 -1.1875 C -6.390625 -1.75 -6.71875 -2.5 -6.71875 -3.4375 Z M -6.703125 -3.40625 Z \"/>\n",
       "</symbol>\n",
       "<symbol overflow=\"visible\" id=\"glyph1-10\">\n",
       "<path style=\"stroke:none;\" d=\"M -6.53125 -1.3125 L -1.390625 -2.5625 L -6.53125 -3.84375 L -6.53125 -5.078125 L -1.421875 -6.359375 L -6.53125 -7.703125 L -6.53125 -8.796875 L 0 -6.890625 L 0 -5.75 L -5.0625 -4.421875 L 0 -3.140625 L 0 -2 L -6.53125 -0.109375 Z \"/>\n",
       "</symbol>\n",
       "<symbol overflow=\"visible\" id=\"glyph1-11\">\n",
       "<path style=\"stroke:none;\" d=\"M -6.6875 -3.53125 C -6.6875 -3.988281 -6.578125 -4.4375 -6.359375 -4.875 C -6.140625 -5.3125 -5.859375 -5.644531 -5.515625 -5.875 C -5.179688 -6.09375 -4.796875 -6.238281 -4.359375 -6.3125 C -4.054688 -6.375 -3.578125 -6.40625 -2.921875 -6.40625 L -2.921875 -1.625 C -2.253906 -1.632812 -1.71875 -1.785156 -1.3125 -2.078125 C -0.914062 -2.378906 -0.71875 -2.835938 -0.71875 -3.453125 C -0.71875 -4.023438 -0.90625 -4.484375 -1.28125 -4.828125 C -1.507812 -5.015625 -1.765625 -5.148438 -2.046875 -5.234375 L -2.046875 -6.3125 C -1.804688 -6.289062 -1.539062 -6.195312 -1.25 -6.03125 C -0.957031 -5.875 -0.71875 -5.695312 -0.53125 -5.5 C -0.195312 -5.164062 0.0234375 -4.75 0.140625 -4.25 C 0.203125 -3.988281 0.234375 -3.691406 0.234375 -3.359375 C 0.234375 -2.546875 -0.0625 -1.851562 -0.65625 -1.28125 C -1.25 -0.71875 -2.078125 -0.4375 -3.140625 -0.4375 C -4.191406 -0.4375 -5.046875 -0.722656 -5.703125 -1.296875 C -6.359375 -1.867188 -6.6875 -2.613281 -6.6875 -3.53125 Z M -3.796875 -5.28125 C -4.265625 -5.238281 -4.644531 -5.132812 -4.9375 -4.96875 C -5.457031 -4.664062 -5.71875 -4.160156 -5.71875 -3.453125 C -5.71875 -2.953125 -5.535156 -2.53125 -5.171875 -2.1875 C -4.804688 -1.84375 -4.347656 -1.660156 -3.796875 -1.640625 Z M -6.703125 -3.421875 Z \"/>\n",
       "</symbol>\n",
       "<symbol overflow=\"visible\" id=\"glyph1-12\">\n",
       "<path style=\"stroke:none;\" d=\"M -6.53125 -0.84375 L -6.53125 -1.875 L -5.40625 -1.875 C -5.625 -1.96875 -5.890625 -2.179688 -6.203125 -2.515625 C -6.523438 -2.847656 -6.6875 -3.226562 -6.6875 -3.65625 C -6.6875 -3.675781 -6.679688 -3.710938 -6.671875 -3.765625 C -6.671875 -3.816406 -6.664062 -3.898438 -6.65625 -4.015625 L -5.5 -4.015625 C -5.507812 -3.953125 -5.515625 -3.890625 -5.515625 -3.828125 C -5.523438 -3.773438 -5.53125 -3.71875 -5.53125 -3.65625 C -5.53125 -3.101562 -5.347656 -2.675781 -4.984375 -2.375 C -4.628906 -2.082031 -4.222656 -1.9375 -3.765625 -1.9375 L 0 -1.9375 L 0 -0.84375 Z \"/>\n",
       "</symbol>\n",
       "<symbol overflow=\"visible\" id=\"glyph2-0\">\n",
       "<path style=\"stroke:none;\" d=\"M 0.484375 0 L 0.484375 -10.6875 L 8.96875 -10.6875 L 8.96875 0 Z M 7.625 -1.34375 L 7.625 -9.359375 L 1.8125 -9.359375 L 1.8125 -1.34375 Z \"/>\n",
       "</symbol>\n",
       "<symbol overflow=\"visible\" id=\"glyph2-1\">\n",
       "<path style=\"stroke:none;\" d=\"M 1.28125 -10.6875 L 9.0625 -10.6875 L 9.0625 -9.375 L 2.6875 -9.375 L 2.6875 -6.140625 L 8.59375 -6.140625 L 8.59375 -4.890625 L 2.6875 -4.890625 L 2.6875 -1.28125 L 9.171875 -1.28125 L 9.171875 0 L 1.28125 0 Z M 5.21875 -10.6875 Z \"/>\n",
       "</symbol>\n",
       "<symbol overflow=\"visible\" id=\"glyph2-2\">\n",
       "<path style=\"stroke:none;\" d=\"M 2.078125 -3.453125 C 2.109375 -2.847656 2.253906 -2.351562 2.515625 -1.96875 C 2.992188 -1.257812 3.835938 -0.90625 5.046875 -0.90625 C 5.585938 -0.90625 6.082031 -0.984375 6.53125 -1.140625 C 7.394531 -1.441406 7.828125 -1.984375 7.828125 -2.765625 C 7.828125 -3.335938 7.644531 -3.75 7.28125 -4 C 6.914062 -4.238281 6.335938 -4.453125 5.546875 -4.640625 L 4.109375 -4.96875 C 3.160156 -5.175781 2.488281 -5.410156 2.09375 -5.671875 C 1.414062 -6.117188 1.078125 -6.785156 1.078125 -7.671875 C 1.078125 -8.628906 1.410156 -9.414062 2.078125 -10.03125 C 2.742188 -10.65625 3.679688 -10.96875 4.890625 -10.96875 C 6.015625 -10.96875 6.96875 -10.695312 7.75 -10.15625 C 8.539062 -9.613281 8.9375 -8.75 8.9375 -7.5625 L 7.5625 -7.5625 C 7.488281 -8.125 7.335938 -8.5625 7.109375 -8.875 C 6.660156 -9.425781 5.910156 -9.703125 4.859375 -9.703125 C 4.003906 -9.703125 3.390625 -9.519531 3.015625 -9.15625 C 2.640625 -8.800781 2.453125 -8.390625 2.453125 -7.921875 C 2.453125 -7.398438 2.671875 -7.015625 3.109375 -6.765625 C 3.390625 -6.609375 4.035156 -6.414062 5.046875 -6.1875 L 6.546875 -5.84375 C 7.273438 -5.675781 7.832031 -5.453125 8.21875 -5.171875 C 8.90625 -4.671875 9.25 -3.941406 9.25 -2.984375 C 9.25 -1.804688 8.816406 -0.960938 7.953125 -0.453125 C 7.085938 0.0546875 6.085938 0.3125 4.953125 0.3125 C 3.617188 0.3125 2.578125 -0.0234375 1.828125 -0.703125 C 1.078125 -1.378906 0.707031 -2.296875 0.71875 -3.453125 Z M 5 -10.984375 Z \"/>\n",
       "</symbol>\n",
       "<symbol overflow=\"visible\" id=\"glyph2-3\">\n",
       "<path style=\"stroke:none;\" d=\"M 8.265625 -5.984375 L 8.265625 -4.765625 L 0.671875 -4.765625 L 0.671875 -5.984375 Z M 8.265625 -2.859375 L 8.265625 -1.609375 L 0.671875 -1.609375 L 0.671875 -2.859375 Z \"/>\n",
       "</symbol>\n",
       "<symbol overflow=\"visible\" id=\"glyph2-4\">\n",
       "<path style=\"stroke:none;\" d=\"M 1.84375 -2.65625 C 1.925781 -1.90625 2.269531 -1.390625 2.875 -1.109375 C 3.1875 -0.960938 3.546875 -0.890625 3.953125 -0.890625 C 4.734375 -0.890625 5.3125 -1.132812 5.6875 -1.625 C 6.0625 -2.125 6.25 -2.675781 6.25 -3.28125 C 6.25 -4 6.023438 -4.554688 5.578125 -4.953125 C 5.128906 -5.359375 4.597656 -5.5625 3.984375 -5.5625 C 3.523438 -5.5625 3.132812 -5.472656 2.8125 -5.296875 C 2.5 -5.117188 2.226562 -4.878906 2 -4.578125 L 0.859375 -4.640625 L 1.65625 -10.25 L 7.0625 -10.25 L 7.0625 -8.984375 L 2.640625 -8.984375 L 2.1875 -6.078125 C 2.4375 -6.265625 2.664062 -6.40625 2.875 -6.5 C 3.269531 -6.65625 3.722656 -6.734375 4.234375 -6.734375 C 5.179688 -6.734375 5.988281 -6.425781 6.65625 -5.8125 C 7.320312 -5.195312 7.65625 -4.414062 7.65625 -3.46875 C 7.65625 -2.488281 7.347656 -1.617188 6.734375 -0.859375 C 6.128906 -0.109375 5.160156 0.265625 3.828125 0.265625 C 2.984375 0.265625 2.234375 0.0234375 1.578125 -0.453125 C 0.921875 -0.929688 0.554688 -1.664062 0.484375 -2.65625 Z \"/>\n",
       "</symbol>\n",
       "<symbol overflow=\"visible\" id=\"glyph2-5\">\n",
       "<path style=\"stroke:none;\" d=\"M 10.15625 -5.0625 C 10.851562 -5.0625 11.445312 -4.8125 11.9375 -4.3125 C 12.4375 -3.820312 12.6875 -3.226562 12.6875 -2.53125 C 12.6875 -1.832031 12.4375 -1.234375 11.9375 -0.734375 C 11.445312 -0.242188 10.851562 0 10.15625 0 C 9.457031 0 8.859375 -0.242188 8.359375 -0.734375 C 7.867188 -1.234375 7.625 -1.832031 7.625 -2.53125 C 7.625 -3.226562 7.867188 -3.820312 8.359375 -4.3125 C 8.859375 -4.8125 9.457031 -5.0625 10.15625 -5.0625 Z M 9.109375 -10.375 L 9.90625 -10.375 L 4.078125 0.28125 L 3.28125 0.28125 Z M 3.015625 -6.0625 C 3.429688 -6.0625 3.785156 -6.207031 4.078125 -6.5 C 4.367188 -6.800781 4.515625 -7.15625 4.515625 -7.5625 C 4.515625 -7.976562 4.367188 -8.332031 4.078125 -8.625 C 3.785156 -8.914062 3.429688 -9.0625 3.015625 -9.0625 C 2.597656 -9.0625 2.242188 -8.914062 1.953125 -8.625 C 1.660156 -8.34375 1.515625 -7.988281 1.515625 -7.5625 C 1.515625 -7.15625 1.660156 -6.800781 1.953125 -6.5 C 2.242188 -6.207031 2.597656 -6.0625 3.015625 -6.0625 Z M 3.015625 -10.109375 C 3.710938 -10.109375 4.304688 -9.859375 4.796875 -9.359375 C 5.296875 -8.867188 5.546875 -8.269531 5.546875 -7.5625 C 5.546875 -6.863281 5.296875 -6.265625 4.796875 -5.765625 C 4.304688 -5.273438 3.710938 -5.03125 3.015625 -5.03125 C 2.316406 -5.03125 1.71875 -5.273438 1.21875 -5.765625 C 0.726562 -6.265625 0.484375 -6.863281 0.484375 -7.5625 C 0.484375 -8.269531 0.726562 -8.867188 1.21875 -9.359375 C 1.71875 -9.859375 2.316406 -10.109375 3.015625 -10.109375 Z M 10.15625 -1.03125 C 10.570312 -1.03125 10.925781 -1.175781 11.21875 -1.46875 C 11.507812 -1.769531 11.65625 -2.125 11.65625 -2.53125 C 11.65625 -2.945312 11.507812 -3.300781 11.21875 -3.59375 C 10.925781 -3.882812 10.570312 -4.03125 10.15625 -4.03125 C 9.738281 -4.03125 9.382812 -3.882812 9.09375 -3.59375 C 8.800781 -3.300781 8.65625 -2.945312 8.65625 -2.53125 C 8.65625 -2.125 8.800781 -1.769531 9.09375 -1.46875 C 9.382812 -1.175781 9.738281 -1.03125 10.15625 -1.03125 Z \"/>\n",
       "</symbol>\n",
       "</g>\n",
       "<clipPath id=\"clip1\">\n",
       "  <path d=\"M 139 59.039062 L 141 59.039062 L 141 215.558594 L 139 215.558594 Z \"/>\n",
       "</clipPath>\n",
       "<clipPath id=\"clip2\">\n",
       "  <path d=\"M 59.039062 80 L 258.757812 80 L 258.757812 82 L 59.039062 82 Z \"/>\n",
       "</clipPath>\n",
       "</defs>\n",
       "<g id=\"surface968\">\n",
       "<rect x=\"0\" y=\"0\" width=\"288\" height=\"288\" style=\"fill:rgb(100%,100%,100%);fill-opacity:1;stroke:none;\"/>\n",
       "<path style=\"fill:none;stroke-width:1;stroke-linecap:round;stroke-linejoin:round;stroke:rgb(0%,0%,0%);stroke-opacity:1;stroke-miterlimit:10;\" d=\"M 66.398438 208.800781 L 73.050781 191.023438 L 80.441406 179.320312 L 102.609375 123.464844 L 110 111.613281 L 124.777344 94.578125 L 139.554688 80.355469 L 176.503906 67.910156 L 213.453125 65.246094 L 250.398438 64.800781 \"/>\n",
       "<path style=\"fill:none;stroke-width:1;stroke-linecap:round;stroke-linejoin:round;stroke:rgb(0%,0%,0%);stroke-opacity:1;stroke-miterlimit:10;\" d=\"M 65.660156 214.558594 L 250.398438 214.558594 \"/>\n",
       "<path style=\"fill:none;stroke-width:1;stroke-linecap:round;stroke-linejoin:round;stroke:rgb(0%,0%,0%);stroke-opacity:1;stroke-miterlimit:10;\" d=\"M 65.660156 214.558594 L 65.660156 221.761719 \"/>\n",
       "<path style=\"fill:none;stroke-width:1;stroke-linecap:round;stroke-linejoin:round;stroke:rgb(0%,0%,0%);stroke-opacity:1;stroke-miterlimit:10;\" d=\"M 102.609375 214.558594 L 102.609375 221.761719 \"/>\n",
       "<path style=\"fill:none;stroke-width:1;stroke-linecap:round;stroke-linejoin:round;stroke:rgb(0%,0%,0%);stroke-opacity:1;stroke-miterlimit:10;\" d=\"M 139.554688 214.558594 L 139.554688 221.761719 \"/>\n",
       "<path style=\"fill:none;stroke-width:1;stroke-linecap:round;stroke-linejoin:round;stroke:rgb(0%,0%,0%);stroke-opacity:1;stroke-miterlimit:10;\" d=\"M 176.503906 214.558594 L 176.503906 221.761719 \"/>\n",
       "<path style=\"fill:none;stroke-width:1;stroke-linecap:round;stroke-linejoin:round;stroke:rgb(0%,0%,0%);stroke-opacity:1;stroke-miterlimit:10;\" d=\"M 213.453125 214.558594 L 213.453125 221.761719 \"/>\n",
       "<path style=\"fill:none;stroke-width:1;stroke-linecap:round;stroke-linejoin:round;stroke:rgb(0%,0%,0%);stroke-opacity:1;stroke-miterlimit:10;\" d=\"M 250.398438 214.558594 L 250.398438 221.761719 \"/>\n",
       "<g style=\"fill:rgb(0%,0%,0%);fill-opacity:1;\">\n",
       "  <use xlink:href=\"#glyph0-1\" x=\"62.183594\" y=\"241.921875\"/>\n",
       "</g>\n",
       "<g style=\"fill:rgb(0%,0%,0%);fill-opacity:1;\">\n",
       "  <use xlink:href=\"#glyph0-2\" x=\"92.179688\" y=\"241.921875\"/>\n",
       "  <use xlink:href=\"#glyph0-1\" x=\"99.131592\" y=\"241.921875\"/>\n",
       "  <use xlink:href=\"#glyph0-1\" x=\"106.083496\" y=\"241.921875\"/>\n",
       "</g>\n",
       "<g style=\"fill:rgb(0%,0%,0%);fill-opacity:1;\">\n",
       "  <use xlink:href=\"#glyph0-3\" x=\"125.652344\" y=\"241.921875\"/>\n",
       "  <use xlink:href=\"#glyph0-1\" x=\"132.604248\" y=\"241.921875\"/>\n",
       "  <use xlink:href=\"#glyph0-1\" x=\"139.556152\" y=\"241.921875\"/>\n",
       "  <use xlink:href=\"#glyph0-1\" x=\"146.508057\" y=\"241.921875\"/>\n",
       "</g>\n",
       "<g style=\"fill:rgb(0%,0%,0%);fill-opacity:1;\">\n",
       "  <use xlink:href=\"#glyph0-4\" x=\"199.550781\" y=\"241.921875\"/>\n",
       "  <use xlink:href=\"#glyph0-1\" x=\"206.502686\" y=\"241.921875\"/>\n",
       "  <use xlink:href=\"#glyph0-1\" x=\"213.45459\" y=\"241.921875\"/>\n",
       "  <use xlink:href=\"#glyph0-1\" x=\"220.406494\" y=\"241.921875\"/>\n",
       "</g>\n",
       "<path style=\"fill:none;stroke-width:1;stroke-linecap:round;stroke-linejoin:round;stroke:rgb(0%,0%,0%);stroke-opacity:1;stroke-miterlimit:10;\" d=\"M 59.039062 212.503906 L 59.039062 64.355469 \"/>\n",
       "<path style=\"fill:none;stroke-width:1;stroke-linecap:round;stroke-linejoin:round;stroke:rgb(0%,0%,0%);stroke-opacity:1;stroke-miterlimit:10;\" d=\"M 59.039062 212.503906 L 51.839844 212.503906 \"/>\n",
       "<path style=\"fill:none;stroke-width:1;stroke-linecap:round;stroke-linejoin:round;stroke:rgb(0%,0%,0%);stroke-opacity:1;stroke-miterlimit:10;\" d=\"M 59.039062 182.875 L 51.839844 182.875 \"/>\n",
       "<path style=\"fill:none;stroke-width:1;stroke-linecap:round;stroke-linejoin:round;stroke:rgb(0%,0%,0%);stroke-opacity:1;stroke-miterlimit:10;\" d=\"M 59.039062 153.246094 L 51.839844 153.246094 \"/>\n",
       "<path style=\"fill:none;stroke-width:1;stroke-linecap:round;stroke-linejoin:round;stroke:rgb(0%,0%,0%);stroke-opacity:1;stroke-miterlimit:10;\" d=\"M 59.039062 123.613281 L 51.839844 123.613281 \"/>\n",
       "<path style=\"fill:none;stroke-width:1;stroke-linecap:round;stroke-linejoin:round;stroke:rgb(0%,0%,0%);stroke-opacity:1;stroke-miterlimit:10;\" d=\"M 59.039062 93.984375 L 51.839844 93.984375 \"/>\n",
       "<path style=\"fill:none;stroke-width:1;stroke-linecap:round;stroke-linejoin:round;stroke:rgb(0%,0%,0%);stroke-opacity:1;stroke-miterlimit:10;\" d=\"M 59.039062 64.355469 L 51.839844 64.355469 \"/>\n",
       "<g style=\"fill:rgb(0%,0%,0%);fill-opacity:1;\">\n",
       "  <use xlink:href=\"#glyph1-1\" x=\"43.199219\" y=\"221.191406\"/>\n",
       "  <use xlink:href=\"#glyph1-2\" x=\"43.199219\" y=\"214.239502\"/>\n",
       "  <use xlink:href=\"#glyph1-1\" x=\"43.199219\" y=\"210.766602\"/>\n",
       "</g>\n",
       "<g style=\"fill:rgb(0%,0%,0%);fill-opacity:1;\">\n",
       "  <use xlink:href=\"#glyph1-1\" x=\"43.199219\" y=\"191.5625\"/>\n",
       "  <use xlink:href=\"#glyph1-2\" x=\"43.199219\" y=\"184.610596\"/>\n",
       "  <use xlink:href=\"#glyph1-3\" x=\"43.199219\" y=\"181.137695\"/>\n",
       "</g>\n",
       "<g style=\"fill:rgb(0%,0%,0%);fill-opacity:1;\">\n",
       "  <use xlink:href=\"#glyph1-1\" x=\"43.199219\" y=\"161.933594\"/>\n",
       "  <use xlink:href=\"#glyph1-2\" x=\"43.199219\" y=\"154.981689\"/>\n",
       "  <use xlink:href=\"#glyph1-4\" x=\"43.199219\" y=\"151.508789\"/>\n",
       "</g>\n",
       "<g style=\"fill:rgb(0%,0%,0%);fill-opacity:1;\">\n",
       "  <use xlink:href=\"#glyph1-1\" x=\"43.199219\" y=\"132.300781\"/>\n",
       "  <use xlink:href=\"#glyph1-2\" x=\"43.199219\" y=\"125.348877\"/>\n",
       "  <use xlink:href=\"#glyph1-5\" x=\"43.199219\" y=\"121.875977\"/>\n",
       "</g>\n",
       "<g style=\"fill:rgb(0%,0%,0%);fill-opacity:1;\">\n",
       "  <use xlink:href=\"#glyph1-1\" x=\"43.199219\" y=\"102.671875\"/>\n",
       "  <use xlink:href=\"#glyph1-2\" x=\"43.199219\" y=\"95.719971\"/>\n",
       "  <use xlink:href=\"#glyph1-6\" x=\"43.199219\" y=\"92.24707\"/>\n",
       "</g>\n",
       "<g style=\"fill:rgb(0%,0%,0%);fill-opacity:1;\">\n",
       "  <use xlink:href=\"#glyph1-7\" x=\"43.199219\" y=\"73.042969\"/>\n",
       "  <use xlink:href=\"#glyph1-2\" x=\"43.199219\" y=\"66.091064\"/>\n",
       "  <use xlink:href=\"#glyph1-1\" x=\"43.199219\" y=\"62.618164\"/>\n",
       "</g>\n",
       "<path style=\"fill:none;stroke-width:1;stroke-linecap:round;stroke-linejoin:round;stroke:rgb(0%,0%,0%);stroke-opacity:1;stroke-miterlimit:10;\" d=\"M 59.039062 214.558594 L 257.761719 214.558594 L 257.761719 59.039062 L 59.039062 59.039062 L 59.039062 214.558594 \"/>\n",
       "<g style=\"fill:rgb(0%,0%,0%);fill-opacity:1;\">\n",
       "  <use xlink:href=\"#glyph2-1\" x=\"133.332031\" y=\"34.863281\"/>\n",
       "  <use xlink:href=\"#glyph2-2\" x=\"143.274384\" y=\"34.863281\"/>\n",
       "  <use xlink:href=\"#glyph2-3\" x=\"153.216736\" y=\"34.863281\"/>\n",
       "  <use xlink:href=\"#glyph2-4\" x=\"161.921753\" y=\"34.863281\"/>\n",
       "  <use xlink:href=\"#glyph2-5\" x=\"170.211899\" y=\"34.863281\"/>\n",
       "</g>\n",
       "<g style=\"fill:rgb(0%,0%,0%);fill-opacity:1;\">\n",
       "  <use xlink:href=\"#glyph0-5\" x=\"134.773438\" y=\"270.71875\"/>\n",
       "  <use xlink:href=\"#glyph0-6\" x=\"141.725342\" y=\"270.71875\"/>\n",
       "  <use xlink:href=\"#glyph0-7\" x=\"145.198242\" y=\"270.71875\"/>\n",
       "  <use xlink:href=\"#glyph0-8\" x=\"152.150146\" y=\"270.71875\"/>\n",
       "  <use xlink:href=\"#glyph0-6\" x=\"155.623047\" y=\"270.71875\"/>\n",
       "  <use xlink:href=\"#glyph0-9\" x=\"159.095947\" y=\"270.71875\"/>\n",
       "  <use xlink:href=\"#glyph0-7\" x=\"162.568848\" y=\"270.71875\"/>\n",
       "  <use xlink:href=\"#glyph0-10\" x=\"169.520752\" y=\"270.71875\"/>\n",
       "  <use xlink:href=\"#glyph0-10\" x=\"175.770752\" y=\"270.71875\"/>\n",
       "</g>\n",
       "<g style=\"fill:rgb(0%,0%,0%);fill-opacity:1;\">\n",
       "  <use xlink:href=\"#glyph1-8\" x=\"14.398438\" y=\"153.824219\"/>\n",
       "  <use xlink:href=\"#glyph1-9\" x=\"14.398438\" y=\"146.872314\"/>\n",
       "  <use xlink:href=\"#glyph1-10\" x=\"14.398438\" y=\"139.92041\"/>\n",
       "  <use xlink:href=\"#glyph1-11\" x=\"14.398438\" y=\"130.893311\"/>\n",
       "  <use xlink:href=\"#glyph1-12\" x=\"14.398438\" y=\"123.941406\"/>\n",
       "</g>\n",
       "<g clip-path=\"url(#clip1)\" clip-rule=\"nonzero\">\n",
       "<path style=\"fill:none;stroke-width:1;stroke-linecap:round;stroke-linejoin:round;stroke:rgb(100%,0%,0%);stroke-opacity:1;stroke-miterlimit:10;\" d=\"M 139.554688 214.558594 L 139.554688 59.039062 \"/>\n",
       "</g>\n",
       "<g clip-path=\"url(#clip2)\" clip-rule=\"nonzero\">\n",
       "<path style=\"fill:none;stroke-width:1;stroke-linecap:round;stroke-linejoin:round;stroke:rgb(100%,0%,0%);stroke-opacity:1;stroke-miterlimit:10;\" d=\"M 59.039062 81.246094 L 257.761719 81.246094 \"/>\n",
       "</g>\n",
       "</g>\n",
       "</svg>\n"
      ],
      "text/plain": [
       "Plot with title \"ES=5%\""
      ]
     },
     "metadata": {
      "image/svg+xml": {
       "isolated": true
      }
     },
     "output_type": "display_data"
    }
   ],
   "source": [
    "ntosses <- c(10,100,200,500,600,800,1000,1500,2000,2500)\n",
    "res <- sapply(ntosses,coin.power,prob=.55)\n",
    "names(res) <- ntosses\n",
    "plot( ntosses, res , type=\"l\", main=\"ES=5%\",xlab=\"# of toss\", ylab=\"power\")\n",
    "abline(v=1000, col=\"red\")\n",
    "abline(h=.886, col=\"red\")\n",
    "res[ntosses == 1000]"
   ]
  },
  {
   "cell_type": "markdown",
   "metadata": {
    "deletable": true,
    "editable": true
   },
   "source": [
    "A researcher that would start an experiment using 1000 tosses will have a probability of finding the correct conlusion of about 90%."
   ]
  },
  {
   "cell_type": "code",
   "execution_count": 108,
   "metadata": {
    "collapsed": false,
    "deletable": true,
    "editable": true
   },
   "outputs": [
    {
     "data": {
      "image/png": "[encoded data removed]",
      "image/svg+xml": [
       "<?xml version=\"1.0\" encoding=\"UTF-8\"?>\n",
       "<svg xmlns=\"http://www.w3.org/2000/svg\" xmlns:xlink=\"http://www.w3.org/1999/xlink\" width=\"288pt\" height=\"288pt\" viewBox=\"0 0 288 288\" version=\"1.1\">\n",
       "<defs>\n",
       "<g>\n",
       "<symbol overflow=\"visible\" id=\"glyph0-0\">\n",
       "<path style=\"stroke:none;\" d=\"M 0.40625 0 L 0.40625 -8.96875 L 7.515625 -8.96875 L 7.515625 0 Z M 6.390625 -1.125 L 6.390625 -7.84375 L 1.53125 -7.84375 L 1.53125 -1.125 Z \"/>\n",
       "</symbol>\n",
       "<symbol overflow=\"visible\" id=\"glyph0-1\">\n",
       "<path style=\"stroke:none;\" d=\"M 3.375 -8.734375 C 4.507812 -8.734375 5.328125 -8.269531 5.828125 -7.34375 C 6.222656 -6.625 6.421875 -5.632812 6.421875 -4.375 C 6.421875 -3.1875 6.242188 -2.207031 5.890625 -1.4375 C 5.378906 -0.320312 4.539062 0.234375 3.375 0.234375 C 2.320312 0.234375 1.539062 -0.21875 1.03125 -1.125 C 0.601562 -1.882812 0.390625 -2.90625 0.390625 -4.1875 C 0.390625 -5.1875 0.519531 -6.039062 0.78125 -6.75 C 1.257812 -8.070312 2.125 -8.734375 3.375 -8.734375 Z M 3.375 -0.765625 C 3.9375 -0.765625 4.382812 -1.015625 4.71875 -1.515625 C 5.0625 -2.023438 5.234375 -2.96875 5.234375 -4.34375 C 5.234375 -5.332031 5.109375 -6.144531 4.859375 -6.78125 C 4.617188 -7.425781 4.148438 -7.75 3.453125 -7.75 C 2.804688 -7.75 2.332031 -7.441406 2.03125 -6.828125 C 1.726562 -6.222656 1.578125 -5.332031 1.578125 -4.15625 C 1.578125 -3.257812 1.675781 -2.539062 1.875 -2 C 2.164062 -1.175781 2.664062 -0.765625 3.375 -0.765625 Z \"/>\n",
       "</symbol>\n",
       "<symbol overflow=\"visible\" id=\"glyph0-2\">\n",
       "<path style=\"stroke:none;\" d=\"M 1.546875 -2.234375 C 1.617188 -1.597656 1.910156 -1.160156 2.421875 -0.921875 C 2.679688 -0.804688 2.984375 -0.75 3.328125 -0.75 C 3.972656 -0.75 4.453125 -0.953125 4.765625 -1.359375 C 5.078125 -1.773438 5.234375 -2.238281 5.234375 -2.75 C 5.234375 -3.351562 5.046875 -3.820312 4.671875 -4.15625 C 4.304688 -4.488281 3.863281 -4.65625 3.34375 -4.65625 C 2.957031 -4.65625 2.628906 -4.582031 2.359375 -4.4375 C 2.085938 -4.289062 1.859375 -4.085938 1.671875 -3.828125 L 0.71875 -3.890625 L 1.390625 -8.59375 L 5.921875 -8.59375 L 5.921875 -7.53125 L 2.203125 -7.53125 L 1.84375 -5.109375 C 2.039062 -5.253906 2.234375 -5.367188 2.421875 -5.453125 C 2.742188 -5.585938 3.117188 -5.65625 3.546875 -5.65625 C 4.347656 -5.65625 5.023438 -5.394531 5.578125 -4.875 C 6.140625 -4.363281 6.421875 -3.707031 6.421875 -2.90625 C 6.421875 -2.082031 6.164062 -1.351562 5.65625 -0.71875 C 5.144531 -0.09375 4.328125 0.21875 3.203125 0.21875 C 2.492188 0.21875 1.863281 0.0195312 1.3125 -0.375 C 0.769531 -0.78125 0.46875 -1.398438 0.40625 -2.234375 Z \"/>\n",
       "</symbol>\n",
       "<symbol overflow=\"visible\" id=\"glyph0-3\">\n",
       "<path style=\"stroke:none;\" d=\"M 1.203125 -6.1875 L 1.203125 -7.03125 C 1.992188 -7.101562 2.546875 -7.226562 2.859375 -7.40625 C 3.171875 -7.59375 3.40625 -8.023438 3.5625 -8.703125 L 4.421875 -8.703125 L 4.421875 0 L 3.25 0 L 3.25 -6.1875 Z \"/>\n",
       "</symbol>\n",
       "<symbol overflow=\"visible\" id=\"glyph0-4\">\n",
       "<path style=\"stroke:none;\" d=\"M 0.390625 0 C 0.429688 -0.75 0.585938 -1.398438 0.859375 -1.953125 C 1.128906 -2.515625 1.65625 -3.023438 2.4375 -3.484375 L 3.609375 -4.15625 C 4.140625 -4.46875 4.507812 -4.726562 4.71875 -4.9375 C 5.050781 -5.28125 5.21875 -5.671875 5.21875 -6.109375 C 5.21875 -6.609375 5.0625 -7.007812 4.75 -7.3125 C 4.445312 -7.613281 4.046875 -7.765625 3.546875 -7.765625 C 2.785156 -7.765625 2.265625 -7.476562 1.984375 -6.90625 C 1.828125 -6.601562 1.738281 -6.179688 1.71875 -5.640625 L 0.609375 -5.640625 C 0.617188 -6.398438 0.757812 -7.019531 1.03125 -7.5 C 1.5 -8.34375 2.335938 -8.765625 3.546875 -8.765625 C 4.546875 -8.765625 5.273438 -8.492188 5.734375 -7.953125 C 6.203125 -7.410156 6.4375 -6.8125 6.4375 -6.15625 C 6.4375 -5.457031 6.1875 -4.859375 5.6875 -4.359375 C 5.40625 -4.066406 4.894531 -3.71875 4.15625 -3.3125 L 3.328125 -2.84375 C 2.929688 -2.625 2.617188 -2.414062 2.390625 -2.21875 C 1.984375 -1.863281 1.726562 -1.46875 1.625 -1.03125 L 6.390625 -1.03125 L 6.390625 0 Z \"/>\n",
       "</symbol>\n",
       "<symbol overflow=\"visible\" id=\"glyph0-5\">\n",
       "<path style=\"stroke:none;\" d=\"M 0.1875 -3.421875 L 1.609375 -3.421875 L 2.171875 -5.53125 L 0.765625 -5.53125 L 0.953125 -6.234375 L 2.375 -6.234375 L 3.09375 -8.96875 L 4 -8.96875 L 3.265625 -6.234375 L 4.609375 -6.234375 L 5.359375 -8.96875 L 6.265625 -8.96875 L 5.53125 -6.234375 L 6.9375 -6.234375 L 6.75 -5.53125 L 5.328125 -5.53125 L 4.75 -3.421875 L 6.171875 -3.421875 L 5.984375 -2.71875 L 4.578125 -2.71875 L 3.828125 0 L 2.9375 0 L 3.671875 -2.71875 L 2.3125 -2.71875 L 1.59375 0 L 0.671875 0 L 1.421875 -2.71875 L 0 -2.71875 Z M 3.84375 -3.421875 L 4.421875 -5.53125 L 3.078125 -5.53125 L 2.515625 -3.421875 Z \"/>\n",
       "</symbol>\n",
       "<symbol overflow=\"visible\" id=\"glyph0-6\">\n",
       "<path style=\"stroke:none;\" d=\"\"/>\n",
       "</symbol>\n",
       "<symbol overflow=\"visible\" id=\"glyph0-7\">\n",
       "<path style=\"stroke:none;\" d=\"M 3.40625 -0.703125 C 4.132812 -0.703125 4.628906 -0.976562 4.890625 -1.53125 C 5.160156 -2.082031 5.296875 -2.695312 5.296875 -3.375 C 5.296875 -3.988281 5.203125 -4.484375 5.015625 -4.859375 C 4.703125 -5.460938 4.164062 -5.765625 3.40625 -5.765625 C 2.738281 -5.765625 2.25 -5.507812 1.9375 -5 C 1.632812 -4.488281 1.484375 -3.867188 1.484375 -3.140625 C 1.484375 -2.441406 1.632812 -1.859375 1.9375 -1.390625 C 2.25 -0.929688 2.738281 -0.703125 3.40625 -0.703125 Z M 3.4375 -6.71875 C 4.28125 -6.71875 4.992188 -6.4375 5.578125 -5.875 C 6.160156 -5.320312 6.453125 -4.5 6.453125 -3.40625 C 6.453125 -2.351562 6.191406 -1.484375 5.671875 -0.796875 C 5.160156 -0.109375 4.367188 0.234375 3.296875 0.234375 C 2.398438 0.234375 1.6875 -0.0664062 1.15625 -0.671875 C 0.625 -1.285156 0.359375 -2.101562 0.359375 -3.125 C 0.359375 -4.21875 0.632812 -5.085938 1.1875 -5.734375 C 1.75 -6.390625 2.5 -6.71875 3.4375 -6.71875 Z M 3.40625 -6.703125 Z \"/>\n",
       "</symbol>\n",
       "<symbol overflow=\"visible\" id=\"glyph0-8\">\n",
       "<path style=\"stroke:none;\" d=\"M 1.078125 -7.53125 C 1.097656 -7.988281 1.175781 -8.320312 1.3125 -8.53125 C 1.570312 -8.90625 2.066406 -9.09375 2.796875 -9.09375 C 2.867188 -9.09375 2.941406 -9.085938 3.015625 -9.078125 C 3.085938 -9.078125 3.171875 -9.070312 3.265625 -9.0625 L 3.265625 -8.0625 C 3.148438 -8.070312 3.066406 -8.078125 3.015625 -8.078125 C 2.960938 -8.085938 2.914062 -8.09375 2.875 -8.09375 C 2.539062 -8.09375 2.335938 -8.003906 2.265625 -7.828125 C 2.203125 -7.648438 2.171875 -7.207031 2.171875 -6.5 L 3.265625 -6.5 L 3.265625 -5.640625 L 2.171875 -5.640625 L 2.171875 0 L 1.078125 0 L 1.078125 -5.640625 L 0.171875 -5.640625 L 0.171875 -6.5 L 1.078125 -6.5 Z \"/>\n",
       "</symbol>\n",
       "<symbol overflow=\"visible\" id=\"glyph0-9\">\n",
       "<path style=\"stroke:none;\" d=\"M 1.03125 -8.359375 L 2.140625 -8.359375 L 2.140625 -6.53125 L 3.1875 -6.53125 L 3.1875 -5.640625 L 2.140625 -5.640625 L 2.140625 -1.375 C 2.140625 -1.144531 2.21875 -0.992188 2.375 -0.921875 C 2.457031 -0.867188 2.597656 -0.84375 2.796875 -0.84375 C 2.847656 -0.84375 2.90625 -0.84375 2.96875 -0.84375 C 3.03125 -0.851562 3.101562 -0.859375 3.1875 -0.859375 L 3.1875 0 C 3.050781 0.0390625 2.914062 0.0664062 2.78125 0.078125 C 2.644531 0.0976562 2.5 0.109375 2.34375 0.109375 C 1.832031 0.109375 1.484375 -0.0195312 1.296875 -0.28125 C 1.117188 -0.550781 1.03125 -0.894531 1.03125 -1.3125 L 1.03125 -5.640625 L 0.140625 -5.640625 L 0.140625 -6.53125 L 1.03125 -6.53125 Z \"/>\n",
       "</symbol>\n",
       "<symbol overflow=\"visible\" id=\"glyph0-10\">\n",
       "<path style=\"stroke:none;\" d=\"M 1.453125 -2.046875 C 1.484375 -1.679688 1.578125 -1.398438 1.734375 -1.203125 C 2.015625 -0.847656 2.492188 -0.671875 3.171875 -0.671875 C 3.578125 -0.671875 3.9375 -0.757812 4.25 -0.9375 C 4.5625 -1.113281 4.71875 -1.390625 4.71875 -1.765625 C 4.71875 -2.046875 4.59375 -2.257812 4.34375 -2.40625 C 4.1875 -2.5 3.875 -2.601562 3.40625 -2.71875 L 2.53125 -2.9375 C 1.96875 -3.070312 1.554688 -3.226562 1.296875 -3.40625 C 0.828125 -3.695312 0.59375 -4.101562 0.59375 -4.625 C 0.59375 -5.25 0.8125 -5.75 1.25 -6.125 C 1.695312 -6.507812 2.296875 -6.703125 3.046875 -6.703125 C 4.035156 -6.703125 4.75 -6.414062 5.1875 -5.84375 C 5.457031 -5.476562 5.585938 -5.082031 5.578125 -4.65625 L 4.546875 -4.65625 C 4.523438 -4.90625 4.4375 -5.128906 4.28125 -5.328125 C 4.03125 -5.617188 3.59375 -5.765625 2.96875 -5.765625 C 2.550781 -5.765625 2.234375 -5.6875 2.015625 -5.53125 C 1.804688 -5.375 1.703125 -5.164062 1.703125 -4.90625 C 1.703125 -4.613281 1.84375 -4.382812 2.125 -4.21875 C 2.289062 -4.113281 2.53125 -4.023438 2.84375 -3.953125 L 3.578125 -3.765625 C 4.359375 -3.578125 4.882812 -3.394531 5.15625 -3.21875 C 5.582031 -2.9375 5.796875 -2.492188 5.796875 -1.890625 C 5.796875 -1.304688 5.570312 -0.800781 5.125 -0.375 C 4.6875 0.0390625 4.019531 0.25 3.125 0.25 C 2.144531 0.25 1.453125 0.03125 1.046875 -0.40625 C 0.648438 -0.851562 0.4375 -1.398438 0.40625 -2.046875 Z M 3.078125 -6.703125 Z \"/>\n",
       "</symbol>\n",
       "<symbol overflow=\"visible\" id=\"glyph1-0\">\n",
       "<path style=\"stroke:none;\" d=\"M 0 -0.40625 L -8.96875 -0.40625 L -8.96875 -7.515625 L 0 -7.515625 Z M -1.125 -6.390625 L -7.84375 -6.390625 L -7.84375 -1.53125 L -1.125 -1.53125 Z \"/>\n",
       "</symbol>\n",
       "<symbol overflow=\"visible\" id=\"glyph1-1\">\n",
       "<path style=\"stroke:none;\" d=\"M -8.734375 -3.375 C -8.734375 -4.507812 -8.269531 -5.328125 -7.34375 -5.828125 C -6.625 -6.222656 -5.632812 -6.421875 -4.375 -6.421875 C -3.1875 -6.421875 -2.207031 -6.242188 -1.4375 -5.890625 C -0.320312 -5.378906 0.234375 -4.539062 0.234375 -3.375 C 0.234375 -2.320312 -0.21875 -1.539062 -1.125 -1.03125 C -1.882812 -0.601562 -2.90625 -0.390625 -4.1875 -0.390625 C -5.1875 -0.390625 -6.039062 -0.519531 -6.75 -0.78125 C -8.070312 -1.257812 -8.734375 -2.125 -8.734375 -3.375 Z M -0.765625 -3.375 C -0.765625 -3.9375 -1.015625 -4.382812 -1.515625 -4.71875 C -2.023438 -5.0625 -2.96875 -5.234375 -4.34375 -5.234375 C -5.332031 -5.234375 -6.144531 -5.109375 -6.78125 -4.859375 C -7.425781 -4.617188 -7.75 -4.148438 -7.75 -3.453125 C -7.75 -2.804688 -7.441406 -2.332031 -6.828125 -2.03125 C -6.222656 -1.726562 -5.332031 -1.578125 -4.15625 -1.578125 C -3.257812 -1.578125 -2.539062 -1.675781 -2 -1.875 C -1.175781 -2.164062 -0.765625 -2.664062 -0.765625 -3.375 Z \"/>\n",
       "</symbol>\n",
       "<symbol overflow=\"visible\" id=\"glyph1-2\">\n",
       "<path style=\"stroke:none;\" d=\"M -1.328125 -1.0625 L -1.328125 -2.34375 L 0 -2.34375 L 0 -1.0625 Z \"/>\n",
       "</symbol>\n",
       "<symbol overflow=\"visible\" id=\"glyph1-3\">\n",
       "<path style=\"stroke:none;\" d=\"M 0 -0.390625 C -0.75 -0.429688 -1.398438 -0.585938 -1.953125 -0.859375 C -2.515625 -1.128906 -3.023438 -1.65625 -3.484375 -2.4375 L -4.15625 -3.609375 C -4.46875 -4.140625 -4.726562 -4.507812 -4.9375 -4.71875 C -5.28125 -5.050781 -5.671875 -5.21875 -6.109375 -5.21875 C -6.609375 -5.21875 -7.007812 -5.0625 -7.3125 -4.75 C -7.613281 -4.445312 -7.765625 -4.046875 -7.765625 -3.546875 C -7.765625 -2.785156 -7.476562 -2.265625 -6.90625 -1.984375 C -6.601562 -1.828125 -6.179688 -1.738281 -5.640625 -1.71875 L -5.640625 -0.609375 C -6.398438 -0.617188 -7.019531 -0.757812 -7.5 -1.03125 C -8.34375 -1.5 -8.765625 -2.335938 -8.765625 -3.546875 C -8.765625 -4.546875 -8.492188 -5.273438 -7.953125 -5.734375 C -7.410156 -6.203125 -6.8125 -6.4375 -6.15625 -6.4375 C -5.457031 -6.4375 -4.859375 -6.1875 -4.359375 -5.6875 C -4.066406 -5.40625 -3.71875 -4.894531 -3.3125 -4.15625 L -2.84375 -3.328125 C -2.625 -2.929688 -2.414062 -2.617188 -2.21875 -2.390625 C -1.863281 -1.984375 -1.46875 -1.726562 -1.03125 -1.625 L -1.03125 -6.390625 L 0 -6.390625 Z \"/>\n",
       "</symbol>\n",
       "<symbol overflow=\"visible\" id=\"glyph1-4\">\n",
       "<path style=\"stroke:none;\" d=\"M -3.09375 -4.125 L -7.0625 -4.125 L -3.09375 -1.328125 Z M 0 -4.15625 L -2.140625 -4.15625 L -2.140625 -0.3125 L -3.203125 -0.3125 L -8.765625 -4.328125 L -8.765625 -5.25 L -3.09375 -5.25 L -3.09375 -6.53125 L -2.140625 -6.53125 L -2.140625 -5.25 L 0 -5.25 Z \"/>\n",
       "</symbol>\n",
       "<symbol overflow=\"visible\" id=\"glyph1-5\">\n",
       "<path style=\"stroke:none;\" d=\"M -8.78125 -3.65625 C -8.78125 -4.632812 -8.523438 -5.316406 -8.015625 -5.703125 C -7.503906 -6.085938 -6.984375 -6.28125 -6.453125 -6.28125 L -6.453125 -5.1875 C -6.796875 -5.125 -7.066406 -5.019531 -7.265625 -4.875 C -7.628906 -4.613281 -7.8125 -4.210938 -7.8125 -3.671875 C -7.8125 -3.054688 -7.523438 -2.566406 -6.953125 -2.203125 C -6.390625 -1.847656 -5.578125 -1.648438 -4.515625 -1.609375 C -4.890625 -1.859375 -5.171875 -2.175781 -5.359375 -2.5625 C -5.515625 -2.90625 -5.59375 -3.296875 -5.59375 -3.734375 C -5.59375 -4.460938 -5.359375 -5.097656 -4.890625 -5.640625 C -4.421875 -6.191406 -3.722656 -6.46875 -2.796875 -6.46875 C -2.003906 -6.46875 -1.300781 -6.207031 -0.6875 -5.6875 C -0.0820312 -5.164062 0.21875 -4.429688 0.21875 -3.484375 C 0.21875 -2.660156 -0.0859375 -1.953125 -0.703125 -1.359375 C -1.328125 -0.765625 -2.375 -0.46875 -3.84375 -0.46875 C -4.925781 -0.46875 -5.847656 -0.597656 -6.609375 -0.859375 C -8.054688 -1.367188 -8.78125 -2.300781 -8.78125 -3.65625 Z M -0.75 -3.578125 C -0.75 -4.148438 -0.941406 -4.578125 -1.328125 -4.859375 C -1.722656 -5.148438 -2.179688 -5.296875 -2.703125 -5.296875 C -3.148438 -5.296875 -3.578125 -5.164062 -3.984375 -4.90625 C -4.390625 -4.65625 -4.59375 -4.191406 -4.59375 -3.515625 C -4.59375 -3.046875 -4.4375 -2.632812 -4.125 -2.28125 C -3.8125 -1.925781 -3.335938 -1.75 -2.703125 -1.75 C -2.148438 -1.75 -1.6875 -1.910156 -1.3125 -2.234375 C -0.9375 -2.554688 -0.75 -3.003906 -0.75 -3.578125 Z \"/>\n",
       "</symbol>\n",
       "<symbol overflow=\"visible\" id=\"glyph1-6\">\n",
       "<path style=\"stroke:none;\" d=\"M -5.078125 -3.40625 C -5.078125 -3.882812 -5.210938 -4.257812 -5.484375 -4.53125 C -5.753906 -4.800781 -6.078125 -4.9375 -6.453125 -4.9375 C -6.773438 -4.9375 -7.070312 -4.804688 -7.34375 -4.546875 C -7.613281 -4.285156 -7.75 -3.890625 -7.75 -3.359375 C -7.75 -2.828125 -7.613281 -2.441406 -7.34375 -2.203125 C -7.070312 -1.972656 -6.753906 -1.859375 -6.390625 -1.859375 C -5.984375 -1.859375 -5.660156 -2.007812 -5.421875 -2.3125 C -5.191406 -2.625 -5.078125 -2.988281 -5.078125 -3.40625 Z M -0.75 -3.46875 C -0.75 -3.976562 -0.882812 -4.398438 -1.15625 -4.734375 C -1.4375 -5.066406 -1.847656 -5.234375 -2.390625 -5.234375 C -2.953125 -5.234375 -3.378906 -5.0625 -3.671875 -4.71875 C -3.972656 -4.375 -4.125 -3.929688 -4.125 -3.390625 C -4.125 -2.859375 -3.972656 -2.425781 -3.671875 -2.09375 C -3.367188 -1.769531 -2.953125 -1.609375 -2.421875 -1.609375 C -1.972656 -1.609375 -1.582031 -1.757812 -1.25 -2.0625 C -0.914062 -2.363281 -0.75 -2.832031 -0.75 -3.46875 Z M -4.65625 -1.90625 C -4.789062 -1.601562 -4.941406 -1.363281 -5.109375 -1.1875 C -5.441406 -0.863281 -5.867188 -0.703125 -6.390625 -0.703125 C -7.035156 -0.703125 -7.59375 -0.9375 -8.0625 -1.40625 C -8.53125 -1.882812 -8.765625 -2.554688 -8.765625 -3.421875 C -8.765625 -4.265625 -8.539062 -4.921875 -8.09375 -5.390625 C -7.65625 -5.867188 -7.144531 -6.109375 -6.5625 -6.109375 C -6.007812 -6.109375 -5.566406 -5.96875 -5.234375 -5.6875 C -5.035156 -5.539062 -4.847656 -5.300781 -4.671875 -4.96875 C -4.503906 -5.332031 -4.3125 -5.617188 -4.09375 -5.828125 C -3.6875 -6.210938 -3.160156 -6.40625 -2.515625 -6.40625 C -1.742188 -6.40625 -1.085938 -6.144531 -0.546875 -5.625 C -0.015625 -5.113281 0.25 -4.382812 0.25 -3.4375 C 0.25 -2.59375 0.0195312 -1.875 -0.4375 -1.28125 C -0.90625 -0.695312 -1.578125 -0.40625 -2.453125 -0.40625 C -2.972656 -0.40625 -3.421875 -0.53125 -3.796875 -0.78125 C -4.171875 -1.03125 -4.457031 -1.40625 -4.65625 -1.90625 Z \"/>\n",
       "</symbol>\n",
       "<symbol overflow=\"visible\" id=\"glyph1-7\">\n",
       "<path style=\"stroke:none;\" d=\"M -6.1875 -1.203125 L -7.03125 -1.203125 C -7.101562 -1.992188 -7.226562 -2.546875 -7.40625 -2.859375 C -7.59375 -3.171875 -8.023438 -3.40625 -8.703125 -3.5625 L -8.703125 -4.421875 L 0 -4.421875 L 0 -3.25 L -6.1875 -3.25 Z \"/>\n",
       "</symbol>\n",
       "<symbol overflow=\"visible\" id=\"glyph1-8\">\n",
       "<path style=\"stroke:none;\" d=\"M -0.734375 -3.5625 C -0.734375 -4.070312 -0.945312 -4.5 -1.375 -4.84375 C -1.8125 -5.1875 -2.457031 -5.359375 -3.3125 -5.359375 C -3.832031 -5.359375 -4.28125 -5.28125 -4.65625 -5.125 C -5.375 -4.84375 -5.734375 -4.320312 -5.734375 -3.5625 C -5.734375 -2.800781 -5.351562 -2.28125 -4.59375 -2 C -4.1875 -1.851562 -3.671875 -1.78125 -3.046875 -1.78125 C -2.535156 -1.78125 -2.101562 -1.851562 -1.75 -2 C -1.070312 -2.28125 -0.734375 -2.800781 -0.734375 -3.5625 Z M -6.5 -0.71875 L -6.5 -1.78125 L -5.640625 -1.78125 C -5.929688 -2.007812 -6.160156 -2.253906 -6.328125 -2.515625 C -6.578125 -2.878906 -6.703125 -3.3125 -6.703125 -3.8125 C -6.703125 -4.550781 -6.414062 -5.175781 -5.84375 -5.6875 C -5.28125 -6.207031 -4.46875 -6.46875 -3.40625 -6.46875 C -1.988281 -6.46875 -0.972656 -6.097656 -0.359375 -5.359375 C 0.0234375 -4.890625 0.21875 -4.34375 0.21875 -3.71875 C 0.21875 -3.21875 0.109375 -2.800781 -0.109375 -2.46875 C -0.222656 -2.269531 -0.429688 -2.050781 -0.734375 -1.8125 L 2.609375 -1.8125 L 2.609375 -0.71875 Z \"/>\n",
       "</symbol>\n",
       "<symbol overflow=\"visible\" id=\"glyph1-9\">\n",
       "<path style=\"stroke:none;\" d=\"M -0.703125 -3.40625 C -0.703125 -4.132812 -0.976562 -4.628906 -1.53125 -4.890625 C -2.082031 -5.160156 -2.695312 -5.296875 -3.375 -5.296875 C -3.988281 -5.296875 -4.484375 -5.203125 -4.859375 -5.015625 C -5.460938 -4.703125 -5.765625 -4.164062 -5.765625 -3.40625 C -5.765625 -2.738281 -5.507812 -2.25 -5 -1.9375 C -4.488281 -1.632812 -3.867188 -1.484375 -3.140625 -1.484375 C -2.441406 -1.484375 -1.859375 -1.632812 -1.390625 -1.9375 C -0.929688 -2.25 -0.703125 -2.738281 -0.703125 -3.40625 Z M -6.71875 -3.4375 C -6.71875 -4.28125 -6.4375 -4.992188 -5.875 -5.578125 C -5.320312 -6.160156 -4.5 -6.453125 -3.40625 -6.453125 C -2.351562 -6.453125 -1.484375 -6.191406 -0.796875 -5.671875 C -0.109375 -5.160156 0.234375 -4.367188 0.234375 -3.296875 C 0.234375 -2.398438 -0.0664062 -1.6875 -0.671875 -1.15625 C -1.285156 -0.625 -2.101562 -0.359375 -3.125 -0.359375 C -4.21875 -0.359375 -5.085938 -0.632812 -5.734375 -1.1875 C -6.390625 -1.75 -6.71875 -2.5 -6.71875 -3.4375 Z M -6.703125 -3.40625 Z \"/>\n",
       "</symbol>\n",
       "<symbol overflow=\"visible\" id=\"glyph1-10\">\n",
       "<path style=\"stroke:none;\" d=\"M -6.53125 -1.3125 L -1.390625 -2.5625 L -6.53125 -3.84375 L -6.53125 -5.078125 L -1.421875 -6.359375 L -6.53125 -7.703125 L -6.53125 -8.796875 L 0 -6.890625 L 0 -5.75 L -5.0625 -4.421875 L 0 -3.140625 L 0 -2 L -6.53125 -0.109375 Z \"/>\n",
       "</symbol>\n",
       "<symbol overflow=\"visible\" id=\"glyph1-11\">\n",
       "<path style=\"stroke:none;\" d=\"M -6.6875 -3.53125 C -6.6875 -3.988281 -6.578125 -4.4375 -6.359375 -4.875 C -6.140625 -5.3125 -5.859375 -5.644531 -5.515625 -5.875 C -5.179688 -6.09375 -4.796875 -6.238281 -4.359375 -6.3125 C -4.054688 -6.375 -3.578125 -6.40625 -2.921875 -6.40625 L -2.921875 -1.625 C -2.253906 -1.632812 -1.71875 -1.785156 -1.3125 -2.078125 C -0.914062 -2.378906 -0.71875 -2.835938 -0.71875 -3.453125 C -0.71875 -4.023438 -0.90625 -4.484375 -1.28125 -4.828125 C -1.507812 -5.015625 -1.765625 -5.148438 -2.046875 -5.234375 L -2.046875 -6.3125 C -1.804688 -6.289062 -1.539062 -6.195312 -1.25 -6.03125 C -0.957031 -5.875 -0.71875 -5.695312 -0.53125 -5.5 C -0.195312 -5.164062 0.0234375 -4.75 0.140625 -4.25 C 0.203125 -3.988281 0.234375 -3.691406 0.234375 -3.359375 C 0.234375 -2.546875 -0.0625 -1.851562 -0.65625 -1.28125 C -1.25 -0.71875 -2.078125 -0.4375 -3.140625 -0.4375 C -4.191406 -0.4375 -5.046875 -0.722656 -5.703125 -1.296875 C -6.359375 -1.867188 -6.6875 -2.613281 -6.6875 -3.53125 Z M -3.796875 -5.28125 C -4.265625 -5.238281 -4.644531 -5.132812 -4.9375 -4.96875 C -5.457031 -4.664062 -5.71875 -4.160156 -5.71875 -3.453125 C -5.71875 -2.953125 -5.535156 -2.53125 -5.171875 -2.1875 C -4.804688 -1.84375 -4.347656 -1.660156 -3.796875 -1.640625 Z M -6.703125 -3.421875 Z \"/>\n",
       "</symbol>\n",
       "<symbol overflow=\"visible\" id=\"glyph1-12\">\n",
       "<path style=\"stroke:none;\" d=\"M -6.53125 -0.84375 L -6.53125 -1.875 L -5.40625 -1.875 C -5.625 -1.96875 -5.890625 -2.179688 -6.203125 -2.515625 C -6.523438 -2.847656 -6.6875 -3.226562 -6.6875 -3.65625 C -6.6875 -3.675781 -6.679688 -3.710938 -6.671875 -3.765625 C -6.671875 -3.816406 -6.664062 -3.898438 -6.65625 -4.015625 L -5.5 -4.015625 C -5.507812 -3.953125 -5.515625 -3.890625 -5.515625 -3.828125 C -5.523438 -3.773438 -5.53125 -3.71875 -5.53125 -3.65625 C -5.53125 -3.101562 -5.347656 -2.675781 -4.984375 -2.375 C -4.628906 -2.082031 -4.222656 -1.9375 -3.765625 -1.9375 L 0 -1.9375 L 0 -0.84375 Z \"/>\n",
       "</symbol>\n",
       "<symbol overflow=\"visible\" id=\"glyph2-0\">\n",
       "<path style=\"stroke:none;\" d=\"M 0.484375 0 L 0.484375 -10.6875 L 8.96875 -10.6875 L 8.96875 0 Z M 7.625 -1.34375 L 7.625 -9.359375 L 1.8125 -9.359375 L 1.8125 -1.34375 Z \"/>\n",
       "</symbol>\n",
       "<symbol overflow=\"visible\" id=\"glyph2-1\">\n",
       "<path style=\"stroke:none;\" d=\"M 1.28125 -10.6875 L 9.0625 -10.6875 L 9.0625 -9.375 L 2.6875 -9.375 L 2.6875 -6.140625 L 8.59375 -6.140625 L 8.59375 -4.890625 L 2.6875 -4.890625 L 2.6875 -1.28125 L 9.171875 -1.28125 L 9.171875 0 L 1.28125 0 Z M 5.21875 -10.6875 Z \"/>\n",
       "</symbol>\n",
       "<symbol overflow=\"visible\" id=\"glyph2-2\">\n",
       "<path style=\"stroke:none;\" d=\"M 2.078125 -3.453125 C 2.109375 -2.847656 2.253906 -2.351562 2.515625 -1.96875 C 2.992188 -1.257812 3.835938 -0.90625 5.046875 -0.90625 C 5.585938 -0.90625 6.082031 -0.984375 6.53125 -1.140625 C 7.394531 -1.441406 7.828125 -1.984375 7.828125 -2.765625 C 7.828125 -3.335938 7.644531 -3.75 7.28125 -4 C 6.914062 -4.238281 6.335938 -4.453125 5.546875 -4.640625 L 4.109375 -4.96875 C 3.160156 -5.175781 2.488281 -5.410156 2.09375 -5.671875 C 1.414062 -6.117188 1.078125 -6.785156 1.078125 -7.671875 C 1.078125 -8.628906 1.410156 -9.414062 2.078125 -10.03125 C 2.742188 -10.65625 3.679688 -10.96875 4.890625 -10.96875 C 6.015625 -10.96875 6.96875 -10.695312 7.75 -10.15625 C 8.539062 -9.613281 8.9375 -8.75 8.9375 -7.5625 L 7.5625 -7.5625 C 7.488281 -8.125 7.335938 -8.5625 7.109375 -8.875 C 6.660156 -9.425781 5.910156 -9.703125 4.859375 -9.703125 C 4.003906 -9.703125 3.390625 -9.519531 3.015625 -9.15625 C 2.640625 -8.800781 2.453125 -8.390625 2.453125 -7.921875 C 2.453125 -7.398438 2.671875 -7.015625 3.109375 -6.765625 C 3.390625 -6.609375 4.035156 -6.414062 5.046875 -6.1875 L 6.546875 -5.84375 C 7.273438 -5.675781 7.832031 -5.453125 8.21875 -5.171875 C 8.90625 -4.671875 9.25 -3.941406 9.25 -2.984375 C 9.25 -1.804688 8.816406 -0.960938 7.953125 -0.453125 C 7.085938 0.0546875 6.085938 0.3125 4.953125 0.3125 C 3.617188 0.3125 2.578125 -0.0234375 1.828125 -0.703125 C 1.078125 -1.378906 0.707031 -2.296875 0.71875 -3.453125 Z M 5 -10.984375 Z \"/>\n",
       "</symbol>\n",
       "<symbol overflow=\"visible\" id=\"glyph2-3\">\n",
       "<path style=\"stroke:none;\" d=\"M 8.265625 -5.984375 L 8.265625 -4.765625 L 0.671875 -4.765625 L 0.671875 -5.984375 Z M 8.265625 -2.859375 L 8.265625 -1.609375 L 0.671875 -1.609375 L 0.671875 -2.859375 Z \"/>\n",
       "</symbol>\n",
       "<symbol overflow=\"visible\" id=\"glyph2-4\">\n",
       "<path style=\"stroke:none;\" d=\"M 0.46875 0 C 0.507812 -0.894531 0.691406 -1.675781 1.015625 -2.34375 C 1.335938 -3.007812 1.96875 -3.613281 2.90625 -4.15625 L 4.3125 -4.96875 C 4.9375 -5.332031 5.375 -5.640625 5.625 -5.890625 C 6.019531 -6.296875 6.21875 -6.757812 6.21875 -7.28125 C 6.21875 -7.882812 6.035156 -8.363281 5.671875 -8.71875 C 5.304688 -9.082031 4.820312 -9.265625 4.21875 -9.265625 C 3.320312 -9.265625 2.703125 -8.921875 2.359375 -8.234375 C 2.171875 -7.867188 2.066406 -7.363281 2.046875 -6.71875 L 0.71875 -6.71875 C 0.738281 -7.632812 0.90625 -8.375 1.21875 -8.9375 C 1.789062 -9.945312 2.796875 -10.453125 4.234375 -10.453125 C 5.421875 -10.453125 6.289062 -10.128906 6.84375 -9.484375 C 7.394531 -8.835938 7.671875 -8.125 7.671875 -7.34375 C 7.671875 -6.5 7.378906 -5.785156 6.796875 -5.203125 C 6.453125 -4.859375 5.84375 -4.4375 4.96875 -3.9375 L 3.96875 -3.390625 C 3.488281 -3.128906 3.113281 -2.878906 2.84375 -2.640625 C 2.363281 -2.222656 2.054688 -1.753906 1.921875 -1.234375 L 7.625 -1.234375 L 7.625 0 Z \"/>\n",
       "</symbol>\n",
       "<symbol overflow=\"visible\" id=\"glyph2-5\">\n",
       "<path style=\"stroke:none;\" d=\"M 4.03125 -10.421875 C 5.382812 -10.421875 6.359375 -9.863281 6.953125 -8.75 C 7.421875 -7.894531 7.65625 -6.71875 7.65625 -5.21875 C 7.65625 -3.800781 7.445312 -2.628906 7.03125 -1.703125 C 6.414062 -0.378906 5.414062 0.28125 4.03125 0.28125 C 2.769531 0.28125 1.835938 -0.257812 1.234375 -1.34375 C 0.722656 -2.25 0.46875 -3.46875 0.46875 -5 C 0.46875 -6.1875 0.617188 -7.203125 0.921875 -8.046875 C 1.492188 -9.628906 2.53125 -10.421875 4.03125 -10.421875 Z M 4.015625 -0.90625 C 4.691406 -0.90625 5.234375 -1.207031 5.640625 -1.8125 C 6.046875 -2.414062 6.25 -3.535156 6.25 -5.171875 C 6.25 -6.359375 6.101562 -7.332031 5.8125 -8.09375 C 5.519531 -8.863281 4.953125 -9.25 4.109375 -9.25 C 3.335938 -9.25 2.773438 -8.882812 2.421875 -8.15625 C 2.066406 -7.425781 1.890625 -6.359375 1.890625 -4.953125 C 1.890625 -3.890625 2.003906 -3.035156 2.234375 -2.390625 C 2.578125 -1.398438 3.171875 -0.90625 4.015625 -0.90625 Z \"/>\n",
       "</symbol>\n",
       "<symbol overflow=\"visible\" id=\"glyph2-6\">\n",
       "<path style=\"stroke:none;\" d=\"M 10.15625 -5.0625 C 10.851562 -5.0625 11.445312 -4.8125 11.9375 -4.3125 C 12.4375 -3.820312 12.6875 -3.226562 12.6875 -2.53125 C 12.6875 -1.832031 12.4375 -1.234375 11.9375 -0.734375 C 11.445312 -0.242188 10.851562 0 10.15625 0 C 9.457031 0 8.859375 -0.242188 8.359375 -0.734375 C 7.867188 -1.234375 7.625 -1.832031 7.625 -2.53125 C 7.625 -3.226562 7.867188 -3.820312 8.359375 -4.3125 C 8.859375 -4.8125 9.457031 -5.0625 10.15625 -5.0625 Z M 9.109375 -10.375 L 9.90625 -10.375 L 4.078125 0.28125 L 3.28125 0.28125 Z M 3.015625 -6.0625 C 3.429688 -6.0625 3.785156 -6.207031 4.078125 -6.5 C 4.367188 -6.800781 4.515625 -7.15625 4.515625 -7.5625 C 4.515625 -7.976562 4.367188 -8.332031 4.078125 -8.625 C 3.785156 -8.914062 3.429688 -9.0625 3.015625 -9.0625 C 2.597656 -9.0625 2.242188 -8.914062 1.953125 -8.625 C 1.660156 -8.34375 1.515625 -7.988281 1.515625 -7.5625 C 1.515625 -7.15625 1.660156 -6.800781 1.953125 -6.5 C 2.242188 -6.207031 2.597656 -6.0625 3.015625 -6.0625 Z M 3.015625 -10.109375 C 3.710938 -10.109375 4.304688 -9.859375 4.796875 -9.359375 C 5.296875 -8.867188 5.546875 -8.269531 5.546875 -7.5625 C 5.546875 -6.863281 5.296875 -6.265625 4.796875 -5.765625 C 4.304688 -5.273438 3.710938 -5.03125 3.015625 -5.03125 C 2.316406 -5.03125 1.71875 -5.273438 1.21875 -5.765625 C 0.726562 -6.265625 0.484375 -6.863281 0.484375 -7.5625 C 0.484375 -8.269531 0.726562 -8.867188 1.21875 -9.359375 C 1.71875 -9.859375 2.316406 -10.109375 3.015625 -10.109375 Z M 10.15625 -1.03125 C 10.570312 -1.03125 10.925781 -1.175781 11.21875 -1.46875 C 11.507812 -1.769531 11.65625 -2.125 11.65625 -2.53125 C 11.65625 -2.945312 11.507812 -3.300781 11.21875 -3.59375 C 10.925781 -3.882812 10.570312 -4.03125 10.15625 -4.03125 C 9.738281 -4.03125 9.382812 -3.882812 9.09375 -3.59375 C 8.800781 -3.300781 8.65625 -2.945312 8.65625 -2.53125 C 8.65625 -2.125 8.800781 -1.769531 9.09375 -1.46875 C 9.382812 -1.175781 9.738281 -1.03125 10.15625 -1.03125 Z \"/>\n",
       "</symbol>\n",
       "</g>\n",
       "</defs>\n",
       "<g id=\"surface856\">\n",
       "<rect x=\"0\" y=\"0\" width=\"288\" height=\"288\" style=\"fill:rgb(100%,100%,100%);fill-opacity:1;stroke:none;\"/>\n",
       "<path style=\"fill:none;stroke-width:1;stroke-linecap:round;stroke-linejoin:round;stroke:rgb(0%,0%,0%);stroke-opacity:1;stroke-miterlimit:10;\" d=\"M 66.398438 208.800781 L 73.050781 68.847656 L 80.441406 64.800781 L 250.398438 64.800781 \"/>\n",
       "<path style=\"fill:none;stroke-width:1;stroke-linecap:round;stroke-linejoin:round;stroke:rgb(0%,0%,0%);stroke-opacity:1;stroke-miterlimit:10;\" d=\"M 65.660156 214.558594 L 250.398438 214.558594 \"/>\n",
       "<path style=\"fill:none;stroke-width:1;stroke-linecap:round;stroke-linejoin:round;stroke:rgb(0%,0%,0%);stroke-opacity:1;stroke-miterlimit:10;\" d=\"M 65.660156 214.558594 L 65.660156 221.761719 \"/>\n",
       "<path style=\"fill:none;stroke-width:1;stroke-linecap:round;stroke-linejoin:round;stroke:rgb(0%,0%,0%);stroke-opacity:1;stroke-miterlimit:10;\" d=\"M 102.609375 214.558594 L 102.609375 221.761719 \"/>\n",
       "<path style=\"fill:none;stroke-width:1;stroke-linecap:round;stroke-linejoin:round;stroke:rgb(0%,0%,0%);stroke-opacity:1;stroke-miterlimit:10;\" d=\"M 139.554688 214.558594 L 139.554688 221.761719 \"/>\n",
       "<path style=\"fill:none;stroke-width:1;stroke-linecap:round;stroke-linejoin:round;stroke:rgb(0%,0%,0%);stroke-opacity:1;stroke-miterlimit:10;\" d=\"M 176.503906 214.558594 L 176.503906 221.761719 \"/>\n",
       "<path style=\"fill:none;stroke-width:1;stroke-linecap:round;stroke-linejoin:round;stroke:rgb(0%,0%,0%);stroke-opacity:1;stroke-miterlimit:10;\" d=\"M 213.453125 214.558594 L 213.453125 221.761719 \"/>\n",
       "<path style=\"fill:none;stroke-width:1;stroke-linecap:round;stroke-linejoin:round;stroke:rgb(0%,0%,0%);stroke-opacity:1;stroke-miterlimit:10;\" d=\"M 250.398438 214.558594 L 250.398438 221.761719 \"/>\n",
       "<g style=\"fill:rgb(0%,0%,0%);fill-opacity:1;\">\n",
       "  <use xlink:href=\"#glyph0-1\" x=\"62.183594\" y=\"241.921875\"/>\n",
       "</g>\n",
       "<g style=\"fill:rgb(0%,0%,0%);fill-opacity:1;\">\n",
       "  <use xlink:href=\"#glyph0-2\" x=\"92.179688\" y=\"241.921875\"/>\n",
       "  <use xlink:href=\"#glyph0-1\" x=\"99.131592\" y=\"241.921875\"/>\n",
       "  <use xlink:href=\"#glyph0-1\" x=\"106.083496\" y=\"241.921875\"/>\n",
       "</g>\n",
       "<g style=\"fill:rgb(0%,0%,0%);fill-opacity:1;\">\n",
       "  <use xlink:href=\"#glyph0-3\" x=\"125.652344\" y=\"241.921875\"/>\n",
       "  <use xlink:href=\"#glyph0-1\" x=\"132.604248\" y=\"241.921875\"/>\n",
       "  <use xlink:href=\"#glyph0-1\" x=\"139.556152\" y=\"241.921875\"/>\n",
       "  <use xlink:href=\"#glyph0-1\" x=\"146.508057\" y=\"241.921875\"/>\n",
       "</g>\n",
       "<g style=\"fill:rgb(0%,0%,0%);fill-opacity:1;\">\n",
       "  <use xlink:href=\"#glyph0-4\" x=\"199.550781\" y=\"241.921875\"/>\n",
       "  <use xlink:href=\"#glyph0-1\" x=\"206.502686\" y=\"241.921875\"/>\n",
       "  <use xlink:href=\"#glyph0-1\" x=\"213.45459\" y=\"241.921875\"/>\n",
       "  <use xlink:href=\"#glyph0-1\" x=\"220.406494\" y=\"241.921875\"/>\n",
       "</g>\n",
       "<path style=\"fill:none;stroke-width:1;stroke-linecap:round;stroke-linejoin:round;stroke:rgb(0%,0%,0%);stroke-opacity:1;stroke-miterlimit:10;\" d=\"M 59.039062 199.695312 L 59.039062 64.800781 \"/>\n",
       "<path style=\"fill:none;stroke-width:1;stroke-linecap:round;stroke-linejoin:round;stroke:rgb(0%,0%,0%);stroke-opacity:1;stroke-miterlimit:10;\" d=\"M 59.039062 199.695312 L 51.839844 199.695312 \"/>\n",
       "<path style=\"fill:none;stroke-width:1;stroke-linecap:round;stroke-linejoin:round;stroke:rgb(0%,0%,0%);stroke-opacity:1;stroke-miterlimit:10;\" d=\"M 59.039062 165.972656 L 51.839844 165.972656 \"/>\n",
       "<path style=\"fill:none;stroke-width:1;stroke-linecap:round;stroke-linejoin:round;stroke:rgb(0%,0%,0%);stroke-opacity:1;stroke-miterlimit:10;\" d=\"M 59.039062 132.246094 L 51.839844 132.246094 \"/>\n",
       "<path style=\"fill:none;stroke-width:1;stroke-linecap:round;stroke-linejoin:round;stroke:rgb(0%,0%,0%);stroke-opacity:1;stroke-miterlimit:10;\" d=\"M 59.039062 98.523438 L 51.839844 98.523438 \"/>\n",
       "<path style=\"fill:none;stroke-width:1;stroke-linecap:round;stroke-linejoin:round;stroke:rgb(0%,0%,0%);stroke-opacity:1;stroke-miterlimit:10;\" d=\"M 59.039062 64.800781 L 51.839844 64.800781 \"/>\n",
       "<g style=\"fill:rgb(0%,0%,0%);fill-opacity:1;\">\n",
       "  <use xlink:href=\"#glyph1-1\" x=\"43.199219\" y=\"208.382812\"/>\n",
       "  <use xlink:href=\"#glyph1-2\" x=\"43.199219\" y=\"201.430908\"/>\n",
       "  <use xlink:href=\"#glyph1-3\" x=\"43.199219\" y=\"197.958008\"/>\n",
       "</g>\n",
       "<g style=\"fill:rgb(0%,0%,0%);fill-opacity:1;\">\n",
       "  <use xlink:href=\"#glyph1-1\" x=\"43.199219\" y=\"174.660156\"/>\n",
       "  <use xlink:href=\"#glyph1-2\" x=\"43.199219\" y=\"167.708252\"/>\n",
       "  <use xlink:href=\"#glyph1-4\" x=\"43.199219\" y=\"164.235352\"/>\n",
       "</g>\n",
       "<g style=\"fill:rgb(0%,0%,0%);fill-opacity:1;\">\n",
       "  <use xlink:href=\"#glyph1-1\" x=\"43.199219\" y=\"140.933594\"/>\n",
       "  <use xlink:href=\"#glyph1-2\" x=\"43.199219\" y=\"133.981689\"/>\n",
       "  <use xlink:href=\"#glyph1-5\" x=\"43.199219\" y=\"130.508789\"/>\n",
       "</g>\n",
       "<g style=\"fill:rgb(0%,0%,0%);fill-opacity:1;\">\n",
       "  <use xlink:href=\"#glyph1-1\" x=\"43.199219\" y=\"107.210938\"/>\n",
       "  <use xlink:href=\"#glyph1-2\" x=\"43.199219\" y=\"100.259033\"/>\n",
       "  <use xlink:href=\"#glyph1-6\" x=\"43.199219\" y=\"96.786133\"/>\n",
       "</g>\n",
       "<g style=\"fill:rgb(0%,0%,0%);fill-opacity:1;\">\n",
       "  <use xlink:href=\"#glyph1-7\" x=\"43.199219\" y=\"73.488281\"/>\n",
       "  <use xlink:href=\"#glyph1-2\" x=\"43.199219\" y=\"66.536377\"/>\n",
       "  <use xlink:href=\"#glyph1-1\" x=\"43.199219\" y=\"63.063477\"/>\n",
       "</g>\n",
       "<path style=\"fill:none;stroke-width:1;stroke-linecap:round;stroke-linejoin:round;stroke:rgb(0%,0%,0%);stroke-opacity:1;stroke-miterlimit:10;\" d=\"M 59.039062 214.558594 L 257.761719 214.558594 L 257.761719 59.039062 L 59.039062 59.039062 L 59.039062 214.558594 \"/>\n",
       "<g style=\"fill:rgb(0%,0%,0%);fill-opacity:1;\">\n",
       "  <use xlink:href=\"#glyph2-1\" x=\"129.1875\" y=\"34.863281\"/>\n",
       "  <use xlink:href=\"#glyph2-2\" x=\"139.129852\" y=\"34.863281\"/>\n",
       "  <use xlink:href=\"#glyph2-3\" x=\"149.072205\" y=\"34.863281\"/>\n",
       "  <use xlink:href=\"#glyph2-4\" x=\"157.777222\" y=\"34.863281\"/>\n",
       "  <use xlink:href=\"#glyph2-5\" x=\"166.067368\" y=\"34.863281\"/>\n",
       "  <use xlink:href=\"#glyph2-6\" x=\"174.357513\" y=\"34.863281\"/>\n",
       "</g>\n",
       "<g style=\"fill:rgb(0%,0%,0%);fill-opacity:1;\">\n",
       "  <use xlink:href=\"#glyph0-5\" x=\"134.773438\" y=\"270.71875\"/>\n",
       "  <use xlink:href=\"#glyph0-6\" x=\"141.725342\" y=\"270.71875\"/>\n",
       "  <use xlink:href=\"#glyph0-7\" x=\"145.198242\" y=\"270.71875\"/>\n",
       "  <use xlink:href=\"#glyph0-8\" x=\"152.150146\" y=\"270.71875\"/>\n",
       "  <use xlink:href=\"#glyph0-6\" x=\"155.623047\" y=\"270.71875\"/>\n",
       "  <use xlink:href=\"#glyph0-9\" x=\"159.095947\" y=\"270.71875\"/>\n",
       "  <use xlink:href=\"#glyph0-7\" x=\"162.568848\" y=\"270.71875\"/>\n",
       "  <use xlink:href=\"#glyph0-10\" x=\"169.520752\" y=\"270.71875\"/>\n",
       "  <use xlink:href=\"#glyph0-10\" x=\"175.770752\" y=\"270.71875\"/>\n",
       "</g>\n",
       "<g style=\"fill:rgb(0%,0%,0%);fill-opacity:1;\">\n",
       "  <use xlink:href=\"#glyph1-8\" x=\"14.398438\" y=\"153.824219\"/>\n",
       "  <use xlink:href=\"#glyph1-9\" x=\"14.398438\" y=\"146.872314\"/>\n",
       "  <use xlink:href=\"#glyph1-10\" x=\"14.398438\" y=\"139.92041\"/>\n",
       "  <use xlink:href=\"#glyph1-11\" x=\"14.398438\" y=\"130.893311\"/>\n",
       "  <use xlink:href=\"#glyph1-12\" x=\"14.398438\" y=\"123.941406\"/>\n",
       "</g>\n",
       "</g>\n",
       "</svg>\n"
      ],
      "text/plain": [
       "Plot with title \"ES=20%\""
      ]
     },
     "metadata": {
      "image/svg+xml": {
       "isolated": true
      }
     },
     "output_type": "display_data"
    }
   ],
   "source": [
    "res = sapply(ntosses,coin.power,prob=.70)\n",
    "names(res) = ntosses\n",
    "plot( ntosses, res , type=\"l\", main=\"ES=20%\",xlab=\"# of toss\", ylab=\"power\")"
   ]
  },
  {
   "cell_type": "code",
   "execution_count": 109,
   "metadata": {
    "collapsed": false,
    "deletable": true,
    "editable": true
   },
   "outputs": [
    {
     "data": {
      "image/png": "[encoded data removed]",
      "image/svg+xml": [
       "<?xml version=\"1.0\" encoding=\"UTF-8\"?>\n",
       "<svg xmlns=\"http://www.w3.org/2000/svg\" xmlns:xlink=\"http://www.w3.org/1999/xlink\" width=\"288pt\" height=\"288pt\" viewBox=\"0 0 288 288\" version=\"1.1\">\n",
       "<defs>\n",
       "<g>\n",
       "<symbol overflow=\"visible\" id=\"glyph0-0\">\n",
       "<path style=\"stroke:none;\" d=\"M 0.40625 0 L 0.40625 -8.96875 L 7.515625 -8.96875 L 7.515625 0 Z M 6.390625 -1.125 L 6.390625 -7.84375 L 1.53125 -7.84375 L 1.53125 -1.125 Z \"/>\n",
       "</symbol>\n",
       "<symbol overflow=\"visible\" id=\"glyph0-1\">\n",
       "<path style=\"stroke:none;\" d=\"M 3.375 -8.734375 C 4.507812 -8.734375 5.328125 -8.269531 5.828125 -7.34375 C 6.222656 -6.625 6.421875 -5.632812 6.421875 -4.375 C 6.421875 -3.1875 6.242188 -2.207031 5.890625 -1.4375 C 5.378906 -0.320312 4.539062 0.234375 3.375 0.234375 C 2.320312 0.234375 1.539062 -0.21875 1.03125 -1.125 C 0.601562 -1.882812 0.390625 -2.90625 0.390625 -4.1875 C 0.390625 -5.1875 0.519531 -6.039062 0.78125 -6.75 C 1.257812 -8.070312 2.125 -8.734375 3.375 -8.734375 Z M 3.375 -0.765625 C 3.9375 -0.765625 4.382812 -1.015625 4.71875 -1.515625 C 5.0625 -2.023438 5.234375 -2.96875 5.234375 -4.34375 C 5.234375 -5.332031 5.109375 -6.144531 4.859375 -6.78125 C 4.617188 -7.425781 4.148438 -7.75 3.453125 -7.75 C 2.804688 -7.75 2.332031 -7.441406 2.03125 -6.828125 C 1.726562 -6.222656 1.578125 -5.332031 1.578125 -4.15625 C 1.578125 -3.257812 1.675781 -2.539062 1.875 -2 C 2.164062 -1.175781 2.664062 -0.765625 3.375 -0.765625 Z \"/>\n",
       "</symbol>\n",
       "<symbol overflow=\"visible\" id=\"glyph0-2\">\n",
       "<path style=\"stroke:none;\" d=\"M 1.546875 -2.234375 C 1.617188 -1.597656 1.910156 -1.160156 2.421875 -0.921875 C 2.679688 -0.804688 2.984375 -0.75 3.328125 -0.75 C 3.972656 -0.75 4.453125 -0.953125 4.765625 -1.359375 C 5.078125 -1.773438 5.234375 -2.238281 5.234375 -2.75 C 5.234375 -3.351562 5.046875 -3.820312 4.671875 -4.15625 C 4.304688 -4.488281 3.863281 -4.65625 3.34375 -4.65625 C 2.957031 -4.65625 2.628906 -4.582031 2.359375 -4.4375 C 2.085938 -4.289062 1.859375 -4.085938 1.671875 -3.828125 L 0.71875 -3.890625 L 1.390625 -8.59375 L 5.921875 -8.59375 L 5.921875 -7.53125 L 2.203125 -7.53125 L 1.84375 -5.109375 C 2.039062 -5.253906 2.234375 -5.367188 2.421875 -5.453125 C 2.742188 -5.585938 3.117188 -5.65625 3.546875 -5.65625 C 4.347656 -5.65625 5.023438 -5.394531 5.578125 -4.875 C 6.140625 -4.363281 6.421875 -3.707031 6.421875 -2.90625 C 6.421875 -2.082031 6.164062 -1.351562 5.65625 -0.71875 C 5.144531 -0.09375 4.328125 0.21875 3.203125 0.21875 C 2.492188 0.21875 1.863281 0.0195312 1.3125 -0.375 C 0.769531 -0.78125 0.46875 -1.398438 0.40625 -2.234375 Z \"/>\n",
       "</symbol>\n",
       "<symbol overflow=\"visible\" id=\"glyph0-3\">\n",
       "<path style=\"stroke:none;\" d=\"M 1.203125 -6.1875 L 1.203125 -7.03125 C 1.992188 -7.101562 2.546875 -7.226562 2.859375 -7.40625 C 3.171875 -7.59375 3.40625 -8.023438 3.5625 -8.703125 L 4.421875 -8.703125 L 4.421875 0 L 3.25 0 L 3.25 -6.1875 Z \"/>\n",
       "</symbol>\n",
       "<symbol overflow=\"visible\" id=\"glyph0-4\">\n",
       "<path style=\"stroke:none;\" d=\"M 0.390625 0 C 0.429688 -0.75 0.585938 -1.398438 0.859375 -1.953125 C 1.128906 -2.515625 1.65625 -3.023438 2.4375 -3.484375 L 3.609375 -4.15625 C 4.140625 -4.46875 4.507812 -4.726562 4.71875 -4.9375 C 5.050781 -5.28125 5.21875 -5.671875 5.21875 -6.109375 C 5.21875 -6.609375 5.0625 -7.007812 4.75 -7.3125 C 4.445312 -7.613281 4.046875 -7.765625 3.546875 -7.765625 C 2.785156 -7.765625 2.265625 -7.476562 1.984375 -6.90625 C 1.828125 -6.601562 1.738281 -6.179688 1.71875 -5.640625 L 0.609375 -5.640625 C 0.617188 -6.398438 0.757812 -7.019531 1.03125 -7.5 C 1.5 -8.34375 2.335938 -8.765625 3.546875 -8.765625 C 4.546875 -8.765625 5.273438 -8.492188 5.734375 -7.953125 C 6.203125 -7.410156 6.4375 -6.8125 6.4375 -6.15625 C 6.4375 -5.457031 6.1875 -4.859375 5.6875 -4.359375 C 5.40625 -4.066406 4.894531 -3.71875 4.15625 -3.3125 L 3.328125 -2.84375 C 2.929688 -2.625 2.617188 -2.414062 2.390625 -2.21875 C 1.984375 -1.863281 1.726562 -1.46875 1.625 -1.03125 L 6.390625 -1.03125 L 6.390625 0 Z \"/>\n",
       "</symbol>\n",
       "<symbol overflow=\"visible\" id=\"glyph0-5\">\n",
       "<path style=\"stroke:none;\" d=\"M 0.1875 -3.421875 L 1.609375 -3.421875 L 2.171875 -5.53125 L 0.765625 -5.53125 L 0.953125 -6.234375 L 2.375 -6.234375 L 3.09375 -8.96875 L 4 -8.96875 L 3.265625 -6.234375 L 4.609375 -6.234375 L 5.359375 -8.96875 L 6.265625 -8.96875 L 5.53125 -6.234375 L 6.9375 -6.234375 L 6.75 -5.53125 L 5.328125 -5.53125 L 4.75 -3.421875 L 6.171875 -3.421875 L 5.984375 -2.71875 L 4.578125 -2.71875 L 3.828125 0 L 2.9375 0 L 3.671875 -2.71875 L 2.3125 -2.71875 L 1.59375 0 L 0.671875 0 L 1.421875 -2.71875 L 0 -2.71875 Z M 3.84375 -3.421875 L 4.421875 -5.53125 L 3.078125 -5.53125 L 2.515625 -3.421875 Z \"/>\n",
       "</symbol>\n",
       "<symbol overflow=\"visible\" id=\"glyph0-6\">\n",
       "<path style=\"stroke:none;\" d=\"\"/>\n",
       "</symbol>\n",
       "<symbol overflow=\"visible\" id=\"glyph0-7\">\n",
       "<path style=\"stroke:none;\" d=\"M 3.40625 -0.703125 C 4.132812 -0.703125 4.628906 -0.976562 4.890625 -1.53125 C 5.160156 -2.082031 5.296875 -2.695312 5.296875 -3.375 C 5.296875 -3.988281 5.203125 -4.484375 5.015625 -4.859375 C 4.703125 -5.460938 4.164062 -5.765625 3.40625 -5.765625 C 2.738281 -5.765625 2.25 -5.507812 1.9375 -5 C 1.632812 -4.488281 1.484375 -3.867188 1.484375 -3.140625 C 1.484375 -2.441406 1.632812 -1.859375 1.9375 -1.390625 C 2.25 -0.929688 2.738281 -0.703125 3.40625 -0.703125 Z M 3.4375 -6.71875 C 4.28125 -6.71875 4.992188 -6.4375 5.578125 -5.875 C 6.160156 -5.320312 6.453125 -4.5 6.453125 -3.40625 C 6.453125 -2.351562 6.191406 -1.484375 5.671875 -0.796875 C 5.160156 -0.109375 4.367188 0.234375 3.296875 0.234375 C 2.398438 0.234375 1.6875 -0.0664062 1.15625 -0.671875 C 0.625 -1.285156 0.359375 -2.101562 0.359375 -3.125 C 0.359375 -4.21875 0.632812 -5.085938 1.1875 -5.734375 C 1.75 -6.390625 2.5 -6.71875 3.4375 -6.71875 Z M 3.40625 -6.703125 Z \"/>\n",
       "</symbol>\n",
       "<symbol overflow=\"visible\" id=\"glyph0-8\">\n",
       "<path style=\"stroke:none;\" d=\"M 1.078125 -7.53125 C 1.097656 -7.988281 1.175781 -8.320312 1.3125 -8.53125 C 1.570312 -8.90625 2.066406 -9.09375 2.796875 -9.09375 C 2.867188 -9.09375 2.941406 -9.085938 3.015625 -9.078125 C 3.085938 -9.078125 3.171875 -9.070312 3.265625 -9.0625 L 3.265625 -8.0625 C 3.148438 -8.070312 3.066406 -8.078125 3.015625 -8.078125 C 2.960938 -8.085938 2.914062 -8.09375 2.875 -8.09375 C 2.539062 -8.09375 2.335938 -8.003906 2.265625 -7.828125 C 2.203125 -7.648438 2.171875 -7.207031 2.171875 -6.5 L 3.265625 -6.5 L 3.265625 -5.640625 L 2.171875 -5.640625 L 2.171875 0 L 1.078125 0 L 1.078125 -5.640625 L 0.171875 -5.640625 L 0.171875 -6.5 L 1.078125 -6.5 Z \"/>\n",
       "</symbol>\n",
       "<symbol overflow=\"visible\" id=\"glyph0-9\">\n",
       "<path style=\"stroke:none;\" d=\"M 1.03125 -8.359375 L 2.140625 -8.359375 L 2.140625 -6.53125 L 3.1875 -6.53125 L 3.1875 -5.640625 L 2.140625 -5.640625 L 2.140625 -1.375 C 2.140625 -1.144531 2.21875 -0.992188 2.375 -0.921875 C 2.457031 -0.867188 2.597656 -0.84375 2.796875 -0.84375 C 2.847656 -0.84375 2.90625 -0.84375 2.96875 -0.84375 C 3.03125 -0.851562 3.101562 -0.859375 3.1875 -0.859375 L 3.1875 0 C 3.050781 0.0390625 2.914062 0.0664062 2.78125 0.078125 C 2.644531 0.0976562 2.5 0.109375 2.34375 0.109375 C 1.832031 0.109375 1.484375 -0.0195312 1.296875 -0.28125 C 1.117188 -0.550781 1.03125 -0.894531 1.03125 -1.3125 L 1.03125 -5.640625 L 0.140625 -5.640625 L 0.140625 -6.53125 L 1.03125 -6.53125 Z \"/>\n",
       "</symbol>\n",
       "<symbol overflow=\"visible\" id=\"glyph0-10\">\n",
       "<path style=\"stroke:none;\" d=\"M 1.453125 -2.046875 C 1.484375 -1.679688 1.578125 -1.398438 1.734375 -1.203125 C 2.015625 -0.847656 2.492188 -0.671875 3.171875 -0.671875 C 3.578125 -0.671875 3.9375 -0.757812 4.25 -0.9375 C 4.5625 -1.113281 4.71875 -1.390625 4.71875 -1.765625 C 4.71875 -2.046875 4.59375 -2.257812 4.34375 -2.40625 C 4.1875 -2.5 3.875 -2.601562 3.40625 -2.71875 L 2.53125 -2.9375 C 1.96875 -3.070312 1.554688 -3.226562 1.296875 -3.40625 C 0.828125 -3.695312 0.59375 -4.101562 0.59375 -4.625 C 0.59375 -5.25 0.8125 -5.75 1.25 -6.125 C 1.695312 -6.507812 2.296875 -6.703125 3.046875 -6.703125 C 4.035156 -6.703125 4.75 -6.414062 5.1875 -5.84375 C 5.457031 -5.476562 5.585938 -5.082031 5.578125 -4.65625 L 4.546875 -4.65625 C 4.523438 -4.90625 4.4375 -5.128906 4.28125 -5.328125 C 4.03125 -5.617188 3.59375 -5.765625 2.96875 -5.765625 C 2.550781 -5.765625 2.234375 -5.6875 2.015625 -5.53125 C 1.804688 -5.375 1.703125 -5.164062 1.703125 -4.90625 C 1.703125 -4.613281 1.84375 -4.382812 2.125 -4.21875 C 2.289062 -4.113281 2.53125 -4.023438 2.84375 -3.953125 L 3.578125 -3.765625 C 4.359375 -3.578125 4.882812 -3.394531 5.15625 -3.21875 C 5.582031 -2.9375 5.796875 -2.492188 5.796875 -1.890625 C 5.796875 -1.304688 5.570312 -0.800781 5.125 -0.375 C 4.6875 0.0390625 4.019531 0.25 3.125 0.25 C 2.144531 0.25 1.453125 0.03125 1.046875 -0.40625 C 0.648438 -0.851562 0.4375 -1.398438 0.40625 -2.046875 Z M 3.078125 -6.703125 Z \"/>\n",
       "</symbol>\n",
       "<symbol overflow=\"visible\" id=\"glyph1-0\">\n",
       "<path style=\"stroke:none;\" d=\"M 0 -0.40625 L -8.96875 -0.40625 L -8.96875 -7.515625 L 0 -7.515625 Z M -1.125 -6.390625 L -7.84375 -6.390625 L -7.84375 -1.53125 L -1.125 -1.53125 Z \"/>\n",
       "</symbol>\n",
       "<symbol overflow=\"visible\" id=\"glyph1-1\">\n",
       "<path style=\"stroke:none;\" d=\"M -8.734375 -3.375 C -8.734375 -4.507812 -8.269531 -5.328125 -7.34375 -5.828125 C -6.625 -6.222656 -5.632812 -6.421875 -4.375 -6.421875 C -3.1875 -6.421875 -2.207031 -6.242188 -1.4375 -5.890625 C -0.320312 -5.378906 0.234375 -4.539062 0.234375 -3.375 C 0.234375 -2.320312 -0.21875 -1.539062 -1.125 -1.03125 C -1.882812 -0.601562 -2.90625 -0.390625 -4.1875 -0.390625 C -5.1875 -0.390625 -6.039062 -0.519531 -6.75 -0.78125 C -8.070312 -1.257812 -8.734375 -2.125 -8.734375 -3.375 Z M -0.765625 -3.375 C -0.765625 -3.9375 -1.015625 -4.382812 -1.515625 -4.71875 C -2.023438 -5.0625 -2.96875 -5.234375 -4.34375 -5.234375 C -5.332031 -5.234375 -6.144531 -5.109375 -6.78125 -4.859375 C -7.425781 -4.617188 -7.75 -4.148438 -7.75 -3.453125 C -7.75 -2.804688 -7.441406 -2.332031 -6.828125 -2.03125 C -6.222656 -1.726562 -5.332031 -1.578125 -4.15625 -1.578125 C -3.257812 -1.578125 -2.539062 -1.675781 -2 -1.875 C -1.175781 -2.164062 -0.765625 -2.664062 -0.765625 -3.375 Z \"/>\n",
       "</symbol>\n",
       "<symbol overflow=\"visible\" id=\"glyph1-2\">\n",
       "<path style=\"stroke:none;\" d=\"M -1.328125 -1.0625 L -1.328125 -2.34375 L 0 -2.34375 L 0 -1.0625 Z \"/>\n",
       "</symbol>\n",
       "<symbol overflow=\"visible\" id=\"glyph1-3\">\n",
       "<path style=\"stroke:none;\" d=\"M -2.234375 -1.546875 C -1.597656 -1.617188 -1.160156 -1.910156 -0.921875 -2.421875 C -0.804688 -2.679688 -0.75 -2.984375 -0.75 -3.328125 C -0.75 -3.972656 -0.953125 -4.453125 -1.359375 -4.765625 C -1.773438 -5.078125 -2.238281 -5.234375 -2.75 -5.234375 C -3.351562 -5.234375 -3.820312 -5.046875 -4.15625 -4.671875 C -4.488281 -4.304688 -4.65625 -3.863281 -4.65625 -3.34375 C -4.65625 -2.957031 -4.582031 -2.628906 -4.4375 -2.359375 C -4.289062 -2.085938 -4.085938 -1.859375 -3.828125 -1.671875 L -3.890625 -0.71875 L -8.59375 -1.390625 L -8.59375 -5.921875 L -7.53125 -5.921875 L -7.53125 -2.203125 L -5.109375 -1.84375 C -5.253906 -2.039062 -5.367188 -2.234375 -5.453125 -2.421875 C -5.585938 -2.742188 -5.65625 -3.117188 -5.65625 -3.546875 C -5.65625 -4.347656 -5.394531 -5.023438 -4.875 -5.578125 C -4.363281 -6.140625 -3.707031 -6.421875 -2.90625 -6.421875 C -2.082031 -6.421875 -1.351562 -6.164062 -0.71875 -5.65625 C -0.09375 -5.144531 0.21875 -4.328125 0.21875 -3.203125 C 0.21875 -2.492188 0.0195312 -1.863281 -0.375 -1.3125 C -0.78125 -0.769531 -1.398438 -0.46875 -2.234375 -0.40625 Z \"/>\n",
       "</symbol>\n",
       "<symbol overflow=\"visible\" id=\"glyph1-4\">\n",
       "<path style=\"stroke:none;\" d=\"M -6.1875 -1.203125 L -7.03125 -1.203125 C -7.101562 -1.992188 -7.226562 -2.546875 -7.40625 -2.859375 C -7.59375 -3.171875 -8.023438 -3.40625 -8.703125 -3.5625 L -8.703125 -4.421875 L 0 -4.421875 L 0 -3.25 L -6.1875 -3.25 Z \"/>\n",
       "</symbol>\n",
       "<symbol overflow=\"visible\" id=\"glyph1-5\">\n",
       "<path style=\"stroke:none;\" d=\"M -0.734375 -3.5625 C -0.734375 -4.070312 -0.945312 -4.5 -1.375 -4.84375 C -1.8125 -5.1875 -2.457031 -5.359375 -3.3125 -5.359375 C -3.832031 -5.359375 -4.28125 -5.28125 -4.65625 -5.125 C -5.375 -4.84375 -5.734375 -4.320312 -5.734375 -3.5625 C -5.734375 -2.800781 -5.351562 -2.28125 -4.59375 -2 C -4.1875 -1.851562 -3.671875 -1.78125 -3.046875 -1.78125 C -2.535156 -1.78125 -2.101562 -1.851562 -1.75 -2 C -1.070312 -2.28125 -0.734375 -2.800781 -0.734375 -3.5625 Z M -6.5 -0.71875 L -6.5 -1.78125 L -5.640625 -1.78125 C -5.929688 -2.007812 -6.160156 -2.253906 -6.328125 -2.515625 C -6.578125 -2.878906 -6.703125 -3.3125 -6.703125 -3.8125 C -6.703125 -4.550781 -6.414062 -5.175781 -5.84375 -5.6875 C -5.28125 -6.207031 -4.46875 -6.46875 -3.40625 -6.46875 C -1.988281 -6.46875 -0.972656 -6.097656 -0.359375 -5.359375 C 0.0234375 -4.890625 0.21875 -4.34375 0.21875 -3.71875 C 0.21875 -3.21875 0.109375 -2.800781 -0.109375 -2.46875 C -0.222656 -2.269531 -0.429688 -2.050781 -0.734375 -1.8125 L 2.609375 -1.8125 L 2.609375 -0.71875 Z \"/>\n",
       "</symbol>\n",
       "<symbol overflow=\"visible\" id=\"glyph1-6\">\n",
       "<path style=\"stroke:none;\" d=\"M -0.703125 -3.40625 C -0.703125 -4.132812 -0.976562 -4.628906 -1.53125 -4.890625 C -2.082031 -5.160156 -2.695312 -5.296875 -3.375 -5.296875 C -3.988281 -5.296875 -4.484375 -5.203125 -4.859375 -5.015625 C -5.460938 -4.703125 -5.765625 -4.164062 -5.765625 -3.40625 C -5.765625 -2.738281 -5.507812 -2.25 -5 -1.9375 C -4.488281 -1.632812 -3.867188 -1.484375 -3.140625 -1.484375 C -2.441406 -1.484375 -1.859375 -1.632812 -1.390625 -1.9375 C -0.929688 -2.25 -0.703125 -2.738281 -0.703125 -3.40625 Z M -6.71875 -3.4375 C -6.71875 -4.28125 -6.4375 -4.992188 -5.875 -5.578125 C -5.320312 -6.160156 -4.5 -6.453125 -3.40625 -6.453125 C -2.351562 -6.453125 -1.484375 -6.191406 -0.796875 -5.671875 C -0.109375 -5.160156 0.234375 -4.367188 0.234375 -3.296875 C 0.234375 -2.398438 -0.0664062 -1.6875 -0.671875 -1.15625 C -1.285156 -0.625 -2.101562 -0.359375 -3.125 -0.359375 C -4.21875 -0.359375 -5.085938 -0.632812 -5.734375 -1.1875 C -6.390625 -1.75 -6.71875 -2.5 -6.71875 -3.4375 Z M -6.703125 -3.40625 Z \"/>\n",
       "</symbol>\n",
       "<symbol overflow=\"visible\" id=\"glyph1-7\">\n",
       "<path style=\"stroke:none;\" d=\"M -6.53125 -1.3125 L -1.390625 -2.5625 L -6.53125 -3.84375 L -6.53125 -5.078125 L -1.421875 -6.359375 L -6.53125 -7.703125 L -6.53125 -8.796875 L 0 -6.890625 L 0 -5.75 L -5.0625 -4.421875 L 0 -3.140625 L 0 -2 L -6.53125 -0.109375 Z \"/>\n",
       "</symbol>\n",
       "<symbol overflow=\"visible\" id=\"glyph1-8\">\n",
       "<path style=\"stroke:none;\" d=\"M -6.6875 -3.53125 C -6.6875 -3.988281 -6.578125 -4.4375 -6.359375 -4.875 C -6.140625 -5.3125 -5.859375 -5.644531 -5.515625 -5.875 C -5.179688 -6.09375 -4.796875 -6.238281 -4.359375 -6.3125 C -4.054688 -6.375 -3.578125 -6.40625 -2.921875 -6.40625 L -2.921875 -1.625 C -2.253906 -1.632812 -1.71875 -1.785156 -1.3125 -2.078125 C -0.914062 -2.378906 -0.71875 -2.835938 -0.71875 -3.453125 C -0.71875 -4.023438 -0.90625 -4.484375 -1.28125 -4.828125 C -1.507812 -5.015625 -1.765625 -5.148438 -2.046875 -5.234375 L -2.046875 -6.3125 C -1.804688 -6.289062 -1.539062 -6.195312 -1.25 -6.03125 C -0.957031 -5.875 -0.71875 -5.695312 -0.53125 -5.5 C -0.195312 -5.164062 0.0234375 -4.75 0.140625 -4.25 C 0.203125 -3.988281 0.234375 -3.691406 0.234375 -3.359375 C 0.234375 -2.546875 -0.0625 -1.851562 -0.65625 -1.28125 C -1.25 -0.71875 -2.078125 -0.4375 -3.140625 -0.4375 C -4.191406 -0.4375 -5.046875 -0.722656 -5.703125 -1.296875 C -6.359375 -1.867188 -6.6875 -2.613281 -6.6875 -3.53125 Z M -3.796875 -5.28125 C -4.265625 -5.238281 -4.644531 -5.132812 -4.9375 -4.96875 C -5.457031 -4.664062 -5.71875 -4.160156 -5.71875 -3.453125 C -5.71875 -2.953125 -5.535156 -2.53125 -5.171875 -2.1875 C -4.804688 -1.84375 -4.347656 -1.660156 -3.796875 -1.640625 Z M -6.703125 -3.421875 Z \"/>\n",
       "</symbol>\n",
       "<symbol overflow=\"visible\" id=\"glyph1-9\">\n",
       "<path style=\"stroke:none;\" d=\"M -6.53125 -0.84375 L -6.53125 -1.875 L -5.40625 -1.875 C -5.625 -1.96875 -5.890625 -2.179688 -6.203125 -2.515625 C -6.523438 -2.847656 -6.6875 -3.226562 -6.6875 -3.65625 C -6.6875 -3.675781 -6.679688 -3.710938 -6.671875 -3.765625 C -6.671875 -3.816406 -6.664062 -3.898438 -6.65625 -4.015625 L -5.5 -4.015625 C -5.507812 -3.953125 -5.515625 -3.890625 -5.515625 -3.828125 C -5.523438 -3.773438 -5.53125 -3.71875 -5.53125 -3.65625 C -5.53125 -3.101562 -5.347656 -2.675781 -4.984375 -2.375 C -4.628906 -2.082031 -4.222656 -1.9375 -3.765625 -1.9375 L 0 -1.9375 L 0 -0.84375 Z \"/>\n",
       "</symbol>\n",
       "<symbol overflow=\"visible\" id=\"glyph2-0\">\n",
       "<path style=\"stroke:none;\" d=\"M 0.484375 0 L 0.484375 -10.6875 L 8.96875 -10.6875 L 8.96875 0 Z M 7.625 -1.34375 L 7.625 -9.359375 L 1.8125 -9.359375 L 1.8125 -1.34375 Z \"/>\n",
       "</symbol>\n",
       "<symbol overflow=\"visible\" id=\"glyph2-1\">\n",
       "<path style=\"stroke:none;\" d=\"M 1.28125 -10.6875 L 9.0625 -10.6875 L 9.0625 -9.375 L 2.6875 -9.375 L 2.6875 -6.140625 L 8.59375 -6.140625 L 8.59375 -4.890625 L 2.6875 -4.890625 L 2.6875 -1.28125 L 9.171875 -1.28125 L 9.171875 0 L 1.28125 0 Z M 5.21875 -10.6875 Z \"/>\n",
       "</symbol>\n",
       "<symbol overflow=\"visible\" id=\"glyph2-2\">\n",
       "<path style=\"stroke:none;\" d=\"M 2.078125 -3.453125 C 2.109375 -2.847656 2.253906 -2.351562 2.515625 -1.96875 C 2.992188 -1.257812 3.835938 -0.90625 5.046875 -0.90625 C 5.585938 -0.90625 6.082031 -0.984375 6.53125 -1.140625 C 7.394531 -1.441406 7.828125 -1.984375 7.828125 -2.765625 C 7.828125 -3.335938 7.644531 -3.75 7.28125 -4 C 6.914062 -4.238281 6.335938 -4.453125 5.546875 -4.640625 L 4.109375 -4.96875 C 3.160156 -5.175781 2.488281 -5.410156 2.09375 -5.671875 C 1.414062 -6.117188 1.078125 -6.785156 1.078125 -7.671875 C 1.078125 -8.628906 1.410156 -9.414062 2.078125 -10.03125 C 2.742188 -10.65625 3.679688 -10.96875 4.890625 -10.96875 C 6.015625 -10.96875 6.96875 -10.695312 7.75 -10.15625 C 8.539062 -9.613281 8.9375 -8.75 8.9375 -7.5625 L 7.5625 -7.5625 C 7.488281 -8.125 7.335938 -8.5625 7.109375 -8.875 C 6.660156 -9.425781 5.910156 -9.703125 4.859375 -9.703125 C 4.003906 -9.703125 3.390625 -9.519531 3.015625 -9.15625 C 2.640625 -8.800781 2.453125 -8.390625 2.453125 -7.921875 C 2.453125 -7.398438 2.671875 -7.015625 3.109375 -6.765625 C 3.390625 -6.609375 4.035156 -6.414062 5.046875 -6.1875 L 6.546875 -5.84375 C 7.273438 -5.675781 7.832031 -5.453125 8.21875 -5.171875 C 8.90625 -4.671875 9.25 -3.941406 9.25 -2.984375 C 9.25 -1.804688 8.816406 -0.960938 7.953125 -0.453125 C 7.085938 0.0546875 6.085938 0.3125 4.953125 0.3125 C 3.617188 0.3125 2.578125 -0.0234375 1.828125 -0.703125 C 1.078125 -1.378906 0.707031 -2.296875 0.71875 -3.453125 Z M 5 -10.984375 Z \"/>\n",
       "</symbol>\n",
       "<symbol overflow=\"visible\" id=\"glyph2-3\">\n",
       "<path style=\"stroke:none;\" d=\"M 8.265625 -5.984375 L 8.265625 -4.765625 L 0.671875 -4.765625 L 0.671875 -5.984375 Z M 8.265625 -2.859375 L 8.265625 -1.609375 L 0.671875 -1.609375 L 0.671875 -2.859375 Z \"/>\n",
       "</symbol>\n",
       "<symbol overflow=\"visible\" id=\"glyph2-4\">\n",
       "<path style=\"stroke:none;\" d=\"M 1.421875 -7.375 L 1.421875 -8.390625 C 2.367188 -8.472656 3.03125 -8.625 3.40625 -8.84375 C 3.78125 -9.0625 4.0625 -9.570312 4.25 -10.375 L 5.28125 -10.375 L 5.28125 0 L 3.875 0 L 3.875 -7.375 Z \"/>\n",
       "</symbol>\n",
       "<symbol overflow=\"visible\" id=\"glyph2-5\">\n",
       "<path style=\"stroke:none;\" d=\"M 10.15625 -5.0625 C 10.851562 -5.0625 11.445312 -4.8125 11.9375 -4.3125 C 12.4375 -3.820312 12.6875 -3.226562 12.6875 -2.53125 C 12.6875 -1.832031 12.4375 -1.234375 11.9375 -0.734375 C 11.445312 -0.242188 10.851562 0 10.15625 0 C 9.457031 0 8.859375 -0.242188 8.359375 -0.734375 C 7.867188 -1.234375 7.625 -1.832031 7.625 -2.53125 C 7.625 -3.226562 7.867188 -3.820312 8.359375 -4.3125 C 8.859375 -4.8125 9.457031 -5.0625 10.15625 -5.0625 Z M 9.109375 -10.375 L 9.90625 -10.375 L 4.078125 0.28125 L 3.28125 0.28125 Z M 3.015625 -6.0625 C 3.429688 -6.0625 3.785156 -6.207031 4.078125 -6.5 C 4.367188 -6.800781 4.515625 -7.15625 4.515625 -7.5625 C 4.515625 -7.976562 4.367188 -8.332031 4.078125 -8.625 C 3.785156 -8.914062 3.429688 -9.0625 3.015625 -9.0625 C 2.597656 -9.0625 2.242188 -8.914062 1.953125 -8.625 C 1.660156 -8.34375 1.515625 -7.988281 1.515625 -7.5625 C 1.515625 -7.15625 1.660156 -6.800781 1.953125 -6.5 C 2.242188 -6.207031 2.597656 -6.0625 3.015625 -6.0625 Z M 3.015625 -10.109375 C 3.710938 -10.109375 4.304688 -9.859375 4.796875 -9.359375 C 5.296875 -8.867188 5.546875 -8.269531 5.546875 -7.5625 C 5.546875 -6.863281 5.296875 -6.265625 4.796875 -5.765625 C 4.304688 -5.273438 3.710938 -5.03125 3.015625 -5.03125 C 2.316406 -5.03125 1.71875 -5.273438 1.21875 -5.765625 C 0.726562 -6.265625 0.484375 -6.863281 0.484375 -7.5625 C 0.484375 -8.269531 0.726562 -8.867188 1.21875 -9.359375 C 1.71875 -9.859375 2.316406 -10.109375 3.015625 -10.109375 Z M 10.15625 -1.03125 C 10.570312 -1.03125 10.925781 -1.175781 11.21875 -1.46875 C 11.507812 -1.769531 11.65625 -2.125 11.65625 -2.53125 C 11.65625 -2.945312 11.507812 -3.300781 11.21875 -3.59375 C 10.925781 -3.882812 10.570312 -4.03125 10.15625 -4.03125 C 9.738281 -4.03125 9.382812 -3.882812 9.09375 -3.59375 C 8.800781 -3.300781 8.65625 -2.945312 8.65625 -2.53125 C 8.65625 -2.125 8.800781 -1.769531 9.09375 -1.46875 C 9.382812 -1.175781 9.738281 -1.03125 10.15625 -1.03125 Z \"/>\n",
       "</symbol>\n",
       "</g>\n",
       "</defs>\n",
       "<g id=\"surface873\">\n",
       "<rect x=\"0\" y=\"0\" width=\"288\" height=\"288\" style=\"fill:rgb(100%,100%,100%);fill-opacity:1;stroke:none;\"/>\n",
       "<path style=\"fill:none;stroke-width:1;stroke-linecap:round;stroke-linejoin:round;stroke:rgb(0%,0%,0%);stroke-opacity:1;stroke-miterlimit:10;\" d=\"M 66.398438 208.800781 L 73.050781 193.640625 L 80.441406 191.746094 L 102.609375 163.328125 L 110 157.640625 L 124.777344 159.535156 L 139.554688 130.167969 L 176.503906 130.167969 L 213.453125 89.429688 L 250.398438 64.800781 \"/>\n",
       "<path style=\"fill:none;stroke-width:1;stroke-linecap:round;stroke-linejoin:round;stroke:rgb(0%,0%,0%);stroke-opacity:1;stroke-miterlimit:10;\" d=\"M 65.660156 214.558594 L 250.398438 214.558594 \"/>\n",
       "<path style=\"fill:none;stroke-width:1;stroke-linecap:round;stroke-linejoin:round;stroke:rgb(0%,0%,0%);stroke-opacity:1;stroke-miterlimit:10;\" d=\"M 65.660156 214.558594 L 65.660156 221.761719 \"/>\n",
       "<path style=\"fill:none;stroke-width:1;stroke-linecap:round;stroke-linejoin:round;stroke:rgb(0%,0%,0%);stroke-opacity:1;stroke-miterlimit:10;\" d=\"M 102.609375 214.558594 L 102.609375 221.761719 \"/>\n",
       "<path style=\"fill:none;stroke-width:1;stroke-linecap:round;stroke-linejoin:round;stroke:rgb(0%,0%,0%);stroke-opacity:1;stroke-miterlimit:10;\" d=\"M 139.554688 214.558594 L 139.554688 221.761719 \"/>\n",
       "<path style=\"fill:none;stroke-width:1;stroke-linecap:round;stroke-linejoin:round;stroke:rgb(0%,0%,0%);stroke-opacity:1;stroke-miterlimit:10;\" d=\"M 176.503906 214.558594 L 176.503906 221.761719 \"/>\n",
       "<path style=\"fill:none;stroke-width:1;stroke-linecap:round;stroke-linejoin:round;stroke:rgb(0%,0%,0%);stroke-opacity:1;stroke-miterlimit:10;\" d=\"M 213.453125 214.558594 L 213.453125 221.761719 \"/>\n",
       "<path style=\"fill:none;stroke-width:1;stroke-linecap:round;stroke-linejoin:round;stroke:rgb(0%,0%,0%);stroke-opacity:1;stroke-miterlimit:10;\" d=\"M 250.398438 214.558594 L 250.398438 221.761719 \"/>\n",
       "<g style=\"fill:rgb(0%,0%,0%);fill-opacity:1;\">\n",
       "  <use xlink:href=\"#glyph0-1\" x=\"62.183594\" y=\"241.921875\"/>\n",
       "</g>\n",
       "<g style=\"fill:rgb(0%,0%,0%);fill-opacity:1;\">\n",
       "  <use xlink:href=\"#glyph0-2\" x=\"92.179688\" y=\"241.921875\"/>\n",
       "  <use xlink:href=\"#glyph0-1\" x=\"99.131592\" y=\"241.921875\"/>\n",
       "  <use xlink:href=\"#glyph0-1\" x=\"106.083496\" y=\"241.921875\"/>\n",
       "</g>\n",
       "<g style=\"fill:rgb(0%,0%,0%);fill-opacity:1;\">\n",
       "  <use xlink:href=\"#glyph0-3\" x=\"125.652344\" y=\"241.921875\"/>\n",
       "  <use xlink:href=\"#glyph0-1\" x=\"132.604248\" y=\"241.921875\"/>\n",
       "  <use xlink:href=\"#glyph0-1\" x=\"139.556152\" y=\"241.921875\"/>\n",
       "  <use xlink:href=\"#glyph0-1\" x=\"146.508057\" y=\"241.921875\"/>\n",
       "</g>\n",
       "<g style=\"fill:rgb(0%,0%,0%);fill-opacity:1;\">\n",
       "  <use xlink:href=\"#glyph0-4\" x=\"199.550781\" y=\"241.921875\"/>\n",
       "  <use xlink:href=\"#glyph0-1\" x=\"206.502686\" y=\"241.921875\"/>\n",
       "  <use xlink:href=\"#glyph0-1\" x=\"213.45459\" y=\"241.921875\"/>\n",
       "  <use xlink:href=\"#glyph0-1\" x=\"220.406494\" y=\"241.921875\"/>\n",
       "</g>\n",
       "<path style=\"fill:none;stroke-width:1;stroke-linecap:round;stroke-linejoin:round;stroke:rgb(0%,0%,0%);stroke-opacity:1;stroke-miterlimit:10;\" d=\"M 59.039062 185.117188 L 59.039062 90.378906 \"/>\n",
       "<path style=\"fill:none;stroke-width:1;stroke-linecap:round;stroke-linejoin:round;stroke:rgb(0%,0%,0%);stroke-opacity:1;stroke-miterlimit:10;\" d=\"M 59.039062 185.117188 L 51.839844 185.117188 \"/>\n",
       "<path style=\"fill:none;stroke-width:1;stroke-linecap:round;stroke-linejoin:round;stroke:rgb(0%,0%,0%);stroke-opacity:1;stroke-miterlimit:10;\" d=\"M 59.039062 137.746094 L 51.839844 137.746094 \"/>\n",
       "<path style=\"fill:none;stroke-width:1;stroke-linecap:round;stroke-linejoin:round;stroke:rgb(0%,0%,0%);stroke-opacity:1;stroke-miterlimit:10;\" d=\"M 59.039062 90.378906 L 51.839844 90.378906 \"/>\n",
       "<g style=\"fill:rgb(0%,0%,0%);fill-opacity:1;\">\n",
       "  <use xlink:href=\"#glyph1-1\" x=\"43.199219\" y=\"197.28125\"/>\n",
       "  <use xlink:href=\"#glyph1-2\" x=\"43.199219\" y=\"190.329346\"/>\n",
       "  <use xlink:href=\"#glyph1-1\" x=\"43.199219\" y=\"186.856445\"/>\n",
       "  <use xlink:href=\"#glyph1-3\" x=\"43.199219\" y=\"179.904541\"/>\n",
       "</g>\n",
       "<g style=\"fill:rgb(0%,0%,0%);fill-opacity:1;\">\n",
       "  <use xlink:href=\"#glyph1-1\" x=\"43.199219\" y=\"149.910156\"/>\n",
       "  <use xlink:href=\"#glyph1-2\" x=\"43.199219\" y=\"142.958252\"/>\n",
       "  <use xlink:href=\"#glyph1-4\" x=\"43.199219\" y=\"139.485352\"/>\n",
       "  <use xlink:href=\"#glyph1-1\" x=\"43.199219\" y=\"132.533447\"/>\n",
       "</g>\n",
       "<g style=\"fill:rgb(0%,0%,0%);fill-opacity:1;\">\n",
       "  <use xlink:href=\"#glyph1-1\" x=\"43.199219\" y=\"102.542969\"/>\n",
       "  <use xlink:href=\"#glyph1-2\" x=\"43.199219\" y=\"95.591064\"/>\n",
       "  <use xlink:href=\"#glyph1-4\" x=\"43.199219\" y=\"92.118164\"/>\n",
       "  <use xlink:href=\"#glyph1-3\" x=\"43.199219\" y=\"85.16626\"/>\n",
       "</g>\n",
       "<path style=\"fill:none;stroke-width:1;stroke-linecap:round;stroke-linejoin:round;stroke:rgb(0%,0%,0%);stroke-opacity:1;stroke-miterlimit:10;\" d=\"M 59.039062 214.558594 L 257.761719 214.558594 L 257.761719 59.039062 L 59.039062 59.039062 L 59.039062 214.558594 \"/>\n",
       "<g style=\"fill:rgb(0%,0%,0%);fill-opacity:1;\">\n",
       "  <use xlink:href=\"#glyph2-1\" x=\"133.332031\" y=\"34.863281\"/>\n",
       "  <use xlink:href=\"#glyph2-2\" x=\"143.274384\" y=\"34.863281\"/>\n",
       "  <use xlink:href=\"#glyph2-3\" x=\"153.216736\" y=\"34.863281\"/>\n",
       "  <use xlink:href=\"#glyph2-4\" x=\"161.921753\" y=\"34.863281\"/>\n",
       "  <use xlink:href=\"#glyph2-5\" x=\"170.211899\" y=\"34.863281\"/>\n",
       "</g>\n",
       "<g style=\"fill:rgb(0%,0%,0%);fill-opacity:1;\">\n",
       "  <use xlink:href=\"#glyph0-5\" x=\"134.773438\" y=\"270.71875\"/>\n",
       "  <use xlink:href=\"#glyph0-6\" x=\"141.725342\" y=\"270.71875\"/>\n",
       "  <use xlink:href=\"#glyph0-7\" x=\"145.198242\" y=\"270.71875\"/>\n",
       "  <use xlink:href=\"#glyph0-8\" x=\"152.150146\" y=\"270.71875\"/>\n",
       "  <use xlink:href=\"#glyph0-6\" x=\"155.623047\" y=\"270.71875\"/>\n",
       "  <use xlink:href=\"#glyph0-9\" x=\"159.095947\" y=\"270.71875\"/>\n",
       "  <use xlink:href=\"#glyph0-7\" x=\"162.568848\" y=\"270.71875\"/>\n",
       "  <use xlink:href=\"#glyph0-10\" x=\"169.520752\" y=\"270.71875\"/>\n",
       "  <use xlink:href=\"#glyph0-10\" x=\"175.770752\" y=\"270.71875\"/>\n",
       "</g>\n",
       "<g style=\"fill:rgb(0%,0%,0%);fill-opacity:1;\">\n",
       "  <use xlink:href=\"#glyph1-5\" x=\"14.398438\" y=\"153.824219\"/>\n",
       "  <use xlink:href=\"#glyph1-6\" x=\"14.398438\" y=\"146.872314\"/>\n",
       "  <use xlink:href=\"#glyph1-7\" x=\"14.398438\" y=\"139.92041\"/>\n",
       "  <use xlink:href=\"#glyph1-8\" x=\"14.398438\" y=\"130.893311\"/>\n",
       "  <use xlink:href=\"#glyph1-9\" x=\"14.398438\" y=\"123.941406\"/>\n",
       "</g>\n",
       "</g>\n",
       "</svg>\n"
      ],
      "text/plain": [
       "Plot with title \"ES=1%\""
      ]
     },
     "metadata": {
      "image/svg+xml": {
       "isolated": true
      }
     },
     "output_type": "display_data"
    }
   ],
   "source": [
    "res = sapply(ntosses,coin.power,prob=.51)\n",
    "names(res) = ntosses\n",
    "plot( ntosses, res , type=\"l\", main=\"ES=1%\",xlab=\"# of toss\", ylab=\"power\")"
   ]
  },
  {
   "cell_type": "markdown",
   "metadata": {},
   "source": [
    "Clearly an effect of 1% is too small to be detected event by tossing the coin a thousand times. If a researcher would run this experiment he would conclude that the coin is fair with a probability of 85%, which we know is not true. \n",
    "\n",
    "**Thus the researcher has a 85% probability of finding drawing the wrong conclusions. It is important to note that even if several independant research groups would repeat this experiment the probability to find the correct conclusion is very small, less than 40%.**"
   ]
  },
  {
   "cell_type": "code",
   "execution_count": 115,
   "metadata": {
    "collapsed": false
   },
   "outputs": [
    {
     "data": {
      "text/html": [
       "0.614125"
      ],
      "text/latex": [
       "0.614125"
      ],
      "text/markdown": [
       "0.614125"
      ],
      "text/plain": [
       "[1] 0.614125"
      ]
     },
     "execution_count": 115,
     "metadata": {},
     "output_type": "execute_result"
    }
   ],
   "source": [
    "0.85^3"
   ]
  },
  {
   "cell_type": "markdown",
   "metadata": {
    "deletable": true,
    "editable": true
   },
   "source": [
    "<mark>Do not say: \"the difference between the two means is not statistically significant\"</mark>\n",
    "\n",
    "<mark>Say: \"the data doesn't allow us to conlude that the population means differ\"</mark>\n",
    "\n",
    "p. 16 of Cohen, J. (1977). Statistical Power Analysis for the Behavioral Sciences (Rev. ed.). New York: Academic Press, Inc."
   ]
  },
  {
   "cell_type": "markdown",
   "metadata": {
    "deletable": true,
    "editable": true
   },
   "source": [
    "## dependance and correlation and orthogonality\n",
    "\n",
    "We should try to explain the difference in results we obtained by scaling the data in this simple example. The main question we want to answer with this example is precisely about the importance of the IVs (temperature, pH, concentration and the intereaction terms). The fact that such a difference, not only in magnitude but also in trends (the ranking of importance is not maintained) call for a more thorough explanation."
   ]
  },
  {
   "cell_type": "markdown",
   "metadata": {
    "deletable": true,
    "editable": true
   },
   "source": [
    "Consider the following function: $y=x^2$"
   ]
  },
  {
   "cell_type": "code",
   "execution_count": 116,
   "metadata": {
    "collapsed": false,
    "deletable": true,
    "editable": true
   },
   "outputs": [
    {
     "data": {
      "text/html": [
       "0.0225041670016442"
      ],
      "text/latex": [
       "0.0225041670016442"
      ],
      "text/markdown": [
       "0.0225041670016442"
      ],
      "text/plain": [
       "[1] 0.02250417"
      ]
     },
     "execution_count": 116,
     "metadata": {},
     "output_type": "execute_result"
    },
    {
     "name": "stderr",
     "output_type": "stream",
     "text": [
      "Warning message:\n",
      "In chisq.test(x, y): Chi-squared approximation may be incorrect"
     ]
    },
    {
     "data": {
      "text/plain": [
       "\n",
       "\tPearson's Chi-squared test\n",
       "\n",
       "data:  x and y\n",
       "X-squared = 39800, df = 39601, p-value = 0.2394\n"
      ]
     },
     "execution_count": 116,
     "metadata": {},
     "output_type": "execute_result"
    },
    {
     "data": {
      "image/png": "[encoded data removed]",
      "image/svg+xml": [
       "<?xml version=\"1.0\" encoding=\"UTF-8\"?>\n",
       "<svg xmlns=\"http://www.w3.org/2000/svg\" xmlns:xlink=\"http://www.w3.org/1999/xlink\" width=\"288pt\" height=\"288pt\" viewBox=\"0 0 288 288\" version=\"1.1\">\n",
       "<defs>\n",
       "<g>\n",
       "<symbol overflow=\"visible\" id=\"glyph0-0\">\n",
       "<path style=\"stroke:none;\" d=\"M 0.40625 0 L 0.40625 -8.96875 L 7.515625 -8.96875 L 7.515625 0 Z M 6.390625 -1.125 L 6.390625 -7.84375 L 1.53125 -7.84375 L 1.53125 -1.125 Z \"/>\n",
       "</symbol>\n",
       "<symbol overflow=\"visible\" id=\"glyph0-1\">\n",
       "<path style=\"stroke:none;\" d=\"M 0.515625 -4.046875 L 3.578125 -4.046875 L 3.578125 -2.921875 L 0.515625 -2.921875 Z \"/>\n",
       "</symbol>\n",
       "<symbol overflow=\"visible\" id=\"glyph0-2\">\n",
       "<path style=\"stroke:none;\" d=\"M 1.203125 -6.1875 L 1.203125 -7.03125 C 1.992188 -7.101562 2.546875 -7.226562 2.859375 -7.40625 C 3.171875 -7.59375 3.40625 -8.023438 3.5625 -8.703125 L 4.421875 -8.703125 L 4.421875 0 L 3.25 0 L 3.25 -6.1875 Z \"/>\n",
       "</symbol>\n",
       "<symbol overflow=\"visible\" id=\"glyph0-3\">\n",
       "<path style=\"stroke:none;\" d=\"M 1.0625 -1.328125 L 2.34375 -1.328125 L 2.34375 0 L 1.0625 0 Z \"/>\n",
       "</symbol>\n",
       "<symbol overflow=\"visible\" id=\"glyph0-4\">\n",
       "<path style=\"stroke:none;\" d=\"M 3.375 -8.734375 C 4.507812 -8.734375 5.328125 -8.269531 5.828125 -7.34375 C 6.222656 -6.625 6.421875 -5.632812 6.421875 -4.375 C 6.421875 -3.1875 6.242188 -2.207031 5.890625 -1.4375 C 5.378906 -0.320312 4.539062 0.234375 3.375 0.234375 C 2.320312 0.234375 1.539062 -0.21875 1.03125 -1.125 C 0.601562 -1.882812 0.390625 -2.90625 0.390625 -4.1875 C 0.390625 -5.1875 0.519531 -6.039062 0.78125 -6.75 C 1.257812 -8.070312 2.125 -8.734375 3.375 -8.734375 Z M 3.375 -0.765625 C 3.9375 -0.765625 4.382812 -1.015625 4.71875 -1.515625 C 5.0625 -2.023438 5.234375 -2.96875 5.234375 -4.34375 C 5.234375 -5.332031 5.109375 -6.144531 4.859375 -6.78125 C 4.617188 -7.425781 4.148438 -7.75 3.453125 -7.75 C 2.804688 -7.75 2.332031 -7.441406 2.03125 -6.828125 C 1.726562 -6.222656 1.578125 -5.332031 1.578125 -4.15625 C 1.578125 -3.257812 1.675781 -2.539062 1.875 -2 C 2.164062 -1.175781 2.664062 -0.765625 3.375 -0.765625 Z \"/>\n",
       "</symbol>\n",
       "<symbol overflow=\"visible\" id=\"glyph0-5\">\n",
       "<path style=\"stroke:none;\" d=\"M 1.546875 -2.234375 C 1.617188 -1.597656 1.910156 -1.160156 2.421875 -0.921875 C 2.679688 -0.804688 2.984375 -0.75 3.328125 -0.75 C 3.972656 -0.75 4.453125 -0.953125 4.765625 -1.359375 C 5.078125 -1.773438 5.234375 -2.238281 5.234375 -2.75 C 5.234375 -3.351562 5.046875 -3.820312 4.671875 -4.15625 C 4.304688 -4.488281 3.863281 -4.65625 3.34375 -4.65625 C 2.957031 -4.65625 2.628906 -4.582031 2.359375 -4.4375 C 2.085938 -4.289062 1.859375 -4.085938 1.671875 -3.828125 L 0.71875 -3.890625 L 1.390625 -8.59375 L 5.921875 -8.59375 L 5.921875 -7.53125 L 2.203125 -7.53125 L 1.84375 -5.109375 C 2.039062 -5.253906 2.234375 -5.367188 2.421875 -5.453125 C 2.742188 -5.585938 3.117188 -5.65625 3.546875 -5.65625 C 4.347656 -5.65625 5.023438 -5.394531 5.578125 -4.875 C 6.140625 -4.363281 6.421875 -3.707031 6.421875 -2.90625 C 6.421875 -2.082031 6.164062 -1.351562 5.65625 -0.71875 C 5.144531 -0.09375 4.328125 0.21875 3.203125 0.21875 C 2.492188 0.21875 1.863281 0.0195312 1.3125 -0.375 C 0.769531 -0.78125 0.46875 -1.398438 0.40625 -2.234375 Z \"/>\n",
       "</symbol>\n",
       "<symbol overflow=\"visible\" id=\"glyph0-6\">\n",
       "<path style=\"stroke:none;\" d=\"M 0.1875 -6.53125 L 1.609375 -6.53125 L 3.109375 -4.234375 L 4.625 -6.53125 L 5.96875 -6.5 L 3.765625 -3.34375 L 6.0625 0 L 4.65625 0 L 3.03125 -2.453125 L 1.453125 0 L 0.0625 0 L 2.375 -3.34375 Z \"/>\n",
       "</symbol>\n",
       "<symbol overflow=\"visible\" id=\"glyph1-0\">\n",
       "<path style=\"stroke:none;\" d=\"M 0 -0.40625 L -8.96875 -0.40625 L -8.96875 -7.515625 L 0 -7.515625 Z M -1.125 -6.390625 L -7.84375 -6.390625 L -7.84375 -1.53125 L -1.125 -1.53125 Z \"/>\n",
       "</symbol>\n",
       "<symbol overflow=\"visible\" id=\"glyph1-1\">\n",
       "<path style=\"stroke:none;\" d=\"M -8.734375 -3.375 C -8.734375 -4.507812 -8.269531 -5.328125 -7.34375 -5.828125 C -6.625 -6.222656 -5.632812 -6.421875 -4.375 -6.421875 C -3.1875 -6.421875 -2.207031 -6.242188 -1.4375 -5.890625 C -0.320312 -5.378906 0.234375 -4.539062 0.234375 -3.375 C 0.234375 -2.320312 -0.21875 -1.539062 -1.125 -1.03125 C -1.882812 -0.601562 -2.90625 -0.390625 -4.1875 -0.390625 C -5.1875 -0.390625 -6.039062 -0.519531 -6.75 -0.78125 C -8.070312 -1.257812 -8.734375 -2.125 -8.734375 -3.375 Z M -0.765625 -3.375 C -0.765625 -3.9375 -1.015625 -4.382812 -1.515625 -4.71875 C -2.023438 -5.0625 -2.96875 -5.234375 -4.34375 -5.234375 C -5.332031 -5.234375 -6.144531 -5.109375 -6.78125 -4.859375 C -7.425781 -4.617188 -7.75 -4.148438 -7.75 -3.453125 C -7.75 -2.804688 -7.441406 -2.332031 -6.828125 -2.03125 C -6.222656 -1.726562 -5.332031 -1.578125 -4.15625 -1.578125 C -3.257812 -1.578125 -2.539062 -1.675781 -2 -1.875 C -1.175781 -2.164062 -0.765625 -2.664062 -0.765625 -3.375 Z \"/>\n",
       "</symbol>\n",
       "<symbol overflow=\"visible\" id=\"glyph1-2\">\n",
       "<path style=\"stroke:none;\" d=\"M -1.328125 -1.0625 L -1.328125 -2.34375 L 0 -2.34375 L 0 -1.0625 Z \"/>\n",
       "</symbol>\n",
       "<symbol overflow=\"visible\" id=\"glyph1-3\">\n",
       "<path style=\"stroke:none;\" d=\"M 0 -0.390625 C -0.75 -0.429688 -1.398438 -0.585938 -1.953125 -0.859375 C -2.515625 -1.128906 -3.023438 -1.65625 -3.484375 -2.4375 L -4.15625 -3.609375 C -4.46875 -4.140625 -4.726562 -4.507812 -4.9375 -4.71875 C -5.28125 -5.050781 -5.671875 -5.21875 -6.109375 -5.21875 C -6.609375 -5.21875 -7.007812 -5.0625 -7.3125 -4.75 C -7.613281 -4.445312 -7.765625 -4.046875 -7.765625 -3.546875 C -7.765625 -2.785156 -7.476562 -2.265625 -6.90625 -1.984375 C -6.601562 -1.828125 -6.179688 -1.738281 -5.640625 -1.71875 L -5.640625 -0.609375 C -6.398438 -0.617188 -7.019531 -0.757812 -7.5 -1.03125 C -8.34375 -1.5 -8.765625 -2.335938 -8.765625 -3.546875 C -8.765625 -4.546875 -8.492188 -5.273438 -7.953125 -5.734375 C -7.410156 -6.203125 -6.8125 -6.4375 -6.15625 -6.4375 C -5.457031 -6.4375 -4.859375 -6.1875 -4.359375 -5.6875 C -4.066406 -5.40625 -3.71875 -4.894531 -3.3125 -4.15625 L -2.84375 -3.328125 C -2.625 -2.929688 -2.414062 -2.617188 -2.21875 -2.390625 C -1.863281 -1.984375 -1.46875 -1.726562 -1.03125 -1.625 L -1.03125 -6.390625 L 0 -6.390625 Z \"/>\n",
       "</symbol>\n",
       "<symbol overflow=\"visible\" id=\"glyph1-4\">\n",
       "<path style=\"stroke:none;\" d=\"M -3.09375 -4.125 L -7.0625 -4.125 L -3.09375 -1.328125 Z M 0 -4.15625 L -2.140625 -4.15625 L -2.140625 -0.3125 L -3.203125 -0.3125 L -8.765625 -4.328125 L -8.765625 -5.25 L -3.09375 -5.25 L -3.09375 -6.53125 L -2.140625 -6.53125 L -2.140625 -5.25 L 0 -5.25 Z \"/>\n",
       "</symbol>\n",
       "<symbol overflow=\"visible\" id=\"glyph1-5\">\n",
       "<path style=\"stroke:none;\" d=\"M -8.78125 -3.65625 C -8.78125 -4.632812 -8.523438 -5.316406 -8.015625 -5.703125 C -7.503906 -6.085938 -6.984375 -6.28125 -6.453125 -6.28125 L -6.453125 -5.1875 C -6.796875 -5.125 -7.066406 -5.019531 -7.265625 -4.875 C -7.628906 -4.613281 -7.8125 -4.210938 -7.8125 -3.671875 C -7.8125 -3.054688 -7.523438 -2.566406 -6.953125 -2.203125 C -6.390625 -1.847656 -5.578125 -1.648438 -4.515625 -1.609375 C -4.890625 -1.859375 -5.171875 -2.175781 -5.359375 -2.5625 C -5.515625 -2.90625 -5.59375 -3.296875 -5.59375 -3.734375 C -5.59375 -4.460938 -5.359375 -5.097656 -4.890625 -5.640625 C -4.421875 -6.191406 -3.722656 -6.46875 -2.796875 -6.46875 C -2.003906 -6.46875 -1.300781 -6.207031 -0.6875 -5.6875 C -0.0820312 -5.164062 0.21875 -4.429688 0.21875 -3.484375 C 0.21875 -2.660156 -0.0859375 -1.953125 -0.703125 -1.359375 C -1.328125 -0.765625 -2.375 -0.46875 -3.84375 -0.46875 C -4.925781 -0.46875 -5.847656 -0.597656 -6.609375 -0.859375 C -8.054688 -1.367188 -8.78125 -2.300781 -8.78125 -3.65625 Z M -0.75 -3.578125 C -0.75 -4.148438 -0.941406 -4.578125 -1.328125 -4.859375 C -1.722656 -5.148438 -2.179688 -5.296875 -2.703125 -5.296875 C -3.148438 -5.296875 -3.578125 -5.164062 -3.984375 -4.90625 C -4.390625 -4.65625 -4.59375 -4.191406 -4.59375 -3.515625 C -4.59375 -3.046875 -4.4375 -2.632812 -4.125 -2.28125 C -3.8125 -1.925781 -3.335938 -1.75 -2.703125 -1.75 C -2.148438 -1.75 -1.6875 -1.910156 -1.3125 -2.234375 C -0.9375 -2.554688 -0.75 -3.003906 -0.75 -3.578125 Z \"/>\n",
       "</symbol>\n",
       "<symbol overflow=\"visible\" id=\"glyph1-6\">\n",
       "<path style=\"stroke:none;\" d=\"M -5.078125 -3.40625 C -5.078125 -3.882812 -5.210938 -4.257812 -5.484375 -4.53125 C -5.753906 -4.800781 -6.078125 -4.9375 -6.453125 -4.9375 C -6.773438 -4.9375 -7.070312 -4.804688 -7.34375 -4.546875 C -7.613281 -4.285156 -7.75 -3.890625 -7.75 -3.359375 C -7.75 -2.828125 -7.613281 -2.441406 -7.34375 -2.203125 C -7.070312 -1.972656 -6.753906 -1.859375 -6.390625 -1.859375 C -5.984375 -1.859375 -5.660156 -2.007812 -5.421875 -2.3125 C -5.191406 -2.625 -5.078125 -2.988281 -5.078125 -3.40625 Z M -0.75 -3.46875 C -0.75 -3.976562 -0.882812 -4.398438 -1.15625 -4.734375 C -1.4375 -5.066406 -1.847656 -5.234375 -2.390625 -5.234375 C -2.953125 -5.234375 -3.378906 -5.0625 -3.671875 -4.71875 C -3.972656 -4.375 -4.125 -3.929688 -4.125 -3.390625 C -4.125 -2.859375 -3.972656 -2.425781 -3.671875 -2.09375 C -3.367188 -1.769531 -2.953125 -1.609375 -2.421875 -1.609375 C -1.972656 -1.609375 -1.582031 -1.757812 -1.25 -2.0625 C -0.914062 -2.363281 -0.75 -2.832031 -0.75 -3.46875 Z M -4.65625 -1.90625 C -4.789062 -1.601562 -4.941406 -1.363281 -5.109375 -1.1875 C -5.441406 -0.863281 -5.867188 -0.703125 -6.390625 -0.703125 C -7.035156 -0.703125 -7.59375 -0.9375 -8.0625 -1.40625 C -8.53125 -1.882812 -8.765625 -2.554688 -8.765625 -3.421875 C -8.765625 -4.265625 -8.539062 -4.921875 -8.09375 -5.390625 C -7.65625 -5.867188 -7.144531 -6.109375 -6.5625 -6.109375 C -6.007812 -6.109375 -5.566406 -5.96875 -5.234375 -5.6875 C -5.035156 -5.539062 -4.847656 -5.300781 -4.671875 -4.96875 C -4.503906 -5.332031 -4.3125 -5.617188 -4.09375 -5.828125 C -3.6875 -6.210938 -3.160156 -6.40625 -2.515625 -6.40625 C -1.742188 -6.40625 -1.085938 -6.144531 -0.546875 -5.625 C -0.015625 -5.113281 0.25 -4.382812 0.25 -3.4375 C 0.25 -2.59375 0.0195312 -1.875 -0.4375 -1.28125 C -0.90625 -0.695312 -1.578125 -0.40625 -2.453125 -0.40625 C -2.972656 -0.40625 -3.421875 -0.53125 -3.796875 -0.78125 C -4.171875 -1.03125 -4.457031 -1.40625 -4.65625 -1.90625 Z \"/>\n",
       "</symbol>\n",
       "<symbol overflow=\"visible\" id=\"glyph1-7\">\n",
       "<path style=\"stroke:none;\" d=\"M -6.1875 -1.203125 L -7.03125 -1.203125 C -7.101562 -1.992188 -7.226562 -2.546875 -7.40625 -2.859375 C -7.59375 -3.171875 -8.023438 -3.40625 -8.703125 -3.5625 L -8.703125 -4.421875 L 0 -4.421875 L 0 -3.25 L -6.1875 -3.25 Z \"/>\n",
       "</symbol>\n",
       "<symbol overflow=\"visible\" id=\"glyph1-8\">\n",
       "<path style=\"stroke:none;\" d=\"M -6.53125 -4.890625 L -6.53125 -6.109375 C -6.113281 -5.953125 -5.160156 -5.609375 -3.671875 -5.078125 C -2.546875 -4.671875 -1.628906 -4.335938 -0.921875 -4.078125 C 0.742188 -3.441406 1.757812 -2.992188 2.125 -2.734375 C 2.488281 -2.472656 2.671875 -2.023438 2.671875 -1.390625 C 2.671875 -1.234375 2.664062 -1.113281 2.65625 -1.03125 C 2.644531 -0.945312 2.625 -0.84375 2.59375 -0.71875 L 1.59375 -0.71875 C 1.644531 -0.90625 1.675781 -1.039062 1.6875 -1.125 C 1.695312 -1.21875 1.703125 -1.296875 1.703125 -1.359375 C 1.703125 -1.566406 1.664062 -1.71875 1.59375 -1.8125 C 1.53125 -1.90625 1.453125 -1.984375 1.359375 -2.046875 C 1.328125 -2.066406 1.160156 -2.140625 0.859375 -2.265625 C 0.554688 -2.390625 0.332031 -2.484375 0.1875 -2.546875 L -6.53125 -0.125 L -6.53125 -1.375 L -1.21875 -3.125 Z M -6.703125 -3.125 Z \"/>\n",
       "</symbol>\n",
       "</g>\n",
       "</defs>\n",
       "<g id=\"surface987\">\n",
       "<rect x=\"0\" y=\"0\" width=\"288\" height=\"288\" style=\"fill:rgb(100%,100%,100%);fill-opacity:1;stroke:none;\"/>\n",
       "<path style=\" stroke:none;fill-rule:nonzero;fill:rgb(0%,0%,0%);fill-opacity:1;\" d=\"M 74.980469 81.144531 C 74.980469 85.410156 68.582031 85.410156 68.582031 81.144531 C 68.582031 76.878906 74.980469 76.878906 74.980469 81.144531 \"/>\n",
       "<path style=\" stroke:none;fill-rule:nonzero;fill:rgb(0%,0%,0%);fill-opacity:1;\" d=\"M 91.988281 126.335938 C 91.988281 130.601562 85.589844 130.601562 85.589844 126.335938 C 85.589844 122.070312 91.988281 122.070312 91.988281 126.335938 \"/>\n",
       "<path style=\" stroke:none;fill-rule:nonzero;fill:rgb(0%,0%,0%);fill-opacity:1;\" d=\"M 184.179688 200.171875 C 184.179688 204.4375 177.777344 204.4375 177.777344 200.171875 C 177.777344 195.90625 184.179688 195.90625 184.179688 200.171875 \"/>\n",
       "<path style=\" stroke:none;fill-rule:nonzero;fill:rgb(0%,0%,0%);fill-opacity:1;\" d=\"M 125.925781 187.121094 C 125.925781 191.386719 119.523438 191.386719 119.523438 187.121094 C 119.523438 182.851562 125.925781 182.851562 125.925781 187.121094 \"/>\n",
       "<path style=\" stroke:none;fill-rule:nonzero;fill:rgb(0%,0%,0%);fill-opacity:1;\" d=\"M 111.941406 166.816406 C 111.941406 171.082031 105.542969 171.082031 105.542969 166.816406 C 105.542969 162.546875 111.941406 162.546875 111.941406 166.816406 \"/>\n",
       "<path style=\" stroke:none;fill-rule:nonzero;fill:rgb(0%,0%,0%);fill-opacity:1;\" d=\"M 223.140625 144.519531 C 223.140625 148.785156 216.742188 148.785156 216.742188 144.519531 C 216.742188 140.25 223.140625 140.25 223.140625 144.519531 \"/>\n",
       "<path style=\" stroke:none;fill-rule:nonzero;fill:rgb(0%,0%,0%);fill-opacity:1;\" d=\"M 127.367188 188.835938 C 127.367188 193.101562 120.96875 193.101562 120.96875 188.835938 C 120.96875 184.570312 127.367188 184.570312 127.367188 188.835938 \"/>\n",
       "<path style=\" stroke:none;fill-rule:nonzero;fill:rgb(0%,0%,0%);fill-opacity:1;\" d=\"M 163.957031 208.714844 C 163.957031 212.980469 157.558594 212.980469 157.558594 208.714844 C 157.558594 204.445312 163.957031 204.445312 163.957031 208.714844 \"/>\n",
       "<path style=\" stroke:none;fill-rule:nonzero;fill:rgb(0%,0%,0%);fill-opacity:1;\" d=\"M 204.605469 177.429688 C 204.605469 181.699219 198.203125 181.699219 198.203125 177.429688 C 198.203125 173.164062 204.605469 173.164062 204.605469 177.429688 \"/>\n",
       "<path style=\" stroke:none;fill-rule:nonzero;fill:rgb(0%,0%,0%);fill-opacity:1;\" d=\"M 105.164062 154.582031 C 105.164062 158.847656 98.761719 158.847656 98.761719 154.582031 C 98.761719 150.316406 105.164062 150.316406 105.164062 154.582031 \"/>\n",
       "<path style=\" stroke:none;fill-rule:nonzero;fill:rgb(0%,0%,0%);fill-opacity:1;\" d=\"M 200.433594 183.226562 C 200.433594 187.496094 194.03125 187.496094 194.03125 183.226562 C 194.03125 178.960938 200.433594 178.960938 200.433594 183.226562 \"/>\n",
       "<path style=\" stroke:none;fill-rule:nonzero;fill:rgb(0%,0%,0%);fill-opacity:1;\" d=\"M 168.832031 207.925781 C 168.832031 212.191406 162.433594 212.191406 162.433594 207.925781 C 162.433594 203.660156 168.832031 203.660156 168.832031 207.925781 \"/>\n",
       "<path style=\" stroke:none;fill-rule:nonzero;fill:rgb(0%,0%,0%);fill-opacity:1;\" d=\"M 88.523438 117.921875 C 88.523438 122.1875 82.121094 122.1875 82.121094 117.921875 C 82.121094 113.65625 88.523438 113.65625 88.523438 117.921875 \"/>\n",
       "<path style=\" stroke:none;fill-rule:nonzero;fill:rgb(0%,0%,0%);fill-opacity:1;\" d=\"M 139.246094 200.277344 C 139.246094 204.546875 132.847656 204.546875 132.847656 200.277344 C 132.847656 196.011719 139.246094 196.011719 139.246094 200.277344 \"/>\n",
       "<path style=\" stroke:none;fill-rule:nonzero;fill:rgb(0%,0%,0%);fill-opacity:1;\" d=\"M 212.691406 164.507812 C 212.691406 168.773438 206.292969 168.773438 206.292969 164.507812 C 206.292969 160.242188 212.691406 160.242188 212.691406 164.507812 \"/>\n",
       "<path style=\" stroke:none;fill-rule:nonzero;fill:rgb(0%,0%,0%);fill-opacity:1;\" d=\"M 200.730469 182.832031 C 200.730469 187.097656 194.332031 187.097656 194.332031 182.832031 C 194.332031 178.566406 200.730469 178.566406 200.730469 182.832031 \"/>\n",
       "<path style=\" stroke:none;fill-rule:nonzero;fill:rgb(0%,0%,0%);fill-opacity:1;\" d=\"M 236.996094 112.289062 C 236.996094 116.554688 230.597656 116.554688 230.597656 112.289062 C 230.597656 108.019531 236.996094 108.019531 236.996094 112.289062 \"/>\n",
       "<path style=\" stroke:none;fill-rule:nonzero;fill:rgb(0%,0%,0%);fill-opacity:1;\" d=\"M 86.726562 113.40625 C 86.726562 117.675781 80.328125 117.675781 80.328125 113.40625 C 80.328125 109.140625 86.726562 109.140625 86.726562 113.40625 \"/>\n",
       "<path style=\" stroke:none;fill-rule:nonzero;fill:rgb(0%,0%,0%);fill-opacity:1;\" d=\"M 119.644531 178.824219 C 119.644531 183.089844 113.246094 183.089844 113.246094 178.824219 C 113.246094 174.554688 119.644531 174.554688 119.644531 178.824219 \"/>\n",
       "<path style=\" stroke:none;fill-rule:nonzero;fill:rgb(0%,0%,0%);fill-opacity:1;\" d=\"M 216.4375 157.769531 C 216.4375 162.035156 210.039062 162.035156 210.039062 157.769531 C 210.039062 153.503906 216.4375 153.503906 216.4375 157.769531 \"/>\n",
       "<path style=\" stroke:none;fill-rule:nonzero;fill:rgb(0%,0%,0%);fill-opacity:1;\" d=\"M 102.121094 148.582031 C 102.121094 152.847656 95.71875 152.847656 95.71875 148.582031 C 95.71875 144.3125 102.121094 144.3125 102.121094 148.582031 \"/>\n",
       "<path style=\" stroke:none;fill-rule:nonzero;fill:rgb(0%,0%,0%);fill-opacity:1;\" d=\"M 202.878906 179.898438 C 202.878906 184.164062 196.480469 184.164062 196.480469 179.898438 C 196.480469 175.632812 202.878906 175.632812 202.878906 179.898438 \"/>\n",
       "<path style=\" stroke:none;fill-rule:nonzero;fill:rgb(0%,0%,0%);fill-opacity:1;\" d=\"M 174.355469 206.058594 C 174.355469 210.324219 167.957031 210.324219 167.957031 206.058594 C 167.957031 201.789062 174.355469 201.789062 174.355469 206.058594 \"/>\n",
       "<path style=\" stroke:none;fill-rule:nonzero;fill:rgb(0%,0%,0%);fill-opacity:1;\" d=\"M 111.84375 166.648438 C 111.84375 170.914062 105.441406 170.914062 105.441406 166.648438 C 105.441406 162.382812 111.84375 162.382812 111.84375 166.648438 \"/>\n",
       "<path style=\" stroke:none;fill-rule:nonzero;fill:rgb(0%,0%,0%);fill-opacity:1;\" d=\"M 153.601562 207.707031 C 153.601562 211.972656 147.203125 211.972656 147.203125 207.707031 C 147.203125 203.4375 153.601562 203.4375 153.601562 207.707031 \"/>\n",
       "<path style=\" stroke:none;fill-rule:nonzero;fill:rgb(0%,0%,0%);fill-opacity:1;\" d=\"M 173.664062 206.347656 C 173.664062 210.613281 167.265625 210.613281 167.265625 206.347656 C 167.265625 202.082031 173.664062 202.082031 173.664062 206.347656 \"/>\n",
       "<path style=\" stroke:none;fill-rule:nonzero;fill:rgb(0%,0%,0%);fill-opacity:1;\" d=\"M 170.992188 207.320312 C 170.992188 211.585938 164.589844 211.585938 164.589844 207.320312 C 164.589844 203.050781 170.992188 203.050781 170.992188 207.320312 \"/>\n",
       "<path style=\" stroke:none;fill-rule:nonzero;fill:rgb(0%,0%,0%);fill-opacity:1;\" d=\"M 119.714844 178.921875 C 119.714844 183.1875 113.3125 183.1875 113.3125 178.921875 C 113.3125 174.65625 119.714844 174.65625 119.714844 178.921875 \"/>\n",
       "<path style=\" stroke:none;fill-rule:nonzero;fill:rgb(0%,0%,0%);fill-opacity:1;\" d=\"M 130.34375 192.152344 C 130.34375 196.417969 123.941406 196.417969 123.941406 192.152344 C 123.941406 187.882812 130.34375 187.882812 130.34375 192.152344 \"/>\n",
       "<path style=\" stroke:none;fill-rule:nonzero;fill:rgb(0%,0%,0%);fill-opacity:1;\" d=\"M 172.726562 206.714844 C 172.726562 210.984375 166.328125 210.984375 166.328125 206.714844 C 166.328125 202.449219 172.726562 202.449219 172.726562 206.714844 \"/>\n",
       "<path style=\" stroke:none;fill-rule:nonzero;fill:rgb(0%,0%,0%);fill-opacity:1;\" d=\"M 211.859375 165.9375 C 211.859375 170.203125 205.460938 170.203125 205.460938 165.9375 C 205.460938 161.671875 211.859375 161.671875 211.859375 165.9375 \"/>\n",
       "<path style=\" stroke:none;fill-rule:nonzero;fill:rgb(0%,0%,0%);fill-opacity:1;\" d=\"M 212.90625 164.132812 C 212.90625 168.398438 206.507812 168.398438 206.507812 164.132812 C 206.507812 159.867188 212.90625 159.867188 212.90625 164.132812 \"/>\n",
       "<path style=\" stroke:none;fill-rule:nonzero;fill:rgb(0%,0%,0%);fill-opacity:1;\" d=\"M 151.082031 206.910156 C 151.082031 211.175781 144.683594 211.175781 144.683594 206.910156 C 144.683594 202.640625 151.082031 202.640625 151.082031 206.910156 \"/>\n",
       "<path style=\" stroke:none;fill-rule:nonzero;fill:rgb(0%,0%,0%);fill-opacity:1;\" d=\"M 200.5625 183.058594 C 200.5625 187.324219 194.160156 187.324219 194.160156 183.058594 C 194.160156 178.789062 200.5625 178.789062 200.5625 183.058594 \"/>\n",
       "<path style=\" stroke:none;fill-rule:nonzero;fill:rgb(0%,0%,0%);fill-opacity:1;\" d=\"M 161.046875 208.796875 C 161.046875 213.066406 154.648438 213.066406 154.648438 208.796875 C 154.648438 204.53125 161.046875 204.53125 161.046875 208.796875 \"/>\n",
       "<path style=\" stroke:none;fill-rule:nonzero;fill:rgb(0%,0%,0%);fill-opacity:1;\" d=\"M 92.636719 127.863281 C 92.636719 132.128906 86.238281 132.128906 86.238281 127.863281 C 86.238281 123.597656 92.636719 123.597656 92.636719 127.863281 \"/>\n",
       "<path style=\" stroke:none;fill-rule:nonzero;fill:rgb(0%,0%,0%);fill-opacity:1;\" d=\"M 108.851562 161.433594 C 108.851562 165.699219 102.453125 165.699219 102.453125 161.433594 C 102.453125 157.164062 108.851562 157.164062 108.851562 161.433594 \"/>\n",
       "<path style=\" stroke:none;fill-rule:nonzero;fill:rgb(0%,0%,0%);fill-opacity:1;\" d=\"M 82.757812 103.035156 C 82.757812 107.300781 76.359375 107.300781 76.359375 103.035156 C 76.359375 98.765625 82.757812 98.765625 82.757812 103.035156 \"/>\n",
       "<path style=\" stroke:none;fill-rule:nonzero;fill:rgb(0%,0%,0%);fill-opacity:1;\" d=\"M 91.933594 126.203125 C 91.933594 130.46875 85.53125 130.46875 85.53125 126.203125 C 85.53125 121.9375 91.933594 121.9375 91.933594 126.203125 \"/>\n",
       "<path style=\" stroke:none;fill-rule:nonzero;fill:rgb(0%,0%,0%);fill-opacity:1;\" d=\"M 176.054688 205.273438 C 176.054688 209.539062 169.652344 209.539062 169.652344 205.273438 C 169.652344 201.007812 176.054688 201.007812 176.054688 205.273438 \"/>\n",
       "<path style=\" stroke:none;fill-rule:nonzero;fill:rgb(0%,0%,0%);fill-opacity:1;\" d=\"M 136.457031 198.023438 C 136.457031 202.289062 130.058594 202.289062 130.058594 198.023438 C 130.058594 193.757812 136.457031 193.757812 136.457031 198.023438 \"/>\n",
       "<path style=\" stroke:none;fill-rule:nonzero;fill:rgb(0%,0%,0%);fill-opacity:1;\" d=\"M 114.175781 170.507812 C 114.175781 174.773438 107.777344 174.773438 107.777344 170.507812 C 107.777344 166.238281 114.175781 166.238281 114.175781 170.507812 \"/>\n",
       "<path style=\" stroke:none;fill-rule:nonzero;fill:rgb(0%,0%,0%);fill-opacity:1;\" d=\"M 203.945312 178.382812 C 203.945312 182.652344 197.546875 182.652344 197.546875 178.382812 C 197.546875 174.117188 203.945312 174.117188 203.945312 178.382812 \"/>\n",
       "<path style=\" stroke:none;fill-rule:nonzero;fill:rgb(0%,0%,0%);fill-opacity:1;\" d=\"M 174.199219 206.125 C 174.199219 210.390625 167.800781 210.390625 167.800781 206.125 C 167.800781 201.859375 174.199219 201.859375 174.199219 206.125 \"/>\n",
       "<path style=\" stroke:none;fill-rule:nonzero;fill:rgb(0%,0%,0%);fill-opacity:1;\" d=\"M 241.585938 100.171875 C 241.585938 104.441406 235.1875 104.441406 235.1875 100.171875 C 235.1875 95.90625 241.585938 95.90625 241.585938 100.171875 \"/>\n",
       "<path style=\" stroke:none;fill-rule:nonzero;fill:rgb(0%,0%,0%);fill-opacity:1;\" d=\"M 148.105469 205.691406 C 148.105469 209.957031 141.707031 209.957031 141.707031 205.691406 C 141.707031 201.421875 148.105469 201.421875 148.105469 205.691406 \"/>\n",
       "<path style=\" stroke:none;fill-rule:nonzero;fill:rgb(0%,0%,0%);fill-opacity:1;\" d=\"M 151.796875 207.15625 C 151.796875 211.421875 145.398438 211.421875 145.398438 207.15625 C 145.398438 202.890625 151.796875 202.890625 151.796875 207.15625 \"/>\n",
       "<path style=\" stroke:none;fill-rule:nonzero;fill:rgb(0%,0%,0%);fill-opacity:1;\" d=\"M 185.3125 199.28125 C 185.3125 203.550781 178.910156 203.550781 178.910156 199.28125 C 178.910156 195.015625 185.3125 195.015625 185.3125 199.28125 \"/>\n",
       "<path style=\" stroke:none;fill-rule:nonzero;fill:rgb(0%,0%,0%);fill-opacity:1;\" d=\"M 221.8125 147.261719 C 221.8125 151.527344 215.414062 151.527344 215.414062 147.261719 C 215.414062 142.996094 221.8125 142.996094 221.8125 147.261719 \"/>\n",
       "<path style=\" stroke:none;fill-rule:nonzero;fill:rgb(0%,0%,0%);fill-opacity:1;\" d=\"M 139.707031 200.625 C 139.707031 204.890625 133.308594 204.890625 133.308594 200.625 C 133.308594 196.359375 139.707031 196.359375 139.707031 200.625 \"/>\n",
       "<path style=\" stroke:none;fill-rule:nonzero;fill:rgb(0%,0%,0%);fill-opacity:1;\" d=\"M 159.746094 208.742188 C 159.746094 213.011719 153.34375 213.011719 153.34375 208.742188 C 153.34375 204.476562 159.746094 204.476562 159.746094 208.742188 \"/>\n",
       "<path style=\" stroke:none;fill-rule:nonzero;fill:rgb(0%,0%,0%);fill-opacity:1;\" d=\"M 83.421875 104.800781 C 83.421875 109.066406 77.019531 109.066406 77.019531 104.800781 C 77.019531 100.53125 83.421875 100.53125 83.421875 104.800781 \"/>\n",
       "<path style=\" stroke:none;fill-rule:nonzero;fill:rgb(0%,0%,0%);fill-opacity:1;\" d=\"M 123.839844 184.511719 C 123.839844 188.777344 117.4375 188.777344 117.4375 184.511719 C 117.4375 180.246094 123.839844 180.246094 123.839844 184.511719 \"/>\n",
       "<path style=\" stroke:none;fill-rule:nonzero;fill:rgb(0%,0%,0%);fill-opacity:1;\" d=\"M 184.746094 199.730469 C 184.746094 204 178.347656 204 178.347656 199.730469 C 178.347656 195.464844 184.746094 195.464844 184.746094 199.730469 \"/>\n",
       "<path style=\" stroke:none;fill-rule:nonzero;fill:rgb(0%,0%,0%);fill-opacity:1;\" d=\"M 132.65625 194.523438 C 132.65625 198.792969 126.257812 198.792969 126.257812 194.523438 C 126.257812 190.257812 132.65625 190.257812 132.65625 194.523438 \"/>\n",
       "<path style=\" stroke:none;fill-rule:nonzero;fill:rgb(0%,0%,0%);fill-opacity:1;\" d=\"M 136.015625 197.640625 C 136.015625 201.90625 129.617188 201.90625 129.617188 197.640625 C 129.617188 193.375 136.015625 193.375 136.015625 197.640625 \"/>\n",
       "<path style=\" stroke:none;fill-rule:nonzero;fill:rgb(0%,0%,0%);fill-opacity:1;\" d=\"M 140.394531 201.128906 C 140.394531 205.394531 133.992188 205.394531 133.992188 201.128906 C 133.992188 196.863281 140.394531 196.863281 140.394531 201.128906 \"/>\n",
       "<path style=\" stroke:none;fill-rule:nonzero;fill:rgb(0%,0%,0%);fill-opacity:1;\" d=\"M 75.457031 82.542969 C 75.457031 86.8125 69.058594 86.8125 69.058594 82.542969 C 69.058594 78.277344 75.457031 78.277344 75.457031 82.542969 \"/>\n",
       "<path style=\" stroke:none;fill-rule:nonzero;fill:rgb(0%,0%,0%);fill-opacity:1;\" d=\"M 248.207031 81.4375 C 248.207031 85.703125 241.804688 85.703125 241.804688 81.4375 C 241.804688 77.171875 248.207031 77.171875 248.207031 81.4375 \"/>\n",
       "<path style=\" stroke:none;fill-rule:nonzero;fill:rgb(0%,0%,0%);fill-opacity:1;\" d=\"M 123.902344 184.59375 C 123.902344 188.863281 117.503906 188.863281 117.503906 184.59375 C 117.503906 180.328125 123.902344 180.328125 123.902344 184.59375 \"/>\n",
       "<path style=\" stroke:none;fill-rule:nonzero;fill:rgb(0%,0%,0%);fill-opacity:1;\" d=\"M 116.679688 174.4375 C 116.679688 178.707031 110.277344 178.707031 110.277344 174.4375 C 110.277344 170.171875 116.679688 170.171875 116.679688 174.4375 \"/>\n",
       "<path style=\" stroke:none;fill-rule:nonzero;fill:rgb(0%,0%,0%);fill-opacity:1;\" d=\"M 234.417969 118.78125 C 234.417969 123.046875 228.015625 123.046875 228.015625 118.78125 C 228.015625 114.515625 234.417969 114.515625 234.417969 118.78125 \"/>\n",
       "<path style=\" stroke:none;fill-rule:nonzero;fill:rgb(0%,0%,0%);fill-opacity:1;\" d=\"M 183.261719 200.859375 C 183.261719 205.125 176.863281 205.125 176.863281 200.859375 C 176.863281 196.59375 183.261719 196.59375 183.261719 200.859375 \"/>\n",
       "<path style=\" stroke:none;fill-rule:nonzero;fill:rgb(0%,0%,0%);fill-opacity:1;\" d=\"M 187.558594 197.386719 C 187.558594 201.65625 181.160156 201.65625 181.160156 197.386719 C 181.160156 193.121094 187.558594 193.121094 187.558594 197.386719 \"/>\n",
       "<path style=\" stroke:none;fill-rule:nonzero;fill:rgb(0%,0%,0%);fill-opacity:1;\" d=\"M 195.554688 189.253906 C 195.554688 193.519531 189.15625 193.519531 189.15625 189.253906 C 189.15625 184.988281 195.554688 184.988281 195.554688 189.253906 \"/>\n",
       "<path style=\" stroke:none;fill-rule:nonzero;fill:rgb(0%,0%,0%);fill-opacity:1;\" d=\"M 203.980469 178.339844 C 203.980469 182.605469 197.578125 182.605469 197.578125 178.339844 C 197.578125 174.070312 203.980469 174.070312 203.980469 178.339844 \"/>\n",
       "<path style=\" stroke:none;fill-rule:nonzero;fill:rgb(0%,0%,0%);fill-opacity:1;\" d=\"M 150.808594 206.808594 C 150.808594 211.074219 144.410156 211.074219 144.410156 206.808594 C 144.410156 202.542969 150.808594 202.542969 150.808594 206.808594 \"/>\n",
       "<path style=\" stroke:none;fill-rule:nonzero;fill:rgb(0%,0%,0%);fill-opacity:1;\" d=\"M 187.644531 197.3125 C 187.644531 201.578125 181.242188 201.578125 181.242188 197.3125 C 181.242188 193.046875 187.644531 193.046875 187.644531 197.3125 \"/>\n",
       "<path style=\" stroke:none;fill-rule:nonzero;fill:rgb(0%,0%,0%);fill-opacity:1;\" d=\"M 205.785156 175.683594 C 205.785156 179.953125 199.382812 179.953125 199.382812 175.683594 C 199.382812 171.417969 205.785156 171.417969 205.785156 175.683594 \"/>\n",
       "<path style=\" stroke:none;fill-rule:nonzero;fill:rgb(0%,0%,0%);fill-opacity:1;\" d=\"M 247.332031 83.996094 C 247.332031 88.265625 240.929688 88.265625 240.929688 83.996094 C 240.929688 79.730469 247.332031 79.730469 247.332031 83.996094 \"/>\n",
       "<path style=\" stroke:none;fill-rule:nonzero;fill:rgb(0%,0%,0%);fill-opacity:1;\" d=\"M 175.917969 205.339844 C 175.917969 209.605469 169.519531 209.605469 169.519531 205.339844 C 169.519531 201.074219 175.917969 201.074219 175.917969 205.339844 \"/>\n",
       "<path style=\" stroke:none;fill-rule:nonzero;fill:rgb(0%,0%,0%);fill-opacity:1;\" d=\"M 75.695312 83.246094 C 75.695312 87.511719 69.296875 87.511719 69.296875 83.246094 C 69.296875 78.980469 75.695312 78.980469 75.695312 83.246094 \"/>\n",
       "<path style=\" stroke:none;fill-rule:nonzero;fill:rgb(0%,0%,0%);fill-opacity:1;\" d=\"M 90.601562 123.023438 C 90.601562 127.289062 84.203125 127.289062 84.203125 123.023438 C 84.203125 118.753906 90.601562 118.753906 90.601562 123.023438 \"/>\n",
       "<path style=\" stroke:none;fill-rule:nonzero;fill:rgb(0%,0%,0%);fill-opacity:1;\" d=\"M 176.144531 205.230469 C 176.144531 209.496094 169.746094 209.496094 169.746094 205.230469 C 169.746094 200.964844 176.144531 200.964844 176.144531 205.230469 \"/>\n",
       "<path style=\" stroke:none;fill-rule:nonzero;fill:rgb(0%,0%,0%);fill-opacity:1;\" d=\"M 106.925781 157.914062 C 106.925781 162.179688 100.527344 162.179688 100.527344 157.914062 C 100.527344 153.648438 106.925781 153.648438 106.925781 157.914062 \"/>\n",
       "<path style=\" stroke:none;fill-rule:nonzero;fill:rgb(0%,0%,0%);fill-opacity:1;\" d=\"M 227.621094 134.8125 C 227.621094 139.078125 221.21875 139.078125 221.21875 134.8125 C 221.21875 130.546875 227.621094 130.546875 227.621094 134.8125 \"/>\n",
       "<path style=\" stroke:none;fill-rule:nonzero;fill:rgb(0%,0%,0%);fill-opacity:1;\" d=\"M 230.171875 128.976562 C 230.171875 133.246094 223.773438 133.246094 223.773438 128.976562 C 223.773438 124.710938 230.171875 124.710938 230.171875 128.976562 \"/>\n",
       "<path style=\" stroke:none;fill-rule:nonzero;fill:rgb(0%,0%,0%);fill-opacity:1;\" d=\"M 239.300781 106.292969 C 239.300781 110.558594 232.902344 110.558594 232.902344 106.292969 C 232.902344 102.027344 239.300781 102.027344 239.300781 106.292969 \"/>\n",
       "<path style=\" stroke:none;fill-rule:nonzero;fill:rgb(0%,0%,0%);fill-opacity:1;\" d=\"M 205.875 175.550781 C 205.875 179.816406 199.472656 179.816406 199.472656 175.550781 C 199.472656 171.28125 205.875 171.28125 205.875 175.550781 \"/>\n",
       "<path style=\" stroke:none;fill-rule:nonzero;fill:rgb(0%,0%,0%);fill-opacity:1;\" d=\"M 92.527344 127.609375 C 92.527344 131.875 86.128906 131.875 86.128906 127.609375 C 86.128906 123.34375 92.527344 123.34375 92.527344 127.609375 \"/>\n",
       "<path style=\" stroke:none;fill-rule:nonzero;fill:rgb(0%,0%,0%);fill-opacity:1;\" d=\"M 182.960938 201.078125 C 182.960938 205.34375 176.5625 205.34375 176.5625 201.078125 C 176.5625 196.8125 182.960938 196.8125 182.960938 201.078125 \"/>\n",
       "<path style=\" stroke:none;fill-rule:nonzero;fill:rgb(0%,0%,0%);fill-opacity:1;\" d=\"M 69.601562 64.800781 C 69.601562 69.066406 63.199219 69.066406 63.199219 64.800781 C 63.199219 60.535156 69.601562 60.535156 69.601562 64.800781 \"/>\n",
       "<path style=\" stroke:none;fill-rule:nonzero;fill:rgb(0%,0%,0%);fill-opacity:1;\" d=\"M 202.03125 181.078125 C 202.03125 185.347656 195.628906 185.347656 195.628906 181.078125 C 195.628906 176.8125 202.03125 176.8125 202.03125 181.078125 \"/>\n",
       "<path style=\" stroke:none;fill-rule:nonzero;fill:rgb(0%,0%,0%);fill-opacity:1;\" d=\"M 146.304688 204.804688 C 146.304688 209.074219 139.90625 209.074219 139.90625 204.804688 C 139.90625 200.539062 146.304688 200.539062 146.304688 204.804688 \"/>\n",
       "<path style=\" stroke:none;fill-rule:nonzero;fill:rgb(0%,0%,0%);fill-opacity:1;\" d=\"M 188.425781 196.609375 C 188.425781 200.878906 182.027344 200.878906 182.027344 196.609375 C 182.027344 192.34375 188.425781 192.34375 188.425781 196.609375 \"/>\n",
       "<path style=\" stroke:none;fill-rule:nonzero;fill:rgb(0%,0%,0%);fill-opacity:1;\" d=\"M 118.164062 176.671875 C 118.164062 180.941406 111.765625 180.941406 111.765625 176.671875 C 111.765625 172.40625 118.164062 172.40625 118.164062 176.671875 \"/>\n",
       "<path style=\" stroke:none;fill-rule:nonzero;fill:rgb(0%,0%,0%);fill-opacity:1;\" d=\"M 151.058594 206.898438 C 151.058594 211.167969 144.660156 211.167969 144.660156 206.898438 C 144.660156 202.632812 151.058594 202.632812 151.058594 206.898438 \"/>\n",
       "<path style=\" stroke:none;fill-rule:nonzero;fill:rgb(0%,0%,0%);fill-opacity:1;\" d=\"M 208.109375 172.101562 C 208.109375 176.367188 201.710938 176.367188 201.710938 172.101562 C 201.710938 167.832031 208.109375 167.832031 208.109375 172.101562 \"/>\n",
       "<path style=\" stroke:none;fill-rule:nonzero;fill:rgb(0%,0%,0%);fill-opacity:1;\" d=\"M 148.394531 205.820312 C 148.394531 210.085938 141.996094 210.085938 141.996094 205.820312 C 141.996094 201.554688 148.394531 201.554688 148.394531 205.820312 \"/>\n",
       "<path style=\" stroke:none;fill-rule:nonzero;fill:rgb(0%,0%,0%);fill-opacity:1;\" d=\"M 205.699219 175.8125 C 205.699219 180.078125 199.300781 180.078125 199.300781 175.8125 C 199.300781 171.542969 205.699219 171.542969 205.699219 175.8125 \"/>\n",
       "<path style=\" stroke:none;fill-rule:nonzero;fill:rgb(0%,0%,0%);fill-opacity:1;\" d=\"M 227.023438 136.148438 C 227.023438 140.414062 220.621094 140.414062 220.621094 136.148438 C 220.621094 131.882812 227.023438 131.882812 227.023438 136.148438 \"/>\n",
       "<path style=\" stroke:none;fill-rule:nonzero;fill:rgb(0%,0%,0%);fill-opacity:1;\" d=\"M 253.601562 65.066406 C 253.601562 69.335938 247.199219 69.335938 247.199219 65.066406 C 247.199219 60.800781 253.601562 60.800781 253.601562 65.066406 \"/>\n",
       "<path style=\" stroke:none;fill-rule:nonzero;fill:rgb(0%,0%,0%);fill-opacity:1;\" d=\"M 222.808594 145.207031 C 222.808594 149.472656 216.410156 149.472656 216.410156 145.207031 C 216.410156 140.941406 222.808594 140.941406 222.808594 145.207031 \"/>\n",
       "<path style=\" stroke:none;fill-rule:nonzero;fill:rgb(0%,0%,0%);fill-opacity:1;\" d=\"M 71.976562 72.140625 C 71.976562 76.410156 65.578125 76.410156 65.578125 72.140625 C 65.578125 67.875 71.976562 67.875 71.976562 72.140625 \"/>\n",
       "<path style=\" stroke:none;fill-rule:nonzero;fill:rgb(0%,0%,0%);fill-opacity:1;\" d=\"M 136.5625 198.113281 C 136.5625 202.378906 130.164062 202.378906 130.164062 198.113281 C 130.164062 193.847656 136.5625 193.847656 136.5625 198.113281 \"/>\n",
       "<path style=\" stroke:none;fill-rule:nonzero;fill:rgb(0%,0%,0%);fill-opacity:1;\" d=\"M 178.105469 204.195312 C 178.105469 208.464844 171.707031 208.464844 171.707031 204.195312 C 171.707031 199.929688 178.105469 199.929688 178.105469 204.195312 \"/>\n",
       "<path style=\" stroke:none;fill-rule:nonzero;fill:rgb(0%,0%,0%);fill-opacity:1;\" d=\"M 115.027344 171.871094 C 115.027344 176.136719 108.628906 176.136719 108.628906 171.871094 C 108.628906 167.601562 115.027344 167.601562 115.027344 171.871094 \"/>\n",
       "<path style=\" stroke:none;fill-rule:nonzero;fill:rgb(0%,0%,0%);fill-opacity:1;\" d=\"M 72.695312 74.328125 C 72.695312 78.59375 66.296875 78.59375 66.296875 74.328125 C 66.296875 70.058594 72.695312 70.058594 72.695312 74.328125 \"/>\n",
       "<path style=\" stroke:none;fill-rule:nonzero;fill:rgb(0%,0%,0%);fill-opacity:1;\" d=\"M 162.15625 208.800781 C 162.15625 213.066406 155.753906 213.066406 155.753906 208.800781 C 155.753906 204.535156 162.15625 204.535156 162.15625 208.800781 \"/>\n",
       "<path style=\" stroke:none;fill-rule:nonzero;fill:rgb(0%,0%,0%);fill-opacity:1;\" d=\"M 83.730469 105.625 C 83.730469 109.890625 77.332031 109.890625 77.332031 105.625 C 77.332031 101.355469 83.730469 101.355469 83.730469 105.625 \"/>\n",
       "<path style=\" stroke:none;fill-rule:nonzero;fill:rgb(0%,0%,0%);fill-opacity:1;\" d=\"M 116.550781 174.242188 C 116.550781 178.507812 110.148438 178.507812 110.148438 174.242188 C 110.148438 169.972656 116.550781 169.972656 116.550781 174.242188 \"/>\n",
       "<path style=\" stroke:none;fill-rule:nonzero;fill:rgb(0%,0%,0%);fill-opacity:1;\" d=\"M 230.878906 127.324219 C 230.878906 131.589844 224.480469 131.589844 224.480469 127.324219 C 224.480469 123.054688 230.878906 123.054688 230.878906 127.324219 \"/>\n",
       "<path style=\" stroke:none;fill-rule:nonzero;fill:rgb(0%,0%,0%);fill-opacity:1;\" d=\"M 223.921875 142.875 C 223.921875 147.140625 217.523438 147.140625 217.523438 142.875 C 217.523438 138.605469 223.921875 138.605469 223.921875 142.875 \"/>\n",
       "<path style=\" stroke:none;fill-rule:nonzero;fill:rgb(0%,0%,0%);fill-opacity:1;\" d=\"M 197.355469 187.125 C 197.355469 191.394531 190.953125 191.394531 190.953125 187.125 C 190.953125 182.859375 197.355469 182.859375 197.355469 187.125 \"/>\n",
       "<path style=\" stroke:none;fill-rule:nonzero;fill:rgb(0%,0%,0%);fill-opacity:1;\" d=\"M 152.082031 207.25 C 152.082031 211.515625 145.683594 211.515625 145.683594 207.25 C 145.683594 202.984375 152.082031 202.984375 152.082031 207.25 \"/>\n",
       "<path style=\" stroke:none;fill-rule:nonzero;fill:rgb(0%,0%,0%);fill-opacity:1;\" d=\"M 189.082031 196.003906 C 189.082031 200.273438 182.683594 200.273438 182.683594 196.003906 C 182.683594 191.738281 189.082031 191.738281 189.082031 196.003906 \"/>\n",
       "<path style=\" stroke:none;fill-rule:nonzero;fill:rgb(0%,0%,0%);fill-opacity:1;\" d=\"M 159.203125 208.703125 C 159.203125 212.96875 152.804688 212.96875 152.804688 208.703125 C 152.804688 204.4375 159.203125 204.4375 159.203125 208.703125 \"/>\n",
       "<path style=\" stroke:none;fill-rule:nonzero;fill:rgb(0%,0%,0%);fill-opacity:1;\" d=\"M 242.4375 97.84375 C 242.4375 102.113281 236.039062 102.113281 236.039062 97.84375 C 236.039062 93.578125 242.4375 93.578125 242.4375 97.84375 \"/>\n",
       "<path style=\" stroke:none;fill-rule:nonzero;fill:rgb(0%,0%,0%);fill-opacity:1;\" d=\"M 117.960938 176.371094 C 117.960938 180.636719 111.558594 180.636719 111.558594 176.371094 C 111.558594 172.101562 117.960938 172.101562 117.960938 176.371094 \"/>\n",
       "<path style=\" stroke:none;fill-rule:nonzero;fill:rgb(0%,0%,0%);fill-opacity:1;\" d=\"M 125.847656 187.027344 C 125.847656 191.292969 119.449219 191.292969 119.449219 187.027344 C 119.449219 182.761719 125.847656 182.761719 125.847656 187.027344 \"/>\n",
       "<path style=\" stroke:none;fill-rule:nonzero;fill:rgb(0%,0%,0%);fill-opacity:1;\" d=\"M 182.90625 201.121094 C 182.90625 205.386719 176.507812 205.386719 176.507812 201.121094 C 176.507812 196.851562 182.90625 196.851562 182.90625 201.121094 \"/>\n",
       "<path style=\" stroke:none;fill-rule:nonzero;fill:rgb(0%,0%,0%);fill-opacity:1;\" d=\"M 240.976562 101.824219 C 240.976562 106.089844 234.574219 106.089844 234.574219 101.824219 C 234.574219 97.558594 240.976562 97.558594 240.976562 101.824219 \"/>\n",
       "<path style=\" stroke:none;fill-rule:nonzero;fill:rgb(0%,0%,0%);fill-opacity:1;\" d=\"M 96.0625 135.695312 C 96.0625 139.964844 89.660156 139.964844 89.660156 135.695312 C 89.660156 131.429688 96.0625 131.429688 96.0625 135.695312 \"/>\n",
       "<path style=\" stroke:none;fill-rule:nonzero;fill:rgb(0%,0%,0%);fill-opacity:1;\" d=\"M 234.234375 119.234375 C 234.234375 123.5 227.835938 123.5 227.835938 119.234375 C 227.835938 114.96875 234.234375 114.96875 234.234375 119.234375 \"/>\n",
       "<path style=\" stroke:none;fill-rule:nonzero;fill:rgb(0%,0%,0%);fill-opacity:1;\" d=\"M 232.253906 124.050781 C 232.253906 128.316406 225.855469 128.316406 225.855469 124.050781 C 225.855469 119.78125 232.253906 119.78125 232.253906 124.050781 \"/>\n",
       "<path style=\" stroke:none;fill-rule:nonzero;fill:rgb(0%,0%,0%);fill-opacity:1;\" d=\"M 246.21875 87.214844 C 246.21875 91.480469 239.820312 91.480469 239.820312 87.214844 C 239.820312 82.945312 246.21875 82.945312 246.21875 87.214844 \"/>\n",
       "<path style=\" stroke:none;fill-rule:nonzero;fill:rgb(0%,0%,0%);fill-opacity:1;\" d=\"M 159.90625 208.753906 C 159.90625 213.019531 153.507812 213.019531 153.507812 208.753906 C 153.507812 204.488281 159.90625 204.488281 159.90625 208.753906 \"/>\n",
       "<path style=\" stroke:none;fill-rule:nonzero;fill:rgb(0%,0%,0%);fill-opacity:1;\" d=\"M 240.097656 104.175781 C 240.097656 108.441406 233.699219 108.441406 233.699219 104.175781 C 233.699219 99.910156 240.097656 99.910156 240.097656 104.175781 \"/>\n",
       "<path style=\" stroke:none;fill-rule:nonzero;fill:rgb(0%,0%,0%);fill-opacity:1;\" d=\"M 79.136719 93.089844 C 79.136719 97.355469 72.734375 97.355469 72.734375 93.089844 C 72.734375 88.824219 79.136719 88.824219 79.136719 93.089844 \"/>\n",
       "<path style=\" stroke:none;fill-rule:nonzero;fill:rgb(0%,0%,0%);fill-opacity:1;\" d=\"M 150.351562 206.636719 C 150.351562 210.902344 143.953125 210.902344 143.953125 206.636719 C 143.953125 202.371094 150.351562 202.371094 150.351562 206.636719 \"/>\n",
       "<path style=\" stroke:none;fill-rule:nonzero;fill:rgb(0%,0%,0%);fill-opacity:1;\" d=\"M 203.382812 179.191406 C 203.382812 183.460938 196.980469 183.460938 196.980469 179.191406 C 196.980469 174.925781 203.382812 174.925781 203.382812 179.191406 \"/>\n",
       "<path style=\" stroke:none;fill-rule:nonzero;fill:rgb(0%,0%,0%);fill-opacity:1;\" d=\"M 143.160156 203 C 143.160156 207.265625 136.761719 207.265625 136.761719 203 C 136.761719 198.730469 143.160156 198.730469 143.160156 203 \"/>\n",
       "<path style=\" stroke:none;fill-rule:nonzero;fill:rgb(0%,0%,0%);fill-opacity:1;\" d=\"M 211.703125 166.207031 C 211.703125 170.472656 205.304688 170.472656 205.304688 166.207031 C 205.304688 161.941406 211.703125 161.941406 211.703125 166.207031 \"/>\n",
       "<path style=\" stroke:none;fill-rule:nonzero;fill:rgb(0%,0%,0%);fill-opacity:1;\" d=\"M 141.652344 202.011719 C 141.652344 206.277344 135.25 206.277344 135.25 202.011719 C 135.25 197.742188 141.652344 197.742188 141.652344 202.011719 \"/>\n",
       "<path style=\" stroke:none;fill-rule:nonzero;fill:rgb(0%,0%,0%);fill-opacity:1;\" d=\"M 105.734375 155.671875 C 105.734375 159.941406 99.335938 159.941406 99.335938 155.671875 C 99.335938 151.40625 105.734375 151.40625 105.734375 155.671875 \"/>\n",
       "<path style=\" stroke:none;fill-rule:nonzero;fill:rgb(0%,0%,0%);fill-opacity:1;\" d=\"M 130.402344 192.214844 C 130.402344 196.480469 124 196.480469 124 192.214844 C 124 187.949219 130.402344 187.949219 130.402344 192.214844 \"/>\n",
       "<path style=\" stroke:none;fill-rule:nonzero;fill:rgb(0%,0%,0%);fill-opacity:1;\" d=\"M 156.726562 208.394531 C 156.726562 212.660156 150.328125 212.660156 150.328125 208.394531 C 150.328125 204.128906 156.726562 204.128906 156.726562 208.394531 \"/>\n",
       "<path style=\" stroke:none;fill-rule:nonzero;fill:rgb(0%,0%,0%);fill-opacity:1;\" d=\"M 135.996094 197.625 C 135.996094 201.890625 129.59375 201.890625 129.59375 197.625 C 129.59375 193.355469 135.996094 193.355469 135.996094 197.625 \"/>\n",
       "<path style=\" stroke:none;fill-rule:nonzero;fill:rgb(0%,0%,0%);fill-opacity:1;\" d=\"M 123.300781 183.8125 C 123.300781 188.078125 116.898438 188.078125 116.898438 183.8125 C 116.898438 179.546875 123.300781 179.546875 123.300781 183.8125 \"/>\n",
       "<path style=\" stroke:none;fill-rule:nonzero;fill:rgb(0%,0%,0%);fill-opacity:1;\" d=\"M 246.914062 85.207031 C 246.914062 89.472656 240.515625 89.472656 240.515625 85.207031 C 240.515625 80.9375 246.914062 80.9375 246.914062 85.207031 \"/>\n",
       "<path style=\" stroke:none;fill-rule:nonzero;fill:rgb(0%,0%,0%);fill-opacity:1;\" d=\"M 149.863281 206.445312 C 149.863281 210.710938 143.460938 210.710938 143.460938 206.445312 C 143.460938 202.179688 149.863281 202.179688 149.863281 206.445312 \"/>\n",
       "<path style=\" stroke:none;fill-rule:nonzero;fill:rgb(0%,0%,0%);fill-opacity:1;\" d=\"M 181.628906 202.015625 C 181.628906 206.28125 175.230469 206.28125 175.230469 202.015625 C 175.230469 197.746094 181.628906 197.746094 181.628906 202.015625 \"/>\n",
       "<path style=\" stroke:none;fill-rule:nonzero;fill:rgb(0%,0%,0%);fill-opacity:1;\" d=\"M 121.117188 180.890625 C 121.117188 185.15625 114.71875 185.15625 114.71875 180.890625 C 114.71875 176.625 121.117188 176.625 121.117188 180.890625 \"/>\n",
       "<path style=\" stroke:none;fill-rule:nonzero;fill:rgb(0%,0%,0%);fill-opacity:1;\" d=\"M 208.90625 170.835938 C 208.90625 175.101562 202.503906 175.101562 202.503906 170.835938 C 202.503906 166.570312 208.90625 166.570312 208.90625 170.835938 \"/>\n",
       "<path style=\" stroke:none;fill-rule:nonzero;fill:rgb(0%,0%,0%);fill-opacity:1;\" d=\"M 73.410156 76.476562 C 73.410156 80.746094 67.011719 80.746094 67.011719 76.476562 C 67.011719 72.210938 73.410156 72.210938 73.410156 76.476562 \"/>\n",
       "<path style=\" stroke:none;fill-rule:nonzero;fill:rgb(0%,0%,0%);fill-opacity:1;\" d=\"M 170.886719 207.351562 C 170.886719 211.621094 164.484375 211.621094 164.484375 207.351562 C 164.484375 203.085938 170.886719 203.085938 170.886719 207.351562 \"/>\n",
       "<path style=\" stroke:none;fill-rule:nonzero;fill:rgb(0%,0%,0%);fill-opacity:1;\" d=\"M 243.109375 95.988281 C 243.109375 100.253906 236.710938 100.253906 236.710938 95.988281 C 236.710938 91.722656 243.109375 91.722656 243.109375 95.988281 \"/>\n",
       "<path style=\" stroke:none;fill-rule:nonzero;fill:rgb(0%,0%,0%);fill-opacity:1;\" d=\"M 132.5 194.367188 C 132.5 198.636719 126.101562 198.636719 126.101562 194.367188 C 126.101562 190.101562 132.5 190.101562 132.5 194.367188 \"/>\n",
       "<path style=\" stroke:none;fill-rule:nonzero;fill:rgb(0%,0%,0%);fill-opacity:1;\" d=\"M 192.515625 192.601562 C 192.515625 196.867188 186.117188 196.867188 186.117188 192.601562 C 186.117188 188.335938 192.515625 188.335938 192.515625 192.601562 \"/>\n",
       "<path style=\" stroke:none;fill-rule:nonzero;fill:rgb(0%,0%,0%);fill-opacity:1;\" d=\"M 72.179688 72.753906 C 72.179688 77.019531 65.777344 77.019531 65.777344 72.753906 C 65.777344 68.488281 72.179688 68.488281 72.179688 72.753906 \"/>\n",
       "<path style=\" stroke:none;fill-rule:nonzero;fill:rgb(0%,0%,0%);fill-opacity:1;\" d=\"M 84.210938 106.890625 C 84.210938 111.15625 77.8125 111.15625 77.8125 106.890625 C 77.8125 102.625 84.210938 102.625 84.210938 106.890625 \"/>\n",
       "<path style=\" stroke:none;fill-rule:nonzero;fill:rgb(0%,0%,0%);fill-opacity:1;\" d=\"M 215 160.414062 C 215 164.679688 208.597656 164.679688 208.597656 160.414062 C 208.597656 156.148438 215 156.148438 215 160.414062 \"/>\n",
       "<path style=\" stroke:none;fill-rule:nonzero;fill:rgb(0%,0%,0%);fill-opacity:1;\" d=\"M 95.449219 134.324219 C 95.449219 138.589844 89.046875 138.589844 89.046875 134.324219 C 89.046875 130.054688 95.449219 130.054688 95.449219 134.324219 \"/>\n",
       "<path style=\" stroke:none;fill-rule:nonzero;fill:rgb(0%,0%,0%);fill-opacity:1;\" d=\"M 252.339844 68.984375 C 252.339844 73.25 245.9375 73.25 245.9375 68.984375 C 245.9375 64.71875 252.339844 64.71875 252.339844 68.984375 \"/>\n",
       "<path style=\" stroke:none;fill-rule:nonzero;fill:rgb(0%,0%,0%);fill-opacity:1;\" d=\"M 201.625 181.632812 C 201.625 185.898438 195.226562 185.898438 195.226562 181.632812 C 195.226562 177.367188 201.625 177.367188 201.625 181.632812 \"/>\n",
       "<path style=\" stroke:none;fill-rule:nonzero;fill:rgb(0%,0%,0%);fill-opacity:1;\" d=\"M 206.117188 175.179688 C 206.117188 179.445312 199.71875 179.445312 199.71875 175.179688 C 199.71875 170.914062 206.117188 170.914062 206.117188 175.179688 \"/>\n",
       "<path style=\" stroke:none;fill-rule:nonzero;fill:rgb(0%,0%,0%);fill-opacity:1;\" d=\"M 234.164062 119.40625 C 234.164062 123.675781 227.761719 123.675781 227.761719 119.40625 C 227.761719 115.140625 234.164062 115.140625 234.164062 119.40625 \"/>\n",
       "<path style=\" stroke:none;fill-rule:nonzero;fill:rgb(0%,0%,0%);fill-opacity:1;\" d=\"M 185.226562 199.351562 C 185.226562 203.617188 178.828125 203.617188 178.828125 199.351562 C 178.828125 195.082031 185.226562 195.082031 185.226562 199.351562 \"/>\n",
       "<path style=\" stroke:none;fill-rule:nonzero;fill:rgb(0%,0%,0%);fill-opacity:1;\" d=\"M 210.839844 167.664062 C 210.839844 171.933594 204.4375 171.933594 204.4375 167.664062 C 204.4375 163.398438 210.839844 163.398438 210.839844 167.664062 \"/>\n",
       "<path style=\" stroke:none;fill-rule:nonzero;fill:rgb(0%,0%,0%);fill-opacity:1;\" d=\"M 118.972656 177.859375 C 118.972656 182.125 112.574219 182.125 112.574219 177.859375 C 112.574219 173.589844 118.972656 173.589844 118.972656 177.859375 \"/>\n",
       "<path style=\" stroke:none;fill-rule:nonzero;fill:rgb(0%,0%,0%);fill-opacity:1;\" d=\"M 74.226562 78.90625 C 74.226562 83.175781 67.824219 83.175781 67.824219 78.90625 C 67.824219 74.640625 74.226562 74.640625 74.226562 78.90625 \"/>\n",
       "<path style=\" stroke:none;fill-rule:nonzero;fill:rgb(0%,0%,0%);fill-opacity:1;\" d=\"M 188.492188 196.550781 C 188.492188 200.816406 182.09375 200.816406 182.09375 196.550781 C 182.09375 192.28125 188.492188 192.28125 188.492188 196.550781 \"/>\n",
       "<path style=\" stroke:none;fill-rule:nonzero;fill:rgb(0%,0%,0%);fill-opacity:1;\" d=\"M 164.398438 208.675781 C 164.398438 212.941406 157.996094 212.941406 157.996094 208.675781 C 157.996094 204.410156 164.398438 204.410156 164.398438 208.675781 \"/>\n",
       "<path style=\" stroke:none;fill-rule:nonzero;fill:rgb(0%,0%,0%);fill-opacity:1;\" d=\"M 247.660156 83.03125 C 247.660156 87.296875 241.261719 87.296875 241.261719 83.03125 C 241.261719 78.765625 247.660156 78.765625 247.660156 83.03125 \"/>\n",
       "<path style=\" stroke:none;fill-rule:nonzero;fill:rgb(0%,0%,0%);fill-opacity:1;\" d=\"M 208.382812 171.667969 C 208.382812 175.933594 201.984375 175.933594 201.984375 171.667969 C 201.984375 167.402344 208.382812 167.402344 208.382812 171.667969 \"/>\n",
       "<path style=\" stroke:none;fill-rule:nonzero;fill:rgb(0%,0%,0%);fill-opacity:1;\" d=\"M 213.398438 163.273438 C 213.398438 167.542969 206.996094 167.542969 206.996094 163.273438 C 206.996094 159.007812 213.398438 159.007812 213.398438 163.273438 \"/>\n",
       "<path style=\" stroke:none;fill-rule:nonzero;fill:rgb(0%,0%,0%);fill-opacity:1;\" d=\"M 215.136719 160.167969 C 215.136719 164.433594 208.734375 164.433594 208.734375 160.167969 C 208.734375 155.898438 215.136719 155.898438 215.136719 160.167969 \"/>\n",
       "<path style=\" stroke:none;fill-rule:nonzero;fill:rgb(0%,0%,0%);fill-opacity:1;\" d=\"M 153.472656 207.671875 C 153.472656 211.9375 147.074219 211.9375 147.074219 207.671875 C 147.074219 203.402344 153.472656 203.402344 153.472656 207.671875 \"/>\n",
       "<path style=\" stroke:none;fill-rule:nonzero;fill:rgb(0%,0%,0%);fill-opacity:1;\" d=\"M 227.304688 135.519531 C 227.304688 139.789062 220.902344 139.789062 220.902344 135.519531 C 220.902344 131.253906 227.304688 131.253906 227.304688 135.519531 \"/>\n",
       "<path style=\" stroke:none;fill-rule:nonzero;fill:rgb(0%,0%,0%);fill-opacity:1;\" d=\"M 145.632812 204.445312 C 145.632812 208.714844 139.230469 208.714844 139.230469 204.445312 C 139.230469 200.179688 145.632812 200.179688 145.632812 204.445312 \"/>\n",
       "<path style=\" stroke:none;fill-rule:nonzero;fill:rgb(0%,0%,0%);fill-opacity:1;\" d=\"M 119.90625 179.195312 C 119.90625 183.460938 113.503906 183.460938 113.503906 179.195312 C 113.503906 174.925781 119.90625 174.925781 119.90625 179.195312 \"/>\n",
       "<path style=\" stroke:none;fill-rule:nonzero;fill:rgb(0%,0%,0%);fill-opacity:1;\" d=\"M 204.089844 178.179688 C 204.089844 182.445312 197.691406 182.445312 197.691406 178.179688 C 197.691406 173.910156 204.089844 173.910156 204.089844 178.179688 \"/>\n",
       "<path style=\" stroke:none;fill-rule:nonzero;fill:rgb(0%,0%,0%);fill-opacity:1;\" d=\"M 236.417969 113.761719 C 236.417969 118.027344 230.019531 118.027344 230.019531 113.761719 C 230.019531 109.496094 236.417969 109.496094 236.417969 113.761719 \"/>\n",
       "<path style=\" stroke:none;fill-rule:nonzero;fill:rgb(0%,0%,0%);fill-opacity:1;\" d=\"M 192.421875 192.703125 C 192.421875 196.96875 186.023438 196.96875 186.023438 192.703125 C 186.023438 188.433594 192.421875 188.433594 192.421875 192.703125 \"/>\n",
       "<path style=\" stroke:none;fill-rule:nonzero;fill:rgb(0%,0%,0%);fill-opacity:1;\" d=\"M 194.460938 190.5 C 194.460938 194.765625 188.058594 194.765625 188.058594 190.5 C 188.058594 186.234375 194.460938 186.234375 194.460938 190.5 \"/>\n",
       "<path style=\" stroke:none;fill-rule:nonzero;fill:rgb(0%,0%,0%);fill-opacity:1;\" d=\"M 100.257812 144.753906 C 100.257812 149.019531 93.855469 149.019531 93.855469 144.753906 C 93.855469 140.488281 100.257812 140.488281 100.257812 144.753906 \"/>\n",
       "<path style=\" stroke:none;fill-rule:nonzero;fill:rgb(0%,0%,0%);fill-opacity:1;\" d=\"M 188.652344 196.402344 C 188.652344 200.667969 182.253906 200.667969 182.253906 196.402344 C 182.253906 192.136719 188.652344 192.136719 188.652344 196.402344 \"/>\n",
       "<path style=\" stroke:none;fill-rule:nonzero;fill:rgb(0%,0%,0%);fill-opacity:1;\" d=\"M 158.457031 208.632812 C 158.457031 212.898438 152.054688 212.898438 152.054688 208.632812 C 152.054688 204.363281 158.457031 204.363281 158.457031 208.632812 \"/>\n",
       "<path style=\" stroke:none;fill-rule:nonzero;fill:rgb(0%,0%,0%);fill-opacity:1;\" d=\"M 134.125 195.933594 C 134.125 200.199219 127.722656 200.199219 127.722656 195.933594 C 127.722656 191.664062 134.125 191.664062 134.125 195.933594 \"/>\n",
       "<path style=\" stroke:none;fill-rule:nonzero;fill:rgb(0%,0%,0%);fill-opacity:1;\" d=\"M 81.542969 99.75 C 81.542969 104.015625 75.144531 104.015625 75.144531 99.75 C 75.144531 95.484375 81.542969 95.484375 81.542969 99.75 \"/>\n",
       "<path style=\" stroke:none;fill-rule:nonzero;fill:rgb(0%,0%,0%);fill-opacity:1;\" d=\"M 231.339844 126.234375 C 231.339844 130.503906 224.9375 130.503906 224.9375 126.234375 C 224.9375 121.96875 231.339844 121.96875 231.339844 126.234375 \"/>\n",
       "<path style=\" stroke:none;fill-rule:nonzero;fill:rgb(0%,0%,0%);fill-opacity:1;\" d=\"M 181.191406 202.308594 C 181.191406 206.574219 174.789062 206.574219 174.789062 202.308594 C 174.789062 198.042969 181.191406 198.042969 181.191406 202.308594 \"/>\n",
       "<path style=\" stroke:none;fill-rule:nonzero;fill:rgb(0%,0%,0%);fill-opacity:1;\" d=\"M 240.894531 102.039062 C 240.894531 106.304688 234.496094 106.304688 234.496094 102.039062 C 234.496094 97.773438 240.894531 97.773438 240.894531 102.039062 \"/>\n",
       "<path style=\" stroke:none;fill-rule:nonzero;fill:rgb(0%,0%,0%);fill-opacity:1;\" d=\"M 146.261719 204.785156 C 146.261719 209.050781 139.863281 209.050781 139.863281 204.785156 C 139.863281 200.515625 146.261719 200.515625 146.261719 204.785156 \"/>\n",
       "<path style=\" stroke:none;fill-rule:nonzero;fill:rgb(0%,0%,0%);fill-opacity:1;\" d=\"M 220.542969 149.832031 C 220.542969 154.097656 214.144531 154.097656 214.144531 149.832031 C 214.144531 145.5625 220.542969 145.5625 220.542969 149.832031 \"/>\n",
       "<path style=\" stroke:none;fill-rule:nonzero;fill:rgb(0%,0%,0%);fill-opacity:1;\" d=\"M 104.417969 153.140625 C 104.417969 157.40625 98.015625 157.40625 98.015625 153.140625 C 98.015625 148.871094 104.417969 148.871094 104.417969 153.140625 \"/>\n",
       "<path style=\" stroke:none;fill-rule:nonzero;fill:rgb(0%,0%,0%);fill-opacity:1;\" d=\"M 90.027344 121.625 C 90.027344 125.890625 83.625 125.890625 83.625 121.625 C 83.625 117.355469 90.027344 117.355469 90.027344 121.625 \"/>\n",
       "<path style=\" stroke:none;fill-rule:nonzero;fill:rgb(0%,0%,0%);fill-opacity:1;\" d=\"M 196.023438 188.710938 C 196.023438 192.980469 189.625 192.980469 189.625 188.710938 C 189.625 184.445312 196.023438 184.445312 196.023438 188.710938 \"/>\n",
       "<path style=\" stroke:none;fill-rule:nonzero;fill:rgb(0%,0%,0%);fill-opacity:1;\" d=\"M 140.34375 201.09375 C 140.34375 205.359375 133.945312 205.359375 133.945312 201.09375 C 133.945312 196.828125 140.34375 196.828125 140.34375 201.09375 \"/>\n",
       "<path style=\" stroke:none;fill-rule:nonzero;fill:rgb(0%,0%,0%);fill-opacity:1;\" d=\"M 182.519531 201.394531 C 182.519531 205.660156 176.121094 205.660156 176.121094 201.394531 C 176.121094 197.128906 182.519531 197.128906 182.519531 201.394531 \"/>\n",
       "<path style=\" stroke:none;fill-rule:nonzero;fill:rgb(0%,0%,0%);fill-opacity:1;\" d=\"M 192.234375 192.894531 C 192.234375 197.164062 185.835938 197.164062 185.835938 192.894531 C 185.835938 188.628906 192.234375 188.628906 192.234375 192.894531 \"/>\n",
       "<path style=\" stroke:none;fill-rule:nonzero;fill:rgb(0%,0%,0%);fill-opacity:1;\" d=\"M 169.3125 207.804688 C 169.3125 212.070312 162.914062 212.070312 162.914062 207.804688 C 162.914062 203.539062 169.3125 203.539062 169.3125 207.804688 \"/>\n",
       "<path style=\" stroke:none;fill-rule:nonzero;fill:rgb(0%,0%,0%);fill-opacity:1;\" d=\"M 81.136719 98.632812 C 81.136719 102.898438 74.734375 102.898438 74.734375 98.632812 C 74.734375 94.367188 81.136719 94.367188 81.136719 98.632812 \"/>\n",
       "<path style=\" stroke:none;fill-rule:nonzero;fill:rgb(0%,0%,0%);fill-opacity:1;\" d=\"M 173.5625 206.390625 C 173.5625 210.65625 167.164062 210.65625 167.164062 206.390625 C 167.164062 202.121094 173.5625 202.121094 173.5625 206.390625 \"/>\n",
       "<path style=\" stroke:none;fill-rule:nonzero;fill:rgb(0%,0%,0%);fill-opacity:1;\" d=\"M 133.953125 195.773438 C 133.953125 200.039062 127.554688 200.039062 127.554688 195.773438 C 127.554688 191.503906 133.953125 191.503906 133.953125 195.773438 \"/>\n",
       "<path style=\" stroke:none;fill-rule:nonzero;fill:rgb(0%,0%,0%);fill-opacity:1;\" d=\"M 251.28125 72.226562 C 251.28125 76.496094 244.878906 76.496094 244.878906 72.226562 C 244.878906 67.960938 251.28125 67.960938 251.28125 72.226562 \"/>\n",
       "<path style=\" stroke:none;fill-rule:nonzero;fill:rgb(0%,0%,0%);fill-opacity:1;\" d=\"M 85.335938 109.828125 C 85.335938 114.09375 78.933594 114.09375 78.933594 109.828125 C 78.933594 105.5625 85.335938 105.5625 85.335938 109.828125 \"/>\n",
       "<path style=\" stroke:none;fill-rule:nonzero;fill:rgb(0%,0%,0%);fill-opacity:1;\" d=\"M 120.105469 179.476562 C 120.105469 183.742188 113.703125 183.742188 113.703125 179.476562 C 113.703125 175.207031 120.105469 175.207031 120.105469 179.476562 \"/>\n",
       "<path style=\" stroke:none;fill-rule:nonzero;fill:rgb(0%,0%,0%);fill-opacity:1;\" d=\"M 230.410156 128.425781 C 230.410156 132.691406 224.007812 132.691406 224.007812 128.425781 C 224.007812 124.15625 230.410156 124.15625 230.410156 128.425781 \"/>\n",
       "<path style=\" stroke:none;fill-rule:nonzero;fill:rgb(0%,0%,0%);fill-opacity:1;\" d=\"M 248.066406 81.84375 C 248.066406 86.109375 241.667969 86.109375 241.667969 81.84375 C 241.667969 77.578125 248.066406 77.578125 248.066406 81.84375 \"/>\n",
       "<path style=\" stroke:none;fill-rule:nonzero;fill:rgb(0%,0%,0%);fill-opacity:1;\" d=\"M 140.691406 201.34375 C 140.691406 205.609375 134.289062 205.609375 134.289062 201.34375 C 134.289062 197.074219 140.691406 197.074219 140.691406 201.34375 \"/>\n",
       "<path style=\" stroke:none;fill-rule:nonzero;fill:rgb(0%,0%,0%);fill-opacity:1;\" d=\"M 152.941406 207.515625 C 152.941406 211.785156 146.539062 211.785156 146.539062 207.515625 C 146.539062 203.25 152.941406 203.25 152.941406 207.515625 \"/>\n",
       "<path style=\" stroke:none;fill-rule:nonzero;fill:rgb(0%,0%,0%);fill-opacity:1;\" d=\"M 238.835938 107.519531 C 238.835938 111.789062 232.433594 111.789062 232.433594 107.519531 C 232.433594 103.253906 238.835938 103.253906 238.835938 107.519531 \"/>\n",
       "<path style=\" stroke:none;fill-rule:nonzero;fill:rgb(0%,0%,0%);fill-opacity:1;\" d=\"M 195.503906 189.316406 C 195.503906 193.582031 189.101562 193.582031 189.101562 189.316406 C 189.101562 185.050781 195.503906 185.050781 195.503906 189.316406 \"/>\n",
       "<path style=\" stroke:none;fill-rule:nonzero;fill:rgb(0%,0%,0%);fill-opacity:1;\" d=\"M 211.65625 166.285156 C 211.65625 170.554688 205.257812 170.554688 205.257812 166.285156 C 205.257812 162.019531 211.65625 162.019531 211.65625 166.285156 \"/>\n",
       "<path style=\" stroke:none;fill-rule:nonzero;fill:rgb(0%,0%,0%);fill-opacity:1;\" d=\"M 178.652344 203.886719 C 178.652344 208.152344 172.253906 208.152344 172.253906 203.886719 C 172.253906 199.621094 178.652344 199.621094 178.652344 203.886719 \"/>\n",
       "<path style=\" stroke:none;fill-rule:nonzero;fill:rgb(0%,0%,0%);fill-opacity:1;\" d=\"M 133.917969 195.738281 C 133.917969 200.003906 127.515625 200.003906 127.515625 195.738281 C 127.515625 191.472656 133.917969 191.472656 133.917969 195.738281 \"/>\n",
       "<path style=\" stroke:none;fill-rule:nonzero;fill:rgb(0%,0%,0%);fill-opacity:1;\" d=\"M 110.816406 164.894531 C 110.816406 169.164062 104.417969 169.164062 104.417969 164.894531 C 104.417969 160.628906 110.816406 160.628906 110.816406 164.894531 \"/>\n",
       "<path style=\" stroke:none;fill-rule:nonzero;fill:rgb(0%,0%,0%);fill-opacity:1;\" d=\"M 142.09375 202.308594 C 142.09375 206.574219 135.691406 206.574219 135.691406 202.308594 C 135.691406 198.039062 142.09375 198.039062 142.09375 202.308594 \"/>\n",
       "<path style=\" stroke:none;fill-rule:nonzero;fill:rgb(0%,0%,0%);fill-opacity:1;\" d=\"M 239.0625 106.917969 C 239.0625 111.1875 232.664062 111.1875 232.664062 106.917969 C 232.664062 102.652344 239.0625 102.652344 239.0625 106.917969 \"/>\n",
       "<path style=\"fill:none;stroke-width:1;stroke-linecap:round;stroke-linejoin:round;stroke:rgb(0%,0%,0%);stroke-opacity:1;stroke-miterlimit:10;\" d=\"M 66.332031 214.558594 L 250.554688 214.558594 \"/>\n",
       "<path style=\"fill:none;stroke-width:1;stroke-linecap:round;stroke-linejoin:round;stroke:rgb(0%,0%,0%);stroke-opacity:1;stroke-miterlimit:10;\" d=\"M 66.332031 214.558594 L 66.332031 221.761719 \"/>\n",
       "<path style=\"fill:none;stroke-width:1;stroke-linecap:round;stroke-linejoin:round;stroke:rgb(0%,0%,0%);stroke-opacity:1;stroke-miterlimit:10;\" d=\"M 112.386719 214.558594 L 112.386719 221.761719 \"/>\n",
       "<path style=\"fill:none;stroke-width:1;stroke-linecap:round;stroke-linejoin:round;stroke:rgb(0%,0%,0%);stroke-opacity:1;stroke-miterlimit:10;\" d=\"M 158.441406 214.558594 L 158.441406 221.761719 \"/>\n",
       "<path style=\"fill:none;stroke-width:1;stroke-linecap:round;stroke-linejoin:round;stroke:rgb(0%,0%,0%);stroke-opacity:1;stroke-miterlimit:10;\" d=\"M 204.496094 214.558594 L 204.496094 221.761719 \"/>\n",
       "<path style=\"fill:none;stroke-width:1;stroke-linecap:round;stroke-linejoin:round;stroke:rgb(0%,0%,0%);stroke-opacity:1;stroke-miterlimit:10;\" d=\"M 250.554688 214.558594 L 250.554688 221.761719 \"/>\n",
       "<g style=\"fill:rgb(0%,0%,0%);fill-opacity:1;\">\n",
       "  <use xlink:href=\"#glyph0-1\" x=\"55.5625\" y=\"241.921875\"/>\n",
       "  <use xlink:href=\"#glyph0-2\" x=\"59.725098\" y=\"241.921875\"/>\n",
       "  <use xlink:href=\"#glyph0-3\" x=\"66.677002\" y=\"241.921875\"/>\n",
       "  <use xlink:href=\"#glyph0-4\" x=\"70.149902\" y=\"241.921875\"/>\n",
       "</g>\n",
       "<g style=\"fill:rgb(0%,0%,0%);fill-opacity:1;\">\n",
       "  <use xlink:href=\"#glyph0-1\" x=\"101.617188\" y=\"241.921875\"/>\n",
       "  <use xlink:href=\"#glyph0-4\" x=\"105.779785\" y=\"241.921875\"/>\n",
       "  <use xlink:href=\"#glyph0-3\" x=\"112.731689\" y=\"241.921875\"/>\n",
       "  <use xlink:href=\"#glyph0-5\" x=\"116.20459\" y=\"241.921875\"/>\n",
       "</g>\n",
       "<g style=\"fill:rgb(0%,0%,0%);fill-opacity:1;\">\n",
       "  <use xlink:href=\"#glyph0-4\" x=\"149.753906\" y=\"241.921875\"/>\n",
       "  <use xlink:href=\"#glyph0-3\" x=\"156.705811\" y=\"241.921875\"/>\n",
       "  <use xlink:href=\"#glyph0-4\" x=\"160.178711\" y=\"241.921875\"/>\n",
       "</g>\n",
       "<g style=\"fill:rgb(0%,0%,0%);fill-opacity:1;\">\n",
       "  <use xlink:href=\"#glyph0-4\" x=\"195.808594\" y=\"241.921875\"/>\n",
       "  <use xlink:href=\"#glyph0-3\" x=\"202.760498\" y=\"241.921875\"/>\n",
       "  <use xlink:href=\"#glyph0-5\" x=\"206.233398\" y=\"241.921875\"/>\n",
       "</g>\n",
       "<g style=\"fill:rgb(0%,0%,0%);fill-opacity:1;\">\n",
       "  <use xlink:href=\"#glyph0-2\" x=\"241.867188\" y=\"241.921875\"/>\n",
       "  <use xlink:href=\"#glyph0-3\" x=\"248.819092\" y=\"241.921875\"/>\n",
       "  <use xlink:href=\"#glyph0-4\" x=\"252.291992\" y=\"241.921875\"/>\n",
       "</g>\n",
       "<path style=\"fill:none;stroke-width:1;stroke-linecap:round;stroke-linejoin:round;stroke:rgb(0%,0%,0%);stroke-opacity:1;stroke-miterlimit:10;\" d=\"M 59.039062 208.804688 L 59.039062 64.589844 \"/>\n",
       "<path style=\"fill:none;stroke-width:1;stroke-linecap:round;stroke-linejoin:round;stroke:rgb(0%,0%,0%);stroke-opacity:1;stroke-miterlimit:10;\" d=\"M 59.039062 208.804688 L 51.839844 208.804688 \"/>\n",
       "<path style=\"fill:none;stroke-width:1;stroke-linecap:round;stroke-linejoin:round;stroke:rgb(0%,0%,0%);stroke-opacity:1;stroke-miterlimit:10;\" d=\"M 59.039062 179.960938 L 51.839844 179.960938 \"/>\n",
       "<path style=\"fill:none;stroke-width:1;stroke-linecap:round;stroke-linejoin:round;stroke:rgb(0%,0%,0%);stroke-opacity:1;stroke-miterlimit:10;\" d=\"M 59.039062 151.117188 L 51.839844 151.117188 \"/>\n",
       "<path style=\"fill:none;stroke-width:1;stroke-linecap:round;stroke-linejoin:round;stroke:rgb(0%,0%,0%);stroke-opacity:1;stroke-miterlimit:10;\" d=\"M 59.039062 122.273438 L 51.839844 122.273438 \"/>\n",
       "<path style=\"fill:none;stroke-width:1;stroke-linecap:round;stroke-linejoin:round;stroke:rgb(0%,0%,0%);stroke-opacity:1;stroke-miterlimit:10;\" d=\"M 59.039062 93.429688 L 51.839844 93.429688 \"/>\n",
       "<path style=\"fill:none;stroke-width:1;stroke-linecap:round;stroke-linejoin:round;stroke:rgb(0%,0%,0%);stroke-opacity:1;stroke-miterlimit:10;\" d=\"M 59.039062 64.589844 L 51.839844 64.589844 \"/>\n",
       "<g style=\"fill:rgb(0%,0%,0%);fill-opacity:1;\">\n",
       "  <use xlink:href=\"#glyph1-1\" x=\"43.199219\" y=\"217.492188\"/>\n",
       "  <use xlink:href=\"#glyph1-2\" x=\"43.199219\" y=\"210.540283\"/>\n",
       "  <use xlink:href=\"#glyph1-1\" x=\"43.199219\" y=\"207.067383\"/>\n",
       "</g>\n",
       "<g style=\"fill:rgb(0%,0%,0%);fill-opacity:1;\">\n",
       "  <use xlink:href=\"#glyph1-1\" x=\"43.199219\" y=\"188.648438\"/>\n",
       "  <use xlink:href=\"#glyph1-2\" x=\"43.199219\" y=\"181.696533\"/>\n",
       "  <use xlink:href=\"#glyph1-3\" x=\"43.199219\" y=\"178.223633\"/>\n",
       "</g>\n",
       "<g style=\"fill:rgb(0%,0%,0%);fill-opacity:1;\">\n",
       "  <use xlink:href=\"#glyph1-1\" x=\"43.199219\" y=\"159.804688\"/>\n",
       "  <use xlink:href=\"#glyph1-2\" x=\"43.199219\" y=\"152.852783\"/>\n",
       "  <use xlink:href=\"#glyph1-4\" x=\"43.199219\" y=\"149.379883\"/>\n",
       "</g>\n",
       "<g style=\"fill:rgb(0%,0%,0%);fill-opacity:1;\">\n",
       "  <use xlink:href=\"#glyph1-1\" x=\"43.199219\" y=\"130.960938\"/>\n",
       "  <use xlink:href=\"#glyph1-2\" x=\"43.199219\" y=\"124.009033\"/>\n",
       "  <use xlink:href=\"#glyph1-5\" x=\"43.199219\" y=\"120.536133\"/>\n",
       "</g>\n",
       "<g style=\"fill:rgb(0%,0%,0%);fill-opacity:1;\">\n",
       "  <use xlink:href=\"#glyph1-1\" x=\"43.199219\" y=\"102.117188\"/>\n",
       "  <use xlink:href=\"#glyph1-2\" x=\"43.199219\" y=\"95.165283\"/>\n",
       "  <use xlink:href=\"#glyph1-6\" x=\"43.199219\" y=\"91.692383\"/>\n",
       "</g>\n",
       "<g style=\"fill:rgb(0%,0%,0%);fill-opacity:1;\">\n",
       "  <use xlink:href=\"#glyph1-7\" x=\"43.199219\" y=\"73.277344\"/>\n",
       "  <use xlink:href=\"#glyph1-2\" x=\"43.199219\" y=\"66.325439\"/>\n",
       "  <use xlink:href=\"#glyph1-1\" x=\"43.199219\" y=\"62.852539\"/>\n",
       "</g>\n",
       "<path style=\"fill:none;stroke-width:1;stroke-linecap:round;stroke-linejoin:round;stroke:rgb(0%,0%,0%);stroke-opacity:1;stroke-miterlimit:10;\" d=\"M 59.039062 214.558594 L 257.761719 214.558594 L 257.761719 59.039062 L 59.039062 59.039062 L 59.039062 214.558594 \"/>\n",
       "<g style=\"fill:rgb(0%,0%,0%);fill-opacity:1;\">\n",
       "  <use xlink:href=\"#glyph0-6\" x=\"155.273438\" y=\"270.71875\"/>\n",
       "</g>\n",
       "<g style=\"fill:rgb(0%,0%,0%);fill-opacity:1;\">\n",
       "  <use xlink:href=\"#glyph1-8\" x=\"14.398438\" y=\"139.925781\"/>\n",
       "</g>\n",
       "<path style=\"fill:none;stroke-width:0.5;stroke-linecap:round;stroke-linejoin:round;stroke:rgb(74.509804%,74.509804%,74.509804%);stroke-opacity:1;stroke-miterlimit:10;\" d=\"M 66.398438 214.558594 L 66.398438 209.894531 \"/>\n",
       "<path style=\"fill:none;stroke-width:0.5;stroke-linecap:round;stroke-linejoin:round;stroke:rgb(74.509804%,74.509804%,74.509804%);stroke-opacity:1;stroke-miterlimit:10;\" d=\"M 68.777344 214.558594 L 68.777344 209.894531 \"/>\n",
       "<path style=\"fill:none;stroke-width:0.5;stroke-linecap:round;stroke-linejoin:round;stroke:rgb(74.509804%,74.509804%,74.509804%);stroke-opacity:1;stroke-miterlimit:10;\" d=\"M 68.976562 214.558594 L 68.976562 209.894531 \"/>\n",
       "<path style=\"fill:none;stroke-width:0.5;stroke-linecap:round;stroke-linejoin:round;stroke:rgb(74.509804%,74.509804%,74.509804%);stroke-opacity:1;stroke-miterlimit:10;\" d=\"M 69.496094 214.558594 L 69.496094 209.894531 \"/>\n",
       "<path style=\"fill:none;stroke-width:0.5;stroke-linecap:round;stroke-linejoin:round;stroke:rgb(74.509804%,74.509804%,74.509804%);stroke-opacity:1;stroke-miterlimit:10;\" d=\"M 70.210938 214.558594 L 70.210938 209.894531 \"/>\n",
       "<path style=\"fill:none;stroke-width:0.5;stroke-linecap:round;stroke-linejoin:round;stroke:rgb(74.509804%,74.509804%,74.509804%);stroke-opacity:1;stroke-miterlimit:10;\" d=\"M 71.023438 214.558594 L 71.023438 209.894531 \"/>\n",
       "<path style=\"fill:none;stroke-width:0.5;stroke-linecap:round;stroke-linejoin:round;stroke:rgb(74.509804%,74.509804%,74.509804%);stroke-opacity:1;stroke-miterlimit:10;\" d=\"M 71.78125 214.558594 L 71.78125 209.894531 \"/>\n",
       "<path style=\"fill:none;stroke-width:0.5;stroke-linecap:round;stroke-linejoin:round;stroke:rgb(74.509804%,74.509804%,74.509804%);stroke-opacity:1;stroke-miterlimit:10;\" d=\"M 72.257812 214.558594 L 72.257812 209.894531 \"/>\n",
       "<path style=\"fill:none;stroke-width:0.5;stroke-linecap:round;stroke-linejoin:round;stroke:rgb(74.509804%,74.509804%,74.509804%);stroke-opacity:1;stroke-miterlimit:10;\" d=\"M 72.496094 214.558594 L 72.496094 209.894531 \"/>\n",
       "<path style=\"fill:none;stroke-width:0.5;stroke-linecap:round;stroke-linejoin:round;stroke:rgb(74.509804%,74.509804%,74.509804%);stroke-opacity:1;stroke-miterlimit:10;\" d=\"M 75.933594 214.558594 L 75.933594 209.894531 \"/>\n",
       "<path style=\"fill:none;stroke-width:0.5;stroke-linecap:round;stroke-linejoin:round;stroke:rgb(74.509804%,74.509804%,74.509804%);stroke-opacity:1;stroke-miterlimit:10;\" d=\"M 77.933594 214.558594 L 77.933594 209.894531 \"/>\n",
       "<path style=\"fill:none;stroke-width:0.5;stroke-linecap:round;stroke-linejoin:round;stroke:rgb(74.509804%,74.509804%,74.509804%);stroke-opacity:1;stroke-miterlimit:10;\" d=\"M 78.34375 214.558594 L 78.34375 209.894531 \"/>\n",
       "<path style=\"fill:none;stroke-width:0.5;stroke-linecap:round;stroke-linejoin:round;stroke:rgb(74.509804%,74.509804%,74.509804%);stroke-opacity:1;stroke-miterlimit:10;\" d=\"M 79.558594 214.558594 L 79.558594 209.894531 \"/>\n",
       "<path style=\"fill:none;stroke-width:0.5;stroke-linecap:round;stroke-linejoin:round;stroke:rgb(74.509804%,74.509804%,74.509804%);stroke-opacity:1;stroke-miterlimit:10;\" d=\"M 80.21875 214.558594 L 80.21875 209.894531 \"/>\n",
       "<path style=\"fill:none;stroke-width:0.5;stroke-linecap:round;stroke-linejoin:round;stroke:rgb(74.509804%,74.509804%,74.509804%);stroke-opacity:1;stroke-miterlimit:10;\" d=\"M 80.53125 214.558594 L 80.53125 209.894531 \"/>\n",
       "<path style=\"fill:none;stroke-width:0.5;stroke-linecap:round;stroke-linejoin:round;stroke:rgb(74.509804%,74.509804%,74.509804%);stroke-opacity:1;stroke-miterlimit:10;\" d=\"M 81.011719 214.558594 L 81.011719 209.894531 \"/>\n",
       "<path style=\"fill:none;stroke-width:0.5;stroke-linecap:round;stroke-linejoin:round;stroke:rgb(74.509804%,74.509804%,74.509804%);stroke-opacity:1;stroke-miterlimit:10;\" d=\"M 82.136719 214.558594 L 82.136719 209.894531 \"/>\n",
       "<path style=\"fill:none;stroke-width:0.5;stroke-linecap:round;stroke-linejoin:round;stroke:rgb(74.509804%,74.509804%,74.509804%);stroke-opacity:1;stroke-miterlimit:10;\" d=\"M 83.527344 214.558594 L 83.527344 209.894531 \"/>\n",
       "<path style=\"fill:none;stroke-width:0.5;stroke-linecap:round;stroke-linejoin:round;stroke:rgb(74.509804%,74.509804%,74.509804%);stroke-opacity:1;stroke-miterlimit:10;\" d=\"M 85.320312 214.558594 L 85.320312 209.894531 \"/>\n",
       "<path style=\"fill:none;stroke-width:0.5;stroke-linecap:round;stroke-linejoin:round;stroke:rgb(74.509804%,74.509804%,74.509804%);stroke-opacity:1;stroke-miterlimit:10;\" d=\"M 86.828125 214.558594 L 86.828125 209.894531 \"/>\n",
       "<path style=\"fill:none;stroke-width:0.5;stroke-linecap:round;stroke-linejoin:round;stroke:rgb(74.509804%,74.509804%,74.509804%);stroke-opacity:1;stroke-miterlimit:10;\" d=\"M 87.402344 214.558594 L 87.402344 209.894531 \"/>\n",
       "<path style=\"fill:none;stroke-width:0.5;stroke-linecap:round;stroke-linejoin:round;stroke:rgb(74.509804%,74.509804%,74.509804%);stroke-opacity:1;stroke-miterlimit:10;\" d=\"M 88.734375 214.558594 L 88.734375 209.894531 \"/>\n",
       "<path style=\"fill:none;stroke-width:0.5;stroke-linecap:round;stroke-linejoin:round;stroke:rgb(74.509804%,74.509804%,74.509804%);stroke-opacity:1;stroke-miterlimit:10;\" d=\"M 88.789062 214.558594 L 88.789062 209.894531 \"/>\n",
       "<path style=\"fill:none;stroke-width:0.5;stroke-linecap:round;stroke-linejoin:round;stroke:rgb(74.509804%,74.509804%,74.509804%);stroke-opacity:1;stroke-miterlimit:10;\" d=\"M 89.328125 214.558594 L 89.328125 209.894531 \"/>\n",
       "<path style=\"fill:none;stroke-width:0.5;stroke-linecap:round;stroke-linejoin:round;stroke:rgb(74.509804%,74.509804%,74.509804%);stroke-opacity:1;stroke-miterlimit:10;\" d=\"M 89.4375 214.558594 L 89.4375 209.894531 \"/>\n",
       "<path style=\"fill:none;stroke-width:0.5;stroke-linecap:round;stroke-linejoin:round;stroke:rgb(74.509804%,74.509804%,74.509804%);stroke-opacity:1;stroke-miterlimit:10;\" d=\"M 92.246094 214.558594 L 92.246094 209.894531 \"/>\n",
       "<path style=\"fill:none;stroke-width:0.5;stroke-linecap:round;stroke-linejoin:round;stroke:rgb(74.509804%,74.509804%,74.509804%);stroke-opacity:1;stroke-miterlimit:10;\" d=\"M 92.859375 214.558594 L 92.859375 209.894531 \"/>\n",
       "<path style=\"fill:none;stroke-width:0.5;stroke-linecap:round;stroke-linejoin:round;stroke:rgb(74.509804%,74.509804%,74.509804%);stroke-opacity:1;stroke-miterlimit:10;\" d=\"M 97.058594 214.558594 L 97.058594 209.894531 \"/>\n",
       "<path style=\"fill:none;stroke-width:0.5;stroke-linecap:round;stroke-linejoin:round;stroke:rgb(74.509804%,74.509804%,74.509804%);stroke-opacity:1;stroke-miterlimit:10;\" d=\"M 98.917969 214.558594 L 98.917969 209.894531 \"/>\n",
       "<path style=\"fill:none;stroke-width:0.5;stroke-linecap:round;stroke-linejoin:round;stroke:rgb(74.509804%,74.509804%,74.509804%);stroke-opacity:1;stroke-miterlimit:10;\" d=\"M 101.21875 214.558594 L 101.21875 209.894531 \"/>\n",
       "<path style=\"fill:none;stroke-width:0.5;stroke-linecap:round;stroke-linejoin:round;stroke:rgb(74.509804%,74.509804%,74.509804%);stroke-opacity:1;stroke-miterlimit:10;\" d=\"M 101.964844 214.558594 L 101.964844 209.894531 \"/>\n",
       "<path style=\"fill:none;stroke-width:0.5;stroke-linecap:round;stroke-linejoin:round;stroke:rgb(74.509804%,74.509804%,74.509804%);stroke-opacity:1;stroke-miterlimit:10;\" d=\"M 102.535156 214.558594 L 102.535156 209.894531 \"/>\n",
       "<path style=\"fill:none;stroke-width:0.5;stroke-linecap:round;stroke-linejoin:round;stroke:rgb(74.509804%,74.509804%,74.509804%);stroke-opacity:1;stroke-miterlimit:10;\" d=\"M 103.726562 214.558594 L 103.726562 209.894531 \"/>\n",
       "<path style=\"fill:none;stroke-width:0.5;stroke-linecap:round;stroke-linejoin:round;stroke:rgb(74.509804%,74.509804%,74.509804%);stroke-opacity:1;stroke-miterlimit:10;\" d=\"M 105.652344 214.558594 L 105.652344 209.894531 \"/>\n",
       "<path style=\"fill:none;stroke-width:0.5;stroke-linecap:round;stroke-linejoin:round;stroke:rgb(74.509804%,74.509804%,74.509804%);stroke-opacity:1;stroke-miterlimit:10;\" d=\"M 107.617188 214.558594 L 107.617188 209.894531 \"/>\n",
       "<path style=\"fill:none;stroke-width:0.5;stroke-linecap:round;stroke-linejoin:round;stroke:rgb(74.509804%,74.509804%,74.509804%);stroke-opacity:1;stroke-miterlimit:10;\" d=\"M 108.640625 214.558594 L 108.640625 209.894531 \"/>\n",
       "<path style=\"fill:none;stroke-width:0.5;stroke-linecap:round;stroke-linejoin:round;stroke:rgb(74.509804%,74.509804%,74.509804%);stroke-opacity:1;stroke-miterlimit:10;\" d=\"M 108.742188 214.558594 L 108.742188 209.894531 \"/>\n",
       "<path style=\"fill:none;stroke-width:0.5;stroke-linecap:round;stroke-linejoin:round;stroke:rgb(74.509804%,74.509804%,74.509804%);stroke-opacity:1;stroke-miterlimit:10;\" d=\"M 110.976562 214.558594 L 110.976562 209.894531 \"/>\n",
       "<path style=\"fill:none;stroke-width:0.5;stroke-linecap:round;stroke-linejoin:round;stroke:rgb(74.509804%,74.509804%,74.509804%);stroke-opacity:1;stroke-miterlimit:10;\" d=\"M 111.828125 214.558594 L 111.828125 209.894531 \"/>\n",
       "<path style=\"fill:none;stroke-width:0.5;stroke-linecap:round;stroke-linejoin:round;stroke:rgb(74.509804%,74.509804%,74.509804%);stroke-opacity:1;stroke-miterlimit:10;\" d=\"M 113.351562 214.558594 L 113.351562 209.894531 \"/>\n",
       "<path style=\"fill:none;stroke-width:0.5;stroke-linecap:round;stroke-linejoin:round;stroke:rgb(74.509804%,74.509804%,74.509804%);stroke-opacity:1;stroke-miterlimit:10;\" d=\"M 113.480469 214.558594 L 113.480469 209.894531 \"/>\n",
       "<path style=\"fill:none;stroke-width:0.5;stroke-linecap:round;stroke-linejoin:round;stroke:rgb(74.509804%,74.509804%,74.509804%);stroke-opacity:1;stroke-miterlimit:10;\" d=\"M 114.761719 214.558594 L 114.761719 209.894531 \"/>\n",
       "<path style=\"fill:none;stroke-width:0.5;stroke-linecap:round;stroke-linejoin:round;stroke:rgb(74.509804%,74.509804%,74.509804%);stroke-opacity:1;stroke-miterlimit:10;\" d=\"M 114.964844 214.558594 L 114.964844 209.894531 \"/>\n",
       "<path style=\"fill:none;stroke-width:0.5;stroke-linecap:round;stroke-linejoin:round;stroke:rgb(74.509804%,74.509804%,74.509804%);stroke-opacity:1;stroke-miterlimit:10;\" d=\"M 115.773438 214.558594 L 115.773438 209.894531 \"/>\n",
       "<path style=\"fill:none;stroke-width:0.5;stroke-linecap:round;stroke-linejoin:round;stroke:rgb(74.509804%,74.509804%,74.509804%);stroke-opacity:1;stroke-miterlimit:10;\" d=\"M 116.445312 214.558594 L 116.445312 209.894531 \"/>\n",
       "<path style=\"fill:none;stroke-width:0.5;stroke-linecap:round;stroke-linejoin:round;stroke:rgb(74.509804%,74.509804%,74.509804%);stroke-opacity:1;stroke-miterlimit:10;\" d=\"M 116.511719 214.558594 L 116.511719 209.894531 \"/>\n",
       "<path style=\"fill:none;stroke-width:0.5;stroke-linecap:round;stroke-linejoin:round;stroke:rgb(74.509804%,74.509804%,74.509804%);stroke-opacity:1;stroke-miterlimit:10;\" d=\"M 116.707031 214.558594 L 116.707031 209.894531 \"/>\n",
       "<path style=\"fill:none;stroke-width:0.5;stroke-linecap:round;stroke-linejoin:round;stroke:rgb(74.509804%,74.509804%,74.509804%);stroke-opacity:1;stroke-miterlimit:10;\" d=\"M 116.902344 214.558594 L 116.902344 209.894531 \"/>\n",
       "<path style=\"fill:none;stroke-width:0.5;stroke-linecap:round;stroke-linejoin:round;stroke:rgb(74.509804%,74.509804%,74.509804%);stroke-opacity:1;stroke-miterlimit:10;\" d=\"M 117.917969 214.558594 L 117.917969 209.894531 \"/>\n",
       "<path style=\"fill:none;stroke-width:0.5;stroke-linecap:round;stroke-linejoin:round;stroke:rgb(74.509804%,74.509804%,74.509804%);stroke-opacity:1;stroke-miterlimit:10;\" d=\"M 120.097656 214.558594 L 120.097656 209.894531 \"/>\n",
       "<path style=\"fill:none;stroke-width:0.5;stroke-linecap:round;stroke-linejoin:round;stroke:rgb(74.509804%,74.509804%,74.509804%);stroke-opacity:1;stroke-miterlimit:10;\" d=\"M 120.640625 214.558594 L 120.640625 209.894531 \"/>\n",
       "<path style=\"fill:none;stroke-width:0.5;stroke-linecap:round;stroke-linejoin:round;stroke:rgb(74.509804%,74.509804%,74.509804%);stroke-opacity:1;stroke-miterlimit:10;\" d=\"M 120.703125 214.558594 L 120.703125 209.894531 \"/>\n",
       "<path style=\"fill:none;stroke-width:0.5;stroke-linecap:round;stroke-linejoin:round;stroke:rgb(74.509804%,74.509804%,74.509804%);stroke-opacity:1;stroke-miterlimit:10;\" d=\"M 122.648438 214.558594 L 122.648438 209.894531 \"/>\n",
       "<path style=\"fill:none;stroke-width:0.5;stroke-linecap:round;stroke-linejoin:round;stroke:rgb(74.509804%,74.509804%,74.509804%);stroke-opacity:1;stroke-miterlimit:10;\" d=\"M 122.726562 214.558594 L 122.726562 209.894531 \"/>\n",
       "<path style=\"fill:none;stroke-width:0.5;stroke-linecap:round;stroke-linejoin:round;stroke:rgb(74.509804%,74.509804%,74.509804%);stroke-opacity:1;stroke-miterlimit:10;\" d=\"M 124.167969 214.558594 L 124.167969 209.894531 \"/>\n",
       "<path style=\"fill:none;stroke-width:0.5;stroke-linecap:round;stroke-linejoin:round;stroke:rgb(74.509804%,74.509804%,74.509804%);stroke-opacity:1;stroke-miterlimit:10;\" d=\"M 127.140625 214.558594 L 127.140625 209.894531 \"/>\n",
       "<path style=\"fill:none;stroke-width:0.5;stroke-linecap:round;stroke-linejoin:round;stroke:rgb(74.509804%,74.509804%,74.509804%);stroke-opacity:1;stroke-miterlimit:10;\" d=\"M 127.203125 214.558594 L 127.203125 209.894531 \"/>\n",
       "<path style=\"fill:none;stroke-width:0.5;stroke-linecap:round;stroke-linejoin:round;stroke:rgb(74.509804%,74.509804%,74.509804%);stroke-opacity:1;stroke-miterlimit:10;\" d=\"M 129.300781 214.558594 L 129.300781 209.894531 \"/>\n",
       "<path style=\"fill:none;stroke-width:0.5;stroke-linecap:round;stroke-linejoin:round;stroke:rgb(74.509804%,74.509804%,74.509804%);stroke-opacity:1;stroke-miterlimit:10;\" d=\"M 129.457031 214.558594 L 129.457031 209.894531 \"/>\n",
       "<path style=\"fill:none;stroke-width:0.5;stroke-linecap:round;stroke-linejoin:round;stroke:rgb(74.509804%,74.509804%,74.509804%);stroke-opacity:1;stroke-miterlimit:10;\" d=\"M 130.714844 214.558594 L 130.714844 209.894531 \"/>\n",
       "<path style=\"fill:none;stroke-width:0.5;stroke-linecap:round;stroke-linejoin:round;stroke:rgb(74.509804%,74.509804%,74.509804%);stroke-opacity:1;stroke-miterlimit:10;\" d=\"M 130.753906 214.558594 L 130.753906 209.894531 \"/>\n",
       "<path style=\"fill:none;stroke-width:0.5;stroke-linecap:round;stroke-linejoin:round;stroke:rgb(74.509804%,74.509804%,74.509804%);stroke-opacity:1;stroke-miterlimit:10;\" d=\"M 130.921875 214.558594 L 130.921875 209.894531 \"/>\n",
       "<path style=\"fill:none;stroke-width:0.5;stroke-linecap:round;stroke-linejoin:round;stroke:rgb(74.509804%,74.509804%,74.509804%);stroke-opacity:1;stroke-miterlimit:10;\" d=\"M 132.796875 214.558594 L 132.796875 209.894531 \"/>\n",
       "<path style=\"fill:none;stroke-width:0.5;stroke-linecap:round;stroke-linejoin:round;stroke:rgb(74.509804%,74.509804%,74.509804%);stroke-opacity:1;stroke-miterlimit:10;\" d=\"M 132.816406 214.558594 L 132.816406 209.894531 \"/>\n",
       "<path style=\"fill:none;stroke-width:0.5;stroke-linecap:round;stroke-linejoin:round;stroke:rgb(74.509804%,74.509804%,74.509804%);stroke-opacity:1;stroke-miterlimit:10;\" d=\"M 133.257812 214.558594 L 133.257812 209.894531 \"/>\n",
       "<path style=\"fill:none;stroke-width:0.5;stroke-linecap:round;stroke-linejoin:round;stroke:rgb(74.509804%,74.509804%,74.509804%);stroke-opacity:1;stroke-miterlimit:10;\" d=\"M 133.363281 214.558594 L 133.363281 209.894531 \"/>\n",
       "<path style=\"fill:none;stroke-width:0.5;stroke-linecap:round;stroke-linejoin:round;stroke:rgb(74.509804%,74.509804%,74.509804%);stroke-opacity:1;stroke-miterlimit:10;\" d=\"M 136.046875 214.558594 L 136.046875 209.894531 \"/>\n",
       "<path style=\"fill:none;stroke-width:0.5;stroke-linecap:round;stroke-linejoin:round;stroke:rgb(74.509804%,74.509804%,74.509804%);stroke-opacity:1;stroke-miterlimit:10;\" d=\"M 136.507812 214.558594 L 136.507812 209.894531 \"/>\n",
       "<path style=\"fill:none;stroke-width:0.5;stroke-linecap:round;stroke-linejoin:round;stroke:rgb(74.509804%,74.509804%,74.509804%);stroke-opacity:1;stroke-miterlimit:10;\" d=\"M 137.144531 214.558594 L 137.144531 209.894531 \"/>\n",
       "<path style=\"fill:none;stroke-width:0.5;stroke-linecap:round;stroke-linejoin:round;stroke:rgb(74.509804%,74.509804%,74.509804%);stroke-opacity:1;stroke-miterlimit:10;\" d=\"M 137.191406 214.558594 L 137.191406 209.894531 \"/>\n",
       "<path style=\"fill:none;stroke-width:0.5;stroke-linecap:round;stroke-linejoin:round;stroke:rgb(74.509804%,74.509804%,74.509804%);stroke-opacity:1;stroke-miterlimit:10;\" d=\"M 137.488281 214.558594 L 137.488281 209.894531 \"/>\n",
       "<path style=\"fill:none;stroke-width:0.5;stroke-linecap:round;stroke-linejoin:round;stroke:rgb(74.509804%,74.509804%,74.509804%);stroke-opacity:1;stroke-miterlimit:10;\" d=\"M 138.449219 214.558594 L 138.449219 209.894531 \"/>\n",
       "<path style=\"fill:none;stroke-width:0.5;stroke-linecap:round;stroke-linejoin:round;stroke:rgb(74.509804%,74.509804%,74.509804%);stroke-opacity:1;stroke-miterlimit:10;\" d=\"M 138.890625 214.558594 L 138.890625 209.894531 \"/>\n",
       "<path style=\"fill:none;stroke-width:0.5;stroke-linecap:round;stroke-linejoin:round;stroke:rgb(74.509804%,74.509804%,74.509804%);stroke-opacity:1;stroke-miterlimit:10;\" d=\"M 139.960938 214.558594 L 139.960938 209.894531 \"/>\n",
       "<path style=\"fill:none;stroke-width:0.5;stroke-linecap:round;stroke-linejoin:round;stroke:rgb(74.509804%,74.509804%,74.509804%);stroke-opacity:1;stroke-miterlimit:10;\" d=\"M 142.429688 214.558594 L 142.429688 209.894531 \"/>\n",
       "<path style=\"fill:none;stroke-width:0.5;stroke-linecap:round;stroke-linejoin:round;stroke:rgb(74.509804%,74.509804%,74.509804%);stroke-opacity:1;stroke-miterlimit:10;\" d=\"M 143.0625 214.558594 L 143.0625 209.894531 \"/>\n",
       "<path style=\"fill:none;stroke-width:0.5;stroke-linecap:round;stroke-linejoin:round;stroke:rgb(74.509804%,74.509804%,74.509804%);stroke-opacity:1;stroke-miterlimit:10;\" d=\"M 143.105469 214.558594 L 143.105469 209.894531 \"/>\n",
       "<path style=\"fill:none;stroke-width:0.5;stroke-linecap:round;stroke-linejoin:round;stroke:rgb(74.509804%,74.509804%,74.509804%);stroke-opacity:1;stroke-miterlimit:10;\" d=\"M 144.90625 214.558594 L 144.90625 209.894531 \"/>\n",
       "<path style=\"fill:none;stroke-width:0.5;stroke-linecap:round;stroke-linejoin:round;stroke:rgb(74.509804%,74.509804%,74.509804%);stroke-opacity:1;stroke-miterlimit:10;\" d=\"M 145.195312 214.558594 L 145.195312 209.894531 \"/>\n",
       "<path style=\"fill:none;stroke-width:0.5;stroke-linecap:round;stroke-linejoin:round;stroke:rgb(74.509804%,74.509804%,74.509804%);stroke-opacity:1;stroke-miterlimit:10;\" d=\"M 146.664062 214.558594 L 146.664062 209.894531 \"/>\n",
       "<path style=\"fill:none;stroke-width:0.5;stroke-linecap:round;stroke-linejoin:round;stroke:rgb(74.509804%,74.509804%,74.509804%);stroke-opacity:1;stroke-miterlimit:10;\" d=\"M 147.152344 214.558594 L 147.152344 209.894531 \"/>\n",
       "<path style=\"fill:none;stroke-width:0.5;stroke-linecap:round;stroke-linejoin:round;stroke:rgb(74.509804%,74.509804%,74.509804%);stroke-opacity:1;stroke-miterlimit:10;\" d=\"M 147.609375 214.558594 L 147.609375 209.894531 \"/>\n",
       "<path style=\"fill:none;stroke-width:0.5;stroke-linecap:round;stroke-linejoin:round;stroke:rgb(74.509804%,74.509804%,74.509804%);stroke-opacity:1;stroke-miterlimit:10;\" d=\"M 147.859375 214.558594 L 147.859375 209.894531 \"/>\n",
       "<path style=\"fill:none;stroke-width:0.5;stroke-linecap:round;stroke-linejoin:round;stroke:rgb(74.509804%,74.509804%,74.509804%);stroke-opacity:1;stroke-miterlimit:10;\" d=\"M 147.882812 214.558594 L 147.882812 209.894531 \"/>\n",
       "<path style=\"fill:none;stroke-width:0.5;stroke-linecap:round;stroke-linejoin:round;stroke:rgb(74.509804%,74.509804%,74.509804%);stroke-opacity:1;stroke-miterlimit:10;\" d=\"M 148.597656 214.558594 L 148.597656 209.894531 \"/>\n",
       "<path style=\"fill:none;stroke-width:0.5;stroke-linecap:round;stroke-linejoin:round;stroke:rgb(74.509804%,74.509804%,74.509804%);stroke-opacity:1;stroke-miterlimit:10;\" d=\"M 148.882812 214.558594 L 148.882812 209.894531 \"/>\n",
       "<path style=\"fill:none;stroke-width:0.5;stroke-linecap:round;stroke-linejoin:round;stroke:rgb(74.509804%,74.509804%,74.509804%);stroke-opacity:1;stroke-miterlimit:10;\" d=\"M 149.742188 214.558594 L 149.742188 209.894531 \"/>\n",
       "<path style=\"fill:none;stroke-width:0.5;stroke-linecap:round;stroke-linejoin:round;stroke:rgb(74.509804%,74.509804%,74.509804%);stroke-opacity:1;stroke-miterlimit:10;\" d=\"M 150.273438 214.558594 L 150.273438 209.894531 \"/>\n",
       "<path style=\"fill:none;stroke-width:0.5;stroke-linecap:round;stroke-linejoin:round;stroke:rgb(74.509804%,74.509804%,74.509804%);stroke-opacity:1;stroke-miterlimit:10;\" d=\"M 150.402344 214.558594 L 150.402344 209.894531 \"/>\n",
       "<path style=\"fill:none;stroke-width:0.5;stroke-linecap:round;stroke-linejoin:round;stroke:rgb(74.509804%,74.509804%,74.509804%);stroke-opacity:1;stroke-miterlimit:10;\" d=\"M 153.527344 214.558594 L 153.527344 209.894531 \"/>\n",
       "<path style=\"fill:none;stroke-width:0.5;stroke-linecap:round;stroke-linejoin:round;stroke:rgb(74.509804%,74.509804%,74.509804%);stroke-opacity:1;stroke-miterlimit:10;\" d=\"M 155.257812 214.558594 L 155.257812 209.894531 \"/>\n",
       "<path style=\"fill:none;stroke-width:0.5;stroke-linecap:round;stroke-linejoin:round;stroke:rgb(74.509804%,74.509804%,74.509804%);stroke-opacity:1;stroke-miterlimit:10;\" d=\"M 156.003906 214.558594 L 156.003906 209.894531 \"/>\n",
       "<path style=\"fill:none;stroke-width:0.5;stroke-linecap:round;stroke-linejoin:round;stroke:rgb(74.509804%,74.509804%,74.509804%);stroke-opacity:1;stroke-miterlimit:10;\" d=\"M 156.542969 214.558594 L 156.542969 209.894531 \"/>\n",
       "<path style=\"fill:none;stroke-width:0.5;stroke-linecap:round;stroke-linejoin:round;stroke:rgb(74.509804%,74.509804%,74.509804%);stroke-opacity:1;stroke-miterlimit:10;\" d=\"M 156.707031 214.558594 L 156.707031 209.894531 \"/>\n",
       "<path style=\"fill:none;stroke-width:0.5;stroke-linecap:round;stroke-linejoin:round;stroke:rgb(74.509804%,74.509804%,74.509804%);stroke-opacity:1;stroke-miterlimit:10;\" d=\"M 157.847656 214.558594 L 157.847656 209.894531 \"/>\n",
       "<path style=\"fill:none;stroke-width:0.5;stroke-linecap:round;stroke-linejoin:round;stroke:rgb(74.509804%,74.509804%,74.509804%);stroke-opacity:1;stroke-miterlimit:10;\" d=\"M 158.957031 214.558594 L 158.957031 209.894531 \"/>\n",
       "<path style=\"fill:none;stroke-width:0.5;stroke-linecap:round;stroke-linejoin:round;stroke:rgb(74.509804%,74.509804%,74.509804%);stroke-opacity:1;stroke-miterlimit:10;\" d=\"M 160.757812 214.558594 L 160.757812 209.894531 \"/>\n",
       "<path style=\"fill:none;stroke-width:0.5;stroke-linecap:round;stroke-linejoin:round;stroke:rgb(74.509804%,74.509804%,74.509804%);stroke-opacity:1;stroke-miterlimit:10;\" d=\"M 161.199219 214.558594 L 161.199219 209.894531 \"/>\n",
       "<path style=\"fill:none;stroke-width:0.5;stroke-linecap:round;stroke-linejoin:round;stroke:rgb(74.509804%,74.509804%,74.509804%);stroke-opacity:1;stroke-miterlimit:10;\" d=\"M 165.632812 214.558594 L 165.632812 209.894531 \"/>\n",
       "<path style=\"fill:none;stroke-width:0.5;stroke-linecap:round;stroke-linejoin:round;stroke:rgb(74.509804%,74.509804%,74.509804%);stroke-opacity:1;stroke-miterlimit:10;\" d=\"M 166.113281 214.558594 L 166.113281 209.894531 \"/>\n",
       "<path style=\"fill:none;stroke-width:0.5;stroke-linecap:round;stroke-linejoin:round;stroke:rgb(74.509804%,74.509804%,74.509804%);stroke-opacity:1;stroke-miterlimit:10;\" d=\"M 167.683594 214.558594 L 167.683594 209.894531 \"/>\n",
       "<path style=\"fill:none;stroke-width:0.5;stroke-linecap:round;stroke-linejoin:round;stroke:rgb(74.509804%,74.509804%,74.509804%);stroke-opacity:1;stroke-miterlimit:10;\" d=\"M 167.792969 214.558594 L 167.792969 209.894531 \"/>\n",
       "<path style=\"fill:none;stroke-width:0.5;stroke-linecap:round;stroke-linejoin:round;stroke:rgb(74.509804%,74.509804%,74.509804%);stroke-opacity:1;stroke-miterlimit:10;\" d=\"M 169.527344 214.558594 L 169.527344 209.894531 \"/>\n",
       "<path style=\"fill:none;stroke-width:0.5;stroke-linecap:round;stroke-linejoin:round;stroke:rgb(74.509804%,74.509804%,74.509804%);stroke-opacity:1;stroke-miterlimit:10;\" d=\"M 170.363281 214.558594 L 170.363281 209.894531 \"/>\n",
       "<path style=\"fill:none;stroke-width:0.5;stroke-linecap:round;stroke-linejoin:round;stroke:rgb(74.509804%,74.509804%,74.509804%);stroke-opacity:1;stroke-miterlimit:10;\" d=\"M 170.464844 214.558594 L 170.464844 209.894531 \"/>\n",
       "<path style=\"fill:none;stroke-width:0.5;stroke-linecap:round;stroke-linejoin:round;stroke:rgb(74.509804%,74.509804%,74.509804%);stroke-opacity:1;stroke-miterlimit:10;\" d=\"M 171 214.558594 L 171 209.894531 \"/>\n",
       "<path style=\"fill:none;stroke-width:0.5;stroke-linecap:round;stroke-linejoin:round;stroke:rgb(74.509804%,74.509804%,74.509804%);stroke-opacity:1;stroke-miterlimit:10;\" d=\"M 171.15625 214.558594 L 171.15625 209.894531 \"/>\n",
       "<path style=\"fill:none;stroke-width:0.5;stroke-linecap:round;stroke-linejoin:round;stroke:rgb(74.509804%,74.509804%,74.509804%);stroke-opacity:1;stroke-miterlimit:10;\" d=\"M 172.71875 214.558594 L 172.71875 209.894531 \"/>\n",
       "<path style=\"fill:none;stroke-width:0.5;stroke-linecap:round;stroke-linejoin:round;stroke:rgb(74.509804%,74.509804%,74.509804%);stroke-opacity:1;stroke-miterlimit:10;\" d=\"M 172.855469 214.558594 L 172.855469 209.894531 \"/>\n",
       "<path style=\"fill:none;stroke-width:0.5;stroke-linecap:round;stroke-linejoin:round;stroke:rgb(74.509804%,74.509804%,74.509804%);stroke-opacity:1;stroke-miterlimit:10;\" d=\"M 172.945312 214.558594 L 172.945312 209.894531 \"/>\n",
       "<path style=\"fill:none;stroke-width:0.5;stroke-linecap:round;stroke-linejoin:round;stroke:rgb(74.509804%,74.509804%,74.509804%);stroke-opacity:1;stroke-miterlimit:10;\" d=\"M 174.90625 214.558594 L 174.90625 209.894531 \"/>\n",
       "<path style=\"fill:none;stroke-width:0.5;stroke-linecap:round;stroke-linejoin:round;stroke:rgb(74.509804%,74.509804%,74.509804%);stroke-opacity:1;stroke-miterlimit:10;\" d=\"M 175.453125 214.558594 L 175.453125 209.894531 \"/>\n",
       "<path style=\"fill:none;stroke-width:0.5;stroke-linecap:round;stroke-linejoin:round;stroke:rgb(74.509804%,74.509804%,74.509804%);stroke-opacity:1;stroke-miterlimit:10;\" d=\"M 177.988281 214.558594 L 177.988281 209.894531 \"/>\n",
       "<path style=\"fill:none;stroke-width:0.5;stroke-linecap:round;stroke-linejoin:round;stroke:rgb(74.509804%,74.509804%,74.509804%);stroke-opacity:1;stroke-miterlimit:10;\" d=\"M 178.429688 214.558594 L 178.429688 209.894531 \"/>\n",
       "<path style=\"fill:none;stroke-width:0.5;stroke-linecap:round;stroke-linejoin:round;stroke:rgb(74.509804%,74.509804%,74.509804%);stroke-opacity:1;stroke-miterlimit:10;\" d=\"M 179.320312 214.558594 L 179.320312 209.894531 \"/>\n",
       "<path style=\"fill:none;stroke-width:0.5;stroke-linecap:round;stroke-linejoin:round;stroke:rgb(74.509804%,74.509804%,74.509804%);stroke-opacity:1;stroke-miterlimit:10;\" d=\"M 179.707031 214.558594 L 179.707031 209.894531 \"/>\n",
       "<path style=\"fill:none;stroke-width:0.5;stroke-linecap:round;stroke-linejoin:round;stroke:rgb(74.509804%,74.509804%,74.509804%);stroke-opacity:1;stroke-miterlimit:10;\" d=\"M 179.761719 214.558594 L 179.761719 209.894531 \"/>\n",
       "<path style=\"fill:none;stroke-width:0.5;stroke-linecap:round;stroke-linejoin:round;stroke:rgb(74.509804%,74.509804%,74.509804%);stroke-opacity:1;stroke-miterlimit:10;\" d=\"M 180.0625 214.558594 L 180.0625 209.894531 \"/>\n",
       "<path style=\"fill:none;stroke-width:0.5;stroke-linecap:round;stroke-linejoin:round;stroke:rgb(74.509804%,74.509804%,74.509804%);stroke-opacity:1;stroke-miterlimit:10;\" d=\"M 180.980469 214.558594 L 180.980469 209.894531 \"/>\n",
       "<path style=\"fill:none;stroke-width:0.5;stroke-linecap:round;stroke-linejoin:round;stroke:rgb(74.509804%,74.509804%,74.509804%);stroke-opacity:1;stroke-miterlimit:10;\" d=\"M 181.546875 214.558594 L 181.546875 209.894531 \"/>\n",
       "<path style=\"fill:none;stroke-width:0.5;stroke-linecap:round;stroke-linejoin:round;stroke:rgb(74.509804%,74.509804%,74.509804%);stroke-opacity:1;stroke-miterlimit:10;\" d=\"M 182.027344 214.558594 L 182.027344 209.894531 \"/>\n",
       "<path style=\"fill:none;stroke-width:0.5;stroke-linecap:round;stroke-linejoin:round;stroke:rgb(74.509804%,74.509804%,74.509804%);stroke-opacity:1;stroke-miterlimit:10;\" d=\"M 182.109375 214.558594 L 182.109375 209.894531 \"/>\n",
       "<path style=\"fill:none;stroke-width:0.5;stroke-linecap:round;stroke-linejoin:round;stroke:rgb(74.509804%,74.509804%,74.509804%);stroke-opacity:1;stroke-miterlimit:10;\" d=\"M 184.359375 214.558594 L 184.359375 209.894531 \"/>\n",
       "<path style=\"fill:none;stroke-width:0.5;stroke-linecap:round;stroke-linejoin:round;stroke:rgb(74.509804%,74.509804%,74.509804%);stroke-opacity:1;stroke-miterlimit:10;\" d=\"M 184.445312 214.558594 L 184.445312 209.894531 \"/>\n",
       "<path style=\"fill:none;stroke-width:0.5;stroke-linecap:round;stroke-linejoin:round;stroke:rgb(74.509804%,74.509804%,74.509804%);stroke-opacity:1;stroke-miterlimit:10;\" d=\"M 185.226562 214.558594 L 185.226562 209.894531 \"/>\n",
       "<path style=\"fill:none;stroke-width:0.5;stroke-linecap:round;stroke-linejoin:round;stroke:rgb(74.509804%,74.509804%,74.509804%);stroke-opacity:1;stroke-miterlimit:10;\" d=\"M 185.292969 214.558594 L 185.292969 209.894531 \"/>\n",
       "<path style=\"fill:none;stroke-width:0.5;stroke-linecap:round;stroke-linejoin:round;stroke:rgb(74.509804%,74.509804%,74.509804%);stroke-opacity:1;stroke-miterlimit:10;\" d=\"M 185.453125 214.558594 L 185.453125 209.894531 \"/>\n",
       "<path style=\"fill:none;stroke-width:0.5;stroke-linecap:round;stroke-linejoin:round;stroke:rgb(74.509804%,74.509804%,74.509804%);stroke-opacity:1;stroke-miterlimit:10;\" d=\"M 185.882812 214.558594 L 185.882812 209.894531 \"/>\n",
       "<path style=\"fill:none;stroke-width:0.5;stroke-linecap:round;stroke-linejoin:round;stroke:rgb(74.509804%,74.509804%,74.509804%);stroke-opacity:1;stroke-miterlimit:10;\" d=\"M 189.035156 214.558594 L 189.035156 209.894531 \"/>\n",
       "<path style=\"fill:none;stroke-width:0.5;stroke-linecap:round;stroke-linejoin:round;stroke:rgb(74.509804%,74.509804%,74.509804%);stroke-opacity:1;stroke-miterlimit:10;\" d=\"M 189.222656 214.558594 L 189.222656 209.894531 \"/>\n",
       "<path style=\"fill:none;stroke-width:0.5;stroke-linecap:round;stroke-linejoin:round;stroke:rgb(74.509804%,74.509804%,74.509804%);stroke-opacity:1;stroke-miterlimit:10;\" d=\"M 189.316406 214.558594 L 189.316406 209.894531 \"/>\n",
       "<path style=\"fill:none;stroke-width:0.5;stroke-linecap:round;stroke-linejoin:round;stroke:rgb(74.509804%,74.509804%,74.509804%);stroke-opacity:1;stroke-miterlimit:10;\" d=\"M 191.257812 214.558594 L 191.257812 209.894531 \"/>\n",
       "<path style=\"fill:none;stroke-width:0.5;stroke-linecap:round;stroke-linejoin:round;stroke:rgb(74.509804%,74.509804%,74.509804%);stroke-opacity:1;stroke-miterlimit:10;\" d=\"M 192.300781 214.558594 L 192.300781 209.894531 \"/>\n",
       "<path style=\"fill:none;stroke-width:0.5;stroke-linecap:round;stroke-linejoin:round;stroke:rgb(74.509804%,74.509804%,74.509804%);stroke-opacity:1;stroke-miterlimit:10;\" d=\"M 192.355469 214.558594 L 192.355469 209.894531 \"/>\n",
       "<path style=\"fill:none;stroke-width:0.5;stroke-linecap:round;stroke-linejoin:round;stroke:rgb(74.509804%,74.509804%,74.509804%);stroke-opacity:1;stroke-miterlimit:10;\" d=\"M 192.824219 214.558594 L 192.824219 209.894531 \"/>\n",
       "<path style=\"fill:none;stroke-width:0.5;stroke-linecap:round;stroke-linejoin:round;stroke:rgb(74.509804%,74.509804%,74.509804%);stroke-opacity:1;stroke-miterlimit:10;\" d=\"M 194.15625 214.558594 L 194.15625 209.894531 \"/>\n",
       "<path style=\"fill:none;stroke-width:0.5;stroke-linecap:round;stroke-linejoin:round;stroke:rgb(74.509804%,74.509804%,74.509804%);stroke-opacity:1;stroke-miterlimit:10;\" d=\"M 197.234375 214.558594 L 197.234375 209.894531 \"/>\n",
       "<path style=\"fill:none;stroke-width:0.5;stroke-linecap:round;stroke-linejoin:round;stroke:rgb(74.509804%,74.509804%,74.509804%);stroke-opacity:1;stroke-miterlimit:10;\" d=\"M 197.363281 214.558594 L 197.363281 209.894531 \"/>\n",
       "<path style=\"fill:none;stroke-width:0.5;stroke-linecap:round;stroke-linejoin:round;stroke:rgb(74.509804%,74.509804%,74.509804%);stroke-opacity:1;stroke-miterlimit:10;\" d=\"M 197.53125 214.558594 L 197.53125 209.894531 \"/>\n",
       "<path style=\"fill:none;stroke-width:0.5;stroke-linecap:round;stroke-linejoin:round;stroke:rgb(74.509804%,74.509804%,74.509804%);stroke-opacity:1;stroke-miterlimit:10;\" d=\"M 198.425781 214.558594 L 198.425781 209.894531 \"/>\n",
       "<path style=\"fill:none;stroke-width:0.5;stroke-linecap:round;stroke-linejoin:round;stroke:rgb(74.509804%,74.509804%,74.509804%);stroke-opacity:1;stroke-miterlimit:10;\" d=\"M 198.828125 214.558594 L 198.828125 209.894531 \"/>\n",
       "<path style=\"fill:none;stroke-width:0.5;stroke-linecap:round;stroke-linejoin:round;stroke:rgb(74.509804%,74.509804%,74.509804%);stroke-opacity:1;stroke-miterlimit:10;\" d=\"M 199.679688 214.558594 L 199.679688 209.894531 \"/>\n",
       "<path style=\"fill:none;stroke-width:0.5;stroke-linecap:round;stroke-linejoin:round;stroke:rgb(74.509804%,74.509804%,74.509804%);stroke-opacity:1;stroke-miterlimit:10;\" d=\"M 200.179688 214.558594 L 200.179688 209.894531 \"/>\n",
       "<path style=\"fill:none;stroke-width:0.5;stroke-linecap:round;stroke-linejoin:round;stroke:rgb(74.509804%,74.509804%,74.509804%);stroke-opacity:1;stroke-miterlimit:10;\" d=\"M 200.746094 214.558594 L 200.746094 209.894531 \"/>\n",
       "<path style=\"fill:none;stroke-width:0.5;stroke-linecap:round;stroke-linejoin:round;stroke:rgb(74.509804%,74.509804%,74.509804%);stroke-opacity:1;stroke-miterlimit:10;\" d=\"M 200.777344 214.558594 L 200.777344 209.894531 \"/>\n",
       "<path style=\"fill:none;stroke-width:0.5;stroke-linecap:round;stroke-linejoin:round;stroke:rgb(74.509804%,74.509804%,74.509804%);stroke-opacity:1;stroke-miterlimit:10;\" d=\"M 200.890625 214.558594 L 200.890625 209.894531 \"/>\n",
       "<path style=\"fill:none;stroke-width:0.5;stroke-linecap:round;stroke-linejoin:round;stroke:rgb(74.509804%,74.509804%,74.509804%);stroke-opacity:1;stroke-miterlimit:10;\" d=\"M 201.40625 214.558594 L 201.40625 209.894531 \"/>\n",
       "<path style=\"fill:none;stroke-width:0.5;stroke-linecap:round;stroke-linejoin:round;stroke:rgb(74.509804%,74.509804%,74.509804%);stroke-opacity:1;stroke-miterlimit:10;\" d=\"M 202.5 214.558594 L 202.5 209.894531 \"/>\n",
       "<path style=\"fill:none;stroke-width:0.5;stroke-linecap:round;stroke-linejoin:round;stroke:rgb(74.509804%,74.509804%,74.509804%);stroke-opacity:1;stroke-miterlimit:10;\" d=\"M 202.582031 214.558594 L 202.582031 209.894531 \"/>\n",
       "<path style=\"fill:none;stroke-width:0.5;stroke-linecap:round;stroke-linejoin:round;stroke:rgb(74.509804%,74.509804%,74.509804%);stroke-opacity:1;stroke-miterlimit:10;\" d=\"M 202.675781 214.558594 L 202.675781 209.894531 \"/>\n",
       "<path style=\"fill:none;stroke-width:0.5;stroke-linecap:round;stroke-linejoin:round;stroke:rgb(74.509804%,74.509804%,74.509804%);stroke-opacity:1;stroke-miterlimit:10;\" d=\"M 202.917969 214.558594 L 202.917969 209.894531 \"/>\n",
       "<path style=\"fill:none;stroke-width:0.5;stroke-linecap:round;stroke-linejoin:round;stroke:rgb(74.509804%,74.509804%,74.509804%);stroke-opacity:1;stroke-miterlimit:10;\" d=\"M 204.910156 214.558594 L 204.910156 209.894531 \"/>\n",
       "<path style=\"fill:none;stroke-width:0.5;stroke-linecap:round;stroke-linejoin:round;stroke:rgb(74.509804%,74.509804%,74.509804%);stroke-opacity:1;stroke-miterlimit:10;\" d=\"M 205.183594 214.558594 L 205.183594 209.894531 \"/>\n",
       "<path style=\"fill:none;stroke-width:0.5;stroke-linecap:round;stroke-linejoin:round;stroke:rgb(74.509804%,74.509804%,74.509804%);stroke-opacity:1;stroke-miterlimit:10;\" d=\"M 205.707031 214.558594 L 205.707031 209.894531 \"/>\n",
       "<path style=\"fill:none;stroke-width:0.5;stroke-linecap:round;stroke-linejoin:round;stroke:rgb(74.509804%,74.509804%,74.509804%);stroke-opacity:1;stroke-miterlimit:10;\" d=\"M 207.640625 214.558594 L 207.640625 209.894531 \"/>\n",
       "<path style=\"fill:none;stroke-width:0.5;stroke-linecap:round;stroke-linejoin:round;stroke:rgb(74.509804%,74.509804%,74.509804%);stroke-opacity:1;stroke-miterlimit:10;\" d=\"M 208.457031 214.558594 L 208.457031 209.894531 \"/>\n",
       "<path style=\"fill:none;stroke-width:0.5;stroke-linecap:round;stroke-linejoin:round;stroke:rgb(74.509804%,74.509804%,74.509804%);stroke-opacity:1;stroke-miterlimit:10;\" d=\"M 208.503906 214.558594 L 208.503906 209.894531 \"/>\n",
       "<path style=\"fill:none;stroke-width:0.5;stroke-linecap:round;stroke-linejoin:round;stroke:rgb(74.509804%,74.509804%,74.509804%);stroke-opacity:1;stroke-miterlimit:10;\" d=\"M 208.660156 214.558594 L 208.660156 209.894531 \"/>\n",
       "<path style=\"fill:none;stroke-width:0.5;stroke-linecap:round;stroke-linejoin:round;stroke:rgb(74.509804%,74.509804%,74.509804%);stroke-opacity:1;stroke-miterlimit:10;\" d=\"M 209.492188 214.558594 L 209.492188 209.894531 \"/>\n",
       "<path style=\"fill:none;stroke-width:0.5;stroke-linecap:round;stroke-linejoin:round;stroke:rgb(74.509804%,74.509804%,74.509804%);stroke-opacity:1;stroke-miterlimit:10;\" d=\"M 209.707031 214.558594 L 209.707031 209.894531 \"/>\n",
       "<path style=\"fill:none;stroke-width:0.5;stroke-linecap:round;stroke-linejoin:round;stroke:rgb(74.509804%,74.509804%,74.509804%);stroke-opacity:1;stroke-miterlimit:10;\" d=\"M 210.199219 214.558594 L 210.199219 209.894531 \"/>\n",
       "<path style=\"fill:none;stroke-width:0.5;stroke-linecap:round;stroke-linejoin:round;stroke:rgb(74.509804%,74.509804%,74.509804%);stroke-opacity:1;stroke-miterlimit:10;\" d=\"M 211.796875 214.558594 L 211.796875 209.894531 \"/>\n",
       "<path style=\"fill:none;stroke-width:0.5;stroke-linecap:round;stroke-linejoin:round;stroke:rgb(74.509804%,74.509804%,74.509804%);stroke-opacity:1;stroke-miterlimit:10;\" d=\"M 211.933594 214.558594 L 211.933594 209.894531 \"/>\n",
       "<path style=\"fill:none;stroke-width:0.5;stroke-linecap:round;stroke-linejoin:round;stroke:rgb(74.509804%,74.509804%,74.509804%);stroke-opacity:1;stroke-miterlimit:10;\" d=\"M 213.238281 214.558594 L 213.238281 209.894531 \"/>\n",
       "<path style=\"fill:none;stroke-width:0.5;stroke-linecap:round;stroke-linejoin:round;stroke:rgb(74.509804%,74.509804%,74.509804%);stroke-opacity:1;stroke-miterlimit:10;\" d=\"M 217.34375 214.558594 L 217.34375 209.894531 \"/>\n",
       "<path style=\"fill:none;stroke-width:0.5;stroke-linecap:round;stroke-linejoin:round;stroke:rgb(74.509804%,74.509804%,74.509804%);stroke-opacity:1;stroke-miterlimit:10;\" d=\"M 218.613281 214.558594 L 218.613281 209.894531 \"/>\n",
       "<path style=\"fill:none;stroke-width:0.5;stroke-linecap:round;stroke-linejoin:round;stroke:rgb(74.509804%,74.509804%,74.509804%);stroke-opacity:1;stroke-miterlimit:10;\" d=\"M 219.609375 214.558594 L 219.609375 209.894531 \"/>\n",
       "<path style=\"fill:none;stroke-width:0.5;stroke-linecap:round;stroke-linejoin:round;stroke:rgb(74.509804%,74.509804%,74.509804%);stroke-opacity:1;stroke-miterlimit:10;\" d=\"M 219.941406 214.558594 L 219.941406 209.894531 \"/>\n",
       "<path style=\"fill:none;stroke-width:0.5;stroke-linecap:round;stroke-linejoin:round;stroke:rgb(74.509804%,74.509804%,74.509804%);stroke-opacity:1;stroke-miterlimit:10;\" d=\"M 220.722656 214.558594 L 220.722656 209.894531 \"/>\n",
       "<path style=\"fill:none;stroke-width:0.5;stroke-linecap:round;stroke-linejoin:round;stroke:rgb(74.509804%,74.509804%,74.509804%);stroke-opacity:1;stroke-miterlimit:10;\" d=\"M 223.820312 214.558594 L 223.820312 209.894531 \"/>\n",
       "<path style=\"fill:none;stroke-width:0.5;stroke-linecap:round;stroke-linejoin:round;stroke:rgb(74.509804%,74.509804%,74.509804%);stroke-opacity:1;stroke-miterlimit:10;\" d=\"M 224.101562 214.558594 L 224.101562 209.894531 \"/>\n",
       "<path style=\"fill:none;stroke-width:0.5;stroke-linecap:round;stroke-linejoin:round;stroke:rgb(74.509804%,74.509804%,74.509804%);stroke-opacity:1;stroke-miterlimit:10;\" d=\"M 224.421875 214.558594 L 224.421875 209.894531 \"/>\n",
       "<path style=\"fill:none;stroke-width:0.5;stroke-linecap:round;stroke-linejoin:round;stroke:rgb(74.509804%,74.509804%,74.509804%);stroke-opacity:1;stroke-miterlimit:10;\" d=\"M 226.972656 214.558594 L 226.972656 209.894531 \"/>\n",
       "<path style=\"fill:none;stroke-width:0.5;stroke-linecap:round;stroke-linejoin:round;stroke:rgb(74.509804%,74.509804%,74.509804%);stroke-opacity:1;stroke-miterlimit:10;\" d=\"M 227.207031 214.558594 L 227.207031 209.894531 \"/>\n",
       "<path style=\"fill:none;stroke-width:0.5;stroke-linecap:round;stroke-linejoin:round;stroke:rgb(74.509804%,74.509804%,74.509804%);stroke-opacity:1;stroke-miterlimit:10;\" d=\"M 227.679688 214.558594 L 227.679688 209.894531 \"/>\n",
       "<path style=\"fill:none;stroke-width:0.5;stroke-linecap:round;stroke-linejoin:round;stroke:rgb(74.509804%,74.509804%,74.509804%);stroke-opacity:1;stroke-miterlimit:10;\" d=\"M 228.140625 214.558594 L 228.140625 209.894531 \"/>\n",
       "<path style=\"fill:none;stroke-width:0.5;stroke-linecap:round;stroke-linejoin:round;stroke:rgb(74.509804%,74.509804%,74.509804%);stroke-opacity:1;stroke-miterlimit:10;\" d=\"M 229.054688 214.558594 L 229.054688 209.894531 \"/>\n",
       "<path style=\"fill:none;stroke-width:0.5;stroke-linecap:round;stroke-linejoin:round;stroke:rgb(74.509804%,74.509804%,74.509804%);stroke-opacity:1;stroke-miterlimit:10;\" d=\"M 230.964844 214.558594 L 230.964844 209.894531 \"/>\n",
       "<path style=\"fill:none;stroke-width:0.5;stroke-linecap:round;stroke-linejoin:round;stroke:rgb(74.509804%,74.509804%,74.509804%);stroke-opacity:1;stroke-miterlimit:10;\" d=\"M 231.035156 214.558594 L 231.035156 209.894531 \"/>\n",
       "<path style=\"fill:none;stroke-width:0.5;stroke-linecap:round;stroke-linejoin:round;stroke:rgb(74.509804%,74.509804%,74.509804%);stroke-opacity:1;stroke-miterlimit:10;\" d=\"M 231.21875 214.558594 L 231.21875 209.894531 \"/>\n",
       "<path style=\"fill:none;stroke-width:0.5;stroke-linecap:round;stroke-linejoin:round;stroke:rgb(74.509804%,74.509804%,74.509804%);stroke-opacity:1;stroke-miterlimit:10;\" d=\"M 233.21875 214.558594 L 233.21875 209.894531 \"/>\n",
       "<path style=\"fill:none;stroke-width:0.5;stroke-linecap:round;stroke-linejoin:round;stroke:rgb(74.509804%,74.509804%,74.509804%);stroke-opacity:1;stroke-miterlimit:10;\" d=\"M 233.796875 214.558594 L 233.796875 209.894531 \"/>\n",
       "<path style=\"fill:none;stroke-width:0.5;stroke-linecap:round;stroke-linejoin:round;stroke:rgb(74.509804%,74.509804%,74.509804%);stroke-opacity:1;stroke-miterlimit:10;\" d=\"M 235.632812 214.558594 L 235.632812 209.894531 \"/>\n",
       "<path style=\"fill:none;stroke-width:0.5;stroke-linecap:round;stroke-linejoin:round;stroke:rgb(74.509804%,74.509804%,74.509804%);stroke-opacity:1;stroke-miterlimit:10;\" d=\"M 235.863281 214.558594 L 235.863281 209.894531 \"/>\n",
       "<path style=\"fill:none;stroke-width:0.5;stroke-linecap:round;stroke-linejoin:round;stroke:rgb(74.509804%,74.509804%,74.509804%);stroke-opacity:1;stroke-miterlimit:10;\" d=\"M 236.101562 214.558594 L 236.101562 209.894531 \"/>\n",
       "<path style=\"fill:none;stroke-width:0.5;stroke-linecap:round;stroke-linejoin:round;stroke:rgb(74.509804%,74.509804%,74.509804%);stroke-opacity:1;stroke-miterlimit:10;\" d=\"M 236.898438 214.558594 L 236.898438 209.894531 \"/>\n",
       "<path style=\"fill:none;stroke-width:0.5;stroke-linecap:round;stroke-linejoin:round;stroke:rgb(74.509804%,74.509804%,74.509804%);stroke-opacity:1;stroke-miterlimit:10;\" d=\"M 237.695312 214.558594 L 237.695312 209.894531 \"/>\n",
       "<path style=\"fill:none;stroke-width:0.5;stroke-linecap:round;stroke-linejoin:round;stroke:rgb(74.509804%,74.509804%,74.509804%);stroke-opacity:1;stroke-miterlimit:10;\" d=\"M 237.777344 214.558594 L 237.777344 209.894531 \"/>\n",
       "<path style=\"fill:none;stroke-width:0.5;stroke-linecap:round;stroke-linejoin:round;stroke:rgb(74.509804%,74.509804%,74.509804%);stroke-opacity:1;stroke-miterlimit:10;\" d=\"M 238.386719 214.558594 L 238.386719 209.894531 \"/>\n",
       "<path style=\"fill:none;stroke-width:0.5;stroke-linecap:round;stroke-linejoin:round;stroke:rgb(74.509804%,74.509804%,74.509804%);stroke-opacity:1;stroke-miterlimit:10;\" d=\"M 239.238281 214.558594 L 239.238281 209.894531 \"/>\n",
       "<path style=\"fill:none;stroke-width:0.5;stroke-linecap:round;stroke-linejoin:round;stroke:rgb(74.509804%,74.509804%,74.509804%);stroke-opacity:1;stroke-miterlimit:10;\" d=\"M 239.910156 214.558594 L 239.910156 209.894531 \"/>\n",
       "<path style=\"fill:none;stroke-width:0.5;stroke-linecap:round;stroke-linejoin:round;stroke:rgb(74.509804%,74.509804%,74.509804%);stroke-opacity:1;stroke-miterlimit:10;\" d=\"M 243.019531 214.558594 L 243.019531 209.894531 \"/>\n",
       "<path style=\"fill:none;stroke-width:0.5;stroke-linecap:round;stroke-linejoin:round;stroke:rgb(74.509804%,74.509804%,74.509804%);stroke-opacity:1;stroke-miterlimit:10;\" d=\"M 243.714844 214.558594 L 243.714844 209.894531 \"/>\n",
       "<path style=\"fill:none;stroke-width:0.5;stroke-linecap:round;stroke-linejoin:round;stroke:rgb(74.509804%,74.509804%,74.509804%);stroke-opacity:1;stroke-miterlimit:10;\" d=\"M 244.132812 214.558594 L 244.132812 209.894531 \"/>\n",
       "<path style=\"fill:none;stroke-width:0.5;stroke-linecap:round;stroke-linejoin:round;stroke:rgb(74.509804%,74.509804%,74.509804%);stroke-opacity:1;stroke-miterlimit:10;\" d=\"M 244.460938 214.558594 L 244.460938 209.894531 \"/>\n",
       "<path style=\"fill:none;stroke-width:0.5;stroke-linecap:round;stroke-linejoin:round;stroke:rgb(74.509804%,74.509804%,74.509804%);stroke-opacity:1;stroke-miterlimit:10;\" d=\"M 244.867188 214.558594 L 244.867188 209.894531 \"/>\n",
       "<path style=\"fill:none;stroke-width:0.5;stroke-linecap:round;stroke-linejoin:round;stroke:rgb(74.509804%,74.509804%,74.509804%);stroke-opacity:1;stroke-miterlimit:10;\" d=\"M 245.003906 214.558594 L 245.003906 209.894531 \"/>\n",
       "<path style=\"fill:none;stroke-width:0.5;stroke-linecap:round;stroke-linejoin:round;stroke:rgb(74.509804%,74.509804%,74.509804%);stroke-opacity:1;stroke-miterlimit:10;\" d=\"M 248.082031 214.558594 L 248.082031 209.894531 \"/>\n",
       "<path style=\"fill:none;stroke-width:0.5;stroke-linecap:round;stroke-linejoin:round;stroke:rgb(74.509804%,74.509804%,74.509804%);stroke-opacity:1;stroke-miterlimit:10;\" d=\"M 249.136719 214.558594 L 249.136719 209.894531 \"/>\n",
       "<path style=\"fill:none;stroke-width:0.5;stroke-linecap:round;stroke-linejoin:round;stroke:rgb(74.509804%,74.509804%,74.509804%);stroke-opacity:1;stroke-miterlimit:10;\" d=\"M 250.398438 214.558594 L 250.398438 209.894531 \"/>\n",
       "<path style=\"fill:none;stroke-width:0.5;stroke-linecap:round;stroke-linejoin:round;stroke:rgb(74.509804%,74.509804%,74.509804%);stroke-opacity:1;stroke-miterlimit:10;\" d=\"M 59.039062 208.800781 L 63.707031 208.800781 \"/>\n",
       "<path style=\"fill:none;stroke-width:0.5;stroke-linecap:round;stroke-linejoin:round;stroke:rgb(74.509804%,74.509804%,74.509804%);stroke-opacity:1;stroke-miterlimit:10;\" d=\"M 59.039062 208.796875 L 63.707031 208.796875 \"/>\n",
       "<path style=\"fill:none;stroke-width:0.5;stroke-linecap:round;stroke-linejoin:round;stroke:rgb(74.509804%,74.509804%,74.509804%);stroke-opacity:1;stroke-miterlimit:10;\" d=\"M 59.039062 208.753906 L 63.707031 208.753906 \"/>\n",
       "<path style=\"fill:none;stroke-width:0.5;stroke-linecap:round;stroke-linejoin:round;stroke:rgb(74.509804%,74.509804%,74.509804%);stroke-opacity:1;stroke-miterlimit:10;\" d=\"M 59.039062 208.742188 L 63.707031 208.742188 \"/>\n",
       "<path style=\"fill:none;stroke-width:0.5;stroke-linecap:round;stroke-linejoin:round;stroke:rgb(74.509804%,74.509804%,74.509804%);stroke-opacity:1;stroke-miterlimit:10;\" d=\"M 59.039062 208.714844 L 63.707031 208.714844 \"/>\n",
       "<path style=\"fill:none;stroke-width:0.5;stroke-linecap:round;stroke-linejoin:round;stroke:rgb(74.509804%,74.509804%,74.509804%);stroke-opacity:1;stroke-miterlimit:10;\" d=\"M 59.039062 208.703125 L 63.707031 208.703125 \"/>\n",
       "<path style=\"fill:none;stroke-width:0.5;stroke-linecap:round;stroke-linejoin:round;stroke:rgb(74.509804%,74.509804%,74.509804%);stroke-opacity:1;stroke-miterlimit:10;\" d=\"M 59.039062 208.675781 L 63.707031 208.675781 \"/>\n",
       "<path style=\"fill:none;stroke-width:0.5;stroke-linecap:round;stroke-linejoin:round;stroke:rgb(74.509804%,74.509804%,74.509804%);stroke-opacity:1;stroke-miterlimit:10;\" d=\"M 59.039062 208.632812 L 63.707031 208.632812 \"/>\n",
       "<path style=\"fill:none;stroke-width:0.5;stroke-linecap:round;stroke-linejoin:round;stroke:rgb(74.509804%,74.509804%,74.509804%);stroke-opacity:1;stroke-miterlimit:10;\" d=\"M 59.039062 208.394531 L 63.707031 208.394531 \"/>\n",
       "<path style=\"fill:none;stroke-width:0.5;stroke-linecap:round;stroke-linejoin:round;stroke:rgb(74.509804%,74.509804%,74.509804%);stroke-opacity:1;stroke-miterlimit:10;\" d=\"M 59.039062 207.925781 L 63.707031 207.925781 \"/>\n",
       "<path style=\"fill:none;stroke-width:0.5;stroke-linecap:round;stroke-linejoin:round;stroke:rgb(74.509804%,74.509804%,74.509804%);stroke-opacity:1;stroke-miterlimit:10;\" d=\"M 59.039062 207.804688 L 63.707031 207.804688 \"/>\n",
       "<path style=\"fill:none;stroke-width:0.5;stroke-linecap:round;stroke-linejoin:round;stroke:rgb(74.509804%,74.509804%,74.509804%);stroke-opacity:1;stroke-miterlimit:10;\" d=\"M 59.039062 207.707031 L 63.707031 207.707031 \"/>\n",
       "<path style=\"fill:none;stroke-width:0.5;stroke-linecap:round;stroke-linejoin:round;stroke:rgb(74.509804%,74.509804%,74.509804%);stroke-opacity:1;stroke-miterlimit:10;\" d=\"M 59.039062 207.671875 L 63.707031 207.671875 \"/>\n",
       "<path style=\"fill:none;stroke-width:0.5;stroke-linecap:round;stroke-linejoin:round;stroke:rgb(74.509804%,74.509804%,74.509804%);stroke-opacity:1;stroke-miterlimit:10;\" d=\"M 59.039062 207.515625 L 63.707031 207.515625 \"/>\n",
       "<path style=\"fill:none;stroke-width:0.5;stroke-linecap:round;stroke-linejoin:round;stroke:rgb(74.509804%,74.509804%,74.509804%);stroke-opacity:1;stroke-miterlimit:10;\" d=\"M 59.039062 207.351562 L 63.707031 207.351562 \"/>\n",
       "<path style=\"fill:none;stroke-width:0.5;stroke-linecap:round;stroke-linejoin:round;stroke:rgb(74.509804%,74.509804%,74.509804%);stroke-opacity:1;stroke-miterlimit:10;\" d=\"M 59.039062 207.320312 L 63.707031 207.320312 \"/>\n",
       "<path style=\"fill:none;stroke-width:0.5;stroke-linecap:round;stroke-linejoin:round;stroke:rgb(74.509804%,74.509804%,74.509804%);stroke-opacity:1;stroke-miterlimit:10;\" d=\"M 59.039062 207.25 L 63.707031 207.25 \"/>\n",
       "<path style=\"fill:none;stroke-width:0.5;stroke-linecap:round;stroke-linejoin:round;stroke:rgb(74.509804%,74.509804%,74.509804%);stroke-opacity:1;stroke-miterlimit:10;\" d=\"M 59.039062 207.15625 L 63.707031 207.15625 \"/>\n",
       "<path style=\"fill:none;stroke-width:0.5;stroke-linecap:round;stroke-linejoin:round;stroke:rgb(74.509804%,74.509804%,74.509804%);stroke-opacity:1;stroke-miterlimit:10;\" d=\"M 59.039062 206.910156 L 63.707031 206.910156 \"/>\n",
       "<path style=\"fill:none;stroke-width:0.5;stroke-linecap:round;stroke-linejoin:round;stroke:rgb(74.509804%,74.509804%,74.509804%);stroke-opacity:1;stroke-miterlimit:10;\" d=\"M 59.039062 206.898438 L 63.707031 206.898438 \"/>\n",
       "<path style=\"fill:none;stroke-width:0.5;stroke-linecap:round;stroke-linejoin:round;stroke:rgb(74.509804%,74.509804%,74.509804%);stroke-opacity:1;stroke-miterlimit:10;\" d=\"M 59.039062 206.808594 L 63.707031 206.808594 \"/>\n",
       "<path style=\"fill:none;stroke-width:0.5;stroke-linecap:round;stroke-linejoin:round;stroke:rgb(74.509804%,74.509804%,74.509804%);stroke-opacity:1;stroke-miterlimit:10;\" d=\"M 59.039062 206.714844 L 63.707031 206.714844 \"/>\n",
       "<path style=\"fill:none;stroke-width:0.5;stroke-linecap:round;stroke-linejoin:round;stroke:rgb(74.509804%,74.509804%,74.509804%);stroke-opacity:1;stroke-miterlimit:10;\" d=\"M 59.039062 206.636719 L 63.707031 206.636719 \"/>\n",
       "<path style=\"fill:none;stroke-width:0.5;stroke-linecap:round;stroke-linejoin:round;stroke:rgb(74.509804%,74.509804%,74.509804%);stroke-opacity:1;stroke-miterlimit:10;\" d=\"M 59.039062 206.445312 L 63.707031 206.445312 \"/>\n",
       "<path style=\"fill:none;stroke-width:0.5;stroke-linecap:round;stroke-linejoin:round;stroke:rgb(74.509804%,74.509804%,74.509804%);stroke-opacity:1;stroke-miterlimit:10;\" d=\"M 59.039062 206.390625 L 63.707031 206.390625 \"/>\n",
       "<path style=\"fill:none;stroke-width:0.5;stroke-linecap:round;stroke-linejoin:round;stroke:rgb(74.509804%,74.509804%,74.509804%);stroke-opacity:1;stroke-miterlimit:10;\" d=\"M 59.039062 206.347656 L 63.707031 206.347656 \"/>\n",
       "<path style=\"fill:none;stroke-width:0.5;stroke-linecap:round;stroke-linejoin:round;stroke:rgb(74.509804%,74.509804%,74.509804%);stroke-opacity:1;stroke-miterlimit:10;\" d=\"M 59.039062 206.125 L 63.707031 206.125 \"/>\n",
       "<path style=\"fill:none;stroke-width:0.5;stroke-linecap:round;stroke-linejoin:round;stroke:rgb(74.509804%,74.509804%,74.509804%);stroke-opacity:1;stroke-miterlimit:10;\" d=\"M 59.039062 206.058594 L 63.707031 206.058594 \"/>\n",
       "<path style=\"fill:none;stroke-width:0.5;stroke-linecap:round;stroke-linejoin:round;stroke:rgb(74.509804%,74.509804%,74.509804%);stroke-opacity:1;stroke-miterlimit:10;\" d=\"M 59.039062 205.820312 L 63.707031 205.820312 \"/>\n",
       "<path style=\"fill:none;stroke-width:0.5;stroke-linecap:round;stroke-linejoin:round;stroke:rgb(74.509804%,74.509804%,74.509804%);stroke-opacity:1;stroke-miterlimit:10;\" d=\"M 59.039062 205.691406 L 63.707031 205.691406 \"/>\n",
       "<path style=\"fill:none;stroke-width:0.5;stroke-linecap:round;stroke-linejoin:round;stroke:rgb(74.509804%,74.509804%,74.509804%);stroke-opacity:1;stroke-miterlimit:10;\" d=\"M 59.039062 205.339844 L 63.707031 205.339844 \"/>\n",
       "<path style=\"fill:none;stroke-width:0.5;stroke-linecap:round;stroke-linejoin:round;stroke:rgb(74.509804%,74.509804%,74.509804%);stroke-opacity:1;stroke-miterlimit:10;\" d=\"M 59.039062 205.273438 L 63.707031 205.273438 \"/>\n",
       "<path style=\"fill:none;stroke-width:0.5;stroke-linecap:round;stroke-linejoin:round;stroke:rgb(74.509804%,74.509804%,74.509804%);stroke-opacity:1;stroke-miterlimit:10;\" d=\"M 59.039062 205.230469 L 63.707031 205.230469 \"/>\n",
       "<path style=\"fill:none;stroke-width:0.5;stroke-linecap:round;stroke-linejoin:round;stroke:rgb(74.509804%,74.509804%,74.509804%);stroke-opacity:1;stroke-miterlimit:10;\" d=\"M 59.039062 204.804688 L 63.707031 204.804688 \"/>\n",
       "<path style=\"fill:none;stroke-width:0.5;stroke-linecap:round;stroke-linejoin:round;stroke:rgb(74.509804%,74.509804%,74.509804%);stroke-opacity:1;stroke-miterlimit:10;\" d=\"M 59.039062 204.785156 L 63.707031 204.785156 \"/>\n",
       "<path style=\"fill:none;stroke-width:0.5;stroke-linecap:round;stroke-linejoin:round;stroke:rgb(74.509804%,74.509804%,74.509804%);stroke-opacity:1;stroke-miterlimit:10;\" d=\"M 59.039062 204.445312 L 63.707031 204.445312 \"/>\n",
       "<path style=\"fill:none;stroke-width:0.5;stroke-linecap:round;stroke-linejoin:round;stroke:rgb(74.509804%,74.509804%,74.509804%);stroke-opacity:1;stroke-miterlimit:10;\" d=\"M 59.039062 204.195312 L 63.707031 204.195312 \"/>\n",
       "<path style=\"fill:none;stroke-width:0.5;stroke-linecap:round;stroke-linejoin:round;stroke:rgb(74.509804%,74.509804%,74.509804%);stroke-opacity:1;stroke-miterlimit:10;\" d=\"M 59.039062 203.886719 L 63.707031 203.886719 \"/>\n",
       "<path style=\"fill:none;stroke-width:0.5;stroke-linecap:round;stroke-linejoin:round;stroke:rgb(74.509804%,74.509804%,74.509804%);stroke-opacity:1;stroke-miterlimit:10;\" d=\"M 59.039062 203 L 63.707031 203 \"/>\n",
       "<path style=\"fill:none;stroke-width:0.5;stroke-linecap:round;stroke-linejoin:round;stroke:rgb(74.509804%,74.509804%,74.509804%);stroke-opacity:1;stroke-miterlimit:10;\" d=\"M 59.039062 202.308594 L 63.707031 202.308594 \"/>\n",
       "<path style=\"fill:none;stroke-width:0.5;stroke-linecap:round;stroke-linejoin:round;stroke:rgb(74.509804%,74.509804%,74.509804%);stroke-opacity:1;stroke-miterlimit:10;\" d=\"M 59.039062 202.308594 L 63.707031 202.308594 \"/>\n",
       "<path style=\"fill:none;stroke-width:0.5;stroke-linecap:round;stroke-linejoin:round;stroke:rgb(74.509804%,74.509804%,74.509804%);stroke-opacity:1;stroke-miterlimit:10;\" d=\"M 59.039062 202.015625 L 63.707031 202.015625 \"/>\n",
       "<path style=\"fill:none;stroke-width:0.5;stroke-linecap:round;stroke-linejoin:round;stroke:rgb(74.509804%,74.509804%,74.509804%);stroke-opacity:1;stroke-miterlimit:10;\" d=\"M 59.039062 202.011719 L 63.707031 202.011719 \"/>\n",
       "<path style=\"fill:none;stroke-width:0.5;stroke-linecap:round;stroke-linejoin:round;stroke:rgb(74.509804%,74.509804%,74.509804%);stroke-opacity:1;stroke-miterlimit:10;\" d=\"M 59.039062 201.394531 L 63.707031 201.394531 \"/>\n",
       "<path style=\"fill:none;stroke-width:0.5;stroke-linecap:round;stroke-linejoin:round;stroke:rgb(74.509804%,74.509804%,74.509804%);stroke-opacity:1;stroke-miterlimit:10;\" d=\"M 59.039062 201.34375 L 63.707031 201.34375 \"/>\n",
       "<path style=\"fill:none;stroke-width:0.5;stroke-linecap:round;stroke-linejoin:round;stroke:rgb(74.509804%,74.509804%,74.509804%);stroke-opacity:1;stroke-miterlimit:10;\" d=\"M 59.039062 201.128906 L 63.707031 201.128906 \"/>\n",
       "<path style=\"fill:none;stroke-width:0.5;stroke-linecap:round;stroke-linejoin:round;stroke:rgb(74.509804%,74.509804%,74.509804%);stroke-opacity:1;stroke-miterlimit:10;\" d=\"M 59.039062 201.121094 L 63.707031 201.121094 \"/>\n",
       "<path style=\"fill:none;stroke-width:0.5;stroke-linecap:round;stroke-linejoin:round;stroke:rgb(74.509804%,74.509804%,74.509804%);stroke-opacity:1;stroke-miterlimit:10;\" d=\"M 59.039062 201.09375 L 63.707031 201.09375 \"/>\n",
       "<path style=\"fill:none;stroke-width:0.5;stroke-linecap:round;stroke-linejoin:round;stroke:rgb(74.509804%,74.509804%,74.509804%);stroke-opacity:1;stroke-miterlimit:10;\" d=\"M 59.039062 201.078125 L 63.707031 201.078125 \"/>\n",
       "<path style=\"fill:none;stroke-width:0.5;stroke-linecap:round;stroke-linejoin:round;stroke:rgb(74.509804%,74.509804%,74.509804%);stroke-opacity:1;stroke-miterlimit:10;\" d=\"M 59.039062 200.859375 L 63.707031 200.859375 \"/>\n",
       "<path style=\"fill:none;stroke-width:0.5;stroke-linecap:round;stroke-linejoin:round;stroke:rgb(74.509804%,74.509804%,74.509804%);stroke-opacity:1;stroke-miterlimit:10;\" d=\"M 59.039062 200.625 L 63.707031 200.625 \"/>\n",
       "<path style=\"fill:none;stroke-width:0.5;stroke-linecap:round;stroke-linejoin:round;stroke:rgb(74.509804%,74.509804%,74.509804%);stroke-opacity:1;stroke-miterlimit:10;\" d=\"M 59.039062 200.277344 L 63.707031 200.277344 \"/>\n",
       "<path style=\"fill:none;stroke-width:0.5;stroke-linecap:round;stroke-linejoin:round;stroke:rgb(74.509804%,74.509804%,74.509804%);stroke-opacity:1;stroke-miterlimit:10;\" d=\"M 59.039062 200.171875 L 63.707031 200.171875 \"/>\n",
       "<path style=\"fill:none;stroke-width:0.5;stroke-linecap:round;stroke-linejoin:round;stroke:rgb(74.509804%,74.509804%,74.509804%);stroke-opacity:1;stroke-miterlimit:10;\" d=\"M 59.039062 199.730469 L 63.707031 199.730469 \"/>\n",
       "<path style=\"fill:none;stroke-width:0.5;stroke-linecap:round;stroke-linejoin:round;stroke:rgb(74.509804%,74.509804%,74.509804%);stroke-opacity:1;stroke-miterlimit:10;\" d=\"M 59.039062 199.351562 L 63.707031 199.351562 \"/>\n",
       "<path style=\"fill:none;stroke-width:0.5;stroke-linecap:round;stroke-linejoin:round;stroke:rgb(74.509804%,74.509804%,74.509804%);stroke-opacity:1;stroke-miterlimit:10;\" d=\"M 59.039062 199.28125 L 63.707031 199.28125 \"/>\n",
       "<path style=\"fill:none;stroke-width:0.5;stroke-linecap:round;stroke-linejoin:round;stroke:rgb(74.509804%,74.509804%,74.509804%);stroke-opacity:1;stroke-miterlimit:10;\" d=\"M 59.039062 198.113281 L 63.707031 198.113281 \"/>\n",
       "<path style=\"fill:none;stroke-width:0.5;stroke-linecap:round;stroke-linejoin:round;stroke:rgb(74.509804%,74.509804%,74.509804%);stroke-opacity:1;stroke-miterlimit:10;\" d=\"M 59.039062 198.023438 L 63.707031 198.023438 \"/>\n",
       "<path style=\"fill:none;stroke-width:0.5;stroke-linecap:round;stroke-linejoin:round;stroke:rgb(74.509804%,74.509804%,74.509804%);stroke-opacity:1;stroke-miterlimit:10;\" d=\"M 59.039062 197.640625 L 63.707031 197.640625 \"/>\n",
       "<path style=\"fill:none;stroke-width:0.5;stroke-linecap:round;stroke-linejoin:round;stroke:rgb(74.509804%,74.509804%,74.509804%);stroke-opacity:1;stroke-miterlimit:10;\" d=\"M 59.039062 197.625 L 63.707031 197.625 \"/>\n",
       "<path style=\"fill:none;stroke-width:0.5;stroke-linecap:round;stroke-linejoin:round;stroke:rgb(74.509804%,74.509804%,74.509804%);stroke-opacity:1;stroke-miterlimit:10;\" d=\"M 59.039062 197.386719 L 63.707031 197.386719 \"/>\n",
       "<path style=\"fill:none;stroke-width:0.5;stroke-linecap:round;stroke-linejoin:round;stroke:rgb(74.509804%,74.509804%,74.509804%);stroke-opacity:1;stroke-miterlimit:10;\" d=\"M 59.039062 197.3125 L 63.707031 197.3125 \"/>\n",
       "<path style=\"fill:none;stroke-width:0.5;stroke-linecap:round;stroke-linejoin:round;stroke:rgb(74.509804%,74.509804%,74.509804%);stroke-opacity:1;stroke-miterlimit:10;\" d=\"M 59.039062 196.609375 L 63.707031 196.609375 \"/>\n",
       "<path style=\"fill:none;stroke-width:0.5;stroke-linecap:round;stroke-linejoin:round;stroke:rgb(74.509804%,74.509804%,74.509804%);stroke-opacity:1;stroke-miterlimit:10;\" d=\"M 59.039062 196.550781 L 63.707031 196.550781 \"/>\n",
       "<path style=\"fill:none;stroke-width:0.5;stroke-linecap:round;stroke-linejoin:round;stroke:rgb(74.509804%,74.509804%,74.509804%);stroke-opacity:1;stroke-miterlimit:10;\" d=\"M 59.039062 196.402344 L 63.707031 196.402344 \"/>\n",
       "<path style=\"fill:none;stroke-width:0.5;stroke-linecap:round;stroke-linejoin:round;stroke:rgb(74.509804%,74.509804%,74.509804%);stroke-opacity:1;stroke-miterlimit:10;\" d=\"M 59.039062 196.003906 L 63.707031 196.003906 \"/>\n",
       "<path style=\"fill:none;stroke-width:0.5;stroke-linecap:round;stroke-linejoin:round;stroke:rgb(74.509804%,74.509804%,74.509804%);stroke-opacity:1;stroke-miterlimit:10;\" d=\"M 59.039062 195.933594 L 63.707031 195.933594 \"/>\n",
       "<path style=\"fill:none;stroke-width:0.5;stroke-linecap:round;stroke-linejoin:round;stroke:rgb(74.509804%,74.509804%,74.509804%);stroke-opacity:1;stroke-miterlimit:10;\" d=\"M 59.039062 195.773438 L 63.707031 195.773438 \"/>\n",
       "<path style=\"fill:none;stroke-width:0.5;stroke-linecap:round;stroke-linejoin:round;stroke:rgb(74.509804%,74.509804%,74.509804%);stroke-opacity:1;stroke-miterlimit:10;\" d=\"M 59.039062 195.738281 L 63.707031 195.738281 \"/>\n",
       "<path style=\"fill:none;stroke-width:0.5;stroke-linecap:round;stroke-linejoin:round;stroke:rgb(74.509804%,74.509804%,74.509804%);stroke-opacity:1;stroke-miterlimit:10;\" d=\"M 59.039062 194.523438 L 63.707031 194.523438 \"/>\n",
       "<path style=\"fill:none;stroke-width:0.5;stroke-linecap:round;stroke-linejoin:round;stroke:rgb(74.509804%,74.509804%,74.509804%);stroke-opacity:1;stroke-miterlimit:10;\" d=\"M 59.039062 194.367188 L 63.707031 194.367188 \"/>\n",
       "<path style=\"fill:none;stroke-width:0.5;stroke-linecap:round;stroke-linejoin:round;stroke:rgb(74.509804%,74.509804%,74.509804%);stroke-opacity:1;stroke-miterlimit:10;\" d=\"M 59.039062 192.894531 L 63.707031 192.894531 \"/>\n",
       "<path style=\"fill:none;stroke-width:0.5;stroke-linecap:round;stroke-linejoin:round;stroke:rgb(74.509804%,74.509804%,74.509804%);stroke-opacity:1;stroke-miterlimit:10;\" d=\"M 59.039062 192.703125 L 63.707031 192.703125 \"/>\n",
       "<path style=\"fill:none;stroke-width:0.5;stroke-linecap:round;stroke-linejoin:round;stroke:rgb(74.509804%,74.509804%,74.509804%);stroke-opacity:1;stroke-miterlimit:10;\" d=\"M 59.039062 192.601562 L 63.707031 192.601562 \"/>\n",
       "<path style=\"fill:none;stroke-width:0.5;stroke-linecap:round;stroke-linejoin:round;stroke:rgb(74.509804%,74.509804%,74.509804%);stroke-opacity:1;stroke-miterlimit:10;\" d=\"M 59.039062 192.214844 L 63.707031 192.214844 \"/>\n",
       "<path style=\"fill:none;stroke-width:0.5;stroke-linecap:round;stroke-linejoin:round;stroke:rgb(74.509804%,74.509804%,74.509804%);stroke-opacity:1;stroke-miterlimit:10;\" d=\"M 59.039062 192.152344 L 63.707031 192.152344 \"/>\n",
       "<path style=\"fill:none;stroke-width:0.5;stroke-linecap:round;stroke-linejoin:round;stroke:rgb(74.509804%,74.509804%,74.509804%);stroke-opacity:1;stroke-miterlimit:10;\" d=\"M 59.039062 190.5 L 63.707031 190.5 \"/>\n",
       "<path style=\"fill:none;stroke-width:0.5;stroke-linecap:round;stroke-linejoin:round;stroke:rgb(74.509804%,74.509804%,74.509804%);stroke-opacity:1;stroke-miterlimit:10;\" d=\"M 59.039062 189.316406 L 63.707031 189.316406 \"/>\n",
       "<path style=\"fill:none;stroke-width:0.5;stroke-linecap:round;stroke-linejoin:round;stroke:rgb(74.509804%,74.509804%,74.509804%);stroke-opacity:1;stroke-miterlimit:10;\" d=\"M 59.039062 189.253906 L 63.707031 189.253906 \"/>\n",
       "<path style=\"fill:none;stroke-width:0.5;stroke-linecap:round;stroke-linejoin:round;stroke:rgb(74.509804%,74.509804%,74.509804%);stroke-opacity:1;stroke-miterlimit:10;\" d=\"M 59.039062 188.835938 L 63.707031 188.835938 \"/>\n",
       "<path style=\"fill:none;stroke-width:0.5;stroke-linecap:round;stroke-linejoin:round;stroke:rgb(74.509804%,74.509804%,74.509804%);stroke-opacity:1;stroke-miterlimit:10;\" d=\"M 59.039062 188.710938 L 63.707031 188.710938 \"/>\n",
       "<path style=\"fill:none;stroke-width:0.5;stroke-linecap:round;stroke-linejoin:round;stroke:rgb(74.509804%,74.509804%,74.509804%);stroke-opacity:1;stroke-miterlimit:10;\" d=\"M 59.039062 187.125 L 63.707031 187.125 \"/>\n",
       "<path style=\"fill:none;stroke-width:0.5;stroke-linecap:round;stroke-linejoin:round;stroke:rgb(74.509804%,74.509804%,74.509804%);stroke-opacity:1;stroke-miterlimit:10;\" d=\"M 59.039062 187.121094 L 63.707031 187.121094 \"/>\n",
       "<path style=\"fill:none;stroke-width:0.5;stroke-linecap:round;stroke-linejoin:round;stroke:rgb(74.509804%,74.509804%,74.509804%);stroke-opacity:1;stroke-miterlimit:10;\" d=\"M 59.039062 187.027344 L 63.707031 187.027344 \"/>\n",
       "<path style=\"fill:none;stroke-width:0.5;stroke-linecap:round;stroke-linejoin:round;stroke:rgb(74.509804%,74.509804%,74.509804%);stroke-opacity:1;stroke-miterlimit:10;\" d=\"M 59.039062 184.59375 L 63.707031 184.59375 \"/>\n",
       "<path style=\"fill:none;stroke-width:0.5;stroke-linecap:round;stroke-linejoin:round;stroke:rgb(74.509804%,74.509804%,74.509804%);stroke-opacity:1;stroke-miterlimit:10;\" d=\"M 59.039062 184.511719 L 63.707031 184.511719 \"/>\n",
       "<path style=\"fill:none;stroke-width:0.5;stroke-linecap:round;stroke-linejoin:round;stroke:rgb(74.509804%,74.509804%,74.509804%);stroke-opacity:1;stroke-miterlimit:10;\" d=\"M 59.039062 183.8125 L 63.707031 183.8125 \"/>\n",
       "<path style=\"fill:none;stroke-width:0.5;stroke-linecap:round;stroke-linejoin:round;stroke:rgb(74.509804%,74.509804%,74.509804%);stroke-opacity:1;stroke-miterlimit:10;\" d=\"M 59.039062 183.226562 L 63.707031 183.226562 \"/>\n",
       "<path style=\"fill:none;stroke-width:0.5;stroke-linecap:round;stroke-linejoin:round;stroke:rgb(74.509804%,74.509804%,74.509804%);stroke-opacity:1;stroke-miterlimit:10;\" d=\"M 59.039062 183.058594 L 63.707031 183.058594 \"/>\n",
       "<path style=\"fill:none;stroke-width:0.5;stroke-linecap:round;stroke-linejoin:round;stroke:rgb(74.509804%,74.509804%,74.509804%);stroke-opacity:1;stroke-miterlimit:10;\" d=\"M 59.039062 182.832031 L 63.707031 182.832031 \"/>\n",
       "<path style=\"fill:none;stroke-width:0.5;stroke-linecap:round;stroke-linejoin:round;stroke:rgb(74.509804%,74.509804%,74.509804%);stroke-opacity:1;stroke-miterlimit:10;\" d=\"M 59.039062 181.632812 L 63.707031 181.632812 \"/>\n",
       "<path style=\"fill:none;stroke-width:0.5;stroke-linecap:round;stroke-linejoin:round;stroke:rgb(74.509804%,74.509804%,74.509804%);stroke-opacity:1;stroke-miterlimit:10;\" d=\"M 59.039062 181.078125 L 63.707031 181.078125 \"/>\n",
       "<path style=\"fill:none;stroke-width:0.5;stroke-linecap:round;stroke-linejoin:round;stroke:rgb(74.509804%,74.509804%,74.509804%);stroke-opacity:1;stroke-miterlimit:10;\" d=\"M 59.039062 180.890625 L 63.707031 180.890625 \"/>\n",
       "<path style=\"fill:none;stroke-width:0.5;stroke-linecap:round;stroke-linejoin:round;stroke:rgb(74.509804%,74.509804%,74.509804%);stroke-opacity:1;stroke-miterlimit:10;\" d=\"M 59.039062 179.898438 L 63.707031 179.898438 \"/>\n",
       "<path style=\"fill:none;stroke-width:0.5;stroke-linecap:round;stroke-linejoin:round;stroke:rgb(74.509804%,74.509804%,74.509804%);stroke-opacity:1;stroke-miterlimit:10;\" d=\"M 59.039062 179.476562 L 63.707031 179.476562 \"/>\n",
       "<path style=\"fill:none;stroke-width:0.5;stroke-linecap:round;stroke-linejoin:round;stroke:rgb(74.509804%,74.509804%,74.509804%);stroke-opacity:1;stroke-miterlimit:10;\" d=\"M 59.039062 179.195312 L 63.707031 179.195312 \"/>\n",
       "<path style=\"fill:none;stroke-width:0.5;stroke-linecap:round;stroke-linejoin:round;stroke:rgb(74.509804%,74.509804%,74.509804%);stroke-opacity:1;stroke-miterlimit:10;\" d=\"M 59.039062 179.191406 L 63.707031 179.191406 \"/>\n",
       "<path style=\"fill:none;stroke-width:0.5;stroke-linecap:round;stroke-linejoin:round;stroke:rgb(74.509804%,74.509804%,74.509804%);stroke-opacity:1;stroke-miterlimit:10;\" d=\"M 59.039062 178.921875 L 63.707031 178.921875 \"/>\n",
       "<path style=\"fill:none;stroke-width:0.5;stroke-linecap:round;stroke-linejoin:round;stroke:rgb(74.509804%,74.509804%,74.509804%);stroke-opacity:1;stroke-miterlimit:10;\" d=\"M 59.039062 178.824219 L 63.707031 178.824219 \"/>\n",
       "<path style=\"fill:none;stroke-width:0.5;stroke-linecap:round;stroke-linejoin:round;stroke:rgb(74.509804%,74.509804%,74.509804%);stroke-opacity:1;stroke-miterlimit:10;\" d=\"M 59.039062 178.382812 L 63.707031 178.382812 \"/>\n",
       "<path style=\"fill:none;stroke-width:0.5;stroke-linecap:round;stroke-linejoin:round;stroke:rgb(74.509804%,74.509804%,74.509804%);stroke-opacity:1;stroke-miterlimit:10;\" d=\"M 59.039062 178.339844 L 63.707031 178.339844 \"/>\n",
       "<path style=\"fill:none;stroke-width:0.5;stroke-linecap:round;stroke-linejoin:round;stroke:rgb(74.509804%,74.509804%,74.509804%);stroke-opacity:1;stroke-miterlimit:10;\" d=\"M 59.039062 178.179688 L 63.707031 178.179688 \"/>\n",
       "<path style=\"fill:none;stroke-width:0.5;stroke-linecap:round;stroke-linejoin:round;stroke:rgb(74.509804%,74.509804%,74.509804%);stroke-opacity:1;stroke-miterlimit:10;\" d=\"M 59.039062 177.859375 L 63.707031 177.859375 \"/>\n",
       "<path style=\"fill:none;stroke-width:0.5;stroke-linecap:round;stroke-linejoin:round;stroke:rgb(74.509804%,74.509804%,74.509804%);stroke-opacity:1;stroke-miterlimit:10;\" d=\"M 59.039062 177.429688 L 63.707031 177.429688 \"/>\n",
       "<path style=\"fill:none;stroke-width:0.5;stroke-linecap:round;stroke-linejoin:round;stroke:rgb(74.509804%,74.509804%,74.509804%);stroke-opacity:1;stroke-miterlimit:10;\" d=\"M 59.039062 176.671875 L 63.707031 176.671875 \"/>\n",
       "<path style=\"fill:none;stroke-width:0.5;stroke-linecap:round;stroke-linejoin:round;stroke:rgb(74.509804%,74.509804%,74.509804%);stroke-opacity:1;stroke-miterlimit:10;\" d=\"M 59.039062 176.371094 L 63.707031 176.371094 \"/>\n",
       "<path style=\"fill:none;stroke-width:0.5;stroke-linecap:round;stroke-linejoin:round;stroke:rgb(74.509804%,74.509804%,74.509804%);stroke-opacity:1;stroke-miterlimit:10;\" d=\"M 59.039062 175.8125 L 63.707031 175.8125 \"/>\n",
       "<path style=\"fill:none;stroke-width:0.5;stroke-linecap:round;stroke-linejoin:round;stroke:rgb(74.509804%,74.509804%,74.509804%);stroke-opacity:1;stroke-miterlimit:10;\" d=\"M 59.039062 175.683594 L 63.707031 175.683594 \"/>\n",
       "<path style=\"fill:none;stroke-width:0.5;stroke-linecap:round;stroke-linejoin:round;stroke:rgb(74.509804%,74.509804%,74.509804%);stroke-opacity:1;stroke-miterlimit:10;\" d=\"M 59.039062 175.550781 L 63.707031 175.550781 \"/>\n",
       "<path style=\"fill:none;stroke-width:0.5;stroke-linecap:round;stroke-linejoin:round;stroke:rgb(74.509804%,74.509804%,74.509804%);stroke-opacity:1;stroke-miterlimit:10;\" d=\"M 59.039062 175.179688 L 63.707031 175.179688 \"/>\n",
       "<path style=\"fill:none;stroke-width:0.5;stroke-linecap:round;stroke-linejoin:round;stroke:rgb(74.509804%,74.509804%,74.509804%);stroke-opacity:1;stroke-miterlimit:10;\" d=\"M 59.039062 174.4375 L 63.707031 174.4375 \"/>\n",
       "<path style=\"fill:none;stroke-width:0.5;stroke-linecap:round;stroke-linejoin:round;stroke:rgb(74.509804%,74.509804%,74.509804%);stroke-opacity:1;stroke-miterlimit:10;\" d=\"M 59.039062 174.242188 L 63.707031 174.242188 \"/>\n",
       "<path style=\"fill:none;stroke-width:0.5;stroke-linecap:round;stroke-linejoin:round;stroke:rgb(74.509804%,74.509804%,74.509804%);stroke-opacity:1;stroke-miterlimit:10;\" d=\"M 59.039062 172.101562 L 63.707031 172.101562 \"/>\n",
       "<path style=\"fill:none;stroke-width:0.5;stroke-linecap:round;stroke-linejoin:round;stroke:rgb(74.509804%,74.509804%,74.509804%);stroke-opacity:1;stroke-miterlimit:10;\" d=\"M 59.039062 171.871094 L 63.707031 171.871094 \"/>\n",
       "<path style=\"fill:none;stroke-width:0.5;stroke-linecap:round;stroke-linejoin:round;stroke:rgb(74.509804%,74.509804%,74.509804%);stroke-opacity:1;stroke-miterlimit:10;\" d=\"M 59.039062 171.667969 L 63.707031 171.667969 \"/>\n",
       "<path style=\"fill:none;stroke-width:0.5;stroke-linecap:round;stroke-linejoin:round;stroke:rgb(74.509804%,74.509804%,74.509804%);stroke-opacity:1;stroke-miterlimit:10;\" d=\"M 59.039062 170.835938 L 63.707031 170.835938 \"/>\n",
       "<path style=\"fill:none;stroke-width:0.5;stroke-linecap:round;stroke-linejoin:round;stroke:rgb(74.509804%,74.509804%,74.509804%);stroke-opacity:1;stroke-miterlimit:10;\" d=\"M 59.039062 170.507812 L 63.707031 170.507812 \"/>\n",
       "<path style=\"fill:none;stroke-width:0.5;stroke-linecap:round;stroke-linejoin:round;stroke:rgb(74.509804%,74.509804%,74.509804%);stroke-opacity:1;stroke-miterlimit:10;\" d=\"M 59.039062 167.664062 L 63.707031 167.664062 \"/>\n",
       "<path style=\"fill:none;stroke-width:0.5;stroke-linecap:round;stroke-linejoin:round;stroke:rgb(74.509804%,74.509804%,74.509804%);stroke-opacity:1;stroke-miterlimit:10;\" d=\"M 59.039062 166.816406 L 63.707031 166.816406 \"/>\n",
       "<path style=\"fill:none;stroke-width:0.5;stroke-linecap:round;stroke-linejoin:round;stroke:rgb(74.509804%,74.509804%,74.509804%);stroke-opacity:1;stroke-miterlimit:10;\" d=\"M 59.039062 166.648438 L 63.707031 166.648438 \"/>\n",
       "<path style=\"fill:none;stroke-width:0.5;stroke-linecap:round;stroke-linejoin:round;stroke:rgb(74.509804%,74.509804%,74.509804%);stroke-opacity:1;stroke-miterlimit:10;\" d=\"M 59.039062 166.285156 L 63.707031 166.285156 \"/>\n",
       "<path style=\"fill:none;stroke-width:0.5;stroke-linecap:round;stroke-linejoin:round;stroke:rgb(74.509804%,74.509804%,74.509804%);stroke-opacity:1;stroke-miterlimit:10;\" d=\"M 59.039062 166.207031 L 63.707031 166.207031 \"/>\n",
       "<path style=\"fill:none;stroke-width:0.5;stroke-linecap:round;stroke-linejoin:round;stroke:rgb(74.509804%,74.509804%,74.509804%);stroke-opacity:1;stroke-miterlimit:10;\" d=\"M 59.039062 165.9375 L 63.707031 165.9375 \"/>\n",
       "<path style=\"fill:none;stroke-width:0.5;stroke-linecap:round;stroke-linejoin:round;stroke:rgb(74.509804%,74.509804%,74.509804%);stroke-opacity:1;stroke-miterlimit:10;\" d=\"M 59.039062 164.894531 L 63.707031 164.894531 \"/>\n",
       "<path style=\"fill:none;stroke-width:0.5;stroke-linecap:round;stroke-linejoin:round;stroke:rgb(74.509804%,74.509804%,74.509804%);stroke-opacity:1;stroke-miterlimit:10;\" d=\"M 59.039062 164.507812 L 63.707031 164.507812 \"/>\n",
       "<path style=\"fill:none;stroke-width:0.5;stroke-linecap:round;stroke-linejoin:round;stroke:rgb(74.509804%,74.509804%,74.509804%);stroke-opacity:1;stroke-miterlimit:10;\" d=\"M 59.039062 164.132812 L 63.707031 164.132812 \"/>\n",
       "<path style=\"fill:none;stroke-width:0.5;stroke-linecap:round;stroke-linejoin:round;stroke:rgb(74.509804%,74.509804%,74.509804%);stroke-opacity:1;stroke-miterlimit:10;\" d=\"M 59.039062 163.273438 L 63.707031 163.273438 \"/>\n",
       "<path style=\"fill:none;stroke-width:0.5;stroke-linecap:round;stroke-linejoin:round;stroke:rgb(74.509804%,74.509804%,74.509804%);stroke-opacity:1;stroke-miterlimit:10;\" d=\"M 59.039062 161.433594 L 63.707031 161.433594 \"/>\n",
       "<path style=\"fill:none;stroke-width:0.5;stroke-linecap:round;stroke-linejoin:round;stroke:rgb(74.509804%,74.509804%,74.509804%);stroke-opacity:1;stroke-miterlimit:10;\" d=\"M 59.039062 160.414062 L 63.707031 160.414062 \"/>\n",
       "<path style=\"fill:none;stroke-width:0.5;stroke-linecap:round;stroke-linejoin:round;stroke:rgb(74.509804%,74.509804%,74.509804%);stroke-opacity:1;stroke-miterlimit:10;\" d=\"M 59.039062 160.167969 L 63.707031 160.167969 \"/>\n",
       "<path style=\"fill:none;stroke-width:0.5;stroke-linecap:round;stroke-linejoin:round;stroke:rgb(74.509804%,74.509804%,74.509804%);stroke-opacity:1;stroke-miterlimit:10;\" d=\"M 59.039062 157.914062 L 63.707031 157.914062 \"/>\n",
       "<path style=\"fill:none;stroke-width:0.5;stroke-linecap:round;stroke-linejoin:round;stroke:rgb(74.509804%,74.509804%,74.509804%);stroke-opacity:1;stroke-miterlimit:10;\" d=\"M 59.039062 157.769531 L 63.707031 157.769531 \"/>\n",
       "<path style=\"fill:none;stroke-width:0.5;stroke-linecap:round;stroke-linejoin:round;stroke:rgb(74.509804%,74.509804%,74.509804%);stroke-opacity:1;stroke-miterlimit:10;\" d=\"M 59.039062 155.671875 L 63.707031 155.671875 \"/>\n",
       "<path style=\"fill:none;stroke-width:0.5;stroke-linecap:round;stroke-linejoin:round;stroke:rgb(74.509804%,74.509804%,74.509804%);stroke-opacity:1;stroke-miterlimit:10;\" d=\"M 59.039062 154.582031 L 63.707031 154.582031 \"/>\n",
       "<path style=\"fill:none;stroke-width:0.5;stroke-linecap:round;stroke-linejoin:round;stroke:rgb(74.509804%,74.509804%,74.509804%);stroke-opacity:1;stroke-miterlimit:10;\" d=\"M 59.039062 153.140625 L 63.707031 153.140625 \"/>\n",
       "<path style=\"fill:none;stroke-width:0.5;stroke-linecap:round;stroke-linejoin:round;stroke:rgb(74.509804%,74.509804%,74.509804%);stroke-opacity:1;stroke-miterlimit:10;\" d=\"M 59.039062 149.832031 L 63.707031 149.832031 \"/>\n",
       "<path style=\"fill:none;stroke-width:0.5;stroke-linecap:round;stroke-linejoin:round;stroke:rgb(74.509804%,74.509804%,74.509804%);stroke-opacity:1;stroke-miterlimit:10;\" d=\"M 59.039062 148.582031 L 63.707031 148.582031 \"/>\n",
       "<path style=\"fill:none;stroke-width:0.5;stroke-linecap:round;stroke-linejoin:round;stroke:rgb(74.509804%,74.509804%,74.509804%);stroke-opacity:1;stroke-miterlimit:10;\" d=\"M 59.039062 147.261719 L 63.707031 147.261719 \"/>\n",
       "<path style=\"fill:none;stroke-width:0.5;stroke-linecap:round;stroke-linejoin:round;stroke:rgb(74.509804%,74.509804%,74.509804%);stroke-opacity:1;stroke-miterlimit:10;\" d=\"M 59.039062 145.207031 L 63.707031 145.207031 \"/>\n",
       "<path style=\"fill:none;stroke-width:0.5;stroke-linecap:round;stroke-linejoin:round;stroke:rgb(74.509804%,74.509804%,74.509804%);stroke-opacity:1;stroke-miterlimit:10;\" d=\"M 59.039062 144.753906 L 63.707031 144.753906 \"/>\n",
       "<path style=\"fill:none;stroke-width:0.5;stroke-linecap:round;stroke-linejoin:round;stroke:rgb(74.509804%,74.509804%,74.509804%);stroke-opacity:1;stroke-miterlimit:10;\" d=\"M 59.039062 144.519531 L 63.707031 144.519531 \"/>\n",
       "<path style=\"fill:none;stroke-width:0.5;stroke-linecap:round;stroke-linejoin:round;stroke:rgb(74.509804%,74.509804%,74.509804%);stroke-opacity:1;stroke-miterlimit:10;\" d=\"M 59.039062 142.875 L 63.707031 142.875 \"/>\n",
       "<path style=\"fill:none;stroke-width:0.5;stroke-linecap:round;stroke-linejoin:round;stroke:rgb(74.509804%,74.509804%,74.509804%);stroke-opacity:1;stroke-miterlimit:10;\" d=\"M 59.039062 136.148438 L 63.707031 136.148438 \"/>\n",
       "<path style=\"fill:none;stroke-width:0.5;stroke-linecap:round;stroke-linejoin:round;stroke:rgb(74.509804%,74.509804%,74.509804%);stroke-opacity:1;stroke-miterlimit:10;\" d=\"M 59.039062 135.695312 L 63.707031 135.695312 \"/>\n",
       "<path style=\"fill:none;stroke-width:0.5;stroke-linecap:round;stroke-linejoin:round;stroke:rgb(74.509804%,74.509804%,74.509804%);stroke-opacity:1;stroke-miterlimit:10;\" d=\"M 59.039062 135.519531 L 63.707031 135.519531 \"/>\n",
       "<path style=\"fill:none;stroke-width:0.5;stroke-linecap:round;stroke-linejoin:round;stroke:rgb(74.509804%,74.509804%,74.509804%);stroke-opacity:1;stroke-miterlimit:10;\" d=\"M 59.039062 134.8125 L 63.707031 134.8125 \"/>\n",
       "<path style=\"fill:none;stroke-width:0.5;stroke-linecap:round;stroke-linejoin:round;stroke:rgb(74.509804%,74.509804%,74.509804%);stroke-opacity:1;stroke-miterlimit:10;\" d=\"M 59.039062 134.324219 L 63.707031 134.324219 \"/>\n",
       "<path style=\"fill:none;stroke-width:0.5;stroke-linecap:round;stroke-linejoin:round;stroke:rgb(74.509804%,74.509804%,74.509804%);stroke-opacity:1;stroke-miterlimit:10;\" d=\"M 59.039062 128.976562 L 63.707031 128.976562 \"/>\n",
       "<path style=\"fill:none;stroke-width:0.5;stroke-linecap:round;stroke-linejoin:round;stroke:rgb(74.509804%,74.509804%,74.509804%);stroke-opacity:1;stroke-miterlimit:10;\" d=\"M 59.039062 128.425781 L 63.707031 128.425781 \"/>\n",
       "<path style=\"fill:none;stroke-width:0.5;stroke-linecap:round;stroke-linejoin:round;stroke:rgb(74.509804%,74.509804%,74.509804%);stroke-opacity:1;stroke-miterlimit:10;\" d=\"M 59.039062 127.863281 L 63.707031 127.863281 \"/>\n",
       "<path style=\"fill:none;stroke-width:0.5;stroke-linecap:round;stroke-linejoin:round;stroke:rgb(74.509804%,74.509804%,74.509804%);stroke-opacity:1;stroke-miterlimit:10;\" d=\"M 59.039062 127.609375 L 63.707031 127.609375 \"/>\n",
       "<path style=\"fill:none;stroke-width:0.5;stroke-linecap:round;stroke-linejoin:round;stroke:rgb(74.509804%,74.509804%,74.509804%);stroke-opacity:1;stroke-miterlimit:10;\" d=\"M 59.039062 127.324219 L 63.707031 127.324219 \"/>\n",
       "<path style=\"fill:none;stroke-width:0.5;stroke-linecap:round;stroke-linejoin:round;stroke:rgb(74.509804%,74.509804%,74.509804%);stroke-opacity:1;stroke-miterlimit:10;\" d=\"M 59.039062 126.335938 L 63.707031 126.335938 \"/>\n",
       "<path style=\"fill:none;stroke-width:0.5;stroke-linecap:round;stroke-linejoin:round;stroke:rgb(74.509804%,74.509804%,74.509804%);stroke-opacity:1;stroke-miterlimit:10;\" d=\"M 59.039062 126.234375 L 63.707031 126.234375 \"/>\n",
       "<path style=\"fill:none;stroke-width:0.5;stroke-linecap:round;stroke-linejoin:round;stroke:rgb(74.509804%,74.509804%,74.509804%);stroke-opacity:1;stroke-miterlimit:10;\" d=\"M 59.039062 126.203125 L 63.707031 126.203125 \"/>\n",
       "<path style=\"fill:none;stroke-width:0.5;stroke-linecap:round;stroke-linejoin:round;stroke:rgb(74.509804%,74.509804%,74.509804%);stroke-opacity:1;stroke-miterlimit:10;\" d=\"M 59.039062 124.050781 L 63.707031 124.050781 \"/>\n",
       "<path style=\"fill:none;stroke-width:0.5;stroke-linecap:round;stroke-linejoin:round;stroke:rgb(74.509804%,74.509804%,74.509804%);stroke-opacity:1;stroke-miterlimit:10;\" d=\"M 59.039062 123.023438 L 63.707031 123.023438 \"/>\n",
       "<path style=\"fill:none;stroke-width:0.5;stroke-linecap:round;stroke-linejoin:round;stroke:rgb(74.509804%,74.509804%,74.509804%);stroke-opacity:1;stroke-miterlimit:10;\" d=\"M 59.039062 121.625 L 63.707031 121.625 \"/>\n",
       "<path style=\"fill:none;stroke-width:0.5;stroke-linecap:round;stroke-linejoin:round;stroke:rgb(74.509804%,74.509804%,74.509804%);stroke-opacity:1;stroke-miterlimit:10;\" d=\"M 59.039062 119.40625 L 63.707031 119.40625 \"/>\n",
       "<path style=\"fill:none;stroke-width:0.5;stroke-linecap:round;stroke-linejoin:round;stroke:rgb(74.509804%,74.509804%,74.509804%);stroke-opacity:1;stroke-miterlimit:10;\" d=\"M 59.039062 119.234375 L 63.707031 119.234375 \"/>\n",
       "<path style=\"fill:none;stroke-width:0.5;stroke-linecap:round;stroke-linejoin:round;stroke:rgb(74.509804%,74.509804%,74.509804%);stroke-opacity:1;stroke-miterlimit:10;\" d=\"M 59.039062 118.78125 L 63.707031 118.78125 \"/>\n",
       "<path style=\"fill:none;stroke-width:0.5;stroke-linecap:round;stroke-linejoin:round;stroke:rgb(74.509804%,74.509804%,74.509804%);stroke-opacity:1;stroke-miterlimit:10;\" d=\"M 59.039062 117.921875 L 63.707031 117.921875 \"/>\n",
       "<path style=\"fill:none;stroke-width:0.5;stroke-linecap:round;stroke-linejoin:round;stroke:rgb(74.509804%,74.509804%,74.509804%);stroke-opacity:1;stroke-miterlimit:10;\" d=\"M 59.039062 113.761719 L 63.707031 113.761719 \"/>\n",
       "<path style=\"fill:none;stroke-width:0.5;stroke-linecap:round;stroke-linejoin:round;stroke:rgb(74.509804%,74.509804%,74.509804%);stroke-opacity:1;stroke-miterlimit:10;\" d=\"M 59.039062 113.40625 L 63.707031 113.40625 \"/>\n",
       "<path style=\"fill:none;stroke-width:0.5;stroke-linecap:round;stroke-linejoin:round;stroke:rgb(74.509804%,74.509804%,74.509804%);stroke-opacity:1;stroke-miterlimit:10;\" d=\"M 59.039062 112.289062 L 63.707031 112.289062 \"/>\n",
       "<path style=\"fill:none;stroke-width:0.5;stroke-linecap:round;stroke-linejoin:round;stroke:rgb(74.509804%,74.509804%,74.509804%);stroke-opacity:1;stroke-miterlimit:10;\" d=\"M 59.039062 109.828125 L 63.707031 109.828125 \"/>\n",
       "<path style=\"fill:none;stroke-width:0.5;stroke-linecap:round;stroke-linejoin:round;stroke:rgb(74.509804%,74.509804%,74.509804%);stroke-opacity:1;stroke-miterlimit:10;\" d=\"M 59.039062 107.519531 L 63.707031 107.519531 \"/>\n",
       "<path style=\"fill:none;stroke-width:0.5;stroke-linecap:round;stroke-linejoin:round;stroke:rgb(74.509804%,74.509804%,74.509804%);stroke-opacity:1;stroke-miterlimit:10;\" d=\"M 59.039062 106.917969 L 63.707031 106.917969 \"/>\n",
       "<path style=\"fill:none;stroke-width:0.5;stroke-linecap:round;stroke-linejoin:round;stroke:rgb(74.509804%,74.509804%,74.509804%);stroke-opacity:1;stroke-miterlimit:10;\" d=\"M 59.039062 106.890625 L 63.707031 106.890625 \"/>\n",
       "<path style=\"fill:none;stroke-width:0.5;stroke-linecap:round;stroke-linejoin:round;stroke:rgb(74.509804%,74.509804%,74.509804%);stroke-opacity:1;stroke-miterlimit:10;\" d=\"M 59.039062 106.292969 L 63.707031 106.292969 \"/>\n",
       "<path style=\"fill:none;stroke-width:0.5;stroke-linecap:round;stroke-linejoin:round;stroke:rgb(74.509804%,74.509804%,74.509804%);stroke-opacity:1;stroke-miterlimit:10;\" d=\"M 59.039062 105.625 L 63.707031 105.625 \"/>\n",
       "<path style=\"fill:none;stroke-width:0.5;stroke-linecap:round;stroke-linejoin:round;stroke:rgb(74.509804%,74.509804%,74.509804%);stroke-opacity:1;stroke-miterlimit:10;\" d=\"M 59.039062 104.800781 L 63.707031 104.800781 \"/>\n",
       "<path style=\"fill:none;stroke-width:0.5;stroke-linecap:round;stroke-linejoin:round;stroke:rgb(74.509804%,74.509804%,74.509804%);stroke-opacity:1;stroke-miterlimit:10;\" d=\"M 59.039062 104.175781 L 63.707031 104.175781 \"/>\n",
       "<path style=\"fill:none;stroke-width:0.5;stroke-linecap:round;stroke-linejoin:round;stroke:rgb(74.509804%,74.509804%,74.509804%);stroke-opacity:1;stroke-miterlimit:10;\" d=\"M 59.039062 103.035156 L 63.707031 103.035156 \"/>\n",
       "<path style=\"fill:none;stroke-width:0.5;stroke-linecap:round;stroke-linejoin:round;stroke:rgb(74.509804%,74.509804%,74.509804%);stroke-opacity:1;stroke-miterlimit:10;\" d=\"M 59.039062 102.039062 L 63.707031 102.039062 \"/>\n",
       "<path style=\"fill:none;stroke-width:0.5;stroke-linecap:round;stroke-linejoin:round;stroke:rgb(74.509804%,74.509804%,74.509804%);stroke-opacity:1;stroke-miterlimit:10;\" d=\"M 59.039062 101.824219 L 63.707031 101.824219 \"/>\n",
       "<path style=\"fill:none;stroke-width:0.5;stroke-linecap:round;stroke-linejoin:round;stroke:rgb(74.509804%,74.509804%,74.509804%);stroke-opacity:1;stroke-miterlimit:10;\" d=\"M 59.039062 100.171875 L 63.707031 100.171875 \"/>\n",
       "<path style=\"fill:none;stroke-width:0.5;stroke-linecap:round;stroke-linejoin:round;stroke:rgb(74.509804%,74.509804%,74.509804%);stroke-opacity:1;stroke-miterlimit:10;\" d=\"M 59.039062 99.75 L 63.707031 99.75 \"/>\n",
       "<path style=\"fill:none;stroke-width:0.5;stroke-linecap:round;stroke-linejoin:round;stroke:rgb(74.509804%,74.509804%,74.509804%);stroke-opacity:1;stroke-miterlimit:10;\" d=\"M 59.039062 98.632812 L 63.707031 98.632812 \"/>\n",
       "<path style=\"fill:none;stroke-width:0.5;stroke-linecap:round;stroke-linejoin:round;stroke:rgb(74.509804%,74.509804%,74.509804%);stroke-opacity:1;stroke-miterlimit:10;\" d=\"M 59.039062 97.84375 L 63.707031 97.84375 \"/>\n",
       "<path style=\"fill:none;stroke-width:0.5;stroke-linecap:round;stroke-linejoin:round;stroke:rgb(74.509804%,74.509804%,74.509804%);stroke-opacity:1;stroke-miterlimit:10;\" d=\"M 59.039062 95.988281 L 63.707031 95.988281 \"/>\n",
       "<path style=\"fill:none;stroke-width:0.5;stroke-linecap:round;stroke-linejoin:round;stroke:rgb(74.509804%,74.509804%,74.509804%);stroke-opacity:1;stroke-miterlimit:10;\" d=\"M 59.039062 93.089844 L 63.707031 93.089844 \"/>\n",
       "<path style=\"fill:none;stroke-width:0.5;stroke-linecap:round;stroke-linejoin:round;stroke:rgb(74.509804%,74.509804%,74.509804%);stroke-opacity:1;stroke-miterlimit:10;\" d=\"M 59.039062 87.214844 L 63.707031 87.214844 \"/>\n",
       "<path style=\"fill:none;stroke-width:0.5;stroke-linecap:round;stroke-linejoin:round;stroke:rgb(74.509804%,74.509804%,74.509804%);stroke-opacity:1;stroke-miterlimit:10;\" d=\"M 59.039062 85.207031 L 63.707031 85.207031 \"/>\n",
       "<path style=\"fill:none;stroke-width:0.5;stroke-linecap:round;stroke-linejoin:round;stroke:rgb(74.509804%,74.509804%,74.509804%);stroke-opacity:1;stroke-miterlimit:10;\" d=\"M 59.039062 83.996094 L 63.707031 83.996094 \"/>\n",
       "<path style=\"fill:none;stroke-width:0.5;stroke-linecap:round;stroke-linejoin:round;stroke:rgb(74.509804%,74.509804%,74.509804%);stroke-opacity:1;stroke-miterlimit:10;\" d=\"M 59.039062 83.246094 L 63.707031 83.246094 \"/>\n",
       "<path style=\"fill:none;stroke-width:0.5;stroke-linecap:round;stroke-linejoin:round;stroke:rgb(74.509804%,74.509804%,74.509804%);stroke-opacity:1;stroke-miterlimit:10;\" d=\"M 59.039062 83.03125 L 63.707031 83.03125 \"/>\n",
       "<path style=\"fill:none;stroke-width:0.5;stroke-linecap:round;stroke-linejoin:round;stroke:rgb(74.509804%,74.509804%,74.509804%);stroke-opacity:1;stroke-miterlimit:10;\" d=\"M 59.039062 82.542969 L 63.707031 82.542969 \"/>\n",
       "<path style=\"fill:none;stroke-width:0.5;stroke-linecap:round;stroke-linejoin:round;stroke:rgb(74.509804%,74.509804%,74.509804%);stroke-opacity:1;stroke-miterlimit:10;\" d=\"M 59.039062 81.84375 L 63.707031 81.84375 \"/>\n",
       "<path style=\"fill:none;stroke-width:0.5;stroke-linecap:round;stroke-linejoin:round;stroke:rgb(74.509804%,74.509804%,74.509804%);stroke-opacity:1;stroke-miterlimit:10;\" d=\"M 59.039062 81.4375 L 63.707031 81.4375 \"/>\n",
       "<path style=\"fill:none;stroke-width:0.5;stroke-linecap:round;stroke-linejoin:round;stroke:rgb(74.509804%,74.509804%,74.509804%);stroke-opacity:1;stroke-miterlimit:10;\" d=\"M 59.039062 81.144531 L 63.707031 81.144531 \"/>\n",
       "<path style=\"fill:none;stroke-width:0.5;stroke-linecap:round;stroke-linejoin:round;stroke:rgb(74.509804%,74.509804%,74.509804%);stroke-opacity:1;stroke-miterlimit:10;\" d=\"M 59.039062 78.90625 L 63.707031 78.90625 \"/>\n",
       "<path style=\"fill:none;stroke-width:0.5;stroke-linecap:round;stroke-linejoin:round;stroke:rgb(74.509804%,74.509804%,74.509804%);stroke-opacity:1;stroke-miterlimit:10;\" d=\"M 59.039062 76.476562 L 63.707031 76.476562 \"/>\n",
       "<path style=\"fill:none;stroke-width:0.5;stroke-linecap:round;stroke-linejoin:round;stroke:rgb(74.509804%,74.509804%,74.509804%);stroke-opacity:1;stroke-miterlimit:10;\" d=\"M 59.039062 74.328125 L 63.707031 74.328125 \"/>\n",
       "<path style=\"fill:none;stroke-width:0.5;stroke-linecap:round;stroke-linejoin:round;stroke:rgb(74.509804%,74.509804%,74.509804%);stroke-opacity:1;stroke-miterlimit:10;\" d=\"M 59.039062 72.753906 L 63.707031 72.753906 \"/>\n",
       "<path style=\"fill:none;stroke-width:0.5;stroke-linecap:round;stroke-linejoin:round;stroke:rgb(74.509804%,74.509804%,74.509804%);stroke-opacity:1;stroke-miterlimit:10;\" d=\"M 59.039062 72.226562 L 63.707031 72.226562 \"/>\n",
       "<path style=\"fill:none;stroke-width:0.5;stroke-linecap:round;stroke-linejoin:round;stroke:rgb(74.509804%,74.509804%,74.509804%);stroke-opacity:1;stroke-miterlimit:10;\" d=\"M 59.039062 72.140625 L 63.707031 72.140625 \"/>\n",
       "<path style=\"fill:none;stroke-width:0.5;stroke-linecap:round;stroke-linejoin:round;stroke:rgb(74.509804%,74.509804%,74.509804%);stroke-opacity:1;stroke-miterlimit:10;\" d=\"M 59.039062 68.984375 L 63.707031 68.984375 \"/>\n",
       "<path style=\"fill:none;stroke-width:0.5;stroke-linecap:round;stroke-linejoin:round;stroke:rgb(74.509804%,74.509804%,74.509804%);stroke-opacity:1;stroke-miterlimit:10;\" d=\"M 59.039062 65.066406 L 63.707031 65.066406 \"/>\n",
       "<path style=\"fill:none;stroke-width:0.5;stroke-linecap:round;stroke-linejoin:round;stroke:rgb(74.509804%,74.509804%,74.509804%);stroke-opacity:1;stroke-miterlimit:10;\" d=\"M 59.039062 64.800781 L 63.707031 64.800781 \"/>\n",
       "</g>\n",
       "</svg>\n"
      ],
      "text/plain": [
       "plot without title"
      ]
     },
     "metadata": {
      "image/svg+xml": {
       "isolated": true
      }
     },
     "output_type": "display_data"
    }
   ],
   "source": [
    "x <- runif(200,min=-1,max=1)\n",
    "y <- x^2\n",
    "plot(x,y,pch=16)\n",
    "rug(x,side=1,col=\"grey\")\n",
    "rug(y,side=2,col=\"grey\")\n",
    "cor(x,y)\n",
    "chisq.test(x,y)"
   ]
  },
  {
   "cell_type": "markdown",
   "metadata": {
    "deletable": true,
    "editable": true
   },
   "source": [
    "and compare it with $y=x$"
   ]
  },
  {
   "cell_type": "code",
   "execution_count": 117,
   "metadata": {
    "collapsed": false,
    "deletable": true,
    "editable": true
   },
   "outputs": [
    {
     "data": {
      "text/html": [
       "1"
      ],
      "text/latex": [
       "1"
      ],
      "text/markdown": [
       "1"
      ],
      "text/plain": [
       "[1] 1"
      ]
     },
     "execution_count": 117,
     "metadata": {},
     "output_type": "execute_result"
    },
    {
     "name": "stderr",
     "output_type": "stream",
     "text": [
      "Warning message:\n",
      "In chisq.test(x, y): Chi-squared approximation may be incorrect"
     ]
    },
    {
     "data": {
      "text/plain": [
       "\n",
       "\tPearson's Chi-squared test\n",
       "\n",
       "data:  x and y\n",
       "X-squared = 39800, df = 39601, p-value = 0.2394\n"
      ]
     },
     "execution_count": 117,
     "metadata": {},
     "output_type": "execute_result"
    },
    {
     "data": {
      "image/png": "[encoded data removed]",
      "image/svg+xml": [
       "<?xml version=\"1.0\" encoding=\"UTF-8\"?>\n",
       "<svg xmlns=\"http://www.w3.org/2000/svg\" xmlns:xlink=\"http://www.w3.org/1999/xlink\" width=\"288pt\" height=\"288pt\" viewBox=\"0 0 288 288\" version=\"1.1\">\n",
       "<defs>\n",
       "<g>\n",
       "<symbol overflow=\"visible\" id=\"glyph0-0\">\n",
       "<path style=\"stroke:none;\" d=\"M 0.40625 0 L 0.40625 -8.96875 L 7.515625 -8.96875 L 7.515625 0 Z M 6.390625 -1.125 L 6.390625 -7.84375 L 1.53125 -7.84375 L 1.53125 -1.125 Z \"/>\n",
       "</symbol>\n",
       "<symbol overflow=\"visible\" id=\"glyph0-1\">\n",
       "<path style=\"stroke:none;\" d=\"M 0.515625 -4.046875 L 3.578125 -4.046875 L 3.578125 -2.921875 L 0.515625 -2.921875 Z \"/>\n",
       "</symbol>\n",
       "<symbol overflow=\"visible\" id=\"glyph0-2\">\n",
       "<path style=\"stroke:none;\" d=\"M 1.203125 -6.1875 L 1.203125 -7.03125 C 1.992188 -7.101562 2.546875 -7.226562 2.859375 -7.40625 C 3.171875 -7.59375 3.40625 -8.023438 3.5625 -8.703125 L 4.421875 -8.703125 L 4.421875 0 L 3.25 0 L 3.25 -6.1875 Z \"/>\n",
       "</symbol>\n",
       "<symbol overflow=\"visible\" id=\"glyph0-3\">\n",
       "<path style=\"stroke:none;\" d=\"M 1.0625 -1.328125 L 2.34375 -1.328125 L 2.34375 0 L 1.0625 0 Z \"/>\n",
       "</symbol>\n",
       "<symbol overflow=\"visible\" id=\"glyph0-4\">\n",
       "<path style=\"stroke:none;\" d=\"M 3.375 -8.734375 C 4.507812 -8.734375 5.328125 -8.269531 5.828125 -7.34375 C 6.222656 -6.625 6.421875 -5.632812 6.421875 -4.375 C 6.421875 -3.1875 6.242188 -2.207031 5.890625 -1.4375 C 5.378906 -0.320312 4.539062 0.234375 3.375 0.234375 C 2.320312 0.234375 1.539062 -0.21875 1.03125 -1.125 C 0.601562 -1.882812 0.390625 -2.90625 0.390625 -4.1875 C 0.390625 -5.1875 0.519531 -6.039062 0.78125 -6.75 C 1.257812 -8.070312 2.125 -8.734375 3.375 -8.734375 Z M 3.375 -0.765625 C 3.9375 -0.765625 4.382812 -1.015625 4.71875 -1.515625 C 5.0625 -2.023438 5.234375 -2.96875 5.234375 -4.34375 C 5.234375 -5.332031 5.109375 -6.144531 4.859375 -6.78125 C 4.617188 -7.425781 4.148438 -7.75 3.453125 -7.75 C 2.804688 -7.75 2.332031 -7.441406 2.03125 -6.828125 C 1.726562 -6.222656 1.578125 -5.332031 1.578125 -4.15625 C 1.578125 -3.257812 1.675781 -2.539062 1.875 -2 C 2.164062 -1.175781 2.664062 -0.765625 3.375 -0.765625 Z \"/>\n",
       "</symbol>\n",
       "<symbol overflow=\"visible\" id=\"glyph0-5\">\n",
       "<path style=\"stroke:none;\" d=\"M 1.546875 -2.234375 C 1.617188 -1.597656 1.910156 -1.160156 2.421875 -0.921875 C 2.679688 -0.804688 2.984375 -0.75 3.328125 -0.75 C 3.972656 -0.75 4.453125 -0.953125 4.765625 -1.359375 C 5.078125 -1.773438 5.234375 -2.238281 5.234375 -2.75 C 5.234375 -3.351562 5.046875 -3.820312 4.671875 -4.15625 C 4.304688 -4.488281 3.863281 -4.65625 3.34375 -4.65625 C 2.957031 -4.65625 2.628906 -4.582031 2.359375 -4.4375 C 2.085938 -4.289062 1.859375 -4.085938 1.671875 -3.828125 L 0.71875 -3.890625 L 1.390625 -8.59375 L 5.921875 -8.59375 L 5.921875 -7.53125 L 2.203125 -7.53125 L 1.84375 -5.109375 C 2.039062 -5.253906 2.234375 -5.367188 2.421875 -5.453125 C 2.742188 -5.585938 3.117188 -5.65625 3.546875 -5.65625 C 4.347656 -5.65625 5.023438 -5.394531 5.578125 -4.875 C 6.140625 -4.363281 6.421875 -3.707031 6.421875 -2.90625 C 6.421875 -2.082031 6.164062 -1.351562 5.65625 -0.71875 C 5.144531 -0.09375 4.328125 0.21875 3.203125 0.21875 C 2.492188 0.21875 1.863281 0.0195312 1.3125 -0.375 C 0.769531 -0.78125 0.46875 -1.398438 0.40625 -2.234375 Z \"/>\n",
       "</symbol>\n",
       "<symbol overflow=\"visible\" id=\"glyph0-6\">\n",
       "<path style=\"stroke:none;\" d=\"M 0.1875 -6.53125 L 1.609375 -6.53125 L 3.109375 -4.234375 L 4.625 -6.53125 L 5.96875 -6.5 L 3.765625 -3.34375 L 6.0625 0 L 4.65625 0 L 3.03125 -2.453125 L 1.453125 0 L 0.0625 0 L 2.375 -3.34375 Z \"/>\n",
       "</symbol>\n",
       "<symbol overflow=\"visible\" id=\"glyph1-0\">\n",
       "<path style=\"stroke:none;\" d=\"M 0 -0.40625 L -8.96875 -0.40625 L -8.96875 -7.515625 L 0 -7.515625 Z M -1.125 -6.390625 L -7.84375 -6.390625 L -7.84375 -1.53125 L -1.125 -1.53125 Z \"/>\n",
       "</symbol>\n",
       "<symbol overflow=\"visible\" id=\"glyph1-1\">\n",
       "<path style=\"stroke:none;\" d=\"M -4.046875 -0.515625 L -4.046875 -3.578125 L -2.921875 -3.578125 L -2.921875 -0.515625 Z \"/>\n",
       "</symbol>\n",
       "<symbol overflow=\"visible\" id=\"glyph1-2\">\n",
       "<path style=\"stroke:none;\" d=\"M -6.1875 -1.203125 L -7.03125 -1.203125 C -7.101562 -1.992188 -7.226562 -2.546875 -7.40625 -2.859375 C -7.59375 -3.171875 -8.023438 -3.40625 -8.703125 -3.5625 L -8.703125 -4.421875 L 0 -4.421875 L 0 -3.25 L -6.1875 -3.25 Z \"/>\n",
       "</symbol>\n",
       "<symbol overflow=\"visible\" id=\"glyph1-3\">\n",
       "<path style=\"stroke:none;\" d=\"M -1.328125 -1.0625 L -1.328125 -2.34375 L 0 -2.34375 L 0 -1.0625 Z \"/>\n",
       "</symbol>\n",
       "<symbol overflow=\"visible\" id=\"glyph1-4\">\n",
       "<path style=\"stroke:none;\" d=\"M -8.734375 -3.375 C -8.734375 -4.507812 -8.269531 -5.328125 -7.34375 -5.828125 C -6.625 -6.222656 -5.632812 -6.421875 -4.375 -6.421875 C -3.1875 -6.421875 -2.207031 -6.242188 -1.4375 -5.890625 C -0.320312 -5.378906 0.234375 -4.539062 0.234375 -3.375 C 0.234375 -2.320312 -0.21875 -1.539062 -1.125 -1.03125 C -1.882812 -0.601562 -2.90625 -0.390625 -4.1875 -0.390625 C -5.1875 -0.390625 -6.039062 -0.519531 -6.75 -0.78125 C -8.070312 -1.257812 -8.734375 -2.125 -8.734375 -3.375 Z M -0.765625 -3.375 C -0.765625 -3.9375 -1.015625 -4.382812 -1.515625 -4.71875 C -2.023438 -5.0625 -2.96875 -5.234375 -4.34375 -5.234375 C -5.332031 -5.234375 -6.144531 -5.109375 -6.78125 -4.859375 C -7.425781 -4.617188 -7.75 -4.148438 -7.75 -3.453125 C -7.75 -2.804688 -7.441406 -2.332031 -6.828125 -2.03125 C -6.222656 -1.726562 -5.332031 -1.578125 -4.15625 -1.578125 C -3.257812 -1.578125 -2.539062 -1.675781 -2 -1.875 C -1.175781 -2.164062 -0.765625 -2.664062 -0.765625 -3.375 Z \"/>\n",
       "</symbol>\n",
       "<symbol overflow=\"visible\" id=\"glyph1-5\">\n",
       "<path style=\"stroke:none;\" d=\"M -2.234375 -1.546875 C -1.597656 -1.617188 -1.160156 -1.910156 -0.921875 -2.421875 C -0.804688 -2.679688 -0.75 -2.984375 -0.75 -3.328125 C -0.75 -3.972656 -0.953125 -4.453125 -1.359375 -4.765625 C -1.773438 -5.078125 -2.238281 -5.234375 -2.75 -5.234375 C -3.351562 -5.234375 -3.820312 -5.046875 -4.15625 -4.671875 C -4.488281 -4.304688 -4.65625 -3.863281 -4.65625 -3.34375 C -4.65625 -2.957031 -4.582031 -2.628906 -4.4375 -2.359375 C -4.289062 -2.085938 -4.085938 -1.859375 -3.828125 -1.671875 L -3.890625 -0.71875 L -8.59375 -1.390625 L -8.59375 -5.921875 L -7.53125 -5.921875 L -7.53125 -2.203125 L -5.109375 -1.84375 C -5.253906 -2.039062 -5.367188 -2.234375 -5.453125 -2.421875 C -5.585938 -2.742188 -5.65625 -3.117188 -5.65625 -3.546875 C -5.65625 -4.347656 -5.394531 -5.023438 -4.875 -5.578125 C -4.363281 -6.140625 -3.707031 -6.421875 -2.90625 -6.421875 C -2.082031 -6.421875 -1.351562 -6.164062 -0.71875 -5.65625 C -0.09375 -5.144531 0.21875 -4.328125 0.21875 -3.203125 C 0.21875 -2.492188 0.0195312 -1.863281 -0.375 -1.3125 C -0.78125 -0.769531 -1.398438 -0.46875 -2.234375 -0.40625 Z \"/>\n",
       "</symbol>\n",
       "<symbol overflow=\"visible\" id=\"glyph1-6\">\n",
       "<path style=\"stroke:none;\" d=\"M -6.53125 -4.890625 L -6.53125 -6.109375 C -6.113281 -5.953125 -5.160156 -5.609375 -3.671875 -5.078125 C -2.546875 -4.671875 -1.628906 -4.335938 -0.921875 -4.078125 C 0.742188 -3.441406 1.757812 -2.992188 2.125 -2.734375 C 2.488281 -2.472656 2.671875 -2.023438 2.671875 -1.390625 C 2.671875 -1.234375 2.664062 -1.113281 2.65625 -1.03125 C 2.644531 -0.945312 2.625 -0.84375 2.59375 -0.71875 L 1.59375 -0.71875 C 1.644531 -0.90625 1.675781 -1.039062 1.6875 -1.125 C 1.695312 -1.21875 1.703125 -1.296875 1.703125 -1.359375 C 1.703125 -1.566406 1.664062 -1.71875 1.59375 -1.8125 C 1.53125 -1.90625 1.453125 -1.984375 1.359375 -2.046875 C 1.328125 -2.066406 1.160156 -2.140625 0.859375 -2.265625 C 0.554688 -2.390625 0.332031 -2.484375 0.1875 -2.546875 L -6.53125 -0.125 L -6.53125 -1.375 L -1.21875 -3.125 Z M -6.703125 -3.125 Z \"/>\n",
       "</symbol>\n",
       "</g>\n",
       "</defs>\n",
       "<g id=\"surface1005\">\n",
       "<rect x=\"0\" y=\"0\" width=\"288\" height=\"288\" style=\"fill:rgb(100%,100%,100%);fill-opacity:1;stroke:none;\"/>\n",
       "<path style=\" stroke:none;fill-rule:nonzero;fill:rgb(0%,0%,0%);fill-opacity:1;\" d=\"M 83.382812 198.011719 C 83.382812 202.28125 76.984375 202.28125 76.984375 198.011719 C 76.984375 193.746094 83.382812 193.746094 83.382812 198.011719 \"/>\n",
       "<path style=\" stroke:none;fill-rule:nonzero;fill:rgb(0%,0%,0%);fill-opacity:1;\" d=\"M 126.746094 164.078125 C 126.746094 168.34375 120.34375 168.34375 120.34375 164.078125 C 120.34375 159.8125 126.746094 159.8125 126.746094 164.078125 \"/>\n",
       "<path style=\" stroke:none;fill-rule:nonzero;fill:rgb(0%,0%,0%);fill-opacity:1;\" d=\"M 99.503906 185.398438 C 99.503906 189.664062 93.101562 189.664062 93.101562 185.398438 C 93.101562 181.132812 99.503906 181.132812 99.503906 185.398438 \"/>\n",
       "<path style=\" stroke:none;fill-rule:nonzero;fill:rgb(0%,0%,0%);fill-opacity:1;\" d=\"M 71.925781 206.980469 C 71.925781 211.246094 65.527344 211.246094 65.527344 206.980469 C 65.527344 202.714844 71.925781 202.714844 71.925781 206.980469 \"/>\n",
       "<path style=\" stroke:none;fill-rule:nonzero;fill:rgb(0%,0%,0%);fill-opacity:1;\" d=\"M 176.96875 124.769531 C 176.96875 129.039062 170.570312 129.039062 170.570312 124.769531 C 170.570312 120.503906 176.96875 120.503906 176.96875 124.769531 \"/>\n",
       "<path style=\" stroke:none;fill-rule:nonzero;fill:rgb(0%,0%,0%);fill-opacity:1;\" d=\"M 158.457031 139.257812 C 158.457031 143.527344 152.058594 143.527344 152.058594 139.257812 C 152.058594 134.992188 158.457031 134.992188 158.457031 139.257812 \"/>\n",
       "<path style=\" stroke:none;fill-rule:nonzero;fill:rgb(0%,0%,0%);fill-opacity:1;\" d=\"M 150.714844 145.320312 C 150.714844 149.585938 144.3125 149.585938 144.3125 145.320312 C 144.3125 141.054688 150.714844 141.054688 150.714844 145.320312 \"/>\n",
       "<path style=\" stroke:none;fill-rule:nonzero;fill:rgb(0%,0%,0%);fill-opacity:1;\" d=\"M 175.523438 125.902344 C 175.523438 130.171875 169.125 130.171875 169.125 125.902344 C 169.125 121.636719 175.523438 121.636719 175.523438 125.902344 \"/>\n",
       "<path style=\" stroke:none;fill-rule:nonzero;fill:rgb(0%,0%,0%);fill-opacity:1;\" d=\"M 182.78125 120.222656 C 182.78125 124.488281 176.382812 124.488281 176.382812 120.222656 C 176.382812 115.957031 182.78125 115.957031 182.78125 120.222656 \"/>\n",
       "<path style=\" stroke:none;fill-rule:nonzero;fill:rgb(0%,0%,0%);fill-opacity:1;\" d=\"M 240.765625 74.84375 C 240.765625 79.109375 234.367188 79.109375 234.367188 74.84375 C 234.367188 70.578125 240.765625 70.578125 240.765625 74.84375 \"/>\n",
       "<path style=\" stroke:none;fill-rule:nonzero;fill:rgb(0%,0%,0%);fill-opacity:1;\" d=\"M 252.285156 65.828125 C 252.285156 70.09375 245.886719 70.09375 245.886719 65.828125 C 245.886719 61.5625 252.285156 61.5625 252.285156 65.828125 \"/>\n",
       "<path style=\" stroke:none;fill-rule:nonzero;fill:rgb(0%,0%,0%);fill-opacity:1;\" d=\"M 118.421875 170.589844 C 118.421875 174.855469 112.023438 174.855469 112.023438 170.589844 C 112.023438 166.324219 118.421875 166.324219 118.421875 170.589844 \"/>\n",
       "<path style=\" stroke:none;fill-rule:nonzero;fill:rgb(0%,0%,0%);fill-opacity:1;\" d=\"M 224.960938 87.214844 C 224.960938 91.480469 218.558594 91.480469 218.558594 87.214844 C 218.558594 82.945312 224.960938 82.945312 224.960938 87.214844 \"/>\n",
       "<path style=\" stroke:none;fill-rule:nonzero;fill:rgb(0%,0%,0%);fill-opacity:1;\" d=\"M 238.601562 76.535156 C 238.601562 80.804688 232.203125 80.804688 232.203125 76.535156 C 232.203125 72.269531 238.601562 72.269531 238.601562 76.535156 \"/>\n",
       "<path style=\" stroke:none;fill-rule:nonzero;fill:rgb(0%,0%,0%);fill-opacity:1;\" d=\"M 157.710938 139.84375 C 157.710938 144.109375 151.308594 144.109375 151.308594 139.84375 C 151.308594 135.578125 157.710938 135.578125 157.710938 139.84375 \"/>\n",
       "<path style=\" stroke:none;fill-rule:nonzero;fill:rgb(0%,0%,0%);fill-opacity:1;\" d=\"M 204.730469 103.042969 C 204.730469 107.3125 198.332031 107.3125 198.332031 103.042969 C 198.332031 98.777344 204.730469 98.777344 204.730469 103.042969 \"/>\n",
       "<path style=\" stroke:none;fill-rule:nonzero;fill:rgb(0%,0%,0%);fill-opacity:1;\" d=\"M 176.523438 125.121094 C 176.523438 129.390625 170.121094 129.390625 170.121094 125.121094 C 170.121094 120.855469 176.523438 120.855469 176.523438 125.121094 \"/>\n",
       "<path style=\" stroke:none;fill-rule:nonzero;fill:rgb(0%,0%,0%);fill-opacity:1;\" d=\"M 121.734375 168 C 121.734375 172.265625 115.332031 172.265625 115.332031 168 C 115.332031 163.734375 121.734375 163.734375 121.734375 168 \"/>\n",
       "<path style=\" stroke:none;fill-rule:nonzero;fill:rgb(0%,0%,0%);fill-opacity:1;\" d=\"M 90.84375 192.175781 C 90.84375 196.441406 84.445312 196.441406 84.445312 192.175781 C 84.445312 187.90625 90.84375 187.90625 90.84375 192.175781 \"/>\n",
       "<path style=\" stroke:none;fill-rule:nonzero;fill:rgb(0%,0%,0%);fill-opacity:1;\" d=\"M 135.890625 156.921875 C 135.890625 161.1875 129.492188 161.1875 129.492188 156.921875 C 129.492188 152.652344 135.890625 152.652344 135.890625 156.921875 \"/>\n",
       "<path style=\" stroke:none;fill-rule:nonzero;fill:rgb(0%,0%,0%);fill-opacity:1;\" d=\"M 117.148438 171.589844 C 117.148438 175.855469 110.746094 175.855469 110.746094 171.589844 C 110.746094 167.320312 117.148438 167.320312 117.148438 171.589844 \"/>\n",
       "<path style=\" stroke:none;fill-rule:nonzero;fill:rgb(0%,0%,0%);fill-opacity:1;\" d=\"M 238.59375 76.542969 C 238.59375 80.808594 232.195312 80.808594 232.195312 76.542969 C 232.195312 72.277344 238.59375 72.277344 238.59375 76.542969 \"/>\n",
       "<path style=\" stroke:none;fill-rule:nonzero;fill:rgb(0%,0%,0%);fill-opacity:1;\" d=\"M 143.003906 151.351562 C 143.003906 155.621094 136.605469 155.621094 136.605469 151.351562 C 136.605469 147.085938 143.003906 147.085938 143.003906 151.351562 \"/>\n",
       "<path style=\" stroke:none;fill-rule:nonzero;fill:rgb(0%,0%,0%);fill-opacity:1;\" d=\"M 84.839844 196.875 C 84.839844 201.140625 78.441406 201.140625 78.441406 196.875 C 78.441406 192.605469 84.839844 192.605469 84.839844 196.875 \"/>\n",
       "<path style=\" stroke:none;fill-rule:nonzero;fill:rgb(0%,0%,0%);fill-opacity:1;\" d=\"M 190.515625 114.171875 C 190.515625 118.4375 184.117188 118.4375 184.117188 114.171875 C 184.117188 109.902344 190.515625 109.902344 190.515625 114.171875 \"/>\n",
       "<path style=\" stroke:none;fill-rule:nonzero;fill:rgb(0%,0%,0%);fill-opacity:1;\" d=\"M 150.785156 145.261719 C 150.785156 149.53125 144.386719 149.53125 144.386719 145.261719 C 144.386719 140.996094 150.785156 140.996094 150.785156 145.261719 \"/>\n",
       "<path style=\" stroke:none;fill-rule:nonzero;fill:rgb(0%,0%,0%);fill-opacity:1;\" d=\"M 211.867188 97.460938 C 211.867188 101.726562 205.46875 101.726562 205.46875 97.460938 C 205.46875 93.195312 211.867188 93.195312 211.867188 97.460938 \"/>\n",
       "<path style=\" stroke:none;fill-rule:nonzero;fill:rgb(0%,0%,0%);fill-opacity:1;\" d=\"M 218.960938 91.90625 C 218.960938 96.175781 212.5625 96.175781 212.5625 91.90625 C 212.5625 87.640625 218.960938 87.640625 218.960938 91.90625 \"/>\n",
       "<path style=\" stroke:none;fill-rule:nonzero;fill:rgb(0%,0%,0%);fill-opacity:1;\" d=\"M 82.1875 198.949219 C 82.1875 203.214844 75.789062 203.214844 75.789062 198.949219 C 75.789062 194.683594 82.1875 194.683594 82.1875 198.949219 \"/>\n",
       "<path style=\" stroke:none;fill-rule:nonzero;fill:rgb(0%,0%,0%);fill-opacity:1;\" d=\"M 213.355469 96.292969 C 213.355469 100.5625 206.957031 100.5625 206.957031 96.292969 C 206.957031 92.027344 213.355469 92.027344 213.355469 96.292969 \"/>\n",
       "<path style=\" stroke:none;fill-rule:nonzero;fill:rgb(0%,0%,0%);fill-opacity:1;\" d=\"M 147.273438 148.011719 C 147.273438 152.277344 140.875 152.277344 140.875 148.011719 C 140.875 143.746094 147.273438 143.746094 147.273438 148.011719 \"/>\n",
       "<path style=\" stroke:none;fill-rule:nonzero;fill:rgb(0%,0%,0%);fill-opacity:1;\" d=\"M 104.296875 181.644531 C 104.296875 185.914062 97.898438 185.914062 97.898438 181.644531 C 97.898438 177.378906 104.296875 177.378906 104.296875 181.644531 \"/>\n",
       "<path style=\" stroke:none;fill-rule:nonzero;fill:rgb(0%,0%,0%);fill-opacity:1;\" d=\"M 114.785156 173.4375 C 114.785156 177.703125 108.386719 177.703125 108.386719 173.4375 C 108.386719 169.171875 114.785156 169.171875 114.785156 173.4375 \"/>\n",
       "<path style=\" stroke:none;fill-rule:nonzero;fill:rgb(0%,0%,0%);fill-opacity:1;\" d=\"M 237.71875 77.226562 C 237.71875 81.492188 231.320312 81.492188 231.320312 77.226562 C 231.320312 72.960938 237.71875 72.960938 237.71875 77.226562 \"/>\n",
       "<path style=\" stroke:none;fill-rule:nonzero;fill:rgb(0%,0%,0%);fill-opacity:1;\" d=\"M 150.230469 145.699219 C 150.230469 149.964844 143.828125 149.964844 143.828125 145.699219 C 143.828125 141.433594 150.230469 141.433594 150.230469 145.699219 \"/>\n",
       "<path style=\" stroke:none;fill-rule:nonzero;fill:rgb(0%,0%,0%);fill-opacity:1;\" d=\"M 175.484375 125.933594 C 175.484375 130.203125 169.082031 130.203125 169.082031 125.933594 C 169.082031 121.667969 175.484375 121.667969 175.484375 125.933594 \"/>\n",
       "<path style=\" stroke:none;fill-rule:nonzero;fill:rgb(0%,0%,0%);fill-opacity:1;\" d=\"M 161.386719 136.96875 C 161.386719 141.234375 154.984375 141.234375 154.984375 136.96875 C 154.984375 132.703125 161.386719 132.703125 161.386719 136.96875 \"/>\n",
       "<path style=\" stroke:none;fill-rule:nonzero;fill:rgb(0%,0%,0%);fill-opacity:1;\" d=\"M 227.992188 84.839844 C 227.992188 89.109375 221.589844 89.109375 221.589844 84.839844 C 221.589844 80.574219 227.992188 80.574219 227.992188 84.839844 \"/>\n",
       "<path style=\" stroke:none;fill-rule:nonzero;fill:rgb(0%,0%,0%);fill-opacity:1;\" d=\"M 125.519531 165.035156 C 125.519531 169.300781 119.121094 169.300781 119.121094 165.035156 C 119.121094 160.769531 125.519531 160.769531 125.519531 165.035156 \"/>\n",
       "<path style=\" stroke:none;fill-rule:nonzero;fill:rgb(0%,0%,0%);fill-opacity:1;\" d=\"M 185.441406 118.140625 C 185.441406 122.410156 179.039062 122.410156 179.039062 118.140625 C 179.039062 113.875 185.441406 113.875 185.441406 118.140625 \"/>\n",
       "<path style=\" stroke:none;fill-rule:nonzero;fill:rgb(0%,0%,0%);fill-opacity:1;\" d=\"M 114.410156 173.730469 C 114.410156 178 108.007812 178 108.007812 173.730469 C 108.007812 169.464844 114.410156 169.464844 114.410156 173.730469 \"/>\n",
       "<path style=\" stroke:none;fill-rule:nonzero;fill:rgb(0%,0%,0%);fill-opacity:1;\" d=\"M 100.3125 184.765625 C 100.3125 189.03125 93.914062 189.03125 93.914062 184.765625 C 93.914062 180.496094 100.3125 180.496094 100.3125 184.765625 \"/>\n",
       "<path style=\" stroke:none;fill-rule:nonzero;fill:rgb(0%,0%,0%);fill-opacity:1;\" d=\"M 69.601562 208.800781 C 69.601562 213.066406 63.199219 213.066406 63.199219 208.800781 C 63.199219 204.535156 69.601562 204.535156 69.601562 208.800781 \"/>\n",
       "<path style=\" stroke:none;fill-rule:nonzero;fill:rgb(0%,0%,0%);fill-opacity:1;\" d=\"M 131.984375 159.976562 C 131.984375 164.242188 125.585938 164.242188 125.585938 159.976562 C 125.585938 155.710938 131.984375 155.710938 131.984375 159.976562 \"/>\n",
       "<path style=\" stroke:none;fill-rule:nonzero;fill:rgb(0%,0%,0%);fill-opacity:1;\" d=\"M 77.175781 202.871094 C 77.175781 207.140625 70.773438 207.140625 70.773438 202.871094 C 70.773438 198.605469 77.175781 198.605469 77.175781 202.871094 \"/>\n",
       "<path style=\" stroke:none;fill-rule:nonzero;fill:rgb(0%,0%,0%);fill-opacity:1;\" d=\"M 74.171875 205.222656 C 74.171875 209.488281 67.769531 209.488281 67.769531 205.222656 C 67.769531 200.957031 74.171875 200.957031 74.171875 205.222656 \"/>\n",
       "<path style=\" stroke:none;fill-rule:nonzero;fill:rgb(0%,0%,0%);fill-opacity:1;\" d=\"M 122.234375 167.609375 C 122.234375 171.875 115.832031 171.875 115.832031 167.609375 C 115.832031 163.34375 122.234375 163.34375 122.234375 167.609375 \"/>\n",
       "<path style=\" stroke:none;fill-rule:nonzero;fill:rgb(0%,0%,0%);fill-opacity:1;\" d=\"M 244.078125 72.25 C 244.078125 76.519531 237.679688 76.519531 237.679688 72.25 C 237.679688 67.984375 244.078125 67.984375 244.078125 72.25 \"/>\n",
       "<path style=\" stroke:none;fill-rule:nonzero;fill:rgb(0%,0%,0%);fill-opacity:1;\" d=\"M 92.273438 191.054688 C 92.273438 195.324219 85.875 195.324219 85.875 191.054688 C 85.875 186.789062 92.273438 186.789062 92.273438 191.054688 \"/>\n",
       "<path style=\" stroke:none;fill-rule:nonzero;fill:rgb(0%,0%,0%);fill-opacity:1;\" d=\"M 144.855469 149.902344 C 144.855469 154.171875 138.457031 154.171875 138.457031 149.902344 C 138.457031 145.636719 144.855469 145.636719 144.855469 149.902344 \"/>\n",
       "<path style=\" stroke:none;fill-rule:nonzero;fill:rgb(0%,0%,0%);fill-opacity:1;\" d=\"M 219.472656 91.507812 C 219.472656 95.773438 213.074219 95.773438 213.074219 91.507812 C 213.074219 87.242188 219.472656 87.242188 219.472656 91.507812 \"/>\n",
       "<path style=\" stroke:none;fill-rule:nonzero;fill:rgb(0%,0%,0%);fill-opacity:1;\" d=\"M 128.519531 162.6875 C 128.519531 166.957031 122.121094 166.957031 122.121094 162.6875 C 122.121094 158.421875 128.519531 158.421875 128.519531 162.6875 \"/>\n",
       "<path style=\" stroke:none;fill-rule:nonzero;fill:rgb(0%,0%,0%);fill-opacity:1;\" d=\"M 120.851562 168.691406 C 120.851562 172.957031 114.449219 172.957031 114.449219 168.691406 C 114.449219 164.425781 120.851562 164.425781 120.851562 168.691406 \"/>\n",
       "<path style=\" stroke:none;fill-rule:nonzero;fill:rgb(0%,0%,0%);fill-opacity:1;\" d=\"M 151.300781 144.859375 C 151.300781 149.125 144.902344 149.125 144.902344 144.859375 C 144.902344 140.59375 151.300781 140.59375 151.300781 144.859375 \"/>\n",
       "<path style=\" stroke:none;fill-rule:nonzero;fill:rgb(0%,0%,0%);fill-opacity:1;\" d=\"M 245.257812 71.328125 C 245.257812 75.59375 238.859375 75.59375 238.859375 71.328125 C 238.859375 67.0625 245.257812 67.0625 245.257812 71.328125 \"/>\n",
       "<path style=\" stroke:none;fill-rule:nonzero;fill:rgb(0%,0%,0%);fill-opacity:1;\" d=\"M 70.863281 207.8125 C 70.863281 212.078125 64.460938 212.078125 64.460938 207.8125 C 64.460938 203.546875 70.863281 203.546875 70.863281 207.8125 \"/>\n",
       "<path style=\" stroke:none;fill-rule:nonzero;fill:rgb(0%,0%,0%);fill-opacity:1;\" d=\"M 226.417969 86.074219 C 226.417969 90.339844 220.015625 90.339844 220.015625 86.074219 C 220.015625 81.808594 226.417969 81.808594 226.417969 86.074219 \"/>\n",
       "<path style=\" stroke:none;fill-rule:nonzero;fill:rgb(0%,0%,0%);fill-opacity:1;\" d=\"M 170.675781 129.699219 C 170.675781 133.964844 164.277344 133.964844 164.277344 129.699219 C 164.277344 125.429688 170.675781 125.429688 170.675781 129.699219 \"/>\n",
       "<path style=\" stroke:none;fill-rule:nonzero;fill:rgb(0%,0%,0%);fill-opacity:1;\" d=\"M 240.378906 75.148438 C 240.378906 79.414062 233.976562 79.414062 233.976562 75.148438 C 233.976562 70.882812 240.378906 70.882812 240.378906 75.148438 \"/>\n",
       "<path style=\" stroke:none;fill-rule:nonzero;fill:rgb(0%,0%,0%);fill-opacity:1;\" d=\"M 212.882812 96.667969 C 212.882812 100.933594 206.480469 100.933594 206.480469 96.667969 C 206.480469 92.398438 212.882812 92.398438 212.882812 96.667969 \"/>\n",
       "<path style=\" stroke:none;fill-rule:nonzero;fill:rgb(0%,0%,0%);fill-opacity:1;\" d=\"M 92.613281 190.789062 C 92.613281 195.058594 86.210938 195.058594 86.210938 190.789062 C 86.210938 186.523438 92.613281 186.523438 92.613281 190.789062 \"/>\n",
       "<path style=\" stroke:none;fill-rule:nonzero;fill:rgb(0%,0%,0%);fill-opacity:1;\" d=\"M 93.320312 190.234375 C 93.320312 194.5 86.921875 194.5 86.921875 190.234375 C 86.921875 185.96875 93.320312 185.96875 93.320312 190.234375 \"/>\n",
       "<path style=\" stroke:none;fill-rule:nonzero;fill:rgb(0%,0%,0%);fill-opacity:1;\" d=\"M 224.886719 87.269531 C 224.886719 91.535156 218.488281 91.535156 218.488281 87.269531 C 218.488281 83.003906 224.886719 83.003906 224.886719 87.269531 \"/>\n",
       "<path style=\" stroke:none;fill-rule:nonzero;fill:rgb(0%,0%,0%);fill-opacity:1;\" d=\"M 190.179688 114.433594 C 190.179688 118.699219 183.78125 118.699219 183.78125 114.433594 C 183.78125 110.167969 190.179688 110.167969 190.179688 114.433594 \"/>\n",
       "<path style=\" stroke:none;fill-rule:nonzero;fill:rgb(0%,0%,0%);fill-opacity:1;\" d=\"M 202.21875 105.011719 C 202.21875 109.277344 195.816406 109.277344 195.816406 105.011719 C 195.816406 100.746094 202.21875 100.746094 202.21875 105.011719 \"/>\n",
       "<path style=\" stroke:none;fill-rule:nonzero;fill:rgb(0%,0%,0%);fill-opacity:1;\" d=\"M 144.921875 149.851562 C 144.921875 154.117188 138.523438 154.117188 138.523438 149.851562 C 138.523438 145.585938 144.921875 145.585938 144.921875 149.851562 \"/>\n",
       "<path style=\" stroke:none;fill-rule:nonzero;fill:rgb(0%,0%,0%);fill-opacity:1;\" d=\"M 207.984375 100.5 C 207.984375 104.765625 201.585938 104.765625 201.585938 100.5 C 201.585938 96.234375 207.984375 96.234375 207.984375 100.5 \"/>\n",
       "<path style=\" stroke:none;fill-rule:nonzero;fill:rgb(0%,0%,0%);fill-opacity:1;\" d=\"M 206.714844 101.492188 C 206.714844 105.757812 200.316406 105.757812 200.316406 101.492188 C 200.316406 97.226562 206.714844 97.226562 206.714844 101.492188 \"/>\n",
       "<path style=\" stroke:none;fill-rule:nonzero;fill:rgb(0%,0%,0%);fill-opacity:1;\" d=\"M 184.140625 119.160156 C 184.140625 123.425781 177.738281 123.425781 177.738281 119.160156 C 177.738281 114.894531 184.140625 114.894531 184.140625 119.160156 \"/>\n",
       "<path style=\" stroke:none;fill-rule:nonzero;fill:rgb(0%,0%,0%);fill-opacity:1;\" d=\"M 113.960938 174.082031 C 113.960938 178.351562 107.5625 178.351562 107.5625 174.082031 C 107.5625 169.816406 113.960938 169.816406 113.960938 174.082031 \"/>\n",
       "<path style=\" stroke:none;fill-rule:nonzero;fill:rgb(0%,0%,0%);fill-opacity:1;\" d=\"M 223.605469 88.273438 C 223.605469 92.542969 217.203125 92.542969 217.203125 88.273438 C 217.203125 84.007812 223.605469 84.007812 223.605469 88.273438 \"/>\n",
       "<path style=\" stroke:none;fill-rule:nonzero;fill:rgb(0%,0%,0%);fill-opacity:1;\" d=\"M 113.960938 174.082031 C 113.960938 178.351562 107.558594 178.351562 107.558594 174.082031 C 107.558594 169.816406 113.960938 169.816406 113.960938 174.082031 \"/>\n",
       "<path style=\" stroke:none;fill-rule:nonzero;fill:rgb(0%,0%,0%);fill-opacity:1;\" d=\"M 126.589844 164.199219 C 126.589844 168.46875 120.1875 168.46875 120.1875 164.199219 C 120.1875 159.933594 126.589844 159.933594 126.589844 164.199219 \"/>\n",
       "<path style=\" stroke:none;fill-rule:nonzero;fill:rgb(0%,0%,0%);fill-opacity:1;\" d=\"M 93.40625 190.167969 C 93.40625 194.4375 87.003906 194.4375 87.003906 190.167969 C 87.003906 185.902344 93.40625 185.902344 93.40625 190.167969 \"/>\n",
       "<path style=\" stroke:none;fill-rule:nonzero;fill:rgb(0%,0%,0%);fill-opacity:1;\" d=\"M 146.847656 148.347656 C 146.847656 152.613281 140.445312 152.613281 140.445312 148.347656 C 140.445312 144.078125 146.847656 144.078125 146.847656 148.347656 \"/>\n",
       "<path style=\" stroke:none;fill-rule:nonzero;fill:rgb(0%,0%,0%);fill-opacity:1;\" d=\"M 151.917969 144.378906 C 151.917969 148.644531 145.515625 148.644531 145.515625 144.378906 C 145.515625 140.109375 151.917969 140.109375 151.917969 144.378906 \"/>\n",
       "<path style=\" stroke:none;fill-rule:nonzero;fill:rgb(0%,0%,0%);fill-opacity:1;\" d=\"M 246.765625 70.148438 C 246.765625 74.414062 240.367188 74.414062 240.367188 70.148438 C 240.367188 65.882812 246.765625 65.882812 246.765625 70.148438 \"/>\n",
       "<path style=\" stroke:none;fill-rule:nonzero;fill:rgb(0%,0%,0%);fill-opacity:1;\" d=\"M 209.335938 99.441406 C 209.335938 103.707031 202.9375 103.707031 202.9375 99.441406 C 202.9375 95.175781 209.335938 95.175781 209.335938 99.441406 \"/>\n",
       "<path style=\" stroke:none;fill-rule:nonzero;fill:rgb(0%,0%,0%);fill-opacity:1;\" d=\"M 208.925781 99.761719 C 208.925781 104.03125 202.523438 104.03125 202.523438 99.761719 C 202.523438 95.496094 208.925781 95.496094 208.925781 99.761719 \"/>\n",
       "<path style=\" stroke:none;fill-rule:nonzero;fill:rgb(0%,0%,0%);fill-opacity:1;\" d=\"M 143.101562 151.277344 C 143.101562 155.542969 136.703125 155.542969 136.703125 151.277344 C 136.703125 147.007812 143.101562 147.007812 143.101562 151.277344 \"/>\n",
       "<path style=\" stroke:none;fill-rule:nonzero;fill:rgb(0%,0%,0%);fill-opacity:1;\" d=\"M 151.089844 145.023438 C 151.089844 149.292969 144.691406 149.292969 144.691406 145.023438 C 144.691406 140.757812 151.089844 140.757812 151.089844 145.023438 \"/>\n",
       "<path style=\" stroke:none;fill-rule:nonzero;fill:rgb(0%,0%,0%);fill-opacity:1;\" d=\"M 153.691406 142.992188 C 153.691406 147.257812 147.289062 147.257812 147.289062 142.992188 C 147.289062 138.722656 153.691406 138.722656 153.691406 142.992188 \"/>\n",
       "<path style=\" stroke:none;fill-rule:nonzero;fill:rgb(0%,0%,0%);fill-opacity:1;\" d=\"M 236.933594 77.84375 C 236.933594 82.109375 230.535156 82.109375 230.535156 77.84375 C 230.535156 73.574219 236.933594 73.574219 236.933594 77.84375 \"/>\n",
       "<path style=\" stroke:none;fill-rule:nonzero;fill:rgb(0%,0%,0%);fill-opacity:1;\" d=\"M 230.058594 83.222656 C 230.058594 87.488281 223.660156 87.488281 223.660156 83.222656 C 223.660156 78.957031 230.058594 78.957031 230.058594 83.222656 \"/>\n",
       "<path style=\" stroke:none;fill-rule:nonzero;fill:rgb(0%,0%,0%);fill-opacity:1;\" d=\"M 137.367188 155.765625 C 137.367188 160.03125 130.964844 160.03125 130.964844 155.765625 C 130.964844 151.5 137.367188 151.5 137.367188 155.765625 \"/>\n",
       "<path style=\" stroke:none;fill-rule:nonzero;fill:rgb(0%,0%,0%);fill-opacity:1;\" d=\"M 131.714844 160.1875 C 131.714844 164.453125 125.316406 164.453125 125.316406 160.1875 C 125.316406 155.921875 131.714844 155.921875 131.714844 160.1875 \"/>\n",
       "<path style=\" stroke:none;fill-rule:nonzero;fill:rgb(0%,0%,0%);fill-opacity:1;\" d=\"M 97.296875 187.125 C 97.296875 191.390625 90.898438 191.390625 90.898438 187.125 C 90.898438 182.855469 97.296875 182.855469 97.296875 187.125 \"/>\n",
       "<path style=\" stroke:none;fill-rule:nonzero;fill:rgb(0%,0%,0%);fill-opacity:1;\" d=\"M 114.730469 173.480469 C 114.730469 177.746094 108.332031 177.746094 108.332031 173.480469 C 108.332031 169.210938 114.730469 169.210938 114.730469 173.480469 \"/>\n",
       "<path style=\" stroke:none;fill-rule:nonzero;fill:rgb(0%,0%,0%);fill-opacity:1;\" d=\"M 253.601562 64.800781 C 253.601562 69.066406 247.199219 69.066406 247.199219 64.800781 C 247.199219 60.535156 253.601562 60.535156 253.601562 64.800781 \"/>\n",
       "<path style=\" stroke:none;fill-rule:nonzero;fill:rgb(0%,0%,0%);fill-opacity:1;\" d=\"M 168.242188 131.601562 C 168.242188 135.871094 161.839844 135.871094 161.839844 131.601562 C 161.839844 127.335938 168.242188 127.335938 168.242188 131.601562 \"/>\n",
       "<path style=\" stroke:none;fill-rule:nonzero;fill:rgb(0%,0%,0%);fill-opacity:1;\" d=\"M 247.609375 69.488281 C 247.609375 73.753906 241.210938 73.753906 241.210938 69.488281 C 241.210938 65.222656 247.609375 65.222656 247.609375 69.488281 \"/>\n",
       "<path style=\" stroke:none;fill-rule:nonzero;fill:rgb(0%,0%,0%);fill-opacity:1;\" d=\"M 97.109375 187.269531 C 97.109375 191.535156 90.710938 191.535156 90.710938 187.269531 C 90.710938 183.003906 97.109375 183.003906 97.109375 187.269531 \"/>\n",
       "<path style=\" stroke:none;fill-rule:nonzero;fill:rgb(0%,0%,0%);fill-opacity:1;\" d=\"M 117.753906 171.117188 C 117.753906 175.382812 111.351562 175.382812 111.351562 171.117188 C 111.351562 166.847656 117.753906 166.847656 117.753906 171.117188 \"/>\n",
       "<path style=\" stroke:none;fill-rule:nonzero;fill:rgb(0%,0%,0%);fill-opacity:1;\" d=\"M 74.332031 205.097656 C 74.332031 209.363281 67.929688 209.363281 67.929688 205.097656 C 67.929688 200.832031 74.332031 200.832031 74.332031 205.097656 \"/>\n",
       "<path style=\" stroke:none;fill-rule:nonzero;fill:rgb(0%,0%,0%);fill-opacity:1;\" d=\"M 108.480469 178.371094 C 108.480469 182.640625 102.078125 182.640625 102.078125 178.371094 C 102.078125 174.105469 108.480469 174.105469 108.480469 178.371094 \"/>\n",
       "<path style=\" stroke:none;fill-rule:nonzero;fill:rgb(0%,0%,0%);fill-opacity:1;\" d=\"M 181.929688 120.890625 C 181.929688 125.15625 175.527344 125.15625 175.527344 120.890625 C 175.527344 116.625 181.929688 116.625 181.929688 120.890625 \"/>\n",
       "<path style=\" stroke:none;fill-rule:nonzero;fill:rgb(0%,0%,0%);fill-opacity:1;\" d=\"M 114.742188 173.472656 C 114.742188 177.738281 108.34375 177.738281 108.34375 173.472656 C 108.34375 169.203125 114.742188 169.203125 114.742188 173.472656 \"/>\n",
       "<path style=\" stroke:none;fill-rule:nonzero;fill:rgb(0%,0%,0%);fill-opacity:1;\" d=\"M 188.386719 115.835938 C 188.386719 120.101562 181.988281 120.101562 181.988281 115.835938 C 181.988281 111.570312 188.386719 111.570312 188.386719 115.835938 \"/>\n",
       "<path style=\" stroke:none;fill-rule:nonzero;fill:rgb(0%,0%,0%);fill-opacity:1;\" d=\"M 139.542969 154.0625 C 139.542969 158.328125 133.140625 158.328125 133.140625 154.0625 C 133.140625 149.796875 139.542969 149.796875 139.542969 154.0625 \"/>\n",
       "<path style=\" stroke:none;fill-rule:nonzero;fill:rgb(0%,0%,0%);fill-opacity:1;\" d=\"M 140.878906 153.015625 C 140.878906 157.285156 134.476562 157.285156 134.476562 153.015625 C 134.476562 148.75 140.878906 148.75 140.878906 153.015625 \"/>\n",
       "<path style=\" stroke:none;fill-rule:nonzero;fill:rgb(0%,0%,0%);fill-opacity:1;\" d=\"M 109.601562 177.496094 C 109.601562 181.761719 103.203125 181.761719 103.203125 177.496094 C 103.203125 173.226562 109.601562 173.226562 109.601562 177.496094 \"/>\n",
       "<path style=\" stroke:none;fill-rule:nonzero;fill:rgb(0%,0%,0%);fill-opacity:1;\" d=\"M 230.980469 82.503906 C 230.980469 86.769531 224.582031 86.769531 224.582031 82.503906 C 224.582031 78.234375 230.980469 78.234375 230.980469 82.503906 \"/>\n",
       "<path style=\" stroke:none;fill-rule:nonzero;fill:rgb(0%,0%,0%);fill-opacity:1;\" d=\"M 166.878906 132.667969 C 166.878906 136.933594 160.480469 136.933594 160.480469 132.667969 C 160.480469 128.402344 166.878906 128.402344 166.878906 132.667969 \"/>\n",
       "<path style=\" stroke:none;fill-rule:nonzero;fill:rgb(0%,0%,0%);fill-opacity:1;\" d=\"M 188.1875 115.992188 C 188.1875 120.257812 181.789062 120.257812 181.789062 115.992188 C 181.789062 111.726562 188.1875 111.726562 188.1875 115.992188 \"/>\n",
       "<path style=\" stroke:none;fill-rule:nonzero;fill:rgb(0%,0%,0%);fill-opacity:1;\" d=\"M 134.042969 158.367188 C 134.042969 162.632812 127.644531 162.632812 127.644531 158.367188 C 127.644531 154.101562 134.042969 154.101562 134.042969 158.367188 \"/>\n",
       "<path style=\" stroke:none;fill-rule:nonzero;fill:rgb(0%,0%,0%);fill-opacity:1;\" d=\"M 194.929688 110.714844 C 194.929688 114.980469 188.53125 114.980469 188.53125 110.714844 C 188.53125 106.449219 194.929688 106.449219 194.929688 110.714844 \"/>\n",
       "<path style=\" stroke:none;fill-rule:nonzero;fill:rgb(0%,0%,0%);fill-opacity:1;\" d=\"M 205.898438 102.132812 C 205.898438 106.398438 199.496094 106.398438 199.496094 102.132812 C 199.496094 97.867188 205.898438 97.867188 205.898438 102.132812 \"/>\n",
       "<path style=\" stroke:none;fill-rule:nonzero;fill:rgb(0%,0%,0%);fill-opacity:1;\" d=\"M 77.96875 202.25 C 77.96875 206.519531 71.566406 206.519531 71.566406 202.25 C 71.566406 197.984375 77.96875 197.984375 77.96875 202.25 \"/>\n",
       "<path style=\" stroke:none;fill-rule:nonzero;fill:rgb(0%,0%,0%);fill-opacity:1;\" d=\"M 202.558594 104.746094 C 202.558594 109.011719 196.15625 109.011719 196.15625 104.746094 C 196.15625 100.480469 202.558594 100.480469 202.558594 104.746094 \"/>\n",
       "<path style=\" stroke:none;fill-rule:nonzero;fill:rgb(0%,0%,0%);fill-opacity:1;\" d=\"M 207.328125 101.011719 C 207.328125 105.277344 200.929688 105.277344 200.929688 101.011719 C 200.929688 96.746094 207.328125 96.746094 207.328125 101.011719 \"/>\n",
       "<path style=\" stroke:none;fill-rule:nonzero;fill:rgb(0%,0%,0%);fill-opacity:1;\" d=\"M 117.289062 171.480469 C 117.289062 175.746094 110.886719 175.746094 110.886719 171.480469 C 110.886719 167.210938 117.289062 167.210938 117.289062 171.480469 \"/>\n",
       "<path style=\" stroke:none;fill-rule:nonzero;fill:rgb(0%,0%,0%);fill-opacity:1;\" d=\"M 153.207031 143.371094 C 153.207031 147.636719 146.804688 147.636719 146.804688 143.371094 C 146.804688 139.101562 153.207031 139.101562 153.207031 143.371094 \"/>\n",
       "<path style=\" stroke:none;fill-rule:nonzero;fill:rgb(0%,0%,0%);fill-opacity:1;\" d=\"M 213.804688 95.945312 C 213.804688 100.210938 207.40625 100.210938 207.40625 95.945312 C 207.40625 91.675781 213.804688 91.675781 213.804688 95.945312 \"/>\n",
       "<path style=\" stroke:none;fill-rule:nonzero;fill:rgb(0%,0%,0%);fill-opacity:1;\" d=\"M 148.539062 147.023438 C 148.539062 151.289062 142.140625 151.289062 142.140625 147.023438 C 142.140625 142.753906 148.539062 142.753906 148.539062 147.023438 \"/>\n",
       "<path style=\" stroke:none;fill-rule:nonzero;fill:rgb(0%,0%,0%);fill-opacity:1;\" d=\"M 179.457031 122.824219 C 179.457031 127.089844 173.058594 127.089844 173.058594 122.824219 C 173.058594 118.558594 179.457031 118.558594 179.457031 122.824219 \"/>\n",
       "<path style=\" stroke:none;fill-rule:nonzero;fill:rgb(0%,0%,0%);fill-opacity:1;\" d=\"M 237.753906 77.203125 C 237.753906 81.46875 231.355469 81.46875 231.355469 77.203125 C 231.355469 72.933594 237.753906 72.933594 237.753906 77.203125 \"/>\n",
       "<path style=\" stroke:none;fill-rule:nonzero;fill:rgb(0%,0%,0%);fill-opacity:1;\" d=\"M 226.074219 86.339844 C 226.074219 90.609375 219.675781 90.609375 219.675781 86.339844 C 219.675781 82.074219 226.074219 82.074219 226.074219 86.339844 \"/>\n",
       "<path style=\" stroke:none;fill-rule:nonzero;fill:rgb(0%,0%,0%);fill-opacity:1;\" d=\"M 108.648438 178.242188 C 108.648438 182.507812 102.246094 182.507812 102.246094 178.242188 C 102.246094 173.976562 108.648438 173.976562 108.648438 178.242188 \"/>\n",
       "<path style=\" stroke:none;fill-rule:nonzero;fill:rgb(0%,0%,0%);fill-opacity:1;\" d=\"M 181.257812 121.414062 C 181.257812 125.679688 174.859375 125.679688 174.859375 121.414062 C 174.859375 117.148438 181.257812 117.148438 181.257812 121.414062 \"/>\n",
       "<path style=\" stroke:none;fill-rule:nonzero;fill:rgb(0%,0%,0%);fill-opacity:1;\" d=\"M 207.9375 100.535156 C 207.9375 104.800781 201.539062 104.800781 201.539062 100.535156 C 201.539062 96.269531 207.9375 96.269531 207.9375 100.535156 \"/>\n",
       "<path style=\" stroke:none;fill-rule:nonzero;fill:rgb(0%,0%,0%);fill-opacity:1;\" d=\"M 173.933594 127.148438 C 173.933594 131.414062 167.53125 131.414062 167.53125 127.148438 C 167.53125 122.882812 173.933594 122.882812 173.933594 127.148438 \"/>\n",
       "<path style=\" stroke:none;fill-rule:nonzero;fill:rgb(0%,0%,0%);fill-opacity:1;\" d=\"M 234.929688 79.410156 C 234.929688 83.675781 228.53125 83.675781 228.53125 79.410156 C 228.53125 75.144531 234.929688 75.144531 234.929688 79.410156 \"/>\n",
       "<path style=\" stroke:none;fill-rule:nonzero;fill:rgb(0%,0%,0%);fill-opacity:1;\" d=\"M 70.101562 208.40625 C 70.101562 212.675781 63.699219 212.675781 63.699219 208.40625 C 63.699219 204.140625 70.101562 204.140625 70.101562 208.40625 \"/>\n",
       "<path style=\" stroke:none;fill-rule:nonzero;fill:rgb(0%,0%,0%);fill-opacity:1;\" d=\"M 162.777344 135.878906 C 162.777344 140.144531 156.378906 140.144531 156.378906 135.878906 C 156.378906 131.609375 162.777344 131.609375 162.777344 135.878906 \"/>\n",
       "<path style=\" stroke:none;fill-rule:nonzero;fill:rgb(0%,0%,0%);fill-opacity:1;\" d=\"M 239.519531 75.816406 C 239.519531 80.085938 233.121094 80.085938 233.121094 75.816406 C 233.121094 71.550781 239.519531 71.550781 239.519531 75.816406 \"/>\n",
       "<path style=\" stroke:none;fill-rule:nonzero;fill:rgb(0%,0%,0%);fill-opacity:1;\" d=\"M 116.898438 171.785156 C 116.898438 176.050781 110.496094 176.050781 110.496094 171.785156 C 110.496094 167.519531 116.898438 167.519531 116.898438 171.785156 \"/>\n",
       "<path style=\" stroke:none;fill-rule:nonzero;fill:rgb(0%,0%,0%);fill-opacity:1;\" d=\"M 235.519531 78.949219 C 235.519531 83.21875 229.117188 83.21875 229.117188 78.949219 C 229.117188 74.683594 235.519531 74.683594 235.519531 78.949219 \"/>\n",
       "<path style=\" stroke:none;fill-rule:nonzero;fill:rgb(0%,0%,0%);fill-opacity:1;\" d=\"M 173.195312 127.726562 C 173.195312 131.992188 166.792969 131.992188 166.792969 127.726562 C 166.792969 123.460938 173.195312 123.460938 173.195312 127.726562 \"/>\n",
       "<path style=\" stroke:none;fill-rule:nonzero;fill:rgb(0%,0%,0%);fill-opacity:1;\" d=\"M 94.957031 188.957031 C 94.957031 193.222656 88.554688 193.222656 88.554688 188.957031 C 88.554688 184.6875 94.957031 184.6875 94.957031 188.957031 \"/>\n",
       "<path style=\" stroke:none;fill-rule:nonzero;fill:rgb(0%,0%,0%);fill-opacity:1;\" d=\"M 218.765625 92.058594 C 218.765625 96.328125 212.367188 96.328125 212.367188 92.058594 C 212.367188 87.792969 218.765625 87.792969 218.765625 92.058594 \"/>\n",
       "<path style=\" stroke:none;fill-rule:nonzero;fill:rgb(0%,0%,0%);fill-opacity:1;\" d=\"M 122.507812 167.394531 C 122.507812 171.660156 116.109375 171.660156 116.109375 167.394531 C 116.109375 163.128906 122.507812 163.128906 122.507812 167.394531 \"/>\n",
       "<path style=\" stroke:none;fill-rule:nonzero;fill:rgb(0%,0%,0%);fill-opacity:1;\" d=\"M 132.644531 159.460938 C 132.644531 163.726562 126.246094 163.726562 126.246094 159.460938 C 126.246094 155.195312 132.644531 155.195312 132.644531 159.460938 \"/>\n",
       "<path style=\" stroke:none;fill-rule:nonzero;fill:rgb(0%,0%,0%);fill-opacity:1;\" d=\"M 81.9375 199.144531 C 81.9375 203.410156 75.539062 203.410156 75.539062 199.144531 C 75.539062 194.878906 81.9375 194.878906 81.9375 199.144531 \"/>\n",
       "<path style=\" stroke:none;fill-rule:nonzero;fill:rgb(0%,0%,0%);fill-opacity:1;\" d=\"M 215.320312 94.757812 C 215.320312 99.023438 208.921875 99.023438 208.921875 94.757812 C 208.921875 90.492188 215.320312 90.492188 215.320312 94.757812 \"/>\n",
       "<path style=\" stroke:none;fill-rule:nonzero;fill:rgb(0%,0%,0%);fill-opacity:1;\" d=\"M 181.773438 121.011719 C 181.773438 125.28125 175.371094 125.28125 175.371094 121.011719 C 175.371094 116.746094 181.773438 116.746094 181.773438 121.011719 \"/>\n",
       "<path style=\" stroke:none;fill-rule:nonzero;fill:rgb(0%,0%,0%);fill-opacity:1;\" d=\"M 252.0625 66.003906 C 252.0625 70.269531 245.664062 70.269531 245.664062 66.003906 C 245.664062 61.734375 252.0625 61.734375 252.0625 66.003906 \"/>\n",
       "<path style=\" stroke:none;fill-rule:nonzero;fill:rgb(0%,0%,0%);fill-opacity:1;\" d=\"M 167.996094 131.796875 C 167.996094 136.0625 161.59375 136.0625 161.59375 131.796875 C 161.59375 127.527344 167.996094 127.527344 167.996094 131.796875 \"/>\n",
       "<path style=\" stroke:none;fill-rule:nonzero;fill:rgb(0%,0%,0%);fill-opacity:1;\" d=\"M 141.855469 152.25 C 141.855469 156.515625 135.457031 156.515625 135.457031 152.25 C 135.457031 147.984375 141.855469 147.984375 141.855469 152.25 \"/>\n",
       "<path style=\" stroke:none;fill-rule:nonzero;fill:rgb(0%,0%,0%);fill-opacity:1;\" d=\"M 163.078125 135.640625 C 163.078125 139.910156 156.679688 139.910156 156.679688 135.640625 C 156.679688 131.375 163.078125 131.375 163.078125 135.640625 \"/>\n",
       "<path style=\" stroke:none;fill-rule:nonzero;fill:rgb(0%,0%,0%);fill-opacity:1;\" d=\"M 194.226562 111.269531 C 194.226562 115.535156 187.824219 115.535156 187.824219 111.269531 C 187.824219 107 194.226562 107 194.226562 111.269531 \"/>\n",
       "<path style=\" stroke:none;fill-rule:nonzero;fill:rgb(0%,0%,0%);fill-opacity:1;\" d=\"M 242.273438 73.664062 C 242.273438 77.929688 235.871094 77.929688 235.871094 73.664062 C 235.871094 69.398438 242.273438 69.398438 242.273438 73.664062 \"/>\n",
       "<path style=\" stroke:none;fill-rule:nonzero;fill:rgb(0%,0%,0%);fill-opacity:1;\" d=\"M 179.578125 122.730469 C 179.578125 126.996094 173.179688 126.996094 173.179688 122.730469 C 173.179688 118.464844 179.578125 118.464844 179.578125 122.730469 \"/>\n",
       "<path style=\" stroke:none;fill-rule:nonzero;fill:rgb(0%,0%,0%);fill-opacity:1;\" d=\"M 144.523438 150.164062 C 144.523438 154.429688 138.125 154.429688 138.125 150.164062 C 138.125 145.898438 144.523438 145.898438 144.523438 150.164062 \"/>\n",
       "<path style=\" stroke:none;fill-rule:nonzero;fill:rgb(0%,0%,0%);fill-opacity:1;\" d=\"M 240.605469 74.96875 C 240.605469 79.234375 234.207031 79.234375 234.207031 74.96875 C 234.207031 70.703125 240.605469 70.703125 240.605469 74.96875 \"/>\n",
       "<path style=\" stroke:none;fill-rule:nonzero;fill:rgb(0%,0%,0%);fill-opacity:1;\" d=\"M 85.265625 196.542969 C 85.265625 200.808594 78.863281 200.808594 78.863281 196.542969 C 78.863281 192.273438 85.265625 192.273438 85.265625 196.542969 \"/>\n",
       "<path style=\" stroke:none;fill-rule:nonzero;fill:rgb(0%,0%,0%);fill-opacity:1;\" d=\"M 206.035156 102.023438 C 206.035156 106.289062 199.636719 106.289062 199.636719 102.023438 C 199.636719 97.757812 206.035156 97.757812 206.035156 102.023438 \"/>\n",
       "<path style=\" stroke:none;fill-rule:nonzero;fill:rgb(0%,0%,0%);fill-opacity:1;\" d=\"M 95.386719 188.617188 C 95.386719 192.886719 88.988281 192.886719 88.988281 188.617188 C 88.988281 184.351562 95.386719 184.351562 95.386719 188.617188 \"/>\n",
       "<path style=\" stroke:none;fill-rule:nonzero;fill:rgb(0%,0%,0%);fill-opacity:1;\" d=\"M 178.257812 123.761719 C 178.257812 128.03125 171.859375 128.03125 171.859375 123.761719 C 171.859375 119.496094 178.257812 119.496094 178.257812 123.761719 \"/>\n",
       "<path style=\" stroke:none;fill-rule:nonzero;fill:rgb(0%,0%,0%);fill-opacity:1;\" d=\"M 129.332031 162.054688 C 129.332031 166.320312 122.933594 166.320312 122.933594 162.054688 C 122.933594 157.785156 129.332031 157.785156 129.332031 162.054688 \"/>\n",
       "<path style=\" stroke:none;fill-rule:nonzero;fill:rgb(0%,0%,0%);fill-opacity:1;\" d=\"M 126.214844 164.492188 C 126.214844 168.757812 119.816406 168.757812 119.816406 164.492188 C 119.816406 160.226562 126.214844 160.226562 126.214844 164.492188 \"/>\n",
       "<path style=\" stroke:none;fill-rule:nonzero;fill:rgb(0%,0%,0%);fill-opacity:1;\" d=\"M 118.941406 170.183594 C 118.941406 174.453125 112.542969 174.453125 112.542969 170.183594 C 112.542969 165.917969 118.941406 165.917969 118.941406 170.183594 \"/>\n",
       "<path style=\" stroke:none;fill-rule:nonzero;fill:rgb(0%,0%,0%);fill-opacity:1;\" d=\"M 159.148438 138.71875 C 159.148438 142.984375 152.75 142.984375 152.75 138.71875 C 152.75 134.453125 159.148438 134.453125 159.148438 138.71875 \"/>\n",
       "<path style=\" stroke:none;fill-rule:nonzero;fill:rgb(0%,0%,0%);fill-opacity:1;\" d=\"M 132.894531 159.265625 C 132.894531 163.53125 126.492188 163.53125 126.492188 159.265625 C 126.492188 155 132.894531 155 132.894531 159.265625 \"/>\n",
       "<path style=\" stroke:none;fill-rule:nonzero;fill:rgb(0%,0%,0%);fill-opacity:1;\" d=\"M 83.90625 197.601562 C 83.90625 201.871094 77.507812 201.871094 77.507812 197.601562 C 77.507812 193.335938 83.90625 193.335938 83.90625 197.601562 \"/>\n",
       "<path style=\" stroke:none;fill-rule:nonzero;fill:rgb(0%,0%,0%);fill-opacity:1;\" d=\"M 218.566406 92.21875 C 218.566406 96.484375 212.167969 96.484375 212.167969 92.21875 C 212.167969 87.949219 218.566406 87.949219 218.566406 92.21875 \"/>\n",
       "<path style=\" stroke:none;fill-rule:nonzero;fill:rgb(0%,0%,0%);fill-opacity:1;\" d=\"M 109.34375 177.695312 C 109.34375 181.960938 102.945312 181.960938 102.945312 177.695312 C 102.945312 173.429688 109.34375 173.429688 109.34375 177.695312 \"/>\n",
       "<path style=\" stroke:none;fill-rule:nonzero;fill:rgb(0%,0%,0%);fill-opacity:1;\" d=\"M 159.976562 138.070312 C 159.976562 142.335938 153.578125 142.335938 153.578125 138.070312 C 153.578125 133.804688 159.976562 133.804688 159.976562 138.070312 \"/>\n",
       "<path style=\" stroke:none;fill-rule:nonzero;fill:rgb(0%,0%,0%);fill-opacity:1;\" d=\"M 121.519531 168.167969 C 121.519531 172.433594 115.117188 172.433594 115.117188 168.167969 C 115.117188 163.902344 121.519531 163.902344 121.519531 168.167969 \"/>\n",
       "<path style=\" stroke:none;fill-rule:nonzero;fill:rgb(0%,0%,0%);fill-opacity:1;\" d=\"M 85.578125 196.296875 C 85.578125 200.5625 79.175781 200.5625 79.175781 196.296875 C 79.175781 192.027344 85.578125 192.027344 85.578125 196.296875 \"/>\n",
       "<path style=\" stroke:none;fill-rule:nonzero;fill:rgb(0%,0%,0%);fill-opacity:1;\" d=\"M 238.539062 76.585938 C 238.539062 80.855469 232.136719 80.855469 232.136719 76.585938 C 232.136719 72.320312 238.539062 72.320312 238.539062 76.585938 \"/>\n",
       "<path style=\" stroke:none;fill-rule:nonzero;fill:rgb(0%,0%,0%);fill-opacity:1;\" d=\"M 79.382812 201.144531 C 79.382812 205.410156 72.984375 205.410156 72.984375 201.144531 C 72.984375 196.878906 79.382812 196.878906 79.382812 201.144531 \"/>\n",
       "<path style=\" stroke:none;fill-rule:nonzero;fill:rgb(0%,0%,0%);fill-opacity:1;\" d=\"M 252.070312 65.996094 C 252.070312 70.261719 245.671875 70.261719 245.671875 65.996094 C 245.671875 61.730469 252.070312 61.730469 252.070312 65.996094 \"/>\n",
       "<path style=\" stroke:none;fill-rule:nonzero;fill:rgb(0%,0%,0%);fill-opacity:1;\" d=\"M 228.371094 84.542969 C 228.371094 88.8125 221.972656 88.8125 221.972656 84.542969 C 221.972656 80.277344 228.371094 80.277344 228.371094 84.542969 \"/>\n",
       "<path style=\" stroke:none;fill-rule:nonzero;fill:rgb(0%,0%,0%);fill-opacity:1;\" d=\"M 178.71875 123.402344 C 178.71875 127.667969 172.316406 127.667969 172.316406 123.402344 C 172.316406 119.136719 178.71875 119.136719 178.71875 123.402344 \"/>\n",
       "<path style=\" stroke:none;fill-rule:nonzero;fill:rgb(0%,0%,0%);fill-opacity:1;\" d=\"M 158.953125 138.871094 C 158.953125 143.140625 152.550781 143.140625 152.550781 138.871094 C 152.550781 134.605469 158.953125 134.605469 158.953125 138.871094 \"/>\n",
       "<path style=\" stroke:none;fill-rule:nonzero;fill:rgb(0%,0%,0%);fill-opacity:1;\" d=\"M 115.808594 172.636719 C 115.808594 176.902344 109.40625 176.902344 109.40625 172.636719 C 109.40625 168.371094 115.808594 168.371094 115.808594 172.636719 \"/>\n",
       "<path style=\" stroke:none;fill-rule:nonzero;fill:rgb(0%,0%,0%);fill-opacity:1;\" d=\"M 208.070312 100.433594 C 208.070312 104.699219 201.667969 104.699219 201.667969 100.433594 C 201.667969 96.164062 208.070312 96.164062 208.070312 100.433594 \"/>\n",
       "<path style=\" stroke:none;fill-rule:nonzero;fill:rgb(0%,0%,0%);fill-opacity:1;\" d=\"M 240.9375 74.707031 C 240.9375 78.976562 234.539062 78.976562 234.539062 74.707031 C 234.539062 70.441406 240.9375 70.441406 240.9375 74.707031 \"/>\n",
       "<path style=\" stroke:none;fill-rule:nonzero;fill:rgb(0%,0%,0%);fill-opacity:1;\" d=\"M 153.921875 142.808594 C 153.921875 147.078125 147.519531 147.078125 147.519531 142.808594 C 147.519531 138.542969 153.921875 138.542969 153.921875 142.808594 \"/>\n",
       "<path style=\" stroke:none;fill-rule:nonzero;fill:rgb(0%,0%,0%);fill-opacity:1;\" d=\"M 157.535156 139.980469 C 157.535156 144.246094 151.136719 144.246094 151.136719 139.980469 C 151.136719 135.714844 157.535156 135.714844 157.535156 139.980469 \"/>\n",
       "<path style=\" stroke:none;fill-rule:nonzero;fill:rgb(0%,0%,0%);fill-opacity:1;\" d=\"M 215.523438 94.597656 C 215.523438 98.867188 209.125 98.867188 209.125 94.597656 C 209.125 90.332031 215.523438 90.332031 215.523438 94.597656 \"/>\n",
       "<path style=\" stroke:none;fill-rule:nonzero;fill:rgb(0%,0%,0%);fill-opacity:1;\" d=\"M 162.808594 135.855469 C 162.808594 140.121094 156.40625 140.121094 156.40625 135.855469 C 156.40625 131.589844 162.808594 131.589844 162.808594 135.855469 \"/>\n",
       "<path style=\" stroke:none;fill-rule:nonzero;fill:rgb(0%,0%,0%);fill-opacity:1;\" d=\"M 190.035156 114.546875 C 190.035156 118.8125 183.636719 118.8125 183.636719 114.546875 C 183.636719 110.277344 190.035156 110.277344 190.035156 114.546875 \"/>\n",
       "<path style=\" stroke:none;fill-rule:nonzero;fill:rgb(0%,0%,0%);fill-opacity:1;\" d=\"M 242.195312 73.726562 C 242.195312 77.992188 235.796875 77.992188 235.796875 73.726562 C 235.796875 69.457031 242.195312 69.457031 242.195312 73.726562 \"/>\n",
       "<path style=\" stroke:none;fill-rule:nonzero;fill:rgb(0%,0%,0%);fill-opacity:1;\" d=\"M 177.9375 124.011719 C 177.9375 128.28125 171.539062 128.28125 171.539062 124.011719 C 171.539062 119.746094 177.9375 119.746094 177.9375 124.011719 \"/>\n",
       "<path style=\" stroke:none;fill-rule:nonzero;fill:rgb(0%,0%,0%);fill-opacity:1;\" d=\"M 169.238281 130.824219 C 169.238281 135.089844 162.839844 135.089844 162.839844 130.824219 C 162.839844 126.554688 169.238281 126.554688 169.238281 130.824219 \"/>\n",
       "<path style=\" stroke:none;fill-rule:nonzero;fill:rgb(0%,0%,0%);fill-opacity:1;\" d=\"M 141.316406 152.675781 C 141.316406 156.941406 134.914062 156.941406 134.914062 152.675781 C 134.914062 148.40625 141.316406 148.40625 141.316406 152.675781 \"/>\n",
       "<path style=\" stroke:none;fill-rule:nonzero;fill:rgb(0%,0%,0%);fill-opacity:1;\" d=\"M 106.765625 179.710938 C 106.765625 183.980469 100.367188 183.980469 100.367188 179.710938 C 100.367188 175.445312 106.765625 175.445312 106.765625 179.710938 \"/>\n",
       "<path style=\" stroke:none;fill-rule:nonzero;fill:rgb(0%,0%,0%);fill-opacity:1;\" d=\"M 222.082031 89.464844 C 222.082031 93.734375 215.683594 93.734375 215.683594 89.464844 C 215.683594 85.199219 222.082031 85.199219 222.082031 89.464844 \"/>\n",
       "<path style=\" stroke:none;fill-rule:nonzero;fill:rgb(0%,0%,0%);fill-opacity:1;\" d=\"M 212.375 97.0625 C 212.375 101.328125 205.976562 101.328125 205.976562 97.0625 C 205.976562 92.796875 212.375 92.796875 212.375 97.0625 \"/>\n",
       "<path style=\" stroke:none;fill-rule:nonzero;fill:rgb(0%,0%,0%);fill-opacity:1;\" d=\"M 253.269531 65.058594 C 253.269531 69.328125 246.867188 69.328125 246.867188 65.058594 C 246.867188 60.792969 253.269531 60.792969 253.269531 65.058594 \"/>\n",
       "<path style=\" stroke:none;fill-rule:nonzero;fill:rgb(0%,0%,0%);fill-opacity:1;\" d=\"M 77.898438 202.308594 C 77.898438 206.574219 71.496094 206.574219 71.496094 202.308594 C 71.496094 198.039062 77.898438 198.039062 77.898438 202.308594 \"/>\n",
       "<path style=\" stroke:none;fill-rule:nonzero;fill:rgb(0%,0%,0%);fill-opacity:1;\" d=\"M 73.800781 205.511719 C 73.800781 209.777344 67.402344 209.777344 67.402344 205.511719 C 67.402344 201.246094 73.800781 201.246094 73.800781 205.511719 \"/>\n",
       "<path style=\" stroke:none;fill-rule:nonzero;fill:rgb(0%,0%,0%);fill-opacity:1;\" d=\"M 232.0625 81.65625 C 232.0625 85.921875 225.660156 85.921875 225.660156 81.65625 C 225.660156 77.390625 232.0625 77.390625 232.0625 81.65625 \"/>\n",
       "<path style=\" stroke:none;fill-rule:nonzero;fill:rgb(0%,0%,0%);fill-opacity:1;\" d=\"M 133.488281 158.800781 C 133.488281 163.066406 127.085938 163.066406 127.085938 158.800781 C 127.085938 154.535156 133.488281 154.535156 133.488281 158.800781 \"/>\n",
       "<path style=\" stroke:none;fill-rule:nonzero;fill:rgb(0%,0%,0%);fill-opacity:1;\" d=\"M 209 99.703125 C 209 103.96875 202.601562 103.96875 202.601562 99.703125 C 202.601562 95.4375 209 95.4375 209 99.703125 \"/>\n",
       "<path style=\" stroke:none;fill-rule:nonzero;fill:rgb(0%,0%,0%);fill-opacity:1;\" d=\"M 248.265625 68.972656 C 248.265625 73.242188 241.867188 73.242188 241.867188 68.972656 C 241.867188 64.707031 248.265625 64.707031 248.265625 68.972656 \"/>\n",
       "<path style=\" stroke:none;fill-rule:nonzero;fill:rgb(0%,0%,0%);fill-opacity:1;\" d=\"M 130.855469 160.863281 C 130.855469 165.128906 124.453125 165.128906 124.453125 160.863281 C 124.453125 156.59375 130.855469 156.59375 130.855469 160.863281 \"/>\n",
       "<path style=\" stroke:none;fill-rule:nonzero;fill:rgb(0%,0%,0%);fill-opacity:1;\" d=\"M 212.433594 97.019531 C 212.433594 101.285156 206.03125 101.285156 206.03125 97.019531 C 206.03125 92.75 212.433594 92.75 212.433594 97.019531 \"/>\n",
       "<path style=\" stroke:none;fill-rule:nonzero;fill:rgb(0%,0%,0%);fill-opacity:1;\" d=\"M 137.273438 155.839844 C 137.273438 160.105469 130.875 160.105469 130.875 155.839844 C 130.875 151.570312 137.273438 151.570312 137.273438 155.839844 \"/>\n",
       "<path style=\" stroke:none;fill-rule:nonzero;fill:rgb(0%,0%,0%);fill-opacity:1;\" d=\"M 241.222656 74.484375 C 241.222656 78.753906 234.824219 78.753906 234.824219 74.484375 C 234.824219 70.21875 241.222656 70.21875 241.222656 74.484375 \"/>\n",
       "<path style=\" stroke:none;fill-rule:nonzero;fill:rgb(0%,0%,0%);fill-opacity:1;\" d=\"M 212.972656 96.59375 C 212.972656 100.863281 206.574219 100.863281 206.574219 96.59375 C 206.574219 92.328125 212.972656 92.328125 212.972656 96.59375 \"/>\n",
       "<path style=\" stroke:none;fill-rule:nonzero;fill:rgb(0%,0%,0%);fill-opacity:1;\" d=\"M 155.085938 141.898438 C 155.085938 146.164062 148.6875 146.164062 148.6875 141.898438 C 148.6875 137.632812 155.085938 137.632812 155.085938 141.898438 \"/>\n",
       "<path style=\" stroke:none;fill-rule:nonzero;fill:rgb(0%,0%,0%);fill-opacity:1;\" d=\"M 218.777344 92.054688 C 218.777344 96.320312 212.375 96.320312 212.375 92.054688 C 212.375 87.785156 218.777344 87.785156 218.777344 92.054688 \"/>\n",
       "<path style=\" stroke:none;fill-rule:nonzero;fill:rgb(0%,0%,0%);fill-opacity:1;\" d=\"M 205.070312 102.78125 C 205.070312 107.046875 198.671875 107.046875 198.671875 102.78125 C 198.671875 98.511719 205.070312 98.511719 205.070312 102.78125 \"/>\n",
       "<path style=\" stroke:none;fill-rule:nonzero;fill:rgb(0%,0%,0%);fill-opacity:1;\" d=\"M 231.808594 81.855469 C 231.808594 86.121094 225.410156 86.121094 225.410156 81.855469 C 225.410156 77.585938 231.808594 77.585938 231.808594 81.855469 \"/>\n",
       "<path style=\" stroke:none;fill-rule:nonzero;fill:rgb(0%,0%,0%);fill-opacity:1;\" d=\"M 210.414062 98.597656 C 210.414062 102.863281 204.011719 102.863281 204.011719 98.597656 C 204.011719 94.332031 210.414062 94.332031 210.414062 98.597656 \"/>\n",
       "<path style=\" stroke:none;fill-rule:nonzero;fill:rgb(0%,0%,0%);fill-opacity:1;\" d=\"M 213.824219 95.929688 C 213.824219 100.195312 207.421875 100.195312 207.421875 95.929688 C 207.421875 91.664062 213.824219 91.664062 213.824219 95.929688 \"/>\n",
       "<path style=\" stroke:none;fill-rule:nonzero;fill:rgb(0%,0%,0%);fill-opacity:1;\" d=\"M 168.0625 131.742188 C 168.0625 136.007812 161.664062 136.007812 161.664062 131.742188 C 161.664062 127.472656 168.0625 127.472656 168.0625 131.742188 \"/>\n",
       "<path style=\" stroke:none;fill-rule:nonzero;fill:rgb(0%,0%,0%);fill-opacity:1;\" d=\"M 130.507812 161.132812 C 130.507812 165.398438 124.109375 165.398438 124.109375 161.132812 C 124.109375 156.867188 130.507812 156.867188 130.507812 161.132812 \"/>\n",
       "<path style=\"fill:none;stroke-width:1;stroke-linecap:round;stroke-linejoin:round;stroke:rgb(0%,0%,0%);stroke-opacity:1;stroke-miterlimit:10;\" d=\"M 66.078125 214.558594 L 250.9375 214.558594 \"/>\n",
       "<path style=\"fill:none;stroke-width:1;stroke-linecap:round;stroke-linejoin:round;stroke:rgb(0%,0%,0%);stroke-opacity:1;stroke-miterlimit:10;\" d=\"M 66.078125 214.558594 L 66.078125 221.761719 \"/>\n",
       "<path style=\"fill:none;stroke-width:1;stroke-linecap:round;stroke-linejoin:round;stroke:rgb(0%,0%,0%);stroke-opacity:1;stroke-miterlimit:10;\" d=\"M 112.292969 214.558594 L 112.292969 221.761719 \"/>\n",
       "<path style=\"fill:none;stroke-width:1;stroke-linecap:round;stroke-linejoin:round;stroke:rgb(0%,0%,0%);stroke-opacity:1;stroke-miterlimit:10;\" d=\"M 158.507812 214.558594 L 158.507812 221.761719 \"/>\n",
       "<path style=\"fill:none;stroke-width:1;stroke-linecap:round;stroke-linejoin:round;stroke:rgb(0%,0%,0%);stroke-opacity:1;stroke-miterlimit:10;\" d=\"M 204.722656 214.558594 L 204.722656 221.761719 \"/>\n",
       "<path style=\"fill:none;stroke-width:1;stroke-linecap:round;stroke-linejoin:round;stroke:rgb(0%,0%,0%);stroke-opacity:1;stroke-miterlimit:10;\" d=\"M 250.9375 214.558594 L 250.9375 221.761719 \"/>\n",
       "<g style=\"fill:rgb(0%,0%,0%);fill-opacity:1;\">\n",
       "  <use xlink:href=\"#glyph0-1\" x=\"55.308594\" y=\"241.921875\"/>\n",
       "  <use xlink:href=\"#glyph0-2\" x=\"59.471191\" y=\"241.921875\"/>\n",
       "  <use xlink:href=\"#glyph0-3\" x=\"66.423096\" y=\"241.921875\"/>\n",
       "  <use xlink:href=\"#glyph0-4\" x=\"69.895996\" y=\"241.921875\"/>\n",
       "</g>\n",
       "<g style=\"fill:rgb(0%,0%,0%);fill-opacity:1;\">\n",
       "  <use xlink:href=\"#glyph0-1\" x=\"101.523438\" y=\"241.921875\"/>\n",
       "  <use xlink:href=\"#glyph0-4\" x=\"105.686035\" y=\"241.921875\"/>\n",
       "  <use xlink:href=\"#glyph0-3\" x=\"112.637939\" y=\"241.921875\"/>\n",
       "  <use xlink:href=\"#glyph0-5\" x=\"116.11084\" y=\"241.921875\"/>\n",
       "</g>\n",
       "<g style=\"fill:rgb(0%,0%,0%);fill-opacity:1;\">\n",
       "  <use xlink:href=\"#glyph0-4\" x=\"149.820312\" y=\"241.921875\"/>\n",
       "  <use xlink:href=\"#glyph0-3\" x=\"156.772217\" y=\"241.921875\"/>\n",
       "  <use xlink:href=\"#glyph0-4\" x=\"160.245117\" y=\"241.921875\"/>\n",
       "</g>\n",
       "<g style=\"fill:rgb(0%,0%,0%);fill-opacity:1;\">\n",
       "  <use xlink:href=\"#glyph0-4\" x=\"196.035156\" y=\"241.921875\"/>\n",
       "  <use xlink:href=\"#glyph0-3\" x=\"202.987061\" y=\"241.921875\"/>\n",
       "  <use xlink:href=\"#glyph0-5\" x=\"206.459961\" y=\"241.921875\"/>\n",
       "</g>\n",
       "<g style=\"fill:rgb(0%,0%,0%);fill-opacity:1;\">\n",
       "  <use xlink:href=\"#glyph0-2\" x=\"242.25\" y=\"241.921875\"/>\n",
       "  <use xlink:href=\"#glyph0-3\" x=\"249.201904\" y=\"241.921875\"/>\n",
       "  <use xlink:href=\"#glyph0-4\" x=\"252.674805\" y=\"241.921875\"/>\n",
       "</g>\n",
       "<path style=\"fill:none;stroke-width:1;stroke-linecap:round;stroke-linejoin:round;stroke:rgb(0%,0%,0%);stroke-opacity:1;stroke-miterlimit:10;\" d=\"M 59.039062 209.050781 L 59.039062 64.378906 \"/>\n",
       "<path style=\"fill:none;stroke-width:1;stroke-linecap:round;stroke-linejoin:round;stroke:rgb(0%,0%,0%);stroke-opacity:1;stroke-miterlimit:10;\" d=\"M 59.039062 209.050781 L 51.839844 209.050781 \"/>\n",
       "<path style=\"fill:none;stroke-width:1;stroke-linecap:round;stroke-linejoin:round;stroke:rgb(0%,0%,0%);stroke-opacity:1;stroke-miterlimit:10;\" d=\"M 59.039062 172.882812 L 51.839844 172.882812 \"/>\n",
       "<path style=\"fill:none;stroke-width:1;stroke-linecap:round;stroke-linejoin:round;stroke:rgb(0%,0%,0%);stroke-opacity:1;stroke-miterlimit:10;\" d=\"M 59.039062 136.714844 L 51.839844 136.714844 \"/>\n",
       "<path style=\"fill:none;stroke-width:1;stroke-linecap:round;stroke-linejoin:round;stroke:rgb(0%,0%,0%);stroke-opacity:1;stroke-miterlimit:10;\" d=\"M 59.039062 100.546875 L 51.839844 100.546875 \"/>\n",
       "<path style=\"fill:none;stroke-width:1;stroke-linecap:round;stroke-linejoin:round;stroke:rgb(0%,0%,0%);stroke-opacity:1;stroke-miterlimit:10;\" d=\"M 59.039062 64.378906 L 51.839844 64.378906 \"/>\n",
       "<g style=\"fill:rgb(0%,0%,0%);fill-opacity:1;\">\n",
       "  <use xlink:href=\"#glyph1-1\" x=\"43.199219\" y=\"219.820312\"/>\n",
       "  <use xlink:href=\"#glyph1-2\" x=\"43.199219\" y=\"215.657715\"/>\n",
       "  <use xlink:href=\"#glyph1-3\" x=\"43.199219\" y=\"208.705811\"/>\n",
       "  <use xlink:href=\"#glyph1-4\" x=\"43.199219\" y=\"205.23291\"/>\n",
       "</g>\n",
       "<g style=\"fill:rgb(0%,0%,0%);fill-opacity:1;\">\n",
       "  <use xlink:href=\"#glyph1-1\" x=\"43.199219\" y=\"183.652344\"/>\n",
       "  <use xlink:href=\"#glyph1-4\" x=\"43.199219\" y=\"179.489746\"/>\n",
       "  <use xlink:href=\"#glyph1-3\" x=\"43.199219\" y=\"172.537842\"/>\n",
       "  <use xlink:href=\"#glyph1-5\" x=\"43.199219\" y=\"169.064941\"/>\n",
       "</g>\n",
       "<g style=\"fill:rgb(0%,0%,0%);fill-opacity:1;\">\n",
       "  <use xlink:href=\"#glyph1-4\" x=\"43.199219\" y=\"145.402344\"/>\n",
       "  <use xlink:href=\"#glyph1-3\" x=\"43.199219\" y=\"138.450439\"/>\n",
       "  <use xlink:href=\"#glyph1-4\" x=\"43.199219\" y=\"134.977539\"/>\n",
       "</g>\n",
       "<g style=\"fill:rgb(0%,0%,0%);fill-opacity:1;\">\n",
       "  <use xlink:href=\"#glyph1-4\" x=\"43.199219\" y=\"109.234375\"/>\n",
       "  <use xlink:href=\"#glyph1-3\" x=\"43.199219\" y=\"102.282471\"/>\n",
       "  <use xlink:href=\"#glyph1-5\" x=\"43.199219\" y=\"98.80957\"/>\n",
       "</g>\n",
       "<g style=\"fill:rgb(0%,0%,0%);fill-opacity:1;\">\n",
       "  <use xlink:href=\"#glyph1-2\" x=\"43.199219\" y=\"73.066406\"/>\n",
       "  <use xlink:href=\"#glyph1-3\" x=\"43.199219\" y=\"66.114502\"/>\n",
       "  <use xlink:href=\"#glyph1-4\" x=\"43.199219\" y=\"62.641602\"/>\n",
       "</g>\n",
       "<path style=\"fill:none;stroke-width:1;stroke-linecap:round;stroke-linejoin:round;stroke:rgb(0%,0%,0%);stroke-opacity:1;stroke-miterlimit:10;\" d=\"M 59.039062 214.558594 L 257.761719 214.558594 L 257.761719 59.039062 L 59.039062 59.039062 L 59.039062 214.558594 \"/>\n",
       "<g style=\"fill:rgb(0%,0%,0%);fill-opacity:1;\">\n",
       "  <use xlink:href=\"#glyph0-6\" x=\"155.273438\" y=\"270.71875\"/>\n",
       "</g>\n",
       "<g style=\"fill:rgb(0%,0%,0%);fill-opacity:1;\">\n",
       "  <use xlink:href=\"#glyph1-6\" x=\"14.398438\" y=\"139.925781\"/>\n",
       "</g>\n",
       "<path style=\"fill:none;stroke-width:0.5;stroke-linecap:round;stroke-linejoin:round;stroke:rgb(74.509804%,74.509804%,74.509804%);stroke-opacity:1;stroke-miterlimit:10;\" d=\"M 66.398438 214.558594 L 66.398438 209.894531 \"/>\n",
       "<path style=\"fill:none;stroke-width:0.5;stroke-linecap:round;stroke-linejoin:round;stroke:rgb(74.509804%,74.509804%,74.509804%);stroke-opacity:1;stroke-miterlimit:10;\" d=\"M 66.902344 214.558594 L 66.902344 209.894531 \"/>\n",
       "<path style=\"fill:none;stroke-width:0.5;stroke-linecap:round;stroke-linejoin:round;stroke:rgb(74.509804%,74.509804%,74.509804%);stroke-opacity:1;stroke-miterlimit:10;\" d=\"M 67.660156 214.558594 L 67.660156 209.894531 \"/>\n",
       "<path style=\"fill:none;stroke-width:0.5;stroke-linecap:round;stroke-linejoin:round;stroke:rgb(74.509804%,74.509804%,74.509804%);stroke-opacity:1;stroke-miterlimit:10;\" d=\"M 68.726562 214.558594 L 68.726562 209.894531 \"/>\n",
       "<path style=\"fill:none;stroke-width:0.5;stroke-linecap:round;stroke-linejoin:round;stroke:rgb(74.509804%,74.509804%,74.509804%);stroke-opacity:1;stroke-miterlimit:10;\" d=\"M 70.601562 214.558594 L 70.601562 209.894531 \"/>\n",
       "<path style=\"fill:none;stroke-width:0.5;stroke-linecap:round;stroke-linejoin:round;stroke:rgb(74.509804%,74.509804%,74.509804%);stroke-opacity:1;stroke-miterlimit:10;\" d=\"M 70.972656 214.558594 L 70.972656 209.894531 \"/>\n",
       "<path style=\"fill:none;stroke-width:0.5;stroke-linecap:round;stroke-linejoin:round;stroke:rgb(74.509804%,74.509804%,74.509804%);stroke-opacity:1;stroke-miterlimit:10;\" d=\"M 71.132812 214.558594 L 71.132812 209.894531 \"/>\n",
       "<path style=\"fill:none;stroke-width:0.5;stroke-linecap:round;stroke-linejoin:round;stroke:rgb(74.509804%,74.509804%,74.509804%);stroke-opacity:1;stroke-miterlimit:10;\" d=\"M 73.972656 214.558594 L 73.972656 209.894531 \"/>\n",
       "<path style=\"fill:none;stroke-width:0.5;stroke-linecap:round;stroke-linejoin:round;stroke:rgb(74.509804%,74.509804%,74.509804%);stroke-opacity:1;stroke-miterlimit:10;\" d=\"M 74.695312 214.558594 L 74.695312 209.894531 \"/>\n",
       "<path style=\"fill:none;stroke-width:0.5;stroke-linecap:round;stroke-linejoin:round;stroke:rgb(74.509804%,74.509804%,74.509804%);stroke-opacity:1;stroke-miterlimit:10;\" d=\"M 74.765625 214.558594 L 74.765625 209.894531 \"/>\n",
       "<path style=\"fill:none;stroke-width:0.5;stroke-linecap:round;stroke-linejoin:round;stroke:rgb(74.509804%,74.509804%,74.509804%);stroke-opacity:1;stroke-miterlimit:10;\" d=\"M 76.183594 214.558594 L 76.183594 209.894531 \"/>\n",
       "<path style=\"fill:none;stroke-width:0.5;stroke-linecap:round;stroke-linejoin:round;stroke:rgb(74.509804%,74.509804%,74.509804%);stroke-opacity:1;stroke-miterlimit:10;\" d=\"M 78.738281 214.558594 L 78.738281 209.894531 \"/>\n",
       "<path style=\"fill:none;stroke-width:0.5;stroke-linecap:round;stroke-linejoin:round;stroke:rgb(74.509804%,74.509804%,74.509804%);stroke-opacity:1;stroke-miterlimit:10;\" d=\"M 78.988281 214.558594 L 78.988281 209.894531 \"/>\n",
       "<path style=\"fill:none;stroke-width:0.5;stroke-linecap:round;stroke-linejoin:round;stroke:rgb(74.509804%,74.509804%,74.509804%);stroke-opacity:1;stroke-miterlimit:10;\" d=\"M 80.183594 214.558594 L 80.183594 209.894531 \"/>\n",
       "<path style=\"fill:none;stroke-width:0.5;stroke-linecap:round;stroke-linejoin:round;stroke:rgb(74.509804%,74.509804%,74.509804%);stroke-opacity:1;stroke-miterlimit:10;\" d=\"M 80.707031 214.558594 L 80.707031 209.894531 \"/>\n",
       "<path style=\"fill:none;stroke-width:0.5;stroke-linecap:round;stroke-linejoin:round;stroke:rgb(74.509804%,74.509804%,74.509804%);stroke-opacity:1;stroke-miterlimit:10;\" d=\"M 81.640625 214.558594 L 81.640625 209.894531 \"/>\n",
       "<path style=\"fill:none;stroke-width:0.5;stroke-linecap:round;stroke-linejoin:round;stroke:rgb(74.509804%,74.509804%,74.509804%);stroke-opacity:1;stroke-miterlimit:10;\" d=\"M 82.0625 214.558594 L 82.0625 209.894531 \"/>\n",
       "<path style=\"fill:none;stroke-width:0.5;stroke-linecap:round;stroke-linejoin:round;stroke:rgb(74.509804%,74.509804%,74.509804%);stroke-opacity:1;stroke-miterlimit:10;\" d=\"M 82.378906 214.558594 L 82.378906 209.894531 \"/>\n",
       "<path style=\"fill:none;stroke-width:0.5;stroke-linecap:round;stroke-linejoin:round;stroke:rgb(74.509804%,74.509804%,74.509804%);stroke-opacity:1;stroke-miterlimit:10;\" d=\"M 87.644531 214.558594 L 87.644531 209.894531 \"/>\n",
       "<path style=\"fill:none;stroke-width:0.5;stroke-linecap:round;stroke-linejoin:round;stroke:rgb(74.509804%,74.509804%,74.509804%);stroke-opacity:1;stroke-miterlimit:10;\" d=\"M 89.074219 214.558594 L 89.074219 209.894531 \"/>\n",
       "<path style=\"fill:none;stroke-width:0.5;stroke-linecap:round;stroke-linejoin:round;stroke:rgb(74.509804%,74.509804%,74.509804%);stroke-opacity:1;stroke-miterlimit:10;\" d=\"M 89.414062 214.558594 L 89.414062 209.894531 \"/>\n",
       "<path style=\"fill:none;stroke-width:0.5;stroke-linecap:round;stroke-linejoin:round;stroke:rgb(74.509804%,74.509804%,74.509804%);stroke-opacity:1;stroke-miterlimit:10;\" d=\"M 90.121094 214.558594 L 90.121094 209.894531 \"/>\n",
       "<path style=\"fill:none;stroke-width:0.5;stroke-linecap:round;stroke-linejoin:round;stroke:rgb(74.509804%,74.509804%,74.509804%);stroke-opacity:1;stroke-miterlimit:10;\" d=\"M 90.207031 214.558594 L 90.207031 209.894531 \"/>\n",
       "<path style=\"fill:none;stroke-width:0.5;stroke-linecap:round;stroke-linejoin:round;stroke:rgb(74.509804%,74.509804%,74.509804%);stroke-opacity:1;stroke-miterlimit:10;\" d=\"M 91.757812 214.558594 L 91.757812 209.894531 \"/>\n",
       "<path style=\"fill:none;stroke-width:0.5;stroke-linecap:round;stroke-linejoin:round;stroke:rgb(74.509804%,74.509804%,74.509804%);stroke-opacity:1;stroke-miterlimit:10;\" d=\"M 92.1875 214.558594 L 92.1875 209.894531 \"/>\n",
       "<path style=\"fill:none;stroke-width:0.5;stroke-linecap:round;stroke-linejoin:round;stroke:rgb(74.509804%,74.509804%,74.509804%);stroke-opacity:1;stroke-miterlimit:10;\" d=\"M 93.910156 214.558594 L 93.910156 209.894531 \"/>\n",
       "<path style=\"fill:none;stroke-width:0.5;stroke-linecap:round;stroke-linejoin:round;stroke:rgb(74.509804%,74.509804%,74.509804%);stroke-opacity:1;stroke-miterlimit:10;\" d=\"M 94.097656 214.558594 L 94.097656 209.894531 \"/>\n",
       "<path style=\"fill:none;stroke-width:0.5;stroke-linecap:round;stroke-linejoin:round;stroke:rgb(74.509804%,74.509804%,74.509804%);stroke-opacity:1;stroke-miterlimit:10;\" d=\"M 96.300781 214.558594 L 96.300781 209.894531 \"/>\n",
       "<path style=\"fill:none;stroke-width:0.5;stroke-linecap:round;stroke-linejoin:round;stroke:rgb(74.509804%,74.509804%,74.509804%);stroke-opacity:1;stroke-miterlimit:10;\" d=\"M 97.113281 214.558594 L 97.113281 209.894531 \"/>\n",
       "<path style=\"fill:none;stroke-width:0.5;stroke-linecap:round;stroke-linejoin:round;stroke:rgb(74.509804%,74.509804%,74.509804%);stroke-opacity:1;stroke-miterlimit:10;\" d=\"M 101.097656 214.558594 L 101.097656 209.894531 \"/>\n",
       "<path style=\"fill:none;stroke-width:0.5;stroke-linecap:round;stroke-linejoin:round;stroke:rgb(74.509804%,74.509804%,74.509804%);stroke-opacity:1;stroke-miterlimit:10;\" d=\"M 103.566406 214.558594 L 103.566406 209.894531 \"/>\n",
       "<path style=\"fill:none;stroke-width:0.5;stroke-linecap:round;stroke-linejoin:round;stroke:rgb(74.509804%,74.509804%,74.509804%);stroke-opacity:1;stroke-miterlimit:10;\" d=\"M 105.28125 214.558594 L 105.28125 209.894531 \"/>\n",
       "<path style=\"fill:none;stroke-width:0.5;stroke-linecap:round;stroke-linejoin:round;stroke:rgb(74.509804%,74.509804%,74.509804%);stroke-opacity:1;stroke-miterlimit:10;\" d=\"M 105.445312 214.558594 L 105.445312 209.894531 \"/>\n",
       "<path style=\"fill:none;stroke-width:0.5;stroke-linecap:round;stroke-linejoin:round;stroke:rgb(74.509804%,74.509804%,74.509804%);stroke-opacity:1;stroke-miterlimit:10;\" d=\"M 106.144531 214.558594 L 106.144531 209.894531 \"/>\n",
       "<path style=\"fill:none;stroke-width:0.5;stroke-linecap:round;stroke-linejoin:round;stroke:rgb(74.509804%,74.509804%,74.509804%);stroke-opacity:1;stroke-miterlimit:10;\" d=\"M 106.402344 214.558594 L 106.402344 209.894531 \"/>\n",
       "<path style=\"fill:none;stroke-width:0.5;stroke-linecap:round;stroke-linejoin:round;stroke:rgb(74.509804%,74.509804%,74.509804%);stroke-opacity:1;stroke-miterlimit:10;\" d=\"M 110.761719 214.558594 L 110.761719 209.894531 \"/>\n",
       "<path style=\"fill:none;stroke-width:0.5;stroke-linecap:round;stroke-linejoin:round;stroke:rgb(74.509804%,74.509804%,74.509804%);stroke-opacity:1;stroke-miterlimit:10;\" d=\"M 110.761719 214.558594 L 110.761719 209.894531 \"/>\n",
       "<path style=\"fill:none;stroke-width:0.5;stroke-linecap:round;stroke-linejoin:round;stroke:rgb(74.509804%,74.509804%,74.509804%);stroke-opacity:1;stroke-miterlimit:10;\" d=\"M 111.210938 214.558594 L 111.210938 209.894531 \"/>\n",
       "<path style=\"fill:none;stroke-width:0.5;stroke-linecap:round;stroke-linejoin:round;stroke:rgb(74.509804%,74.509804%,74.509804%);stroke-opacity:1;stroke-miterlimit:10;\" d=\"M 111.53125 214.558594 L 111.53125 209.894531 \"/>\n",
       "<path style=\"fill:none;stroke-width:0.5;stroke-linecap:round;stroke-linejoin:round;stroke:rgb(74.509804%,74.509804%,74.509804%);stroke-opacity:1;stroke-miterlimit:10;\" d=\"M 111.542969 214.558594 L 111.542969 209.894531 \"/>\n",
       "<path style=\"fill:none;stroke-width:0.5;stroke-linecap:round;stroke-linejoin:round;stroke:rgb(74.509804%,74.509804%,74.509804%);stroke-opacity:1;stroke-miterlimit:10;\" d=\"M 111.585938 214.558594 L 111.585938 209.894531 \"/>\n",
       "<path style=\"fill:none;stroke-width:0.5;stroke-linecap:round;stroke-linejoin:round;stroke:rgb(74.509804%,74.509804%,74.509804%);stroke-opacity:1;stroke-miterlimit:10;\" d=\"M 112.609375 214.558594 L 112.609375 209.894531 \"/>\n",
       "<path style=\"fill:none;stroke-width:0.5;stroke-linecap:round;stroke-linejoin:round;stroke:rgb(74.509804%,74.509804%,74.509804%);stroke-opacity:1;stroke-miterlimit:10;\" d=\"M 113.695312 214.558594 L 113.695312 209.894531 \"/>\n",
       "<path style=\"fill:none;stroke-width:0.5;stroke-linecap:round;stroke-linejoin:round;stroke:rgb(74.509804%,74.509804%,74.509804%);stroke-opacity:1;stroke-miterlimit:10;\" d=\"M 113.949219 214.558594 L 113.949219 209.894531 \"/>\n",
       "<path style=\"fill:none;stroke-width:0.5;stroke-linecap:round;stroke-linejoin:round;stroke:rgb(74.509804%,74.509804%,74.509804%);stroke-opacity:1;stroke-miterlimit:10;\" d=\"M 114.089844 214.558594 L 114.089844 209.894531 \"/>\n",
       "<path style=\"fill:none;stroke-width:0.5;stroke-linecap:round;stroke-linejoin:round;stroke:rgb(74.509804%,74.509804%,74.509804%);stroke-opacity:1;stroke-miterlimit:10;\" d=\"M 114.550781 214.558594 L 114.550781 209.894531 \"/>\n",
       "<path style=\"fill:none;stroke-width:0.5;stroke-linecap:round;stroke-linejoin:round;stroke:rgb(74.509804%,74.509804%,74.509804%);stroke-opacity:1;stroke-miterlimit:10;\" d=\"M 115.222656 214.558594 L 115.222656 209.894531 \"/>\n",
       "<path style=\"fill:none;stroke-width:0.5;stroke-linecap:round;stroke-linejoin:round;stroke:rgb(74.509804%,74.509804%,74.509804%);stroke-opacity:1;stroke-miterlimit:10;\" d=\"M 115.742188 214.558594 L 115.742188 209.894531 \"/>\n",
       "<path style=\"fill:none;stroke-width:0.5;stroke-linecap:round;stroke-linejoin:round;stroke:rgb(74.509804%,74.509804%,74.509804%);stroke-opacity:1;stroke-miterlimit:10;\" d=\"M 117.652344 214.558594 L 117.652344 209.894531 \"/>\n",
       "<path style=\"fill:none;stroke-width:0.5;stroke-linecap:round;stroke-linejoin:round;stroke:rgb(74.509804%,74.509804%,74.509804%);stroke-opacity:1;stroke-miterlimit:10;\" d=\"M 118.320312 214.558594 L 118.320312 209.894531 \"/>\n",
       "<path style=\"fill:none;stroke-width:0.5;stroke-linecap:round;stroke-linejoin:round;stroke:rgb(74.509804%,74.509804%,74.509804%);stroke-opacity:1;stroke-miterlimit:10;\" d=\"M 118.53125 214.558594 L 118.53125 209.894531 \"/>\n",
       "<path style=\"fill:none;stroke-width:0.5;stroke-linecap:round;stroke-linejoin:round;stroke:rgb(74.509804%,74.509804%,74.509804%);stroke-opacity:1;stroke-miterlimit:10;\" d=\"M 119.03125 214.558594 L 119.03125 209.894531 \"/>\n",
       "<path style=\"fill:none;stroke-width:0.5;stroke-linecap:round;stroke-linejoin:round;stroke:rgb(74.509804%,74.509804%,74.509804%);stroke-opacity:1;stroke-miterlimit:10;\" d=\"M 119.308594 214.558594 L 119.308594 209.894531 \"/>\n",
       "<path style=\"fill:none;stroke-width:0.5;stroke-linecap:round;stroke-linejoin:round;stroke:rgb(74.509804%,74.509804%,74.509804%);stroke-opacity:1;stroke-miterlimit:10;\" d=\"M 122.320312 214.558594 L 122.320312 209.894531 \"/>\n",
       "<path style=\"fill:none;stroke-width:0.5;stroke-linecap:round;stroke-linejoin:round;stroke:rgb(74.509804%,74.509804%,74.509804%);stroke-opacity:1;stroke-miterlimit:10;\" d=\"M 123.015625 214.558594 L 123.015625 209.894531 \"/>\n",
       "<path style=\"fill:none;stroke-width:0.5;stroke-linecap:round;stroke-linejoin:round;stroke:rgb(74.509804%,74.509804%,74.509804%);stroke-opacity:1;stroke-miterlimit:10;\" d=\"M 123.386719 214.558594 L 123.386719 209.894531 \"/>\n",
       "<path style=\"fill:none;stroke-width:0.5;stroke-linecap:round;stroke-linejoin:round;stroke:rgb(74.509804%,74.509804%,74.509804%);stroke-opacity:1;stroke-miterlimit:10;\" d=\"M 123.546875 214.558594 L 123.546875 209.894531 \"/>\n",
       "<path style=\"fill:none;stroke-width:0.5;stroke-linecap:round;stroke-linejoin:round;stroke:rgb(74.509804%,74.509804%,74.509804%);stroke-opacity:1;stroke-miterlimit:10;\" d=\"M 125.320312 214.558594 L 125.320312 209.894531 \"/>\n",
       "<path style=\"fill:none;stroke-width:0.5;stroke-linecap:round;stroke-linejoin:round;stroke:rgb(74.509804%,74.509804%,74.509804%);stroke-opacity:1;stroke-miterlimit:10;\" d=\"M 126.132812 214.558594 L 126.132812 209.894531 \"/>\n",
       "<path style=\"fill:none;stroke-width:0.5;stroke-linecap:round;stroke-linejoin:round;stroke:rgb(74.509804%,74.509804%,74.509804%);stroke-opacity:1;stroke-miterlimit:10;\" d=\"M 127.308594 214.558594 L 127.308594 209.894531 \"/>\n",
       "<path style=\"fill:none;stroke-width:0.5;stroke-linecap:round;stroke-linejoin:round;stroke:rgb(74.509804%,74.509804%,74.509804%);stroke-opacity:1;stroke-miterlimit:10;\" d=\"M 127.65625 214.558594 L 127.65625 209.894531 \"/>\n",
       "<path style=\"fill:none;stroke-width:0.5;stroke-linecap:round;stroke-linejoin:round;stroke:rgb(74.509804%,74.509804%,74.509804%);stroke-opacity:1;stroke-miterlimit:10;\" d=\"M 128.515625 214.558594 L 128.515625 209.894531 \"/>\n",
       "<path style=\"fill:none;stroke-width:0.5;stroke-linecap:round;stroke-linejoin:round;stroke:rgb(74.509804%,74.509804%,74.509804%);stroke-opacity:1;stroke-miterlimit:10;\" d=\"M 128.785156 214.558594 L 128.785156 209.894531 \"/>\n",
       "<path style=\"fill:none;stroke-width:0.5;stroke-linecap:round;stroke-linejoin:round;stroke:rgb(74.509804%,74.509804%,74.509804%);stroke-opacity:1;stroke-miterlimit:10;\" d=\"M 129.445312 214.558594 L 129.445312 209.894531 \"/>\n",
       "<path style=\"fill:none;stroke-width:0.5;stroke-linecap:round;stroke-linejoin:round;stroke:rgb(74.509804%,74.509804%,74.509804%);stroke-opacity:1;stroke-miterlimit:10;\" d=\"M 129.695312 214.558594 L 129.695312 209.894531 \"/>\n",
       "<path style=\"fill:none;stroke-width:0.5;stroke-linecap:round;stroke-linejoin:round;stroke:rgb(74.509804%,74.509804%,74.509804%);stroke-opacity:1;stroke-miterlimit:10;\" d=\"M 130.289062 214.558594 L 130.289062 209.894531 \"/>\n",
       "<path style=\"fill:none;stroke-width:0.5;stroke-linecap:round;stroke-linejoin:round;stroke:rgb(74.509804%,74.509804%,74.509804%);stroke-opacity:1;stroke-miterlimit:10;\" d=\"M 130.84375 214.558594 L 130.84375 209.894531 \"/>\n",
       "<path style=\"fill:none;stroke-width:0.5;stroke-linecap:round;stroke-linejoin:round;stroke:rgb(74.509804%,74.509804%,74.509804%);stroke-opacity:1;stroke-miterlimit:10;\" d=\"M 132.691406 214.558594 L 132.691406 209.894531 \"/>\n",
       "<path style=\"fill:none;stroke-width:0.5;stroke-linecap:round;stroke-linejoin:round;stroke:rgb(74.509804%,74.509804%,74.509804%);stroke-opacity:1;stroke-miterlimit:10;\" d=\"M 134.074219 214.558594 L 134.074219 209.894531 \"/>\n",
       "<path style=\"fill:none;stroke-width:0.5;stroke-linecap:round;stroke-linejoin:round;stroke:rgb(74.509804%,74.509804%,74.509804%);stroke-opacity:1;stroke-miterlimit:10;\" d=\"M 134.164062 214.558594 L 134.164062 209.894531 \"/>\n",
       "<path style=\"fill:none;stroke-width:0.5;stroke-linecap:round;stroke-linejoin:round;stroke:rgb(74.509804%,74.509804%,74.509804%);stroke-opacity:1;stroke-miterlimit:10;\" d=\"M 136.34375 214.558594 L 136.34375 209.894531 \"/>\n",
       "<path style=\"fill:none;stroke-width:0.5;stroke-linecap:round;stroke-linejoin:round;stroke:rgb(74.509804%,74.509804%,74.509804%);stroke-opacity:1;stroke-miterlimit:10;\" d=\"M 137.679688 214.558594 L 137.679688 209.894531 \"/>\n",
       "<path style=\"fill:none;stroke-width:0.5;stroke-linecap:round;stroke-linejoin:round;stroke:rgb(74.509804%,74.509804%,74.509804%);stroke-opacity:1;stroke-miterlimit:10;\" d=\"M 138.117188 214.558594 L 138.117188 209.894531 \"/>\n",
       "<path style=\"fill:none;stroke-width:0.5;stroke-linecap:round;stroke-linejoin:round;stroke:rgb(74.509804%,74.509804%,74.509804%);stroke-opacity:1;stroke-miterlimit:10;\" d=\"M 138.65625 214.558594 L 138.65625 209.894531 \"/>\n",
       "<path style=\"fill:none;stroke-width:0.5;stroke-linecap:round;stroke-linejoin:round;stroke:rgb(74.509804%,74.509804%,74.509804%);stroke-opacity:1;stroke-miterlimit:10;\" d=\"M 139.804688 214.558594 L 139.804688 209.894531 \"/>\n",
       "<path style=\"fill:none;stroke-width:0.5;stroke-linecap:round;stroke-linejoin:round;stroke:rgb(74.509804%,74.509804%,74.509804%);stroke-opacity:1;stroke-miterlimit:10;\" d=\"M 139.902344 214.558594 L 139.902344 209.894531 \"/>\n",
       "<path style=\"fill:none;stroke-width:0.5;stroke-linecap:round;stroke-linejoin:round;stroke:rgb(74.509804%,74.509804%,74.509804%);stroke-opacity:1;stroke-miterlimit:10;\" d=\"M 141.324219 214.558594 L 141.324219 209.894531 \"/>\n",
       "<path style=\"fill:none;stroke-width:0.5;stroke-linecap:round;stroke-linejoin:round;stroke:rgb(74.509804%,74.509804%,74.509804%);stroke-opacity:1;stroke-miterlimit:10;\" d=\"M 141.65625 214.558594 L 141.65625 209.894531 \"/>\n",
       "<path style=\"fill:none;stroke-width:0.5;stroke-linecap:round;stroke-linejoin:round;stroke:rgb(74.509804%,74.509804%,74.509804%);stroke-opacity:1;stroke-miterlimit:10;\" d=\"M 141.722656 214.558594 L 141.722656 209.894531 \"/>\n",
       "<path style=\"fill:none;stroke-width:0.5;stroke-linecap:round;stroke-linejoin:round;stroke:rgb(74.509804%,74.509804%,74.509804%);stroke-opacity:1;stroke-miterlimit:10;\" d=\"M 143.648438 214.558594 L 143.648438 209.894531 \"/>\n",
       "<path style=\"fill:none;stroke-width:0.5;stroke-linecap:round;stroke-linejoin:round;stroke:rgb(74.509804%,74.509804%,74.509804%);stroke-opacity:1;stroke-miterlimit:10;\" d=\"M 144.074219 214.558594 L 144.074219 209.894531 \"/>\n",
       "<path style=\"fill:none;stroke-width:0.5;stroke-linecap:round;stroke-linejoin:round;stroke:rgb(74.509804%,74.509804%,74.509804%);stroke-opacity:1;stroke-miterlimit:10;\" d=\"M 145.339844 214.558594 L 145.339844 209.894531 \"/>\n",
       "<path style=\"fill:none;stroke-width:0.5;stroke-linecap:round;stroke-linejoin:round;stroke:rgb(74.509804%,74.509804%,74.509804%);stroke-opacity:1;stroke-miterlimit:10;\" d=\"M 147.027344 214.558594 L 147.027344 209.894531 \"/>\n",
       "<path style=\"fill:none;stroke-width:0.5;stroke-linecap:round;stroke-linejoin:round;stroke:rgb(74.509804%,74.509804%,74.509804%);stroke-opacity:1;stroke-miterlimit:10;\" d=\"M 147.515625 214.558594 L 147.515625 209.894531 \"/>\n",
       "<path style=\"fill:none;stroke-width:0.5;stroke-linecap:round;stroke-linejoin:round;stroke:rgb(74.509804%,74.509804%,74.509804%);stroke-opacity:1;stroke-miterlimit:10;\" d=\"M 147.585938 214.558594 L 147.585938 209.894531 \"/>\n",
       "<path style=\"fill:none;stroke-width:0.5;stroke-linecap:round;stroke-linejoin:round;stroke:rgb(74.509804%,74.509804%,74.509804%);stroke-opacity:1;stroke-miterlimit:10;\" d=\"M 147.890625 214.558594 L 147.890625 209.894531 \"/>\n",
       "<path style=\"fill:none;stroke-width:0.5;stroke-linecap:round;stroke-linejoin:round;stroke:rgb(74.509804%,74.509804%,74.509804%);stroke-opacity:1;stroke-miterlimit:10;\" d=\"M 148.101562 214.558594 L 148.101562 209.894531 \"/>\n",
       "<path style=\"fill:none;stroke-width:0.5;stroke-linecap:round;stroke-linejoin:round;stroke:rgb(74.509804%,74.509804%,74.509804%);stroke-opacity:1;stroke-miterlimit:10;\" d=\"M 148.71875 214.558594 L 148.71875 209.894531 \"/>\n",
       "<path style=\"fill:none;stroke-width:0.5;stroke-linecap:round;stroke-linejoin:round;stroke:rgb(74.509804%,74.509804%,74.509804%);stroke-opacity:1;stroke-miterlimit:10;\" d=\"M 150.003906 214.558594 L 150.003906 209.894531 \"/>\n",
       "<path style=\"fill:none;stroke-width:0.5;stroke-linecap:round;stroke-linejoin:round;stroke:rgb(74.509804%,74.509804%,74.509804%);stroke-opacity:1;stroke-miterlimit:10;\" d=\"M 150.488281 214.558594 L 150.488281 209.894531 \"/>\n",
       "<path style=\"fill:none;stroke-width:0.5;stroke-linecap:round;stroke-linejoin:round;stroke:rgb(74.509804%,74.509804%,74.509804%);stroke-opacity:1;stroke-miterlimit:10;\" d=\"M 150.71875 214.558594 L 150.71875 209.894531 \"/>\n",
       "<path style=\"fill:none;stroke-width:0.5;stroke-linecap:round;stroke-linejoin:round;stroke:rgb(74.509804%,74.509804%,74.509804%);stroke-opacity:1;stroke-miterlimit:10;\" d=\"M 151.886719 214.558594 L 151.886719 209.894531 \"/>\n",
       "<path style=\"fill:none;stroke-width:0.5;stroke-linecap:round;stroke-linejoin:round;stroke:rgb(74.509804%,74.509804%,74.509804%);stroke-opacity:1;stroke-miterlimit:10;\" d=\"M 154.335938 214.558594 L 154.335938 209.894531 \"/>\n",
       "<path style=\"fill:none;stroke-width:0.5;stroke-linecap:round;stroke-linejoin:round;stroke:rgb(74.509804%,74.509804%,74.509804%);stroke-opacity:1;stroke-miterlimit:10;\" d=\"M 154.507812 214.558594 L 154.507812 209.894531 \"/>\n",
       "<path style=\"fill:none;stroke-width:0.5;stroke-linecap:round;stroke-linejoin:round;stroke:rgb(74.509804%,74.509804%,74.509804%);stroke-opacity:1;stroke-miterlimit:10;\" d=\"M 155.257812 214.558594 L 155.257812 209.894531 \"/>\n",
       "<path style=\"fill:none;stroke-width:0.5;stroke-linecap:round;stroke-linejoin:round;stroke:rgb(74.509804%,74.509804%,74.509804%);stroke-opacity:1;stroke-miterlimit:10;\" d=\"M 155.75 214.558594 L 155.75 209.894531 \"/>\n",
       "<path style=\"fill:none;stroke-width:0.5;stroke-linecap:round;stroke-linejoin:round;stroke:rgb(74.509804%,74.509804%,74.509804%);stroke-opacity:1;stroke-miterlimit:10;\" d=\"M 155.949219 214.558594 L 155.949219 209.894531 \"/>\n",
       "<path style=\"fill:none;stroke-width:0.5;stroke-linecap:round;stroke-linejoin:round;stroke:rgb(74.509804%,74.509804%,74.509804%);stroke-opacity:1;stroke-miterlimit:10;\" d=\"M 156.777344 214.558594 L 156.777344 209.894531 \"/>\n",
       "<path style=\"fill:none;stroke-width:0.5;stroke-linecap:round;stroke-linejoin:round;stroke:rgb(74.509804%,74.509804%,74.509804%);stroke-opacity:1;stroke-miterlimit:10;\" d=\"M 158.183594 214.558594 L 158.183594 209.894531 \"/>\n",
       "<path style=\"fill:none;stroke-width:0.5;stroke-linecap:round;stroke-linejoin:round;stroke:rgb(74.509804%,74.509804%,74.509804%);stroke-opacity:1;stroke-miterlimit:10;\" d=\"M 159.578125 214.558594 L 159.578125 209.894531 \"/>\n",
       "<path style=\"fill:none;stroke-width:0.5;stroke-linecap:round;stroke-linejoin:round;stroke:rgb(74.509804%,74.509804%,74.509804%);stroke-opacity:1;stroke-miterlimit:10;\" d=\"M 159.609375 214.558594 L 159.609375 209.894531 \"/>\n",
       "<path style=\"fill:none;stroke-width:0.5;stroke-linecap:round;stroke-linejoin:round;stroke:rgb(74.509804%,74.509804%,74.509804%);stroke-opacity:1;stroke-miterlimit:10;\" d=\"M 159.878906 214.558594 L 159.878906 209.894531 \"/>\n",
       "<path style=\"fill:none;stroke-width:0.5;stroke-linecap:round;stroke-linejoin:round;stroke:rgb(74.509804%,74.509804%,74.509804%);stroke-opacity:1;stroke-miterlimit:10;\" d=\"M 163.679688 214.558594 L 163.679688 209.894531 \"/>\n",
       "<path style=\"fill:none;stroke-width:0.5;stroke-linecap:round;stroke-linejoin:round;stroke:rgb(74.509804%,74.509804%,74.509804%);stroke-opacity:1;stroke-miterlimit:10;\" d=\"M 164.796875 214.558594 L 164.796875 209.894531 \"/>\n",
       "<path style=\"fill:none;stroke-width:0.5;stroke-linecap:round;stroke-linejoin:round;stroke:rgb(74.509804%,74.509804%,74.509804%);stroke-opacity:1;stroke-miterlimit:10;\" d=\"M 164.863281 214.558594 L 164.863281 209.894531 \"/>\n",
       "<path style=\"fill:none;stroke-width:0.5;stroke-linecap:round;stroke-linejoin:round;stroke:rgb(74.509804%,74.509804%,74.509804%);stroke-opacity:1;stroke-miterlimit:10;\" d=\"M 165.039062 214.558594 L 165.039062 209.894531 \"/>\n",
       "<path style=\"fill:none;stroke-width:0.5;stroke-linecap:round;stroke-linejoin:round;stroke:rgb(74.509804%,74.509804%,74.509804%);stroke-opacity:1;stroke-miterlimit:10;\" d=\"M 166.039062 214.558594 L 166.039062 209.894531 \"/>\n",
       "<path style=\"fill:none;stroke-width:0.5;stroke-linecap:round;stroke-linejoin:round;stroke:rgb(74.509804%,74.509804%,74.509804%);stroke-opacity:1;stroke-miterlimit:10;\" d=\"M 167.476562 214.558594 L 167.476562 209.894531 \"/>\n",
       "<path style=\"fill:none;stroke-width:0.5;stroke-linecap:round;stroke-linejoin:round;stroke:rgb(74.509804%,74.509804%,74.509804%);stroke-opacity:1;stroke-miterlimit:10;\" d=\"M 169.996094 214.558594 L 169.996094 209.894531 \"/>\n",
       "<path style=\"fill:none;stroke-width:0.5;stroke-linecap:round;stroke-linejoin:round;stroke:rgb(74.509804%,74.509804%,74.509804%);stroke-opacity:1;stroke-miterlimit:10;\" d=\"M 170.734375 214.558594 L 170.734375 209.894531 \"/>\n",
       "<path style=\"fill:none;stroke-width:0.5;stroke-linecap:round;stroke-linejoin:round;stroke:rgb(74.509804%,74.509804%,74.509804%);stroke-opacity:1;stroke-miterlimit:10;\" d=\"M 172.28125 214.558594 L 172.28125 209.894531 \"/>\n",
       "<path style=\"fill:none;stroke-width:0.5;stroke-linecap:round;stroke-linejoin:round;stroke:rgb(74.509804%,74.509804%,74.509804%);stroke-opacity:1;stroke-miterlimit:10;\" d=\"M 172.324219 214.558594 L 172.324219 209.894531 \"/>\n",
       "<path style=\"fill:none;stroke-width:0.5;stroke-linecap:round;stroke-linejoin:round;stroke:rgb(74.509804%,74.509804%,74.509804%);stroke-opacity:1;stroke-miterlimit:10;\" d=\"M 173.320312 214.558594 L 173.320312 209.894531 \"/>\n",
       "<path style=\"fill:none;stroke-width:0.5;stroke-linecap:round;stroke-linejoin:round;stroke:rgb(74.509804%,74.509804%,74.509804%);stroke-opacity:1;stroke-miterlimit:10;\" d=\"M 173.769531 214.558594 L 173.769531 209.894531 \"/>\n",
       "<path style=\"fill:none;stroke-width:0.5;stroke-linecap:round;stroke-linejoin:round;stroke:rgb(74.509804%,74.509804%,74.509804%);stroke-opacity:1;stroke-miterlimit:10;\" d=\"M 174.738281 214.558594 L 174.738281 209.894531 \"/>\n",
       "<path style=\"fill:none;stroke-width:0.5;stroke-linecap:round;stroke-linejoin:round;stroke:rgb(74.509804%,74.509804%,74.509804%);stroke-opacity:1;stroke-miterlimit:10;\" d=\"M 175.058594 214.558594 L 175.058594 209.894531 \"/>\n",
       "<path style=\"fill:none;stroke-width:0.5;stroke-linecap:round;stroke-linejoin:round;stroke:rgb(74.509804%,74.509804%,74.509804%);stroke-opacity:1;stroke-miterlimit:10;\" d=\"M 175.519531 214.558594 L 175.519531 209.894531 \"/>\n",
       "<path style=\"fill:none;stroke-width:0.5;stroke-linecap:round;stroke-linejoin:round;stroke:rgb(74.509804%,74.509804%,74.509804%);stroke-opacity:1;stroke-miterlimit:10;\" d=\"M 176.257812 214.558594 L 176.257812 209.894531 \"/>\n",
       "<path style=\"fill:none;stroke-width:0.5;stroke-linecap:round;stroke-linejoin:round;stroke:rgb(74.509804%,74.509804%,74.509804%);stroke-opacity:1;stroke-miterlimit:10;\" d=\"M 176.378906 214.558594 L 176.378906 209.894531 \"/>\n",
       "<path style=\"fill:none;stroke-width:0.5;stroke-linecap:round;stroke-linejoin:round;stroke:rgb(74.509804%,74.509804%,74.509804%);stroke-opacity:1;stroke-miterlimit:10;\" d=\"M 178.058594 214.558594 L 178.058594 209.894531 \"/>\n",
       "<path style=\"fill:none;stroke-width:0.5;stroke-linecap:round;stroke-linejoin:round;stroke:rgb(74.509804%,74.509804%,74.509804%);stroke-opacity:1;stroke-miterlimit:10;\" d=\"M 178.574219 214.558594 L 178.574219 209.894531 \"/>\n",
       "<path style=\"fill:none;stroke-width:0.5;stroke-linecap:round;stroke-linejoin:round;stroke:rgb(74.509804%,74.509804%,74.509804%);stroke-opacity:1;stroke-miterlimit:10;\" d=\"M 178.730469 214.558594 L 178.730469 209.894531 \"/>\n",
       "<path style=\"fill:none;stroke-width:0.5;stroke-linecap:round;stroke-linejoin:round;stroke:rgb(74.509804%,74.509804%,74.509804%);stroke-opacity:1;stroke-miterlimit:10;\" d=\"M 179.582031 214.558594 L 179.582031 209.894531 \"/>\n",
       "<path style=\"fill:none;stroke-width:0.5;stroke-linecap:round;stroke-linejoin:round;stroke:rgb(74.509804%,74.509804%,74.509804%);stroke-opacity:1;stroke-miterlimit:10;\" d=\"M 180.9375 214.558594 L 180.9375 209.894531 \"/>\n",
       "<path style=\"fill:none;stroke-width:0.5;stroke-linecap:round;stroke-linejoin:round;stroke:rgb(74.509804%,74.509804%,74.509804%);stroke-opacity:1;stroke-miterlimit:10;\" d=\"M 182.238281 214.558594 L 182.238281 209.894531 \"/>\n",
       "<path style=\"fill:none;stroke-width:0.5;stroke-linecap:round;stroke-linejoin:round;stroke:rgb(74.509804%,74.509804%,74.509804%);stroke-opacity:1;stroke-miterlimit:10;\" d=\"M 184.988281 214.558594 L 184.988281 209.894531 \"/>\n",
       "<path style=\"fill:none;stroke-width:0.5;stroke-linecap:round;stroke-linejoin:round;stroke:rgb(74.509804%,74.509804%,74.509804%);stroke-opacity:1;stroke-miterlimit:10;\" d=\"M 185.1875 214.558594 L 185.1875 209.894531 \"/>\n",
       "<path style=\"fill:none;stroke-width:0.5;stroke-linecap:round;stroke-linejoin:round;stroke:rgb(74.509804%,74.509804%,74.509804%);stroke-opacity:1;stroke-miterlimit:10;\" d=\"M 186.835938 214.558594 L 186.835938 209.894531 \"/>\n",
       "<path style=\"fill:none;stroke-width:0.5;stroke-linecap:round;stroke-linejoin:round;stroke:rgb(74.509804%,74.509804%,74.509804%);stroke-opacity:1;stroke-miterlimit:10;\" d=\"M 186.980469 214.558594 L 186.980469 209.894531 \"/>\n",
       "<path style=\"fill:none;stroke-width:0.5;stroke-linecap:round;stroke-linejoin:round;stroke:rgb(74.509804%,74.509804%,74.509804%);stroke-opacity:1;stroke-miterlimit:10;\" d=\"M 187.316406 214.558594 L 187.316406 209.894531 \"/>\n",
       "<path style=\"fill:none;stroke-width:0.5;stroke-linecap:round;stroke-linejoin:round;stroke:rgb(74.509804%,74.509804%,74.509804%);stroke-opacity:1;stroke-miterlimit:10;\" d=\"M 191.023438 214.558594 L 191.023438 209.894531 \"/>\n",
       "<path style=\"fill:none;stroke-width:0.5;stroke-linecap:round;stroke-linejoin:round;stroke:rgb(74.509804%,74.509804%,74.509804%);stroke-opacity:1;stroke-miterlimit:10;\" d=\"M 191.730469 214.558594 L 191.730469 209.894531 \"/>\n",
       "<path style=\"fill:none;stroke-width:0.5;stroke-linecap:round;stroke-linejoin:round;stroke:rgb(74.509804%,74.509804%,74.509804%);stroke-opacity:1;stroke-miterlimit:10;\" d=\"M 199.015625 214.558594 L 199.015625 209.894531 \"/>\n",
       "<path style=\"fill:none;stroke-width:0.5;stroke-linecap:round;stroke-linejoin:round;stroke:rgb(74.509804%,74.509804%,74.509804%);stroke-opacity:1;stroke-miterlimit:10;\" d=\"M 199.359375 214.558594 L 199.359375 209.894531 \"/>\n",
       "<path style=\"fill:none;stroke-width:0.5;stroke-linecap:round;stroke-linejoin:round;stroke:rgb(74.509804%,74.509804%,74.509804%);stroke-opacity:1;stroke-miterlimit:10;\" d=\"M 201.53125 214.558594 L 201.53125 209.894531 \"/>\n",
       "<path style=\"fill:none;stroke-width:0.5;stroke-linecap:round;stroke-linejoin:round;stroke:rgb(74.509804%,74.509804%,74.509804%);stroke-opacity:1;stroke-miterlimit:10;\" d=\"M 201.871094 214.558594 L 201.871094 209.894531 \"/>\n",
       "<path style=\"fill:none;stroke-width:0.5;stroke-linecap:round;stroke-linejoin:round;stroke:rgb(74.509804%,74.509804%,74.509804%);stroke-opacity:1;stroke-miterlimit:10;\" d=\"M 202.695312 214.558594 L 202.695312 209.894531 \"/>\n",
       "<path style=\"fill:none;stroke-width:0.5;stroke-linecap:round;stroke-linejoin:round;stroke:rgb(74.509804%,74.509804%,74.509804%);stroke-opacity:1;stroke-miterlimit:10;\" d=\"M 202.835938 214.558594 L 202.835938 209.894531 \"/>\n",
       "<path style=\"fill:none;stroke-width:0.5;stroke-linecap:round;stroke-linejoin:round;stroke:rgb(74.509804%,74.509804%,74.509804%);stroke-opacity:1;stroke-miterlimit:10;\" d=\"M 203.515625 214.558594 L 203.515625 209.894531 \"/>\n",
       "<path style=\"fill:none;stroke-width:0.5;stroke-linecap:round;stroke-linejoin:round;stroke:rgb(74.509804%,74.509804%,74.509804%);stroke-opacity:1;stroke-miterlimit:10;\" d=\"M 204.128906 214.558594 L 204.128906 209.894531 \"/>\n",
       "<path style=\"fill:none;stroke-width:0.5;stroke-linecap:round;stroke-linejoin:round;stroke:rgb(74.509804%,74.509804%,74.509804%);stroke-opacity:1;stroke-miterlimit:10;\" d=\"M 204.738281 214.558594 L 204.738281 209.894531 \"/>\n",
       "<path style=\"fill:none;stroke-width:0.5;stroke-linecap:round;stroke-linejoin:round;stroke:rgb(74.509804%,74.509804%,74.509804%);stroke-opacity:1;stroke-miterlimit:10;\" d=\"M 204.785156 214.558594 L 204.785156 209.894531 \"/>\n",
       "<path style=\"fill:none;stroke-width:0.5;stroke-linecap:round;stroke-linejoin:round;stroke:rgb(74.509804%,74.509804%,74.509804%);stroke-opacity:1;stroke-miterlimit:10;\" d=\"M 204.871094 214.558594 L 204.871094 209.894531 \"/>\n",
       "<path style=\"fill:none;stroke-width:0.5;stroke-linecap:round;stroke-linejoin:round;stroke:rgb(74.509804%,74.509804%,74.509804%);stroke-opacity:1;stroke-miterlimit:10;\" d=\"M 205.726562 214.558594 L 205.726562 209.894531 \"/>\n",
       "<path style=\"fill:none;stroke-width:0.5;stroke-linecap:round;stroke-linejoin:round;stroke:rgb(74.509804%,74.509804%,74.509804%);stroke-opacity:1;stroke-miterlimit:10;\" d=\"M 205.800781 214.558594 L 205.800781 209.894531 \"/>\n",
       "<path style=\"fill:none;stroke-width:0.5;stroke-linecap:round;stroke-linejoin:round;stroke:rgb(74.509804%,74.509804%,74.509804%);stroke-opacity:1;stroke-miterlimit:10;\" d=\"M 206.136719 214.558594 L 206.136719 209.894531 \"/>\n",
       "<path style=\"fill:none;stroke-width:0.5;stroke-linecap:round;stroke-linejoin:round;stroke:rgb(74.509804%,74.509804%,74.509804%);stroke-opacity:1;stroke-miterlimit:10;\" d=\"M 207.214844 214.558594 L 207.214844 209.894531 \"/>\n",
       "<path style=\"fill:none;stroke-width:0.5;stroke-linecap:round;stroke-linejoin:round;stroke:rgb(74.509804%,74.509804%,74.509804%);stroke-opacity:1;stroke-miterlimit:10;\" d=\"M 208.667969 214.558594 L 208.667969 209.894531 \"/>\n",
       "<path style=\"fill:none;stroke-width:0.5;stroke-linecap:round;stroke-linejoin:round;stroke:rgb(74.509804%,74.509804%,74.509804%);stroke-opacity:1;stroke-miterlimit:10;\" d=\"M 209.175781 214.558594 L 209.175781 209.894531 \"/>\n",
       "<path style=\"fill:none;stroke-width:0.5;stroke-linecap:round;stroke-linejoin:round;stroke:rgb(74.509804%,74.509804%,74.509804%);stroke-opacity:1;stroke-miterlimit:10;\" d=\"M 209.230469 214.558594 L 209.230469 209.894531 \"/>\n",
       "<path style=\"fill:none;stroke-width:0.5;stroke-linecap:round;stroke-linejoin:round;stroke:rgb(74.509804%,74.509804%,74.509804%);stroke-opacity:1;stroke-miterlimit:10;\" d=\"M 209.683594 214.558594 L 209.683594 209.894531 \"/>\n",
       "<path style=\"fill:none;stroke-width:0.5;stroke-linecap:round;stroke-linejoin:round;stroke:rgb(74.509804%,74.509804%,74.509804%);stroke-opacity:1;stroke-miterlimit:10;\" d=\"M 209.773438 214.558594 L 209.773438 209.894531 \"/>\n",
       "<path style=\"fill:none;stroke-width:0.5;stroke-linecap:round;stroke-linejoin:round;stroke:rgb(74.509804%,74.509804%,74.509804%);stroke-opacity:1;stroke-miterlimit:10;\" d=\"M 210.15625 214.558594 L 210.15625 209.894531 \"/>\n",
       "<path style=\"fill:none;stroke-width:0.5;stroke-linecap:round;stroke-linejoin:round;stroke:rgb(74.509804%,74.509804%,74.509804%);stroke-opacity:1;stroke-miterlimit:10;\" d=\"M 210.605469 214.558594 L 210.605469 209.894531 \"/>\n",
       "<path style=\"fill:none;stroke-width:0.5;stroke-linecap:round;stroke-linejoin:round;stroke:rgb(74.509804%,74.509804%,74.509804%);stroke-opacity:1;stroke-miterlimit:10;\" d=\"M 210.621094 214.558594 L 210.621094 209.894531 \"/>\n",
       "<path style=\"fill:none;stroke-width:0.5;stroke-linecap:round;stroke-linejoin:round;stroke:rgb(74.509804%,74.509804%,74.509804%);stroke-opacity:1;stroke-miterlimit:10;\" d=\"M 212.121094 214.558594 L 212.121094 209.894531 \"/>\n",
       "<path style=\"fill:none;stroke-width:0.5;stroke-linecap:round;stroke-linejoin:round;stroke:rgb(74.509804%,74.509804%,74.509804%);stroke-opacity:1;stroke-miterlimit:10;\" d=\"M 212.324219 214.558594 L 212.324219 209.894531 \"/>\n",
       "<path style=\"fill:none;stroke-width:0.5;stroke-linecap:round;stroke-linejoin:round;stroke:rgb(74.509804%,74.509804%,74.509804%);stroke-opacity:1;stroke-miterlimit:10;\" d=\"M 215.367188 214.558594 L 215.367188 209.894531 \"/>\n",
       "<path style=\"fill:none;stroke-width:0.5;stroke-linecap:round;stroke-linejoin:round;stroke:rgb(74.509804%,74.509804%,74.509804%);stroke-opacity:1;stroke-miterlimit:10;\" d=\"M 215.566406 214.558594 L 215.566406 209.894531 \"/>\n",
       "<path style=\"fill:none;stroke-width:0.5;stroke-linecap:round;stroke-linejoin:round;stroke:rgb(74.509804%,74.509804%,74.509804%);stroke-opacity:1;stroke-miterlimit:10;\" d=\"M 215.578125 214.558594 L 215.578125 209.894531 \"/>\n",
       "<path style=\"fill:none;stroke-width:0.5;stroke-linecap:round;stroke-linejoin:round;stroke:rgb(74.509804%,74.509804%,74.509804%);stroke-opacity:1;stroke-miterlimit:10;\" d=\"M 215.761719 214.558594 L 215.761719 209.894531 \"/>\n",
       "<path style=\"fill:none;stroke-width:0.5;stroke-linecap:round;stroke-linejoin:round;stroke:rgb(74.509804%,74.509804%,74.509804%);stroke-opacity:1;stroke-miterlimit:10;\" d=\"M 216.273438 214.558594 L 216.273438 209.894531 \"/>\n",
       "<path style=\"fill:none;stroke-width:0.5;stroke-linecap:round;stroke-linejoin:round;stroke:rgb(74.509804%,74.509804%,74.509804%);stroke-opacity:1;stroke-miterlimit:10;\" d=\"M 218.882812 214.558594 L 218.882812 209.894531 \"/>\n",
       "<path style=\"fill:none;stroke-width:0.5;stroke-linecap:round;stroke-linejoin:round;stroke:rgb(74.509804%,74.509804%,74.509804%);stroke-opacity:1;stroke-miterlimit:10;\" d=\"M 220.402344 214.558594 L 220.402344 209.894531 \"/>\n",
       "<path style=\"fill:none;stroke-width:0.5;stroke-linecap:round;stroke-linejoin:round;stroke:rgb(74.509804%,74.509804%,74.509804%);stroke-opacity:1;stroke-miterlimit:10;\" d=\"M 221.6875 214.558594 L 221.6875 209.894531 \"/>\n",
       "<path style=\"fill:none;stroke-width:0.5;stroke-linecap:round;stroke-linejoin:round;stroke:rgb(74.509804%,74.509804%,74.509804%);stroke-opacity:1;stroke-miterlimit:10;\" d=\"M 221.761719 214.558594 L 221.761719 209.894531 \"/>\n",
       "<path style=\"fill:none;stroke-width:0.5;stroke-linecap:round;stroke-linejoin:round;stroke:rgb(74.509804%,74.509804%,74.509804%);stroke-opacity:1;stroke-miterlimit:10;\" d=\"M 222.875 214.558594 L 222.875 209.894531 \"/>\n",
       "<path style=\"fill:none;stroke-width:0.5;stroke-linecap:round;stroke-linejoin:round;stroke:rgb(74.509804%,74.509804%,74.509804%);stroke-opacity:1;stroke-miterlimit:10;\" d=\"M 223.21875 214.558594 L 223.21875 209.894531 \"/>\n",
       "<path style=\"fill:none;stroke-width:0.5;stroke-linecap:round;stroke-linejoin:round;stroke:rgb(74.509804%,74.509804%,74.509804%);stroke-opacity:1;stroke-miterlimit:10;\" d=\"M 224.792969 214.558594 L 224.792969 209.894531 \"/>\n",
       "<path style=\"fill:none;stroke-width:0.5;stroke-linecap:round;stroke-linejoin:round;stroke:rgb(74.509804%,74.509804%,74.509804%);stroke-opacity:1;stroke-miterlimit:10;\" d=\"M 225.171875 214.558594 L 225.171875 209.894531 \"/>\n",
       "<path style=\"fill:none;stroke-width:0.5;stroke-linecap:round;stroke-linejoin:round;stroke:rgb(74.509804%,74.509804%,74.509804%);stroke-opacity:1;stroke-miterlimit:10;\" d=\"M 226.859375 214.558594 L 226.859375 209.894531 \"/>\n",
       "<path style=\"fill:none;stroke-width:0.5;stroke-linecap:round;stroke-linejoin:round;stroke:rgb(74.509804%,74.509804%,74.509804%);stroke-opacity:1;stroke-miterlimit:10;\" d=\"M 227.78125 214.558594 L 227.78125 209.894531 \"/>\n",
       "<path style=\"fill:none;stroke-width:0.5;stroke-linecap:round;stroke-linejoin:round;stroke:rgb(74.509804%,74.509804%,74.509804%);stroke-opacity:1;stroke-miterlimit:10;\" d=\"M 228.609375 214.558594 L 228.609375 209.894531 \"/>\n",
       "<path style=\"fill:none;stroke-width:0.5;stroke-linecap:round;stroke-linejoin:round;stroke:rgb(74.509804%,74.509804%,74.509804%);stroke-opacity:1;stroke-miterlimit:10;\" d=\"M 228.863281 214.558594 L 228.863281 209.894531 \"/>\n",
       "<path style=\"fill:none;stroke-width:0.5;stroke-linecap:round;stroke-linejoin:round;stroke:rgb(74.509804%,74.509804%,74.509804%);stroke-opacity:1;stroke-miterlimit:10;\" d=\"M 231.730469 214.558594 L 231.730469 209.894531 \"/>\n",
       "<path style=\"fill:none;stroke-width:0.5;stroke-linecap:round;stroke-linejoin:round;stroke:rgb(74.509804%,74.509804%,74.509804%);stroke-opacity:1;stroke-miterlimit:10;\" d=\"M 232.316406 214.558594 L 232.316406 209.894531 \"/>\n",
       "<path style=\"fill:none;stroke-width:0.5;stroke-linecap:round;stroke-linejoin:round;stroke:rgb(74.509804%,74.509804%,74.509804%);stroke-opacity:1;stroke-miterlimit:10;\" d=\"M 233.734375 214.558594 L 233.734375 209.894531 \"/>\n",
       "<path style=\"fill:none;stroke-width:0.5;stroke-linecap:round;stroke-linejoin:round;stroke:rgb(74.509804%,74.509804%,74.509804%);stroke-opacity:1;stroke-miterlimit:10;\" d=\"M 234.519531 214.558594 L 234.519531 209.894531 \"/>\n",
       "<path style=\"fill:none;stroke-width:0.5;stroke-linecap:round;stroke-linejoin:round;stroke:rgb(74.509804%,74.509804%,74.509804%);stroke-opacity:1;stroke-miterlimit:10;\" d=\"M 234.554688 214.558594 L 234.554688 209.894531 \"/>\n",
       "<path style=\"fill:none;stroke-width:0.5;stroke-linecap:round;stroke-linejoin:round;stroke:rgb(74.509804%,74.509804%,74.509804%);stroke-opacity:1;stroke-miterlimit:10;\" d=\"M 235.339844 214.558594 L 235.339844 209.894531 \"/>\n",
       "<path style=\"fill:none;stroke-width:0.5;stroke-linecap:round;stroke-linejoin:round;stroke:rgb(74.509804%,74.509804%,74.509804%);stroke-opacity:1;stroke-miterlimit:10;\" d=\"M 235.394531 214.558594 L 235.394531 209.894531 \"/>\n",
       "<path style=\"fill:none;stroke-width:0.5;stroke-linecap:round;stroke-linejoin:round;stroke:rgb(74.509804%,74.509804%,74.509804%);stroke-opacity:1;stroke-miterlimit:10;\" d=\"M 235.402344 214.558594 L 235.402344 209.894531 \"/>\n",
       "<path style=\"fill:none;stroke-width:0.5;stroke-linecap:round;stroke-linejoin:round;stroke:rgb(74.509804%,74.509804%,74.509804%);stroke-opacity:1;stroke-miterlimit:10;\" d=\"M 236.320312 214.558594 L 236.320312 209.894531 \"/>\n",
       "<path style=\"fill:none;stroke-width:0.5;stroke-linecap:round;stroke-linejoin:round;stroke:rgb(74.509804%,74.509804%,74.509804%);stroke-opacity:1;stroke-miterlimit:10;\" d=\"M 237.179688 214.558594 L 237.179688 209.894531 \"/>\n",
       "<path style=\"fill:none;stroke-width:0.5;stroke-linecap:round;stroke-linejoin:round;stroke:rgb(74.509804%,74.509804%,74.509804%);stroke-opacity:1;stroke-miterlimit:10;\" d=\"M 237.40625 214.558594 L 237.40625 209.894531 \"/>\n",
       "<path style=\"fill:none;stroke-width:0.5;stroke-linecap:round;stroke-linejoin:round;stroke:rgb(74.509804%,74.509804%,74.509804%);stroke-opacity:1;stroke-miterlimit:10;\" d=\"M 237.566406 214.558594 L 237.566406 209.894531 \"/>\n",
       "<path style=\"fill:none;stroke-width:0.5;stroke-linecap:round;stroke-linejoin:round;stroke:rgb(74.509804%,74.509804%,74.509804%);stroke-opacity:1;stroke-miterlimit:10;\" d=\"M 237.738281 214.558594 L 237.738281 209.894531 \"/>\n",
       "<path style=\"fill:none;stroke-width:0.5;stroke-linecap:round;stroke-linejoin:round;stroke:rgb(74.509804%,74.509804%,74.509804%);stroke-opacity:1;stroke-miterlimit:10;\" d=\"M 238.023438 214.558594 L 238.023438 209.894531 \"/>\n",
       "<path style=\"fill:none;stroke-width:0.5;stroke-linecap:round;stroke-linejoin:round;stroke:rgb(74.509804%,74.509804%,74.509804%);stroke-opacity:1;stroke-miterlimit:10;\" d=\"M 238.996094 214.558594 L 238.996094 209.894531 \"/>\n",
       "<path style=\"fill:none;stroke-width:0.5;stroke-linecap:round;stroke-linejoin:round;stroke:rgb(74.509804%,74.509804%,74.509804%);stroke-opacity:1;stroke-miterlimit:10;\" d=\"M 239.074219 214.558594 L 239.074219 209.894531 \"/>\n",
       "<path style=\"fill:none;stroke-width:0.5;stroke-linecap:round;stroke-linejoin:round;stroke:rgb(74.509804%,74.509804%,74.509804%);stroke-opacity:1;stroke-miterlimit:10;\" d=\"M 240.878906 214.558594 L 240.878906 209.894531 \"/>\n",
       "<path style=\"fill:none;stroke-width:0.5;stroke-linecap:round;stroke-linejoin:round;stroke:rgb(74.509804%,74.509804%,74.509804%);stroke-opacity:1;stroke-miterlimit:10;\" d=\"M 242.058594 214.558594 L 242.058594 209.894531 \"/>\n",
       "<path style=\"fill:none;stroke-width:0.5;stroke-linecap:round;stroke-linejoin:round;stroke:rgb(74.509804%,74.509804%,74.509804%);stroke-opacity:1;stroke-miterlimit:10;\" d=\"M 243.566406 214.558594 L 243.566406 209.894531 \"/>\n",
       "<path style=\"fill:none;stroke-width:0.5;stroke-linecap:round;stroke-linejoin:round;stroke:rgb(74.509804%,74.509804%,74.509804%);stroke-opacity:1;stroke-miterlimit:10;\" d=\"M 244.410156 214.558594 L 244.410156 209.894531 \"/>\n",
       "<path style=\"fill:none;stroke-width:0.5;stroke-linecap:round;stroke-linejoin:round;stroke:rgb(74.509804%,74.509804%,74.509804%);stroke-opacity:1;stroke-miterlimit:10;\" d=\"M 245.066406 214.558594 L 245.066406 209.894531 \"/>\n",
       "<path style=\"fill:none;stroke-width:0.5;stroke-linecap:round;stroke-linejoin:round;stroke:rgb(74.509804%,74.509804%,74.509804%);stroke-opacity:1;stroke-miterlimit:10;\" d=\"M 248.863281 214.558594 L 248.863281 209.894531 \"/>\n",
       "<path style=\"fill:none;stroke-width:0.5;stroke-linecap:round;stroke-linejoin:round;stroke:rgb(74.509804%,74.509804%,74.509804%);stroke-opacity:1;stroke-miterlimit:10;\" d=\"M 248.871094 214.558594 L 248.871094 209.894531 \"/>\n",
       "<path style=\"fill:none;stroke-width:0.5;stroke-linecap:round;stroke-linejoin:round;stroke:rgb(74.509804%,74.509804%,74.509804%);stroke-opacity:1;stroke-miterlimit:10;\" d=\"M 249.085938 214.558594 L 249.085938 209.894531 \"/>\n",
       "<path style=\"fill:none;stroke-width:0.5;stroke-linecap:round;stroke-linejoin:round;stroke:rgb(74.509804%,74.509804%,74.509804%);stroke-opacity:1;stroke-miterlimit:10;\" d=\"M 250.070312 214.558594 L 250.070312 209.894531 \"/>\n",
       "<path style=\"fill:none;stroke-width:0.5;stroke-linecap:round;stroke-linejoin:round;stroke:rgb(74.509804%,74.509804%,74.509804%);stroke-opacity:1;stroke-miterlimit:10;\" d=\"M 250.398438 214.558594 L 250.398438 209.894531 \"/>\n",
       "<path style=\"fill:none;stroke-width:0.5;stroke-linecap:round;stroke-linejoin:round;stroke:rgb(74.509804%,74.509804%,74.509804%);stroke-opacity:1;stroke-miterlimit:10;\" d=\"M 59.039062 208.800781 L 63.707031 208.800781 \"/>\n",
       "<path style=\"fill:none;stroke-width:0.5;stroke-linecap:round;stroke-linejoin:round;stroke:rgb(74.509804%,74.509804%,74.509804%);stroke-opacity:1;stroke-miterlimit:10;\" d=\"M 59.039062 208.40625 L 63.707031 208.40625 \"/>\n",
       "<path style=\"fill:none;stroke-width:0.5;stroke-linecap:round;stroke-linejoin:round;stroke:rgb(74.509804%,74.509804%,74.509804%);stroke-opacity:1;stroke-miterlimit:10;\" d=\"M 59.039062 207.8125 L 63.707031 207.8125 \"/>\n",
       "<path style=\"fill:none;stroke-width:0.5;stroke-linecap:round;stroke-linejoin:round;stroke:rgb(74.509804%,74.509804%,74.509804%);stroke-opacity:1;stroke-miterlimit:10;\" d=\"M 59.039062 206.980469 L 63.707031 206.980469 \"/>\n",
       "<path style=\"fill:none;stroke-width:0.5;stroke-linecap:round;stroke-linejoin:round;stroke:rgb(74.509804%,74.509804%,74.509804%);stroke-opacity:1;stroke-miterlimit:10;\" d=\"M 59.039062 205.511719 L 63.707031 205.511719 \"/>\n",
       "<path style=\"fill:none;stroke-width:0.5;stroke-linecap:round;stroke-linejoin:round;stroke:rgb(74.509804%,74.509804%,74.509804%);stroke-opacity:1;stroke-miterlimit:10;\" d=\"M 59.039062 205.222656 L 63.707031 205.222656 \"/>\n",
       "<path style=\"fill:none;stroke-width:0.5;stroke-linecap:round;stroke-linejoin:round;stroke:rgb(74.509804%,74.509804%,74.509804%);stroke-opacity:1;stroke-miterlimit:10;\" d=\"M 59.039062 205.097656 L 63.707031 205.097656 \"/>\n",
       "<path style=\"fill:none;stroke-width:0.5;stroke-linecap:round;stroke-linejoin:round;stroke:rgb(74.509804%,74.509804%,74.509804%);stroke-opacity:1;stroke-miterlimit:10;\" d=\"M 59.039062 202.871094 L 63.707031 202.871094 \"/>\n",
       "<path style=\"fill:none;stroke-width:0.5;stroke-linecap:round;stroke-linejoin:round;stroke:rgb(74.509804%,74.509804%,74.509804%);stroke-opacity:1;stroke-miterlimit:10;\" d=\"M 59.039062 202.308594 L 63.707031 202.308594 \"/>\n",
       "<path style=\"fill:none;stroke-width:0.5;stroke-linecap:round;stroke-linejoin:round;stroke:rgb(74.509804%,74.509804%,74.509804%);stroke-opacity:1;stroke-miterlimit:10;\" d=\"M 59.039062 202.25 L 63.707031 202.25 \"/>\n",
       "<path style=\"fill:none;stroke-width:0.5;stroke-linecap:round;stroke-linejoin:round;stroke:rgb(74.509804%,74.509804%,74.509804%);stroke-opacity:1;stroke-miterlimit:10;\" d=\"M 59.039062 201.144531 L 63.707031 201.144531 \"/>\n",
       "<path style=\"fill:none;stroke-width:0.5;stroke-linecap:round;stroke-linejoin:round;stroke:rgb(74.509804%,74.509804%,74.509804%);stroke-opacity:1;stroke-miterlimit:10;\" d=\"M 59.039062 199.144531 L 63.707031 199.144531 \"/>\n",
       "<path style=\"fill:none;stroke-width:0.5;stroke-linecap:round;stroke-linejoin:round;stroke:rgb(74.509804%,74.509804%,74.509804%);stroke-opacity:1;stroke-miterlimit:10;\" d=\"M 59.039062 198.949219 L 63.707031 198.949219 \"/>\n",
       "<path style=\"fill:none;stroke-width:0.5;stroke-linecap:round;stroke-linejoin:round;stroke:rgb(74.509804%,74.509804%,74.509804%);stroke-opacity:1;stroke-miterlimit:10;\" d=\"M 59.039062 198.011719 L 63.707031 198.011719 \"/>\n",
       "<path style=\"fill:none;stroke-width:0.5;stroke-linecap:round;stroke-linejoin:round;stroke:rgb(74.509804%,74.509804%,74.509804%);stroke-opacity:1;stroke-miterlimit:10;\" d=\"M 59.039062 197.601562 L 63.707031 197.601562 \"/>\n",
       "<path style=\"fill:none;stroke-width:0.5;stroke-linecap:round;stroke-linejoin:round;stroke:rgb(74.509804%,74.509804%,74.509804%);stroke-opacity:1;stroke-miterlimit:10;\" d=\"M 59.039062 196.875 L 63.707031 196.875 \"/>\n",
       "<path style=\"fill:none;stroke-width:0.5;stroke-linecap:round;stroke-linejoin:round;stroke:rgb(74.509804%,74.509804%,74.509804%);stroke-opacity:1;stroke-miterlimit:10;\" d=\"M 59.039062 196.542969 L 63.707031 196.542969 \"/>\n",
       "<path style=\"fill:none;stroke-width:0.5;stroke-linecap:round;stroke-linejoin:round;stroke:rgb(74.509804%,74.509804%,74.509804%);stroke-opacity:1;stroke-miterlimit:10;\" d=\"M 59.039062 196.296875 L 63.707031 196.296875 \"/>\n",
       "<path style=\"fill:none;stroke-width:0.5;stroke-linecap:round;stroke-linejoin:round;stroke:rgb(74.509804%,74.509804%,74.509804%);stroke-opacity:1;stroke-miterlimit:10;\" d=\"M 59.039062 192.175781 L 63.707031 192.175781 \"/>\n",
       "<path style=\"fill:none;stroke-width:0.5;stroke-linecap:round;stroke-linejoin:round;stroke:rgb(74.509804%,74.509804%,74.509804%);stroke-opacity:1;stroke-miterlimit:10;\" d=\"M 59.039062 191.054688 L 63.707031 191.054688 \"/>\n",
       "<path style=\"fill:none;stroke-width:0.5;stroke-linecap:round;stroke-linejoin:round;stroke:rgb(74.509804%,74.509804%,74.509804%);stroke-opacity:1;stroke-miterlimit:10;\" d=\"M 59.039062 190.789062 L 63.707031 190.789062 \"/>\n",
       "<path style=\"fill:none;stroke-width:0.5;stroke-linecap:round;stroke-linejoin:round;stroke:rgb(74.509804%,74.509804%,74.509804%);stroke-opacity:1;stroke-miterlimit:10;\" d=\"M 59.039062 190.234375 L 63.707031 190.234375 \"/>\n",
       "<path style=\"fill:none;stroke-width:0.5;stroke-linecap:round;stroke-linejoin:round;stroke:rgb(74.509804%,74.509804%,74.509804%);stroke-opacity:1;stroke-miterlimit:10;\" d=\"M 59.039062 190.167969 L 63.707031 190.167969 \"/>\n",
       "<path style=\"fill:none;stroke-width:0.5;stroke-linecap:round;stroke-linejoin:round;stroke:rgb(74.509804%,74.509804%,74.509804%);stroke-opacity:1;stroke-miterlimit:10;\" d=\"M 59.039062 188.957031 L 63.707031 188.957031 \"/>\n",
       "<path style=\"fill:none;stroke-width:0.5;stroke-linecap:round;stroke-linejoin:round;stroke:rgb(74.509804%,74.509804%,74.509804%);stroke-opacity:1;stroke-miterlimit:10;\" d=\"M 59.039062 188.617188 L 63.707031 188.617188 \"/>\n",
       "<path style=\"fill:none;stroke-width:0.5;stroke-linecap:round;stroke-linejoin:round;stroke:rgb(74.509804%,74.509804%,74.509804%);stroke-opacity:1;stroke-miterlimit:10;\" d=\"M 59.039062 187.269531 L 63.707031 187.269531 \"/>\n",
       "<path style=\"fill:none;stroke-width:0.5;stroke-linecap:round;stroke-linejoin:round;stroke:rgb(74.509804%,74.509804%,74.509804%);stroke-opacity:1;stroke-miterlimit:10;\" d=\"M 59.039062 187.125 L 63.707031 187.125 \"/>\n",
       "<path style=\"fill:none;stroke-width:0.5;stroke-linecap:round;stroke-linejoin:round;stroke:rgb(74.509804%,74.509804%,74.509804%);stroke-opacity:1;stroke-miterlimit:10;\" d=\"M 59.039062 185.398438 L 63.707031 185.398438 \"/>\n",
       "<path style=\"fill:none;stroke-width:0.5;stroke-linecap:round;stroke-linejoin:round;stroke:rgb(74.509804%,74.509804%,74.509804%);stroke-opacity:1;stroke-miterlimit:10;\" d=\"M 59.039062 184.765625 L 63.707031 184.765625 \"/>\n",
       "<path style=\"fill:none;stroke-width:0.5;stroke-linecap:round;stroke-linejoin:round;stroke:rgb(74.509804%,74.509804%,74.509804%);stroke-opacity:1;stroke-miterlimit:10;\" d=\"M 59.039062 181.644531 L 63.707031 181.644531 \"/>\n",
       "<path style=\"fill:none;stroke-width:0.5;stroke-linecap:round;stroke-linejoin:round;stroke:rgb(74.509804%,74.509804%,74.509804%);stroke-opacity:1;stroke-miterlimit:10;\" d=\"M 59.039062 179.710938 L 63.707031 179.710938 \"/>\n",
       "<path style=\"fill:none;stroke-width:0.5;stroke-linecap:round;stroke-linejoin:round;stroke:rgb(74.509804%,74.509804%,74.509804%);stroke-opacity:1;stroke-miterlimit:10;\" d=\"M 59.039062 178.371094 L 63.707031 178.371094 \"/>\n",
       "<path style=\"fill:none;stroke-width:0.5;stroke-linecap:round;stroke-linejoin:round;stroke:rgb(74.509804%,74.509804%,74.509804%);stroke-opacity:1;stroke-miterlimit:10;\" d=\"M 59.039062 178.242188 L 63.707031 178.242188 \"/>\n",
       "<path style=\"fill:none;stroke-width:0.5;stroke-linecap:round;stroke-linejoin:round;stroke:rgb(74.509804%,74.509804%,74.509804%);stroke-opacity:1;stroke-miterlimit:10;\" d=\"M 59.039062 177.695312 L 63.707031 177.695312 \"/>\n",
       "<path style=\"fill:none;stroke-width:0.5;stroke-linecap:round;stroke-linejoin:round;stroke:rgb(74.509804%,74.509804%,74.509804%);stroke-opacity:1;stroke-miterlimit:10;\" d=\"M 59.039062 177.496094 L 63.707031 177.496094 \"/>\n",
       "<path style=\"fill:none;stroke-width:0.5;stroke-linecap:round;stroke-linejoin:round;stroke:rgb(74.509804%,74.509804%,74.509804%);stroke-opacity:1;stroke-miterlimit:10;\" d=\"M 59.039062 174.082031 L 63.707031 174.082031 \"/>\n",
       "<path style=\"fill:none;stroke-width:0.5;stroke-linecap:round;stroke-linejoin:round;stroke:rgb(74.509804%,74.509804%,74.509804%);stroke-opacity:1;stroke-miterlimit:10;\" d=\"M 59.039062 174.082031 L 63.707031 174.082031 \"/>\n",
       "<path style=\"fill:none;stroke-width:0.5;stroke-linecap:round;stroke-linejoin:round;stroke:rgb(74.509804%,74.509804%,74.509804%);stroke-opacity:1;stroke-miterlimit:10;\" d=\"M 59.039062 173.730469 L 63.707031 173.730469 \"/>\n",
       "<path style=\"fill:none;stroke-width:0.5;stroke-linecap:round;stroke-linejoin:round;stroke:rgb(74.509804%,74.509804%,74.509804%);stroke-opacity:1;stroke-miterlimit:10;\" d=\"M 59.039062 173.480469 L 63.707031 173.480469 \"/>\n",
       "<path style=\"fill:none;stroke-width:0.5;stroke-linecap:round;stroke-linejoin:round;stroke:rgb(74.509804%,74.509804%,74.509804%);stroke-opacity:1;stroke-miterlimit:10;\" d=\"M 59.039062 173.472656 L 63.707031 173.472656 \"/>\n",
       "<path style=\"fill:none;stroke-width:0.5;stroke-linecap:round;stroke-linejoin:round;stroke:rgb(74.509804%,74.509804%,74.509804%);stroke-opacity:1;stroke-miterlimit:10;\" d=\"M 59.039062 173.4375 L 63.707031 173.4375 \"/>\n",
       "<path style=\"fill:none;stroke-width:0.5;stroke-linecap:round;stroke-linejoin:round;stroke:rgb(74.509804%,74.509804%,74.509804%);stroke-opacity:1;stroke-miterlimit:10;\" d=\"M 59.039062 172.636719 L 63.707031 172.636719 \"/>\n",
       "<path style=\"fill:none;stroke-width:0.5;stroke-linecap:round;stroke-linejoin:round;stroke:rgb(74.509804%,74.509804%,74.509804%);stroke-opacity:1;stroke-miterlimit:10;\" d=\"M 59.039062 171.785156 L 63.707031 171.785156 \"/>\n",
       "<path style=\"fill:none;stroke-width:0.5;stroke-linecap:round;stroke-linejoin:round;stroke:rgb(74.509804%,74.509804%,74.509804%);stroke-opacity:1;stroke-miterlimit:10;\" d=\"M 59.039062 171.589844 L 63.707031 171.589844 \"/>\n",
       "<path style=\"fill:none;stroke-width:0.5;stroke-linecap:round;stroke-linejoin:round;stroke:rgb(74.509804%,74.509804%,74.509804%);stroke-opacity:1;stroke-miterlimit:10;\" d=\"M 59.039062 171.480469 L 63.707031 171.480469 \"/>\n",
       "<path style=\"fill:none;stroke-width:0.5;stroke-linecap:round;stroke-linejoin:round;stroke:rgb(74.509804%,74.509804%,74.509804%);stroke-opacity:1;stroke-miterlimit:10;\" d=\"M 59.039062 171.117188 L 63.707031 171.117188 \"/>\n",
       "<path style=\"fill:none;stroke-width:0.5;stroke-linecap:round;stroke-linejoin:round;stroke:rgb(74.509804%,74.509804%,74.509804%);stroke-opacity:1;stroke-miterlimit:10;\" d=\"M 59.039062 170.589844 L 63.707031 170.589844 \"/>\n",
       "<path style=\"fill:none;stroke-width:0.5;stroke-linecap:round;stroke-linejoin:round;stroke:rgb(74.509804%,74.509804%,74.509804%);stroke-opacity:1;stroke-miterlimit:10;\" d=\"M 59.039062 170.183594 L 63.707031 170.183594 \"/>\n",
       "<path style=\"fill:none;stroke-width:0.5;stroke-linecap:round;stroke-linejoin:round;stroke:rgb(74.509804%,74.509804%,74.509804%);stroke-opacity:1;stroke-miterlimit:10;\" d=\"M 59.039062 168.691406 L 63.707031 168.691406 \"/>\n",
       "<path style=\"fill:none;stroke-width:0.5;stroke-linecap:round;stroke-linejoin:round;stroke:rgb(74.509804%,74.509804%,74.509804%);stroke-opacity:1;stroke-miterlimit:10;\" d=\"M 59.039062 168.167969 L 63.707031 168.167969 \"/>\n",
       "<path style=\"fill:none;stroke-width:0.5;stroke-linecap:round;stroke-linejoin:round;stroke:rgb(74.509804%,74.509804%,74.509804%);stroke-opacity:1;stroke-miterlimit:10;\" d=\"M 59.039062 168 L 63.707031 168 \"/>\n",
       "<path style=\"fill:none;stroke-width:0.5;stroke-linecap:round;stroke-linejoin:round;stroke:rgb(74.509804%,74.509804%,74.509804%);stroke-opacity:1;stroke-miterlimit:10;\" d=\"M 59.039062 167.609375 L 63.707031 167.609375 \"/>\n",
       "<path style=\"fill:none;stroke-width:0.5;stroke-linecap:round;stroke-linejoin:round;stroke:rgb(74.509804%,74.509804%,74.509804%);stroke-opacity:1;stroke-miterlimit:10;\" d=\"M 59.039062 167.394531 L 63.707031 167.394531 \"/>\n",
       "<path style=\"fill:none;stroke-width:0.5;stroke-linecap:round;stroke-linejoin:round;stroke:rgb(74.509804%,74.509804%,74.509804%);stroke-opacity:1;stroke-miterlimit:10;\" d=\"M 59.039062 165.035156 L 63.707031 165.035156 \"/>\n",
       "<path style=\"fill:none;stroke-width:0.5;stroke-linecap:round;stroke-linejoin:round;stroke:rgb(74.509804%,74.509804%,74.509804%);stroke-opacity:1;stroke-miterlimit:10;\" d=\"M 59.039062 164.492188 L 63.707031 164.492188 \"/>\n",
       "<path style=\"fill:none;stroke-width:0.5;stroke-linecap:round;stroke-linejoin:round;stroke:rgb(74.509804%,74.509804%,74.509804%);stroke-opacity:1;stroke-miterlimit:10;\" d=\"M 59.039062 164.199219 L 63.707031 164.199219 \"/>\n",
       "<path style=\"fill:none;stroke-width:0.5;stroke-linecap:round;stroke-linejoin:round;stroke:rgb(74.509804%,74.509804%,74.509804%);stroke-opacity:1;stroke-miterlimit:10;\" d=\"M 59.039062 164.078125 L 63.707031 164.078125 \"/>\n",
       "<path style=\"fill:none;stroke-width:0.5;stroke-linecap:round;stroke-linejoin:round;stroke:rgb(74.509804%,74.509804%,74.509804%);stroke-opacity:1;stroke-miterlimit:10;\" d=\"M 59.039062 162.6875 L 63.707031 162.6875 \"/>\n",
       "<path style=\"fill:none;stroke-width:0.5;stroke-linecap:round;stroke-linejoin:round;stroke:rgb(74.509804%,74.509804%,74.509804%);stroke-opacity:1;stroke-miterlimit:10;\" d=\"M 59.039062 162.054688 L 63.707031 162.054688 \"/>\n",
       "<path style=\"fill:none;stroke-width:0.5;stroke-linecap:round;stroke-linejoin:round;stroke:rgb(74.509804%,74.509804%,74.509804%);stroke-opacity:1;stroke-miterlimit:10;\" d=\"M 59.039062 161.132812 L 63.707031 161.132812 \"/>\n",
       "<path style=\"fill:none;stroke-width:0.5;stroke-linecap:round;stroke-linejoin:round;stroke:rgb(74.509804%,74.509804%,74.509804%);stroke-opacity:1;stroke-miterlimit:10;\" d=\"M 59.039062 160.863281 L 63.707031 160.863281 \"/>\n",
       "<path style=\"fill:none;stroke-width:0.5;stroke-linecap:round;stroke-linejoin:round;stroke:rgb(74.509804%,74.509804%,74.509804%);stroke-opacity:1;stroke-miterlimit:10;\" d=\"M 59.039062 160.1875 L 63.707031 160.1875 \"/>\n",
       "<path style=\"fill:none;stroke-width:0.5;stroke-linecap:round;stroke-linejoin:round;stroke:rgb(74.509804%,74.509804%,74.509804%);stroke-opacity:1;stroke-miterlimit:10;\" d=\"M 59.039062 159.976562 L 63.707031 159.976562 \"/>\n",
       "<path style=\"fill:none;stroke-width:0.5;stroke-linecap:round;stroke-linejoin:round;stroke:rgb(74.509804%,74.509804%,74.509804%);stroke-opacity:1;stroke-miterlimit:10;\" d=\"M 59.039062 159.460938 L 63.707031 159.460938 \"/>\n",
       "<path style=\"fill:none;stroke-width:0.5;stroke-linecap:round;stroke-linejoin:round;stroke:rgb(74.509804%,74.509804%,74.509804%);stroke-opacity:1;stroke-miterlimit:10;\" d=\"M 59.039062 159.265625 L 63.707031 159.265625 \"/>\n",
       "<path style=\"fill:none;stroke-width:0.5;stroke-linecap:round;stroke-linejoin:round;stroke:rgb(74.509804%,74.509804%,74.509804%);stroke-opacity:1;stroke-miterlimit:10;\" d=\"M 59.039062 158.800781 L 63.707031 158.800781 \"/>\n",
       "<path style=\"fill:none;stroke-width:0.5;stroke-linecap:round;stroke-linejoin:round;stroke:rgb(74.509804%,74.509804%,74.509804%);stroke-opacity:1;stroke-miterlimit:10;\" d=\"M 59.039062 158.367188 L 63.707031 158.367188 \"/>\n",
       "<path style=\"fill:none;stroke-width:0.5;stroke-linecap:round;stroke-linejoin:round;stroke:rgb(74.509804%,74.509804%,74.509804%);stroke-opacity:1;stroke-miterlimit:10;\" d=\"M 59.039062 156.921875 L 63.707031 156.921875 \"/>\n",
       "<path style=\"fill:none;stroke-width:0.5;stroke-linecap:round;stroke-linejoin:round;stroke:rgb(74.509804%,74.509804%,74.509804%);stroke-opacity:1;stroke-miterlimit:10;\" d=\"M 59.039062 155.839844 L 63.707031 155.839844 \"/>\n",
       "<path style=\"fill:none;stroke-width:0.5;stroke-linecap:round;stroke-linejoin:round;stroke:rgb(74.509804%,74.509804%,74.509804%);stroke-opacity:1;stroke-miterlimit:10;\" d=\"M 59.039062 155.765625 L 63.707031 155.765625 \"/>\n",
       "<path style=\"fill:none;stroke-width:0.5;stroke-linecap:round;stroke-linejoin:round;stroke:rgb(74.509804%,74.509804%,74.509804%);stroke-opacity:1;stroke-miterlimit:10;\" d=\"M 59.039062 154.0625 L 63.707031 154.0625 \"/>\n",
       "<path style=\"fill:none;stroke-width:0.5;stroke-linecap:round;stroke-linejoin:round;stroke:rgb(74.509804%,74.509804%,74.509804%);stroke-opacity:1;stroke-miterlimit:10;\" d=\"M 59.039062 153.015625 L 63.707031 153.015625 \"/>\n",
       "<path style=\"fill:none;stroke-width:0.5;stroke-linecap:round;stroke-linejoin:round;stroke:rgb(74.509804%,74.509804%,74.509804%);stroke-opacity:1;stroke-miterlimit:10;\" d=\"M 59.039062 152.675781 L 63.707031 152.675781 \"/>\n",
       "<path style=\"fill:none;stroke-width:0.5;stroke-linecap:round;stroke-linejoin:round;stroke:rgb(74.509804%,74.509804%,74.509804%);stroke-opacity:1;stroke-miterlimit:10;\" d=\"M 59.039062 152.25 L 63.707031 152.25 \"/>\n",
       "<path style=\"fill:none;stroke-width:0.5;stroke-linecap:round;stroke-linejoin:round;stroke:rgb(74.509804%,74.509804%,74.509804%);stroke-opacity:1;stroke-miterlimit:10;\" d=\"M 59.039062 151.351562 L 63.707031 151.351562 \"/>\n",
       "<path style=\"fill:none;stroke-width:0.5;stroke-linecap:round;stroke-linejoin:round;stroke:rgb(74.509804%,74.509804%,74.509804%);stroke-opacity:1;stroke-miterlimit:10;\" d=\"M 59.039062 151.277344 L 63.707031 151.277344 \"/>\n",
       "<path style=\"fill:none;stroke-width:0.5;stroke-linecap:round;stroke-linejoin:round;stroke:rgb(74.509804%,74.509804%,74.509804%);stroke-opacity:1;stroke-miterlimit:10;\" d=\"M 59.039062 150.164062 L 63.707031 150.164062 \"/>\n",
       "<path style=\"fill:none;stroke-width:0.5;stroke-linecap:round;stroke-linejoin:round;stroke:rgb(74.509804%,74.509804%,74.509804%);stroke-opacity:1;stroke-miterlimit:10;\" d=\"M 59.039062 149.902344 L 63.707031 149.902344 \"/>\n",
       "<path style=\"fill:none;stroke-width:0.5;stroke-linecap:round;stroke-linejoin:round;stroke:rgb(74.509804%,74.509804%,74.509804%);stroke-opacity:1;stroke-miterlimit:10;\" d=\"M 59.039062 149.851562 L 63.707031 149.851562 \"/>\n",
       "<path style=\"fill:none;stroke-width:0.5;stroke-linecap:round;stroke-linejoin:round;stroke:rgb(74.509804%,74.509804%,74.509804%);stroke-opacity:1;stroke-miterlimit:10;\" d=\"M 59.039062 148.347656 L 63.707031 148.347656 \"/>\n",
       "<path style=\"fill:none;stroke-width:0.5;stroke-linecap:round;stroke-linejoin:round;stroke:rgb(74.509804%,74.509804%,74.509804%);stroke-opacity:1;stroke-miterlimit:10;\" d=\"M 59.039062 148.011719 L 63.707031 148.011719 \"/>\n",
       "<path style=\"fill:none;stroke-width:0.5;stroke-linecap:round;stroke-linejoin:round;stroke:rgb(74.509804%,74.509804%,74.509804%);stroke-opacity:1;stroke-miterlimit:10;\" d=\"M 59.039062 147.023438 L 63.707031 147.023438 \"/>\n",
       "<path style=\"fill:none;stroke-width:0.5;stroke-linecap:round;stroke-linejoin:round;stroke:rgb(74.509804%,74.509804%,74.509804%);stroke-opacity:1;stroke-miterlimit:10;\" d=\"M 59.039062 145.699219 L 63.707031 145.699219 \"/>\n",
       "<path style=\"fill:none;stroke-width:0.5;stroke-linecap:round;stroke-linejoin:round;stroke:rgb(74.509804%,74.509804%,74.509804%);stroke-opacity:1;stroke-miterlimit:10;\" d=\"M 59.039062 145.320312 L 63.707031 145.320312 \"/>\n",
       "<path style=\"fill:none;stroke-width:0.5;stroke-linecap:round;stroke-linejoin:round;stroke:rgb(74.509804%,74.509804%,74.509804%);stroke-opacity:1;stroke-miterlimit:10;\" d=\"M 59.039062 145.261719 L 63.707031 145.261719 \"/>\n",
       "<path style=\"fill:none;stroke-width:0.5;stroke-linecap:round;stroke-linejoin:round;stroke:rgb(74.509804%,74.509804%,74.509804%);stroke-opacity:1;stroke-miterlimit:10;\" d=\"M 59.039062 145.023438 L 63.707031 145.023438 \"/>\n",
       "<path style=\"fill:none;stroke-width:0.5;stroke-linecap:round;stroke-linejoin:round;stroke:rgb(74.509804%,74.509804%,74.509804%);stroke-opacity:1;stroke-miterlimit:10;\" d=\"M 59.039062 144.859375 L 63.707031 144.859375 \"/>\n",
       "<path style=\"fill:none;stroke-width:0.5;stroke-linecap:round;stroke-linejoin:round;stroke:rgb(74.509804%,74.509804%,74.509804%);stroke-opacity:1;stroke-miterlimit:10;\" d=\"M 59.039062 144.378906 L 63.707031 144.378906 \"/>\n",
       "<path style=\"fill:none;stroke-width:0.5;stroke-linecap:round;stroke-linejoin:round;stroke:rgb(74.509804%,74.509804%,74.509804%);stroke-opacity:1;stroke-miterlimit:10;\" d=\"M 59.039062 143.371094 L 63.707031 143.371094 \"/>\n",
       "<path style=\"fill:none;stroke-width:0.5;stroke-linecap:round;stroke-linejoin:round;stroke:rgb(74.509804%,74.509804%,74.509804%);stroke-opacity:1;stroke-miterlimit:10;\" d=\"M 59.039062 142.992188 L 63.707031 142.992188 \"/>\n",
       "<path style=\"fill:none;stroke-width:0.5;stroke-linecap:round;stroke-linejoin:round;stroke:rgb(74.509804%,74.509804%,74.509804%);stroke-opacity:1;stroke-miterlimit:10;\" d=\"M 59.039062 142.808594 L 63.707031 142.808594 \"/>\n",
       "<path style=\"fill:none;stroke-width:0.5;stroke-linecap:round;stroke-linejoin:round;stroke:rgb(74.509804%,74.509804%,74.509804%);stroke-opacity:1;stroke-miterlimit:10;\" d=\"M 59.039062 141.898438 L 63.707031 141.898438 \"/>\n",
       "<path style=\"fill:none;stroke-width:0.5;stroke-linecap:round;stroke-linejoin:round;stroke:rgb(74.509804%,74.509804%,74.509804%);stroke-opacity:1;stroke-miterlimit:10;\" d=\"M 59.039062 139.980469 L 63.707031 139.980469 \"/>\n",
       "<path style=\"fill:none;stroke-width:0.5;stroke-linecap:round;stroke-linejoin:round;stroke:rgb(74.509804%,74.509804%,74.509804%);stroke-opacity:1;stroke-miterlimit:10;\" d=\"M 59.039062 139.84375 L 63.707031 139.84375 \"/>\n",
       "<path style=\"fill:none;stroke-width:0.5;stroke-linecap:round;stroke-linejoin:round;stroke:rgb(74.509804%,74.509804%,74.509804%);stroke-opacity:1;stroke-miterlimit:10;\" d=\"M 59.039062 139.257812 L 63.707031 139.257812 \"/>\n",
       "<path style=\"fill:none;stroke-width:0.5;stroke-linecap:round;stroke-linejoin:round;stroke:rgb(74.509804%,74.509804%,74.509804%);stroke-opacity:1;stroke-miterlimit:10;\" d=\"M 59.039062 138.871094 L 63.707031 138.871094 \"/>\n",
       "<path style=\"fill:none;stroke-width:0.5;stroke-linecap:round;stroke-linejoin:round;stroke:rgb(74.509804%,74.509804%,74.509804%);stroke-opacity:1;stroke-miterlimit:10;\" d=\"M 59.039062 138.71875 L 63.707031 138.71875 \"/>\n",
       "<path style=\"fill:none;stroke-width:0.5;stroke-linecap:round;stroke-linejoin:round;stroke:rgb(74.509804%,74.509804%,74.509804%);stroke-opacity:1;stroke-miterlimit:10;\" d=\"M 59.039062 138.070312 L 63.707031 138.070312 \"/>\n",
       "<path style=\"fill:none;stroke-width:0.5;stroke-linecap:round;stroke-linejoin:round;stroke:rgb(74.509804%,74.509804%,74.509804%);stroke-opacity:1;stroke-miterlimit:10;\" d=\"M 59.039062 136.96875 L 63.707031 136.96875 \"/>\n",
       "<path style=\"fill:none;stroke-width:0.5;stroke-linecap:round;stroke-linejoin:round;stroke:rgb(74.509804%,74.509804%,74.509804%);stroke-opacity:1;stroke-miterlimit:10;\" d=\"M 59.039062 135.878906 L 63.707031 135.878906 \"/>\n",
       "<path style=\"fill:none;stroke-width:0.5;stroke-linecap:round;stroke-linejoin:round;stroke:rgb(74.509804%,74.509804%,74.509804%);stroke-opacity:1;stroke-miterlimit:10;\" d=\"M 59.039062 135.855469 L 63.707031 135.855469 \"/>\n",
       "<path style=\"fill:none;stroke-width:0.5;stroke-linecap:round;stroke-linejoin:round;stroke:rgb(74.509804%,74.509804%,74.509804%);stroke-opacity:1;stroke-miterlimit:10;\" d=\"M 59.039062 135.640625 L 63.707031 135.640625 \"/>\n",
       "<path style=\"fill:none;stroke-width:0.5;stroke-linecap:round;stroke-linejoin:round;stroke:rgb(74.509804%,74.509804%,74.509804%);stroke-opacity:1;stroke-miterlimit:10;\" d=\"M 59.039062 132.667969 L 63.707031 132.667969 \"/>\n",
       "<path style=\"fill:none;stroke-width:0.5;stroke-linecap:round;stroke-linejoin:round;stroke:rgb(74.509804%,74.509804%,74.509804%);stroke-opacity:1;stroke-miterlimit:10;\" d=\"M 59.039062 131.796875 L 63.707031 131.796875 \"/>\n",
       "<path style=\"fill:none;stroke-width:0.5;stroke-linecap:round;stroke-linejoin:round;stroke:rgb(74.509804%,74.509804%,74.509804%);stroke-opacity:1;stroke-miterlimit:10;\" d=\"M 59.039062 131.742188 L 63.707031 131.742188 \"/>\n",
       "<path style=\"fill:none;stroke-width:0.5;stroke-linecap:round;stroke-linejoin:round;stroke:rgb(74.509804%,74.509804%,74.509804%);stroke-opacity:1;stroke-miterlimit:10;\" d=\"M 59.039062 131.601562 L 63.707031 131.601562 \"/>\n",
       "<path style=\"fill:none;stroke-width:0.5;stroke-linecap:round;stroke-linejoin:round;stroke:rgb(74.509804%,74.509804%,74.509804%);stroke-opacity:1;stroke-miterlimit:10;\" d=\"M 59.039062 130.824219 L 63.707031 130.824219 \"/>\n",
       "<path style=\"fill:none;stroke-width:0.5;stroke-linecap:round;stroke-linejoin:round;stroke:rgb(74.509804%,74.509804%,74.509804%);stroke-opacity:1;stroke-miterlimit:10;\" d=\"M 59.039062 129.699219 L 63.707031 129.699219 \"/>\n",
       "<path style=\"fill:none;stroke-width:0.5;stroke-linecap:round;stroke-linejoin:round;stroke:rgb(74.509804%,74.509804%,74.509804%);stroke-opacity:1;stroke-miterlimit:10;\" d=\"M 59.039062 127.726562 L 63.707031 127.726562 \"/>\n",
       "<path style=\"fill:none;stroke-width:0.5;stroke-linecap:round;stroke-linejoin:round;stroke:rgb(74.509804%,74.509804%,74.509804%);stroke-opacity:1;stroke-miterlimit:10;\" d=\"M 59.039062 127.148438 L 63.707031 127.148438 \"/>\n",
       "<path style=\"fill:none;stroke-width:0.5;stroke-linecap:round;stroke-linejoin:round;stroke:rgb(74.509804%,74.509804%,74.509804%);stroke-opacity:1;stroke-miterlimit:10;\" d=\"M 59.039062 125.933594 L 63.707031 125.933594 \"/>\n",
       "<path style=\"fill:none;stroke-width:0.5;stroke-linecap:round;stroke-linejoin:round;stroke:rgb(74.509804%,74.509804%,74.509804%);stroke-opacity:1;stroke-miterlimit:10;\" d=\"M 59.039062 125.902344 L 63.707031 125.902344 \"/>\n",
       "<path style=\"fill:none;stroke-width:0.5;stroke-linecap:round;stroke-linejoin:round;stroke:rgb(74.509804%,74.509804%,74.509804%);stroke-opacity:1;stroke-miterlimit:10;\" d=\"M 59.039062 125.121094 L 63.707031 125.121094 \"/>\n",
       "<path style=\"fill:none;stroke-width:0.5;stroke-linecap:round;stroke-linejoin:round;stroke:rgb(74.509804%,74.509804%,74.509804%);stroke-opacity:1;stroke-miterlimit:10;\" d=\"M 59.039062 124.769531 L 63.707031 124.769531 \"/>\n",
       "<path style=\"fill:none;stroke-width:0.5;stroke-linecap:round;stroke-linejoin:round;stroke:rgb(74.509804%,74.509804%,74.509804%);stroke-opacity:1;stroke-miterlimit:10;\" d=\"M 59.039062 124.011719 L 63.707031 124.011719 \"/>\n",
       "<path style=\"fill:none;stroke-width:0.5;stroke-linecap:round;stroke-linejoin:round;stroke:rgb(74.509804%,74.509804%,74.509804%);stroke-opacity:1;stroke-miterlimit:10;\" d=\"M 59.039062 123.761719 L 63.707031 123.761719 \"/>\n",
       "<path style=\"fill:none;stroke-width:0.5;stroke-linecap:round;stroke-linejoin:round;stroke:rgb(74.509804%,74.509804%,74.509804%);stroke-opacity:1;stroke-miterlimit:10;\" d=\"M 59.039062 123.402344 L 63.707031 123.402344 \"/>\n",
       "<path style=\"fill:none;stroke-width:0.5;stroke-linecap:round;stroke-linejoin:round;stroke:rgb(74.509804%,74.509804%,74.509804%);stroke-opacity:1;stroke-miterlimit:10;\" d=\"M 59.039062 122.824219 L 63.707031 122.824219 \"/>\n",
       "<path style=\"fill:none;stroke-width:0.5;stroke-linecap:round;stroke-linejoin:round;stroke:rgb(74.509804%,74.509804%,74.509804%);stroke-opacity:1;stroke-miterlimit:10;\" d=\"M 59.039062 122.730469 L 63.707031 122.730469 \"/>\n",
       "<path style=\"fill:none;stroke-width:0.5;stroke-linecap:round;stroke-linejoin:round;stroke:rgb(74.509804%,74.509804%,74.509804%);stroke-opacity:1;stroke-miterlimit:10;\" d=\"M 59.039062 121.414062 L 63.707031 121.414062 \"/>\n",
       "<path style=\"fill:none;stroke-width:0.5;stroke-linecap:round;stroke-linejoin:round;stroke:rgb(74.509804%,74.509804%,74.509804%);stroke-opacity:1;stroke-miterlimit:10;\" d=\"M 59.039062 121.011719 L 63.707031 121.011719 \"/>\n",
       "<path style=\"fill:none;stroke-width:0.5;stroke-linecap:round;stroke-linejoin:round;stroke:rgb(74.509804%,74.509804%,74.509804%);stroke-opacity:1;stroke-miterlimit:10;\" d=\"M 59.039062 120.890625 L 63.707031 120.890625 \"/>\n",
       "<path style=\"fill:none;stroke-width:0.5;stroke-linecap:round;stroke-linejoin:round;stroke:rgb(74.509804%,74.509804%,74.509804%);stroke-opacity:1;stroke-miterlimit:10;\" d=\"M 59.039062 120.222656 L 63.707031 120.222656 \"/>\n",
       "<path style=\"fill:none;stroke-width:0.5;stroke-linecap:round;stroke-linejoin:round;stroke:rgb(74.509804%,74.509804%,74.509804%);stroke-opacity:1;stroke-miterlimit:10;\" d=\"M 59.039062 119.160156 L 63.707031 119.160156 \"/>\n",
       "<path style=\"fill:none;stroke-width:0.5;stroke-linecap:round;stroke-linejoin:round;stroke:rgb(74.509804%,74.509804%,74.509804%);stroke-opacity:1;stroke-miterlimit:10;\" d=\"M 59.039062 118.140625 L 63.707031 118.140625 \"/>\n",
       "<path style=\"fill:none;stroke-width:0.5;stroke-linecap:round;stroke-linejoin:round;stroke:rgb(74.509804%,74.509804%,74.509804%);stroke-opacity:1;stroke-miterlimit:10;\" d=\"M 59.039062 115.992188 L 63.707031 115.992188 \"/>\n",
       "<path style=\"fill:none;stroke-width:0.5;stroke-linecap:round;stroke-linejoin:round;stroke:rgb(74.509804%,74.509804%,74.509804%);stroke-opacity:1;stroke-miterlimit:10;\" d=\"M 59.039062 115.835938 L 63.707031 115.835938 \"/>\n",
       "<path style=\"fill:none;stroke-width:0.5;stroke-linecap:round;stroke-linejoin:round;stroke:rgb(74.509804%,74.509804%,74.509804%);stroke-opacity:1;stroke-miterlimit:10;\" d=\"M 59.039062 114.546875 L 63.707031 114.546875 \"/>\n",
       "<path style=\"fill:none;stroke-width:0.5;stroke-linecap:round;stroke-linejoin:round;stroke:rgb(74.509804%,74.509804%,74.509804%);stroke-opacity:1;stroke-miterlimit:10;\" d=\"M 59.039062 114.433594 L 63.707031 114.433594 \"/>\n",
       "<path style=\"fill:none;stroke-width:0.5;stroke-linecap:round;stroke-linejoin:round;stroke:rgb(74.509804%,74.509804%,74.509804%);stroke-opacity:1;stroke-miterlimit:10;\" d=\"M 59.039062 114.171875 L 63.707031 114.171875 \"/>\n",
       "<path style=\"fill:none;stroke-width:0.5;stroke-linecap:round;stroke-linejoin:round;stroke:rgb(74.509804%,74.509804%,74.509804%);stroke-opacity:1;stroke-miterlimit:10;\" d=\"M 59.039062 111.269531 L 63.707031 111.269531 \"/>\n",
       "<path style=\"fill:none;stroke-width:0.5;stroke-linecap:round;stroke-linejoin:round;stroke:rgb(74.509804%,74.509804%,74.509804%);stroke-opacity:1;stroke-miterlimit:10;\" d=\"M 59.039062 110.714844 L 63.707031 110.714844 \"/>\n",
       "<path style=\"fill:none;stroke-width:0.5;stroke-linecap:round;stroke-linejoin:round;stroke:rgb(74.509804%,74.509804%,74.509804%);stroke-opacity:1;stroke-miterlimit:10;\" d=\"M 59.039062 105.011719 L 63.707031 105.011719 \"/>\n",
       "<path style=\"fill:none;stroke-width:0.5;stroke-linecap:round;stroke-linejoin:round;stroke:rgb(74.509804%,74.509804%,74.509804%);stroke-opacity:1;stroke-miterlimit:10;\" d=\"M 59.039062 104.746094 L 63.707031 104.746094 \"/>\n",
       "<path style=\"fill:none;stroke-width:0.5;stroke-linecap:round;stroke-linejoin:round;stroke:rgb(74.509804%,74.509804%,74.509804%);stroke-opacity:1;stroke-miterlimit:10;\" d=\"M 59.039062 103.042969 L 63.707031 103.042969 \"/>\n",
       "<path style=\"fill:none;stroke-width:0.5;stroke-linecap:round;stroke-linejoin:round;stroke:rgb(74.509804%,74.509804%,74.509804%);stroke-opacity:1;stroke-miterlimit:10;\" d=\"M 59.039062 102.78125 L 63.707031 102.78125 \"/>\n",
       "<path style=\"fill:none;stroke-width:0.5;stroke-linecap:round;stroke-linejoin:round;stroke:rgb(74.509804%,74.509804%,74.509804%);stroke-opacity:1;stroke-miterlimit:10;\" d=\"M 59.039062 102.132812 L 63.707031 102.132812 \"/>\n",
       "<path style=\"fill:none;stroke-width:0.5;stroke-linecap:round;stroke-linejoin:round;stroke:rgb(74.509804%,74.509804%,74.509804%);stroke-opacity:1;stroke-miterlimit:10;\" d=\"M 59.039062 102.023438 L 63.707031 102.023438 \"/>\n",
       "<path style=\"fill:none;stroke-width:0.5;stroke-linecap:round;stroke-linejoin:round;stroke:rgb(74.509804%,74.509804%,74.509804%);stroke-opacity:1;stroke-miterlimit:10;\" d=\"M 59.039062 101.492188 L 63.707031 101.492188 \"/>\n",
       "<path style=\"fill:none;stroke-width:0.5;stroke-linecap:round;stroke-linejoin:round;stroke:rgb(74.509804%,74.509804%,74.509804%);stroke-opacity:1;stroke-miterlimit:10;\" d=\"M 59.039062 101.011719 L 63.707031 101.011719 \"/>\n",
       "<path style=\"fill:none;stroke-width:0.5;stroke-linecap:round;stroke-linejoin:round;stroke:rgb(74.509804%,74.509804%,74.509804%);stroke-opacity:1;stroke-miterlimit:10;\" d=\"M 59.039062 100.535156 L 63.707031 100.535156 \"/>\n",
       "<path style=\"fill:none;stroke-width:0.5;stroke-linecap:round;stroke-linejoin:round;stroke:rgb(74.509804%,74.509804%,74.509804%);stroke-opacity:1;stroke-miterlimit:10;\" d=\"M 59.039062 100.5 L 63.707031 100.5 \"/>\n",
       "<path style=\"fill:none;stroke-width:0.5;stroke-linecap:round;stroke-linejoin:round;stroke:rgb(74.509804%,74.509804%,74.509804%);stroke-opacity:1;stroke-miterlimit:10;\" d=\"M 59.039062 100.433594 L 63.707031 100.433594 \"/>\n",
       "<path style=\"fill:none;stroke-width:0.5;stroke-linecap:round;stroke-linejoin:round;stroke:rgb(74.509804%,74.509804%,74.509804%);stroke-opacity:1;stroke-miterlimit:10;\" d=\"M 59.039062 99.761719 L 63.707031 99.761719 \"/>\n",
       "<path style=\"fill:none;stroke-width:0.5;stroke-linecap:round;stroke-linejoin:round;stroke:rgb(74.509804%,74.509804%,74.509804%);stroke-opacity:1;stroke-miterlimit:10;\" d=\"M 59.039062 99.703125 L 63.707031 99.703125 \"/>\n",
       "<path style=\"fill:none;stroke-width:0.5;stroke-linecap:round;stroke-linejoin:round;stroke:rgb(74.509804%,74.509804%,74.509804%);stroke-opacity:1;stroke-miterlimit:10;\" d=\"M 59.039062 99.441406 L 63.707031 99.441406 \"/>\n",
       "<path style=\"fill:none;stroke-width:0.5;stroke-linecap:round;stroke-linejoin:round;stroke:rgb(74.509804%,74.509804%,74.509804%);stroke-opacity:1;stroke-miterlimit:10;\" d=\"M 59.039062 98.597656 L 63.707031 98.597656 \"/>\n",
       "<path style=\"fill:none;stroke-width:0.5;stroke-linecap:round;stroke-linejoin:round;stroke:rgb(74.509804%,74.509804%,74.509804%);stroke-opacity:1;stroke-miterlimit:10;\" d=\"M 59.039062 97.460938 L 63.707031 97.460938 \"/>\n",
       "<path style=\"fill:none;stroke-width:0.5;stroke-linecap:round;stroke-linejoin:round;stroke:rgb(74.509804%,74.509804%,74.509804%);stroke-opacity:1;stroke-miterlimit:10;\" d=\"M 59.039062 97.0625 L 63.707031 97.0625 \"/>\n",
       "<path style=\"fill:none;stroke-width:0.5;stroke-linecap:round;stroke-linejoin:round;stroke:rgb(74.509804%,74.509804%,74.509804%);stroke-opacity:1;stroke-miterlimit:10;\" d=\"M 59.039062 97.019531 L 63.707031 97.019531 \"/>\n",
       "<path style=\"fill:none;stroke-width:0.5;stroke-linecap:round;stroke-linejoin:round;stroke:rgb(74.509804%,74.509804%,74.509804%);stroke-opacity:1;stroke-miterlimit:10;\" d=\"M 59.039062 96.667969 L 63.707031 96.667969 \"/>\n",
       "<path style=\"fill:none;stroke-width:0.5;stroke-linecap:round;stroke-linejoin:round;stroke:rgb(74.509804%,74.509804%,74.509804%);stroke-opacity:1;stroke-miterlimit:10;\" d=\"M 59.039062 96.59375 L 63.707031 96.59375 \"/>\n",
       "<path style=\"fill:none;stroke-width:0.5;stroke-linecap:round;stroke-linejoin:round;stroke:rgb(74.509804%,74.509804%,74.509804%);stroke-opacity:1;stroke-miterlimit:10;\" d=\"M 59.039062 96.292969 L 63.707031 96.292969 \"/>\n",
       "<path style=\"fill:none;stroke-width:0.5;stroke-linecap:round;stroke-linejoin:round;stroke:rgb(74.509804%,74.509804%,74.509804%);stroke-opacity:1;stroke-miterlimit:10;\" d=\"M 59.039062 95.945312 L 63.707031 95.945312 \"/>\n",
       "<path style=\"fill:none;stroke-width:0.5;stroke-linecap:round;stroke-linejoin:round;stroke:rgb(74.509804%,74.509804%,74.509804%);stroke-opacity:1;stroke-miterlimit:10;\" d=\"M 59.039062 95.929688 L 63.707031 95.929688 \"/>\n",
       "<path style=\"fill:none;stroke-width:0.5;stroke-linecap:round;stroke-linejoin:round;stroke:rgb(74.509804%,74.509804%,74.509804%);stroke-opacity:1;stroke-miterlimit:10;\" d=\"M 59.039062 94.757812 L 63.707031 94.757812 \"/>\n",
       "<path style=\"fill:none;stroke-width:0.5;stroke-linecap:round;stroke-linejoin:round;stroke:rgb(74.509804%,74.509804%,74.509804%);stroke-opacity:1;stroke-miterlimit:10;\" d=\"M 59.039062 94.597656 L 63.707031 94.597656 \"/>\n",
       "<path style=\"fill:none;stroke-width:0.5;stroke-linecap:round;stroke-linejoin:round;stroke:rgb(74.509804%,74.509804%,74.509804%);stroke-opacity:1;stroke-miterlimit:10;\" d=\"M 59.039062 92.21875 L 63.707031 92.21875 \"/>\n",
       "<path style=\"fill:none;stroke-width:0.5;stroke-linecap:round;stroke-linejoin:round;stroke:rgb(74.509804%,74.509804%,74.509804%);stroke-opacity:1;stroke-miterlimit:10;\" d=\"M 59.039062 92.058594 L 63.707031 92.058594 \"/>\n",
       "<path style=\"fill:none;stroke-width:0.5;stroke-linecap:round;stroke-linejoin:round;stroke:rgb(74.509804%,74.509804%,74.509804%);stroke-opacity:1;stroke-miterlimit:10;\" d=\"M 59.039062 92.054688 L 63.707031 92.054688 \"/>\n",
       "<path style=\"fill:none;stroke-width:0.5;stroke-linecap:round;stroke-linejoin:round;stroke:rgb(74.509804%,74.509804%,74.509804%);stroke-opacity:1;stroke-miterlimit:10;\" d=\"M 59.039062 91.90625 L 63.707031 91.90625 \"/>\n",
       "<path style=\"fill:none;stroke-width:0.5;stroke-linecap:round;stroke-linejoin:round;stroke:rgb(74.509804%,74.509804%,74.509804%);stroke-opacity:1;stroke-miterlimit:10;\" d=\"M 59.039062 91.507812 L 63.707031 91.507812 \"/>\n",
       "<path style=\"fill:none;stroke-width:0.5;stroke-linecap:round;stroke-linejoin:round;stroke:rgb(74.509804%,74.509804%,74.509804%);stroke-opacity:1;stroke-miterlimit:10;\" d=\"M 59.039062 89.464844 L 63.707031 89.464844 \"/>\n",
       "<path style=\"fill:none;stroke-width:0.5;stroke-linecap:round;stroke-linejoin:round;stroke:rgb(74.509804%,74.509804%,74.509804%);stroke-opacity:1;stroke-miterlimit:10;\" d=\"M 59.039062 88.273438 L 63.707031 88.273438 \"/>\n",
       "<path style=\"fill:none;stroke-width:0.5;stroke-linecap:round;stroke-linejoin:round;stroke:rgb(74.509804%,74.509804%,74.509804%);stroke-opacity:1;stroke-miterlimit:10;\" d=\"M 59.039062 87.269531 L 63.707031 87.269531 \"/>\n",
       "<path style=\"fill:none;stroke-width:0.5;stroke-linecap:round;stroke-linejoin:round;stroke:rgb(74.509804%,74.509804%,74.509804%);stroke-opacity:1;stroke-miterlimit:10;\" d=\"M 59.039062 87.214844 L 63.707031 87.214844 \"/>\n",
       "<path style=\"fill:none;stroke-width:0.5;stroke-linecap:round;stroke-linejoin:round;stroke:rgb(74.509804%,74.509804%,74.509804%);stroke-opacity:1;stroke-miterlimit:10;\" d=\"M 59.039062 86.339844 L 63.707031 86.339844 \"/>\n",
       "<path style=\"fill:none;stroke-width:0.5;stroke-linecap:round;stroke-linejoin:round;stroke:rgb(74.509804%,74.509804%,74.509804%);stroke-opacity:1;stroke-miterlimit:10;\" d=\"M 59.039062 86.074219 L 63.707031 86.074219 \"/>\n",
       "<path style=\"fill:none;stroke-width:0.5;stroke-linecap:round;stroke-linejoin:round;stroke:rgb(74.509804%,74.509804%,74.509804%);stroke-opacity:1;stroke-miterlimit:10;\" d=\"M 59.039062 84.839844 L 63.707031 84.839844 \"/>\n",
       "<path style=\"fill:none;stroke-width:0.5;stroke-linecap:round;stroke-linejoin:round;stroke:rgb(74.509804%,74.509804%,74.509804%);stroke-opacity:1;stroke-miterlimit:10;\" d=\"M 59.039062 84.542969 L 63.707031 84.542969 \"/>\n",
       "<path style=\"fill:none;stroke-width:0.5;stroke-linecap:round;stroke-linejoin:round;stroke:rgb(74.509804%,74.509804%,74.509804%);stroke-opacity:1;stroke-miterlimit:10;\" d=\"M 59.039062 83.222656 L 63.707031 83.222656 \"/>\n",
       "<path style=\"fill:none;stroke-width:0.5;stroke-linecap:round;stroke-linejoin:round;stroke:rgb(74.509804%,74.509804%,74.509804%);stroke-opacity:1;stroke-miterlimit:10;\" d=\"M 59.039062 82.503906 L 63.707031 82.503906 \"/>\n",
       "<path style=\"fill:none;stroke-width:0.5;stroke-linecap:round;stroke-linejoin:round;stroke:rgb(74.509804%,74.509804%,74.509804%);stroke-opacity:1;stroke-miterlimit:10;\" d=\"M 59.039062 81.855469 L 63.707031 81.855469 \"/>\n",
       "<path style=\"fill:none;stroke-width:0.5;stroke-linecap:round;stroke-linejoin:round;stroke:rgb(74.509804%,74.509804%,74.509804%);stroke-opacity:1;stroke-miterlimit:10;\" d=\"M 59.039062 81.65625 L 63.707031 81.65625 \"/>\n",
       "<path style=\"fill:none;stroke-width:0.5;stroke-linecap:round;stroke-linejoin:round;stroke:rgb(74.509804%,74.509804%,74.509804%);stroke-opacity:1;stroke-miterlimit:10;\" d=\"M 59.039062 79.410156 L 63.707031 79.410156 \"/>\n",
       "<path style=\"fill:none;stroke-width:0.5;stroke-linecap:round;stroke-linejoin:round;stroke:rgb(74.509804%,74.509804%,74.509804%);stroke-opacity:1;stroke-miterlimit:10;\" d=\"M 59.039062 78.949219 L 63.707031 78.949219 \"/>\n",
       "<path style=\"fill:none;stroke-width:0.5;stroke-linecap:round;stroke-linejoin:round;stroke:rgb(74.509804%,74.509804%,74.509804%);stroke-opacity:1;stroke-miterlimit:10;\" d=\"M 59.039062 77.84375 L 63.707031 77.84375 \"/>\n",
       "<path style=\"fill:none;stroke-width:0.5;stroke-linecap:round;stroke-linejoin:round;stroke:rgb(74.509804%,74.509804%,74.509804%);stroke-opacity:1;stroke-miterlimit:10;\" d=\"M 59.039062 77.226562 L 63.707031 77.226562 \"/>\n",
       "<path style=\"fill:none;stroke-width:0.5;stroke-linecap:round;stroke-linejoin:round;stroke:rgb(74.509804%,74.509804%,74.509804%);stroke-opacity:1;stroke-miterlimit:10;\" d=\"M 59.039062 77.203125 L 63.707031 77.203125 \"/>\n",
       "<path style=\"fill:none;stroke-width:0.5;stroke-linecap:round;stroke-linejoin:round;stroke:rgb(74.509804%,74.509804%,74.509804%);stroke-opacity:1;stroke-miterlimit:10;\" d=\"M 59.039062 76.585938 L 63.707031 76.585938 \"/>\n",
       "<path style=\"fill:none;stroke-width:0.5;stroke-linecap:round;stroke-linejoin:round;stroke:rgb(74.509804%,74.509804%,74.509804%);stroke-opacity:1;stroke-miterlimit:10;\" d=\"M 59.039062 76.542969 L 63.707031 76.542969 \"/>\n",
       "<path style=\"fill:none;stroke-width:0.5;stroke-linecap:round;stroke-linejoin:round;stroke:rgb(74.509804%,74.509804%,74.509804%);stroke-opacity:1;stroke-miterlimit:10;\" d=\"M 59.039062 76.535156 L 63.707031 76.535156 \"/>\n",
       "<path style=\"fill:none;stroke-width:0.5;stroke-linecap:round;stroke-linejoin:round;stroke:rgb(74.509804%,74.509804%,74.509804%);stroke-opacity:1;stroke-miterlimit:10;\" d=\"M 59.039062 75.816406 L 63.707031 75.816406 \"/>\n",
       "<path style=\"fill:none;stroke-width:0.5;stroke-linecap:round;stroke-linejoin:round;stroke:rgb(74.509804%,74.509804%,74.509804%);stroke-opacity:1;stroke-miterlimit:10;\" d=\"M 59.039062 75.148438 L 63.707031 75.148438 \"/>\n",
       "<path style=\"fill:none;stroke-width:0.5;stroke-linecap:round;stroke-linejoin:round;stroke:rgb(74.509804%,74.509804%,74.509804%);stroke-opacity:1;stroke-miterlimit:10;\" d=\"M 59.039062 74.96875 L 63.707031 74.96875 \"/>\n",
       "<path style=\"fill:none;stroke-width:0.5;stroke-linecap:round;stroke-linejoin:round;stroke:rgb(74.509804%,74.509804%,74.509804%);stroke-opacity:1;stroke-miterlimit:10;\" d=\"M 59.039062 74.84375 L 63.707031 74.84375 \"/>\n",
       "<path style=\"fill:none;stroke-width:0.5;stroke-linecap:round;stroke-linejoin:round;stroke:rgb(74.509804%,74.509804%,74.509804%);stroke-opacity:1;stroke-miterlimit:10;\" d=\"M 59.039062 74.707031 L 63.707031 74.707031 \"/>\n",
       "<path style=\"fill:none;stroke-width:0.5;stroke-linecap:round;stroke-linejoin:round;stroke:rgb(74.509804%,74.509804%,74.509804%);stroke-opacity:1;stroke-miterlimit:10;\" d=\"M 59.039062 74.484375 L 63.707031 74.484375 \"/>\n",
       "<path style=\"fill:none;stroke-width:0.5;stroke-linecap:round;stroke-linejoin:round;stroke:rgb(74.509804%,74.509804%,74.509804%);stroke-opacity:1;stroke-miterlimit:10;\" d=\"M 59.039062 73.726562 L 63.707031 73.726562 \"/>\n",
       "<path style=\"fill:none;stroke-width:0.5;stroke-linecap:round;stroke-linejoin:round;stroke:rgb(74.509804%,74.509804%,74.509804%);stroke-opacity:1;stroke-miterlimit:10;\" d=\"M 59.039062 73.664062 L 63.707031 73.664062 \"/>\n",
       "<path style=\"fill:none;stroke-width:0.5;stroke-linecap:round;stroke-linejoin:round;stroke:rgb(74.509804%,74.509804%,74.509804%);stroke-opacity:1;stroke-miterlimit:10;\" d=\"M 59.039062 72.25 L 63.707031 72.25 \"/>\n",
       "<path style=\"fill:none;stroke-width:0.5;stroke-linecap:round;stroke-linejoin:round;stroke:rgb(74.509804%,74.509804%,74.509804%);stroke-opacity:1;stroke-miterlimit:10;\" d=\"M 59.039062 71.328125 L 63.707031 71.328125 \"/>\n",
       "<path style=\"fill:none;stroke-width:0.5;stroke-linecap:round;stroke-linejoin:round;stroke:rgb(74.509804%,74.509804%,74.509804%);stroke-opacity:1;stroke-miterlimit:10;\" d=\"M 59.039062 70.148438 L 63.707031 70.148438 \"/>\n",
       "<path style=\"fill:none;stroke-width:0.5;stroke-linecap:round;stroke-linejoin:round;stroke:rgb(74.509804%,74.509804%,74.509804%);stroke-opacity:1;stroke-miterlimit:10;\" d=\"M 59.039062 69.488281 L 63.707031 69.488281 \"/>\n",
       "<path style=\"fill:none;stroke-width:0.5;stroke-linecap:round;stroke-linejoin:round;stroke:rgb(74.509804%,74.509804%,74.509804%);stroke-opacity:1;stroke-miterlimit:10;\" d=\"M 59.039062 68.972656 L 63.707031 68.972656 \"/>\n",
       "<path style=\"fill:none;stroke-width:0.5;stroke-linecap:round;stroke-linejoin:round;stroke:rgb(74.509804%,74.509804%,74.509804%);stroke-opacity:1;stroke-miterlimit:10;\" d=\"M 59.039062 66.003906 L 63.707031 66.003906 \"/>\n",
       "<path style=\"fill:none;stroke-width:0.5;stroke-linecap:round;stroke-linejoin:round;stroke:rgb(74.509804%,74.509804%,74.509804%);stroke-opacity:1;stroke-miterlimit:10;\" d=\"M 59.039062 65.996094 L 63.707031 65.996094 \"/>\n",
       "<path style=\"fill:none;stroke-width:0.5;stroke-linecap:round;stroke-linejoin:round;stroke:rgb(74.509804%,74.509804%,74.509804%);stroke-opacity:1;stroke-miterlimit:10;\" d=\"M 59.039062 65.828125 L 63.707031 65.828125 \"/>\n",
       "<path style=\"fill:none;stroke-width:0.5;stroke-linecap:round;stroke-linejoin:round;stroke:rgb(74.509804%,74.509804%,74.509804%);stroke-opacity:1;stroke-miterlimit:10;\" d=\"M 59.039062 65.058594 L 63.707031 65.058594 \"/>\n",
       "<path style=\"fill:none;stroke-width:0.5;stroke-linecap:round;stroke-linejoin:round;stroke:rgb(74.509804%,74.509804%,74.509804%);stroke-opacity:1;stroke-miterlimit:10;\" d=\"M 59.039062 64.800781 L 63.707031 64.800781 \"/>\n",
       "</g>\n",
       "</svg>\n"
      ],
      "text/plain": [
       "plot without title"
      ]
     },
     "metadata": {
      "image/svg+xml": {
       "isolated": true
      }
     },
     "output_type": "display_data"
    }
   ],
   "source": [
    "x <- runif(200,min=-1,max=1)\n",
    "y <- x\n",
    "plot(x,y,pch=16)\n",
    "rug(x,side=1,col=\"grey\")\n",
    "rug(y,side=2,col=\"grey\")\n",
    "cor(x,y)\n",
    "chisq.test(x,y) "
   ]
  },
  {
   "cell_type": "markdown",
   "metadata": {
    "deletable": true,
    "editable": true
   },
   "source": [
    "Despite in both cases $x$ and $y$ are dependent, in the left case they are completely uncorrelated. So being uncorrelated is not the same as being independent, but independant variables are uncorrelated. Two variables are considered independent when their joint probability distribution is equal to the product of their individual marginal probability distributions: $$P_{X,Y}(x,y)=P_X(x)P_Y(y)$$\n",
    "\n",
    "Two variables are uncorrelated when their correlation coefficient is zero or when their covariance is equal to zero."
   ]
  },
  {
   "cell_type": "markdown",
   "metadata": {
    "deletable": true,
    "editable": true
   },
   "source": [
    "### correlations in experimental design\n",
    "\n",
    "Experimental design is all about designing an experiment where the IV are uncorrelated so that effect of each IV can be studied separately. Then, by definition we can assume that IV are uncorrelated. You can check this for our chemical data. For example the correlation between pH and temperature is `r cor(datas$ph, datas$temp)`, while the correlation between ph and pH$\\times$T is `r cor(datas$ph,datas$phTemp)`, non zero as expected.\n",
    "\n",
    "if we look at the data for example for example for temperature and concentration we might have `r d[2,2:3]` and `r d[3,2:3]` for second and third point. If we represent them as vectors, we can see that both vectors are somehow collinear and that the product of both vectors is even more collinear."
   ]
  },
  {
   "cell_type": "code",
   "execution_count": 118,
   "metadata": {
    "collapsed": false,
    "deletable": true,
    "editable": true
   },
   "outputs": [
    {
     "data": {
      "image/png": "[encoded data removed]",
      "image/svg+xml": [
       "<?xml version=\"1.0\" encoding=\"UTF-8\"?>\n",
       "<svg xmlns=\"http://www.w3.org/2000/svg\" xmlns:xlink=\"http://www.w3.org/1999/xlink\" width=\"288pt\" height=\"288pt\" viewBox=\"0 0 288 288\" version=\"1.1\">\n",
       "<defs>\n",
       "<g>\n",
       "<symbol overflow=\"visible\" id=\"glyph0-0\">\n",
       "<path style=\"stroke:none;\" d=\"M 0.40625 0 L 0.40625 -8.96875 L 7.515625 -8.96875 L 7.515625 0 Z M 6.390625 -1.125 L 6.390625 -7.84375 L 1.53125 -7.84375 L 1.53125 -1.125 Z \"/>\n",
       "</symbol>\n",
       "<symbol overflow=\"visible\" id=\"glyph0-1\">\n",
       "<path style=\"stroke:none;\" d=\"M 3.375 -8.734375 C 4.507812 -8.734375 5.328125 -8.269531 5.828125 -7.34375 C 6.222656 -6.625 6.421875 -5.632812 6.421875 -4.375 C 6.421875 -3.1875 6.242188 -2.207031 5.890625 -1.4375 C 5.378906 -0.320312 4.539062 0.234375 3.375 0.234375 C 2.320312 0.234375 1.539062 -0.21875 1.03125 -1.125 C 0.601562 -1.882812 0.390625 -2.90625 0.390625 -4.1875 C 0.390625 -5.1875 0.519531 -6.039062 0.78125 -6.75 C 1.257812 -8.070312 2.125 -8.734375 3.375 -8.734375 Z M 3.375 -0.765625 C 3.9375 -0.765625 4.382812 -1.015625 4.71875 -1.515625 C 5.0625 -2.023438 5.234375 -2.96875 5.234375 -4.34375 C 5.234375 -5.332031 5.109375 -6.144531 4.859375 -6.78125 C 4.617188 -7.425781 4.148438 -7.75 3.453125 -7.75 C 2.804688 -7.75 2.332031 -7.441406 2.03125 -6.828125 C 1.726562 -6.222656 1.578125 -5.332031 1.578125 -4.15625 C 1.578125 -3.257812 1.675781 -2.539062 1.875 -2 C 2.164062 -1.175781 2.664062 -0.765625 3.375 -0.765625 Z \"/>\n",
       "</symbol>\n",
       "<symbol overflow=\"visible\" id=\"glyph0-2\">\n",
       "<path style=\"stroke:none;\" d=\"M 0.390625 0 C 0.429688 -0.75 0.585938 -1.398438 0.859375 -1.953125 C 1.128906 -2.515625 1.65625 -3.023438 2.4375 -3.484375 L 3.609375 -4.15625 C 4.140625 -4.46875 4.507812 -4.726562 4.71875 -4.9375 C 5.050781 -5.28125 5.21875 -5.671875 5.21875 -6.109375 C 5.21875 -6.609375 5.0625 -7.007812 4.75 -7.3125 C 4.445312 -7.613281 4.046875 -7.765625 3.546875 -7.765625 C 2.785156 -7.765625 2.265625 -7.476562 1.984375 -6.90625 C 1.828125 -6.601562 1.738281 -6.179688 1.71875 -5.640625 L 0.609375 -5.640625 C 0.617188 -6.398438 0.757812 -7.019531 1.03125 -7.5 C 1.5 -8.34375 2.335938 -8.765625 3.546875 -8.765625 C 4.546875 -8.765625 5.273438 -8.492188 5.734375 -7.953125 C 6.203125 -7.410156 6.4375 -6.8125 6.4375 -6.15625 C 6.4375 -5.457031 6.1875 -4.859375 5.6875 -4.359375 C 5.40625 -4.066406 4.894531 -3.71875 4.15625 -3.3125 L 3.328125 -2.84375 C 2.929688 -2.625 2.617188 -2.414062 2.390625 -2.21875 C 1.984375 -1.863281 1.726562 -1.46875 1.625 -1.03125 L 6.390625 -1.03125 L 6.390625 0 Z \"/>\n",
       "</symbol>\n",
       "<symbol overflow=\"visible\" id=\"glyph0-3\">\n",
       "<path style=\"stroke:none;\" d=\"M 4.125 -3.09375 L 4.125 -7.0625 L 1.328125 -3.09375 Z M 4.15625 0 L 4.15625 -2.140625 L 0.3125 -2.140625 L 0.3125 -3.203125 L 4.328125 -8.765625 L 5.25 -8.765625 L 5.25 -3.09375 L 6.53125 -3.09375 L 6.53125 -2.140625 L 5.25 -2.140625 L 5.25 0 Z \"/>\n",
       "</symbol>\n",
       "<symbol overflow=\"visible\" id=\"glyph0-4\">\n",
       "<path style=\"stroke:none;\" d=\"M 3.65625 -8.78125 C 4.632812 -8.78125 5.316406 -8.523438 5.703125 -8.015625 C 6.085938 -7.503906 6.28125 -6.984375 6.28125 -6.453125 L 5.1875 -6.453125 C 5.125 -6.796875 5.019531 -7.066406 4.875 -7.265625 C 4.613281 -7.628906 4.210938 -7.8125 3.671875 -7.8125 C 3.054688 -7.8125 2.566406 -7.523438 2.203125 -6.953125 C 1.847656 -6.390625 1.648438 -5.578125 1.609375 -4.515625 C 1.859375 -4.890625 2.175781 -5.171875 2.5625 -5.359375 C 2.90625 -5.515625 3.296875 -5.59375 3.734375 -5.59375 C 4.460938 -5.59375 5.097656 -5.359375 5.640625 -4.890625 C 6.191406 -4.421875 6.46875 -3.722656 6.46875 -2.796875 C 6.46875 -2.003906 6.207031 -1.300781 5.6875 -0.6875 C 5.164062 -0.0820312 4.429688 0.21875 3.484375 0.21875 C 2.660156 0.21875 1.953125 -0.0859375 1.359375 -0.703125 C 0.765625 -1.328125 0.46875 -2.375 0.46875 -3.84375 C 0.46875 -4.925781 0.597656 -5.847656 0.859375 -6.609375 C 1.367188 -8.054688 2.300781 -8.78125 3.65625 -8.78125 Z M 3.578125 -0.75 C 4.148438 -0.75 4.578125 -0.941406 4.859375 -1.328125 C 5.148438 -1.722656 5.296875 -2.179688 5.296875 -2.703125 C 5.296875 -3.148438 5.164062 -3.578125 4.90625 -3.984375 C 4.65625 -4.390625 4.191406 -4.59375 3.515625 -4.59375 C 3.046875 -4.59375 2.632812 -4.4375 2.28125 -4.125 C 1.925781 -3.8125 1.75 -3.335938 1.75 -2.703125 C 1.75 -2.148438 1.910156 -1.6875 2.234375 -1.3125 C 2.554688 -0.9375 3.003906 -0.75 3.578125 -0.75 Z \"/>\n",
       "</symbol>\n",
       "<symbol overflow=\"visible\" id=\"glyph0-5\">\n",
       "<path style=\"stroke:none;\" d=\"M 3.40625 -5.078125 C 3.882812 -5.078125 4.257812 -5.210938 4.53125 -5.484375 C 4.800781 -5.753906 4.9375 -6.078125 4.9375 -6.453125 C 4.9375 -6.773438 4.804688 -7.070312 4.546875 -7.34375 C 4.285156 -7.613281 3.890625 -7.75 3.359375 -7.75 C 2.828125 -7.75 2.441406 -7.613281 2.203125 -7.34375 C 1.972656 -7.070312 1.859375 -6.753906 1.859375 -6.390625 C 1.859375 -5.984375 2.007812 -5.660156 2.3125 -5.421875 C 2.625 -5.191406 2.988281 -5.078125 3.40625 -5.078125 Z M 3.46875 -0.75 C 3.976562 -0.75 4.398438 -0.882812 4.734375 -1.15625 C 5.066406 -1.4375 5.234375 -1.847656 5.234375 -2.390625 C 5.234375 -2.953125 5.0625 -3.378906 4.71875 -3.671875 C 4.375 -3.972656 3.929688 -4.125 3.390625 -4.125 C 2.859375 -4.125 2.425781 -3.972656 2.09375 -3.671875 C 1.769531 -3.367188 1.609375 -2.953125 1.609375 -2.421875 C 1.609375 -1.972656 1.757812 -1.582031 2.0625 -1.25 C 2.363281 -0.914062 2.832031 -0.75 3.46875 -0.75 Z M 1.90625 -4.65625 C 1.601562 -4.789062 1.363281 -4.941406 1.1875 -5.109375 C 0.863281 -5.441406 0.703125 -5.867188 0.703125 -6.390625 C 0.703125 -7.035156 0.9375 -7.59375 1.40625 -8.0625 C 1.882812 -8.53125 2.554688 -8.765625 3.421875 -8.765625 C 4.265625 -8.765625 4.921875 -8.539062 5.390625 -8.09375 C 5.867188 -7.65625 6.109375 -7.144531 6.109375 -6.5625 C 6.109375 -6.007812 5.96875 -5.566406 5.6875 -5.234375 C 5.539062 -5.035156 5.300781 -4.847656 4.96875 -4.671875 C 5.332031 -4.503906 5.617188 -4.3125 5.828125 -4.09375 C 6.210938 -3.6875 6.40625 -3.160156 6.40625 -2.515625 C 6.40625 -1.742188 6.144531 -1.085938 5.625 -0.546875 C 5.113281 -0.015625 4.382812 0.25 3.4375 0.25 C 2.59375 0.25 1.875 0.0195312 1.28125 -0.4375 C 0.695312 -0.90625 0.40625 -1.578125 0.40625 -2.453125 C 0.40625 -2.972656 0.53125 -3.421875 0.78125 -3.796875 C 1.03125 -4.171875 1.40625 -4.457031 1.90625 -4.65625 Z \"/>\n",
       "</symbol>\n",
       "<symbol overflow=\"visible\" id=\"glyph0-6\">\n",
       "<path style=\"stroke:none;\" d=\"M 1.203125 -6.1875 L 1.203125 -7.03125 C 1.992188 -7.101562 2.546875 -7.226562 2.859375 -7.40625 C 3.171875 -7.59375 3.40625 -8.023438 3.5625 -8.703125 L 4.421875 -8.703125 L 4.421875 0 L 3.25 0 L 3.25 -6.1875 Z \"/>\n",
       "</symbol>\n",
       "<symbol overflow=\"visible\" id=\"glyph0-7\">\n",
       "<path style=\"stroke:none;\" d=\"M 1.5 -3.1875 C 1.5 -2.488281 1.644531 -1.898438 1.9375 -1.421875 C 2.238281 -0.953125 2.71875 -0.71875 3.375 -0.71875 C 3.882812 -0.71875 4.300781 -0.9375 4.625 -1.375 C 4.957031 -1.8125 5.125 -2.441406 5.125 -3.265625 C 5.125 -4.085938 4.953125 -4.695312 4.609375 -5.09375 C 4.273438 -5.488281 3.859375 -5.6875 3.359375 -5.6875 C 2.804688 -5.6875 2.359375 -5.472656 2.015625 -5.046875 C 1.671875 -4.628906 1.5 -4.007812 1.5 -3.1875 Z M 3.15625 -6.65625 C 3.65625 -6.65625 4.070312 -6.546875 4.40625 -6.328125 C 4.601562 -6.210938 4.828125 -6 5.078125 -5.6875 L 5.078125 -9 L 6.140625 -9 L 6.140625 0 L 5.140625 0 L 5.140625 -0.90625 C 4.890625 -0.507812 4.585938 -0.21875 4.234375 -0.03125 C 3.890625 0.144531 3.488281 0.234375 3.03125 0.234375 C 2.300781 0.234375 1.671875 -0.0703125 1.140625 -0.6875 C 0.609375 -1.300781 0.34375 -2.113281 0.34375 -3.125 C 0.34375 -4.082031 0.582031 -4.910156 1.0625 -5.609375 C 1.550781 -6.304688 2.25 -6.65625 3.15625 -6.65625 Z \"/>\n",
       "</symbol>\n",
       "<symbol overflow=\"visible\" id=\"glyph0-8\">\n",
       "<path style=\"stroke:none;\" d=\"M 0.78125 -9.03125 L 3.125 -9.03125 L 3.125 -8.125 L 1.8125 -8.125 L 1.8125 1.5625 L 3.125 1.5625 L 3.125 2.453125 L 0.78125 2.453125 Z \"/>\n",
       "</symbol>\n",
       "<symbol overflow=\"visible\" id=\"glyph0-9\">\n",
       "<path style=\"stroke:none;\" d=\"M 1.03125 1.28125 C 1.3125 1.226562 1.507812 1.03125 1.625 0.6875 C 1.6875 0.5 1.71875 0.320312 1.71875 0.15625 C 1.71875 0.125 1.71875 0.0976562 1.71875 0.078125 C 1.71875 0.0546875 1.710938 0.03125 1.703125 0 L 1.03125 0 L 1.03125 -1.328125 L 2.34375 -1.328125 L 2.34375 -0.09375 C 2.34375 0.382812 2.242188 0.804688 2.046875 1.171875 C 1.859375 1.546875 1.519531 1.773438 1.03125 1.859375 Z \"/>\n",
       "</symbol>\n",
       "<symbol overflow=\"visible\" id=\"glyph0-10\">\n",
       "<path style=\"stroke:none;\" d=\"\"/>\n",
       "</symbol>\n",
       "<symbol overflow=\"visible\" id=\"glyph0-11\">\n",
       "<path style=\"stroke:none;\" d=\"M 0.28125 1.5625 L 1.59375 1.5625 L 1.59375 -8.125 L 0.28125 -8.125 L 0.28125 -9.03125 L 2.625 -9.03125 L 2.625 2.453125 L 0.28125 2.453125 Z \"/>\n",
       "</symbol>\n",
       "<symbol overflow=\"visible\" id=\"glyph1-0\">\n",
       "<path style=\"stroke:none;\" d=\"M 0 -0.40625 L -8.96875 -0.40625 L -8.96875 -7.515625 L 0 -7.515625 Z M -1.125 -6.390625 L -7.84375 -6.390625 L -7.84375 -1.53125 L -1.125 -1.53125 Z \"/>\n",
       "</symbol>\n",
       "<symbol overflow=\"visible\" id=\"glyph1-1\">\n",
       "<path style=\"stroke:none;\" d=\"M -8.734375 -3.375 C -8.734375 -4.507812 -8.269531 -5.328125 -7.34375 -5.828125 C -6.625 -6.222656 -5.632812 -6.421875 -4.375 -6.421875 C -3.1875 -6.421875 -2.207031 -6.242188 -1.4375 -5.890625 C -0.320312 -5.378906 0.234375 -4.539062 0.234375 -3.375 C 0.234375 -2.320312 -0.21875 -1.539062 -1.125 -1.03125 C -1.882812 -0.601562 -2.90625 -0.390625 -4.1875 -0.390625 C -5.1875 -0.390625 -6.039062 -0.519531 -6.75 -0.78125 C -8.070312 -1.257812 -8.734375 -2.125 -8.734375 -3.375 Z M -0.765625 -3.375 C -0.765625 -3.9375 -1.015625 -4.382812 -1.515625 -4.71875 C -2.023438 -5.0625 -2.96875 -5.234375 -4.34375 -5.234375 C -5.332031 -5.234375 -6.144531 -5.109375 -6.78125 -4.859375 C -7.425781 -4.617188 -7.75 -4.148438 -7.75 -3.453125 C -7.75 -2.804688 -7.441406 -2.332031 -6.828125 -2.03125 C -6.222656 -1.726562 -5.332031 -1.578125 -4.15625 -1.578125 C -3.257812 -1.578125 -2.539062 -1.675781 -2 -1.875 C -1.175781 -2.164062 -0.765625 -2.664062 -0.765625 -3.375 Z \"/>\n",
       "</symbol>\n",
       "<symbol overflow=\"visible\" id=\"glyph1-2\">\n",
       "<path style=\"stroke:none;\" d=\"M 0 -0.390625 C -0.75 -0.429688 -1.398438 -0.585938 -1.953125 -0.859375 C -2.515625 -1.128906 -3.023438 -1.65625 -3.484375 -2.4375 L -4.15625 -3.609375 C -4.46875 -4.140625 -4.726562 -4.507812 -4.9375 -4.71875 C -5.28125 -5.050781 -5.671875 -5.21875 -6.109375 -5.21875 C -6.609375 -5.21875 -7.007812 -5.0625 -7.3125 -4.75 C -7.613281 -4.445312 -7.765625 -4.046875 -7.765625 -3.546875 C -7.765625 -2.785156 -7.476562 -2.265625 -6.90625 -1.984375 C -6.601562 -1.828125 -6.179688 -1.738281 -5.640625 -1.71875 L -5.640625 -0.609375 C -6.398438 -0.617188 -7.019531 -0.757812 -7.5 -1.03125 C -8.34375 -1.5 -8.765625 -2.335938 -8.765625 -3.546875 C -8.765625 -4.546875 -8.492188 -5.273438 -7.953125 -5.734375 C -7.410156 -6.203125 -6.8125 -6.4375 -6.15625 -6.4375 C -5.457031 -6.4375 -4.859375 -6.1875 -4.359375 -5.6875 C -4.066406 -5.40625 -3.71875 -4.894531 -3.3125 -4.15625 L -2.84375 -3.328125 C -2.625 -2.929688 -2.414062 -2.617188 -2.21875 -2.390625 C -1.863281 -1.984375 -1.46875 -1.726562 -1.03125 -1.625 L -1.03125 -6.390625 L 0 -6.390625 Z \"/>\n",
       "</symbol>\n",
       "<symbol overflow=\"visible\" id=\"glyph1-3\">\n",
       "<path style=\"stroke:none;\" d=\"M -3.09375 -4.125 L -7.0625 -4.125 L -3.09375 -1.328125 Z M 0 -4.15625 L -2.140625 -4.15625 L -2.140625 -0.3125 L -3.203125 -0.3125 L -8.765625 -4.328125 L -8.765625 -5.25 L -3.09375 -5.25 L -3.09375 -6.53125 L -2.140625 -6.53125 L -2.140625 -5.25 L 0 -5.25 Z \"/>\n",
       "</symbol>\n",
       "<symbol overflow=\"visible\" id=\"glyph1-4\">\n",
       "<path style=\"stroke:none;\" d=\"M -8.78125 -3.65625 C -8.78125 -4.632812 -8.523438 -5.316406 -8.015625 -5.703125 C -7.503906 -6.085938 -6.984375 -6.28125 -6.453125 -6.28125 L -6.453125 -5.1875 C -6.796875 -5.125 -7.066406 -5.019531 -7.265625 -4.875 C -7.628906 -4.613281 -7.8125 -4.210938 -7.8125 -3.671875 C -7.8125 -3.054688 -7.523438 -2.566406 -6.953125 -2.203125 C -6.390625 -1.847656 -5.578125 -1.648438 -4.515625 -1.609375 C -4.890625 -1.859375 -5.171875 -2.175781 -5.359375 -2.5625 C -5.515625 -2.90625 -5.59375 -3.296875 -5.59375 -3.734375 C -5.59375 -4.460938 -5.359375 -5.097656 -4.890625 -5.640625 C -4.421875 -6.191406 -3.722656 -6.46875 -2.796875 -6.46875 C -2.003906 -6.46875 -1.300781 -6.207031 -0.6875 -5.6875 C -0.0820312 -5.164062 0.21875 -4.429688 0.21875 -3.484375 C 0.21875 -2.660156 -0.0859375 -1.953125 -0.703125 -1.359375 C -1.328125 -0.765625 -2.375 -0.46875 -3.84375 -0.46875 C -4.925781 -0.46875 -5.847656 -0.597656 -6.609375 -0.859375 C -8.054688 -1.367188 -8.78125 -2.300781 -8.78125 -3.65625 Z M -0.75 -3.578125 C -0.75 -4.148438 -0.941406 -4.578125 -1.328125 -4.859375 C -1.722656 -5.148438 -2.179688 -5.296875 -2.703125 -5.296875 C -3.148438 -5.296875 -3.578125 -5.164062 -3.984375 -4.90625 C -4.390625 -4.65625 -4.59375 -4.191406 -4.59375 -3.515625 C -4.59375 -3.046875 -4.4375 -2.632812 -4.125 -2.28125 C -3.8125 -1.925781 -3.335938 -1.75 -2.703125 -1.75 C -2.148438 -1.75 -1.6875 -1.910156 -1.3125 -2.234375 C -0.9375 -2.554688 -0.75 -3.003906 -0.75 -3.578125 Z \"/>\n",
       "</symbol>\n",
       "<symbol overflow=\"visible\" id=\"glyph1-5\">\n",
       "<path style=\"stroke:none;\" d=\"M -5.078125 -3.40625 C -5.078125 -3.882812 -5.210938 -4.257812 -5.484375 -4.53125 C -5.753906 -4.800781 -6.078125 -4.9375 -6.453125 -4.9375 C -6.773438 -4.9375 -7.070312 -4.804688 -7.34375 -4.546875 C -7.613281 -4.285156 -7.75 -3.890625 -7.75 -3.359375 C -7.75 -2.828125 -7.613281 -2.441406 -7.34375 -2.203125 C -7.070312 -1.972656 -6.753906 -1.859375 -6.390625 -1.859375 C -5.984375 -1.859375 -5.660156 -2.007812 -5.421875 -2.3125 C -5.191406 -2.625 -5.078125 -2.988281 -5.078125 -3.40625 Z M -0.75 -3.46875 C -0.75 -3.976562 -0.882812 -4.398438 -1.15625 -4.734375 C -1.4375 -5.066406 -1.847656 -5.234375 -2.390625 -5.234375 C -2.953125 -5.234375 -3.378906 -5.0625 -3.671875 -4.71875 C -3.972656 -4.375 -4.125 -3.929688 -4.125 -3.390625 C -4.125 -2.859375 -3.972656 -2.425781 -3.671875 -2.09375 C -3.367188 -1.769531 -2.953125 -1.609375 -2.421875 -1.609375 C -1.972656 -1.609375 -1.582031 -1.757812 -1.25 -2.0625 C -0.914062 -2.363281 -0.75 -2.832031 -0.75 -3.46875 Z M -4.65625 -1.90625 C -4.789062 -1.601562 -4.941406 -1.363281 -5.109375 -1.1875 C -5.441406 -0.863281 -5.867188 -0.703125 -6.390625 -0.703125 C -7.035156 -0.703125 -7.59375 -0.9375 -8.0625 -1.40625 C -8.53125 -1.882812 -8.765625 -2.554688 -8.765625 -3.421875 C -8.765625 -4.265625 -8.539062 -4.921875 -8.09375 -5.390625 C -7.65625 -5.867188 -7.144531 -6.109375 -6.5625 -6.109375 C -6.007812 -6.109375 -5.566406 -5.96875 -5.234375 -5.6875 C -5.035156 -5.539062 -4.847656 -5.300781 -4.671875 -4.96875 C -4.503906 -5.332031 -4.3125 -5.617188 -4.09375 -5.828125 C -3.6875 -6.210938 -3.160156 -6.40625 -2.515625 -6.40625 C -1.742188 -6.40625 -1.085938 -6.144531 -0.546875 -5.625 C -0.015625 -5.113281 0.25 -4.382812 0.25 -3.4375 C 0.25 -2.59375 0.0195312 -1.875 -0.4375 -1.28125 C -0.90625 -0.695312 -1.578125 -0.40625 -2.453125 -0.40625 C -2.972656 -0.40625 -3.421875 -0.53125 -3.796875 -0.78125 C -4.171875 -1.03125 -4.457031 -1.40625 -4.65625 -1.90625 Z \"/>\n",
       "</symbol>\n",
       "<symbol overflow=\"visible\" id=\"glyph1-6\">\n",
       "<path style=\"stroke:none;\" d=\"M -3.1875 -1.5 C -2.488281 -1.5 -1.898438 -1.644531 -1.421875 -1.9375 C -0.953125 -2.238281 -0.71875 -2.71875 -0.71875 -3.375 C -0.71875 -3.882812 -0.9375 -4.300781 -1.375 -4.625 C -1.8125 -4.957031 -2.441406 -5.125 -3.265625 -5.125 C -4.085938 -5.125 -4.695312 -4.953125 -5.09375 -4.609375 C -5.488281 -4.273438 -5.6875 -3.859375 -5.6875 -3.359375 C -5.6875 -2.804688 -5.472656 -2.359375 -5.046875 -2.015625 C -4.628906 -1.671875 -4.007812 -1.5 -3.1875 -1.5 Z M -6.65625 -3.15625 C -6.65625 -3.65625 -6.546875 -4.070312 -6.328125 -4.40625 C -6.210938 -4.601562 -6 -4.828125 -5.6875 -5.078125 L -9 -5.078125 L -9 -6.140625 L 0 -6.140625 L 0 -5.140625 L -0.90625 -5.140625 C -0.507812 -4.890625 -0.21875 -4.585938 -0.03125 -4.234375 C 0.144531 -3.890625 0.234375 -3.488281 0.234375 -3.03125 C 0.234375 -2.300781 -0.0703125 -1.671875 -0.6875 -1.140625 C -1.300781 -0.609375 -2.113281 -0.34375 -3.125 -0.34375 C -4.082031 -0.34375 -4.910156 -0.582031 -5.609375 -1.0625 C -6.304688 -1.550781 -6.65625 -2.25 -6.65625 -3.15625 Z \"/>\n",
       "</symbol>\n",
       "<symbol overflow=\"visible\" id=\"glyph1-7\">\n",
       "<path style=\"stroke:none;\" d=\"M -9.03125 -0.78125 L -9.03125 -3.125 L -8.125 -3.125 L -8.125 -1.8125 L 1.5625 -1.8125 L 1.5625 -3.125 L 2.453125 -3.125 L 2.453125 -0.78125 Z \"/>\n",
       "</symbol>\n",
       "<symbol overflow=\"visible\" id=\"glyph1-8\">\n",
       "<path style=\"stroke:none;\" d=\"M 1.28125 -1.03125 C 1.226562 -1.3125 1.03125 -1.507812 0.6875 -1.625 C 0.5 -1.6875 0.320312 -1.71875 0.15625 -1.71875 C 0.125 -1.71875 0.0976562 -1.71875 0.078125 -1.71875 C 0.0546875 -1.71875 0.03125 -1.710938 0 -1.703125 L 0 -1.03125 L -1.328125 -1.03125 L -1.328125 -2.34375 L -0.09375 -2.34375 C 0.382812 -2.34375 0.804688 -2.242188 1.171875 -2.046875 C 1.546875 -1.859375 1.773438 -1.519531 1.859375 -1.03125 Z \"/>\n",
       "</symbol>\n",
       "<symbol overflow=\"visible\" id=\"glyph1-9\">\n",
       "<path style=\"stroke:none;\" d=\"\"/>\n",
       "</symbol>\n",
       "<symbol overflow=\"visible\" id=\"glyph1-10\">\n",
       "<path style=\"stroke:none;\" d=\"M 1.5625 -0.28125 L 1.5625 -1.59375 L -8.125 -1.59375 L -8.125 -0.28125 L -9.03125 -0.28125 L -9.03125 -2.625 L 2.453125 -2.625 L 2.453125 -0.28125 Z \"/>\n",
       "</symbol>\n",
       "</g>\n",
       "<clipPath id=\"clip1\">\n",
       "  <path d=\"M 59.039062 201 L 73 201 L 73 215.558594 L 59.039062 215.558594 Z \"/>\n",
       "</clipPath>\n",
       "<clipPath id=\"clip2\">\n",
       "  <path d=\"M 59.039062 208 L 258.757812 208 L 258.757812 210 L 59.039062 210 Z \"/>\n",
       "</clipPath>\n",
       "<clipPath id=\"clip3\">\n",
       "  <path d=\"M 65 59.039062 L 67 59.039062 L 67 215.558594 L 65 215.558594 Z \"/>\n",
       "</clipPath>\n",
       "</defs>\n",
       "<g id=\"surface1024\">\n",
       "<rect x=\"0\" y=\"0\" width=\"288\" height=\"288\" style=\"fill:rgb(100%,100%,100%);fill-opacity:1;stroke:none;\"/>\n",
       "<path style=\"fill:none;stroke-width:1;stroke-linecap:round;stroke-linejoin:round;stroke:rgb(0%,0%,0%);stroke-opacity:1;stroke-miterlimit:10;\" d=\"M 66.398438 214.558594 L 250.398438 214.558594 \"/>\n",
       "<path style=\"fill:none;stroke-width:1;stroke-linecap:round;stroke-linejoin:round;stroke:rgb(0%,0%,0%);stroke-opacity:1;stroke-miterlimit:10;\" d=\"M 66.398438 214.558594 L 66.398438 221.761719 \"/>\n",
       "<path style=\"fill:none;stroke-width:1;stroke-linecap:round;stroke-linejoin:round;stroke:rgb(0%,0%,0%);stroke-opacity:1;stroke-miterlimit:10;\" d=\"M 97.066406 214.558594 L 97.066406 221.761719 \"/>\n",
       "<path style=\"fill:none;stroke-width:1;stroke-linecap:round;stroke-linejoin:round;stroke:rgb(0%,0%,0%);stroke-opacity:1;stroke-miterlimit:10;\" d=\"M 127.734375 214.558594 L 127.734375 221.761719 \"/>\n",
       "<path style=\"fill:none;stroke-width:1;stroke-linecap:round;stroke-linejoin:round;stroke:rgb(0%,0%,0%);stroke-opacity:1;stroke-miterlimit:10;\" d=\"M 158.398438 214.558594 L 158.398438 221.761719 \"/>\n",
       "<path style=\"fill:none;stroke-width:1;stroke-linecap:round;stroke-linejoin:round;stroke:rgb(0%,0%,0%);stroke-opacity:1;stroke-miterlimit:10;\" d=\"M 189.066406 214.558594 L 189.066406 221.761719 \"/>\n",
       "<path style=\"fill:none;stroke-width:1;stroke-linecap:round;stroke-linejoin:round;stroke:rgb(0%,0%,0%);stroke-opacity:1;stroke-miterlimit:10;\" d=\"M 219.734375 214.558594 L 219.734375 221.761719 \"/>\n",
       "<path style=\"fill:none;stroke-width:1;stroke-linecap:round;stroke-linejoin:round;stroke:rgb(0%,0%,0%);stroke-opacity:1;stroke-miterlimit:10;\" d=\"M 250.398438 214.558594 L 250.398438 221.761719 \"/>\n",
       "<g style=\"fill:rgb(0%,0%,0%);fill-opacity:1;\">\n",
       "  <use xlink:href=\"#glyph0-1\" x=\"62.921875\" y=\"241.921875\"/>\n",
       "</g>\n",
       "<g style=\"fill:rgb(0%,0%,0%);fill-opacity:1;\">\n",
       "  <use xlink:href=\"#glyph0-2\" x=\"90.113281\" y=\"241.921875\"/>\n",
       "  <use xlink:href=\"#glyph0-1\" x=\"97.065186\" y=\"241.921875\"/>\n",
       "</g>\n",
       "<g style=\"fill:rgb(0%,0%,0%);fill-opacity:1;\">\n",
       "  <use xlink:href=\"#glyph0-3\" x=\"120.78125\" y=\"241.921875\"/>\n",
       "  <use xlink:href=\"#glyph0-1\" x=\"127.733154\" y=\"241.921875\"/>\n",
       "</g>\n",
       "<g style=\"fill:rgb(0%,0%,0%);fill-opacity:1;\">\n",
       "  <use xlink:href=\"#glyph0-4\" x=\"151.445312\" y=\"241.921875\"/>\n",
       "  <use xlink:href=\"#glyph0-1\" x=\"158.397217\" y=\"241.921875\"/>\n",
       "</g>\n",
       "<g style=\"fill:rgb(0%,0%,0%);fill-opacity:1;\">\n",
       "  <use xlink:href=\"#glyph0-5\" x=\"182.113281\" y=\"241.921875\"/>\n",
       "  <use xlink:href=\"#glyph0-1\" x=\"189.065186\" y=\"241.921875\"/>\n",
       "</g>\n",
       "<g style=\"fill:rgb(0%,0%,0%);fill-opacity:1;\">\n",
       "  <use xlink:href=\"#glyph0-6\" x=\"209.304688\" y=\"241.921875\"/>\n",
       "  <use xlink:href=\"#glyph0-1\" x=\"216.256592\" y=\"241.921875\"/>\n",
       "  <use xlink:href=\"#glyph0-1\" x=\"223.208496\" y=\"241.921875\"/>\n",
       "</g>\n",
       "<path style=\"fill:none;stroke-width:1;stroke-linecap:round;stroke-linejoin:round;stroke:rgb(0%,0%,0%);stroke-opacity:1;stroke-miterlimit:10;\" d=\"M 59.039062 208.800781 L 59.039062 64.800781 \"/>\n",
       "<path style=\"fill:none;stroke-width:1;stroke-linecap:round;stroke-linejoin:round;stroke:rgb(0%,0%,0%);stroke-opacity:1;stroke-miterlimit:10;\" d=\"M 59.039062 208.800781 L 51.839844 208.800781 \"/>\n",
       "<path style=\"fill:none;stroke-width:1;stroke-linecap:round;stroke-linejoin:round;stroke:rgb(0%,0%,0%);stroke-opacity:1;stroke-miterlimit:10;\" d=\"M 59.039062 172.800781 L 51.839844 172.800781 \"/>\n",
       "<path style=\"fill:none;stroke-width:1;stroke-linecap:round;stroke-linejoin:round;stroke:rgb(0%,0%,0%);stroke-opacity:1;stroke-miterlimit:10;\" d=\"M 59.039062 136.800781 L 51.839844 136.800781 \"/>\n",
       "<path style=\"fill:none;stroke-width:1;stroke-linecap:round;stroke-linejoin:round;stroke:rgb(0%,0%,0%);stroke-opacity:1;stroke-miterlimit:10;\" d=\"M 59.039062 100.800781 L 51.839844 100.800781 \"/>\n",
       "<path style=\"fill:none;stroke-width:1;stroke-linecap:round;stroke-linejoin:round;stroke:rgb(0%,0%,0%);stroke-opacity:1;stroke-miterlimit:10;\" d=\"M 59.039062 64.800781 L 51.839844 64.800781 \"/>\n",
       "<g style=\"fill:rgb(0%,0%,0%);fill-opacity:1;\">\n",
       "  <use xlink:href=\"#glyph1-1\" x=\"43.199219\" y=\"212.277344\"/>\n",
       "</g>\n",
       "<g style=\"fill:rgb(0%,0%,0%);fill-opacity:1;\">\n",
       "  <use xlink:href=\"#glyph1-2\" x=\"43.199219\" y=\"179.753906\"/>\n",
       "  <use xlink:href=\"#glyph1-1\" x=\"43.199219\" y=\"172.802002\"/>\n",
       "</g>\n",
       "<g style=\"fill:rgb(0%,0%,0%);fill-opacity:1;\">\n",
       "  <use xlink:href=\"#glyph1-3\" x=\"43.199219\" y=\"143.753906\"/>\n",
       "  <use xlink:href=\"#glyph1-1\" x=\"43.199219\" y=\"136.802002\"/>\n",
       "</g>\n",
       "<g style=\"fill:rgb(0%,0%,0%);fill-opacity:1;\">\n",
       "  <use xlink:href=\"#glyph1-4\" x=\"43.199219\" y=\"107.753906\"/>\n",
       "  <use xlink:href=\"#glyph1-1\" x=\"43.199219\" y=\"100.802002\"/>\n",
       "</g>\n",
       "<g style=\"fill:rgb(0%,0%,0%);fill-opacity:1;\">\n",
       "  <use xlink:href=\"#glyph1-5\" x=\"43.199219\" y=\"71.753906\"/>\n",
       "  <use xlink:href=\"#glyph1-1\" x=\"43.199219\" y=\"64.802002\"/>\n",
       "</g>\n",
       "<path style=\"fill:none;stroke-width:1;stroke-linecap:round;stroke-linejoin:round;stroke:rgb(0%,0%,0%);stroke-opacity:1;stroke-miterlimit:10;\" d=\"M 59.039062 214.558594 L 257.761719 214.558594 L 257.761719 59.039062 L 59.039062 59.039062 L 59.039062 214.558594 \"/>\n",
       "<g style=\"fill:rgb(0%,0%,0%);fill-opacity:1;\">\n",
       "  <use xlink:href=\"#glyph0-7\" x=\"144.5\" y=\"270.71875\"/>\n",
       "  <use xlink:href=\"#glyph0-8\" x=\"151.451904\" y=\"270.71875\"/>\n",
       "  <use xlink:href=\"#glyph0-6\" x=\"154.924805\" y=\"270.71875\"/>\n",
       "  <use xlink:href=\"#glyph0-9\" x=\"161.876709\" y=\"270.71875\"/>\n",
       "  <use xlink:href=\"#glyph0-10\" x=\"165.349609\" y=\"270.71875\"/>\n",
       "  <use xlink:href=\"#glyph0-11\" x=\"168.82251\" y=\"270.71875\"/>\n",
       "</g>\n",
       "<g style=\"fill:rgb(0%,0%,0%);fill-opacity:1;\">\n",
       "  <use xlink:href=\"#glyph1-6\" x=\"14.398438\" y=\"150.699219\"/>\n",
       "  <use xlink:href=\"#glyph1-7\" x=\"14.398438\" y=\"143.747314\"/>\n",
       "  <use xlink:href=\"#glyph1-2\" x=\"14.398438\" y=\"140.274414\"/>\n",
       "  <use xlink:href=\"#glyph1-8\" x=\"14.398438\" y=\"133.32251\"/>\n",
       "  <use xlink:href=\"#glyph1-9\" x=\"14.398438\" y=\"129.849609\"/>\n",
       "  <use xlink:href=\"#glyph1-10\" x=\"14.398438\" y=\"126.376709\"/>\n",
       "</g>\n",
       "<path style=\"fill:none;stroke-width:1;stroke-linecap:round;stroke-linejoin:round;stroke:rgb(0%,0%,0%);stroke-opacity:1;stroke-miterlimit:10;\" d=\"M 66.398438 208.800781 L 158.398438 172.800781 \"/>\n",
       "<path style=\"fill:none;stroke-width:1;stroke-linecap:round;stroke-linejoin:round;stroke:rgb(0%,0%,0%);stroke-opacity:1;stroke-miterlimit:10;\" d=\"M 147.164062 186.863281 L 158.398438 172.800781 L 140.605469 170.097656 \"/>\n",
       "<path style=\"fill:none;stroke-width:1;stroke-linecap:round;stroke-linejoin:round;stroke:rgb(100%,0%,0%);stroke-opacity:1;stroke-miterlimit:10;\" d=\"M 66.398438 208.800781 L 69.464844 201.601562 \"/>\n",
       "<g clip-path=\"url(#clip1)\" clip-rule=\"nonzero\">\n",
       "<path style=\"fill:none;stroke-width:1;stroke-linecap:round;stroke-linejoin:round;stroke:rgb(100%,0%,0%);stroke-opacity:1;stroke-miterlimit:10;\" d=\"M 71.636719 219.46875 L 69.464844 201.601562 L 55.078125 212.414062 \"/>\n",
       "</g>\n",
       "<path style=\"fill:none;stroke-width:1;stroke-linecap:round;stroke-linejoin:round;stroke:rgb(0%,80.392157%,0%);stroke-opacity:1;stroke-miterlimit:10;\" d=\"M 66.398438 208.800781 L 250.398438 64.800781 \"/>\n",
       "<path style=\"fill:none;stroke-width:1;stroke-linecap:round;stroke-linejoin:round;stroke:rgb(0%,80.392157%,0%);stroke-opacity:1;stroke-miterlimit:10;\" d=\"M 243.671875 81.496094 L 250.398438 64.800781 L 232.578125 67.320312 \"/>\n",
       "<g clip-path=\"url(#clip2)\" clip-rule=\"nonzero\">\n",
       "<path style=\"fill:none;stroke-width:1;stroke-linecap:round;stroke-linejoin:round;stroke:rgb(0%,0%,0%);stroke-opacity:1;stroke-miterlimit:10;\" d=\"M 59.039062 208.800781 L 257.761719 208.800781 \"/>\n",
       "</g>\n",
       "<g clip-path=\"url(#clip3)\" clip-rule=\"nonzero\">\n",
       "<path style=\"fill:none;stroke-width:1;stroke-linecap:round;stroke-linejoin:round;stroke:rgb(0%,0%,0%);stroke-opacity:1;stroke-miterlimit:10;\" d=\"M 66.398438 214.558594 L 66.398438 59.039062 \"/>\n",
       "</g>\n",
       "</g>\n",
       "</svg>\n"
      ],
      "text/plain": [
       "plot without title"
      ]
     },
     "metadata": {
      "image/svg+xml": {
       "isolated": true
      }
     },
     "output_type": "display_data"
    }
   ],
   "source": [
    "d <- c(6,60,4,34.841,6,60,2,16.567,6,20,4,45.396,6,20,2,27.939,4,60,4,19.825,4,60,2,1.444,4,20,4,37.673,4,20,2,23.131,6,40,3,23.088,4,40,3,12.325,5,60,3,16.461,5,20,3,33.489,5,40,4,26.189,5,40,2,8.337,5,40,3,19.192,5,40,3,16.579,5,40,3,17.794,5,40,3,16.65,5,40,3,16.799,5,40,3,16.635)\n",
    "dim(d) <- c(4,20) # we force the data into a mtrix of dimension 4 x 20\n",
    "# we create the data frame\n",
    "\n",
    "plot(d[1,],d[2,], ylim=c(0,80), xlim=c(0,120),type='n')\n",
    "for (i in 2) {\n",
    "  arrows(x0=0, y0=0, x1=d[2,i], y1=d[2,i+1])\n",
    "  arrows(x0=0, y0=0, x1=d[3,i], y1=d[3,i+1],col=2)\n",
    "  arrows(x0=0, y0=0, x1=d[3,i]*d[2,i], y1=d[3,i+1]*d[2,i+1],col=3)\n",
    "}\n",
    "abline(0,0)\n",
    "abline(v=0)"
   ]
  },
  {
   "cell_type": "markdown",
   "metadata": {
    "deletable": true,
    "editable": true
   },
   "source": [
    "Now, if we scale / encode these data and draw again their vector we observe that they became orthogonal. So the collinearity has been reduced by proper scaling.\n"
   ]
  },
  {
   "cell_type": "code",
   "execution_count": 53,
   "metadata": {
    "collapsed": false,
    "deletable": true,
    "editable": true
   },
   "outputs": [
    {
     "data": {
      "image/png": "[encoded data removed]",
      "image/svg+xml": [
       "<?xml version=\"1.0\" encoding=\"UTF-8\"?>\n",
       "<svg xmlns=\"http://www.w3.org/2000/svg\" xmlns:xlink=\"http://www.w3.org/1999/xlink\" width=\"288pt\" height=\"288pt\" viewBox=\"0 0 288 288\" version=\"1.1\">\n",
       "<defs>\n",
       "<g>\n",
       "<symbol overflow=\"visible\" id=\"glyph0-0\">\n",
       "<path style=\"stroke:none;\" d=\"M 0.40625 0 L 0.40625 -8.96875 L 7.515625 -8.96875 L 7.515625 0 Z M 6.390625 -1.125 L 6.390625 -7.84375 L 1.53125 -7.84375 L 1.53125 -1.125 Z \"/>\n",
       "</symbol>\n",
       "<symbol overflow=\"visible\" id=\"glyph0-1\">\n",
       "<path style=\"stroke:none;\" d=\"M 0.515625 -4.046875 L 3.578125 -4.046875 L 3.578125 -2.921875 L 0.515625 -2.921875 Z \"/>\n",
       "</symbol>\n",
       "<symbol overflow=\"visible\" id=\"glyph0-2\">\n",
       "<path style=\"stroke:none;\" d=\"M 1.203125 -6.1875 L 1.203125 -7.03125 C 1.992188 -7.101562 2.546875 -7.226562 2.859375 -7.40625 C 3.171875 -7.59375 3.40625 -8.023438 3.5625 -8.703125 L 4.421875 -8.703125 L 4.421875 0 L 3.25 0 L 3.25 -6.1875 Z \"/>\n",
       "</symbol>\n",
       "<symbol overflow=\"visible\" id=\"glyph0-3\">\n",
       "<path style=\"stroke:none;\" d=\"M 1.0625 -1.328125 L 2.34375 -1.328125 L 2.34375 0 L 1.0625 0 Z \"/>\n",
       "</symbol>\n",
       "<symbol overflow=\"visible\" id=\"glyph0-4\">\n",
       "<path style=\"stroke:none;\" d=\"M 3.375 -8.734375 C 4.507812 -8.734375 5.328125 -8.269531 5.828125 -7.34375 C 6.222656 -6.625 6.421875 -5.632812 6.421875 -4.375 C 6.421875 -3.1875 6.242188 -2.207031 5.890625 -1.4375 C 5.378906 -0.320312 4.539062 0.234375 3.375 0.234375 C 2.320312 0.234375 1.539062 -0.21875 1.03125 -1.125 C 0.601562 -1.882812 0.390625 -2.90625 0.390625 -4.1875 C 0.390625 -5.1875 0.519531 -6.039062 0.78125 -6.75 C 1.257812 -8.070312 2.125 -8.734375 3.375 -8.734375 Z M 3.375 -0.765625 C 3.9375 -0.765625 4.382812 -1.015625 4.71875 -1.515625 C 5.0625 -2.023438 5.234375 -2.96875 5.234375 -4.34375 C 5.234375 -5.332031 5.109375 -6.144531 4.859375 -6.78125 C 4.617188 -7.425781 4.148438 -7.75 3.453125 -7.75 C 2.804688 -7.75 2.332031 -7.441406 2.03125 -6.828125 C 1.726562 -6.222656 1.578125 -5.332031 1.578125 -4.15625 C 1.578125 -3.257812 1.675781 -2.539062 1.875 -2 C 2.164062 -1.175781 2.664062 -0.765625 3.375 -0.765625 Z \"/>\n",
       "</symbol>\n",
       "<symbol overflow=\"visible\" id=\"glyph0-5\">\n",
       "<path style=\"stroke:none;\" d=\"M 1.546875 -2.234375 C 1.617188 -1.597656 1.910156 -1.160156 2.421875 -0.921875 C 2.679688 -0.804688 2.984375 -0.75 3.328125 -0.75 C 3.972656 -0.75 4.453125 -0.953125 4.765625 -1.359375 C 5.078125 -1.773438 5.234375 -2.238281 5.234375 -2.75 C 5.234375 -3.351562 5.046875 -3.820312 4.671875 -4.15625 C 4.304688 -4.488281 3.863281 -4.65625 3.34375 -4.65625 C 2.957031 -4.65625 2.628906 -4.582031 2.359375 -4.4375 C 2.085938 -4.289062 1.859375 -4.085938 1.671875 -3.828125 L 0.71875 -3.890625 L 1.390625 -8.59375 L 5.921875 -8.59375 L 5.921875 -7.53125 L 2.203125 -7.53125 L 1.84375 -5.109375 C 2.039062 -5.253906 2.234375 -5.367188 2.421875 -5.453125 C 2.742188 -5.585938 3.117188 -5.65625 3.546875 -5.65625 C 4.347656 -5.65625 5.023438 -5.394531 5.578125 -4.875 C 6.140625 -4.363281 6.421875 -3.707031 6.421875 -2.90625 C 6.421875 -2.082031 6.164062 -1.351562 5.65625 -0.71875 C 5.144531 -0.09375 4.328125 0.21875 3.203125 0.21875 C 2.492188 0.21875 1.863281 0.0195312 1.3125 -0.375 C 0.769531 -0.78125 0.46875 -1.398438 0.40625 -2.234375 Z \"/>\n",
       "</symbol>\n",
       "<symbol overflow=\"visible\" id=\"glyph0-6\">\n",
       "<path style=\"stroke:none;\" d=\"M 1.5 -3.1875 C 1.5 -2.488281 1.644531 -1.898438 1.9375 -1.421875 C 2.238281 -0.953125 2.71875 -0.71875 3.375 -0.71875 C 3.882812 -0.71875 4.300781 -0.9375 4.625 -1.375 C 4.957031 -1.8125 5.125 -2.441406 5.125 -3.265625 C 5.125 -4.085938 4.953125 -4.695312 4.609375 -5.09375 C 4.273438 -5.488281 3.859375 -5.6875 3.359375 -5.6875 C 2.804688 -5.6875 2.359375 -5.472656 2.015625 -5.046875 C 1.671875 -4.628906 1.5 -4.007812 1.5 -3.1875 Z M 3.15625 -6.65625 C 3.65625 -6.65625 4.070312 -6.546875 4.40625 -6.328125 C 4.601562 -6.210938 4.828125 -6 5.078125 -5.6875 L 5.078125 -9 L 6.140625 -9 L 6.140625 0 L 5.140625 0 L 5.140625 -0.90625 C 4.890625 -0.507812 4.585938 -0.21875 4.234375 -0.03125 C 3.890625 0.144531 3.488281 0.234375 3.03125 0.234375 C 2.300781 0.234375 1.671875 -0.0703125 1.140625 -0.6875 C 0.609375 -1.300781 0.34375 -2.113281 0.34375 -3.125 C 0.34375 -4.082031 0.582031 -4.910156 1.0625 -5.609375 C 1.550781 -6.304688 2.25 -6.65625 3.15625 -6.65625 Z \"/>\n",
       "</symbol>\n",
       "<symbol overflow=\"visible\" id=\"glyph0-7\">\n",
       "<path style=\"stroke:none;\" d=\"M 0.78125 -9.03125 L 3.125 -9.03125 L 3.125 -8.125 L 1.8125 -8.125 L 1.8125 1.5625 L 3.125 1.5625 L 3.125 2.453125 L 0.78125 2.453125 Z \"/>\n",
       "</symbol>\n",
       "<symbol overflow=\"visible\" id=\"glyph0-8\">\n",
       "<path style=\"stroke:none;\" d=\"M 1.03125 1.28125 C 1.3125 1.226562 1.507812 1.03125 1.625 0.6875 C 1.6875 0.5 1.71875 0.320312 1.71875 0.15625 C 1.71875 0.125 1.71875 0.0976562 1.71875 0.078125 C 1.71875 0.0546875 1.710938 0.03125 1.703125 0 L 1.03125 0 L 1.03125 -1.328125 L 2.34375 -1.328125 L 2.34375 -0.09375 C 2.34375 0.382812 2.242188 0.804688 2.046875 1.171875 C 1.859375 1.546875 1.519531 1.773438 1.03125 1.859375 Z \"/>\n",
       "</symbol>\n",
       "<symbol overflow=\"visible\" id=\"glyph0-9\">\n",
       "<path style=\"stroke:none;\" d=\"\"/>\n",
       "</symbol>\n",
       "<symbol overflow=\"visible\" id=\"glyph0-10\">\n",
       "<path style=\"stroke:none;\" d=\"M 0.28125 1.5625 L 1.59375 1.5625 L 1.59375 -8.125 L 0.28125 -8.125 L 0.28125 -9.03125 L 2.625 -9.03125 L 2.625 2.453125 L 0.28125 2.453125 Z \"/>\n",
       "</symbol>\n",
       "<symbol overflow=\"visible\" id=\"glyph1-0\">\n",
       "<path style=\"stroke:none;\" d=\"M 0 -0.40625 L -8.96875 -0.40625 L -8.96875 -7.515625 L 0 -7.515625 Z M -1.125 -6.390625 L -7.84375 -6.390625 L -7.84375 -1.53125 L -1.125 -1.53125 Z \"/>\n",
       "</symbol>\n",
       "<symbol overflow=\"visible\" id=\"glyph1-1\">\n",
       "<path style=\"stroke:none;\" d=\"M -4.046875 -0.515625 L -4.046875 -3.578125 L -2.921875 -3.578125 L -2.921875 -0.515625 Z \"/>\n",
       "</symbol>\n",
       "<symbol overflow=\"visible\" id=\"glyph1-2\">\n",
       "<path style=\"stroke:none;\" d=\"M -6.1875 -1.203125 L -7.03125 -1.203125 C -7.101562 -1.992188 -7.226562 -2.546875 -7.40625 -2.859375 C -7.59375 -3.171875 -8.023438 -3.40625 -8.703125 -3.5625 L -8.703125 -4.421875 L 0 -4.421875 L 0 -3.25 L -6.1875 -3.25 Z \"/>\n",
       "</symbol>\n",
       "<symbol overflow=\"visible\" id=\"glyph1-3\">\n",
       "<path style=\"stroke:none;\" d=\"M -1.328125 -1.0625 L -1.328125 -2.34375 L 0 -2.34375 L 0 -1.0625 Z \"/>\n",
       "</symbol>\n",
       "<symbol overflow=\"visible\" id=\"glyph1-4\">\n",
       "<path style=\"stroke:none;\" d=\"M -8.734375 -3.375 C -8.734375 -4.507812 -8.269531 -5.328125 -7.34375 -5.828125 C -6.625 -6.222656 -5.632812 -6.421875 -4.375 -6.421875 C -3.1875 -6.421875 -2.207031 -6.242188 -1.4375 -5.890625 C -0.320312 -5.378906 0.234375 -4.539062 0.234375 -3.375 C 0.234375 -2.320312 -0.21875 -1.539062 -1.125 -1.03125 C -1.882812 -0.601562 -2.90625 -0.390625 -4.1875 -0.390625 C -5.1875 -0.390625 -6.039062 -0.519531 -6.75 -0.78125 C -8.070312 -1.257812 -8.734375 -2.125 -8.734375 -3.375 Z M -0.765625 -3.375 C -0.765625 -3.9375 -1.015625 -4.382812 -1.515625 -4.71875 C -2.023438 -5.0625 -2.96875 -5.234375 -4.34375 -5.234375 C -5.332031 -5.234375 -6.144531 -5.109375 -6.78125 -4.859375 C -7.425781 -4.617188 -7.75 -4.148438 -7.75 -3.453125 C -7.75 -2.804688 -7.441406 -2.332031 -6.828125 -2.03125 C -6.222656 -1.726562 -5.332031 -1.578125 -4.15625 -1.578125 C -3.257812 -1.578125 -2.539062 -1.675781 -2 -1.875 C -1.175781 -2.164062 -0.765625 -2.664062 -0.765625 -3.375 Z \"/>\n",
       "</symbol>\n",
       "<symbol overflow=\"visible\" id=\"glyph1-5\">\n",
       "<path style=\"stroke:none;\" d=\"M -2.234375 -1.546875 C -1.597656 -1.617188 -1.160156 -1.910156 -0.921875 -2.421875 C -0.804688 -2.679688 -0.75 -2.984375 -0.75 -3.328125 C -0.75 -3.972656 -0.953125 -4.453125 -1.359375 -4.765625 C -1.773438 -5.078125 -2.238281 -5.234375 -2.75 -5.234375 C -3.351562 -5.234375 -3.820312 -5.046875 -4.15625 -4.671875 C -4.488281 -4.304688 -4.65625 -3.863281 -4.65625 -3.34375 C -4.65625 -2.957031 -4.582031 -2.628906 -4.4375 -2.359375 C -4.289062 -2.085938 -4.085938 -1.859375 -3.828125 -1.671875 L -3.890625 -0.71875 L -8.59375 -1.390625 L -8.59375 -5.921875 L -7.53125 -5.921875 L -7.53125 -2.203125 L -5.109375 -1.84375 C -5.253906 -2.039062 -5.367188 -2.234375 -5.453125 -2.421875 C -5.585938 -2.742188 -5.65625 -3.117188 -5.65625 -3.546875 C -5.65625 -4.347656 -5.394531 -5.023438 -4.875 -5.578125 C -4.363281 -6.140625 -3.707031 -6.421875 -2.90625 -6.421875 C -2.082031 -6.421875 -1.351562 -6.164062 -0.71875 -5.65625 C -0.09375 -5.144531 0.21875 -4.328125 0.21875 -3.203125 C 0.21875 -2.492188 0.0195312 -1.863281 -0.375 -1.3125 C -0.78125 -0.769531 -1.398438 -0.46875 -2.234375 -0.40625 Z \"/>\n",
       "</symbol>\n",
       "<symbol overflow=\"visible\" id=\"glyph1-6\">\n",
       "<path style=\"stroke:none;\" d=\"M -3.1875 -1.5 C -2.488281 -1.5 -1.898438 -1.644531 -1.421875 -1.9375 C -0.953125 -2.238281 -0.71875 -2.71875 -0.71875 -3.375 C -0.71875 -3.882812 -0.9375 -4.300781 -1.375 -4.625 C -1.8125 -4.957031 -2.441406 -5.125 -3.265625 -5.125 C -4.085938 -5.125 -4.695312 -4.953125 -5.09375 -4.609375 C -5.488281 -4.273438 -5.6875 -3.859375 -5.6875 -3.359375 C -5.6875 -2.804688 -5.472656 -2.359375 -5.046875 -2.015625 C -4.628906 -1.671875 -4.007812 -1.5 -3.1875 -1.5 Z M -6.65625 -3.15625 C -6.65625 -3.65625 -6.546875 -4.070312 -6.328125 -4.40625 C -6.210938 -4.601562 -6 -4.828125 -5.6875 -5.078125 L -9 -5.078125 L -9 -6.140625 L 0 -6.140625 L 0 -5.140625 L -0.90625 -5.140625 C -0.507812 -4.890625 -0.21875 -4.585938 -0.03125 -4.234375 C 0.144531 -3.890625 0.234375 -3.488281 0.234375 -3.03125 C 0.234375 -2.300781 -0.0703125 -1.671875 -0.6875 -1.140625 C -1.300781 -0.609375 -2.113281 -0.34375 -3.125 -0.34375 C -4.082031 -0.34375 -4.910156 -0.582031 -5.609375 -1.0625 C -6.304688 -1.550781 -6.65625 -2.25 -6.65625 -3.15625 Z \"/>\n",
       "</symbol>\n",
       "<symbol overflow=\"visible\" id=\"glyph1-7\">\n",
       "<path style=\"stroke:none;\" d=\"M -9.03125 -0.78125 L -9.03125 -3.125 L -8.125 -3.125 L -8.125 -1.8125 L 1.5625 -1.8125 L 1.5625 -3.125 L 2.453125 -3.125 L 2.453125 -0.78125 Z \"/>\n",
       "</symbol>\n",
       "<symbol overflow=\"visible\" id=\"glyph1-8\">\n",
       "<path style=\"stroke:none;\" d=\"M 0 -0.390625 C -0.75 -0.429688 -1.398438 -0.585938 -1.953125 -0.859375 C -2.515625 -1.128906 -3.023438 -1.65625 -3.484375 -2.4375 L -4.15625 -3.609375 C -4.46875 -4.140625 -4.726562 -4.507812 -4.9375 -4.71875 C -5.28125 -5.050781 -5.671875 -5.21875 -6.109375 -5.21875 C -6.609375 -5.21875 -7.007812 -5.0625 -7.3125 -4.75 C -7.613281 -4.445312 -7.765625 -4.046875 -7.765625 -3.546875 C -7.765625 -2.785156 -7.476562 -2.265625 -6.90625 -1.984375 C -6.601562 -1.828125 -6.179688 -1.738281 -5.640625 -1.71875 L -5.640625 -0.609375 C -6.398438 -0.617188 -7.019531 -0.757812 -7.5 -1.03125 C -8.34375 -1.5 -8.765625 -2.335938 -8.765625 -3.546875 C -8.765625 -4.546875 -8.492188 -5.273438 -7.953125 -5.734375 C -7.410156 -6.203125 -6.8125 -6.4375 -6.15625 -6.4375 C -5.457031 -6.4375 -4.859375 -6.1875 -4.359375 -5.6875 C -4.066406 -5.40625 -3.71875 -4.894531 -3.3125 -4.15625 L -2.84375 -3.328125 C -2.625 -2.929688 -2.414062 -2.617188 -2.21875 -2.390625 C -1.863281 -1.984375 -1.46875 -1.726562 -1.03125 -1.625 L -1.03125 -6.390625 L 0 -6.390625 Z \"/>\n",
       "</symbol>\n",
       "<symbol overflow=\"visible\" id=\"glyph1-9\">\n",
       "<path style=\"stroke:none;\" d=\"M 1.28125 -1.03125 C 1.226562 -1.3125 1.03125 -1.507812 0.6875 -1.625 C 0.5 -1.6875 0.320312 -1.71875 0.15625 -1.71875 C 0.125 -1.71875 0.0976562 -1.71875 0.078125 -1.71875 C 0.0546875 -1.71875 0.03125 -1.710938 0 -1.703125 L 0 -1.03125 L -1.328125 -1.03125 L -1.328125 -2.34375 L -0.09375 -2.34375 C 0.382812 -2.34375 0.804688 -2.242188 1.171875 -2.046875 C 1.546875 -1.859375 1.773438 -1.519531 1.859375 -1.03125 Z \"/>\n",
       "</symbol>\n",
       "<symbol overflow=\"visible\" id=\"glyph1-10\">\n",
       "<path style=\"stroke:none;\" d=\"\"/>\n",
       "</symbol>\n",
       "<symbol overflow=\"visible\" id=\"glyph1-11\">\n",
       "<path style=\"stroke:none;\" d=\"M 1.5625 -0.28125 L 1.5625 -1.59375 L -8.125 -1.59375 L -8.125 -0.28125 L -9.03125 -0.28125 L -9.03125 -2.625 L 2.453125 -2.625 L 2.453125 -0.28125 Z \"/>\n",
       "</symbol>\n",
       "</g>\n",
       "<clipPath id=\"clip1\">\n",
       "  <path d=\"M 59.039062 136 L 258.757812 136 L 258.757812 138 L 59.039062 138 Z \"/>\n",
       "</clipPath>\n",
       "<clipPath id=\"clip2\">\n",
       "  <path d=\"M 157 59.039062 L 159 59.039062 L 159 215.558594 L 157 215.558594 Z \"/>\n",
       "</clipPath>\n",
       "</defs>\n",
       "<g id=\"surface354\">\n",
       "<rect x=\"0\" y=\"0\" width=\"288\" height=\"288\" style=\"fill:rgb(100%,100%,100%);fill-opacity:1;stroke:none;\"/>\n",
       "<path style=\"fill:none;stroke-width:1;stroke-linecap:round;stroke-linejoin:round;stroke:rgb(0%,0%,0%);stroke-opacity:1;stroke-miterlimit:10;\" d=\"M 66.398438 214.558594 L 250.398438 214.558594 \"/>\n",
       "<path style=\"fill:none;stroke-width:1;stroke-linecap:round;stroke-linejoin:round;stroke:rgb(0%,0%,0%);stroke-opacity:1;stroke-miterlimit:10;\" d=\"M 66.398438 214.558594 L 66.398438 221.761719 \"/>\n",
       "<path style=\"fill:none;stroke-width:1;stroke-linecap:round;stroke-linejoin:round;stroke:rgb(0%,0%,0%);stroke-opacity:1;stroke-miterlimit:10;\" d=\"M 112.398438 214.558594 L 112.398438 221.761719 \"/>\n",
       "<path style=\"fill:none;stroke-width:1;stroke-linecap:round;stroke-linejoin:round;stroke:rgb(0%,0%,0%);stroke-opacity:1;stroke-miterlimit:10;\" d=\"M 158.398438 214.558594 L 158.398438 221.761719 \"/>\n",
       "<path style=\"fill:none;stroke-width:1;stroke-linecap:round;stroke-linejoin:round;stroke:rgb(0%,0%,0%);stroke-opacity:1;stroke-miterlimit:10;\" d=\"M 204.398438 214.558594 L 204.398438 221.761719 \"/>\n",
       "<path style=\"fill:none;stroke-width:1;stroke-linecap:round;stroke-linejoin:round;stroke:rgb(0%,0%,0%);stroke-opacity:1;stroke-miterlimit:10;\" d=\"M 250.398438 214.558594 L 250.398438 221.761719 \"/>\n",
       "<g style=\"fill:rgb(0%,0%,0%);fill-opacity:1;\">\n",
       "  <use xlink:href=\"#glyph0-1\" x=\"55.628906\" y=\"241.921875\"/>\n",
       "  <use xlink:href=\"#glyph0-2\" x=\"59.791504\" y=\"241.921875\"/>\n",
       "  <use xlink:href=\"#glyph0-3\" x=\"66.743408\" y=\"241.921875\"/>\n",
       "  <use xlink:href=\"#glyph0-4\" x=\"70.216309\" y=\"241.921875\"/>\n",
       "</g>\n",
       "<g style=\"fill:rgb(0%,0%,0%);fill-opacity:1;\">\n",
       "  <use xlink:href=\"#glyph0-1\" x=\"101.628906\" y=\"241.921875\"/>\n",
       "  <use xlink:href=\"#glyph0-4\" x=\"105.791504\" y=\"241.921875\"/>\n",
       "  <use xlink:href=\"#glyph0-3\" x=\"112.743408\" y=\"241.921875\"/>\n",
       "  <use xlink:href=\"#glyph0-5\" x=\"116.216309\" y=\"241.921875\"/>\n",
       "</g>\n",
       "<g style=\"fill:rgb(0%,0%,0%);fill-opacity:1;\">\n",
       "  <use xlink:href=\"#glyph0-4\" x=\"149.710938\" y=\"241.921875\"/>\n",
       "  <use xlink:href=\"#glyph0-3\" x=\"156.662842\" y=\"241.921875\"/>\n",
       "  <use xlink:href=\"#glyph0-4\" x=\"160.135742\" y=\"241.921875\"/>\n",
       "</g>\n",
       "<g style=\"fill:rgb(0%,0%,0%);fill-opacity:1;\">\n",
       "  <use xlink:href=\"#glyph0-4\" x=\"195.710938\" y=\"241.921875\"/>\n",
       "  <use xlink:href=\"#glyph0-3\" x=\"202.662842\" y=\"241.921875\"/>\n",
       "  <use xlink:href=\"#glyph0-5\" x=\"206.135742\" y=\"241.921875\"/>\n",
       "</g>\n",
       "<g style=\"fill:rgb(0%,0%,0%);fill-opacity:1;\">\n",
       "  <use xlink:href=\"#glyph0-2\" x=\"241.710938\" y=\"241.921875\"/>\n",
       "  <use xlink:href=\"#glyph0-3\" x=\"248.662842\" y=\"241.921875\"/>\n",
       "  <use xlink:href=\"#glyph0-4\" x=\"252.135742\" y=\"241.921875\"/>\n",
       "</g>\n",
       "<path style=\"fill:none;stroke-width:1;stroke-linecap:round;stroke-linejoin:round;stroke:rgb(0%,0%,0%);stroke-opacity:1;stroke-miterlimit:10;\" d=\"M 59.039062 208.800781 L 59.039062 64.800781 \"/>\n",
       "<path style=\"fill:none;stroke-width:1;stroke-linecap:round;stroke-linejoin:round;stroke:rgb(0%,0%,0%);stroke-opacity:1;stroke-miterlimit:10;\" d=\"M 59.039062 208.800781 L 51.839844 208.800781 \"/>\n",
       "<path style=\"fill:none;stroke-width:1;stroke-linecap:round;stroke-linejoin:round;stroke:rgb(0%,0%,0%);stroke-opacity:1;stroke-miterlimit:10;\" d=\"M 59.039062 172.800781 L 51.839844 172.800781 \"/>\n",
       "<path style=\"fill:none;stroke-width:1;stroke-linecap:round;stroke-linejoin:round;stroke:rgb(0%,0%,0%);stroke-opacity:1;stroke-miterlimit:10;\" d=\"M 59.039062 136.800781 L 51.839844 136.800781 \"/>\n",
       "<path style=\"fill:none;stroke-width:1;stroke-linecap:round;stroke-linejoin:round;stroke:rgb(0%,0%,0%);stroke-opacity:1;stroke-miterlimit:10;\" d=\"M 59.039062 100.800781 L 51.839844 100.800781 \"/>\n",
       "<path style=\"fill:none;stroke-width:1;stroke-linecap:round;stroke-linejoin:round;stroke:rgb(0%,0%,0%);stroke-opacity:1;stroke-miterlimit:10;\" d=\"M 59.039062 64.800781 L 51.839844 64.800781 \"/>\n",
       "<g style=\"fill:rgb(0%,0%,0%);fill-opacity:1;\">\n",
       "  <use xlink:href=\"#glyph1-1\" x=\"43.199219\" y=\"219.570312\"/>\n",
       "  <use xlink:href=\"#glyph1-2\" x=\"43.199219\" y=\"215.407715\"/>\n",
       "  <use xlink:href=\"#glyph1-3\" x=\"43.199219\" y=\"208.455811\"/>\n",
       "  <use xlink:href=\"#glyph1-4\" x=\"43.199219\" y=\"204.98291\"/>\n",
       "</g>\n",
       "<g style=\"fill:rgb(0%,0%,0%);fill-opacity:1;\">\n",
       "  <use xlink:href=\"#glyph1-1\" x=\"43.199219\" y=\"183.570312\"/>\n",
       "  <use xlink:href=\"#glyph1-4\" x=\"43.199219\" y=\"179.407715\"/>\n",
       "  <use xlink:href=\"#glyph1-3\" x=\"43.199219\" y=\"172.455811\"/>\n",
       "  <use xlink:href=\"#glyph1-5\" x=\"43.199219\" y=\"168.98291\"/>\n",
       "</g>\n",
       "<g style=\"fill:rgb(0%,0%,0%);fill-opacity:1;\">\n",
       "  <use xlink:href=\"#glyph1-4\" x=\"43.199219\" y=\"145.488281\"/>\n",
       "  <use xlink:href=\"#glyph1-3\" x=\"43.199219\" y=\"138.536377\"/>\n",
       "  <use xlink:href=\"#glyph1-4\" x=\"43.199219\" y=\"135.063477\"/>\n",
       "</g>\n",
       "<g style=\"fill:rgb(0%,0%,0%);fill-opacity:1;\">\n",
       "  <use xlink:href=\"#glyph1-4\" x=\"43.199219\" y=\"109.488281\"/>\n",
       "  <use xlink:href=\"#glyph1-3\" x=\"43.199219\" y=\"102.536377\"/>\n",
       "  <use xlink:href=\"#glyph1-5\" x=\"43.199219\" y=\"99.063477\"/>\n",
       "</g>\n",
       "<g style=\"fill:rgb(0%,0%,0%);fill-opacity:1;\">\n",
       "  <use xlink:href=\"#glyph1-2\" x=\"43.199219\" y=\"73.488281\"/>\n",
       "  <use xlink:href=\"#glyph1-3\" x=\"43.199219\" y=\"66.536377\"/>\n",
       "  <use xlink:href=\"#glyph1-4\" x=\"43.199219\" y=\"63.063477\"/>\n",
       "</g>\n",
       "<path style=\"fill:none;stroke-width:1;stroke-linecap:round;stroke-linejoin:round;stroke:rgb(0%,0%,0%);stroke-opacity:1;stroke-miterlimit:10;\" d=\"M 59.039062 214.558594 L 257.761719 214.558594 L 257.761719 59.039062 L 59.039062 59.039062 L 59.039062 214.558594 \"/>\n",
       "<g style=\"fill:rgb(0%,0%,0%);fill-opacity:1;\">\n",
       "  <use xlink:href=\"#glyph0-6\" x=\"144.5\" y=\"270.71875\"/>\n",
       "  <use xlink:href=\"#glyph0-7\" x=\"151.451904\" y=\"270.71875\"/>\n",
       "  <use xlink:href=\"#glyph0-2\" x=\"154.924805\" y=\"270.71875\"/>\n",
       "  <use xlink:href=\"#glyph0-8\" x=\"161.876709\" y=\"270.71875\"/>\n",
       "  <use xlink:href=\"#glyph0-9\" x=\"165.349609\" y=\"270.71875\"/>\n",
       "  <use xlink:href=\"#glyph0-10\" x=\"168.82251\" y=\"270.71875\"/>\n",
       "</g>\n",
       "<g style=\"fill:rgb(0%,0%,0%);fill-opacity:1;\">\n",
       "  <use xlink:href=\"#glyph1-6\" x=\"14.398438\" y=\"150.699219\"/>\n",
       "  <use xlink:href=\"#glyph1-7\" x=\"14.398438\" y=\"143.747314\"/>\n",
       "  <use xlink:href=\"#glyph1-8\" x=\"14.398438\" y=\"140.274414\"/>\n",
       "  <use xlink:href=\"#glyph1-9\" x=\"14.398438\" y=\"133.32251\"/>\n",
       "  <use xlink:href=\"#glyph1-10\" x=\"14.398438\" y=\"129.849609\"/>\n",
       "  <use xlink:href=\"#glyph1-11\" x=\"14.398438\" y=\"126.376709\"/>\n",
       "</g>\n",
       "<path style=\"fill:none;stroke-width:1;stroke-linecap:round;stroke-linejoin:round;stroke:rgb(0%,0%,0%);stroke-opacity:1;stroke-miterlimit:10;\" d=\"M 158.398438 136.800781 L 250.398438 208.800781 \"/>\n",
       "<path style=\"fill:none;stroke-width:1;stroke-linecap:round;stroke-linejoin:round;stroke:rgb(0%,0%,0%);stroke-opacity:1;stroke-miterlimit:10;\" d=\"M 232.578125 206.28125 L 250.398438 208.800781 L 243.671875 192.105469 \"/>\n",
       "<path style=\"fill:none;stroke-width:1;stroke-linecap:round;stroke-linejoin:round;stroke:rgb(100%,0%,0%);stroke-opacity:1;stroke-miterlimit:10;\" d=\"M 158.398438 136.800781 L 66.398438 64.800781 \"/>\n",
       "<path style=\"fill:none;stroke-width:1;stroke-linecap:round;stroke-linejoin:round;stroke:rgb(100%,0%,0%);stroke-opacity:1;stroke-miterlimit:10;\" d=\"M 84.222656 67.320312 L 66.398438 64.800781 L 73.128906 81.496094 \"/>\n",
       "<path style=\"fill:none;stroke-width:1;stroke-linecap:round;stroke-linejoin:round;stroke:rgb(0%,80.392157%,0%);stroke-opacity:1;stroke-miterlimit:10;\" d=\"M 158.398438 136.800781 L 66.398438 208.800781 \"/>\n",
       "<path style=\"fill:none;stroke-width:1;stroke-linecap:round;stroke-linejoin:round;stroke:rgb(0%,80.392157%,0%);stroke-opacity:1;stroke-miterlimit:10;\" d=\"M 73.128906 192.105469 L 66.398438 208.800781 L 84.222656 206.28125 \"/>\n",
       "<g clip-path=\"url(#clip1)\" clip-rule=\"nonzero\">\n",
       "<path style=\"fill:none;stroke-width:1;stroke-linecap:round;stroke-linejoin:round;stroke:rgb(0%,0%,0%);stroke-opacity:1;stroke-miterlimit:10;\" d=\"M 59.039062 136.800781 L 257.761719 136.800781 \"/>\n",
       "</g>\n",
       "<g clip-path=\"url(#clip2)\" clip-rule=\"nonzero\">\n",
       "<path style=\"fill:none;stroke-width:1;stroke-linecap:round;stroke-linejoin:round;stroke:rgb(0%,0%,0%);stroke-opacity:1;stroke-miterlimit:10;\" d=\"M 158.398438 214.558594 L 158.398438 59.039062 \"/>\n",
       "</g>\n",
       "</g>\n",
       "</svg>\n"
      ],
      "text/plain": [
       "plot without title"
      ]
     },
     "metadata": {
      "image/svg+xml": {
       "isolated": true
      }
     },
     "output_type": "display_data"
    }
   ],
   "source": [
    "# scale with y <- (2*x - max(x) - min(x)) / (max(x)-min(x))\n",
    "maxs <- apply(d[1:3,],1,max); mins <- apply(d[1:3,],1,min)\n",
    "d[1:3,] <- t( scale(t(d)[,1:3],center = (mins + maxs)/2, scale = (maxs - mins)/2) )\n",
    "\n",
    "plot(d[1,],d[2,], ylim=c(-1,1), xlim=c(-1,1),type='n')\n",
    "for (i in 2) {\n",
    "  arrows(x0=0, y0=0, x1=d[2,i], y1=d[2,i+1])\n",
    "  arrows(x0=0, y0=0, x1=d[3,i], y1=d[3,i+1],col=2)\n",
    "  arrows(x0=0, y0=0, x1=d[3,i]*d[2,i], y1=d[3,i+1]*d[2,i+1],col=3)\n",
    "}\n",
    "abline(0,0)\n",
    "abline(v=0)"
   ]
  },
  {
   "cell_type": "markdown",
   "metadata": {
    "deletable": true,
    "editable": true
   },
   "source": [
    "Collinearity should be avoided because it causes overfitting. The goal of a regression is to find the best variables (IVs) than explain most of the variance in the dependent variable (DV). This is usually measured by the explained variance, $R^2$, parameter. Too many collinear predictors may lead to high values of $R^2$ without the resulting model being necessarily useful. Collinear predictors are poor at describing the whole variable space. For example, we can find a best line that passes close to three points in space. If points are close, the error may be much larger, without incrementing the residuals, than if the three points are spread over a large distance. \n",
    "\n",
    "In addition, in the case of collinear variable, it will be difficult to rank them according to their importance to explain variance. Indeed the importance of a variable will depend on the order in which the variable are taken into account. If one vector explains a lot of variance, a collinear predictor that follow will not be able to explain anymore variance and will thus be discarded, although it contains important information.\n",
    "\n",
    "<div class=\"ref\">\n",
    "http://creative-wisdom.com/computer/sas/collinear.html\n",
    "</div>"
   ]
  },
  {
   "cell_type": "markdown",
   "metadata": {
    "deletable": true,
    "editable": true
   },
   "source": [
    "<img src=\"./img/stepwise1.gif\" width=\"200\"><img src=\"./img/stepwise2.gif\" width=\"200\">"
   ]
  },
  {
   "cell_type": "markdown",
   "metadata": {
    "deletable": true,
    "editable": true
   },
   "source": [
    "This is best illustrated by the above figures. In one case, each variable will explain its part of variance, while in the second case, several variable explain \"the same\" bit of variance."
   ]
  },
  {
   "cell_type": "markdown",
   "metadata": {
    "deletable": true,
    "editable": true
   },
   "source": [
    "### high number of variable\n",
    "\n",
    "Imagine for a moment that the number of available variables (predictors) is much higher that the number of observation. In this case, the degree of freedom will become negative, that is the system lacks degrees of freedom, a situation which is referred to as overfitting. It is thus necessary to reduce the number of variables a task that is achieved by step-wise regression, etc. The general principles behind these methods consists in performing regressions with different combinations of variables in order to find out the ones to keep. \n",
    "\n",
    "However there are others and more robust alternatives to these methods that aknowledge the redundancy of information spanned by collinear predictors and try to convert collinearity of predictors (an issue) into reliability (a plusvalue). Such methods, as PLS (Projection to Latent Structure, a.k.a Partial Least Square), seek projecting predictors into composit variables to better explain the structure of the response. Moreover, PLS focuses on prediction, rather than fit, and is inherently weak at posterior interpretation of the relevant variables (this is also known as soft-modeling). Such methods also forms the domain of multivariate analysis, which should not be confused with multiple regression or multiple variable analysis. "
   ]
  }
 ],
 "metadata": {
  "kernelspec": {
   "display_name": "R",
   "language": "R",
   "name": "ir"
  },
  "language_info": {
   "codemirror_mode": "r",
   "file_extension": ".r",
   "mimetype": "text/x-r-source",
   "name": "R",
   "pygments_lexer": "r",
   "version": "3.3.0"
  }
 },
 "nbformat": 4,
 "nbformat_minor": 2
}
