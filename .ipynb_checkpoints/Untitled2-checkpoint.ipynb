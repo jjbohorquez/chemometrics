{
 "cells": [
  {
   "cell_type": "code",
   "execution_count": 1,
   "metadata": {},
   "outputs": [
    {
     "name": "stderr",
     "output_type": "stream",
     "text": [
      "Warning message:\n",
      "“package ‘ggplot2’ was built under R version 3.3.2”Warning message:\n",
      "“package ‘caret’ was built under R version 3.3.2”Loading required package: lattice\n",
      "Warning message:\n",
      "“package ‘lattice’ was built under R version 3.3.2”Warning message:\n",
      "“package ‘MASS’ was built under R version 3.3.2”Warning message:\n",
      "“package ‘pls’ was built under R version 3.3.2”\n",
      "Attaching package: ‘pls’\n",
      "\n",
      "The following object is masked from ‘package:caret’:\n",
      "\n",
      "    R2\n",
      "\n",
      "The following object is masked from ‘package:corrplot’:\n",
      "\n",
      "    corrplot\n",
      "\n",
      "The following object is masked from ‘package:stats’:\n",
      "\n",
      "    loadings\n",
      "\n",
      "Warning message:\n",
      "“package ‘e1071’ was built under R version 3.3.2”Type 'citation(\"pROC\")' for a citation.\n",
      "\n",
      "Attaching package: ‘pROC’\n",
      "\n",
      "The following objects are masked from ‘package:stats’:\n",
      "\n",
      "    cov, smooth, var\n",
      "\n",
      "Warning message:\n",
      "“package ‘vegan’ was built under R version 3.3.2”Loading required package: permute\n",
      "This is vegan 2.4-3\n",
      "\n",
      "Attaching package: ‘vegan’\n",
      "\n",
      "The following object is masked from ‘package:pls’:\n",
      "\n",
      "    scores\n",
      "\n",
      "The following object is masked from ‘package:klaR’:\n",
      "\n",
      "    rda\n",
      "\n",
      "The following object is masked from ‘package:caret’:\n",
      "\n",
      "    tolerance\n",
      "\n",
      "Loading required package: scales\n",
      "Warning message:\n",
      "“package ‘scales’ was built under R version 3.3.2”Loading required package: gridExtra\n"
     ]
    }
   ],
   "source": [
    "# we load a few packages\n",
    "library(ggplot2)\n",
    "library(corrplot)\n",
    "library(reshape2)\n",
    "library(caret)\n",
    "library(MASS) # for LDA\n",
    "library(klaR) # for pls\n",
    "library(pls)\n",
    "library(e1071)# for pls\n",
    "library(pROC) # for pls\n",
    "library(vegan)\n",
    "require(scales)\n",
    "require(gridExtra);"
   ]
  },
  {
   "cell_type": "code",
   "execution_count": 2,
   "metadata": {
    "collapsed": true
   },
   "outputs": [],
   "source": [
    "options(repr.plot.width=4, repr.plot.height=4)"
   ]
  },
  {
   "cell_type": "code",
   "execution_count": null,
   "metadata": {
    "collapsed": true
   },
   "outputs": [],
   "source": [
    "rm(list=ls(all=TRUE))\n",
    "\n",
    "read.csv('/Users/jul/git/pipe-generate-dataset/dataset.csv')\n",
    "//read.csv('/Users/jul/git/pipe-generate-dataset/dataClass.csv')"
   ]
  },
  {
   "cell_type": "code",
   "execution_count": null,
   "metadata": {
    "collapsed": true
   },
   "outputs": [],
   "source": []
  }
 ],
 "metadata": {
  "kernelspec": {
   "display_name": "R",
   "language": "R",
   "name": "ir"
  },
  "language_info": {
   "codemirror_mode": "r",
   "file_extension": ".r",
   "mimetype": "text/x-r-source",
   "name": "R",
   "pygments_lexer": "r",
   "version": "3.3.0"
  }
 },
 "nbformat": 4,
 "nbformat_minor": 2
}
