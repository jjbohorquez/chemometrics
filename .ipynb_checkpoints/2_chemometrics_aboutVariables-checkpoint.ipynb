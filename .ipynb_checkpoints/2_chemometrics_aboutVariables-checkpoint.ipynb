{
 "cells": [
  {
   "cell_type": "markdown",
   "metadata": {
    "deletable": true,
    "editable": true
   },
   "source": [
    "# Chemometrics\n",
    "<br>"
   ]
  },
  {
   "cell_type": "code",
   "execution_count": 2,
   "metadata": {
    "collapsed": true,
    "deletable": true,
    "editable": true
   },
   "outputs": [],
   "source": [
    "options(repr.plot.width=3, repr.plot.height=3)"
   ]
  },
  {
   "cell_type": "markdown",
   "metadata": {
    "deletable": true,
    "editable": true
   },
   "source": [
    "## about variables\n",
    " - independent variables (experimental, predictors) are those that we manipulate during an experiment\n",
    " - dependent variables are the one we try to explain\n",
    "\n",
    "we test the effect of IV on DV. We study the effect of age (IV) and lecture skills (IV) on academic performances (marks, DV). The latter depend on the former. A high or low mark will *never* affect the lecture skills.\n",
    "\n",
    "or as John Barns puts it:\n",
    "\"Let's review: In statistics, independent variables are causes and dependent variables are effects. For example, in a simple model of tampon purchases, we hypothesize that being a woman or a married man causes a purchase, so the variable \"tampon purchases\" is dependent on the independent variables \"sex\" and \"marital status.\" (Reversing the dependent and independent variables would express the hypothesis that buying tampons makes single men become married women).\"\n",
    "\n",
    "<div class=\"comments\">\n",
    "It is important to know how many IV and DV we have, since it will guide us to pick the correct method.\n",
    "</div>\n",
    "\n",
    "<div class=\"ref\" style=\"font-size:12px;\">\n",
    "https://statistics.laerd.com/statistical-guides/types-of-variable.php<br>\n",
    "http://www.allanalytics.com/author.asp?section_id=1413&doc_id=252823\n",
    "</div>\n"
   ]
  },
  {
   "cell_type": "markdown",
   "metadata": {
    "deletable": true,
    "editable": true
   },
   "source": [
    "### categorical and continuous variables\n",
    " - Nominal (names: Colombia, Burkina Faso)\n",
    " - Dichotomous (male or female, the one usually exclude the other)\n",
    " - Ordinal (low, middle, high)\n",
    " - Continous variables\n",
    "  - interval (0 C is not ratio)\n",
    "  - ratio (0 K is a ratio, because it means no temperature at all)\n"
   ]
  },
  {
   "cell_type": "markdown",
   "metadata": {
    "deletable": true,
    "editable": true
   },
   "source": [
    "### decision tree\n",
    "<div class=\"col2\">\n",
    "\n",
    "<center>\n",
    "<img src=\"https://raw.githubusercontent.com/jwist/chemometrics/master/img/arbre.png\" width=\"800\">\n",
    "</center>\n",
    "\n",
    "- by knowing the kind and number of variables we can use such a decision tree to guide us among the many methods\n",
    "\n",
    "It goes behond the scope of this classe to study all of them, but we will use the tree for the several example we want to study deeper in.\n",
    "</div>\n",
    "\n",
    "<div class=\"ref\">\n",
    "Ennos, R. 2007. Statistical and Data Handling Skills in Biology. Harlow, U.K., Pearson Education Limited\n",
    "</div>"
   ]
  }
 ],
 "metadata": {
  "kernelspec": {
   "display_name": "R",
   "language": "R",
   "name": "ir"
  },
  "language_info": {
   "codemirror_mode": "r",
   "file_extension": ".r",
   "mimetype": "text/x-r-source",
   "name": "R",
   "pygments_lexer": "r",
   "version": "3.3.0"
  }
 },
 "nbformat": 4,
 "nbformat_minor": 2
}
