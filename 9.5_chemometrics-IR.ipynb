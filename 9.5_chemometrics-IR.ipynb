{
 "cells": [
  {
   "cell_type": "markdown",
   "metadata": {},
   "source": [
    "# Chemometrics\n",
    "<br>\n",
    "**Julien Wist / 2017 / Universidad del Valle**\n",
    "<br>\n",
    "**Andrés Bernal / 2017 / ???**\n",
    "\n",
    "An up-to-date version of this notebook can be found here: https://github.com/jwist/chemometrics/"
   ]
  },
  {
   "cell_type": "code",
   "execution_count": 1,
   "metadata": {},
   "outputs": [],
   "source": [
    "options(repr.plot.width=4, repr.plot.height=4)"
   ]
  },
  {
   "cell_type": "code",
   "execution_count": 3,
   "metadata": {},
   "outputs": [],
   "source": [
    "# we load a few packages\n",
    "library(ggplot2)\n",
    "library(corrplot)\n",
    "library(reshape2)\n",
    "library(caret)\n",
    "library(MASS) # for LDA\n",
    "library(klaR) # for pls\n",
    "library(pls)\n",
    "library(e1071)# for pls\n",
    "library(pROC) # for pls\n",
    "library(vegan)\n",
    "require(scales)\n",
    "require(gridExtra);"
   ]
  },
  {
   "cell_type": "markdown",
   "metadata": {},
   "source": [
    "## Let's load some IR/NIR data"
   ]
  },
  {
   "cell_type": "code",
   "execution_count": null,
   "metadata": {},
   "outputs": [],
   "source": [
    "load(url('https://github.com/jwist/chemometrics/raw/master/datasets/coffeeMulti.rda'))"
   ]
  }
 ],
 "metadata": {
  "kernelspec": {
   "display_name": "R",
   "language": "R",
   "name": "ir"
  },
  "language_info": {
   "codemirror_mode": "r",
   "file_extension": ".r",
   "mimetype": "text/x-r-source",
   "name": "R",
   "pygments_lexer": "r",
   "version": "3.3.3"
  }
 },
 "nbformat": 4,
 "nbformat_minor": 2
}
