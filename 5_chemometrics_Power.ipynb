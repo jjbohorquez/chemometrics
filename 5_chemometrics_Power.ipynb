{
 "cells": [
  {
   "cell_type": "markdown",
   "metadata": {},
   "source": [
    "# Chemometrics\n",
    "<br>\n",
    "**Julien Wist / 2017 / Universidad del Valle**\n",
    "<br>\n",
    "**Andrés Bernal / 2017 / ???**\n",
    "\n",
    "An up-to-date version of this notebook can be found here: https://github.com/jwist/chemometrics/"
   ]
  },
  {
   "cell_type": "code",
   "execution_count": 1,
   "metadata": {
    "collapsed": true
   },
   "outputs": [],
   "source": [
    "options(repr.plot.width=4, repr.plot.height=4) # change these setting to plot larger figures"
   ]
  },
  {
   "cell_type": "code",
   "execution_count": 2,
   "metadata": {},
   "outputs": [
    {
     "name": "stderr",
     "output_type": "stream",
     "text": [
      "Warning message:\n",
      "\"package 'caret' was built under R version 3.3.2\"Loading required package: lattice\n",
      "Warning message:\n",
      "\"package 'lattice' was built under R version 3.3.2\"Loading required package: ggplot2\n",
      "Warning message:\n",
      "\"package 'ggplot2' was built under R version 3.3.2\""
     ]
    }
   ],
   "source": [
    "library(caret)"
   ]
  },
  {
   "cell_type": "markdown",
   "metadata": {},
   "source": [
    "## diagnostic test\n",
    "\n",
    "We create a testset as described in Altman, D.G., Bland, J.M. (1994) “Diagnostic tests 1: sensitivity and specificity,” British Medical Journal, vol 308, 1552. and Altman, D.G., Bland, J.M. (1994) “Diagnostic tests 2: predictive values,” British Medical Journal, vol 309, 102.\n",
    "\n",
    "The truth is that 258 persons out of 344 have abnormal livers. Thus, the prevalence of the disease is 258/344=0.75."
   ]
  },
  {
   "cell_type": "code",
   "execution_count": 121,
   "metadata": {},
   "outputs": [
    {
     "data": {
      "text/html": [
       "<dl class=dl-horizontal>\n",
       "\t<dt>abnormal</dt>\n",
       "\t\t<dd>258</dd>\n",
       "\t<dt>normal</dt>\n",
       "\t\t<dd>86</dd>\n",
       "</dl>\n"
      ],
      "text/latex": [
       "\\begin{description*}\n",
       "\\item[abnormal] 258\n",
       "\\item[normal] 86\n",
       "\\end{description*}\n"
      ],
      "text/markdown": [
       "abnormal\n",
       ":   258normal\n",
       ":   86\n",
       "\n"
      ],
      "text/plain": [
       "abnormal   normal \n",
       "     258       86 "
      ]
     },
     "execution_count": 121,
     "metadata": {},
     "output_type": "execute_result"
    },
    {
     "data": {
      "text/html": [
       "0.75"
      ],
      "text/latex": [
       "0.75"
      ],
      "text/markdown": [
       "0.75"
      ],
      "text/plain": [
       "[1] 0.75"
      ]
     },
     "execution_count": 121,
     "metadata": {},
     "output_type": "execute_result"
    }
   ],
   "source": [
    "N <- 344\n",
    "neg <- 86\n",
    "lvs <- c(\"normal\", \"abnormal\")\n",
    "truth <- factor(rep(lvs, times = c(86, 344-86)),\n",
    "                levels = rev(lvs))\n",
    "summary(truth)\n",
    "\n",
    "prevalence <- sum(truth == \"abnormal\") / length(truth)\n",
    "prevalence"
   ]
  },
  {
   "cell_type": "markdown",
   "metadata": {},
   "source": [
    "So the odds of finding an abnormal liver (prior to the test) is:"
   ]
  },
  {
   "cell_type": "code",
   "execution_count": 122,
   "metadata": {},
   "outputs": [
    {
     "data": {
      "text/html": [
       "3"
      ],
      "text/latex": [
       "3"
      ],
      "text/markdown": [
       "3"
      ],
      "text/plain": [
       "[1] 3"
      ]
     },
     "execution_count": 122,
     "metadata": {},
     "output_type": "execute_result"
    }
   ],
   "source": [
    "prevalence / (1 - prevalence)"
   ]
  },
  {
   "cell_type": "markdown",
   "metadata": {},
   "source": [
    "A test has been developed that gives the following results:"
   ]
  },
  {
   "cell_type": "code",
   "execution_count": 123,
   "metadata": {},
   "outputs": [
    {
     "data": {
      "text/html": [
       "<dl class=dl-horizontal>\n",
       "\t<dt>abnormal</dt>\n",
       "\t\t<dd>263</dd>\n",
       "\t<dt>normal</dt>\n",
       "\t\t<dd>81</dd>\n",
       "</dl>\n"
      ],
      "text/latex": [
       "\\begin{description*}\n",
       "\\item[abnormal] 263\n",
       "\\item[normal] 81\n",
       "\\end{description*}\n"
      ],
      "text/markdown": [
       "abnormal\n",
       ":   263normal\n",
       ":   81\n",
       "\n"
      ],
      "text/plain": [
       "abnormal   normal \n",
       "     263       81 "
      ]
     },
     "execution_count": 123,
     "metadata": {},
     "output_type": "execute_result"
    }
   ],
   "source": [
    "pred <- factor(\n",
    "               c(\n",
    "                 rep(lvs, times = c(54, 32)),\n",
    "                 rep(lvs, times = c(27, 231))),               \n",
    "               levels = rev(lvs))\n",
    "summary(pred)"
   ]
  },
  {
   "cell_type": "markdown",
   "metadata": {},
   "source": [
    "By comparing both vector we can build a confusion matrix easily."
   ]
  },
  {
   "cell_type": "code",
   "execution_count": 124,
   "metadata": {},
   "outputs": [
    {
     "data": {
      "text/plain": [
       "          truth\n",
       "pred       abnormal normal\n",
       "  abnormal      231     32\n",
       "  normal         27     54"
      ]
     },
     "execution_count": 124,
     "metadata": {},
     "output_type": "execute_result"
    }
   ],
   "source": [
    "xtab <- table(pred, truth)\n",
    "xtab"
   ]
  },
  {
   "cell_type": "markdown",
   "metadata": {},
   "source": [
    "So there are 231+27=258 true positives (abnormal) and 32+54=86 true negatives (normal). Thus, there are 231/258=0.9 and 54/86=0.63 that were correctly classified. The first number is called sensitivity, while the second is called specificity."
   ]
  },
  {
   "cell_type": "code",
   "execution_count": 125,
   "metadata": {},
   "outputs": [
    {
     "data": {
      "text/html": [
       "0.9"
      ],
      "text/latex": [
       "0.9"
      ],
      "text/markdown": [
       "0.9"
      ],
      "text/plain": [
       "[1] 0.9"
      ]
     },
     "execution_count": 125,
     "metadata": {},
     "output_type": "execute_result"
    },
    {
     "data": {
      "text/html": [
       "0.63"
      ],
      "text/latex": [
       "0.63"
      ],
      "text/markdown": [
       "0.63"
      ],
      "text/plain": [
       "[1] 0.63"
      ]
     },
     "execution_count": 125,
     "metadata": {},
     "output_type": "execute_result"
    }
   ],
   "source": [
    "round( S <- sensitivity(pred, truth), 2)\n",
    "round( Sp <- specificity(xtab), 2 )"
   ]
  },
  {
   "cell_type": "markdown",
   "metadata": {},
   "source": [
    "But if often happens that only the results of the test are known. Therefore we can compute the proportion of the positive test (abnormal) that are actually abnormal."
   ]
  },
  {
   "cell_type": "code",
   "execution_count": 126,
   "metadata": {},
   "outputs": [
    {
     "data": {
      "text/html": [
       "0.88"
      ],
      "text/latex": [
       "0.88"
      ],
      "text/markdown": [
       "0.88"
      ],
      "text/plain": [
       "[1] 0.88"
      ]
     },
     "execution_count": 126,
     "metadata": {},
     "output_type": "execute_result"
    },
    {
     "data": {
      "text/html": [
       "0.878326996197719"
      ],
      "text/latex": [
       "0.878326996197719"
      ],
      "text/markdown": [
       "0.878326996197719"
      ],
      "text/plain": [
       "[1] 0.878327"
      ]
     },
     "execution_count": 126,
     "metadata": {},
     "output_type": "execute_result"
    },
    {
     "data": {
      "text/html": [
       "0.67"
      ],
      "text/latex": [
       "0.67"
      ],
      "text/markdown": [
       "0.67"
      ],
      "text/plain": [
       "[1] 0.67"
      ]
     },
     "execution_count": 126,
     "metadata": {},
     "output_type": "execute_result"
    },
    {
     "data": {
      "text/html": [
       "0.666666666666667"
      ],
      "text/latex": [
       "0.666666666666667"
      ],
      "text/markdown": [
       "0.666666666666667"
      ],
      "text/plain": [
       "[1] 0.6666667"
      ]
     },
     "execution_count": 126,
     "metadata": {},
     "output_type": "execute_result"
    }
   ],
   "source": [
    "round(PPV <- posPredValue(pred, truth),2)\n",
    "231/263\n",
    "\n",
    "round(NPV <- negPredValue(xtab),2)\n",
    "54/81"
   ]
  },
  {
   "cell_type": "code",
   "execution_count": 127,
   "metadata": {},
   "outputs": [
    {
     "data": {
      "text/html": [
       "7.22"
      ],
      "text/latex": [
       "7.22"
      ],
      "text/markdown": [
       "7.22"
      ],
      "text/plain": [
       "[1] 7.22"
      ]
     },
     "execution_count": 127,
     "metadata": {},
     "output_type": "execute_result"
    },
    {
     "data": {
      "text/html": [
       "2.40625"
      ],
      "text/latex": [
       "2.40625"
      ],
      "text/markdown": [
       "2.40625"
      ],
      "text/plain": [
       "[1] 2.40625"
      ]
     },
     "execution_count": 127,
     "metadata": {},
     "output_type": "execute_result"
    },
    {
     "data": {
      "text/html": [
       "2.40625"
      ],
      "text/latex": [
       "2.40625"
      ],
      "text/markdown": [
       "2.40625"
      ],
      "text/plain": [
       "[1] 2.40625"
      ]
     },
     "execution_count": 127,
     "metadata": {},
     "output_type": "execute_result"
    }
   ],
   "source": [
    "round( posteriorOdds <- PPV / (1 - PPV), 2 )\n",
    "priorOdds <- prevalence / (1 - prevalence)\n",
    "posteriorOdds / priorOdds\n",
    "\n",
    "likelyhoodRatio <- sensitivity(xtab) / (1-specificity(xtab))\n",
    "likelyhoodRatio"
   ]
  },
  {
   "cell_type": "markdown",
   "metadata": {},
   "source": [
    "The test is usefull because the posterior odds are higher than the prior odds, the multiplication of prior odds by likelyhood ration gives the posterior odds. A lot of these values can be calculated with a single command."
   ]
  },
  {
   "cell_type": "code",
   "execution_count": 128,
   "metadata": {},
   "outputs": [
    {
     "data": {
      "text/plain": [
       "Confusion Matrix and Statistics\n",
       "\n",
       "          Reference\n",
       "Prediction abnormal normal\n",
       "  abnormal      231     32\n",
       "  normal         27     54\n",
       "                                          \n",
       "               Accuracy : 0.8285          \n",
       "                 95% CI : (0.7844, 0.8668)\n",
       "    No Information Rate : 0.75            \n",
       "    P-Value [Acc > NIR] : 0.0003097       \n",
       "                                          \n",
       "                  Kappa : 0.5336          \n",
       " Mcnemar's Test P-Value : 0.6025370       \n",
       "                                          \n",
       "            Sensitivity : 0.8953          \n",
       "            Specificity : 0.6279          \n",
       "         Pos Pred Value : 0.8783          \n",
       "         Neg Pred Value : 0.6667          \n",
       "             Prevalence : 0.7500          \n",
       "         Detection Rate : 0.6715          \n",
       "   Detection Prevalence : 0.7645          \n",
       "      Balanced Accuracy : 0.7616          \n",
       "                                          \n",
       "       'Positive' Class : abnormal        \n",
       "                                          "
      ]
     },
     "execution_count": 128,
     "metadata": {},
     "output_type": "execute_result"
    }
   ],
   "source": [
    "confusionMatrix(pred,truth)"
   ]
  },
  {
   "cell_type": "markdown",
   "metadata": {},
   "source": [
    "A very important conclusion to keep in mind is that the PPV (and the NPV) will change if the prevalence is modified. PPV and NPV are computed only from the results of the test. If prevalence is rare, then we can more easily trust our negative to be indeed negative, and it becomes more difficult to trust in our positive results."
   ]
  },
  {
   "cell_type": "code",
   "execution_count": 129,
   "metadata": {},
   "outputs": [
    {
     "data": {
      "text/html": [
       "0.8"
      ],
      "text/latex": [
       "0.8"
      ],
      "text/markdown": [
       "0.8"
      ],
      "text/plain": [
       "[1] 0.8"
      ]
     },
     "execution_count": 129,
     "metadata": {},
     "output_type": "execute_result"
    },
    {
     "data": {
      "text/html": [
       "2.40625"
      ],
      "text/latex": [
       "2.40625"
      ],
      "text/markdown": [
       "2.40625"
      ],
      "text/plain": [
       "[1] 2.40625"
      ]
     },
     "execution_count": 129,
     "metadata": {},
     "output_type": "execute_result"
    },
    {
     "data": {
      "text/html": [
       "0.333333333333333"
      ],
      "text/latex": [
       "0.333333333333333"
      ],
      "text/markdown": [
       "0.333333333333333"
      ],
      "text/plain": [
       "[1] 0.3333333"
      ]
     },
     "execution_count": 129,
     "metadata": {},
     "output_type": "execute_result"
    }
   ],
   "source": [
    "prevalence <- 0.25\n",
    "PPV <- posPredValue(pred, truth, prevalence=0.25)\n",
    "round( posteriorOdds <- PPV / (1 - PPV), 2 )\n",
    "priorOdds <- prevalence / (1 - prevalence)\n",
    "posteriorOdds / priorOdds\n",
    "priorOdds"
   ]
  },
  {
   "cell_type": "code",
   "execution_count": 130,
   "metadata": {
    "scrolled": false
   },
   "outputs": [
    {
     "data": {
      "image/png": "[encoded data removed]",
      "image/svg+xml": [
       "<?xml version=\"1.0\" encoding=\"UTF-8\"?>\n",
       "<svg xmlns=\"http://www.w3.org/2000/svg\" xmlns:xlink=\"http://www.w3.org/1999/xlink\" width=\"288pt\" height=\"288pt\" viewBox=\"0 0 288 288\" version=\"1.1\">\n",
       "<defs>\n",
       "<g>\n",
       "<symbol overflow=\"visible\" id=\"glyph0-0\">\n",
       "<path style=\"stroke:none;\" d=\"M 0.40625 0 L 0.40625 -8.96875 L 7.515625 -8.96875 L 7.515625 0 Z M 6.390625 -1.125 L 6.390625 -7.84375 L 1.53125 -7.84375 L 1.53125 -1.125 Z \"/>\n",
       "</symbol>\n",
       "<symbol overflow=\"visible\" id=\"glyph0-1\">\n",
       "<path style=\"stroke:none;\" d=\"M 3.375 -8.734375 C 4.507812 -8.734375 5.328125 -8.269531 5.828125 -7.34375 C 6.222656 -6.625 6.421875 -5.632812 6.421875 -4.375 C 6.421875 -3.1875 6.242188 -2.207031 5.890625 -1.4375 C 5.378906 -0.320312 4.539062 0.234375 3.375 0.234375 C 2.320312 0.234375 1.539062 -0.21875 1.03125 -1.125 C 0.601562 -1.882812 0.390625 -2.90625 0.390625 -4.1875 C 0.390625 -5.1875 0.519531 -6.039062 0.78125 -6.75 C 1.257812 -8.070312 2.125 -8.734375 3.375 -8.734375 Z M 3.375 -0.765625 C 3.9375 -0.765625 4.382812 -1.015625 4.71875 -1.515625 C 5.0625 -2.023438 5.234375 -2.96875 5.234375 -4.34375 C 5.234375 -5.332031 5.109375 -6.144531 4.859375 -6.78125 C 4.617188 -7.425781 4.148438 -7.75 3.453125 -7.75 C 2.804688 -7.75 2.332031 -7.441406 2.03125 -6.828125 C 1.726562 -6.222656 1.578125 -5.332031 1.578125 -4.15625 C 1.578125 -3.257812 1.675781 -2.539062 1.875 -2 C 2.164062 -1.175781 2.664062 -0.765625 3.375 -0.765625 Z \"/>\n",
       "</symbol>\n",
       "<symbol overflow=\"visible\" id=\"glyph0-2\">\n",
       "<path style=\"stroke:none;\" d=\"M 1.0625 -1.328125 L 2.34375 -1.328125 L 2.34375 0 L 1.0625 0 Z \"/>\n",
       "</symbol>\n",
       "<symbol overflow=\"visible\" id=\"glyph0-3\">\n",
       "<path style=\"stroke:none;\" d=\"M 0.390625 0 C 0.429688 -0.75 0.585938 -1.398438 0.859375 -1.953125 C 1.128906 -2.515625 1.65625 -3.023438 2.4375 -3.484375 L 3.609375 -4.15625 C 4.140625 -4.46875 4.507812 -4.726562 4.71875 -4.9375 C 5.050781 -5.28125 5.21875 -5.671875 5.21875 -6.109375 C 5.21875 -6.609375 5.0625 -7.007812 4.75 -7.3125 C 4.445312 -7.613281 4.046875 -7.765625 3.546875 -7.765625 C 2.785156 -7.765625 2.265625 -7.476562 1.984375 -6.90625 C 1.828125 -6.601562 1.738281 -6.179688 1.71875 -5.640625 L 0.609375 -5.640625 C 0.617188 -6.398438 0.757812 -7.019531 1.03125 -7.5 C 1.5 -8.34375 2.335938 -8.765625 3.546875 -8.765625 C 4.546875 -8.765625 5.273438 -8.492188 5.734375 -7.953125 C 6.203125 -7.410156 6.4375 -6.8125 6.4375 -6.15625 C 6.4375 -5.457031 6.1875 -4.859375 5.6875 -4.359375 C 5.40625 -4.066406 4.894531 -3.71875 4.15625 -3.3125 L 3.328125 -2.84375 C 2.929688 -2.625 2.617188 -2.414062 2.390625 -2.21875 C 1.984375 -1.863281 1.726562 -1.46875 1.625 -1.03125 L 6.390625 -1.03125 L 6.390625 0 Z \"/>\n",
       "</symbol>\n",
       "<symbol overflow=\"visible\" id=\"glyph0-4\">\n",
       "<path style=\"stroke:none;\" d=\"M 4.125 -3.09375 L 4.125 -7.0625 L 1.328125 -3.09375 Z M 4.15625 0 L 4.15625 -2.140625 L 0.3125 -2.140625 L 0.3125 -3.203125 L 4.328125 -8.765625 L 5.25 -8.765625 L 5.25 -3.09375 L 6.53125 -3.09375 L 6.53125 -2.140625 L 5.25 -2.140625 L 5.25 0 Z \"/>\n",
       "</symbol>\n",
       "<symbol overflow=\"visible\" id=\"glyph0-5\">\n",
       "<path style=\"stroke:none;\" d=\"M 3.65625 -8.78125 C 4.632812 -8.78125 5.316406 -8.523438 5.703125 -8.015625 C 6.085938 -7.503906 6.28125 -6.984375 6.28125 -6.453125 L 5.1875 -6.453125 C 5.125 -6.796875 5.019531 -7.066406 4.875 -7.265625 C 4.613281 -7.628906 4.210938 -7.8125 3.671875 -7.8125 C 3.054688 -7.8125 2.566406 -7.523438 2.203125 -6.953125 C 1.847656 -6.390625 1.648438 -5.578125 1.609375 -4.515625 C 1.859375 -4.890625 2.175781 -5.171875 2.5625 -5.359375 C 2.90625 -5.515625 3.296875 -5.59375 3.734375 -5.59375 C 4.460938 -5.59375 5.097656 -5.359375 5.640625 -4.890625 C 6.191406 -4.421875 6.46875 -3.722656 6.46875 -2.796875 C 6.46875 -2.003906 6.207031 -1.300781 5.6875 -0.6875 C 5.164062 -0.0820312 4.429688 0.21875 3.484375 0.21875 C 2.660156 0.21875 1.953125 -0.0859375 1.359375 -0.703125 C 0.765625 -1.328125 0.46875 -2.375 0.46875 -3.84375 C 0.46875 -4.925781 0.597656 -5.847656 0.859375 -6.609375 C 1.367188 -8.054688 2.300781 -8.78125 3.65625 -8.78125 Z M 3.578125 -0.75 C 4.148438 -0.75 4.578125 -0.941406 4.859375 -1.328125 C 5.148438 -1.722656 5.296875 -2.179688 5.296875 -2.703125 C 5.296875 -3.148438 5.164062 -3.578125 4.90625 -3.984375 C 4.65625 -4.390625 4.191406 -4.59375 3.515625 -4.59375 C 3.046875 -4.59375 2.632812 -4.4375 2.28125 -4.125 C 1.925781 -3.8125 1.75 -3.335938 1.75 -2.703125 C 1.75 -2.148438 1.910156 -1.6875 2.234375 -1.3125 C 2.554688 -0.9375 3.003906 -0.75 3.578125 -0.75 Z \"/>\n",
       "</symbol>\n",
       "<symbol overflow=\"visible\" id=\"glyph0-6\">\n",
       "<path style=\"stroke:none;\" d=\"M 3.40625 -5.078125 C 3.882812 -5.078125 4.257812 -5.210938 4.53125 -5.484375 C 4.800781 -5.753906 4.9375 -6.078125 4.9375 -6.453125 C 4.9375 -6.773438 4.804688 -7.070312 4.546875 -7.34375 C 4.285156 -7.613281 3.890625 -7.75 3.359375 -7.75 C 2.828125 -7.75 2.441406 -7.613281 2.203125 -7.34375 C 1.972656 -7.070312 1.859375 -6.753906 1.859375 -6.390625 C 1.859375 -5.984375 2.007812 -5.660156 2.3125 -5.421875 C 2.625 -5.191406 2.988281 -5.078125 3.40625 -5.078125 Z M 3.46875 -0.75 C 3.976562 -0.75 4.398438 -0.882812 4.734375 -1.15625 C 5.066406 -1.4375 5.234375 -1.847656 5.234375 -2.390625 C 5.234375 -2.953125 5.0625 -3.378906 4.71875 -3.671875 C 4.375 -3.972656 3.929688 -4.125 3.390625 -4.125 C 2.859375 -4.125 2.425781 -3.972656 2.09375 -3.671875 C 1.769531 -3.367188 1.609375 -2.953125 1.609375 -2.421875 C 1.609375 -1.972656 1.757812 -1.582031 2.0625 -1.25 C 2.363281 -0.914062 2.832031 -0.75 3.46875 -0.75 Z M 1.90625 -4.65625 C 1.601562 -4.789062 1.363281 -4.941406 1.1875 -5.109375 C 0.863281 -5.441406 0.703125 -5.867188 0.703125 -6.390625 C 0.703125 -7.035156 0.9375 -7.59375 1.40625 -8.0625 C 1.882812 -8.53125 2.554688 -8.765625 3.421875 -8.765625 C 4.265625 -8.765625 4.921875 -8.539062 5.390625 -8.09375 C 5.867188 -7.65625 6.109375 -7.144531 6.109375 -6.5625 C 6.109375 -6.007812 5.96875 -5.566406 5.6875 -5.234375 C 5.539062 -5.035156 5.300781 -4.847656 4.96875 -4.671875 C 5.332031 -4.503906 5.617188 -4.3125 5.828125 -4.09375 C 6.210938 -3.6875 6.40625 -3.160156 6.40625 -2.515625 C 6.40625 -1.742188 6.144531 -1.085938 5.625 -0.546875 C 5.113281 -0.015625 4.382812 0.25 3.4375 0.25 C 2.59375 0.25 1.875 0.0195312 1.28125 -0.4375 C 0.695312 -0.90625 0.40625 -1.578125 0.40625 -2.453125 C 0.40625 -2.972656 0.53125 -3.421875 0.78125 -3.796875 C 1.03125 -4.171875 1.40625 -4.457031 1.90625 -4.65625 Z \"/>\n",
       "</symbol>\n",
       "<symbol overflow=\"visible\" id=\"glyph0-7\">\n",
       "<path style=\"stroke:none;\" d=\"M 1.203125 -6.1875 L 1.203125 -7.03125 C 1.992188 -7.101562 2.546875 -7.226562 2.859375 -7.40625 C 3.171875 -7.59375 3.40625 -8.023438 3.5625 -8.703125 L 4.421875 -8.703125 L 4.421875 0 L 3.25 0 L 3.25 -6.1875 Z \"/>\n",
       "</symbol>\n",
       "<symbol overflow=\"visible\" id=\"glyph0-8\">\n",
       "<path style=\"stroke:none;\" d=\"M 1.0625 -8.96875 L 5.109375 -8.96875 C 5.898438 -8.96875 6.539062 -8.742188 7.03125 -8.296875 C 7.519531 -7.847656 7.765625 -7.210938 7.765625 -6.390625 C 7.765625 -5.691406 7.546875 -5.082031 7.109375 -4.5625 C 6.671875 -4.050781 6.003906 -3.796875 5.109375 -3.796875 L 2.28125 -3.796875 L 2.28125 0 L 1.0625 0 Z M 6.53125 -6.390625 C 6.53125 -7.046875 6.285156 -7.492188 5.796875 -7.734375 C 5.535156 -7.859375 5.171875 -7.921875 4.703125 -7.921875 L 2.28125 -7.921875 L 2.28125 -4.8125 L 4.703125 -4.8125 C 5.242188 -4.8125 5.679688 -4.925781 6.015625 -5.15625 C 6.359375 -5.394531 6.53125 -5.804688 6.53125 -6.390625 Z \"/>\n",
       "</symbol>\n",
       "<symbol overflow=\"visible\" id=\"glyph0-9\">\n",
       "<path style=\"stroke:none;\" d=\"M 0.84375 -6.53125 L 1.875 -6.53125 L 1.875 -5.40625 C 1.96875 -5.625 2.179688 -5.890625 2.515625 -6.203125 C 2.847656 -6.523438 3.226562 -6.6875 3.65625 -6.6875 C 3.675781 -6.6875 3.710938 -6.679688 3.765625 -6.671875 C 3.816406 -6.671875 3.898438 -6.664062 4.015625 -6.65625 L 4.015625 -5.5 C 3.953125 -5.507812 3.890625 -5.515625 3.828125 -5.515625 C 3.773438 -5.523438 3.71875 -5.53125 3.65625 -5.53125 C 3.101562 -5.53125 2.675781 -5.347656 2.375 -4.984375 C 2.082031 -4.628906 1.9375 -4.222656 1.9375 -3.765625 L 1.9375 0 L 0.84375 0 Z \"/>\n",
       "</symbol>\n",
       "<symbol overflow=\"visible\" id=\"glyph0-10\">\n",
       "<path style=\"stroke:none;\" d=\"M 3.53125 -6.6875 C 3.988281 -6.6875 4.4375 -6.578125 4.875 -6.359375 C 5.3125 -6.140625 5.644531 -5.859375 5.875 -5.515625 C 6.09375 -5.179688 6.238281 -4.796875 6.3125 -4.359375 C 6.375 -4.054688 6.40625 -3.578125 6.40625 -2.921875 L 1.625 -2.921875 C 1.632812 -2.253906 1.785156 -1.71875 2.078125 -1.3125 C 2.378906 -0.914062 2.835938 -0.71875 3.453125 -0.71875 C 4.023438 -0.71875 4.484375 -0.90625 4.828125 -1.28125 C 5.015625 -1.507812 5.148438 -1.765625 5.234375 -2.046875 L 6.3125 -2.046875 C 6.289062 -1.804688 6.195312 -1.539062 6.03125 -1.25 C 5.875 -0.957031 5.695312 -0.71875 5.5 -0.53125 C 5.164062 -0.195312 4.75 0.0234375 4.25 0.140625 C 3.988281 0.203125 3.691406 0.234375 3.359375 0.234375 C 2.546875 0.234375 1.851562 -0.0625 1.28125 -0.65625 C 0.71875 -1.25 0.4375 -2.078125 0.4375 -3.140625 C 0.4375 -4.191406 0.722656 -5.046875 1.296875 -5.703125 C 1.867188 -6.359375 2.613281 -6.6875 3.53125 -6.6875 Z M 5.28125 -3.796875 C 5.238281 -4.265625 5.132812 -4.644531 4.96875 -4.9375 C 4.664062 -5.457031 4.160156 -5.71875 3.453125 -5.71875 C 2.953125 -5.71875 2.53125 -5.535156 2.1875 -5.171875 C 1.84375 -4.804688 1.660156 -4.347656 1.640625 -3.796875 Z M 3.421875 -6.703125 Z \"/>\n",
       "</symbol>\n",
       "<symbol overflow=\"visible\" id=\"glyph0-11\">\n",
       "<path style=\"stroke:none;\" d=\"M 1.34375 -6.53125 L 3.09375 -1.21875 L 4.90625 -6.53125 L 6.109375 -6.53125 L 3.65625 0 L 2.484375 0 L 0.0625 -6.53125 Z \"/>\n",
       "</symbol>\n",
       "<symbol overflow=\"visible\" id=\"glyph0-12\">\n",
       "<path style=\"stroke:none;\" d=\"M 1.640625 -1.734375 C 1.640625 -1.421875 1.753906 -1.171875 1.984375 -0.984375 C 2.222656 -0.804688 2.5 -0.71875 2.8125 -0.71875 C 3.207031 -0.71875 3.582031 -0.804688 3.9375 -0.984375 C 4.550781 -1.273438 4.859375 -1.757812 4.859375 -2.4375 L 4.859375 -3.328125 C 4.722656 -3.242188 4.546875 -3.171875 4.328125 -3.109375 C 4.117188 -3.054688 3.914062 -3.015625 3.71875 -2.984375 L 3.046875 -2.90625 C 2.648438 -2.851562 2.351562 -2.769531 2.15625 -2.65625 C 1.8125 -2.46875 1.640625 -2.160156 1.640625 -1.734375 Z M 4.3125 -3.96875 C 4.5625 -4 4.726562 -4.101562 4.8125 -4.28125 C 4.863281 -4.375 4.890625 -4.515625 4.890625 -4.703125 C 4.890625 -5.078125 4.753906 -5.347656 4.484375 -5.515625 C 4.222656 -5.679688 3.84375 -5.765625 3.34375 -5.765625 C 2.769531 -5.765625 2.363281 -5.609375 2.125 -5.296875 C 1.988281 -5.128906 1.898438 -4.878906 1.859375 -4.546875 L 0.84375 -4.546875 C 0.851562 -5.347656 1.109375 -5.90625 1.609375 -6.21875 C 2.117188 -6.539062 2.707031 -6.703125 3.375 -6.703125 C 4.132812 -6.703125 4.757812 -6.550781 5.25 -6.25 C 5.71875 -5.957031 5.953125 -5.503906 5.953125 -4.890625 L 5.953125 -1.125 C 5.953125 -1.007812 5.972656 -0.914062 6.015625 -0.84375 C 6.066406 -0.78125 6.171875 -0.75 6.328125 -0.75 C 6.367188 -0.75 6.421875 -0.75 6.484375 -0.75 C 6.546875 -0.757812 6.613281 -0.769531 6.6875 -0.78125 L 6.6875 0.03125 C 6.507812 0.0820312 6.375 0.113281 6.28125 0.125 C 6.195312 0.132812 6.078125 0.140625 5.921875 0.140625 C 5.546875 0.140625 5.273438 0.00390625 5.109375 -0.265625 C 5.015625 -0.398438 4.945312 -0.597656 4.90625 -0.859375 C 4.6875 -0.566406 4.367188 -0.3125 3.953125 -0.09375 C 3.535156 0.113281 3.070312 0.21875 2.5625 0.21875 C 1.957031 0.21875 1.460938 0.0351562 1.078125 -0.328125 C 0.691406 -0.703125 0.5 -1.164062 0.5 -1.71875 C 0.5 -2.320312 0.6875 -2.789062 1.0625 -3.125 C 1.445312 -3.457031 1.945312 -3.660156 2.5625 -3.734375 Z M 3.40625 -6.703125 Z \"/>\n",
       "</symbol>\n",
       "<symbol overflow=\"visible\" id=\"glyph0-13\">\n",
       "<path style=\"stroke:none;\" d=\"M 0.84375 -8.96875 L 1.9375 -8.96875 L 1.9375 0 L 0.84375 0 Z \"/>\n",
       "</symbol>\n",
       "<symbol overflow=\"visible\" id=\"glyph0-14\">\n",
       "<path style=\"stroke:none;\" d=\"M 0.8125 -6.53125 L 1.84375 -6.53125 L 1.84375 -5.609375 C 2.15625 -5.992188 2.484375 -6.269531 2.828125 -6.4375 C 3.171875 -6.601562 3.554688 -6.6875 3.984375 -6.6875 C 4.910156 -6.6875 5.535156 -6.363281 5.859375 -5.71875 C 6.046875 -5.363281 6.140625 -4.851562 6.140625 -4.1875 L 6.140625 0 L 5.015625 0 L 5.015625 -4.125 C 5.015625 -4.519531 4.957031 -4.835938 4.84375 -5.078125 C 4.644531 -5.484375 4.289062 -5.6875 3.78125 -5.6875 C 3.519531 -5.6875 3.304688 -5.660156 3.140625 -5.609375 C 2.835938 -5.523438 2.570312 -5.347656 2.34375 -5.078125 C 2.15625 -4.859375 2.035156 -4.632812 1.984375 -4.40625 C 1.929688 -4.175781 1.90625 -3.847656 1.90625 -3.421875 L 1.90625 0 L 0.8125 0 Z M 3.390625 -6.703125 Z \"/>\n",
       "</symbol>\n",
       "<symbol overflow=\"visible\" id=\"glyph0-15\">\n",
       "<path style=\"stroke:none;\" d=\"M 3.328125 -6.71875 C 4.066406 -6.71875 4.664062 -6.539062 5.125 -6.1875 C 5.582031 -5.832031 5.859375 -5.21875 5.953125 -4.34375 L 4.890625 -4.34375 C 4.828125 -4.738281 4.675781 -5.070312 4.4375 -5.34375 C 4.207031 -5.613281 3.835938 -5.75 3.328125 -5.75 C 2.628906 -5.75 2.128906 -5.40625 1.828125 -4.71875 C 1.628906 -4.269531 1.53125 -3.722656 1.53125 -3.078125 C 1.53125 -2.421875 1.664062 -1.867188 1.9375 -1.421875 C 2.21875 -0.972656 2.65625 -0.75 3.25 -0.75 C 3.707031 -0.75 4.066406 -0.890625 4.328125 -1.171875 C 4.597656 -1.453125 4.785156 -1.832031 4.890625 -2.3125 L 5.953125 -2.3125 C 5.835938 -1.445312 5.535156 -0.8125 5.046875 -0.40625 C 4.554688 -0.0078125 3.929688 0.1875 3.171875 0.1875 C 2.316406 0.1875 1.632812 -0.125 1.125 -0.75 C 0.613281 -1.375 0.359375 -2.15625 0.359375 -3.09375 C 0.359375 -4.238281 0.632812 -5.128906 1.1875 -5.765625 C 1.75 -6.398438 2.460938 -6.71875 3.328125 -6.71875 Z M 3.15625 -6.703125 Z \"/>\n",
       "</symbol>\n",
       "<symbol overflow=\"visible\" id=\"glyph0-16\">\n",
       "<path style=\"stroke:none;\" d=\"\"/>\n",
       "</symbol>\n",
       "<symbol overflow=\"visible\" id=\"glyph0-17\">\n",
       "<path style=\"stroke:none;\" d=\"M 3.703125 -9.109375 C 3.054688 -7.867188 2.640625 -6.957031 2.453125 -6.375 C 2.160156 -5.476562 2.015625 -4.445312 2.015625 -3.28125 C 2.015625 -2.101562 2.179688 -1.023438 2.515625 -0.046875 C 2.710938 0.554688 3.113281 1.421875 3.71875 2.546875 L 2.984375 2.546875 C 2.390625 1.617188 2.019531 1.023438 1.875 0.765625 C 1.726562 0.515625 1.570312 0.171875 1.40625 -0.265625 C 1.175781 -0.867188 1.019531 -1.515625 0.9375 -2.203125 C 0.882812 -2.554688 0.859375 -2.890625 0.859375 -3.203125 C 0.859375 -4.410156 1.050781 -5.484375 1.4375 -6.421875 C 1.675781 -7.023438 2.175781 -7.921875 2.9375 -9.109375 Z \"/>\n",
       "</symbol>\n",
       "<symbol overflow=\"visible\" id=\"glyph0-18\">\n",
       "<path style=\"stroke:none;\" d=\"M 0.8125 -6.5 L 1.921875 -6.5 L 1.921875 0 L 0.8125 0 Z M 0.8125 -8.96875 L 1.921875 -8.96875 L 1.921875 -7.71875 L 0.8125 -7.71875 Z \"/>\n",
       "</symbol>\n",
       "<symbol overflow=\"visible\" id=\"glyph0-19\">\n",
       "<path style=\"stroke:none;\" d=\"M 3.5625 -0.734375 C 4.070312 -0.734375 4.5 -0.945312 4.84375 -1.375 C 5.1875 -1.8125 5.359375 -2.457031 5.359375 -3.3125 C 5.359375 -3.832031 5.28125 -4.28125 5.125 -4.65625 C 4.84375 -5.375 4.320312 -5.734375 3.5625 -5.734375 C 2.800781 -5.734375 2.28125 -5.351562 2 -4.59375 C 1.851562 -4.1875 1.78125 -3.671875 1.78125 -3.046875 C 1.78125 -2.535156 1.851562 -2.101562 2 -1.75 C 2.28125 -1.070312 2.800781 -0.734375 3.5625 -0.734375 Z M 0.71875 -6.5 L 1.78125 -6.5 L 1.78125 -5.640625 C 2.007812 -5.929688 2.253906 -6.160156 2.515625 -6.328125 C 2.878906 -6.578125 3.3125 -6.703125 3.8125 -6.703125 C 4.550781 -6.703125 5.175781 -6.414062 5.6875 -5.84375 C 6.207031 -5.28125 6.46875 -4.46875 6.46875 -3.40625 C 6.46875 -1.988281 6.097656 -0.972656 5.359375 -0.359375 C 4.890625 0.0234375 4.34375 0.21875 3.71875 0.21875 C 3.21875 0.21875 2.800781 0.109375 2.46875 -0.109375 C 2.269531 -0.222656 2.050781 -0.429688 1.8125 -0.734375 L 1.8125 2.609375 L 0.71875 2.609375 Z \"/>\n",
       "</symbol>\n",
       "<symbol overflow=\"visible\" id=\"glyph0-20\">\n",
       "<path style=\"stroke:none;\" d=\"M 3.40625 -0.703125 C 4.132812 -0.703125 4.628906 -0.976562 4.890625 -1.53125 C 5.160156 -2.082031 5.296875 -2.695312 5.296875 -3.375 C 5.296875 -3.988281 5.203125 -4.484375 5.015625 -4.859375 C 4.703125 -5.460938 4.164062 -5.765625 3.40625 -5.765625 C 2.738281 -5.765625 2.25 -5.507812 1.9375 -5 C 1.632812 -4.488281 1.484375 -3.867188 1.484375 -3.140625 C 1.484375 -2.441406 1.632812 -1.859375 1.9375 -1.390625 C 2.25 -0.929688 2.738281 -0.703125 3.40625 -0.703125 Z M 3.4375 -6.71875 C 4.28125 -6.71875 4.992188 -6.4375 5.578125 -5.875 C 6.160156 -5.320312 6.453125 -4.5 6.453125 -3.40625 C 6.453125 -2.351562 6.191406 -1.484375 5.671875 -0.796875 C 5.160156 -0.109375 4.367188 0.234375 3.296875 0.234375 C 2.398438 0.234375 1.6875 -0.0664062 1.15625 -0.671875 C 0.625 -1.285156 0.359375 -2.101562 0.359375 -3.125 C 0.359375 -4.21875 0.632812 -5.085938 1.1875 -5.734375 C 1.75 -6.390625 2.5 -6.71875 3.4375 -6.71875 Z M 3.40625 -6.703125 Z \"/>\n",
       "</symbol>\n",
       "<symbol overflow=\"visible\" id=\"glyph0-21\">\n",
       "<path style=\"stroke:none;\" d=\"M 0.4375 2.546875 C 1.082031 1.285156 1.5 0.367188 1.6875 -0.203125 C 1.96875 -1.078125 2.109375 -2.101562 2.109375 -3.28125 C 2.109375 -4.457031 1.945312 -5.535156 1.625 -6.515625 C 1.414062 -7.117188 1.015625 -7.984375 0.421875 -9.109375 L 1.15625 -9.109375 C 1.78125 -8.109375 2.15625 -7.488281 2.28125 -7.25 C 2.414062 -7.019531 2.5625 -6.703125 2.71875 -6.296875 C 2.914062 -5.785156 3.054688 -5.28125 3.140625 -4.78125 C 3.222656 -4.289062 3.265625 -3.8125 3.265625 -3.34375 C 3.265625 -2.144531 3.070312 -1.070312 2.6875 -0.125 C 2.445312 0.476562 1.953125 1.367188 1.203125 2.546875 Z \"/>\n",
       "</symbol>\n",
       "<symbol overflow=\"visible\" id=\"glyph0-22\">\n",
       "<path style=\"stroke:none;\" d=\"M 1.453125 -2.046875 C 1.484375 -1.679688 1.578125 -1.398438 1.734375 -1.203125 C 2.015625 -0.847656 2.492188 -0.671875 3.171875 -0.671875 C 3.578125 -0.671875 3.9375 -0.757812 4.25 -0.9375 C 4.5625 -1.113281 4.71875 -1.390625 4.71875 -1.765625 C 4.71875 -2.046875 4.59375 -2.257812 4.34375 -2.40625 C 4.1875 -2.5 3.875 -2.601562 3.40625 -2.71875 L 2.53125 -2.9375 C 1.96875 -3.070312 1.554688 -3.226562 1.296875 -3.40625 C 0.828125 -3.695312 0.59375 -4.101562 0.59375 -4.625 C 0.59375 -5.25 0.8125 -5.75 1.25 -6.125 C 1.695312 -6.507812 2.296875 -6.703125 3.046875 -6.703125 C 4.035156 -6.703125 4.75 -6.414062 5.1875 -5.84375 C 5.457031 -5.476562 5.585938 -5.082031 5.578125 -4.65625 L 4.546875 -4.65625 C 4.523438 -4.90625 4.4375 -5.128906 4.28125 -5.328125 C 4.03125 -5.617188 3.59375 -5.765625 2.96875 -5.765625 C 2.550781 -5.765625 2.234375 -5.6875 2.015625 -5.53125 C 1.804688 -5.375 1.703125 -5.164062 1.703125 -4.90625 C 1.703125 -4.613281 1.84375 -4.382812 2.125 -4.21875 C 2.289062 -4.113281 2.53125 -4.023438 2.84375 -3.953125 L 3.578125 -3.765625 C 4.359375 -3.578125 4.882812 -3.394531 5.15625 -3.21875 C 5.582031 -2.9375 5.796875 -2.492188 5.796875 -1.890625 C 5.796875 -1.304688 5.570312 -0.800781 5.125 -0.375 C 4.6875 0.0390625 4.019531 0.25 3.125 0.25 C 2.144531 0.25 1.453125 0.03125 1.046875 -0.40625 C 0.648438 -0.851562 0.4375 -1.398438 0.40625 -2.046875 Z M 3.078125 -6.703125 Z \"/>\n",
       "</symbol>\n",
       "<symbol overflow=\"visible\" id=\"glyph1-0\">\n",
       "<path style=\"stroke:none;\" d=\"M 0 -0.40625 L -8.96875 -0.40625 L -8.96875 -7.515625 L 0 -7.515625 Z M -1.125 -6.390625 L -7.84375 -6.390625 L -7.84375 -1.53125 L -1.125 -1.53125 Z \"/>\n",
       "</symbol>\n",
       "<symbol overflow=\"visible\" id=\"glyph1-1\">\n",
       "<path style=\"stroke:none;\" d=\"M -8.734375 -3.375 C -8.734375 -4.507812 -8.269531 -5.328125 -7.34375 -5.828125 C -6.625 -6.222656 -5.632812 -6.421875 -4.375 -6.421875 C -3.1875 -6.421875 -2.207031 -6.242188 -1.4375 -5.890625 C -0.320312 -5.378906 0.234375 -4.539062 0.234375 -3.375 C 0.234375 -2.320312 -0.21875 -1.539062 -1.125 -1.03125 C -1.882812 -0.601562 -2.90625 -0.390625 -4.1875 -0.390625 C -5.1875 -0.390625 -6.039062 -0.519531 -6.75 -0.78125 C -8.070312 -1.257812 -8.734375 -2.125 -8.734375 -3.375 Z M -0.765625 -3.375 C -0.765625 -3.9375 -1.015625 -4.382812 -1.515625 -4.71875 C -2.023438 -5.0625 -2.96875 -5.234375 -4.34375 -5.234375 C -5.332031 -5.234375 -6.144531 -5.109375 -6.78125 -4.859375 C -7.425781 -4.617188 -7.75 -4.148438 -7.75 -3.453125 C -7.75 -2.804688 -7.441406 -2.332031 -6.828125 -2.03125 C -6.222656 -1.726562 -5.332031 -1.578125 -4.15625 -1.578125 C -3.257812 -1.578125 -2.539062 -1.675781 -2 -1.875 C -1.175781 -2.164062 -0.765625 -2.664062 -0.765625 -3.375 Z \"/>\n",
       "</symbol>\n",
       "<symbol overflow=\"visible\" id=\"glyph1-2\">\n",
       "<path style=\"stroke:none;\" d=\"M -1.328125 -1.0625 L -1.328125 -2.34375 L 0 -2.34375 L 0 -1.0625 Z \"/>\n",
       "</symbol>\n",
       "<symbol overflow=\"visible\" id=\"glyph1-3\">\n",
       "<path style=\"stroke:none;\" d=\"M -6.1875 -1.203125 L -7.03125 -1.203125 C -7.101562 -1.992188 -7.226562 -2.546875 -7.40625 -2.859375 C -7.59375 -3.171875 -8.023438 -3.40625 -8.703125 -3.5625 L -8.703125 -4.421875 L 0 -4.421875 L 0 -3.25 L -6.1875 -3.25 Z \"/>\n",
       "</symbol>\n",
       "<symbol overflow=\"visible\" id=\"glyph1-4\">\n",
       "<path style=\"stroke:none;\" d=\"M 0 -0.390625 C -0.75 -0.429688 -1.398438 -0.585938 -1.953125 -0.859375 C -2.515625 -1.128906 -3.023438 -1.65625 -3.484375 -2.4375 L -4.15625 -3.609375 C -4.46875 -4.140625 -4.726562 -4.507812 -4.9375 -4.71875 C -5.28125 -5.050781 -5.671875 -5.21875 -6.109375 -5.21875 C -6.609375 -5.21875 -7.007812 -5.0625 -7.3125 -4.75 C -7.613281 -4.445312 -7.765625 -4.046875 -7.765625 -3.546875 C -7.765625 -2.785156 -7.476562 -2.265625 -6.90625 -1.984375 C -6.601562 -1.828125 -6.179688 -1.738281 -5.640625 -1.71875 L -5.640625 -0.609375 C -6.398438 -0.617188 -7.019531 -0.757812 -7.5 -1.03125 C -8.34375 -1.5 -8.765625 -2.335938 -8.765625 -3.546875 C -8.765625 -4.546875 -8.492188 -5.273438 -7.953125 -5.734375 C -7.410156 -6.203125 -6.8125 -6.4375 -6.15625 -6.4375 C -5.457031 -6.4375 -4.859375 -6.1875 -4.359375 -5.6875 C -4.066406 -5.40625 -3.71875 -4.894531 -3.3125 -4.15625 L -2.84375 -3.328125 C -2.625 -2.929688 -2.414062 -2.617188 -2.21875 -2.390625 C -1.863281 -1.984375 -1.46875 -1.726562 -1.03125 -1.625 L -1.03125 -6.390625 L 0 -6.390625 Z \"/>\n",
       "</symbol>\n",
       "<symbol overflow=\"visible\" id=\"glyph1-5\">\n",
       "<path style=\"stroke:none;\" d=\"M 0.234375 -3.25 C 0.234375 -2.21875 -0.046875 -1.46875 -0.609375 -1 C -1.179688 -0.53125 -1.875 -0.296875 -2.6875 -0.296875 L -2.6875 -1.453125 C -2.125 -1.492188 -1.710938 -1.597656 -1.453125 -1.765625 C -0.992188 -2.046875 -0.765625 -2.5625 -0.765625 -3.3125 C -0.765625 -3.882812 -0.914062 -4.34375 -1.21875 -4.6875 C -1.53125 -5.039062 -1.929688 -5.21875 -2.421875 -5.21875 C -3.023438 -5.21875 -3.445312 -5.035156 -3.6875 -4.671875 C -3.925781 -4.304688 -4.046875 -3.796875 -4.046875 -3.140625 C -4.046875 -3.066406 -4.046875 -2.988281 -4.046875 -2.90625 C -4.046875 -2.832031 -4.039062 -2.757812 -4.03125 -2.6875 L -5 -2.6875 C -4.988281 -2.800781 -4.976562 -2.894531 -4.96875 -2.96875 C -4.96875 -3.050781 -4.96875 -3.132812 -4.96875 -3.21875 C -4.96875 -3.632812 -5.035156 -3.972656 -5.171875 -4.234375 C -5.398438 -4.703125 -5.804688 -4.9375 -6.390625 -4.9375 C -6.828125 -4.9375 -7.160156 -4.78125 -7.390625 -4.46875 C -7.628906 -4.15625 -7.75 -3.796875 -7.75 -3.390625 C -7.75 -2.648438 -7.503906 -2.144531 -7.015625 -1.875 C -6.742188 -1.71875 -6.363281 -1.628906 -5.875 -1.609375 L -5.875 -0.515625 C -6.519531 -0.515625 -7.070312 -0.644531 -7.53125 -0.90625 C -8.34375 -1.351562 -8.75 -2.140625 -8.75 -3.265625 C -8.75 -4.160156 -8.550781 -4.851562 -8.15625 -5.34375 C -7.757812 -5.832031 -7.1875 -6.078125 -6.4375 -6.078125 C -5.894531 -6.078125 -5.457031 -5.929688 -5.125 -5.640625 C -4.914062 -5.460938 -4.753906 -5.226562 -4.640625 -4.9375 C -4.515625 -5.40625 -4.269531 -5.765625 -3.90625 -6.015625 C -3.550781 -6.273438 -3.113281 -6.40625 -2.59375 -6.40625 C -1.757812 -6.40625 -1.078125 -6.128906 -0.546875 -5.578125 C -0.0234375 -5.035156 0.234375 -4.257812 0.234375 -3.25 Z \"/>\n",
       "</symbol>\n",
       "</g>\n",
       "<clipPath id=\"clip1\">\n",
       "  <path d=\"M 65 59.039062 L 187 59.039062 L 187 210 L 65 210 Z \"/>\n",
       "</clipPath>\n",
       "<clipPath id=\"clip2\">\n",
       "  <path d=\"M 65 59.039062 L 218 59.039062 L 218 210 L 65 210 Z \"/>\n",
       "</clipPath>\n",
       "<clipPath id=\"clip3\">\n",
       "  <path d=\"M 59.039062 165 L 258.757812 165 L 258.757812 167 L 59.039062 167 Z \"/>\n",
       "</clipPath>\n",
       "<clipPath id=\"clip4\">\n",
       "  <path d=\"M 59.039062 178 L 258.757812 178 L 258.757812 180 L 59.039062 180 Z \"/>\n",
       "</clipPath>\n",
       "<clipPath id=\"clip5\">\n",
       "  <path d=\"M 205 59.039062 L 207 59.039062 L 207 215.558594 L 205 215.558594 Z \"/>\n",
       "</clipPath>\n",
       "<clipPath id=\"clip6\">\n",
       "  <path d=\"M 158 184 L 196 184 L 196 215.558594 L 158 215.558594 Z \"/>\n",
       "</clipPath>\n",
       "<clipPath id=\"clip7\">\n",
       "  <path d=\"M 180 206 L 207 206 L 207 215.558594 L 180 215.558594 Z \"/>\n",
       "</clipPath>\n",
       "</defs>\n",
       "<g id=\"surface1047\">\n",
       "<rect x=\"0\" y=\"0\" width=\"288\" height=\"288\" style=\"fill:rgb(100%,100%,100%);fill-opacity:1;stroke:none;\"/>\n",
       "<path style=\"fill:none;stroke-width:1;stroke-linecap:round;stroke-linejoin:round;stroke:rgb(0%,0%,0%);stroke-opacity:1;stroke-miterlimit:10;\" d=\"M 66.398438 208.683594 L 76.085938 203.097656 L 85.769531 198.222656 L 95.453125 193.933594 L 105.136719 190.128906 L 114.820312 186.730469 L 124.503906 183.679688 L 134.191406 180.921875 L 143.875 178.421875 L 153.558594 176.140625 L 163.242188 174.050781 L 172.925781 172.128906 L 182.609375 170.359375 L 192.292969 168.722656 L 201.980469 167.203125 L 211.664062 165.789062 L 221.347656 164.472656 L 231.03125 163.238281 L 240.714844 162.085938 L 250.398438 161 \"/>\n",
       "<path style=\"fill:none;stroke-width:1;stroke-linecap:round;stroke-linejoin:round;stroke:rgb(0%,0%,0%);stroke-opacity:1;stroke-miterlimit:10;\" d=\"M 66.214844 214.558594 L 252.261719 214.558594 \"/>\n",
       "<path style=\"fill:none;stroke-width:1;stroke-linecap:round;stroke-linejoin:round;stroke:rgb(0%,0%,0%);stroke-opacity:1;stroke-miterlimit:10;\" d=\"M 66.214844 214.558594 L 66.214844 221.761719 \"/>\n",
       "<path style=\"fill:none;stroke-width:1;stroke-linecap:round;stroke-linejoin:round;stroke:rgb(0%,0%,0%);stroke-opacity:1;stroke-miterlimit:10;\" d=\"M 103.421875 214.558594 L 103.421875 221.761719 \"/>\n",
       "<path style=\"fill:none;stroke-width:1;stroke-linecap:round;stroke-linejoin:round;stroke:rgb(0%,0%,0%);stroke-opacity:1;stroke-miterlimit:10;\" d=\"M 140.632812 214.558594 L 140.632812 221.761719 \"/>\n",
       "<path style=\"fill:none;stroke-width:1;stroke-linecap:round;stroke-linejoin:round;stroke:rgb(0%,0%,0%);stroke-opacity:1;stroke-miterlimit:10;\" d=\"M 177.84375 214.558594 L 177.84375 221.761719 \"/>\n",
       "<path style=\"fill:none;stroke-width:1;stroke-linecap:round;stroke-linejoin:round;stroke:rgb(0%,0%,0%);stroke-opacity:1;stroke-miterlimit:10;\" d=\"M 215.050781 214.558594 L 215.050781 221.761719 \"/>\n",
       "<path style=\"fill:none;stroke-width:1;stroke-linecap:round;stroke-linejoin:round;stroke:rgb(0%,0%,0%);stroke-opacity:1;stroke-miterlimit:10;\" d=\"M 252.261719 214.558594 L 252.261719 221.761719 \"/>\n",
       "<g style=\"fill:rgb(0%,0%,0%);fill-opacity:1;\">\n",
       "  <use xlink:href=\"#glyph0-1\" x=\"57.527344\" y=\"241.921875\"/>\n",
       "  <use xlink:href=\"#glyph0-2\" x=\"64.479248\" y=\"241.921875\"/>\n",
       "  <use xlink:href=\"#glyph0-1\" x=\"67.952148\" y=\"241.921875\"/>\n",
       "</g>\n",
       "<g style=\"fill:rgb(0%,0%,0%);fill-opacity:1;\">\n",
       "  <use xlink:href=\"#glyph0-1\" x=\"94.734375\" y=\"241.921875\"/>\n",
       "  <use xlink:href=\"#glyph0-2\" x=\"101.686279\" y=\"241.921875\"/>\n",
       "  <use xlink:href=\"#glyph0-3\" x=\"105.15918\" y=\"241.921875\"/>\n",
       "</g>\n",
       "<g style=\"fill:rgb(0%,0%,0%);fill-opacity:1;\">\n",
       "  <use xlink:href=\"#glyph0-1\" x=\"131.945312\" y=\"241.921875\"/>\n",
       "  <use xlink:href=\"#glyph0-2\" x=\"138.897217\" y=\"241.921875\"/>\n",
       "  <use xlink:href=\"#glyph0-4\" x=\"142.370117\" y=\"241.921875\"/>\n",
       "</g>\n",
       "<g style=\"fill:rgb(0%,0%,0%);fill-opacity:1;\">\n",
       "  <use xlink:href=\"#glyph0-1\" x=\"169.15625\" y=\"241.921875\"/>\n",
       "  <use xlink:href=\"#glyph0-2\" x=\"176.108154\" y=\"241.921875\"/>\n",
       "  <use xlink:href=\"#glyph0-5\" x=\"179.581055\" y=\"241.921875\"/>\n",
       "</g>\n",
       "<g style=\"fill:rgb(0%,0%,0%);fill-opacity:1;\">\n",
       "  <use xlink:href=\"#glyph0-1\" x=\"206.363281\" y=\"241.921875\"/>\n",
       "  <use xlink:href=\"#glyph0-2\" x=\"213.315186\" y=\"241.921875\"/>\n",
       "  <use xlink:href=\"#glyph0-6\" x=\"216.788086\" y=\"241.921875\"/>\n",
       "</g>\n",
       "<g style=\"fill:rgb(0%,0%,0%);fill-opacity:1;\">\n",
       "  <use xlink:href=\"#glyph0-7\" x=\"243.574219\" y=\"241.921875\"/>\n",
       "  <use xlink:href=\"#glyph0-2\" x=\"250.526123\" y=\"241.921875\"/>\n",
       "  <use xlink:href=\"#glyph0-1\" x=\"253.999023\" y=\"241.921875\"/>\n",
       "</g>\n",
       "<path style=\"fill:none;stroke-width:1;stroke-linecap:round;stroke-linejoin:round;stroke:rgb(0%,0%,0%);stroke-opacity:1;stroke-miterlimit:10;\" d=\"M 59.039062 208.800781 L 59.039062 64.800781 \"/>\n",
       "<path style=\"fill:none;stroke-width:1;stroke-linecap:round;stroke-linejoin:round;stroke:rgb(0%,0%,0%);stroke-opacity:1;stroke-miterlimit:10;\" d=\"M 59.039062 208.800781 L 51.839844 208.800781 \"/>\n",
       "<path style=\"fill:none;stroke-width:1;stroke-linecap:round;stroke-linejoin:round;stroke:rgb(0%,0%,0%);stroke-opacity:1;stroke-miterlimit:10;\" d=\"M 59.039062 184.800781 L 51.839844 184.800781 \"/>\n",
       "<path style=\"fill:none;stroke-width:1;stroke-linecap:round;stroke-linejoin:round;stroke:rgb(0%,0%,0%);stroke-opacity:1;stroke-miterlimit:10;\" d=\"M 59.039062 160.800781 L 51.839844 160.800781 \"/>\n",
       "<path style=\"fill:none;stroke-width:1;stroke-linecap:round;stroke-linejoin:round;stroke:rgb(0%,0%,0%);stroke-opacity:1;stroke-miterlimit:10;\" d=\"M 59.039062 136.800781 L 51.839844 136.800781 \"/>\n",
       "<path style=\"fill:none;stroke-width:1;stroke-linecap:round;stroke-linejoin:round;stroke:rgb(0%,0%,0%);stroke-opacity:1;stroke-miterlimit:10;\" d=\"M 59.039062 112.800781 L 51.839844 112.800781 \"/>\n",
       "<path style=\"fill:none;stroke-width:1;stroke-linecap:round;stroke-linejoin:round;stroke:rgb(0%,0%,0%);stroke-opacity:1;stroke-miterlimit:10;\" d=\"M 59.039062 88.800781 L 51.839844 88.800781 \"/>\n",
       "<path style=\"fill:none;stroke-width:1;stroke-linecap:round;stroke-linejoin:round;stroke:rgb(0%,0%,0%);stroke-opacity:1;stroke-miterlimit:10;\" d=\"M 59.039062 64.800781 L 51.839844 64.800781 \"/>\n",
       "<g style=\"fill:rgb(0%,0%,0%);fill-opacity:1;\">\n",
       "  <use xlink:href=\"#glyph1-1\" x=\"43.199219\" y=\"217.488281\"/>\n",
       "  <use xlink:href=\"#glyph1-2\" x=\"43.199219\" y=\"210.536377\"/>\n",
       "  <use xlink:href=\"#glyph1-1\" x=\"43.199219\" y=\"207.063477\"/>\n",
       "</g>\n",
       "<g style=\"fill:rgb(0%,0%,0%);fill-opacity:1;\">\n",
       "  <use xlink:href=\"#glyph1-3\" x=\"43.199219\" y=\"169.488281\"/>\n",
       "  <use xlink:href=\"#glyph1-2\" x=\"43.199219\" y=\"162.536377\"/>\n",
       "  <use xlink:href=\"#glyph1-1\" x=\"43.199219\" y=\"159.063477\"/>\n",
       "</g>\n",
       "<g style=\"fill:rgb(0%,0%,0%);fill-opacity:1;\">\n",
       "  <use xlink:href=\"#glyph1-4\" x=\"43.199219\" y=\"121.488281\"/>\n",
       "  <use xlink:href=\"#glyph1-2\" x=\"43.199219\" y=\"114.536377\"/>\n",
       "  <use xlink:href=\"#glyph1-1\" x=\"43.199219\" y=\"111.063477\"/>\n",
       "</g>\n",
       "<g style=\"fill:rgb(0%,0%,0%);fill-opacity:1;\">\n",
       "  <use xlink:href=\"#glyph1-5\" x=\"43.199219\" y=\"73.488281\"/>\n",
       "  <use xlink:href=\"#glyph1-2\" x=\"43.199219\" y=\"66.536377\"/>\n",
       "  <use xlink:href=\"#glyph1-1\" x=\"43.199219\" y=\"63.063477\"/>\n",
       "</g>\n",
       "<path style=\"fill:none;stroke-width:1;stroke-linecap:round;stroke-linejoin:round;stroke:rgb(0%,0%,0%);stroke-opacity:1;stroke-miterlimit:10;\" d=\"M 59.039062 214.558594 L 257.761719 214.558594 L 257.761719 59.039062 L 59.039062 59.039062 L 59.039062 214.558594 \"/>\n",
       "<g style=\"fill:rgb(0%,0%,0%);fill-opacity:1;\">\n",
       "  <use xlink:href=\"#glyph0-8\" x=\"98.652344\" y=\"270.71875\"/>\n",
       "  <use xlink:href=\"#glyph0-9\" x=\"106.989746\" y=\"270.71875\"/>\n",
       "  <use xlink:href=\"#glyph0-10\" x=\"111.152344\" y=\"270.71875\"/>\n",
       "  <use xlink:href=\"#glyph0-11\" x=\"118.104248\" y=\"270.71875\"/>\n",
       "  <use xlink:href=\"#glyph0-12\" x=\"124.354248\" y=\"270.71875\"/>\n",
       "  <use xlink:href=\"#glyph0-13\" x=\"131.306152\" y=\"270.71875\"/>\n",
       "  <use xlink:href=\"#glyph0-10\" x=\"134.083252\" y=\"270.71875\"/>\n",
       "  <use xlink:href=\"#glyph0-14\" x=\"141.035156\" y=\"270.71875\"/>\n",
       "  <use xlink:href=\"#glyph0-15\" x=\"147.987061\" y=\"270.71875\"/>\n",
       "  <use xlink:href=\"#glyph0-10\" x=\"154.237061\" y=\"270.71875\"/>\n",
       "  <use xlink:href=\"#glyph0-16\" x=\"161.188965\" y=\"270.71875\"/>\n",
       "  <use xlink:href=\"#glyph0-17\" x=\"164.661865\" y=\"270.71875\"/>\n",
       "  <use xlink:href=\"#glyph0-18\" x=\"168.824463\" y=\"270.71875\"/>\n",
       "  <use xlink:href=\"#glyph0-2\" x=\"171.601562\" y=\"270.71875\"/>\n",
       "  <use xlink:href=\"#glyph0-10\" x=\"175.074463\" y=\"270.71875\"/>\n",
       "  <use xlink:href=\"#glyph0-2\" x=\"182.026367\" y=\"270.71875\"/>\n",
       "  <use xlink:href=\"#glyph0-16\" x=\"185.499268\" y=\"270.71875\"/>\n",
       "  <use xlink:href=\"#glyph0-19\" x=\"188.972168\" y=\"270.71875\"/>\n",
       "  <use xlink:href=\"#glyph0-9\" x=\"195.924072\" y=\"270.71875\"/>\n",
       "  <use xlink:href=\"#glyph0-18\" x=\"200.08667\" y=\"270.71875\"/>\n",
       "  <use xlink:href=\"#glyph0-20\" x=\"202.86377\" y=\"270.71875\"/>\n",
       "  <use xlink:href=\"#glyph0-9\" x=\"209.815674\" y=\"270.71875\"/>\n",
       "  <use xlink:href=\"#glyph0-21\" x=\"213.978271\" y=\"270.71875\"/>\n",
       "</g>\n",
       "<path style=\"fill:none;stroke-width:1;stroke-linecap:round;stroke-linejoin:round;stroke:rgb(100%,0%,0%);stroke-opacity:1;stroke-miterlimit:10;\" d=\"M 66.398438 160.808594 L 76.085938 161.242188 L 85.769531 161.722656 L 95.453125 162.246094 L 105.136719 162.828125 L 114.820312 163.472656 L 124.503906 164.191406 L 134.191406 165.003906 L 143.875 165.921875 L 153.558594 166.96875 L 163.242188 168.179688 L 172.925781 169.589844 L 182.609375 171.257812 L 192.292969 173.253906 L 201.980469 175.695312 L 211.664062 178.746094 L 221.347656 182.660156 L 231.03125 187.875 L 240.714844 195.160156 L 250.398438 206.058594 \"/>\n",
       "<g clip-path=\"url(#clip1)\" clip-rule=\"nonzero\">\n",
       "<path style=\"fill:none;stroke-width:1;stroke-linecap:round;stroke-linejoin:round;stroke:rgb(0%,0%,100%);stroke-opacity:1;stroke-miterlimit:10;\" d=\"M 66.398438 208.683594 L 76.085938 202.328125 L 85.769531 195.234375 L 95.453125 187.261719 L 105.136719 178.242188 L 114.820312 167.953125 L 124.503906 156.101562 L 134.191406 142.304688 L 143.875 126.042969 L 153.558594 106.589844 L 163.242188 82.90625 L 172.925781 53.441406 L 182.609375 15.78125 L 185.675781 0 \"/>\n",
       "</g>\n",
       "<g clip-path=\"url(#clip2)\" clip-rule=\"nonzero\">\n",
       "<path style=\"fill:none;stroke-width:1;stroke-linecap:round;stroke-linejoin:round;stroke:rgb(0%,100%,0%);stroke-opacity:1;stroke-miterlimit:10;\" d=\"M 66.398438 208.75 L 76.085938 206.109375 L 85.769531 203.164062 L 95.453125 199.851562 L 105.136719 196.101562 L 114.820312 191.824219 L 124.503906 186.898438 L 134.191406 181.164062 L 143.875 174.40625 L 153.558594 166.324219 L 163.242188 156.480469 L 172.925781 144.234375 L 182.609375 128.585938 L 192.292969 107.878906 L 201.980469 79.195312 L 211.664062 36.828125 L 216.839844 0 \"/>\n",
       "</g>\n",
       "<path style=\"fill:none;stroke-width:1;stroke-linecap:round;stroke-linejoin:round;stroke:rgb(100%,75.294118%,79.607843%);stroke-opacity:1;stroke-miterlimit:10;\" d=\"M 66.398438 93.300781 L 250.398438 93.300781 \"/>\n",
       "<g clip-path=\"url(#clip3)\" clip-rule=\"nonzero\">\n",
       "<path style=\"fill:none;stroke-width:1;stroke-linecap:round;stroke-linejoin:round;stroke:rgb(0%,0%,0%);stroke-opacity:1;stroke-dasharray:4,4;stroke-miterlimit:10;\" d=\"M 59.039062 165.824219 L 257.761719 165.824219 \"/>\n",
       "</g>\n",
       "<g clip-path=\"url(#clip4)\" clip-rule=\"nonzero\">\n",
       "<path style=\"fill:none;stroke-width:1;stroke-linecap:round;stroke-linejoin:round;stroke:rgb(100%,0%,0%);stroke-opacity:1;stroke-dasharray:4,4;stroke-miterlimit:10;\" d=\"M 59.039062 178.660156 L 257.761719 178.660156 \"/>\n",
       "</g>\n",
       "<g clip-path=\"url(#clip5)\" clip-rule=\"nonzero\">\n",
       "<path style=\"fill:none;stroke-width:1;stroke-linecap:round;stroke-linejoin:round;stroke:rgb(0%,100%,0%);stroke-opacity:1;stroke-dasharray:4,4;stroke-miterlimit:10;\" d=\"M 205.75 214.558594 L 205.75 59.039062 \"/>\n",
       "</g>\n",
       "<g clip-path=\"url(#clip6)\" clip-rule=\"nonzero\">\n",
       "<path style=\"fill:none;stroke-width:1;stroke-linecap:round;stroke-linejoin:round;stroke:rgb(0%,0%,0%);stroke-opacity:1;stroke-miterlimit:10;\" d=\"M 159.238281 184.800781 L 194.667969 184.800781 L 194.667969 214.941406 L 159.238281 214.941406 Z \"/>\n",
       "</g>\n",
       "<path style=\"fill:none;stroke-width:1;stroke-linecap:round;stroke-linejoin:round;stroke:rgb(0%,0%,0%);stroke-opacity:1;stroke-miterlimit:10;\" d=\"M 164.414062 190.828125 L 174.761719 190.828125 \"/>\n",
       "<path style=\"fill:none;stroke-width:1;stroke-linecap:round;stroke-linejoin:round;stroke:rgb(100%,0%,0%);stroke-opacity:1;stroke-miterlimit:10;\" d=\"M 164.414062 196.855469 L 174.761719 196.855469 \"/>\n",
       "<path style=\"fill:none;stroke-width:1;stroke-linecap:round;stroke-linejoin:round;stroke:rgb(0%,0%,0%);stroke-opacity:1;stroke-dasharray:4,4;stroke-miterlimit:10;\" d=\"M 164.414062 202.882812 L 174.761719 202.882812 \"/>\n",
       "<path style=\"fill:none;stroke-width:1;stroke-linecap:round;stroke-linejoin:round;stroke:rgb(100%,0%,0%);stroke-opacity:1;stroke-dasharray:4,4;stroke-miterlimit:10;\" d=\"M 164.414062 208.910156 L 174.761719 208.910156 \"/>\n",
       "<g style=\"fill:rgb(0%,0%,0%);fill-opacity:1;\">\n",
       "  <use xlink:href=\"#glyph0-19\" x=\"179.9375\" y=\"195.3125\"/>\n",
       "  <use xlink:href=\"#glyph0-19\" x=\"186.889404\" y=\"195.3125\"/>\n",
       "  <use xlink:href=\"#glyph0-11\" x=\"193.841309\" y=\"195.3125\"/>\n",
       "</g>\n",
       "<g style=\"fill:rgb(0%,0%,0%);fill-opacity:1;\">\n",
       "  <use xlink:href=\"#glyph0-14\" x=\"179.9375\" y=\"201.339844\"/>\n",
       "  <use xlink:href=\"#glyph0-19\" x=\"186.889404\" y=\"201.339844\"/>\n",
       "  <use xlink:href=\"#glyph0-11\" x=\"193.841309\" y=\"201.339844\"/>\n",
       "</g>\n",
       "<g style=\"fill:rgb(0%,0%,0%);fill-opacity:1;\">\n",
       "  <use xlink:href=\"#glyph0-22\" x=\"179.9375\" y=\"207.367188\"/>\n",
       "  <use xlink:href=\"#glyph0-10\" x=\"186.1875\" y=\"207.367188\"/>\n",
       "  <use xlink:href=\"#glyph0-14\" x=\"193.139404\" y=\"207.367188\"/>\n",
       "  <use xlink:href=\"#glyph0-22\" x=\"200.091309\" y=\"207.367188\"/>\n",
       "</g>\n",
       "<g clip-path=\"url(#clip7)\" clip-rule=\"nonzero\">\n",
       "<g style=\"fill:rgb(0%,0%,0%);fill-opacity:1;\">\n",
       "  <use xlink:href=\"#glyph0-22\" x=\"179.9375\" y=\"213.394531\"/>\n",
       "  <use xlink:href=\"#glyph0-19\" x=\"186.1875\" y=\"213.394531\"/>\n",
       "  <use xlink:href=\"#glyph0-10\" x=\"193.139404\" y=\"213.394531\"/>\n",
       "  <use xlink:href=\"#glyph0-15\" x=\"200.091309\" y=\"213.394531\"/>\n",
       "</g>\n",
       "</g>\n",
       "</g>\n",
       "</svg>\n"
      ],
      "text/plain": [
       "plot without title"
      ]
     },
     "metadata": {
      "image/svg+xml": {
       "isolated": true
      }
     },
     "output_type": "display_data"
    }
   ],
   "source": [
    "# https://artax.karlin.mff.cuni.cz/r-help/library/caret/html/sensitivity.html\n",
    "prev <- seq(0.001, .99, length = 20)\n",
    "npvVals <- ppvVals <- posOdds <- posOddsn <- priorOdds <- prev * NA\n",
    "for(i in seq(along = prev))\n",
    "  {\n",
    "    ppvVals[i] <- posPredValue(pred, truth, prevalence = prev[i])\n",
    "    npvVals[i] <- negPredValue(pred, truth, prevalence = prev[i])\n",
    "    posOdds[i] <- ppvVals[i] / (1 - ppvVals[i])\n",
    "    posOddsn[i] <- npvVals[i] / (1 - npvVals[i])\n",
    "    priorOdds[i] <- prev[i] / (1 - prev[i])\n",
    "  }\n",
    "\n",
    "plot(prev, ppvVals,\n",
    "     ylim = c(0, 3),\n",
    "     type = \"l\",\n",
    "     ylab = \"\",\n",
    "     xlab = \"Prevalence (i.e. prior)\")\n",
    "points(prev, npvVals, type = \"l\", col = \"red\")\n",
    "points(prev, posOdds, type = \"l\", col = \"blue\")\n",
    "#points(prev, posOddsn, type = \"l\", col = \"blue\")\n",
    "points(prev, priorOdds, type = \"l\", col = \"green\")\n",
    "#points(prev, 1 / priorOdds, type = \"l\", col = \"green\")\n",
    "points(prev, posOdds / priorOdds, type = \"l\", col = \"pink\")\n",
    "abline(h=sensitivity(pred, truth), lty = 2)\n",
    "abline(h=specificity(pred, truth), lty = 2, col = \"red\")\n",
    "abline(v=0.75, lty = 2, col=\"green\")\n",
    "legend(.5, .5,\n",
    "       c(\"ppv\", \"npv\", \"sens\", \"spec\"),\n",
    "       col = c(\"black\", \"red\", \"black\", \"red\"),\n",
    "       lty = c(1, 1, 2, 2))"
   ]
  },
  {
   "cell_type": "markdown",
   "metadata": {},
   "source": [
    "Although the likelyhood ratio is constant. It is clear that the prior and posterior odds vary with prevalence. Thus if prevalence is very small, the PPV and thus the odds are small. This means that positive results are less reliable at low prevalence than at high prevalence. The contrary happens to the negative rates.\n",
    "\n",
    "Please have a look to http://www.nature.com/news/no-publication-without-confirmation-1.21509"
   ]
  },
  {
   "cell_type": "markdown",
   "metadata": {},
   "source": [
    "## power of an experiment\n",
    "\n",
    "http://www.sciencedirect.com/science/book/9780121790608\n"
   ]
  },
  {
   "cell_type": "code",
   "execution_count": 3,
   "metadata": {},
   "outputs": [
    {
     "name": "stderr",
     "output_type": "stream",
     "text": [
      "Warning message:\n",
      "\"package 'pwr' was built under R version 3.3.2\""
     ]
    }
   ],
   "source": [
    "library(pwr) # follows Cohen's book"
   ]
  },
  {
   "cell_type": "markdown",
   "metadata": {},
   "source": [
    "### directionality\n",
    "\n",
    "If a research seek to reject the true null hypothesis by comparing A and B values (that could be the meand of 2 populations) if rejection is expected when A and B differ, then the test has no direction (two-tailed). To the contrary, if the true null hypothesis could be rejected when A is larger than B, then the test has a direction (one-tailed)."
   ]
  },
  {
   "cell_type": "markdown",
   "metadata": {},
   "source": [
    "### significance level, $\\alpha$\n",
    "\n",
    "The significance level is the rate at which the true null hypthesis may be rejected. A researcher claims that the results from his sample are significant *if* the probability to find such results if the true null hypothesis is below $\\alpha$.\n",
    "\n",
    "$\\alpha$ is also known as type-I error."
   ]
  },
  {
   "cell_type": "markdown",
   "metadata": {},
   "source": [
    "### power of a statistical test, $\\beta$\n",
    "\n",
    "\"The power of a statistical test of a null hypotheis is the probability that it will lead to the rejection of the null hypothesis, i.e., the probability that it will result in the conclusion that the phenomenon exists\" [Cohen]\n",
    "\n",
    "It illustrates the fact that even if an effect exists in the population (the total of the individuals) it is not obvious that it will be represented in a sample (of the population).\n",
    "\n",
    "For example, if the power of a test is low and no effect is found, the result should be considered with care. It is analogous to the conclusion that no substance is present because no signal is observed. A chemist will ask about the limit of detection of the equipment before concluding that the substance is not present.\n",
    "\n",
    "Thus, the power depends on three parameters, the significance, the reliability of the sample result (sample size) and the effect size, which is the degree to which the phenomenon exists (think of the prevalence in our previous examples)"
   ]
  },
  {
   "cell_type": "markdown",
   "metadata": {},
   "source": [
    " - The reliability of the sample result is often obtained as the standard deviation of the sample (the subset of the population). \n",
    " - The significance level is $\\alpha$ and is chosen by the user as an adjustable parameter.\n",
    " - The effect size is often unknown and difficult to estimate. As its name indicate it has to do with the size of the effect that should be observed. Strong effects are easily detected, while slight ones are mucho more difficult to observe with certainty."
   ]
  },
  {
   "cell_type": "markdown",
   "metadata": {},
   "source": [
    "### flip a coin -  example\n",
    "\n",
    "https://www.stat.berkeley.edu/~s133/Random1.html\n",
    "\n",
    "Let's assume that we want to determine if a coin is fair or not. Therefore we can make an experiment that consists in flipping the coin a hundred time and counting the number of heads and the number of tails.\n",
    "\n",
    "Clearly we expect both numbers to be similar. If too many tail are found we might believe that the coin is unfair. One important question is to determine this value, i.e., the acceptable difference in head or tail due to random flipping and a skewed distribution due to a manipulated coin.\n",
    "\n",
    "Let's flip a coin hundred times and see the distribution we obtain:"
   ]
  },
  {
   "cell_type": "code",
   "execution_count": 8,
   "metadata": {},
   "outputs": [
    {
     "data": {
      "image/png": "[encoded data removed]",
      "text/plain": [
       "plot without title"
      ]
     },
     "metadata": {},
     "output_type": "display_data"
    },
    {
     "data": {
      "image/png": "[encoded data removed]",
      "text/plain": [
       "plot without title"
      ]
     },
     "metadata": {},
     "output_type": "display_data"
    }
   ],
   "source": [
    "options(repr.plot.width=8, repr.plot.height=3) # change these setting to plot larger figures\n",
    "barplot(dbinom(1:100,100,.5),names.arg=1:100,ylim=c(0,0.08))\n",
    "\n",
    "barplot(dbinom(1:100,100,.55),names.arg=1:100,ylim=c(0,0.08))"
   ]
  },
  {
   "cell_type": "code",
   "execution_count": 148,
   "metadata": {},
   "outputs": [
    {
     "data": {
      "text/html": [
       "40"
      ],
      "text/latex": [
       "40"
      ],
      "text/markdown": [
       "40"
      ],
      "text/plain": [
       "[1] 40"
      ]
     },
     "execution_count": 148,
     "metadata": {},
     "output_type": "execute_result"
    },
    {
     "data": {
      "text/html": [
       "60"
      ],
      "text/latex": [
       "60"
      ],
      "text/markdown": [
       "60"
      ],
      "text/plain": [
       "[1] 60"
      ]
     },
     "execution_count": 148,
     "metadata": {},
     "output_type": "execute_result"
    }
   ],
   "source": [
    "qbinom(.025,100,.5)\n",
    "qbinom(.975,100,.5)"
   ]
  },
  {
   "cell_type": "markdown",
   "metadata": {},
   "source": [
    "So we would accept the null hypothesis if results **fall** between 40 and 60. And we would be wrong in 5% of the time (note that it is a two-tailed test, so 5% means 2.5% on each side)"
   ]
  },
  {
   "cell_type": "code",
   "execution_count": 134,
   "metadata": {},
   "outputs": [
    {
     "data": {
      "text/html": [
       "0.0284439668204904"
      ],
      "text/latex": [
       "0.0284439668204904"
      ],
      "text/markdown": [
       "0.0284439668204904"
      ],
      "text/plain": [
       "[1] 0.02844397"
      ]
     },
     "execution_count": 134,
     "metadata": {},
     "output_type": "execute_result"
    },
    {
     "data": {
      "text/html": [
       "0.982399899891148"
      ],
      "text/latex": [
       "0.982399899891148"
      ],
      "text/markdown": [
       "0.982399899891148"
      ],
      "text/plain": [
       "[1] 0.9823999"
      ]
     },
     "execution_count": 134,
     "metadata": {},
     "output_type": "execute_result"
    }
   ],
   "source": [
    "pbinom(40,100,.5)\n",
    "pbinom(60,100,.5)"
   ]
  },
  {
   "cell_type": "markdown",
   "metadata": {},
   "source": [
    "We simulate data and check that they behave as expected:"
   ]
  },
  {
   "cell_type": "code",
   "execution_count": 171,
   "metadata": {},
   "outputs": [
    {
     "data": {
      "text/html": [
       "0.044"
      ],
      "text/latex": [
       "0.044"
      ],
      "text/markdown": [
       "0.044"
      ],
      "text/plain": [
       "[1] 0.044"
      ]
     },
     "execution_count": 171,
     "metadata": {},
     "output_type": "execute_result"
    }
   ],
   "source": [
    "rr = rbinom(1000,100,.5);sum(rr<40|rr>60)/1000"
   ]
  },
  {
   "cell_type": "markdown",
   "metadata": {
    "collapsed": true
   },
   "source": [
    "which is very close to what we obtain using the ```pbinom()``` function.\n",
    "\n",
    "Now, what happens if indeed the coin is not fair, i.e., one side is favoured? In this case the data would be others, but our hypothesis still would be the same, i.e., that the coin is fair. In that case we would use the same interval in order to accept or reject the null hypothesis. \n",
    "\n",
    "We can simulate the data that we would obtain if the coin is not fair, apply our statistical test and see what happens"
   ]
  },
  {
   "cell_type": "code",
   "execution_count": 175,
   "metadata": {},
   "outputs": [
    {
     "data": {
      "text/html": [
       "0.129"
      ],
      "text/latex": [
       "0.129"
      ],
      "text/markdown": [
       "0.129"
      ],
      "text/plain": [
       "[1] 0.129"
      ]
     },
     "execution_count": 175,
     "metadata": {},
     "output_type": "execute_result"
    }
   ],
   "source": [
    "rr = rbinom(1000,100,.55);sum(rr<40|rr>60)/1000"
   ]
  },
  {
   "cell_type": "markdown",
   "metadata": {},
   "source": [
    "Only in about 13% of the case we would reject the null hypothesis and declare the coin unfair... <mark>it means that in the rest of the time (about 87%) we will conclude that the coin is indeed fair.</mark>\n",
    "\n",
    "This is a very strong conclusion. It means that with this data (a 100 coin flips) we would wrongly conclude that the coin is unfair in 5% of the case if it is indeed fair and only in 13% of the cases our data would allow us to conclude that it is unfair when it is unfair by ES(effect size)=5% (|50%-5%|). "
   ]
  },
  {
   "cell_type": "markdown",
   "metadata": {},
   "source": [
    "I we repeat the same game but this time we toss the coin 500 times."
   ]
  },
  {
   "cell_type": "code",
   "execution_count": 198,
   "metadata": {},
   "outputs": [
    {
     "data": {
      "text/html": [
       "279"
      ],
      "text/latex": [
       "279"
      ],
      "text/markdown": [
       "279"
      ],
      "text/plain": [
       "[1] 279"
      ]
     },
     "execution_count": 198,
     "metadata": {},
     "output_type": "execute_result"
    },
    {
     "data": {
      "text/html": [
       "221"
      ],
      "text/latex": [
       "221"
      ],
      "text/markdown": [
       "221"
      ],
      "text/plain": [
       "[1] 221"
      ]
     },
     "execution_count": 198,
     "metadata": {},
     "output_type": "execute_result"
    }
   ],
   "source": [
    "alpha <- .01\n",
    "upper <- qbinom(1-alpha/2,500,.5)\n",
    "lower <- qbinom(alpha/2,500,.5)\n",
    "upper \n",
    "lower"
   ]
  },
  {
   "cell_type": "code",
   "execution_count": 199,
   "metadata": {},
   "outputs": [
    {
     "data": {
      "text/html": [
       "0.324"
      ],
      "text/latex": [
       "0.324"
      ],
      "text/markdown": [
       "0.324"
      ],
      "text/plain": [
       "[1] 0.324"
      ]
     },
     "execution_count": 199,
     "metadata": {},
     "output_type": "execute_result"
    }
   ],
   "source": [
    "rr = rbinom(1000,500,.55);sum(rr<lower|rr>upper)/1000"
   ]
  },
  {
   "cell_type": "markdown",
   "metadata": {},
   "source": [
    "It means that we are now able to detect an unfair coin (ES=5%) with a much higher rate (about 60%)."
   ]
  },
  {
   "cell_type": "markdown",
   "metadata": {},
   "source": [
    "We can now design a function that will allows us to estimate the power as a function of the number of tosses:"
   ]
  },
  {
   "cell_type": "code",
   "execution_count": 139,
   "metadata": {},
   "outputs": [],
   "source": [
    "coin.power <- function(ntoss=100,nsim=1000,prob=.5){\n",
    "     lower <- qbinom(.025,ntoss,.5)\n",
    "     upper <- qbinom(.975,ntoss,.5)\n",
    "     rr <- rbinom(nsim,ntoss,prob)\n",
    "     sum(rr < lower | rr > upper) / nsim\n",
    " }"
   ]
  },
  {
   "cell_type": "code",
   "execution_count": 140,
   "metadata": {},
   "outputs": [
    {
     "data": {
      "text/html": [
       "<strong>1000:</strong> 0.885"
      ],
      "text/latex": [
       "\\textbf{1000:} 0.885"
      ],
      "text/markdown": [
       "**1000:** 0.885"
      ],
      "text/plain": [
       " 1000 \n",
       "0.885 "
      ]
     },
     "execution_count": 140,
     "metadata": {},
     "output_type": "execute_result"
    },
    {
     "data": {
      "image/png": "[encoded data removed]",
      "image/svg+xml": [
       "<?xml version=\"1.0\" encoding=\"UTF-8\"?>\n",
       "<svg xmlns=\"http://www.w3.org/2000/svg\" xmlns:xlink=\"http://www.w3.org/1999/xlink\" width=\"288pt\" height=\"288pt\" viewBox=\"0 0 288 288\" version=\"1.1\">\n",
       "<defs>\n",
       "<g>\n",
       "<symbol overflow=\"visible\" id=\"glyph0-0\">\n",
       "<path style=\"stroke:none;\" d=\"M 0.40625 0 L 0.40625 -8.96875 L 7.515625 -8.96875 L 7.515625 0 Z M 6.390625 -1.125 L 6.390625 -7.84375 L 1.53125 -7.84375 L 1.53125 -1.125 Z \"/>\n",
       "</symbol>\n",
       "<symbol overflow=\"visible\" id=\"glyph0-1\">\n",
       "<path style=\"stroke:none;\" d=\"M 3.375 -8.734375 C 4.507812 -8.734375 5.328125 -8.269531 5.828125 -7.34375 C 6.222656 -6.625 6.421875 -5.632812 6.421875 -4.375 C 6.421875 -3.1875 6.242188 -2.207031 5.890625 -1.4375 C 5.378906 -0.320312 4.539062 0.234375 3.375 0.234375 C 2.320312 0.234375 1.539062 -0.21875 1.03125 -1.125 C 0.601562 -1.882812 0.390625 -2.90625 0.390625 -4.1875 C 0.390625 -5.1875 0.519531 -6.039062 0.78125 -6.75 C 1.257812 -8.070312 2.125 -8.734375 3.375 -8.734375 Z M 3.375 -0.765625 C 3.9375 -0.765625 4.382812 -1.015625 4.71875 -1.515625 C 5.0625 -2.023438 5.234375 -2.96875 5.234375 -4.34375 C 5.234375 -5.332031 5.109375 -6.144531 4.859375 -6.78125 C 4.617188 -7.425781 4.148438 -7.75 3.453125 -7.75 C 2.804688 -7.75 2.332031 -7.441406 2.03125 -6.828125 C 1.726562 -6.222656 1.578125 -5.332031 1.578125 -4.15625 C 1.578125 -3.257812 1.675781 -2.539062 1.875 -2 C 2.164062 -1.175781 2.664062 -0.765625 3.375 -0.765625 Z \"/>\n",
       "</symbol>\n",
       "<symbol overflow=\"visible\" id=\"glyph0-2\">\n",
       "<path style=\"stroke:none;\" d=\"M 1.546875 -2.234375 C 1.617188 -1.597656 1.910156 -1.160156 2.421875 -0.921875 C 2.679688 -0.804688 2.984375 -0.75 3.328125 -0.75 C 3.972656 -0.75 4.453125 -0.953125 4.765625 -1.359375 C 5.078125 -1.773438 5.234375 -2.238281 5.234375 -2.75 C 5.234375 -3.351562 5.046875 -3.820312 4.671875 -4.15625 C 4.304688 -4.488281 3.863281 -4.65625 3.34375 -4.65625 C 2.957031 -4.65625 2.628906 -4.582031 2.359375 -4.4375 C 2.085938 -4.289062 1.859375 -4.085938 1.671875 -3.828125 L 0.71875 -3.890625 L 1.390625 -8.59375 L 5.921875 -8.59375 L 5.921875 -7.53125 L 2.203125 -7.53125 L 1.84375 -5.109375 C 2.039062 -5.253906 2.234375 -5.367188 2.421875 -5.453125 C 2.742188 -5.585938 3.117188 -5.65625 3.546875 -5.65625 C 4.347656 -5.65625 5.023438 -5.394531 5.578125 -4.875 C 6.140625 -4.363281 6.421875 -3.707031 6.421875 -2.90625 C 6.421875 -2.082031 6.164062 -1.351562 5.65625 -0.71875 C 5.144531 -0.09375 4.328125 0.21875 3.203125 0.21875 C 2.492188 0.21875 1.863281 0.0195312 1.3125 -0.375 C 0.769531 -0.78125 0.46875 -1.398438 0.40625 -2.234375 Z \"/>\n",
       "</symbol>\n",
       "<symbol overflow=\"visible\" id=\"glyph0-3\">\n",
       "<path style=\"stroke:none;\" d=\"M 1.203125 -6.1875 L 1.203125 -7.03125 C 1.992188 -7.101562 2.546875 -7.226562 2.859375 -7.40625 C 3.171875 -7.59375 3.40625 -8.023438 3.5625 -8.703125 L 4.421875 -8.703125 L 4.421875 0 L 3.25 0 L 3.25 -6.1875 Z \"/>\n",
       "</symbol>\n",
       "<symbol overflow=\"visible\" id=\"glyph0-4\">\n",
       "<path style=\"stroke:none;\" d=\"M 0.390625 0 C 0.429688 -0.75 0.585938 -1.398438 0.859375 -1.953125 C 1.128906 -2.515625 1.65625 -3.023438 2.4375 -3.484375 L 3.609375 -4.15625 C 4.140625 -4.46875 4.507812 -4.726562 4.71875 -4.9375 C 5.050781 -5.28125 5.21875 -5.671875 5.21875 -6.109375 C 5.21875 -6.609375 5.0625 -7.007812 4.75 -7.3125 C 4.445312 -7.613281 4.046875 -7.765625 3.546875 -7.765625 C 2.785156 -7.765625 2.265625 -7.476562 1.984375 -6.90625 C 1.828125 -6.601562 1.738281 -6.179688 1.71875 -5.640625 L 0.609375 -5.640625 C 0.617188 -6.398438 0.757812 -7.019531 1.03125 -7.5 C 1.5 -8.34375 2.335938 -8.765625 3.546875 -8.765625 C 4.546875 -8.765625 5.273438 -8.492188 5.734375 -7.953125 C 6.203125 -7.410156 6.4375 -6.8125 6.4375 -6.15625 C 6.4375 -5.457031 6.1875 -4.859375 5.6875 -4.359375 C 5.40625 -4.066406 4.894531 -3.71875 4.15625 -3.3125 L 3.328125 -2.84375 C 2.929688 -2.625 2.617188 -2.414062 2.390625 -2.21875 C 1.984375 -1.863281 1.726562 -1.46875 1.625 -1.03125 L 6.390625 -1.03125 L 6.390625 0 Z \"/>\n",
       "</symbol>\n",
       "<symbol overflow=\"visible\" id=\"glyph0-5\">\n",
       "<path style=\"stroke:none;\" d=\"M 0.1875 -3.421875 L 1.609375 -3.421875 L 2.171875 -5.53125 L 0.765625 -5.53125 L 0.953125 -6.234375 L 2.375 -6.234375 L 3.09375 -8.96875 L 4 -8.96875 L 3.265625 -6.234375 L 4.609375 -6.234375 L 5.359375 -8.96875 L 6.265625 -8.96875 L 5.53125 -6.234375 L 6.9375 -6.234375 L 6.75 -5.53125 L 5.328125 -5.53125 L 4.75 -3.421875 L 6.171875 -3.421875 L 5.984375 -2.71875 L 4.578125 -2.71875 L 3.828125 0 L 2.9375 0 L 3.671875 -2.71875 L 2.3125 -2.71875 L 1.59375 0 L 0.671875 0 L 1.421875 -2.71875 L 0 -2.71875 Z M 3.84375 -3.421875 L 4.421875 -5.53125 L 3.078125 -5.53125 L 2.515625 -3.421875 Z \"/>\n",
       "</symbol>\n",
       "<symbol overflow=\"visible\" id=\"glyph0-6\">\n",
       "<path style=\"stroke:none;\" d=\"\"/>\n",
       "</symbol>\n",
       "<symbol overflow=\"visible\" id=\"glyph0-7\">\n",
       "<path style=\"stroke:none;\" d=\"M 3.40625 -0.703125 C 4.132812 -0.703125 4.628906 -0.976562 4.890625 -1.53125 C 5.160156 -2.082031 5.296875 -2.695312 5.296875 -3.375 C 5.296875 -3.988281 5.203125 -4.484375 5.015625 -4.859375 C 4.703125 -5.460938 4.164062 -5.765625 3.40625 -5.765625 C 2.738281 -5.765625 2.25 -5.507812 1.9375 -5 C 1.632812 -4.488281 1.484375 -3.867188 1.484375 -3.140625 C 1.484375 -2.441406 1.632812 -1.859375 1.9375 -1.390625 C 2.25 -0.929688 2.738281 -0.703125 3.40625 -0.703125 Z M 3.4375 -6.71875 C 4.28125 -6.71875 4.992188 -6.4375 5.578125 -5.875 C 6.160156 -5.320312 6.453125 -4.5 6.453125 -3.40625 C 6.453125 -2.351562 6.191406 -1.484375 5.671875 -0.796875 C 5.160156 -0.109375 4.367188 0.234375 3.296875 0.234375 C 2.398438 0.234375 1.6875 -0.0664062 1.15625 -0.671875 C 0.625 -1.285156 0.359375 -2.101562 0.359375 -3.125 C 0.359375 -4.21875 0.632812 -5.085938 1.1875 -5.734375 C 1.75 -6.390625 2.5 -6.71875 3.4375 -6.71875 Z M 3.40625 -6.703125 Z \"/>\n",
       "</symbol>\n",
       "<symbol overflow=\"visible\" id=\"glyph0-8\">\n",
       "<path style=\"stroke:none;\" d=\"M 1.078125 -7.53125 C 1.097656 -7.988281 1.175781 -8.320312 1.3125 -8.53125 C 1.570312 -8.90625 2.066406 -9.09375 2.796875 -9.09375 C 2.867188 -9.09375 2.941406 -9.085938 3.015625 -9.078125 C 3.085938 -9.078125 3.171875 -9.070312 3.265625 -9.0625 L 3.265625 -8.0625 C 3.148438 -8.070312 3.066406 -8.078125 3.015625 -8.078125 C 2.960938 -8.085938 2.914062 -8.09375 2.875 -8.09375 C 2.539062 -8.09375 2.335938 -8.003906 2.265625 -7.828125 C 2.203125 -7.648438 2.171875 -7.207031 2.171875 -6.5 L 3.265625 -6.5 L 3.265625 -5.640625 L 2.171875 -5.640625 L 2.171875 0 L 1.078125 0 L 1.078125 -5.640625 L 0.171875 -5.640625 L 0.171875 -6.5 L 1.078125 -6.5 Z \"/>\n",
       "</symbol>\n",
       "<symbol overflow=\"visible\" id=\"glyph0-9\">\n",
       "<path style=\"stroke:none;\" d=\"M 1.03125 -8.359375 L 2.140625 -8.359375 L 2.140625 -6.53125 L 3.1875 -6.53125 L 3.1875 -5.640625 L 2.140625 -5.640625 L 2.140625 -1.375 C 2.140625 -1.144531 2.21875 -0.992188 2.375 -0.921875 C 2.457031 -0.867188 2.597656 -0.84375 2.796875 -0.84375 C 2.847656 -0.84375 2.90625 -0.84375 2.96875 -0.84375 C 3.03125 -0.851562 3.101562 -0.859375 3.1875 -0.859375 L 3.1875 0 C 3.050781 0.0390625 2.914062 0.0664062 2.78125 0.078125 C 2.644531 0.0976562 2.5 0.109375 2.34375 0.109375 C 1.832031 0.109375 1.484375 -0.0195312 1.296875 -0.28125 C 1.117188 -0.550781 1.03125 -0.894531 1.03125 -1.3125 L 1.03125 -5.640625 L 0.140625 -5.640625 L 0.140625 -6.53125 L 1.03125 -6.53125 Z \"/>\n",
       "</symbol>\n",
       "<symbol overflow=\"visible\" id=\"glyph0-10\">\n",
       "<path style=\"stroke:none;\" d=\"M 1.453125 -2.046875 C 1.484375 -1.679688 1.578125 -1.398438 1.734375 -1.203125 C 2.015625 -0.847656 2.492188 -0.671875 3.171875 -0.671875 C 3.578125 -0.671875 3.9375 -0.757812 4.25 -0.9375 C 4.5625 -1.113281 4.71875 -1.390625 4.71875 -1.765625 C 4.71875 -2.046875 4.59375 -2.257812 4.34375 -2.40625 C 4.1875 -2.5 3.875 -2.601562 3.40625 -2.71875 L 2.53125 -2.9375 C 1.96875 -3.070312 1.554688 -3.226562 1.296875 -3.40625 C 0.828125 -3.695312 0.59375 -4.101562 0.59375 -4.625 C 0.59375 -5.25 0.8125 -5.75 1.25 -6.125 C 1.695312 -6.507812 2.296875 -6.703125 3.046875 -6.703125 C 4.035156 -6.703125 4.75 -6.414062 5.1875 -5.84375 C 5.457031 -5.476562 5.585938 -5.082031 5.578125 -4.65625 L 4.546875 -4.65625 C 4.523438 -4.90625 4.4375 -5.128906 4.28125 -5.328125 C 4.03125 -5.617188 3.59375 -5.765625 2.96875 -5.765625 C 2.550781 -5.765625 2.234375 -5.6875 2.015625 -5.53125 C 1.804688 -5.375 1.703125 -5.164062 1.703125 -4.90625 C 1.703125 -4.613281 1.84375 -4.382812 2.125 -4.21875 C 2.289062 -4.113281 2.53125 -4.023438 2.84375 -3.953125 L 3.578125 -3.765625 C 4.359375 -3.578125 4.882812 -3.394531 5.15625 -3.21875 C 5.582031 -2.9375 5.796875 -2.492188 5.796875 -1.890625 C 5.796875 -1.304688 5.570312 -0.800781 5.125 -0.375 C 4.6875 0.0390625 4.019531 0.25 3.125 0.25 C 2.144531 0.25 1.453125 0.03125 1.046875 -0.40625 C 0.648438 -0.851562 0.4375 -1.398438 0.40625 -2.046875 Z M 3.078125 -6.703125 Z \"/>\n",
       "</symbol>\n",
       "<symbol overflow=\"visible\" id=\"glyph1-0\">\n",
       "<path style=\"stroke:none;\" d=\"M 0 -0.40625 L -8.96875 -0.40625 L -8.96875 -7.515625 L 0 -7.515625 Z M -1.125 -6.390625 L -7.84375 -6.390625 L -7.84375 -1.53125 L -1.125 -1.53125 Z \"/>\n",
       "</symbol>\n",
       "<symbol overflow=\"visible\" id=\"glyph1-1\">\n",
       "<path style=\"stroke:none;\" d=\"M -8.734375 -3.375 C -8.734375 -4.507812 -8.269531 -5.328125 -7.34375 -5.828125 C -6.625 -6.222656 -5.632812 -6.421875 -4.375 -6.421875 C -3.1875 -6.421875 -2.207031 -6.242188 -1.4375 -5.890625 C -0.320312 -5.378906 0.234375 -4.539062 0.234375 -3.375 C 0.234375 -2.320312 -0.21875 -1.539062 -1.125 -1.03125 C -1.882812 -0.601562 -2.90625 -0.390625 -4.1875 -0.390625 C -5.1875 -0.390625 -6.039062 -0.519531 -6.75 -0.78125 C -8.070312 -1.257812 -8.734375 -2.125 -8.734375 -3.375 Z M -0.765625 -3.375 C -0.765625 -3.9375 -1.015625 -4.382812 -1.515625 -4.71875 C -2.023438 -5.0625 -2.96875 -5.234375 -4.34375 -5.234375 C -5.332031 -5.234375 -6.144531 -5.109375 -6.78125 -4.859375 C -7.425781 -4.617188 -7.75 -4.148438 -7.75 -3.453125 C -7.75 -2.804688 -7.441406 -2.332031 -6.828125 -2.03125 C -6.222656 -1.726562 -5.332031 -1.578125 -4.15625 -1.578125 C -3.257812 -1.578125 -2.539062 -1.675781 -2 -1.875 C -1.175781 -2.164062 -0.765625 -2.664062 -0.765625 -3.375 Z \"/>\n",
       "</symbol>\n",
       "<symbol overflow=\"visible\" id=\"glyph1-2\">\n",
       "<path style=\"stroke:none;\" d=\"M -1.328125 -1.0625 L -1.328125 -2.34375 L 0 -2.34375 L 0 -1.0625 Z \"/>\n",
       "</symbol>\n",
       "<symbol overflow=\"visible\" id=\"glyph1-3\">\n",
       "<path style=\"stroke:none;\" d=\"M 0 -0.390625 C -0.75 -0.429688 -1.398438 -0.585938 -1.953125 -0.859375 C -2.515625 -1.128906 -3.023438 -1.65625 -3.484375 -2.4375 L -4.15625 -3.609375 C -4.46875 -4.140625 -4.726562 -4.507812 -4.9375 -4.71875 C -5.28125 -5.050781 -5.671875 -5.21875 -6.109375 -5.21875 C -6.609375 -5.21875 -7.007812 -5.0625 -7.3125 -4.75 C -7.613281 -4.445312 -7.765625 -4.046875 -7.765625 -3.546875 C -7.765625 -2.785156 -7.476562 -2.265625 -6.90625 -1.984375 C -6.601562 -1.828125 -6.179688 -1.738281 -5.640625 -1.71875 L -5.640625 -0.609375 C -6.398438 -0.617188 -7.019531 -0.757812 -7.5 -1.03125 C -8.34375 -1.5 -8.765625 -2.335938 -8.765625 -3.546875 C -8.765625 -4.546875 -8.492188 -5.273438 -7.953125 -5.734375 C -7.410156 -6.203125 -6.8125 -6.4375 -6.15625 -6.4375 C -5.457031 -6.4375 -4.859375 -6.1875 -4.359375 -5.6875 C -4.066406 -5.40625 -3.71875 -4.894531 -3.3125 -4.15625 L -2.84375 -3.328125 C -2.625 -2.929688 -2.414062 -2.617188 -2.21875 -2.390625 C -1.863281 -1.984375 -1.46875 -1.726562 -1.03125 -1.625 L -1.03125 -6.390625 L 0 -6.390625 Z \"/>\n",
       "</symbol>\n",
       "<symbol overflow=\"visible\" id=\"glyph1-4\">\n",
       "<path style=\"stroke:none;\" d=\"M -3.09375 -4.125 L -7.0625 -4.125 L -3.09375 -1.328125 Z M 0 -4.15625 L -2.140625 -4.15625 L -2.140625 -0.3125 L -3.203125 -0.3125 L -8.765625 -4.328125 L -8.765625 -5.25 L -3.09375 -5.25 L -3.09375 -6.53125 L -2.140625 -6.53125 L -2.140625 -5.25 L 0 -5.25 Z \"/>\n",
       "</symbol>\n",
       "<symbol overflow=\"visible\" id=\"glyph1-5\">\n",
       "<path style=\"stroke:none;\" d=\"M -8.78125 -3.65625 C -8.78125 -4.632812 -8.523438 -5.316406 -8.015625 -5.703125 C -7.503906 -6.085938 -6.984375 -6.28125 -6.453125 -6.28125 L -6.453125 -5.1875 C -6.796875 -5.125 -7.066406 -5.019531 -7.265625 -4.875 C -7.628906 -4.613281 -7.8125 -4.210938 -7.8125 -3.671875 C -7.8125 -3.054688 -7.523438 -2.566406 -6.953125 -2.203125 C -6.390625 -1.847656 -5.578125 -1.648438 -4.515625 -1.609375 C -4.890625 -1.859375 -5.171875 -2.175781 -5.359375 -2.5625 C -5.515625 -2.90625 -5.59375 -3.296875 -5.59375 -3.734375 C -5.59375 -4.460938 -5.359375 -5.097656 -4.890625 -5.640625 C -4.421875 -6.191406 -3.722656 -6.46875 -2.796875 -6.46875 C -2.003906 -6.46875 -1.300781 -6.207031 -0.6875 -5.6875 C -0.0820312 -5.164062 0.21875 -4.429688 0.21875 -3.484375 C 0.21875 -2.660156 -0.0859375 -1.953125 -0.703125 -1.359375 C -1.328125 -0.765625 -2.375 -0.46875 -3.84375 -0.46875 C -4.925781 -0.46875 -5.847656 -0.597656 -6.609375 -0.859375 C -8.054688 -1.367188 -8.78125 -2.300781 -8.78125 -3.65625 Z M -0.75 -3.578125 C -0.75 -4.148438 -0.941406 -4.578125 -1.328125 -4.859375 C -1.722656 -5.148438 -2.179688 -5.296875 -2.703125 -5.296875 C -3.148438 -5.296875 -3.578125 -5.164062 -3.984375 -4.90625 C -4.390625 -4.65625 -4.59375 -4.191406 -4.59375 -3.515625 C -4.59375 -3.046875 -4.4375 -2.632812 -4.125 -2.28125 C -3.8125 -1.925781 -3.335938 -1.75 -2.703125 -1.75 C -2.148438 -1.75 -1.6875 -1.910156 -1.3125 -2.234375 C -0.9375 -2.554688 -0.75 -3.003906 -0.75 -3.578125 Z \"/>\n",
       "</symbol>\n",
       "<symbol overflow=\"visible\" id=\"glyph1-6\">\n",
       "<path style=\"stroke:none;\" d=\"M -5.078125 -3.40625 C -5.078125 -3.882812 -5.210938 -4.257812 -5.484375 -4.53125 C -5.753906 -4.800781 -6.078125 -4.9375 -6.453125 -4.9375 C -6.773438 -4.9375 -7.070312 -4.804688 -7.34375 -4.546875 C -7.613281 -4.285156 -7.75 -3.890625 -7.75 -3.359375 C -7.75 -2.828125 -7.613281 -2.441406 -7.34375 -2.203125 C -7.070312 -1.972656 -6.753906 -1.859375 -6.390625 -1.859375 C -5.984375 -1.859375 -5.660156 -2.007812 -5.421875 -2.3125 C -5.191406 -2.625 -5.078125 -2.988281 -5.078125 -3.40625 Z M -0.75 -3.46875 C -0.75 -3.976562 -0.882812 -4.398438 -1.15625 -4.734375 C -1.4375 -5.066406 -1.847656 -5.234375 -2.390625 -5.234375 C -2.953125 -5.234375 -3.378906 -5.0625 -3.671875 -4.71875 C -3.972656 -4.375 -4.125 -3.929688 -4.125 -3.390625 C -4.125 -2.859375 -3.972656 -2.425781 -3.671875 -2.09375 C -3.367188 -1.769531 -2.953125 -1.609375 -2.421875 -1.609375 C -1.972656 -1.609375 -1.582031 -1.757812 -1.25 -2.0625 C -0.914062 -2.363281 -0.75 -2.832031 -0.75 -3.46875 Z M -4.65625 -1.90625 C -4.789062 -1.601562 -4.941406 -1.363281 -5.109375 -1.1875 C -5.441406 -0.863281 -5.867188 -0.703125 -6.390625 -0.703125 C -7.035156 -0.703125 -7.59375 -0.9375 -8.0625 -1.40625 C -8.53125 -1.882812 -8.765625 -2.554688 -8.765625 -3.421875 C -8.765625 -4.265625 -8.539062 -4.921875 -8.09375 -5.390625 C -7.65625 -5.867188 -7.144531 -6.109375 -6.5625 -6.109375 C -6.007812 -6.109375 -5.566406 -5.96875 -5.234375 -5.6875 C -5.035156 -5.539062 -4.847656 -5.300781 -4.671875 -4.96875 C -4.503906 -5.332031 -4.3125 -5.617188 -4.09375 -5.828125 C -3.6875 -6.210938 -3.160156 -6.40625 -2.515625 -6.40625 C -1.742188 -6.40625 -1.085938 -6.144531 -0.546875 -5.625 C -0.015625 -5.113281 0.25 -4.382812 0.25 -3.4375 C 0.25 -2.59375 0.0195312 -1.875 -0.4375 -1.28125 C -0.90625 -0.695312 -1.578125 -0.40625 -2.453125 -0.40625 C -2.972656 -0.40625 -3.421875 -0.53125 -3.796875 -0.78125 C -4.171875 -1.03125 -4.457031 -1.40625 -4.65625 -1.90625 Z \"/>\n",
       "</symbol>\n",
       "<symbol overflow=\"visible\" id=\"glyph1-7\">\n",
       "<path style=\"stroke:none;\" d=\"M -6.1875 -1.203125 L -7.03125 -1.203125 C -7.101562 -1.992188 -7.226562 -2.546875 -7.40625 -2.859375 C -7.59375 -3.171875 -8.023438 -3.40625 -8.703125 -3.5625 L -8.703125 -4.421875 L 0 -4.421875 L 0 -3.25 L -6.1875 -3.25 Z \"/>\n",
       "</symbol>\n",
       "<symbol overflow=\"visible\" id=\"glyph1-8\">\n",
       "<path style=\"stroke:none;\" d=\"M -0.734375 -3.5625 C -0.734375 -4.070312 -0.945312 -4.5 -1.375 -4.84375 C -1.8125 -5.1875 -2.457031 -5.359375 -3.3125 -5.359375 C -3.832031 -5.359375 -4.28125 -5.28125 -4.65625 -5.125 C -5.375 -4.84375 -5.734375 -4.320312 -5.734375 -3.5625 C -5.734375 -2.800781 -5.351562 -2.28125 -4.59375 -2 C -4.1875 -1.851562 -3.671875 -1.78125 -3.046875 -1.78125 C -2.535156 -1.78125 -2.101562 -1.851562 -1.75 -2 C -1.070312 -2.28125 -0.734375 -2.800781 -0.734375 -3.5625 Z M -6.5 -0.71875 L -6.5 -1.78125 L -5.640625 -1.78125 C -5.929688 -2.007812 -6.160156 -2.253906 -6.328125 -2.515625 C -6.578125 -2.878906 -6.703125 -3.3125 -6.703125 -3.8125 C -6.703125 -4.550781 -6.414062 -5.175781 -5.84375 -5.6875 C -5.28125 -6.207031 -4.46875 -6.46875 -3.40625 -6.46875 C -1.988281 -6.46875 -0.972656 -6.097656 -0.359375 -5.359375 C 0.0234375 -4.890625 0.21875 -4.34375 0.21875 -3.71875 C 0.21875 -3.21875 0.109375 -2.800781 -0.109375 -2.46875 C -0.222656 -2.269531 -0.429688 -2.050781 -0.734375 -1.8125 L 2.609375 -1.8125 L 2.609375 -0.71875 Z \"/>\n",
       "</symbol>\n",
       "<symbol overflow=\"visible\" id=\"glyph1-9\">\n",
       "<path style=\"stroke:none;\" d=\"M -0.703125 -3.40625 C -0.703125 -4.132812 -0.976562 -4.628906 -1.53125 -4.890625 C -2.082031 -5.160156 -2.695312 -5.296875 -3.375 -5.296875 C -3.988281 -5.296875 -4.484375 -5.203125 -4.859375 -5.015625 C -5.460938 -4.703125 -5.765625 -4.164062 -5.765625 -3.40625 C -5.765625 -2.738281 -5.507812 -2.25 -5 -1.9375 C -4.488281 -1.632812 -3.867188 -1.484375 -3.140625 -1.484375 C -2.441406 -1.484375 -1.859375 -1.632812 -1.390625 -1.9375 C -0.929688 -2.25 -0.703125 -2.738281 -0.703125 -3.40625 Z M -6.71875 -3.4375 C -6.71875 -4.28125 -6.4375 -4.992188 -5.875 -5.578125 C -5.320312 -6.160156 -4.5 -6.453125 -3.40625 -6.453125 C -2.351562 -6.453125 -1.484375 -6.191406 -0.796875 -5.671875 C -0.109375 -5.160156 0.234375 -4.367188 0.234375 -3.296875 C 0.234375 -2.398438 -0.0664062 -1.6875 -0.671875 -1.15625 C -1.285156 -0.625 -2.101562 -0.359375 -3.125 -0.359375 C -4.21875 -0.359375 -5.085938 -0.632812 -5.734375 -1.1875 C -6.390625 -1.75 -6.71875 -2.5 -6.71875 -3.4375 Z M -6.703125 -3.40625 Z \"/>\n",
       "</symbol>\n",
       "<symbol overflow=\"visible\" id=\"glyph1-10\">\n",
       "<path style=\"stroke:none;\" d=\"M -6.53125 -1.3125 L -1.390625 -2.5625 L -6.53125 -3.84375 L -6.53125 -5.078125 L -1.421875 -6.359375 L -6.53125 -7.703125 L -6.53125 -8.796875 L 0 -6.890625 L 0 -5.75 L -5.0625 -4.421875 L 0 -3.140625 L 0 -2 L -6.53125 -0.109375 Z \"/>\n",
       "</symbol>\n",
       "<symbol overflow=\"visible\" id=\"glyph1-11\">\n",
       "<path style=\"stroke:none;\" d=\"M -6.6875 -3.53125 C -6.6875 -3.988281 -6.578125 -4.4375 -6.359375 -4.875 C -6.140625 -5.3125 -5.859375 -5.644531 -5.515625 -5.875 C -5.179688 -6.09375 -4.796875 -6.238281 -4.359375 -6.3125 C -4.054688 -6.375 -3.578125 -6.40625 -2.921875 -6.40625 L -2.921875 -1.625 C -2.253906 -1.632812 -1.71875 -1.785156 -1.3125 -2.078125 C -0.914062 -2.378906 -0.71875 -2.835938 -0.71875 -3.453125 C -0.71875 -4.023438 -0.90625 -4.484375 -1.28125 -4.828125 C -1.507812 -5.015625 -1.765625 -5.148438 -2.046875 -5.234375 L -2.046875 -6.3125 C -1.804688 -6.289062 -1.539062 -6.195312 -1.25 -6.03125 C -0.957031 -5.875 -0.71875 -5.695312 -0.53125 -5.5 C -0.195312 -5.164062 0.0234375 -4.75 0.140625 -4.25 C 0.203125 -3.988281 0.234375 -3.691406 0.234375 -3.359375 C 0.234375 -2.546875 -0.0625 -1.851562 -0.65625 -1.28125 C -1.25 -0.71875 -2.078125 -0.4375 -3.140625 -0.4375 C -4.191406 -0.4375 -5.046875 -0.722656 -5.703125 -1.296875 C -6.359375 -1.867188 -6.6875 -2.613281 -6.6875 -3.53125 Z M -3.796875 -5.28125 C -4.265625 -5.238281 -4.644531 -5.132812 -4.9375 -4.96875 C -5.457031 -4.664062 -5.71875 -4.160156 -5.71875 -3.453125 C -5.71875 -2.953125 -5.535156 -2.53125 -5.171875 -2.1875 C -4.804688 -1.84375 -4.347656 -1.660156 -3.796875 -1.640625 Z M -6.703125 -3.421875 Z \"/>\n",
       "</symbol>\n",
       "<symbol overflow=\"visible\" id=\"glyph1-12\">\n",
       "<path style=\"stroke:none;\" d=\"M -6.53125 -0.84375 L -6.53125 -1.875 L -5.40625 -1.875 C -5.625 -1.96875 -5.890625 -2.179688 -6.203125 -2.515625 C -6.523438 -2.847656 -6.6875 -3.226562 -6.6875 -3.65625 C -6.6875 -3.675781 -6.679688 -3.710938 -6.671875 -3.765625 C -6.671875 -3.816406 -6.664062 -3.898438 -6.65625 -4.015625 L -5.5 -4.015625 C -5.507812 -3.953125 -5.515625 -3.890625 -5.515625 -3.828125 C -5.523438 -3.773438 -5.53125 -3.71875 -5.53125 -3.65625 C -5.53125 -3.101562 -5.347656 -2.675781 -4.984375 -2.375 C -4.628906 -2.082031 -4.222656 -1.9375 -3.765625 -1.9375 L 0 -1.9375 L 0 -0.84375 Z \"/>\n",
       "</symbol>\n",
       "<symbol overflow=\"visible\" id=\"glyph2-0\">\n",
       "<path style=\"stroke:none;\" d=\"M 0.484375 0 L 0.484375 -10.6875 L 8.96875 -10.6875 L 8.96875 0 Z M 7.625 -1.34375 L 7.625 -9.359375 L 1.8125 -9.359375 L 1.8125 -1.34375 Z \"/>\n",
       "</symbol>\n",
       "<symbol overflow=\"visible\" id=\"glyph2-1\">\n",
       "<path style=\"stroke:none;\" d=\"M 1.28125 -10.6875 L 9.0625 -10.6875 L 9.0625 -9.375 L 2.6875 -9.375 L 2.6875 -6.140625 L 8.59375 -6.140625 L 8.59375 -4.890625 L 2.6875 -4.890625 L 2.6875 -1.28125 L 9.171875 -1.28125 L 9.171875 0 L 1.28125 0 Z M 5.21875 -10.6875 Z \"/>\n",
       "</symbol>\n",
       "<symbol overflow=\"visible\" id=\"glyph2-2\">\n",
       "<path style=\"stroke:none;\" d=\"M 2.078125 -3.453125 C 2.109375 -2.847656 2.253906 -2.351562 2.515625 -1.96875 C 2.992188 -1.257812 3.835938 -0.90625 5.046875 -0.90625 C 5.585938 -0.90625 6.082031 -0.984375 6.53125 -1.140625 C 7.394531 -1.441406 7.828125 -1.984375 7.828125 -2.765625 C 7.828125 -3.335938 7.644531 -3.75 7.28125 -4 C 6.914062 -4.238281 6.335938 -4.453125 5.546875 -4.640625 L 4.109375 -4.96875 C 3.160156 -5.175781 2.488281 -5.410156 2.09375 -5.671875 C 1.414062 -6.117188 1.078125 -6.785156 1.078125 -7.671875 C 1.078125 -8.628906 1.410156 -9.414062 2.078125 -10.03125 C 2.742188 -10.65625 3.679688 -10.96875 4.890625 -10.96875 C 6.015625 -10.96875 6.96875 -10.695312 7.75 -10.15625 C 8.539062 -9.613281 8.9375 -8.75 8.9375 -7.5625 L 7.5625 -7.5625 C 7.488281 -8.125 7.335938 -8.5625 7.109375 -8.875 C 6.660156 -9.425781 5.910156 -9.703125 4.859375 -9.703125 C 4.003906 -9.703125 3.390625 -9.519531 3.015625 -9.15625 C 2.640625 -8.800781 2.453125 -8.390625 2.453125 -7.921875 C 2.453125 -7.398438 2.671875 -7.015625 3.109375 -6.765625 C 3.390625 -6.609375 4.035156 -6.414062 5.046875 -6.1875 L 6.546875 -5.84375 C 7.273438 -5.675781 7.832031 -5.453125 8.21875 -5.171875 C 8.90625 -4.671875 9.25 -3.941406 9.25 -2.984375 C 9.25 -1.804688 8.816406 -0.960938 7.953125 -0.453125 C 7.085938 0.0546875 6.085938 0.3125 4.953125 0.3125 C 3.617188 0.3125 2.578125 -0.0234375 1.828125 -0.703125 C 1.078125 -1.378906 0.707031 -2.296875 0.71875 -3.453125 Z M 5 -10.984375 Z \"/>\n",
       "</symbol>\n",
       "<symbol overflow=\"visible\" id=\"glyph2-3\">\n",
       "<path style=\"stroke:none;\" d=\"M 8.265625 -5.984375 L 8.265625 -4.765625 L 0.671875 -4.765625 L 0.671875 -5.984375 Z M 8.265625 -2.859375 L 8.265625 -1.609375 L 0.671875 -1.609375 L 0.671875 -2.859375 Z \"/>\n",
       "</symbol>\n",
       "<symbol overflow=\"visible\" id=\"glyph2-4\">\n",
       "<path style=\"stroke:none;\" d=\"M 1.84375 -2.65625 C 1.925781 -1.90625 2.269531 -1.390625 2.875 -1.109375 C 3.1875 -0.960938 3.546875 -0.890625 3.953125 -0.890625 C 4.734375 -0.890625 5.3125 -1.132812 5.6875 -1.625 C 6.0625 -2.125 6.25 -2.675781 6.25 -3.28125 C 6.25 -4 6.023438 -4.554688 5.578125 -4.953125 C 5.128906 -5.359375 4.597656 -5.5625 3.984375 -5.5625 C 3.523438 -5.5625 3.132812 -5.472656 2.8125 -5.296875 C 2.5 -5.117188 2.226562 -4.878906 2 -4.578125 L 0.859375 -4.640625 L 1.65625 -10.25 L 7.0625 -10.25 L 7.0625 -8.984375 L 2.640625 -8.984375 L 2.1875 -6.078125 C 2.4375 -6.265625 2.664062 -6.40625 2.875 -6.5 C 3.269531 -6.65625 3.722656 -6.734375 4.234375 -6.734375 C 5.179688 -6.734375 5.988281 -6.425781 6.65625 -5.8125 C 7.320312 -5.195312 7.65625 -4.414062 7.65625 -3.46875 C 7.65625 -2.488281 7.347656 -1.617188 6.734375 -0.859375 C 6.128906 -0.109375 5.160156 0.265625 3.828125 0.265625 C 2.984375 0.265625 2.234375 0.0234375 1.578125 -0.453125 C 0.921875 -0.929688 0.554688 -1.664062 0.484375 -2.65625 Z \"/>\n",
       "</symbol>\n",
       "<symbol overflow=\"visible\" id=\"glyph2-5\">\n",
       "<path style=\"stroke:none;\" d=\"M 10.15625 -5.0625 C 10.851562 -5.0625 11.445312 -4.8125 11.9375 -4.3125 C 12.4375 -3.820312 12.6875 -3.226562 12.6875 -2.53125 C 12.6875 -1.832031 12.4375 -1.234375 11.9375 -0.734375 C 11.445312 -0.242188 10.851562 0 10.15625 0 C 9.457031 0 8.859375 -0.242188 8.359375 -0.734375 C 7.867188 -1.234375 7.625 -1.832031 7.625 -2.53125 C 7.625 -3.226562 7.867188 -3.820312 8.359375 -4.3125 C 8.859375 -4.8125 9.457031 -5.0625 10.15625 -5.0625 Z M 9.109375 -10.375 L 9.90625 -10.375 L 4.078125 0.28125 L 3.28125 0.28125 Z M 3.015625 -6.0625 C 3.429688 -6.0625 3.785156 -6.207031 4.078125 -6.5 C 4.367188 -6.800781 4.515625 -7.15625 4.515625 -7.5625 C 4.515625 -7.976562 4.367188 -8.332031 4.078125 -8.625 C 3.785156 -8.914062 3.429688 -9.0625 3.015625 -9.0625 C 2.597656 -9.0625 2.242188 -8.914062 1.953125 -8.625 C 1.660156 -8.34375 1.515625 -7.988281 1.515625 -7.5625 C 1.515625 -7.15625 1.660156 -6.800781 1.953125 -6.5 C 2.242188 -6.207031 2.597656 -6.0625 3.015625 -6.0625 Z M 3.015625 -10.109375 C 3.710938 -10.109375 4.304688 -9.859375 4.796875 -9.359375 C 5.296875 -8.867188 5.546875 -8.269531 5.546875 -7.5625 C 5.546875 -6.863281 5.296875 -6.265625 4.796875 -5.765625 C 4.304688 -5.273438 3.710938 -5.03125 3.015625 -5.03125 C 2.316406 -5.03125 1.71875 -5.273438 1.21875 -5.765625 C 0.726562 -6.265625 0.484375 -6.863281 0.484375 -7.5625 C 0.484375 -8.269531 0.726562 -8.867188 1.21875 -9.359375 C 1.71875 -9.859375 2.316406 -10.109375 3.015625 -10.109375 Z M 10.15625 -1.03125 C 10.570312 -1.03125 10.925781 -1.175781 11.21875 -1.46875 C 11.507812 -1.769531 11.65625 -2.125 11.65625 -2.53125 C 11.65625 -2.945312 11.507812 -3.300781 11.21875 -3.59375 C 10.925781 -3.882812 10.570312 -4.03125 10.15625 -4.03125 C 9.738281 -4.03125 9.382812 -3.882812 9.09375 -3.59375 C 8.800781 -3.300781 8.65625 -2.945312 8.65625 -2.53125 C 8.65625 -2.125 8.800781 -1.769531 9.09375 -1.46875 C 9.382812 -1.175781 9.738281 -1.03125 10.15625 -1.03125 Z \"/>\n",
       "</symbol>\n",
       "</g>\n",
       "<clipPath id=\"clip1\">\n",
       "  <path d=\"M 139 59.039062 L 141 59.039062 L 141 215.558594 L 139 215.558594 Z \"/>\n",
       "</clipPath>\n",
       "<clipPath id=\"clip2\">\n",
       "  <path d=\"M 59.039062 81 L 258.757812 81 L 258.757812 83 L 59.039062 83 Z \"/>\n",
       "</clipPath>\n",
       "</defs>\n",
       "<g id=\"surface1085\">\n",
       "<rect x=\"0\" y=\"0\" width=\"288\" height=\"288\" style=\"fill:rgb(100%,100%,100%);fill-opacity:1;stroke:none;\"/>\n",
       "<path style=\"fill:none;stroke-width:1;stroke-linecap:round;stroke-linejoin:round;stroke:rgb(0%,0%,0%);stroke-opacity:1;stroke-miterlimit:10;\" d=\"M 66.398438 208.800781 L 73.050781 192.222656 L 80.441406 175.648438 L 102.609375 122.960938 L 110 112.453125 L 124.777344 94.992188 L 139.554688 81.671875 L 176.503906 68.054688 L 213.453125 65.390625 L 250.398438 64.800781 \"/>\n",
       "<path style=\"fill:none;stroke-width:1;stroke-linecap:round;stroke-linejoin:round;stroke:rgb(0%,0%,0%);stroke-opacity:1;stroke-miterlimit:10;\" d=\"M 65.660156 214.558594 L 250.398438 214.558594 \"/>\n",
       "<path style=\"fill:none;stroke-width:1;stroke-linecap:round;stroke-linejoin:round;stroke:rgb(0%,0%,0%);stroke-opacity:1;stroke-miterlimit:10;\" d=\"M 65.660156 214.558594 L 65.660156 221.761719 \"/>\n",
       "<path style=\"fill:none;stroke-width:1;stroke-linecap:round;stroke-linejoin:round;stroke:rgb(0%,0%,0%);stroke-opacity:1;stroke-miterlimit:10;\" d=\"M 102.609375 214.558594 L 102.609375 221.761719 \"/>\n",
       "<path style=\"fill:none;stroke-width:1;stroke-linecap:round;stroke-linejoin:round;stroke:rgb(0%,0%,0%);stroke-opacity:1;stroke-miterlimit:10;\" d=\"M 139.554688 214.558594 L 139.554688 221.761719 \"/>\n",
       "<path style=\"fill:none;stroke-width:1;stroke-linecap:round;stroke-linejoin:round;stroke:rgb(0%,0%,0%);stroke-opacity:1;stroke-miterlimit:10;\" d=\"M 176.503906 214.558594 L 176.503906 221.761719 \"/>\n",
       "<path style=\"fill:none;stroke-width:1;stroke-linecap:round;stroke-linejoin:round;stroke:rgb(0%,0%,0%);stroke-opacity:1;stroke-miterlimit:10;\" d=\"M 213.453125 214.558594 L 213.453125 221.761719 \"/>\n",
       "<path style=\"fill:none;stroke-width:1;stroke-linecap:round;stroke-linejoin:round;stroke:rgb(0%,0%,0%);stroke-opacity:1;stroke-miterlimit:10;\" d=\"M 250.398438 214.558594 L 250.398438 221.761719 \"/>\n",
       "<g style=\"fill:rgb(0%,0%,0%);fill-opacity:1;\">\n",
       "  <use xlink:href=\"#glyph0-1\" x=\"62.183594\" y=\"241.921875\"/>\n",
       "</g>\n",
       "<g style=\"fill:rgb(0%,0%,0%);fill-opacity:1;\">\n",
       "  <use xlink:href=\"#glyph0-2\" x=\"92.179688\" y=\"241.921875\"/>\n",
       "  <use xlink:href=\"#glyph0-1\" x=\"99.131592\" y=\"241.921875\"/>\n",
       "  <use xlink:href=\"#glyph0-1\" x=\"106.083496\" y=\"241.921875\"/>\n",
       "</g>\n",
       "<g style=\"fill:rgb(0%,0%,0%);fill-opacity:1;\">\n",
       "  <use xlink:href=\"#glyph0-3\" x=\"125.652344\" y=\"241.921875\"/>\n",
       "  <use xlink:href=\"#glyph0-1\" x=\"132.604248\" y=\"241.921875\"/>\n",
       "  <use xlink:href=\"#glyph0-1\" x=\"139.556152\" y=\"241.921875\"/>\n",
       "  <use xlink:href=\"#glyph0-1\" x=\"146.508057\" y=\"241.921875\"/>\n",
       "</g>\n",
       "<g style=\"fill:rgb(0%,0%,0%);fill-opacity:1;\">\n",
       "  <use xlink:href=\"#glyph0-4\" x=\"199.550781\" y=\"241.921875\"/>\n",
       "  <use xlink:href=\"#glyph0-1\" x=\"206.502686\" y=\"241.921875\"/>\n",
       "  <use xlink:href=\"#glyph0-1\" x=\"213.45459\" y=\"241.921875\"/>\n",
       "  <use xlink:href=\"#glyph0-1\" x=\"220.406494\" y=\"241.921875\"/>\n",
       "</g>\n",
       "<path style=\"fill:none;stroke-width:1;stroke-linecap:round;stroke-linejoin:round;stroke:rgb(0%,0%,0%);stroke-opacity:1;stroke-miterlimit:10;\" d=\"M 59.039062 212.648438 L 59.039062 64.652344 \"/>\n",
       "<path style=\"fill:none;stroke-width:1;stroke-linecap:round;stroke-linejoin:round;stroke:rgb(0%,0%,0%);stroke-opacity:1;stroke-miterlimit:10;\" d=\"M 59.039062 212.648438 L 51.839844 212.648438 \"/>\n",
       "<path style=\"fill:none;stroke-width:1;stroke-linecap:round;stroke-linejoin:round;stroke:rgb(0%,0%,0%);stroke-opacity:1;stroke-miterlimit:10;\" d=\"M 59.039062 183.046875 L 51.839844 183.046875 \"/>\n",
       "<path style=\"fill:none;stroke-width:1;stroke-linecap:round;stroke-linejoin:round;stroke:rgb(0%,0%,0%);stroke-opacity:1;stroke-miterlimit:10;\" d=\"M 59.039062 153.449219 L 51.839844 153.449219 \"/>\n",
       "<path style=\"fill:none;stroke-width:1;stroke-linecap:round;stroke-linejoin:round;stroke:rgb(0%,0%,0%);stroke-opacity:1;stroke-miterlimit:10;\" d=\"M 59.039062 123.851562 L 51.839844 123.851562 \"/>\n",
       "<path style=\"fill:none;stroke-width:1;stroke-linecap:round;stroke-linejoin:round;stroke:rgb(0%,0%,0%);stroke-opacity:1;stroke-miterlimit:10;\" d=\"M 59.039062 94.25 L 51.839844 94.25 \"/>\n",
       "<path style=\"fill:none;stroke-width:1;stroke-linecap:round;stroke-linejoin:round;stroke:rgb(0%,0%,0%);stroke-opacity:1;stroke-miterlimit:10;\" d=\"M 59.039062 64.652344 L 51.839844 64.652344 \"/>\n",
       "<g style=\"fill:rgb(0%,0%,0%);fill-opacity:1;\">\n",
       "  <use xlink:href=\"#glyph1-1\" x=\"43.199219\" y=\"221.335938\"/>\n",
       "  <use xlink:href=\"#glyph1-2\" x=\"43.199219\" y=\"214.384033\"/>\n",
       "  <use xlink:href=\"#glyph1-1\" x=\"43.199219\" y=\"210.911133\"/>\n",
       "</g>\n",
       "<g style=\"fill:rgb(0%,0%,0%);fill-opacity:1;\">\n",
       "  <use xlink:href=\"#glyph1-1\" x=\"43.199219\" y=\"191.734375\"/>\n",
       "  <use xlink:href=\"#glyph1-2\" x=\"43.199219\" y=\"184.782471\"/>\n",
       "  <use xlink:href=\"#glyph1-3\" x=\"43.199219\" y=\"181.30957\"/>\n",
       "</g>\n",
       "<g style=\"fill:rgb(0%,0%,0%);fill-opacity:1;\">\n",
       "  <use xlink:href=\"#glyph1-1\" x=\"43.199219\" y=\"162.136719\"/>\n",
       "  <use xlink:href=\"#glyph1-2\" x=\"43.199219\" y=\"155.184814\"/>\n",
       "  <use xlink:href=\"#glyph1-4\" x=\"43.199219\" y=\"151.711914\"/>\n",
       "</g>\n",
       "<g style=\"fill:rgb(0%,0%,0%);fill-opacity:1;\">\n",
       "  <use xlink:href=\"#glyph1-1\" x=\"43.199219\" y=\"132.539062\"/>\n",
       "  <use xlink:href=\"#glyph1-2\" x=\"43.199219\" y=\"125.587158\"/>\n",
       "  <use xlink:href=\"#glyph1-5\" x=\"43.199219\" y=\"122.114258\"/>\n",
       "</g>\n",
       "<g style=\"fill:rgb(0%,0%,0%);fill-opacity:1;\">\n",
       "  <use xlink:href=\"#glyph1-1\" x=\"43.199219\" y=\"102.9375\"/>\n",
       "  <use xlink:href=\"#glyph1-2\" x=\"43.199219\" y=\"95.985596\"/>\n",
       "  <use xlink:href=\"#glyph1-6\" x=\"43.199219\" y=\"92.512695\"/>\n",
       "</g>\n",
       "<g style=\"fill:rgb(0%,0%,0%);fill-opacity:1;\">\n",
       "  <use xlink:href=\"#glyph1-7\" x=\"43.199219\" y=\"73.339844\"/>\n",
       "  <use xlink:href=\"#glyph1-2\" x=\"43.199219\" y=\"66.387939\"/>\n",
       "  <use xlink:href=\"#glyph1-1\" x=\"43.199219\" y=\"62.915039\"/>\n",
       "</g>\n",
       "<path style=\"fill:none;stroke-width:1;stroke-linecap:round;stroke-linejoin:round;stroke:rgb(0%,0%,0%);stroke-opacity:1;stroke-miterlimit:10;\" d=\"M 59.039062 214.558594 L 257.761719 214.558594 L 257.761719 59.039062 L 59.039062 59.039062 L 59.039062 214.558594 \"/>\n",
       "<g style=\"fill:rgb(0%,0%,0%);fill-opacity:1;\">\n",
       "  <use xlink:href=\"#glyph2-1\" x=\"133.332031\" y=\"34.863281\"/>\n",
       "  <use xlink:href=\"#glyph2-2\" x=\"143.274384\" y=\"34.863281\"/>\n",
       "  <use xlink:href=\"#glyph2-3\" x=\"153.216736\" y=\"34.863281\"/>\n",
       "  <use xlink:href=\"#glyph2-4\" x=\"161.921753\" y=\"34.863281\"/>\n",
       "  <use xlink:href=\"#glyph2-5\" x=\"170.211899\" y=\"34.863281\"/>\n",
       "</g>\n",
       "<g style=\"fill:rgb(0%,0%,0%);fill-opacity:1;\">\n",
       "  <use xlink:href=\"#glyph0-5\" x=\"134.773438\" y=\"270.71875\"/>\n",
       "  <use xlink:href=\"#glyph0-6\" x=\"141.725342\" y=\"270.71875\"/>\n",
       "  <use xlink:href=\"#glyph0-7\" x=\"145.198242\" y=\"270.71875\"/>\n",
       "  <use xlink:href=\"#glyph0-8\" x=\"152.150146\" y=\"270.71875\"/>\n",
       "  <use xlink:href=\"#glyph0-6\" x=\"155.623047\" y=\"270.71875\"/>\n",
       "  <use xlink:href=\"#glyph0-9\" x=\"159.095947\" y=\"270.71875\"/>\n",
       "  <use xlink:href=\"#glyph0-7\" x=\"162.568848\" y=\"270.71875\"/>\n",
       "  <use xlink:href=\"#glyph0-10\" x=\"169.520752\" y=\"270.71875\"/>\n",
       "  <use xlink:href=\"#glyph0-10\" x=\"175.770752\" y=\"270.71875\"/>\n",
       "</g>\n",
       "<g style=\"fill:rgb(0%,0%,0%);fill-opacity:1;\">\n",
       "  <use xlink:href=\"#glyph1-8\" x=\"14.398438\" y=\"153.824219\"/>\n",
       "  <use xlink:href=\"#glyph1-9\" x=\"14.398438\" y=\"146.872314\"/>\n",
       "  <use xlink:href=\"#glyph1-10\" x=\"14.398438\" y=\"139.92041\"/>\n",
       "  <use xlink:href=\"#glyph1-11\" x=\"14.398438\" y=\"130.893311\"/>\n",
       "  <use xlink:href=\"#glyph1-12\" x=\"14.398438\" y=\"123.941406\"/>\n",
       "</g>\n",
       "<g clip-path=\"url(#clip1)\" clip-rule=\"nonzero\">\n",
       "<path style=\"fill:none;stroke-width:1;stroke-linecap:round;stroke-linejoin:round;stroke:rgb(100%,0%,0%);stroke-opacity:1;stroke-miterlimit:10;\" d=\"M 139.554688 214.558594 L 139.554688 59.039062 \"/>\n",
       "</g>\n",
       "<g clip-path=\"url(#clip2)\" clip-rule=\"nonzero\">\n",
       "<path style=\"fill:none;stroke-width:1;stroke-linecap:round;stroke-linejoin:round;stroke:rgb(100%,0%,0%);stroke-opacity:1;stroke-miterlimit:10;\" d=\"M 59.039062 81.523438 L 257.761719 81.523438 \"/>\n",
       "</g>\n",
       "</g>\n",
       "</svg>\n"
      ],
      "text/plain": [
       "Plot with title \"ES=5%\""
      ]
     },
     "metadata": {
      "image/svg+xml": {
       "isolated": true
      }
     },
     "output_type": "display_data"
    }
   ],
   "source": [
    "ntosses <- c(10,100,200,500,600,800,1000,1500,2000,2500)\n",
    "res <- sapply(ntosses,coin.power,prob=.55)\n",
    "names(res) <- ntosses\n",
    "plot( ntosses, res , type=\"l\", main=\"ES=5%\",xlab=\"# of toss\", ylab=\"power\")\n",
    "abline(v=1000, col=\"red\")\n",
    "abline(h=.886, col=\"red\")\n",
    "res[ntosses == 1000]"
   ]
  },
  {
   "cell_type": "markdown",
   "metadata": {},
   "source": [
    "A researcher that would start an experiment using 1000 tosses will have a probability of finding the correct conlusion of about 90%."
   ]
  },
  {
   "cell_type": "code",
   "execution_count": 141,
   "metadata": {},
   "outputs": [
    {
     "data": {
      "image/png": "[encoded data removed]",
      "image/svg+xml": [
       "<?xml version=\"1.0\" encoding=\"UTF-8\"?>\n",
       "<svg xmlns=\"http://www.w3.org/2000/svg\" xmlns:xlink=\"http://www.w3.org/1999/xlink\" width=\"288pt\" height=\"288pt\" viewBox=\"0 0 288 288\" version=\"1.1\">\n",
       "<defs>\n",
       "<g>\n",
       "<symbol overflow=\"visible\" id=\"glyph0-0\">\n",
       "<path style=\"stroke:none;\" d=\"M 0.40625 0 L 0.40625 -8.96875 L 7.515625 -8.96875 L 7.515625 0 Z M 6.390625 -1.125 L 6.390625 -7.84375 L 1.53125 -7.84375 L 1.53125 -1.125 Z \"/>\n",
       "</symbol>\n",
       "<symbol overflow=\"visible\" id=\"glyph0-1\">\n",
       "<path style=\"stroke:none;\" d=\"M 3.375 -8.734375 C 4.507812 -8.734375 5.328125 -8.269531 5.828125 -7.34375 C 6.222656 -6.625 6.421875 -5.632812 6.421875 -4.375 C 6.421875 -3.1875 6.242188 -2.207031 5.890625 -1.4375 C 5.378906 -0.320312 4.539062 0.234375 3.375 0.234375 C 2.320312 0.234375 1.539062 -0.21875 1.03125 -1.125 C 0.601562 -1.882812 0.390625 -2.90625 0.390625 -4.1875 C 0.390625 -5.1875 0.519531 -6.039062 0.78125 -6.75 C 1.257812 -8.070312 2.125 -8.734375 3.375 -8.734375 Z M 3.375 -0.765625 C 3.9375 -0.765625 4.382812 -1.015625 4.71875 -1.515625 C 5.0625 -2.023438 5.234375 -2.96875 5.234375 -4.34375 C 5.234375 -5.332031 5.109375 -6.144531 4.859375 -6.78125 C 4.617188 -7.425781 4.148438 -7.75 3.453125 -7.75 C 2.804688 -7.75 2.332031 -7.441406 2.03125 -6.828125 C 1.726562 -6.222656 1.578125 -5.332031 1.578125 -4.15625 C 1.578125 -3.257812 1.675781 -2.539062 1.875 -2 C 2.164062 -1.175781 2.664062 -0.765625 3.375 -0.765625 Z \"/>\n",
       "</symbol>\n",
       "<symbol overflow=\"visible\" id=\"glyph0-2\">\n",
       "<path style=\"stroke:none;\" d=\"M 1.546875 -2.234375 C 1.617188 -1.597656 1.910156 -1.160156 2.421875 -0.921875 C 2.679688 -0.804688 2.984375 -0.75 3.328125 -0.75 C 3.972656 -0.75 4.453125 -0.953125 4.765625 -1.359375 C 5.078125 -1.773438 5.234375 -2.238281 5.234375 -2.75 C 5.234375 -3.351562 5.046875 -3.820312 4.671875 -4.15625 C 4.304688 -4.488281 3.863281 -4.65625 3.34375 -4.65625 C 2.957031 -4.65625 2.628906 -4.582031 2.359375 -4.4375 C 2.085938 -4.289062 1.859375 -4.085938 1.671875 -3.828125 L 0.71875 -3.890625 L 1.390625 -8.59375 L 5.921875 -8.59375 L 5.921875 -7.53125 L 2.203125 -7.53125 L 1.84375 -5.109375 C 2.039062 -5.253906 2.234375 -5.367188 2.421875 -5.453125 C 2.742188 -5.585938 3.117188 -5.65625 3.546875 -5.65625 C 4.347656 -5.65625 5.023438 -5.394531 5.578125 -4.875 C 6.140625 -4.363281 6.421875 -3.707031 6.421875 -2.90625 C 6.421875 -2.082031 6.164062 -1.351562 5.65625 -0.71875 C 5.144531 -0.09375 4.328125 0.21875 3.203125 0.21875 C 2.492188 0.21875 1.863281 0.0195312 1.3125 -0.375 C 0.769531 -0.78125 0.46875 -1.398438 0.40625 -2.234375 Z \"/>\n",
       "</symbol>\n",
       "<symbol overflow=\"visible\" id=\"glyph0-3\">\n",
       "<path style=\"stroke:none;\" d=\"M 1.203125 -6.1875 L 1.203125 -7.03125 C 1.992188 -7.101562 2.546875 -7.226562 2.859375 -7.40625 C 3.171875 -7.59375 3.40625 -8.023438 3.5625 -8.703125 L 4.421875 -8.703125 L 4.421875 0 L 3.25 0 L 3.25 -6.1875 Z \"/>\n",
       "</symbol>\n",
       "<symbol overflow=\"visible\" id=\"glyph0-4\">\n",
       "<path style=\"stroke:none;\" d=\"M 0.390625 0 C 0.429688 -0.75 0.585938 -1.398438 0.859375 -1.953125 C 1.128906 -2.515625 1.65625 -3.023438 2.4375 -3.484375 L 3.609375 -4.15625 C 4.140625 -4.46875 4.507812 -4.726562 4.71875 -4.9375 C 5.050781 -5.28125 5.21875 -5.671875 5.21875 -6.109375 C 5.21875 -6.609375 5.0625 -7.007812 4.75 -7.3125 C 4.445312 -7.613281 4.046875 -7.765625 3.546875 -7.765625 C 2.785156 -7.765625 2.265625 -7.476562 1.984375 -6.90625 C 1.828125 -6.601562 1.738281 -6.179688 1.71875 -5.640625 L 0.609375 -5.640625 C 0.617188 -6.398438 0.757812 -7.019531 1.03125 -7.5 C 1.5 -8.34375 2.335938 -8.765625 3.546875 -8.765625 C 4.546875 -8.765625 5.273438 -8.492188 5.734375 -7.953125 C 6.203125 -7.410156 6.4375 -6.8125 6.4375 -6.15625 C 6.4375 -5.457031 6.1875 -4.859375 5.6875 -4.359375 C 5.40625 -4.066406 4.894531 -3.71875 4.15625 -3.3125 L 3.328125 -2.84375 C 2.929688 -2.625 2.617188 -2.414062 2.390625 -2.21875 C 1.984375 -1.863281 1.726562 -1.46875 1.625 -1.03125 L 6.390625 -1.03125 L 6.390625 0 Z \"/>\n",
       "</symbol>\n",
       "<symbol overflow=\"visible\" id=\"glyph0-5\">\n",
       "<path style=\"stroke:none;\" d=\"M 0.1875 -3.421875 L 1.609375 -3.421875 L 2.171875 -5.53125 L 0.765625 -5.53125 L 0.953125 -6.234375 L 2.375 -6.234375 L 3.09375 -8.96875 L 4 -8.96875 L 3.265625 -6.234375 L 4.609375 -6.234375 L 5.359375 -8.96875 L 6.265625 -8.96875 L 5.53125 -6.234375 L 6.9375 -6.234375 L 6.75 -5.53125 L 5.328125 -5.53125 L 4.75 -3.421875 L 6.171875 -3.421875 L 5.984375 -2.71875 L 4.578125 -2.71875 L 3.828125 0 L 2.9375 0 L 3.671875 -2.71875 L 2.3125 -2.71875 L 1.59375 0 L 0.671875 0 L 1.421875 -2.71875 L 0 -2.71875 Z M 3.84375 -3.421875 L 4.421875 -5.53125 L 3.078125 -5.53125 L 2.515625 -3.421875 Z \"/>\n",
       "</symbol>\n",
       "<symbol overflow=\"visible\" id=\"glyph0-6\">\n",
       "<path style=\"stroke:none;\" d=\"\"/>\n",
       "</symbol>\n",
       "<symbol overflow=\"visible\" id=\"glyph0-7\">\n",
       "<path style=\"stroke:none;\" d=\"M 3.40625 -0.703125 C 4.132812 -0.703125 4.628906 -0.976562 4.890625 -1.53125 C 5.160156 -2.082031 5.296875 -2.695312 5.296875 -3.375 C 5.296875 -3.988281 5.203125 -4.484375 5.015625 -4.859375 C 4.703125 -5.460938 4.164062 -5.765625 3.40625 -5.765625 C 2.738281 -5.765625 2.25 -5.507812 1.9375 -5 C 1.632812 -4.488281 1.484375 -3.867188 1.484375 -3.140625 C 1.484375 -2.441406 1.632812 -1.859375 1.9375 -1.390625 C 2.25 -0.929688 2.738281 -0.703125 3.40625 -0.703125 Z M 3.4375 -6.71875 C 4.28125 -6.71875 4.992188 -6.4375 5.578125 -5.875 C 6.160156 -5.320312 6.453125 -4.5 6.453125 -3.40625 C 6.453125 -2.351562 6.191406 -1.484375 5.671875 -0.796875 C 5.160156 -0.109375 4.367188 0.234375 3.296875 0.234375 C 2.398438 0.234375 1.6875 -0.0664062 1.15625 -0.671875 C 0.625 -1.285156 0.359375 -2.101562 0.359375 -3.125 C 0.359375 -4.21875 0.632812 -5.085938 1.1875 -5.734375 C 1.75 -6.390625 2.5 -6.71875 3.4375 -6.71875 Z M 3.40625 -6.703125 Z \"/>\n",
       "</symbol>\n",
       "<symbol overflow=\"visible\" id=\"glyph0-8\">\n",
       "<path style=\"stroke:none;\" d=\"M 1.078125 -7.53125 C 1.097656 -7.988281 1.175781 -8.320312 1.3125 -8.53125 C 1.570312 -8.90625 2.066406 -9.09375 2.796875 -9.09375 C 2.867188 -9.09375 2.941406 -9.085938 3.015625 -9.078125 C 3.085938 -9.078125 3.171875 -9.070312 3.265625 -9.0625 L 3.265625 -8.0625 C 3.148438 -8.070312 3.066406 -8.078125 3.015625 -8.078125 C 2.960938 -8.085938 2.914062 -8.09375 2.875 -8.09375 C 2.539062 -8.09375 2.335938 -8.003906 2.265625 -7.828125 C 2.203125 -7.648438 2.171875 -7.207031 2.171875 -6.5 L 3.265625 -6.5 L 3.265625 -5.640625 L 2.171875 -5.640625 L 2.171875 0 L 1.078125 0 L 1.078125 -5.640625 L 0.171875 -5.640625 L 0.171875 -6.5 L 1.078125 -6.5 Z \"/>\n",
       "</symbol>\n",
       "<symbol overflow=\"visible\" id=\"glyph0-9\">\n",
       "<path style=\"stroke:none;\" d=\"M 1.03125 -8.359375 L 2.140625 -8.359375 L 2.140625 -6.53125 L 3.1875 -6.53125 L 3.1875 -5.640625 L 2.140625 -5.640625 L 2.140625 -1.375 C 2.140625 -1.144531 2.21875 -0.992188 2.375 -0.921875 C 2.457031 -0.867188 2.597656 -0.84375 2.796875 -0.84375 C 2.847656 -0.84375 2.90625 -0.84375 2.96875 -0.84375 C 3.03125 -0.851562 3.101562 -0.859375 3.1875 -0.859375 L 3.1875 0 C 3.050781 0.0390625 2.914062 0.0664062 2.78125 0.078125 C 2.644531 0.0976562 2.5 0.109375 2.34375 0.109375 C 1.832031 0.109375 1.484375 -0.0195312 1.296875 -0.28125 C 1.117188 -0.550781 1.03125 -0.894531 1.03125 -1.3125 L 1.03125 -5.640625 L 0.140625 -5.640625 L 0.140625 -6.53125 L 1.03125 -6.53125 Z \"/>\n",
       "</symbol>\n",
       "<symbol overflow=\"visible\" id=\"glyph0-10\">\n",
       "<path style=\"stroke:none;\" d=\"M 1.453125 -2.046875 C 1.484375 -1.679688 1.578125 -1.398438 1.734375 -1.203125 C 2.015625 -0.847656 2.492188 -0.671875 3.171875 -0.671875 C 3.578125 -0.671875 3.9375 -0.757812 4.25 -0.9375 C 4.5625 -1.113281 4.71875 -1.390625 4.71875 -1.765625 C 4.71875 -2.046875 4.59375 -2.257812 4.34375 -2.40625 C 4.1875 -2.5 3.875 -2.601562 3.40625 -2.71875 L 2.53125 -2.9375 C 1.96875 -3.070312 1.554688 -3.226562 1.296875 -3.40625 C 0.828125 -3.695312 0.59375 -4.101562 0.59375 -4.625 C 0.59375 -5.25 0.8125 -5.75 1.25 -6.125 C 1.695312 -6.507812 2.296875 -6.703125 3.046875 -6.703125 C 4.035156 -6.703125 4.75 -6.414062 5.1875 -5.84375 C 5.457031 -5.476562 5.585938 -5.082031 5.578125 -4.65625 L 4.546875 -4.65625 C 4.523438 -4.90625 4.4375 -5.128906 4.28125 -5.328125 C 4.03125 -5.617188 3.59375 -5.765625 2.96875 -5.765625 C 2.550781 -5.765625 2.234375 -5.6875 2.015625 -5.53125 C 1.804688 -5.375 1.703125 -5.164062 1.703125 -4.90625 C 1.703125 -4.613281 1.84375 -4.382812 2.125 -4.21875 C 2.289062 -4.113281 2.53125 -4.023438 2.84375 -3.953125 L 3.578125 -3.765625 C 4.359375 -3.578125 4.882812 -3.394531 5.15625 -3.21875 C 5.582031 -2.9375 5.796875 -2.492188 5.796875 -1.890625 C 5.796875 -1.304688 5.570312 -0.800781 5.125 -0.375 C 4.6875 0.0390625 4.019531 0.25 3.125 0.25 C 2.144531 0.25 1.453125 0.03125 1.046875 -0.40625 C 0.648438 -0.851562 0.4375 -1.398438 0.40625 -2.046875 Z M 3.078125 -6.703125 Z \"/>\n",
       "</symbol>\n",
       "<symbol overflow=\"visible\" id=\"glyph1-0\">\n",
       "<path style=\"stroke:none;\" d=\"M 0 -0.40625 L -8.96875 -0.40625 L -8.96875 -7.515625 L 0 -7.515625 Z M -1.125 -6.390625 L -7.84375 -6.390625 L -7.84375 -1.53125 L -1.125 -1.53125 Z \"/>\n",
       "</symbol>\n",
       "<symbol overflow=\"visible\" id=\"glyph1-1\">\n",
       "<path style=\"stroke:none;\" d=\"M -8.734375 -3.375 C -8.734375 -4.507812 -8.269531 -5.328125 -7.34375 -5.828125 C -6.625 -6.222656 -5.632812 -6.421875 -4.375 -6.421875 C -3.1875 -6.421875 -2.207031 -6.242188 -1.4375 -5.890625 C -0.320312 -5.378906 0.234375 -4.539062 0.234375 -3.375 C 0.234375 -2.320312 -0.21875 -1.539062 -1.125 -1.03125 C -1.882812 -0.601562 -2.90625 -0.390625 -4.1875 -0.390625 C -5.1875 -0.390625 -6.039062 -0.519531 -6.75 -0.78125 C -8.070312 -1.257812 -8.734375 -2.125 -8.734375 -3.375 Z M -0.765625 -3.375 C -0.765625 -3.9375 -1.015625 -4.382812 -1.515625 -4.71875 C -2.023438 -5.0625 -2.96875 -5.234375 -4.34375 -5.234375 C -5.332031 -5.234375 -6.144531 -5.109375 -6.78125 -4.859375 C -7.425781 -4.617188 -7.75 -4.148438 -7.75 -3.453125 C -7.75 -2.804688 -7.441406 -2.332031 -6.828125 -2.03125 C -6.222656 -1.726562 -5.332031 -1.578125 -4.15625 -1.578125 C -3.257812 -1.578125 -2.539062 -1.675781 -2 -1.875 C -1.175781 -2.164062 -0.765625 -2.664062 -0.765625 -3.375 Z \"/>\n",
       "</symbol>\n",
       "<symbol overflow=\"visible\" id=\"glyph1-2\">\n",
       "<path style=\"stroke:none;\" d=\"M -1.328125 -1.0625 L -1.328125 -2.34375 L 0 -2.34375 L 0 -1.0625 Z \"/>\n",
       "</symbol>\n",
       "<symbol overflow=\"visible\" id=\"glyph1-3\">\n",
       "<path style=\"stroke:none;\" d=\"M 0 -0.390625 C -0.75 -0.429688 -1.398438 -0.585938 -1.953125 -0.859375 C -2.515625 -1.128906 -3.023438 -1.65625 -3.484375 -2.4375 L -4.15625 -3.609375 C -4.46875 -4.140625 -4.726562 -4.507812 -4.9375 -4.71875 C -5.28125 -5.050781 -5.671875 -5.21875 -6.109375 -5.21875 C -6.609375 -5.21875 -7.007812 -5.0625 -7.3125 -4.75 C -7.613281 -4.445312 -7.765625 -4.046875 -7.765625 -3.546875 C -7.765625 -2.785156 -7.476562 -2.265625 -6.90625 -1.984375 C -6.601562 -1.828125 -6.179688 -1.738281 -5.640625 -1.71875 L -5.640625 -0.609375 C -6.398438 -0.617188 -7.019531 -0.757812 -7.5 -1.03125 C -8.34375 -1.5 -8.765625 -2.335938 -8.765625 -3.546875 C -8.765625 -4.546875 -8.492188 -5.273438 -7.953125 -5.734375 C -7.410156 -6.203125 -6.8125 -6.4375 -6.15625 -6.4375 C -5.457031 -6.4375 -4.859375 -6.1875 -4.359375 -5.6875 C -4.066406 -5.40625 -3.71875 -4.894531 -3.3125 -4.15625 L -2.84375 -3.328125 C -2.625 -2.929688 -2.414062 -2.617188 -2.21875 -2.390625 C -1.863281 -1.984375 -1.46875 -1.726562 -1.03125 -1.625 L -1.03125 -6.390625 L 0 -6.390625 Z \"/>\n",
       "</symbol>\n",
       "<symbol overflow=\"visible\" id=\"glyph1-4\">\n",
       "<path style=\"stroke:none;\" d=\"M -3.09375 -4.125 L -7.0625 -4.125 L -3.09375 -1.328125 Z M 0 -4.15625 L -2.140625 -4.15625 L -2.140625 -0.3125 L -3.203125 -0.3125 L -8.765625 -4.328125 L -8.765625 -5.25 L -3.09375 -5.25 L -3.09375 -6.53125 L -2.140625 -6.53125 L -2.140625 -5.25 L 0 -5.25 Z \"/>\n",
       "</symbol>\n",
       "<symbol overflow=\"visible\" id=\"glyph1-5\">\n",
       "<path style=\"stroke:none;\" d=\"M -8.78125 -3.65625 C -8.78125 -4.632812 -8.523438 -5.316406 -8.015625 -5.703125 C -7.503906 -6.085938 -6.984375 -6.28125 -6.453125 -6.28125 L -6.453125 -5.1875 C -6.796875 -5.125 -7.066406 -5.019531 -7.265625 -4.875 C -7.628906 -4.613281 -7.8125 -4.210938 -7.8125 -3.671875 C -7.8125 -3.054688 -7.523438 -2.566406 -6.953125 -2.203125 C -6.390625 -1.847656 -5.578125 -1.648438 -4.515625 -1.609375 C -4.890625 -1.859375 -5.171875 -2.175781 -5.359375 -2.5625 C -5.515625 -2.90625 -5.59375 -3.296875 -5.59375 -3.734375 C -5.59375 -4.460938 -5.359375 -5.097656 -4.890625 -5.640625 C -4.421875 -6.191406 -3.722656 -6.46875 -2.796875 -6.46875 C -2.003906 -6.46875 -1.300781 -6.207031 -0.6875 -5.6875 C -0.0820312 -5.164062 0.21875 -4.429688 0.21875 -3.484375 C 0.21875 -2.660156 -0.0859375 -1.953125 -0.703125 -1.359375 C -1.328125 -0.765625 -2.375 -0.46875 -3.84375 -0.46875 C -4.925781 -0.46875 -5.847656 -0.597656 -6.609375 -0.859375 C -8.054688 -1.367188 -8.78125 -2.300781 -8.78125 -3.65625 Z M -0.75 -3.578125 C -0.75 -4.148438 -0.941406 -4.578125 -1.328125 -4.859375 C -1.722656 -5.148438 -2.179688 -5.296875 -2.703125 -5.296875 C -3.148438 -5.296875 -3.578125 -5.164062 -3.984375 -4.90625 C -4.390625 -4.65625 -4.59375 -4.191406 -4.59375 -3.515625 C -4.59375 -3.046875 -4.4375 -2.632812 -4.125 -2.28125 C -3.8125 -1.925781 -3.335938 -1.75 -2.703125 -1.75 C -2.148438 -1.75 -1.6875 -1.910156 -1.3125 -2.234375 C -0.9375 -2.554688 -0.75 -3.003906 -0.75 -3.578125 Z \"/>\n",
       "</symbol>\n",
       "<symbol overflow=\"visible\" id=\"glyph1-6\">\n",
       "<path style=\"stroke:none;\" d=\"M -5.078125 -3.40625 C -5.078125 -3.882812 -5.210938 -4.257812 -5.484375 -4.53125 C -5.753906 -4.800781 -6.078125 -4.9375 -6.453125 -4.9375 C -6.773438 -4.9375 -7.070312 -4.804688 -7.34375 -4.546875 C -7.613281 -4.285156 -7.75 -3.890625 -7.75 -3.359375 C -7.75 -2.828125 -7.613281 -2.441406 -7.34375 -2.203125 C -7.070312 -1.972656 -6.753906 -1.859375 -6.390625 -1.859375 C -5.984375 -1.859375 -5.660156 -2.007812 -5.421875 -2.3125 C -5.191406 -2.625 -5.078125 -2.988281 -5.078125 -3.40625 Z M -0.75 -3.46875 C -0.75 -3.976562 -0.882812 -4.398438 -1.15625 -4.734375 C -1.4375 -5.066406 -1.847656 -5.234375 -2.390625 -5.234375 C -2.953125 -5.234375 -3.378906 -5.0625 -3.671875 -4.71875 C -3.972656 -4.375 -4.125 -3.929688 -4.125 -3.390625 C -4.125 -2.859375 -3.972656 -2.425781 -3.671875 -2.09375 C -3.367188 -1.769531 -2.953125 -1.609375 -2.421875 -1.609375 C -1.972656 -1.609375 -1.582031 -1.757812 -1.25 -2.0625 C -0.914062 -2.363281 -0.75 -2.832031 -0.75 -3.46875 Z M -4.65625 -1.90625 C -4.789062 -1.601562 -4.941406 -1.363281 -5.109375 -1.1875 C -5.441406 -0.863281 -5.867188 -0.703125 -6.390625 -0.703125 C -7.035156 -0.703125 -7.59375 -0.9375 -8.0625 -1.40625 C -8.53125 -1.882812 -8.765625 -2.554688 -8.765625 -3.421875 C -8.765625 -4.265625 -8.539062 -4.921875 -8.09375 -5.390625 C -7.65625 -5.867188 -7.144531 -6.109375 -6.5625 -6.109375 C -6.007812 -6.109375 -5.566406 -5.96875 -5.234375 -5.6875 C -5.035156 -5.539062 -4.847656 -5.300781 -4.671875 -4.96875 C -4.503906 -5.332031 -4.3125 -5.617188 -4.09375 -5.828125 C -3.6875 -6.210938 -3.160156 -6.40625 -2.515625 -6.40625 C -1.742188 -6.40625 -1.085938 -6.144531 -0.546875 -5.625 C -0.015625 -5.113281 0.25 -4.382812 0.25 -3.4375 C 0.25 -2.59375 0.0195312 -1.875 -0.4375 -1.28125 C -0.90625 -0.695312 -1.578125 -0.40625 -2.453125 -0.40625 C -2.972656 -0.40625 -3.421875 -0.53125 -3.796875 -0.78125 C -4.171875 -1.03125 -4.457031 -1.40625 -4.65625 -1.90625 Z \"/>\n",
       "</symbol>\n",
       "<symbol overflow=\"visible\" id=\"glyph1-7\">\n",
       "<path style=\"stroke:none;\" d=\"M -6.1875 -1.203125 L -7.03125 -1.203125 C -7.101562 -1.992188 -7.226562 -2.546875 -7.40625 -2.859375 C -7.59375 -3.171875 -8.023438 -3.40625 -8.703125 -3.5625 L -8.703125 -4.421875 L 0 -4.421875 L 0 -3.25 L -6.1875 -3.25 Z \"/>\n",
       "</symbol>\n",
       "<symbol overflow=\"visible\" id=\"glyph1-8\">\n",
       "<path style=\"stroke:none;\" d=\"M -0.734375 -3.5625 C -0.734375 -4.070312 -0.945312 -4.5 -1.375 -4.84375 C -1.8125 -5.1875 -2.457031 -5.359375 -3.3125 -5.359375 C -3.832031 -5.359375 -4.28125 -5.28125 -4.65625 -5.125 C -5.375 -4.84375 -5.734375 -4.320312 -5.734375 -3.5625 C -5.734375 -2.800781 -5.351562 -2.28125 -4.59375 -2 C -4.1875 -1.851562 -3.671875 -1.78125 -3.046875 -1.78125 C -2.535156 -1.78125 -2.101562 -1.851562 -1.75 -2 C -1.070312 -2.28125 -0.734375 -2.800781 -0.734375 -3.5625 Z M -6.5 -0.71875 L -6.5 -1.78125 L -5.640625 -1.78125 C -5.929688 -2.007812 -6.160156 -2.253906 -6.328125 -2.515625 C -6.578125 -2.878906 -6.703125 -3.3125 -6.703125 -3.8125 C -6.703125 -4.550781 -6.414062 -5.175781 -5.84375 -5.6875 C -5.28125 -6.207031 -4.46875 -6.46875 -3.40625 -6.46875 C -1.988281 -6.46875 -0.972656 -6.097656 -0.359375 -5.359375 C 0.0234375 -4.890625 0.21875 -4.34375 0.21875 -3.71875 C 0.21875 -3.21875 0.109375 -2.800781 -0.109375 -2.46875 C -0.222656 -2.269531 -0.429688 -2.050781 -0.734375 -1.8125 L 2.609375 -1.8125 L 2.609375 -0.71875 Z \"/>\n",
       "</symbol>\n",
       "<symbol overflow=\"visible\" id=\"glyph1-9\">\n",
       "<path style=\"stroke:none;\" d=\"M -0.703125 -3.40625 C -0.703125 -4.132812 -0.976562 -4.628906 -1.53125 -4.890625 C -2.082031 -5.160156 -2.695312 -5.296875 -3.375 -5.296875 C -3.988281 -5.296875 -4.484375 -5.203125 -4.859375 -5.015625 C -5.460938 -4.703125 -5.765625 -4.164062 -5.765625 -3.40625 C -5.765625 -2.738281 -5.507812 -2.25 -5 -1.9375 C -4.488281 -1.632812 -3.867188 -1.484375 -3.140625 -1.484375 C -2.441406 -1.484375 -1.859375 -1.632812 -1.390625 -1.9375 C -0.929688 -2.25 -0.703125 -2.738281 -0.703125 -3.40625 Z M -6.71875 -3.4375 C -6.71875 -4.28125 -6.4375 -4.992188 -5.875 -5.578125 C -5.320312 -6.160156 -4.5 -6.453125 -3.40625 -6.453125 C -2.351562 -6.453125 -1.484375 -6.191406 -0.796875 -5.671875 C -0.109375 -5.160156 0.234375 -4.367188 0.234375 -3.296875 C 0.234375 -2.398438 -0.0664062 -1.6875 -0.671875 -1.15625 C -1.285156 -0.625 -2.101562 -0.359375 -3.125 -0.359375 C -4.21875 -0.359375 -5.085938 -0.632812 -5.734375 -1.1875 C -6.390625 -1.75 -6.71875 -2.5 -6.71875 -3.4375 Z M -6.703125 -3.40625 Z \"/>\n",
       "</symbol>\n",
       "<symbol overflow=\"visible\" id=\"glyph1-10\">\n",
       "<path style=\"stroke:none;\" d=\"M -6.53125 -1.3125 L -1.390625 -2.5625 L -6.53125 -3.84375 L -6.53125 -5.078125 L -1.421875 -6.359375 L -6.53125 -7.703125 L -6.53125 -8.796875 L 0 -6.890625 L 0 -5.75 L -5.0625 -4.421875 L 0 -3.140625 L 0 -2 L -6.53125 -0.109375 Z \"/>\n",
       "</symbol>\n",
       "<symbol overflow=\"visible\" id=\"glyph1-11\">\n",
       "<path style=\"stroke:none;\" d=\"M -6.6875 -3.53125 C -6.6875 -3.988281 -6.578125 -4.4375 -6.359375 -4.875 C -6.140625 -5.3125 -5.859375 -5.644531 -5.515625 -5.875 C -5.179688 -6.09375 -4.796875 -6.238281 -4.359375 -6.3125 C -4.054688 -6.375 -3.578125 -6.40625 -2.921875 -6.40625 L -2.921875 -1.625 C -2.253906 -1.632812 -1.71875 -1.785156 -1.3125 -2.078125 C -0.914062 -2.378906 -0.71875 -2.835938 -0.71875 -3.453125 C -0.71875 -4.023438 -0.90625 -4.484375 -1.28125 -4.828125 C -1.507812 -5.015625 -1.765625 -5.148438 -2.046875 -5.234375 L -2.046875 -6.3125 C -1.804688 -6.289062 -1.539062 -6.195312 -1.25 -6.03125 C -0.957031 -5.875 -0.71875 -5.695312 -0.53125 -5.5 C -0.195312 -5.164062 0.0234375 -4.75 0.140625 -4.25 C 0.203125 -3.988281 0.234375 -3.691406 0.234375 -3.359375 C 0.234375 -2.546875 -0.0625 -1.851562 -0.65625 -1.28125 C -1.25 -0.71875 -2.078125 -0.4375 -3.140625 -0.4375 C -4.191406 -0.4375 -5.046875 -0.722656 -5.703125 -1.296875 C -6.359375 -1.867188 -6.6875 -2.613281 -6.6875 -3.53125 Z M -3.796875 -5.28125 C -4.265625 -5.238281 -4.644531 -5.132812 -4.9375 -4.96875 C -5.457031 -4.664062 -5.71875 -4.160156 -5.71875 -3.453125 C -5.71875 -2.953125 -5.535156 -2.53125 -5.171875 -2.1875 C -4.804688 -1.84375 -4.347656 -1.660156 -3.796875 -1.640625 Z M -6.703125 -3.421875 Z \"/>\n",
       "</symbol>\n",
       "<symbol overflow=\"visible\" id=\"glyph1-12\">\n",
       "<path style=\"stroke:none;\" d=\"M -6.53125 -0.84375 L -6.53125 -1.875 L -5.40625 -1.875 C -5.625 -1.96875 -5.890625 -2.179688 -6.203125 -2.515625 C -6.523438 -2.847656 -6.6875 -3.226562 -6.6875 -3.65625 C -6.6875 -3.675781 -6.679688 -3.710938 -6.671875 -3.765625 C -6.671875 -3.816406 -6.664062 -3.898438 -6.65625 -4.015625 L -5.5 -4.015625 C -5.507812 -3.953125 -5.515625 -3.890625 -5.515625 -3.828125 C -5.523438 -3.773438 -5.53125 -3.71875 -5.53125 -3.65625 C -5.53125 -3.101562 -5.347656 -2.675781 -4.984375 -2.375 C -4.628906 -2.082031 -4.222656 -1.9375 -3.765625 -1.9375 L 0 -1.9375 L 0 -0.84375 Z \"/>\n",
       "</symbol>\n",
       "<symbol overflow=\"visible\" id=\"glyph2-0\">\n",
       "<path style=\"stroke:none;\" d=\"M 0.484375 0 L 0.484375 -10.6875 L 8.96875 -10.6875 L 8.96875 0 Z M 7.625 -1.34375 L 7.625 -9.359375 L 1.8125 -9.359375 L 1.8125 -1.34375 Z \"/>\n",
       "</symbol>\n",
       "<symbol overflow=\"visible\" id=\"glyph2-1\">\n",
       "<path style=\"stroke:none;\" d=\"M 1.28125 -10.6875 L 9.0625 -10.6875 L 9.0625 -9.375 L 2.6875 -9.375 L 2.6875 -6.140625 L 8.59375 -6.140625 L 8.59375 -4.890625 L 2.6875 -4.890625 L 2.6875 -1.28125 L 9.171875 -1.28125 L 9.171875 0 L 1.28125 0 Z M 5.21875 -10.6875 Z \"/>\n",
       "</symbol>\n",
       "<symbol overflow=\"visible\" id=\"glyph2-2\">\n",
       "<path style=\"stroke:none;\" d=\"M 2.078125 -3.453125 C 2.109375 -2.847656 2.253906 -2.351562 2.515625 -1.96875 C 2.992188 -1.257812 3.835938 -0.90625 5.046875 -0.90625 C 5.585938 -0.90625 6.082031 -0.984375 6.53125 -1.140625 C 7.394531 -1.441406 7.828125 -1.984375 7.828125 -2.765625 C 7.828125 -3.335938 7.644531 -3.75 7.28125 -4 C 6.914062 -4.238281 6.335938 -4.453125 5.546875 -4.640625 L 4.109375 -4.96875 C 3.160156 -5.175781 2.488281 -5.410156 2.09375 -5.671875 C 1.414062 -6.117188 1.078125 -6.785156 1.078125 -7.671875 C 1.078125 -8.628906 1.410156 -9.414062 2.078125 -10.03125 C 2.742188 -10.65625 3.679688 -10.96875 4.890625 -10.96875 C 6.015625 -10.96875 6.96875 -10.695312 7.75 -10.15625 C 8.539062 -9.613281 8.9375 -8.75 8.9375 -7.5625 L 7.5625 -7.5625 C 7.488281 -8.125 7.335938 -8.5625 7.109375 -8.875 C 6.660156 -9.425781 5.910156 -9.703125 4.859375 -9.703125 C 4.003906 -9.703125 3.390625 -9.519531 3.015625 -9.15625 C 2.640625 -8.800781 2.453125 -8.390625 2.453125 -7.921875 C 2.453125 -7.398438 2.671875 -7.015625 3.109375 -6.765625 C 3.390625 -6.609375 4.035156 -6.414062 5.046875 -6.1875 L 6.546875 -5.84375 C 7.273438 -5.675781 7.832031 -5.453125 8.21875 -5.171875 C 8.90625 -4.671875 9.25 -3.941406 9.25 -2.984375 C 9.25 -1.804688 8.816406 -0.960938 7.953125 -0.453125 C 7.085938 0.0546875 6.085938 0.3125 4.953125 0.3125 C 3.617188 0.3125 2.578125 -0.0234375 1.828125 -0.703125 C 1.078125 -1.378906 0.707031 -2.296875 0.71875 -3.453125 Z M 5 -10.984375 Z \"/>\n",
       "</symbol>\n",
       "<symbol overflow=\"visible\" id=\"glyph2-3\">\n",
       "<path style=\"stroke:none;\" d=\"M 8.265625 -5.984375 L 8.265625 -4.765625 L 0.671875 -4.765625 L 0.671875 -5.984375 Z M 8.265625 -2.859375 L 8.265625 -1.609375 L 0.671875 -1.609375 L 0.671875 -2.859375 Z \"/>\n",
       "</symbol>\n",
       "<symbol overflow=\"visible\" id=\"glyph2-4\">\n",
       "<path style=\"stroke:none;\" d=\"M 0.46875 0 C 0.507812 -0.894531 0.691406 -1.675781 1.015625 -2.34375 C 1.335938 -3.007812 1.96875 -3.613281 2.90625 -4.15625 L 4.3125 -4.96875 C 4.9375 -5.332031 5.375 -5.640625 5.625 -5.890625 C 6.019531 -6.296875 6.21875 -6.757812 6.21875 -7.28125 C 6.21875 -7.882812 6.035156 -8.363281 5.671875 -8.71875 C 5.304688 -9.082031 4.820312 -9.265625 4.21875 -9.265625 C 3.320312 -9.265625 2.703125 -8.921875 2.359375 -8.234375 C 2.171875 -7.867188 2.066406 -7.363281 2.046875 -6.71875 L 0.71875 -6.71875 C 0.738281 -7.632812 0.90625 -8.375 1.21875 -8.9375 C 1.789062 -9.945312 2.796875 -10.453125 4.234375 -10.453125 C 5.421875 -10.453125 6.289062 -10.128906 6.84375 -9.484375 C 7.394531 -8.835938 7.671875 -8.125 7.671875 -7.34375 C 7.671875 -6.5 7.378906 -5.785156 6.796875 -5.203125 C 6.453125 -4.859375 5.84375 -4.4375 4.96875 -3.9375 L 3.96875 -3.390625 C 3.488281 -3.128906 3.113281 -2.878906 2.84375 -2.640625 C 2.363281 -2.222656 2.054688 -1.753906 1.921875 -1.234375 L 7.625 -1.234375 L 7.625 0 Z \"/>\n",
       "</symbol>\n",
       "<symbol overflow=\"visible\" id=\"glyph2-5\">\n",
       "<path style=\"stroke:none;\" d=\"M 4.03125 -10.421875 C 5.382812 -10.421875 6.359375 -9.863281 6.953125 -8.75 C 7.421875 -7.894531 7.65625 -6.71875 7.65625 -5.21875 C 7.65625 -3.800781 7.445312 -2.628906 7.03125 -1.703125 C 6.414062 -0.378906 5.414062 0.28125 4.03125 0.28125 C 2.769531 0.28125 1.835938 -0.257812 1.234375 -1.34375 C 0.722656 -2.25 0.46875 -3.46875 0.46875 -5 C 0.46875 -6.1875 0.617188 -7.203125 0.921875 -8.046875 C 1.492188 -9.628906 2.53125 -10.421875 4.03125 -10.421875 Z M 4.015625 -0.90625 C 4.691406 -0.90625 5.234375 -1.207031 5.640625 -1.8125 C 6.046875 -2.414062 6.25 -3.535156 6.25 -5.171875 C 6.25 -6.359375 6.101562 -7.332031 5.8125 -8.09375 C 5.519531 -8.863281 4.953125 -9.25 4.109375 -9.25 C 3.335938 -9.25 2.773438 -8.882812 2.421875 -8.15625 C 2.066406 -7.425781 1.890625 -6.359375 1.890625 -4.953125 C 1.890625 -3.890625 2.003906 -3.035156 2.234375 -2.390625 C 2.578125 -1.398438 3.171875 -0.90625 4.015625 -0.90625 Z \"/>\n",
       "</symbol>\n",
       "<symbol overflow=\"visible\" id=\"glyph2-6\">\n",
       "<path style=\"stroke:none;\" d=\"M 10.15625 -5.0625 C 10.851562 -5.0625 11.445312 -4.8125 11.9375 -4.3125 C 12.4375 -3.820312 12.6875 -3.226562 12.6875 -2.53125 C 12.6875 -1.832031 12.4375 -1.234375 11.9375 -0.734375 C 11.445312 -0.242188 10.851562 0 10.15625 0 C 9.457031 0 8.859375 -0.242188 8.359375 -0.734375 C 7.867188 -1.234375 7.625 -1.832031 7.625 -2.53125 C 7.625 -3.226562 7.867188 -3.820312 8.359375 -4.3125 C 8.859375 -4.8125 9.457031 -5.0625 10.15625 -5.0625 Z M 9.109375 -10.375 L 9.90625 -10.375 L 4.078125 0.28125 L 3.28125 0.28125 Z M 3.015625 -6.0625 C 3.429688 -6.0625 3.785156 -6.207031 4.078125 -6.5 C 4.367188 -6.800781 4.515625 -7.15625 4.515625 -7.5625 C 4.515625 -7.976562 4.367188 -8.332031 4.078125 -8.625 C 3.785156 -8.914062 3.429688 -9.0625 3.015625 -9.0625 C 2.597656 -9.0625 2.242188 -8.914062 1.953125 -8.625 C 1.660156 -8.34375 1.515625 -7.988281 1.515625 -7.5625 C 1.515625 -7.15625 1.660156 -6.800781 1.953125 -6.5 C 2.242188 -6.207031 2.597656 -6.0625 3.015625 -6.0625 Z M 3.015625 -10.109375 C 3.710938 -10.109375 4.304688 -9.859375 4.796875 -9.359375 C 5.296875 -8.867188 5.546875 -8.269531 5.546875 -7.5625 C 5.546875 -6.863281 5.296875 -6.265625 4.796875 -5.765625 C 4.304688 -5.273438 3.710938 -5.03125 3.015625 -5.03125 C 2.316406 -5.03125 1.71875 -5.273438 1.21875 -5.765625 C 0.726562 -6.265625 0.484375 -6.863281 0.484375 -7.5625 C 0.484375 -8.269531 0.726562 -8.867188 1.21875 -9.359375 C 1.71875 -9.859375 2.316406 -10.109375 3.015625 -10.109375 Z M 10.15625 -1.03125 C 10.570312 -1.03125 10.925781 -1.175781 11.21875 -1.46875 C 11.507812 -1.769531 11.65625 -2.125 11.65625 -2.53125 C 11.65625 -2.945312 11.507812 -3.300781 11.21875 -3.59375 C 10.925781 -3.882812 10.570312 -4.03125 10.15625 -4.03125 C 9.738281 -4.03125 9.382812 -3.882812 9.09375 -3.59375 C 8.800781 -3.300781 8.65625 -2.945312 8.65625 -2.53125 C 8.65625 -2.125 8.800781 -1.769531 9.09375 -1.46875 C 9.382812 -1.175781 9.738281 -1.03125 10.15625 -1.03125 Z \"/>\n",
       "</symbol>\n",
       "</g>\n",
       "</defs>\n",
       "<g id=\"surface1103\">\n",
       "<rect x=\"0\" y=\"0\" width=\"288\" height=\"288\" style=\"fill:rgb(100%,100%,100%);fill-opacity:1;stroke:none;\"/>\n",
       "<path style=\"fill:none;stroke-width:1;stroke-linecap:round;stroke-linejoin:round;stroke:rgb(0%,0%,0%);stroke-opacity:1;stroke-miterlimit:10;\" d=\"M 66.398438 208.800781 L 73.050781 68.714844 L 80.441406 64.800781 L 250.398438 64.800781 \"/>\n",
       "<path style=\"fill:none;stroke-width:1;stroke-linecap:round;stroke-linejoin:round;stroke:rgb(0%,0%,0%);stroke-opacity:1;stroke-miterlimit:10;\" d=\"M 65.660156 214.558594 L 250.398438 214.558594 \"/>\n",
       "<path style=\"fill:none;stroke-width:1;stroke-linecap:round;stroke-linejoin:round;stroke:rgb(0%,0%,0%);stroke-opacity:1;stroke-miterlimit:10;\" d=\"M 65.660156 214.558594 L 65.660156 221.761719 \"/>\n",
       "<path style=\"fill:none;stroke-width:1;stroke-linecap:round;stroke-linejoin:round;stroke:rgb(0%,0%,0%);stroke-opacity:1;stroke-miterlimit:10;\" d=\"M 102.609375 214.558594 L 102.609375 221.761719 \"/>\n",
       "<path style=\"fill:none;stroke-width:1;stroke-linecap:round;stroke-linejoin:round;stroke:rgb(0%,0%,0%);stroke-opacity:1;stroke-miterlimit:10;\" d=\"M 139.554688 214.558594 L 139.554688 221.761719 \"/>\n",
       "<path style=\"fill:none;stroke-width:1;stroke-linecap:round;stroke-linejoin:round;stroke:rgb(0%,0%,0%);stroke-opacity:1;stroke-miterlimit:10;\" d=\"M 176.503906 214.558594 L 176.503906 221.761719 \"/>\n",
       "<path style=\"fill:none;stroke-width:1;stroke-linecap:round;stroke-linejoin:round;stroke:rgb(0%,0%,0%);stroke-opacity:1;stroke-miterlimit:10;\" d=\"M 213.453125 214.558594 L 213.453125 221.761719 \"/>\n",
       "<path style=\"fill:none;stroke-width:1;stroke-linecap:round;stroke-linejoin:round;stroke:rgb(0%,0%,0%);stroke-opacity:1;stroke-miterlimit:10;\" d=\"M 250.398438 214.558594 L 250.398438 221.761719 \"/>\n",
       "<g style=\"fill:rgb(0%,0%,0%);fill-opacity:1;\">\n",
       "  <use xlink:href=\"#glyph0-1\" x=\"62.183594\" y=\"241.921875\"/>\n",
       "</g>\n",
       "<g style=\"fill:rgb(0%,0%,0%);fill-opacity:1;\">\n",
       "  <use xlink:href=\"#glyph0-2\" x=\"92.179688\" y=\"241.921875\"/>\n",
       "  <use xlink:href=\"#glyph0-1\" x=\"99.131592\" y=\"241.921875\"/>\n",
       "  <use xlink:href=\"#glyph0-1\" x=\"106.083496\" y=\"241.921875\"/>\n",
       "</g>\n",
       "<g style=\"fill:rgb(0%,0%,0%);fill-opacity:1;\">\n",
       "  <use xlink:href=\"#glyph0-3\" x=\"125.652344\" y=\"241.921875\"/>\n",
       "  <use xlink:href=\"#glyph0-1\" x=\"132.604248\" y=\"241.921875\"/>\n",
       "  <use xlink:href=\"#glyph0-1\" x=\"139.556152\" y=\"241.921875\"/>\n",
       "  <use xlink:href=\"#glyph0-1\" x=\"146.508057\" y=\"241.921875\"/>\n",
       "</g>\n",
       "<g style=\"fill:rgb(0%,0%,0%);fill-opacity:1;\">\n",
       "  <use xlink:href=\"#glyph0-4\" x=\"199.550781\" y=\"241.921875\"/>\n",
       "  <use xlink:href=\"#glyph0-1\" x=\"206.502686\" y=\"241.921875\"/>\n",
       "  <use xlink:href=\"#glyph0-1\" x=\"213.45459\" y=\"241.921875\"/>\n",
       "  <use xlink:href=\"#glyph0-1\" x=\"220.406494\" y=\"241.921875\"/>\n",
       "</g>\n",
       "<path style=\"fill:none;stroke-width:1;stroke-linecap:round;stroke-linejoin:round;stroke:rgb(0%,0%,0%);stroke-opacity:1;stroke-miterlimit:10;\" d=\"M 59.039062 200.96875 L 59.039062 64.800781 \"/>\n",
       "<path style=\"fill:none;stroke-width:1;stroke-linecap:round;stroke-linejoin:round;stroke:rgb(0%,0%,0%);stroke-opacity:1;stroke-miterlimit:10;\" d=\"M 59.039062 200.96875 L 51.839844 200.96875 \"/>\n",
       "<path style=\"fill:none;stroke-width:1;stroke-linecap:round;stroke-linejoin:round;stroke:rgb(0%,0%,0%);stroke-opacity:1;stroke-miterlimit:10;\" d=\"M 59.039062 166.925781 L 51.839844 166.925781 \"/>\n",
       "<path style=\"fill:none;stroke-width:1;stroke-linecap:round;stroke-linejoin:round;stroke:rgb(0%,0%,0%);stroke-opacity:1;stroke-miterlimit:10;\" d=\"M 59.039062 132.886719 L 51.839844 132.886719 \"/>\n",
       "<path style=\"fill:none;stroke-width:1;stroke-linecap:round;stroke-linejoin:round;stroke:rgb(0%,0%,0%);stroke-opacity:1;stroke-miterlimit:10;\" d=\"M 59.039062 98.84375 L 51.839844 98.84375 \"/>\n",
       "<path style=\"fill:none;stroke-width:1;stroke-linecap:round;stroke-linejoin:round;stroke:rgb(0%,0%,0%);stroke-opacity:1;stroke-miterlimit:10;\" d=\"M 59.039062 64.800781 L 51.839844 64.800781 \"/>\n",
       "<g style=\"fill:rgb(0%,0%,0%);fill-opacity:1;\">\n",
       "  <use xlink:href=\"#glyph1-1\" x=\"43.199219\" y=\"209.65625\"/>\n",
       "  <use xlink:href=\"#glyph1-2\" x=\"43.199219\" y=\"202.704346\"/>\n",
       "  <use xlink:href=\"#glyph1-3\" x=\"43.199219\" y=\"199.231445\"/>\n",
       "</g>\n",
       "<g style=\"fill:rgb(0%,0%,0%);fill-opacity:1;\">\n",
       "  <use xlink:href=\"#glyph1-1\" x=\"43.199219\" y=\"175.613281\"/>\n",
       "  <use xlink:href=\"#glyph1-2\" x=\"43.199219\" y=\"168.661377\"/>\n",
       "  <use xlink:href=\"#glyph1-4\" x=\"43.199219\" y=\"165.188477\"/>\n",
       "</g>\n",
       "<g style=\"fill:rgb(0%,0%,0%);fill-opacity:1;\">\n",
       "  <use xlink:href=\"#glyph1-1\" x=\"43.199219\" y=\"141.574219\"/>\n",
       "  <use xlink:href=\"#glyph1-2\" x=\"43.199219\" y=\"134.622314\"/>\n",
       "  <use xlink:href=\"#glyph1-5\" x=\"43.199219\" y=\"131.149414\"/>\n",
       "</g>\n",
       "<g style=\"fill:rgb(0%,0%,0%);fill-opacity:1;\">\n",
       "  <use xlink:href=\"#glyph1-1\" x=\"43.199219\" y=\"107.53125\"/>\n",
       "  <use xlink:href=\"#glyph1-2\" x=\"43.199219\" y=\"100.579346\"/>\n",
       "  <use xlink:href=\"#glyph1-6\" x=\"43.199219\" y=\"97.106445\"/>\n",
       "</g>\n",
       "<g style=\"fill:rgb(0%,0%,0%);fill-opacity:1;\">\n",
       "  <use xlink:href=\"#glyph1-7\" x=\"43.199219\" y=\"73.488281\"/>\n",
       "  <use xlink:href=\"#glyph1-2\" x=\"43.199219\" y=\"66.536377\"/>\n",
       "  <use xlink:href=\"#glyph1-1\" x=\"43.199219\" y=\"63.063477\"/>\n",
       "</g>\n",
       "<path style=\"fill:none;stroke-width:1;stroke-linecap:round;stroke-linejoin:round;stroke:rgb(0%,0%,0%);stroke-opacity:1;stroke-miterlimit:10;\" d=\"M 59.039062 214.558594 L 257.761719 214.558594 L 257.761719 59.039062 L 59.039062 59.039062 L 59.039062 214.558594 \"/>\n",
       "<g style=\"fill:rgb(0%,0%,0%);fill-opacity:1;\">\n",
       "  <use xlink:href=\"#glyph2-1\" x=\"129.1875\" y=\"34.863281\"/>\n",
       "  <use xlink:href=\"#glyph2-2\" x=\"139.129852\" y=\"34.863281\"/>\n",
       "  <use xlink:href=\"#glyph2-3\" x=\"149.072205\" y=\"34.863281\"/>\n",
       "  <use xlink:href=\"#glyph2-4\" x=\"157.777222\" y=\"34.863281\"/>\n",
       "  <use xlink:href=\"#glyph2-5\" x=\"166.067368\" y=\"34.863281\"/>\n",
       "  <use xlink:href=\"#glyph2-6\" x=\"174.357513\" y=\"34.863281\"/>\n",
       "</g>\n",
       "<g style=\"fill:rgb(0%,0%,0%);fill-opacity:1;\">\n",
       "  <use xlink:href=\"#glyph0-5\" x=\"134.773438\" y=\"270.71875\"/>\n",
       "  <use xlink:href=\"#glyph0-6\" x=\"141.725342\" y=\"270.71875\"/>\n",
       "  <use xlink:href=\"#glyph0-7\" x=\"145.198242\" y=\"270.71875\"/>\n",
       "  <use xlink:href=\"#glyph0-8\" x=\"152.150146\" y=\"270.71875\"/>\n",
       "  <use xlink:href=\"#glyph0-6\" x=\"155.623047\" y=\"270.71875\"/>\n",
       "  <use xlink:href=\"#glyph0-9\" x=\"159.095947\" y=\"270.71875\"/>\n",
       "  <use xlink:href=\"#glyph0-7\" x=\"162.568848\" y=\"270.71875\"/>\n",
       "  <use xlink:href=\"#glyph0-10\" x=\"169.520752\" y=\"270.71875\"/>\n",
       "  <use xlink:href=\"#glyph0-10\" x=\"175.770752\" y=\"270.71875\"/>\n",
       "</g>\n",
       "<g style=\"fill:rgb(0%,0%,0%);fill-opacity:1;\">\n",
       "  <use xlink:href=\"#glyph1-8\" x=\"14.398438\" y=\"153.824219\"/>\n",
       "  <use xlink:href=\"#glyph1-9\" x=\"14.398438\" y=\"146.872314\"/>\n",
       "  <use xlink:href=\"#glyph1-10\" x=\"14.398438\" y=\"139.92041\"/>\n",
       "  <use xlink:href=\"#glyph1-11\" x=\"14.398438\" y=\"130.893311\"/>\n",
       "  <use xlink:href=\"#glyph1-12\" x=\"14.398438\" y=\"123.941406\"/>\n",
       "</g>\n",
       "</g>\n",
       "</svg>\n"
      ],
      "text/plain": [
       "Plot with title \"ES=20%\""
      ]
     },
     "metadata": {
      "image/svg+xml": {
       "isolated": true
      }
     },
     "output_type": "display_data"
    }
   ],
   "source": [
    "res = sapply(ntosses,coin.power,prob=.70)\n",
    "names(res) = ntosses\n",
    "plot( ntosses, res , type=\"l\", main=\"ES=20%\",xlab=\"# of toss\", ylab=\"power\")"
   ]
  },
  {
   "cell_type": "code",
   "execution_count": 142,
   "metadata": {},
   "outputs": [
    {
     "data": {
      "image/png": "[encoded data removed]",
      "image/svg+xml": [
       "<?xml version=\"1.0\" encoding=\"UTF-8\"?>\n",
       "<svg xmlns=\"http://www.w3.org/2000/svg\" xmlns:xlink=\"http://www.w3.org/1999/xlink\" width=\"288pt\" height=\"288pt\" viewBox=\"0 0 288 288\" version=\"1.1\">\n",
       "<defs>\n",
       "<g>\n",
       "<symbol overflow=\"visible\" id=\"glyph0-0\">\n",
       "<path style=\"stroke:none;\" d=\"M 0.40625 0 L 0.40625 -8.96875 L 7.515625 -8.96875 L 7.515625 0 Z M 6.390625 -1.125 L 6.390625 -7.84375 L 1.53125 -7.84375 L 1.53125 -1.125 Z \"/>\n",
       "</symbol>\n",
       "<symbol overflow=\"visible\" id=\"glyph0-1\">\n",
       "<path style=\"stroke:none;\" d=\"M 3.375 -8.734375 C 4.507812 -8.734375 5.328125 -8.269531 5.828125 -7.34375 C 6.222656 -6.625 6.421875 -5.632812 6.421875 -4.375 C 6.421875 -3.1875 6.242188 -2.207031 5.890625 -1.4375 C 5.378906 -0.320312 4.539062 0.234375 3.375 0.234375 C 2.320312 0.234375 1.539062 -0.21875 1.03125 -1.125 C 0.601562 -1.882812 0.390625 -2.90625 0.390625 -4.1875 C 0.390625 -5.1875 0.519531 -6.039062 0.78125 -6.75 C 1.257812 -8.070312 2.125 -8.734375 3.375 -8.734375 Z M 3.375 -0.765625 C 3.9375 -0.765625 4.382812 -1.015625 4.71875 -1.515625 C 5.0625 -2.023438 5.234375 -2.96875 5.234375 -4.34375 C 5.234375 -5.332031 5.109375 -6.144531 4.859375 -6.78125 C 4.617188 -7.425781 4.148438 -7.75 3.453125 -7.75 C 2.804688 -7.75 2.332031 -7.441406 2.03125 -6.828125 C 1.726562 -6.222656 1.578125 -5.332031 1.578125 -4.15625 C 1.578125 -3.257812 1.675781 -2.539062 1.875 -2 C 2.164062 -1.175781 2.664062 -0.765625 3.375 -0.765625 Z \"/>\n",
       "</symbol>\n",
       "<symbol overflow=\"visible\" id=\"glyph0-2\">\n",
       "<path style=\"stroke:none;\" d=\"M 1.546875 -2.234375 C 1.617188 -1.597656 1.910156 -1.160156 2.421875 -0.921875 C 2.679688 -0.804688 2.984375 -0.75 3.328125 -0.75 C 3.972656 -0.75 4.453125 -0.953125 4.765625 -1.359375 C 5.078125 -1.773438 5.234375 -2.238281 5.234375 -2.75 C 5.234375 -3.351562 5.046875 -3.820312 4.671875 -4.15625 C 4.304688 -4.488281 3.863281 -4.65625 3.34375 -4.65625 C 2.957031 -4.65625 2.628906 -4.582031 2.359375 -4.4375 C 2.085938 -4.289062 1.859375 -4.085938 1.671875 -3.828125 L 0.71875 -3.890625 L 1.390625 -8.59375 L 5.921875 -8.59375 L 5.921875 -7.53125 L 2.203125 -7.53125 L 1.84375 -5.109375 C 2.039062 -5.253906 2.234375 -5.367188 2.421875 -5.453125 C 2.742188 -5.585938 3.117188 -5.65625 3.546875 -5.65625 C 4.347656 -5.65625 5.023438 -5.394531 5.578125 -4.875 C 6.140625 -4.363281 6.421875 -3.707031 6.421875 -2.90625 C 6.421875 -2.082031 6.164062 -1.351562 5.65625 -0.71875 C 5.144531 -0.09375 4.328125 0.21875 3.203125 0.21875 C 2.492188 0.21875 1.863281 0.0195312 1.3125 -0.375 C 0.769531 -0.78125 0.46875 -1.398438 0.40625 -2.234375 Z \"/>\n",
       "</symbol>\n",
       "<symbol overflow=\"visible\" id=\"glyph0-3\">\n",
       "<path style=\"stroke:none;\" d=\"M 1.203125 -6.1875 L 1.203125 -7.03125 C 1.992188 -7.101562 2.546875 -7.226562 2.859375 -7.40625 C 3.171875 -7.59375 3.40625 -8.023438 3.5625 -8.703125 L 4.421875 -8.703125 L 4.421875 0 L 3.25 0 L 3.25 -6.1875 Z \"/>\n",
       "</symbol>\n",
       "<symbol overflow=\"visible\" id=\"glyph0-4\">\n",
       "<path style=\"stroke:none;\" d=\"M 0.390625 0 C 0.429688 -0.75 0.585938 -1.398438 0.859375 -1.953125 C 1.128906 -2.515625 1.65625 -3.023438 2.4375 -3.484375 L 3.609375 -4.15625 C 4.140625 -4.46875 4.507812 -4.726562 4.71875 -4.9375 C 5.050781 -5.28125 5.21875 -5.671875 5.21875 -6.109375 C 5.21875 -6.609375 5.0625 -7.007812 4.75 -7.3125 C 4.445312 -7.613281 4.046875 -7.765625 3.546875 -7.765625 C 2.785156 -7.765625 2.265625 -7.476562 1.984375 -6.90625 C 1.828125 -6.601562 1.738281 -6.179688 1.71875 -5.640625 L 0.609375 -5.640625 C 0.617188 -6.398438 0.757812 -7.019531 1.03125 -7.5 C 1.5 -8.34375 2.335938 -8.765625 3.546875 -8.765625 C 4.546875 -8.765625 5.273438 -8.492188 5.734375 -7.953125 C 6.203125 -7.410156 6.4375 -6.8125 6.4375 -6.15625 C 6.4375 -5.457031 6.1875 -4.859375 5.6875 -4.359375 C 5.40625 -4.066406 4.894531 -3.71875 4.15625 -3.3125 L 3.328125 -2.84375 C 2.929688 -2.625 2.617188 -2.414062 2.390625 -2.21875 C 1.984375 -1.863281 1.726562 -1.46875 1.625 -1.03125 L 6.390625 -1.03125 L 6.390625 0 Z \"/>\n",
       "</symbol>\n",
       "<symbol overflow=\"visible\" id=\"glyph0-5\">\n",
       "<path style=\"stroke:none;\" d=\"M 0.1875 -3.421875 L 1.609375 -3.421875 L 2.171875 -5.53125 L 0.765625 -5.53125 L 0.953125 -6.234375 L 2.375 -6.234375 L 3.09375 -8.96875 L 4 -8.96875 L 3.265625 -6.234375 L 4.609375 -6.234375 L 5.359375 -8.96875 L 6.265625 -8.96875 L 5.53125 -6.234375 L 6.9375 -6.234375 L 6.75 -5.53125 L 5.328125 -5.53125 L 4.75 -3.421875 L 6.171875 -3.421875 L 5.984375 -2.71875 L 4.578125 -2.71875 L 3.828125 0 L 2.9375 0 L 3.671875 -2.71875 L 2.3125 -2.71875 L 1.59375 0 L 0.671875 0 L 1.421875 -2.71875 L 0 -2.71875 Z M 3.84375 -3.421875 L 4.421875 -5.53125 L 3.078125 -5.53125 L 2.515625 -3.421875 Z \"/>\n",
       "</symbol>\n",
       "<symbol overflow=\"visible\" id=\"glyph0-6\">\n",
       "<path style=\"stroke:none;\" d=\"\"/>\n",
       "</symbol>\n",
       "<symbol overflow=\"visible\" id=\"glyph0-7\">\n",
       "<path style=\"stroke:none;\" d=\"M 3.40625 -0.703125 C 4.132812 -0.703125 4.628906 -0.976562 4.890625 -1.53125 C 5.160156 -2.082031 5.296875 -2.695312 5.296875 -3.375 C 5.296875 -3.988281 5.203125 -4.484375 5.015625 -4.859375 C 4.703125 -5.460938 4.164062 -5.765625 3.40625 -5.765625 C 2.738281 -5.765625 2.25 -5.507812 1.9375 -5 C 1.632812 -4.488281 1.484375 -3.867188 1.484375 -3.140625 C 1.484375 -2.441406 1.632812 -1.859375 1.9375 -1.390625 C 2.25 -0.929688 2.738281 -0.703125 3.40625 -0.703125 Z M 3.4375 -6.71875 C 4.28125 -6.71875 4.992188 -6.4375 5.578125 -5.875 C 6.160156 -5.320312 6.453125 -4.5 6.453125 -3.40625 C 6.453125 -2.351562 6.191406 -1.484375 5.671875 -0.796875 C 5.160156 -0.109375 4.367188 0.234375 3.296875 0.234375 C 2.398438 0.234375 1.6875 -0.0664062 1.15625 -0.671875 C 0.625 -1.285156 0.359375 -2.101562 0.359375 -3.125 C 0.359375 -4.21875 0.632812 -5.085938 1.1875 -5.734375 C 1.75 -6.390625 2.5 -6.71875 3.4375 -6.71875 Z M 3.40625 -6.703125 Z \"/>\n",
       "</symbol>\n",
       "<symbol overflow=\"visible\" id=\"glyph0-8\">\n",
       "<path style=\"stroke:none;\" d=\"M 1.078125 -7.53125 C 1.097656 -7.988281 1.175781 -8.320312 1.3125 -8.53125 C 1.570312 -8.90625 2.066406 -9.09375 2.796875 -9.09375 C 2.867188 -9.09375 2.941406 -9.085938 3.015625 -9.078125 C 3.085938 -9.078125 3.171875 -9.070312 3.265625 -9.0625 L 3.265625 -8.0625 C 3.148438 -8.070312 3.066406 -8.078125 3.015625 -8.078125 C 2.960938 -8.085938 2.914062 -8.09375 2.875 -8.09375 C 2.539062 -8.09375 2.335938 -8.003906 2.265625 -7.828125 C 2.203125 -7.648438 2.171875 -7.207031 2.171875 -6.5 L 3.265625 -6.5 L 3.265625 -5.640625 L 2.171875 -5.640625 L 2.171875 0 L 1.078125 0 L 1.078125 -5.640625 L 0.171875 -5.640625 L 0.171875 -6.5 L 1.078125 -6.5 Z \"/>\n",
       "</symbol>\n",
       "<symbol overflow=\"visible\" id=\"glyph0-9\">\n",
       "<path style=\"stroke:none;\" d=\"M 1.03125 -8.359375 L 2.140625 -8.359375 L 2.140625 -6.53125 L 3.1875 -6.53125 L 3.1875 -5.640625 L 2.140625 -5.640625 L 2.140625 -1.375 C 2.140625 -1.144531 2.21875 -0.992188 2.375 -0.921875 C 2.457031 -0.867188 2.597656 -0.84375 2.796875 -0.84375 C 2.847656 -0.84375 2.90625 -0.84375 2.96875 -0.84375 C 3.03125 -0.851562 3.101562 -0.859375 3.1875 -0.859375 L 3.1875 0 C 3.050781 0.0390625 2.914062 0.0664062 2.78125 0.078125 C 2.644531 0.0976562 2.5 0.109375 2.34375 0.109375 C 1.832031 0.109375 1.484375 -0.0195312 1.296875 -0.28125 C 1.117188 -0.550781 1.03125 -0.894531 1.03125 -1.3125 L 1.03125 -5.640625 L 0.140625 -5.640625 L 0.140625 -6.53125 L 1.03125 -6.53125 Z \"/>\n",
       "</symbol>\n",
       "<symbol overflow=\"visible\" id=\"glyph0-10\">\n",
       "<path style=\"stroke:none;\" d=\"M 1.453125 -2.046875 C 1.484375 -1.679688 1.578125 -1.398438 1.734375 -1.203125 C 2.015625 -0.847656 2.492188 -0.671875 3.171875 -0.671875 C 3.578125 -0.671875 3.9375 -0.757812 4.25 -0.9375 C 4.5625 -1.113281 4.71875 -1.390625 4.71875 -1.765625 C 4.71875 -2.046875 4.59375 -2.257812 4.34375 -2.40625 C 4.1875 -2.5 3.875 -2.601562 3.40625 -2.71875 L 2.53125 -2.9375 C 1.96875 -3.070312 1.554688 -3.226562 1.296875 -3.40625 C 0.828125 -3.695312 0.59375 -4.101562 0.59375 -4.625 C 0.59375 -5.25 0.8125 -5.75 1.25 -6.125 C 1.695312 -6.507812 2.296875 -6.703125 3.046875 -6.703125 C 4.035156 -6.703125 4.75 -6.414062 5.1875 -5.84375 C 5.457031 -5.476562 5.585938 -5.082031 5.578125 -4.65625 L 4.546875 -4.65625 C 4.523438 -4.90625 4.4375 -5.128906 4.28125 -5.328125 C 4.03125 -5.617188 3.59375 -5.765625 2.96875 -5.765625 C 2.550781 -5.765625 2.234375 -5.6875 2.015625 -5.53125 C 1.804688 -5.375 1.703125 -5.164062 1.703125 -4.90625 C 1.703125 -4.613281 1.84375 -4.382812 2.125 -4.21875 C 2.289062 -4.113281 2.53125 -4.023438 2.84375 -3.953125 L 3.578125 -3.765625 C 4.359375 -3.578125 4.882812 -3.394531 5.15625 -3.21875 C 5.582031 -2.9375 5.796875 -2.492188 5.796875 -1.890625 C 5.796875 -1.304688 5.570312 -0.800781 5.125 -0.375 C 4.6875 0.0390625 4.019531 0.25 3.125 0.25 C 2.144531 0.25 1.453125 0.03125 1.046875 -0.40625 C 0.648438 -0.851562 0.4375 -1.398438 0.40625 -2.046875 Z M 3.078125 -6.703125 Z \"/>\n",
       "</symbol>\n",
       "<symbol overflow=\"visible\" id=\"glyph1-0\">\n",
       "<path style=\"stroke:none;\" d=\"M 0 -0.40625 L -8.96875 -0.40625 L -8.96875 -7.515625 L 0 -7.515625 Z M -1.125 -6.390625 L -7.84375 -6.390625 L -7.84375 -1.53125 L -1.125 -1.53125 Z \"/>\n",
       "</symbol>\n",
       "<symbol overflow=\"visible\" id=\"glyph1-1\">\n",
       "<path style=\"stroke:none;\" d=\"M -8.734375 -3.375 C -8.734375 -4.507812 -8.269531 -5.328125 -7.34375 -5.828125 C -6.625 -6.222656 -5.632812 -6.421875 -4.375 -6.421875 C -3.1875 -6.421875 -2.207031 -6.242188 -1.4375 -5.890625 C -0.320312 -5.378906 0.234375 -4.539062 0.234375 -3.375 C 0.234375 -2.320312 -0.21875 -1.539062 -1.125 -1.03125 C -1.882812 -0.601562 -2.90625 -0.390625 -4.1875 -0.390625 C -5.1875 -0.390625 -6.039062 -0.519531 -6.75 -0.78125 C -8.070312 -1.257812 -8.734375 -2.125 -8.734375 -3.375 Z M -0.765625 -3.375 C -0.765625 -3.9375 -1.015625 -4.382812 -1.515625 -4.71875 C -2.023438 -5.0625 -2.96875 -5.234375 -4.34375 -5.234375 C -5.332031 -5.234375 -6.144531 -5.109375 -6.78125 -4.859375 C -7.425781 -4.617188 -7.75 -4.148438 -7.75 -3.453125 C -7.75 -2.804688 -7.441406 -2.332031 -6.828125 -2.03125 C -6.222656 -1.726562 -5.332031 -1.578125 -4.15625 -1.578125 C -3.257812 -1.578125 -2.539062 -1.675781 -2 -1.875 C -1.175781 -2.164062 -0.765625 -2.664062 -0.765625 -3.375 Z \"/>\n",
       "</symbol>\n",
       "<symbol overflow=\"visible\" id=\"glyph1-2\">\n",
       "<path style=\"stroke:none;\" d=\"M -1.328125 -1.0625 L -1.328125 -2.34375 L 0 -2.34375 L 0 -1.0625 Z \"/>\n",
       "</symbol>\n",
       "<symbol overflow=\"visible\" id=\"glyph1-3\">\n",
       "<path style=\"stroke:none;\" d=\"M -2.234375 -1.546875 C -1.597656 -1.617188 -1.160156 -1.910156 -0.921875 -2.421875 C -0.804688 -2.679688 -0.75 -2.984375 -0.75 -3.328125 C -0.75 -3.972656 -0.953125 -4.453125 -1.359375 -4.765625 C -1.773438 -5.078125 -2.238281 -5.234375 -2.75 -5.234375 C -3.351562 -5.234375 -3.820312 -5.046875 -4.15625 -4.671875 C -4.488281 -4.304688 -4.65625 -3.863281 -4.65625 -3.34375 C -4.65625 -2.957031 -4.582031 -2.628906 -4.4375 -2.359375 C -4.289062 -2.085938 -4.085938 -1.859375 -3.828125 -1.671875 L -3.890625 -0.71875 L -8.59375 -1.390625 L -8.59375 -5.921875 L -7.53125 -5.921875 L -7.53125 -2.203125 L -5.109375 -1.84375 C -5.253906 -2.039062 -5.367188 -2.234375 -5.453125 -2.421875 C -5.585938 -2.742188 -5.65625 -3.117188 -5.65625 -3.546875 C -5.65625 -4.347656 -5.394531 -5.023438 -4.875 -5.578125 C -4.363281 -6.140625 -3.707031 -6.421875 -2.90625 -6.421875 C -2.082031 -6.421875 -1.351562 -6.164062 -0.71875 -5.65625 C -0.09375 -5.144531 0.21875 -4.328125 0.21875 -3.203125 C 0.21875 -2.492188 0.0195312 -1.863281 -0.375 -1.3125 C -0.78125 -0.769531 -1.398438 -0.46875 -2.234375 -0.40625 Z \"/>\n",
       "</symbol>\n",
       "<symbol overflow=\"visible\" id=\"glyph1-4\">\n",
       "<path style=\"stroke:none;\" d=\"M -6.1875 -1.203125 L -7.03125 -1.203125 C -7.101562 -1.992188 -7.226562 -2.546875 -7.40625 -2.859375 C -7.59375 -3.171875 -8.023438 -3.40625 -8.703125 -3.5625 L -8.703125 -4.421875 L 0 -4.421875 L 0 -3.25 L -6.1875 -3.25 Z \"/>\n",
       "</symbol>\n",
       "<symbol overflow=\"visible\" id=\"glyph1-5\">\n",
       "<path style=\"stroke:none;\" d=\"M -0.734375 -3.5625 C -0.734375 -4.070312 -0.945312 -4.5 -1.375 -4.84375 C -1.8125 -5.1875 -2.457031 -5.359375 -3.3125 -5.359375 C -3.832031 -5.359375 -4.28125 -5.28125 -4.65625 -5.125 C -5.375 -4.84375 -5.734375 -4.320312 -5.734375 -3.5625 C -5.734375 -2.800781 -5.351562 -2.28125 -4.59375 -2 C -4.1875 -1.851562 -3.671875 -1.78125 -3.046875 -1.78125 C -2.535156 -1.78125 -2.101562 -1.851562 -1.75 -2 C -1.070312 -2.28125 -0.734375 -2.800781 -0.734375 -3.5625 Z M -6.5 -0.71875 L -6.5 -1.78125 L -5.640625 -1.78125 C -5.929688 -2.007812 -6.160156 -2.253906 -6.328125 -2.515625 C -6.578125 -2.878906 -6.703125 -3.3125 -6.703125 -3.8125 C -6.703125 -4.550781 -6.414062 -5.175781 -5.84375 -5.6875 C -5.28125 -6.207031 -4.46875 -6.46875 -3.40625 -6.46875 C -1.988281 -6.46875 -0.972656 -6.097656 -0.359375 -5.359375 C 0.0234375 -4.890625 0.21875 -4.34375 0.21875 -3.71875 C 0.21875 -3.21875 0.109375 -2.800781 -0.109375 -2.46875 C -0.222656 -2.269531 -0.429688 -2.050781 -0.734375 -1.8125 L 2.609375 -1.8125 L 2.609375 -0.71875 Z \"/>\n",
       "</symbol>\n",
       "<symbol overflow=\"visible\" id=\"glyph1-6\">\n",
       "<path style=\"stroke:none;\" d=\"M -0.703125 -3.40625 C -0.703125 -4.132812 -0.976562 -4.628906 -1.53125 -4.890625 C -2.082031 -5.160156 -2.695312 -5.296875 -3.375 -5.296875 C -3.988281 -5.296875 -4.484375 -5.203125 -4.859375 -5.015625 C -5.460938 -4.703125 -5.765625 -4.164062 -5.765625 -3.40625 C -5.765625 -2.738281 -5.507812 -2.25 -5 -1.9375 C -4.488281 -1.632812 -3.867188 -1.484375 -3.140625 -1.484375 C -2.441406 -1.484375 -1.859375 -1.632812 -1.390625 -1.9375 C -0.929688 -2.25 -0.703125 -2.738281 -0.703125 -3.40625 Z M -6.71875 -3.4375 C -6.71875 -4.28125 -6.4375 -4.992188 -5.875 -5.578125 C -5.320312 -6.160156 -4.5 -6.453125 -3.40625 -6.453125 C -2.351562 -6.453125 -1.484375 -6.191406 -0.796875 -5.671875 C -0.109375 -5.160156 0.234375 -4.367188 0.234375 -3.296875 C 0.234375 -2.398438 -0.0664062 -1.6875 -0.671875 -1.15625 C -1.285156 -0.625 -2.101562 -0.359375 -3.125 -0.359375 C -4.21875 -0.359375 -5.085938 -0.632812 -5.734375 -1.1875 C -6.390625 -1.75 -6.71875 -2.5 -6.71875 -3.4375 Z M -6.703125 -3.40625 Z \"/>\n",
       "</symbol>\n",
       "<symbol overflow=\"visible\" id=\"glyph1-7\">\n",
       "<path style=\"stroke:none;\" d=\"M -6.53125 -1.3125 L -1.390625 -2.5625 L -6.53125 -3.84375 L -6.53125 -5.078125 L -1.421875 -6.359375 L -6.53125 -7.703125 L -6.53125 -8.796875 L 0 -6.890625 L 0 -5.75 L -5.0625 -4.421875 L 0 -3.140625 L 0 -2 L -6.53125 -0.109375 Z \"/>\n",
       "</symbol>\n",
       "<symbol overflow=\"visible\" id=\"glyph1-8\">\n",
       "<path style=\"stroke:none;\" d=\"M -6.6875 -3.53125 C -6.6875 -3.988281 -6.578125 -4.4375 -6.359375 -4.875 C -6.140625 -5.3125 -5.859375 -5.644531 -5.515625 -5.875 C -5.179688 -6.09375 -4.796875 -6.238281 -4.359375 -6.3125 C -4.054688 -6.375 -3.578125 -6.40625 -2.921875 -6.40625 L -2.921875 -1.625 C -2.253906 -1.632812 -1.71875 -1.785156 -1.3125 -2.078125 C -0.914062 -2.378906 -0.71875 -2.835938 -0.71875 -3.453125 C -0.71875 -4.023438 -0.90625 -4.484375 -1.28125 -4.828125 C -1.507812 -5.015625 -1.765625 -5.148438 -2.046875 -5.234375 L -2.046875 -6.3125 C -1.804688 -6.289062 -1.539062 -6.195312 -1.25 -6.03125 C -0.957031 -5.875 -0.71875 -5.695312 -0.53125 -5.5 C -0.195312 -5.164062 0.0234375 -4.75 0.140625 -4.25 C 0.203125 -3.988281 0.234375 -3.691406 0.234375 -3.359375 C 0.234375 -2.546875 -0.0625 -1.851562 -0.65625 -1.28125 C -1.25 -0.71875 -2.078125 -0.4375 -3.140625 -0.4375 C -4.191406 -0.4375 -5.046875 -0.722656 -5.703125 -1.296875 C -6.359375 -1.867188 -6.6875 -2.613281 -6.6875 -3.53125 Z M -3.796875 -5.28125 C -4.265625 -5.238281 -4.644531 -5.132812 -4.9375 -4.96875 C -5.457031 -4.664062 -5.71875 -4.160156 -5.71875 -3.453125 C -5.71875 -2.953125 -5.535156 -2.53125 -5.171875 -2.1875 C -4.804688 -1.84375 -4.347656 -1.660156 -3.796875 -1.640625 Z M -6.703125 -3.421875 Z \"/>\n",
       "</symbol>\n",
       "<symbol overflow=\"visible\" id=\"glyph1-9\">\n",
       "<path style=\"stroke:none;\" d=\"M -6.53125 -0.84375 L -6.53125 -1.875 L -5.40625 -1.875 C -5.625 -1.96875 -5.890625 -2.179688 -6.203125 -2.515625 C -6.523438 -2.847656 -6.6875 -3.226562 -6.6875 -3.65625 C -6.6875 -3.675781 -6.679688 -3.710938 -6.671875 -3.765625 C -6.671875 -3.816406 -6.664062 -3.898438 -6.65625 -4.015625 L -5.5 -4.015625 C -5.507812 -3.953125 -5.515625 -3.890625 -5.515625 -3.828125 C -5.523438 -3.773438 -5.53125 -3.71875 -5.53125 -3.65625 C -5.53125 -3.101562 -5.347656 -2.675781 -4.984375 -2.375 C -4.628906 -2.082031 -4.222656 -1.9375 -3.765625 -1.9375 L 0 -1.9375 L 0 -0.84375 Z \"/>\n",
       "</symbol>\n",
       "<symbol overflow=\"visible\" id=\"glyph2-0\">\n",
       "<path style=\"stroke:none;\" d=\"M 0.484375 0 L 0.484375 -10.6875 L 8.96875 -10.6875 L 8.96875 0 Z M 7.625 -1.34375 L 7.625 -9.359375 L 1.8125 -9.359375 L 1.8125 -1.34375 Z \"/>\n",
       "</symbol>\n",
       "<symbol overflow=\"visible\" id=\"glyph2-1\">\n",
       "<path style=\"stroke:none;\" d=\"M 1.28125 -10.6875 L 9.0625 -10.6875 L 9.0625 -9.375 L 2.6875 -9.375 L 2.6875 -6.140625 L 8.59375 -6.140625 L 8.59375 -4.890625 L 2.6875 -4.890625 L 2.6875 -1.28125 L 9.171875 -1.28125 L 9.171875 0 L 1.28125 0 Z M 5.21875 -10.6875 Z \"/>\n",
       "</symbol>\n",
       "<symbol overflow=\"visible\" id=\"glyph2-2\">\n",
       "<path style=\"stroke:none;\" d=\"M 2.078125 -3.453125 C 2.109375 -2.847656 2.253906 -2.351562 2.515625 -1.96875 C 2.992188 -1.257812 3.835938 -0.90625 5.046875 -0.90625 C 5.585938 -0.90625 6.082031 -0.984375 6.53125 -1.140625 C 7.394531 -1.441406 7.828125 -1.984375 7.828125 -2.765625 C 7.828125 -3.335938 7.644531 -3.75 7.28125 -4 C 6.914062 -4.238281 6.335938 -4.453125 5.546875 -4.640625 L 4.109375 -4.96875 C 3.160156 -5.175781 2.488281 -5.410156 2.09375 -5.671875 C 1.414062 -6.117188 1.078125 -6.785156 1.078125 -7.671875 C 1.078125 -8.628906 1.410156 -9.414062 2.078125 -10.03125 C 2.742188 -10.65625 3.679688 -10.96875 4.890625 -10.96875 C 6.015625 -10.96875 6.96875 -10.695312 7.75 -10.15625 C 8.539062 -9.613281 8.9375 -8.75 8.9375 -7.5625 L 7.5625 -7.5625 C 7.488281 -8.125 7.335938 -8.5625 7.109375 -8.875 C 6.660156 -9.425781 5.910156 -9.703125 4.859375 -9.703125 C 4.003906 -9.703125 3.390625 -9.519531 3.015625 -9.15625 C 2.640625 -8.800781 2.453125 -8.390625 2.453125 -7.921875 C 2.453125 -7.398438 2.671875 -7.015625 3.109375 -6.765625 C 3.390625 -6.609375 4.035156 -6.414062 5.046875 -6.1875 L 6.546875 -5.84375 C 7.273438 -5.675781 7.832031 -5.453125 8.21875 -5.171875 C 8.90625 -4.671875 9.25 -3.941406 9.25 -2.984375 C 9.25 -1.804688 8.816406 -0.960938 7.953125 -0.453125 C 7.085938 0.0546875 6.085938 0.3125 4.953125 0.3125 C 3.617188 0.3125 2.578125 -0.0234375 1.828125 -0.703125 C 1.078125 -1.378906 0.707031 -2.296875 0.71875 -3.453125 Z M 5 -10.984375 Z \"/>\n",
       "</symbol>\n",
       "<symbol overflow=\"visible\" id=\"glyph2-3\">\n",
       "<path style=\"stroke:none;\" d=\"M 8.265625 -5.984375 L 8.265625 -4.765625 L 0.671875 -4.765625 L 0.671875 -5.984375 Z M 8.265625 -2.859375 L 8.265625 -1.609375 L 0.671875 -1.609375 L 0.671875 -2.859375 Z \"/>\n",
       "</symbol>\n",
       "<symbol overflow=\"visible\" id=\"glyph2-4\">\n",
       "<path style=\"stroke:none;\" d=\"M 1.421875 -7.375 L 1.421875 -8.390625 C 2.367188 -8.472656 3.03125 -8.625 3.40625 -8.84375 C 3.78125 -9.0625 4.0625 -9.570312 4.25 -10.375 L 5.28125 -10.375 L 5.28125 0 L 3.875 0 L 3.875 -7.375 Z \"/>\n",
       "</symbol>\n",
       "<symbol overflow=\"visible\" id=\"glyph2-5\">\n",
       "<path style=\"stroke:none;\" d=\"M 10.15625 -5.0625 C 10.851562 -5.0625 11.445312 -4.8125 11.9375 -4.3125 C 12.4375 -3.820312 12.6875 -3.226562 12.6875 -2.53125 C 12.6875 -1.832031 12.4375 -1.234375 11.9375 -0.734375 C 11.445312 -0.242188 10.851562 0 10.15625 0 C 9.457031 0 8.859375 -0.242188 8.359375 -0.734375 C 7.867188 -1.234375 7.625 -1.832031 7.625 -2.53125 C 7.625 -3.226562 7.867188 -3.820312 8.359375 -4.3125 C 8.859375 -4.8125 9.457031 -5.0625 10.15625 -5.0625 Z M 9.109375 -10.375 L 9.90625 -10.375 L 4.078125 0.28125 L 3.28125 0.28125 Z M 3.015625 -6.0625 C 3.429688 -6.0625 3.785156 -6.207031 4.078125 -6.5 C 4.367188 -6.800781 4.515625 -7.15625 4.515625 -7.5625 C 4.515625 -7.976562 4.367188 -8.332031 4.078125 -8.625 C 3.785156 -8.914062 3.429688 -9.0625 3.015625 -9.0625 C 2.597656 -9.0625 2.242188 -8.914062 1.953125 -8.625 C 1.660156 -8.34375 1.515625 -7.988281 1.515625 -7.5625 C 1.515625 -7.15625 1.660156 -6.800781 1.953125 -6.5 C 2.242188 -6.207031 2.597656 -6.0625 3.015625 -6.0625 Z M 3.015625 -10.109375 C 3.710938 -10.109375 4.304688 -9.859375 4.796875 -9.359375 C 5.296875 -8.867188 5.546875 -8.269531 5.546875 -7.5625 C 5.546875 -6.863281 5.296875 -6.265625 4.796875 -5.765625 C 4.304688 -5.273438 3.710938 -5.03125 3.015625 -5.03125 C 2.316406 -5.03125 1.71875 -5.273438 1.21875 -5.765625 C 0.726562 -6.265625 0.484375 -6.863281 0.484375 -7.5625 C 0.484375 -8.269531 0.726562 -8.867188 1.21875 -9.359375 C 1.71875 -9.859375 2.316406 -10.109375 3.015625 -10.109375 Z M 10.15625 -1.03125 C 10.570312 -1.03125 10.925781 -1.175781 11.21875 -1.46875 C 11.507812 -1.769531 11.65625 -2.125 11.65625 -2.53125 C 11.65625 -2.945312 11.507812 -3.300781 11.21875 -3.59375 C 10.925781 -3.882812 10.570312 -4.03125 10.15625 -4.03125 C 9.738281 -4.03125 9.382812 -3.882812 9.09375 -3.59375 C 8.800781 -3.300781 8.65625 -2.945312 8.65625 -2.53125 C 8.65625 -2.125 8.800781 -1.769531 9.09375 -1.46875 C 9.382812 -1.175781 9.738281 -1.03125 10.15625 -1.03125 Z \"/>\n",
       "</symbol>\n",
       "</g>\n",
       "</defs>\n",
       "<g id=\"surface1119\">\n",
       "<rect x=\"0\" y=\"0\" width=\"288\" height=\"288\" style=\"fill:rgb(100%,100%,100%);fill-opacity:1;stroke:none;\"/>\n",
       "<path style=\"fill:none;stroke-width:1;stroke-linecap:round;stroke-linejoin:round;stroke:rgb(0%,0%,0%);stroke-opacity:1;stroke-miterlimit:10;\" d=\"M 66.398438 208.800781 L 73.050781 202.339844 L 80.441406 182.953125 L 102.609375 173.722656 L 110 156.183594 L 124.777344 158.03125 L 139.554688 156.183594 L 176.503906 114.644531 L 213.453125 110.03125 L 250.398438 64.800781 \"/>\n",
       "<path style=\"fill:none;stroke-width:1;stroke-linecap:round;stroke-linejoin:round;stroke:rgb(0%,0%,0%);stroke-opacity:1;stroke-miterlimit:10;\" d=\"M 65.660156 214.558594 L 250.398438 214.558594 \"/>\n",
       "<path style=\"fill:none;stroke-width:1;stroke-linecap:round;stroke-linejoin:round;stroke:rgb(0%,0%,0%);stroke-opacity:1;stroke-miterlimit:10;\" d=\"M 65.660156 214.558594 L 65.660156 221.761719 \"/>\n",
       "<path style=\"fill:none;stroke-width:1;stroke-linecap:round;stroke-linejoin:round;stroke:rgb(0%,0%,0%);stroke-opacity:1;stroke-miterlimit:10;\" d=\"M 102.609375 214.558594 L 102.609375 221.761719 \"/>\n",
       "<path style=\"fill:none;stroke-width:1;stroke-linecap:round;stroke-linejoin:round;stroke:rgb(0%,0%,0%);stroke-opacity:1;stroke-miterlimit:10;\" d=\"M 139.554688 214.558594 L 139.554688 221.761719 \"/>\n",
       "<path style=\"fill:none;stroke-width:1;stroke-linecap:round;stroke-linejoin:round;stroke:rgb(0%,0%,0%);stroke-opacity:1;stroke-miterlimit:10;\" d=\"M 176.503906 214.558594 L 176.503906 221.761719 \"/>\n",
       "<path style=\"fill:none;stroke-width:1;stroke-linecap:round;stroke-linejoin:round;stroke:rgb(0%,0%,0%);stroke-opacity:1;stroke-miterlimit:10;\" d=\"M 213.453125 214.558594 L 213.453125 221.761719 \"/>\n",
       "<path style=\"fill:none;stroke-width:1;stroke-linecap:round;stroke-linejoin:round;stroke:rgb(0%,0%,0%);stroke-opacity:1;stroke-miterlimit:10;\" d=\"M 250.398438 214.558594 L 250.398438 221.761719 \"/>\n",
       "<g style=\"fill:rgb(0%,0%,0%);fill-opacity:1;\">\n",
       "  <use xlink:href=\"#glyph0-1\" x=\"62.183594\" y=\"241.921875\"/>\n",
       "</g>\n",
       "<g style=\"fill:rgb(0%,0%,0%);fill-opacity:1;\">\n",
       "  <use xlink:href=\"#glyph0-2\" x=\"92.179688\" y=\"241.921875\"/>\n",
       "  <use xlink:href=\"#glyph0-1\" x=\"99.131592\" y=\"241.921875\"/>\n",
       "  <use xlink:href=\"#glyph0-1\" x=\"106.083496\" y=\"241.921875\"/>\n",
       "</g>\n",
       "<g style=\"fill:rgb(0%,0%,0%);fill-opacity:1;\">\n",
       "  <use xlink:href=\"#glyph0-3\" x=\"125.652344\" y=\"241.921875\"/>\n",
       "  <use xlink:href=\"#glyph0-1\" x=\"132.604248\" y=\"241.921875\"/>\n",
       "  <use xlink:href=\"#glyph0-1\" x=\"139.556152\" y=\"241.921875\"/>\n",
       "  <use xlink:href=\"#glyph0-1\" x=\"146.508057\" y=\"241.921875\"/>\n",
       "</g>\n",
       "<g style=\"fill:rgb(0%,0%,0%);fill-opacity:1;\">\n",
       "  <use xlink:href=\"#glyph0-4\" x=\"199.550781\" y=\"241.921875\"/>\n",
       "  <use xlink:href=\"#glyph0-1\" x=\"206.502686\" y=\"241.921875\"/>\n",
       "  <use xlink:href=\"#glyph0-1\" x=\"213.45459\" y=\"241.921875\"/>\n",
       "  <use xlink:href=\"#glyph0-1\" x=\"220.406494\" y=\"241.921875\"/>\n",
       "</g>\n",
       "<path style=\"fill:none;stroke-width:1;stroke-linecap:round;stroke-linejoin:round;stroke:rgb(0%,0%,0%);stroke-opacity:1;stroke-miterlimit:10;\" d=\"M 59.039062 188.492188 L 59.039062 96.183594 \"/>\n",
       "<path style=\"fill:none;stroke-width:1;stroke-linecap:round;stroke-linejoin:round;stroke:rgb(0%,0%,0%);stroke-opacity:1;stroke-miterlimit:10;\" d=\"M 59.039062 188.492188 L 51.839844 188.492188 \"/>\n",
       "<path style=\"fill:none;stroke-width:1;stroke-linecap:round;stroke-linejoin:round;stroke:rgb(0%,0%,0%);stroke-opacity:1;stroke-miterlimit:10;\" d=\"M 59.039062 142.339844 L 51.839844 142.339844 \"/>\n",
       "<path style=\"fill:none;stroke-width:1;stroke-linecap:round;stroke-linejoin:round;stroke:rgb(0%,0%,0%);stroke-opacity:1;stroke-miterlimit:10;\" d=\"M 59.039062 96.183594 L 51.839844 96.183594 \"/>\n",
       "<g style=\"fill:rgb(0%,0%,0%);fill-opacity:1;\">\n",
       "  <use xlink:href=\"#glyph1-1\" x=\"43.199219\" y=\"200.65625\"/>\n",
       "  <use xlink:href=\"#glyph1-2\" x=\"43.199219\" y=\"193.704346\"/>\n",
       "  <use xlink:href=\"#glyph1-1\" x=\"43.199219\" y=\"190.231445\"/>\n",
       "  <use xlink:href=\"#glyph1-3\" x=\"43.199219\" y=\"183.279541\"/>\n",
       "</g>\n",
       "<g style=\"fill:rgb(0%,0%,0%);fill-opacity:1;\">\n",
       "  <use xlink:href=\"#glyph1-1\" x=\"43.199219\" y=\"154.503906\"/>\n",
       "  <use xlink:href=\"#glyph1-2\" x=\"43.199219\" y=\"147.552002\"/>\n",
       "  <use xlink:href=\"#glyph1-4\" x=\"43.199219\" y=\"144.079102\"/>\n",
       "  <use xlink:href=\"#glyph1-1\" x=\"43.199219\" y=\"137.127197\"/>\n",
       "</g>\n",
       "<g style=\"fill:rgb(0%,0%,0%);fill-opacity:1;\">\n",
       "  <use xlink:href=\"#glyph1-1\" x=\"43.199219\" y=\"108.347656\"/>\n",
       "  <use xlink:href=\"#glyph1-2\" x=\"43.199219\" y=\"101.395752\"/>\n",
       "  <use xlink:href=\"#glyph1-4\" x=\"43.199219\" y=\"97.922852\"/>\n",
       "  <use xlink:href=\"#glyph1-3\" x=\"43.199219\" y=\"90.970947\"/>\n",
       "</g>\n",
       "<path style=\"fill:none;stroke-width:1;stroke-linecap:round;stroke-linejoin:round;stroke:rgb(0%,0%,0%);stroke-opacity:1;stroke-miterlimit:10;\" d=\"M 59.039062 214.558594 L 257.761719 214.558594 L 257.761719 59.039062 L 59.039062 59.039062 L 59.039062 214.558594 \"/>\n",
       "<g style=\"fill:rgb(0%,0%,0%);fill-opacity:1;\">\n",
       "  <use xlink:href=\"#glyph2-1\" x=\"133.332031\" y=\"34.863281\"/>\n",
       "  <use xlink:href=\"#glyph2-2\" x=\"143.274384\" y=\"34.863281\"/>\n",
       "  <use xlink:href=\"#glyph2-3\" x=\"153.216736\" y=\"34.863281\"/>\n",
       "  <use xlink:href=\"#glyph2-4\" x=\"161.921753\" y=\"34.863281\"/>\n",
       "  <use xlink:href=\"#glyph2-5\" x=\"170.211899\" y=\"34.863281\"/>\n",
       "</g>\n",
       "<g style=\"fill:rgb(0%,0%,0%);fill-opacity:1;\">\n",
       "  <use xlink:href=\"#glyph0-5\" x=\"134.773438\" y=\"270.71875\"/>\n",
       "  <use xlink:href=\"#glyph0-6\" x=\"141.725342\" y=\"270.71875\"/>\n",
       "  <use xlink:href=\"#glyph0-7\" x=\"145.198242\" y=\"270.71875\"/>\n",
       "  <use xlink:href=\"#glyph0-8\" x=\"152.150146\" y=\"270.71875\"/>\n",
       "  <use xlink:href=\"#glyph0-6\" x=\"155.623047\" y=\"270.71875\"/>\n",
       "  <use xlink:href=\"#glyph0-9\" x=\"159.095947\" y=\"270.71875\"/>\n",
       "  <use xlink:href=\"#glyph0-7\" x=\"162.568848\" y=\"270.71875\"/>\n",
       "  <use xlink:href=\"#glyph0-10\" x=\"169.520752\" y=\"270.71875\"/>\n",
       "  <use xlink:href=\"#glyph0-10\" x=\"175.770752\" y=\"270.71875\"/>\n",
       "</g>\n",
       "<g style=\"fill:rgb(0%,0%,0%);fill-opacity:1;\">\n",
       "  <use xlink:href=\"#glyph1-5\" x=\"14.398438\" y=\"153.824219\"/>\n",
       "  <use xlink:href=\"#glyph1-6\" x=\"14.398438\" y=\"146.872314\"/>\n",
       "  <use xlink:href=\"#glyph1-7\" x=\"14.398438\" y=\"139.92041\"/>\n",
       "  <use xlink:href=\"#glyph1-8\" x=\"14.398438\" y=\"130.893311\"/>\n",
       "  <use xlink:href=\"#glyph1-9\" x=\"14.398438\" y=\"123.941406\"/>\n",
       "</g>\n",
       "</g>\n",
       "</svg>\n"
      ],
      "text/plain": [
       "Plot with title \"ES=1%\""
      ]
     },
     "metadata": {
      "image/svg+xml": {
       "isolated": true
      }
     },
     "output_type": "display_data"
    }
   ],
   "source": [
    "res = sapply(ntosses,coin.power,prob=.51)\n",
    "names(res) = ntosses\n",
    "plot( ntosses, res , type=\"l\", main=\"ES=1%\",xlab=\"# of toss\", ylab=\"power\")"
   ]
  },
  {
   "cell_type": "markdown",
   "metadata": {},
   "source": [
    "Clearly an effect of 1% is too small to be detected event by tossing the coin a thousand times. If a researcher would run this experiment he would conclude that the coin is fair with a probability of 85%, which we know is not true. \n",
    "\n",
    "**Thus the researcher has a 85% probability of finding drawing the wrong conclusions. It is important to note that even if several independant research groups would repeat this experiment the probability to find the correct conclusion is very small, less than 40%.**"
   ]
  },
  {
   "cell_type": "code",
   "execution_count": 143,
   "metadata": {},
   "outputs": [
    {
     "data": {
      "text/html": [
       "0.614125"
      ],
      "text/latex": [
       "0.614125"
      ],
      "text/markdown": [
       "0.614125"
      ],
      "text/plain": [
       "[1] 0.614125"
      ]
     },
     "execution_count": 143,
     "metadata": {},
     "output_type": "execute_result"
    }
   ],
   "source": [
    "0.85^3"
   ]
  },
  {
   "cell_type": "code",
   "execution_count": 258,
   "metadata": {},
   "outputs": [
    {
     "data": {
      "image/png": "[encoded data removed]",
      "image/svg+xml": [
       "<?xml version=\"1.0\" encoding=\"UTF-8\"?>\n",
       "<svg xmlns=\"http://www.w3.org/2000/svg\" xmlns:xlink=\"http://www.w3.org/1999/xlink\" width=\"576pt\" height=\"288pt\" viewBox=\"0 0 576 288\" version=\"1.1\">\n",
       "<defs>\n",
       "<g>\n",
       "<symbol overflow=\"visible\" id=\"glyph0-0\">\n",
       "<path style=\"stroke:none;\" d=\"M 0.40625 0 L 0.40625 -8.96875 L 7.515625 -8.96875 L 7.515625 0 Z M 6.390625 -1.125 L 6.390625 -7.84375 L 1.53125 -7.84375 L 1.53125 -1.125 Z \"/>\n",
       "</symbol>\n",
       "<symbol overflow=\"visible\" id=\"glyph0-1\">\n",
       "<path style=\"stroke:none;\" d=\"M 3.375 -8.734375 C 4.507812 -8.734375 5.328125 -8.269531 5.828125 -7.34375 C 6.222656 -6.625 6.421875 -5.632812 6.421875 -4.375 C 6.421875 -3.1875 6.242188 -2.207031 5.890625 -1.4375 C 5.378906 -0.320312 4.539062 0.234375 3.375 0.234375 C 2.320312 0.234375 1.539062 -0.21875 1.03125 -1.125 C 0.601562 -1.882812 0.390625 -2.90625 0.390625 -4.1875 C 0.390625 -5.1875 0.519531 -6.039062 0.78125 -6.75 C 1.257812 -8.070312 2.125 -8.734375 3.375 -8.734375 Z M 3.375 -0.765625 C 3.9375 -0.765625 4.382812 -1.015625 4.71875 -1.515625 C 5.0625 -2.023438 5.234375 -2.96875 5.234375 -4.34375 C 5.234375 -5.332031 5.109375 -6.144531 4.859375 -6.78125 C 4.617188 -7.425781 4.148438 -7.75 3.453125 -7.75 C 2.804688 -7.75 2.332031 -7.441406 2.03125 -6.828125 C 1.726562 -6.222656 1.578125 -5.332031 1.578125 -4.15625 C 1.578125 -3.257812 1.675781 -2.539062 1.875 -2 C 2.164062 -1.175781 2.664062 -0.765625 3.375 -0.765625 Z \"/>\n",
       "</symbol>\n",
       "<symbol overflow=\"visible\" id=\"glyph0-2\">\n",
       "<path style=\"stroke:none;\" d=\"M 1.546875 -2.234375 C 1.617188 -1.597656 1.910156 -1.160156 2.421875 -0.921875 C 2.679688 -0.804688 2.984375 -0.75 3.328125 -0.75 C 3.972656 -0.75 4.453125 -0.953125 4.765625 -1.359375 C 5.078125 -1.773438 5.234375 -2.238281 5.234375 -2.75 C 5.234375 -3.351562 5.046875 -3.820312 4.671875 -4.15625 C 4.304688 -4.488281 3.863281 -4.65625 3.34375 -4.65625 C 2.957031 -4.65625 2.628906 -4.582031 2.359375 -4.4375 C 2.085938 -4.289062 1.859375 -4.085938 1.671875 -3.828125 L 0.71875 -3.890625 L 1.390625 -8.59375 L 5.921875 -8.59375 L 5.921875 -7.53125 L 2.203125 -7.53125 L 1.84375 -5.109375 C 2.039062 -5.253906 2.234375 -5.367188 2.421875 -5.453125 C 2.742188 -5.585938 3.117188 -5.65625 3.546875 -5.65625 C 4.347656 -5.65625 5.023438 -5.394531 5.578125 -4.875 C 6.140625 -4.363281 6.421875 -3.707031 6.421875 -2.90625 C 6.421875 -2.082031 6.164062 -1.351562 5.65625 -0.71875 C 5.144531 -0.09375 4.328125 0.21875 3.203125 0.21875 C 2.492188 0.21875 1.863281 0.0195312 1.3125 -0.375 C 0.769531 -0.78125 0.46875 -1.398438 0.40625 -2.234375 Z \"/>\n",
       "</symbol>\n",
       "<symbol overflow=\"visible\" id=\"glyph0-3\">\n",
       "<path style=\"stroke:none;\" d=\"M 1.203125 -6.1875 L 1.203125 -7.03125 C 1.992188 -7.101562 2.546875 -7.226562 2.859375 -7.40625 C 3.171875 -7.59375 3.40625 -8.023438 3.5625 -8.703125 L 4.421875 -8.703125 L 4.421875 0 L 3.25 0 L 3.25 -6.1875 Z \"/>\n",
       "</symbol>\n",
       "<symbol overflow=\"visible\" id=\"glyph0-4\">\n",
       "<path style=\"stroke:none;\" d=\"M 0.390625 0 C 0.429688 -0.75 0.585938 -1.398438 0.859375 -1.953125 C 1.128906 -2.515625 1.65625 -3.023438 2.4375 -3.484375 L 3.609375 -4.15625 C 4.140625 -4.46875 4.507812 -4.726562 4.71875 -4.9375 C 5.050781 -5.28125 5.21875 -5.671875 5.21875 -6.109375 C 5.21875 -6.609375 5.0625 -7.007812 4.75 -7.3125 C 4.445312 -7.613281 4.046875 -7.765625 3.546875 -7.765625 C 2.785156 -7.765625 2.265625 -7.476562 1.984375 -6.90625 C 1.828125 -6.601562 1.738281 -6.179688 1.71875 -5.640625 L 0.609375 -5.640625 C 0.617188 -6.398438 0.757812 -7.019531 1.03125 -7.5 C 1.5 -8.34375 2.335938 -8.765625 3.546875 -8.765625 C 4.546875 -8.765625 5.273438 -8.492188 5.734375 -7.953125 C 6.203125 -7.410156 6.4375 -6.8125 6.4375 -6.15625 C 6.4375 -5.457031 6.1875 -4.859375 5.6875 -4.359375 C 5.40625 -4.066406 4.894531 -3.71875 4.15625 -3.3125 L 3.328125 -2.84375 C 2.929688 -2.625 2.617188 -2.414062 2.390625 -2.21875 C 1.984375 -1.863281 1.726562 -1.46875 1.625 -1.03125 L 6.390625 -1.03125 L 6.390625 0 Z \"/>\n",
       "</symbol>\n",
       "<symbol overflow=\"visible\" id=\"glyph0-5\">\n",
       "<path style=\"stroke:none;\" d=\"M 0.1875 -3.421875 L 1.609375 -3.421875 L 2.171875 -5.53125 L 0.765625 -5.53125 L 0.953125 -6.234375 L 2.375 -6.234375 L 3.09375 -8.96875 L 4 -8.96875 L 3.265625 -6.234375 L 4.609375 -6.234375 L 5.359375 -8.96875 L 6.265625 -8.96875 L 5.53125 -6.234375 L 6.9375 -6.234375 L 6.75 -5.53125 L 5.328125 -5.53125 L 4.75 -3.421875 L 6.171875 -3.421875 L 5.984375 -2.71875 L 4.578125 -2.71875 L 3.828125 0 L 2.9375 0 L 3.671875 -2.71875 L 2.3125 -2.71875 L 1.59375 0 L 0.671875 0 L 1.421875 -2.71875 L 0 -2.71875 Z M 3.84375 -3.421875 L 4.421875 -5.53125 L 3.078125 -5.53125 L 2.515625 -3.421875 Z \"/>\n",
       "</symbol>\n",
       "<symbol overflow=\"visible\" id=\"glyph0-6\">\n",
       "<path style=\"stroke:none;\" d=\"\"/>\n",
       "</symbol>\n",
       "<symbol overflow=\"visible\" id=\"glyph0-7\">\n",
       "<path style=\"stroke:none;\" d=\"M 3.40625 -0.703125 C 4.132812 -0.703125 4.628906 -0.976562 4.890625 -1.53125 C 5.160156 -2.082031 5.296875 -2.695312 5.296875 -3.375 C 5.296875 -3.988281 5.203125 -4.484375 5.015625 -4.859375 C 4.703125 -5.460938 4.164062 -5.765625 3.40625 -5.765625 C 2.738281 -5.765625 2.25 -5.507812 1.9375 -5 C 1.632812 -4.488281 1.484375 -3.867188 1.484375 -3.140625 C 1.484375 -2.441406 1.632812 -1.859375 1.9375 -1.390625 C 2.25 -0.929688 2.738281 -0.703125 3.40625 -0.703125 Z M 3.4375 -6.71875 C 4.28125 -6.71875 4.992188 -6.4375 5.578125 -5.875 C 6.160156 -5.320312 6.453125 -4.5 6.453125 -3.40625 C 6.453125 -2.351562 6.191406 -1.484375 5.671875 -0.796875 C 5.160156 -0.109375 4.367188 0.234375 3.296875 0.234375 C 2.398438 0.234375 1.6875 -0.0664062 1.15625 -0.671875 C 0.625 -1.285156 0.359375 -2.101562 0.359375 -3.125 C 0.359375 -4.21875 0.632812 -5.085938 1.1875 -5.734375 C 1.75 -6.390625 2.5 -6.71875 3.4375 -6.71875 Z M 3.40625 -6.703125 Z \"/>\n",
       "</symbol>\n",
       "<symbol overflow=\"visible\" id=\"glyph0-8\">\n",
       "<path style=\"stroke:none;\" d=\"M 1.078125 -7.53125 C 1.097656 -7.988281 1.175781 -8.320312 1.3125 -8.53125 C 1.570312 -8.90625 2.066406 -9.09375 2.796875 -9.09375 C 2.867188 -9.09375 2.941406 -9.085938 3.015625 -9.078125 C 3.085938 -9.078125 3.171875 -9.070312 3.265625 -9.0625 L 3.265625 -8.0625 C 3.148438 -8.070312 3.066406 -8.078125 3.015625 -8.078125 C 2.960938 -8.085938 2.914062 -8.09375 2.875 -8.09375 C 2.539062 -8.09375 2.335938 -8.003906 2.265625 -7.828125 C 2.203125 -7.648438 2.171875 -7.207031 2.171875 -6.5 L 3.265625 -6.5 L 3.265625 -5.640625 L 2.171875 -5.640625 L 2.171875 0 L 1.078125 0 L 1.078125 -5.640625 L 0.171875 -5.640625 L 0.171875 -6.5 L 1.078125 -6.5 Z \"/>\n",
       "</symbol>\n",
       "<symbol overflow=\"visible\" id=\"glyph0-9\">\n",
       "<path style=\"stroke:none;\" d=\"M 1.03125 -8.359375 L 2.140625 -8.359375 L 2.140625 -6.53125 L 3.1875 -6.53125 L 3.1875 -5.640625 L 2.140625 -5.640625 L 2.140625 -1.375 C 2.140625 -1.144531 2.21875 -0.992188 2.375 -0.921875 C 2.457031 -0.867188 2.597656 -0.84375 2.796875 -0.84375 C 2.847656 -0.84375 2.90625 -0.84375 2.96875 -0.84375 C 3.03125 -0.851562 3.101562 -0.859375 3.1875 -0.859375 L 3.1875 0 C 3.050781 0.0390625 2.914062 0.0664062 2.78125 0.078125 C 2.644531 0.0976562 2.5 0.109375 2.34375 0.109375 C 1.832031 0.109375 1.484375 -0.0195312 1.296875 -0.28125 C 1.117188 -0.550781 1.03125 -0.894531 1.03125 -1.3125 L 1.03125 -5.640625 L 0.140625 -5.640625 L 0.140625 -6.53125 L 1.03125 -6.53125 Z \"/>\n",
       "</symbol>\n",
       "<symbol overflow=\"visible\" id=\"glyph0-10\">\n",
       "<path style=\"stroke:none;\" d=\"M 1.453125 -2.046875 C 1.484375 -1.679688 1.578125 -1.398438 1.734375 -1.203125 C 2.015625 -0.847656 2.492188 -0.671875 3.171875 -0.671875 C 3.578125 -0.671875 3.9375 -0.757812 4.25 -0.9375 C 4.5625 -1.113281 4.71875 -1.390625 4.71875 -1.765625 C 4.71875 -2.046875 4.59375 -2.257812 4.34375 -2.40625 C 4.1875 -2.5 3.875 -2.601562 3.40625 -2.71875 L 2.53125 -2.9375 C 1.96875 -3.070312 1.554688 -3.226562 1.296875 -3.40625 C 0.828125 -3.695312 0.59375 -4.101562 0.59375 -4.625 C 0.59375 -5.25 0.8125 -5.75 1.25 -6.125 C 1.695312 -6.507812 2.296875 -6.703125 3.046875 -6.703125 C 4.035156 -6.703125 4.75 -6.414062 5.1875 -5.84375 C 5.457031 -5.476562 5.585938 -5.082031 5.578125 -4.65625 L 4.546875 -4.65625 C 4.523438 -4.90625 4.4375 -5.128906 4.28125 -5.328125 C 4.03125 -5.617188 3.59375 -5.765625 2.96875 -5.765625 C 2.550781 -5.765625 2.234375 -5.6875 2.015625 -5.53125 C 1.804688 -5.375 1.703125 -5.164062 1.703125 -4.90625 C 1.703125 -4.613281 1.84375 -4.382812 2.125 -4.21875 C 2.289062 -4.113281 2.53125 -4.023438 2.84375 -3.953125 L 3.578125 -3.765625 C 4.359375 -3.578125 4.882812 -3.394531 5.15625 -3.21875 C 5.582031 -2.9375 5.796875 -2.492188 5.796875 -1.890625 C 5.796875 -1.304688 5.570312 -0.800781 5.125 -0.375 C 4.6875 0.0390625 4.019531 0.25 3.125 0.25 C 2.144531 0.25 1.453125 0.03125 1.046875 -0.40625 C 0.648438 -0.851562 0.4375 -1.398438 0.40625 -2.046875 Z M 3.078125 -6.703125 Z \"/>\n",
       "</symbol>\n",
       "<symbol overflow=\"visible\" id=\"glyph1-0\">\n",
       "<path style=\"stroke:none;\" d=\"M 0 -0.40625 L -8.96875 -0.40625 L -8.96875 -7.515625 L 0 -7.515625 Z M -1.125 -6.390625 L -7.84375 -6.390625 L -7.84375 -1.53125 L -1.125 -1.53125 Z \"/>\n",
       "</symbol>\n",
       "<symbol overflow=\"visible\" id=\"glyph1-1\">\n",
       "<path style=\"stroke:none;\" d=\"M -8.734375 -3.375 C -8.734375 -4.507812 -8.269531 -5.328125 -7.34375 -5.828125 C -6.625 -6.222656 -5.632812 -6.421875 -4.375 -6.421875 C -3.1875 -6.421875 -2.207031 -6.242188 -1.4375 -5.890625 C -0.320312 -5.378906 0.234375 -4.539062 0.234375 -3.375 C 0.234375 -2.320312 -0.21875 -1.539062 -1.125 -1.03125 C -1.882812 -0.601562 -2.90625 -0.390625 -4.1875 -0.390625 C -5.1875 -0.390625 -6.039062 -0.519531 -6.75 -0.78125 C -8.070312 -1.257812 -8.734375 -2.125 -8.734375 -3.375 Z M -0.765625 -3.375 C -0.765625 -3.9375 -1.015625 -4.382812 -1.515625 -4.71875 C -2.023438 -5.0625 -2.96875 -5.234375 -4.34375 -5.234375 C -5.332031 -5.234375 -6.144531 -5.109375 -6.78125 -4.859375 C -7.425781 -4.617188 -7.75 -4.148438 -7.75 -3.453125 C -7.75 -2.804688 -7.441406 -2.332031 -6.828125 -2.03125 C -6.222656 -1.726562 -5.332031 -1.578125 -4.15625 -1.578125 C -3.257812 -1.578125 -2.539062 -1.675781 -2 -1.875 C -1.175781 -2.164062 -0.765625 -2.664062 -0.765625 -3.375 Z \"/>\n",
       "</symbol>\n",
       "<symbol overflow=\"visible\" id=\"glyph1-2\">\n",
       "<path style=\"stroke:none;\" d=\"M -1.328125 -1.0625 L -1.328125 -2.34375 L 0 -2.34375 L 0 -1.0625 Z \"/>\n",
       "</symbol>\n",
       "<symbol overflow=\"visible\" id=\"glyph1-3\">\n",
       "<path style=\"stroke:none;\" d=\"M 0 -0.390625 C -0.75 -0.429688 -1.398438 -0.585938 -1.953125 -0.859375 C -2.515625 -1.128906 -3.023438 -1.65625 -3.484375 -2.4375 L -4.15625 -3.609375 C -4.46875 -4.140625 -4.726562 -4.507812 -4.9375 -4.71875 C -5.28125 -5.050781 -5.671875 -5.21875 -6.109375 -5.21875 C -6.609375 -5.21875 -7.007812 -5.0625 -7.3125 -4.75 C -7.613281 -4.445312 -7.765625 -4.046875 -7.765625 -3.546875 C -7.765625 -2.785156 -7.476562 -2.265625 -6.90625 -1.984375 C -6.601562 -1.828125 -6.179688 -1.738281 -5.640625 -1.71875 L -5.640625 -0.609375 C -6.398438 -0.617188 -7.019531 -0.757812 -7.5 -1.03125 C -8.34375 -1.5 -8.765625 -2.335938 -8.765625 -3.546875 C -8.765625 -4.546875 -8.492188 -5.273438 -7.953125 -5.734375 C -7.410156 -6.203125 -6.8125 -6.4375 -6.15625 -6.4375 C -5.457031 -6.4375 -4.859375 -6.1875 -4.359375 -5.6875 C -4.066406 -5.40625 -3.71875 -4.894531 -3.3125 -4.15625 L -2.84375 -3.328125 C -2.625 -2.929688 -2.414062 -2.617188 -2.21875 -2.390625 C -1.863281 -1.984375 -1.46875 -1.726562 -1.03125 -1.625 L -1.03125 -6.390625 L 0 -6.390625 Z \"/>\n",
       "</symbol>\n",
       "<symbol overflow=\"visible\" id=\"glyph1-4\">\n",
       "<path style=\"stroke:none;\" d=\"M -3.09375 -4.125 L -7.0625 -4.125 L -3.09375 -1.328125 Z M 0 -4.15625 L -2.140625 -4.15625 L -2.140625 -0.3125 L -3.203125 -0.3125 L -8.765625 -4.328125 L -8.765625 -5.25 L -3.09375 -5.25 L -3.09375 -6.53125 L -2.140625 -6.53125 L -2.140625 -5.25 L 0 -5.25 Z \"/>\n",
       "</symbol>\n",
       "<symbol overflow=\"visible\" id=\"glyph1-5\">\n",
       "<path style=\"stroke:none;\" d=\"M -8.78125 -3.65625 C -8.78125 -4.632812 -8.523438 -5.316406 -8.015625 -5.703125 C -7.503906 -6.085938 -6.984375 -6.28125 -6.453125 -6.28125 L -6.453125 -5.1875 C -6.796875 -5.125 -7.066406 -5.019531 -7.265625 -4.875 C -7.628906 -4.613281 -7.8125 -4.210938 -7.8125 -3.671875 C -7.8125 -3.054688 -7.523438 -2.566406 -6.953125 -2.203125 C -6.390625 -1.847656 -5.578125 -1.648438 -4.515625 -1.609375 C -4.890625 -1.859375 -5.171875 -2.175781 -5.359375 -2.5625 C -5.515625 -2.90625 -5.59375 -3.296875 -5.59375 -3.734375 C -5.59375 -4.460938 -5.359375 -5.097656 -4.890625 -5.640625 C -4.421875 -6.191406 -3.722656 -6.46875 -2.796875 -6.46875 C -2.003906 -6.46875 -1.300781 -6.207031 -0.6875 -5.6875 C -0.0820312 -5.164062 0.21875 -4.429688 0.21875 -3.484375 C 0.21875 -2.660156 -0.0859375 -1.953125 -0.703125 -1.359375 C -1.328125 -0.765625 -2.375 -0.46875 -3.84375 -0.46875 C -4.925781 -0.46875 -5.847656 -0.597656 -6.609375 -0.859375 C -8.054688 -1.367188 -8.78125 -2.300781 -8.78125 -3.65625 Z M -0.75 -3.578125 C -0.75 -4.148438 -0.941406 -4.578125 -1.328125 -4.859375 C -1.722656 -5.148438 -2.179688 -5.296875 -2.703125 -5.296875 C -3.148438 -5.296875 -3.578125 -5.164062 -3.984375 -4.90625 C -4.390625 -4.65625 -4.59375 -4.191406 -4.59375 -3.515625 C -4.59375 -3.046875 -4.4375 -2.632812 -4.125 -2.28125 C -3.8125 -1.925781 -3.335938 -1.75 -2.703125 -1.75 C -2.148438 -1.75 -1.6875 -1.910156 -1.3125 -2.234375 C -0.9375 -2.554688 -0.75 -3.003906 -0.75 -3.578125 Z \"/>\n",
       "</symbol>\n",
       "<symbol overflow=\"visible\" id=\"glyph1-6\">\n",
       "<path style=\"stroke:none;\" d=\"M -5.078125 -3.40625 C -5.078125 -3.882812 -5.210938 -4.257812 -5.484375 -4.53125 C -5.753906 -4.800781 -6.078125 -4.9375 -6.453125 -4.9375 C -6.773438 -4.9375 -7.070312 -4.804688 -7.34375 -4.546875 C -7.613281 -4.285156 -7.75 -3.890625 -7.75 -3.359375 C -7.75 -2.828125 -7.613281 -2.441406 -7.34375 -2.203125 C -7.070312 -1.972656 -6.753906 -1.859375 -6.390625 -1.859375 C -5.984375 -1.859375 -5.660156 -2.007812 -5.421875 -2.3125 C -5.191406 -2.625 -5.078125 -2.988281 -5.078125 -3.40625 Z M -0.75 -3.46875 C -0.75 -3.976562 -0.882812 -4.398438 -1.15625 -4.734375 C -1.4375 -5.066406 -1.847656 -5.234375 -2.390625 -5.234375 C -2.953125 -5.234375 -3.378906 -5.0625 -3.671875 -4.71875 C -3.972656 -4.375 -4.125 -3.929688 -4.125 -3.390625 C -4.125 -2.859375 -3.972656 -2.425781 -3.671875 -2.09375 C -3.367188 -1.769531 -2.953125 -1.609375 -2.421875 -1.609375 C -1.972656 -1.609375 -1.582031 -1.757812 -1.25 -2.0625 C -0.914062 -2.363281 -0.75 -2.832031 -0.75 -3.46875 Z M -4.65625 -1.90625 C -4.789062 -1.601562 -4.941406 -1.363281 -5.109375 -1.1875 C -5.441406 -0.863281 -5.867188 -0.703125 -6.390625 -0.703125 C -7.035156 -0.703125 -7.59375 -0.9375 -8.0625 -1.40625 C -8.53125 -1.882812 -8.765625 -2.554688 -8.765625 -3.421875 C -8.765625 -4.265625 -8.539062 -4.921875 -8.09375 -5.390625 C -7.65625 -5.867188 -7.144531 -6.109375 -6.5625 -6.109375 C -6.007812 -6.109375 -5.566406 -5.96875 -5.234375 -5.6875 C -5.035156 -5.539062 -4.847656 -5.300781 -4.671875 -4.96875 C -4.503906 -5.332031 -4.3125 -5.617188 -4.09375 -5.828125 C -3.6875 -6.210938 -3.160156 -6.40625 -2.515625 -6.40625 C -1.742188 -6.40625 -1.085938 -6.144531 -0.546875 -5.625 C -0.015625 -5.113281 0.25 -4.382812 0.25 -3.4375 C 0.25 -2.59375 0.0195312 -1.875 -0.4375 -1.28125 C -0.90625 -0.695312 -1.578125 -0.40625 -2.453125 -0.40625 C -2.972656 -0.40625 -3.421875 -0.53125 -3.796875 -0.78125 C -4.171875 -1.03125 -4.457031 -1.40625 -4.65625 -1.90625 Z \"/>\n",
       "</symbol>\n",
       "<symbol overflow=\"visible\" id=\"glyph1-7\">\n",
       "<path style=\"stroke:none;\" d=\"M -6.1875 -1.203125 L -7.03125 -1.203125 C -7.101562 -1.992188 -7.226562 -2.546875 -7.40625 -2.859375 C -7.59375 -3.171875 -8.023438 -3.40625 -8.703125 -3.5625 L -8.703125 -4.421875 L 0 -4.421875 L 0 -3.25 L -6.1875 -3.25 Z \"/>\n",
       "</symbol>\n",
       "<symbol overflow=\"visible\" id=\"glyph1-8\">\n",
       "<path style=\"stroke:none;\" d=\"M -0.734375 -3.5625 C -0.734375 -4.070312 -0.945312 -4.5 -1.375 -4.84375 C -1.8125 -5.1875 -2.457031 -5.359375 -3.3125 -5.359375 C -3.832031 -5.359375 -4.28125 -5.28125 -4.65625 -5.125 C -5.375 -4.84375 -5.734375 -4.320312 -5.734375 -3.5625 C -5.734375 -2.800781 -5.351562 -2.28125 -4.59375 -2 C -4.1875 -1.851562 -3.671875 -1.78125 -3.046875 -1.78125 C -2.535156 -1.78125 -2.101562 -1.851562 -1.75 -2 C -1.070312 -2.28125 -0.734375 -2.800781 -0.734375 -3.5625 Z M -6.5 -0.71875 L -6.5 -1.78125 L -5.640625 -1.78125 C -5.929688 -2.007812 -6.160156 -2.253906 -6.328125 -2.515625 C -6.578125 -2.878906 -6.703125 -3.3125 -6.703125 -3.8125 C -6.703125 -4.550781 -6.414062 -5.175781 -5.84375 -5.6875 C -5.28125 -6.207031 -4.46875 -6.46875 -3.40625 -6.46875 C -1.988281 -6.46875 -0.972656 -6.097656 -0.359375 -5.359375 C 0.0234375 -4.890625 0.21875 -4.34375 0.21875 -3.71875 C 0.21875 -3.21875 0.109375 -2.800781 -0.109375 -2.46875 C -0.222656 -2.269531 -0.429688 -2.050781 -0.734375 -1.8125 L 2.609375 -1.8125 L 2.609375 -0.71875 Z \"/>\n",
       "</symbol>\n",
       "<symbol overflow=\"visible\" id=\"glyph1-9\">\n",
       "<path style=\"stroke:none;\" d=\"M -0.703125 -3.40625 C -0.703125 -4.132812 -0.976562 -4.628906 -1.53125 -4.890625 C -2.082031 -5.160156 -2.695312 -5.296875 -3.375 -5.296875 C -3.988281 -5.296875 -4.484375 -5.203125 -4.859375 -5.015625 C -5.460938 -4.703125 -5.765625 -4.164062 -5.765625 -3.40625 C -5.765625 -2.738281 -5.507812 -2.25 -5 -1.9375 C -4.488281 -1.632812 -3.867188 -1.484375 -3.140625 -1.484375 C -2.441406 -1.484375 -1.859375 -1.632812 -1.390625 -1.9375 C -0.929688 -2.25 -0.703125 -2.738281 -0.703125 -3.40625 Z M -6.71875 -3.4375 C -6.71875 -4.28125 -6.4375 -4.992188 -5.875 -5.578125 C -5.320312 -6.160156 -4.5 -6.453125 -3.40625 -6.453125 C -2.351562 -6.453125 -1.484375 -6.191406 -0.796875 -5.671875 C -0.109375 -5.160156 0.234375 -4.367188 0.234375 -3.296875 C 0.234375 -2.398438 -0.0664062 -1.6875 -0.671875 -1.15625 C -1.285156 -0.625 -2.101562 -0.359375 -3.125 -0.359375 C -4.21875 -0.359375 -5.085938 -0.632812 -5.734375 -1.1875 C -6.390625 -1.75 -6.71875 -2.5 -6.71875 -3.4375 Z M -6.703125 -3.40625 Z \"/>\n",
       "</symbol>\n",
       "<symbol overflow=\"visible\" id=\"glyph1-10\">\n",
       "<path style=\"stroke:none;\" d=\"M -6.53125 -1.3125 L -1.390625 -2.5625 L -6.53125 -3.84375 L -6.53125 -5.078125 L -1.421875 -6.359375 L -6.53125 -7.703125 L -6.53125 -8.796875 L 0 -6.890625 L 0 -5.75 L -5.0625 -4.421875 L 0 -3.140625 L 0 -2 L -6.53125 -0.109375 Z \"/>\n",
       "</symbol>\n",
       "<symbol overflow=\"visible\" id=\"glyph1-11\">\n",
       "<path style=\"stroke:none;\" d=\"M -6.6875 -3.53125 C -6.6875 -3.988281 -6.578125 -4.4375 -6.359375 -4.875 C -6.140625 -5.3125 -5.859375 -5.644531 -5.515625 -5.875 C -5.179688 -6.09375 -4.796875 -6.238281 -4.359375 -6.3125 C -4.054688 -6.375 -3.578125 -6.40625 -2.921875 -6.40625 L -2.921875 -1.625 C -2.253906 -1.632812 -1.71875 -1.785156 -1.3125 -2.078125 C -0.914062 -2.378906 -0.71875 -2.835938 -0.71875 -3.453125 C -0.71875 -4.023438 -0.90625 -4.484375 -1.28125 -4.828125 C -1.507812 -5.015625 -1.765625 -5.148438 -2.046875 -5.234375 L -2.046875 -6.3125 C -1.804688 -6.289062 -1.539062 -6.195312 -1.25 -6.03125 C -0.957031 -5.875 -0.71875 -5.695312 -0.53125 -5.5 C -0.195312 -5.164062 0.0234375 -4.75 0.140625 -4.25 C 0.203125 -3.988281 0.234375 -3.691406 0.234375 -3.359375 C 0.234375 -2.546875 -0.0625 -1.851562 -0.65625 -1.28125 C -1.25 -0.71875 -2.078125 -0.4375 -3.140625 -0.4375 C -4.191406 -0.4375 -5.046875 -0.722656 -5.703125 -1.296875 C -6.359375 -1.867188 -6.6875 -2.613281 -6.6875 -3.53125 Z M -3.796875 -5.28125 C -4.265625 -5.238281 -4.644531 -5.132812 -4.9375 -4.96875 C -5.457031 -4.664062 -5.71875 -4.160156 -5.71875 -3.453125 C -5.71875 -2.953125 -5.535156 -2.53125 -5.171875 -2.1875 C -4.804688 -1.84375 -4.347656 -1.660156 -3.796875 -1.640625 Z M -6.703125 -3.421875 Z \"/>\n",
       "</symbol>\n",
       "<symbol overflow=\"visible\" id=\"glyph1-12\">\n",
       "<path style=\"stroke:none;\" d=\"M -6.53125 -0.84375 L -6.53125 -1.875 L -5.40625 -1.875 C -5.625 -1.96875 -5.890625 -2.179688 -6.203125 -2.515625 C -6.523438 -2.847656 -6.6875 -3.226562 -6.6875 -3.65625 C -6.6875 -3.675781 -6.679688 -3.710938 -6.671875 -3.765625 C -6.671875 -3.816406 -6.664062 -3.898438 -6.65625 -4.015625 L -5.5 -4.015625 C -5.507812 -3.953125 -5.515625 -3.890625 -5.515625 -3.828125 C -5.523438 -3.773438 -5.53125 -3.71875 -5.53125 -3.65625 C -5.53125 -3.101562 -5.347656 -2.675781 -4.984375 -2.375 C -4.628906 -2.082031 -4.222656 -1.9375 -3.765625 -1.9375 L 0 -1.9375 L 0 -0.84375 Z \"/>\n",
       "</symbol>\n",
       "<symbol overflow=\"visible\" id=\"glyph2-0\">\n",
       "<path style=\"stroke:none;\" d=\"M 0.484375 0 L 0.484375 -10.6875 L 8.96875 -10.6875 L 8.96875 0 Z M 7.625 -1.34375 L 7.625 -9.359375 L 1.8125 -9.359375 L 1.8125 -1.34375 Z \"/>\n",
       "</symbol>\n",
       "<symbol overflow=\"visible\" id=\"glyph2-1\">\n",
       "<path style=\"stroke:none;\" d=\"M 1.28125 -10.6875 L 9.0625 -10.6875 L 9.0625 -9.375 L 2.6875 -9.375 L 2.6875 -6.140625 L 8.59375 -6.140625 L 8.59375 -4.890625 L 2.6875 -4.890625 L 2.6875 -1.28125 L 9.171875 -1.28125 L 9.171875 0 L 1.28125 0 Z M 5.21875 -10.6875 Z \"/>\n",
       "</symbol>\n",
       "<symbol overflow=\"visible\" id=\"glyph2-2\">\n",
       "<path style=\"stroke:none;\" d=\"M 2.078125 -3.453125 C 2.109375 -2.847656 2.253906 -2.351562 2.515625 -1.96875 C 2.992188 -1.257812 3.835938 -0.90625 5.046875 -0.90625 C 5.585938 -0.90625 6.082031 -0.984375 6.53125 -1.140625 C 7.394531 -1.441406 7.828125 -1.984375 7.828125 -2.765625 C 7.828125 -3.335938 7.644531 -3.75 7.28125 -4 C 6.914062 -4.238281 6.335938 -4.453125 5.546875 -4.640625 L 4.109375 -4.96875 C 3.160156 -5.175781 2.488281 -5.410156 2.09375 -5.671875 C 1.414062 -6.117188 1.078125 -6.785156 1.078125 -7.671875 C 1.078125 -8.628906 1.410156 -9.414062 2.078125 -10.03125 C 2.742188 -10.65625 3.679688 -10.96875 4.890625 -10.96875 C 6.015625 -10.96875 6.96875 -10.695312 7.75 -10.15625 C 8.539062 -9.613281 8.9375 -8.75 8.9375 -7.5625 L 7.5625 -7.5625 C 7.488281 -8.125 7.335938 -8.5625 7.109375 -8.875 C 6.660156 -9.425781 5.910156 -9.703125 4.859375 -9.703125 C 4.003906 -9.703125 3.390625 -9.519531 3.015625 -9.15625 C 2.640625 -8.800781 2.453125 -8.390625 2.453125 -7.921875 C 2.453125 -7.398438 2.671875 -7.015625 3.109375 -6.765625 C 3.390625 -6.609375 4.035156 -6.414062 5.046875 -6.1875 L 6.546875 -5.84375 C 7.273438 -5.675781 7.832031 -5.453125 8.21875 -5.171875 C 8.90625 -4.671875 9.25 -3.941406 9.25 -2.984375 C 9.25 -1.804688 8.816406 -0.960938 7.953125 -0.453125 C 7.085938 0.0546875 6.085938 0.3125 4.953125 0.3125 C 3.617188 0.3125 2.578125 -0.0234375 1.828125 -0.703125 C 1.078125 -1.378906 0.707031 -2.296875 0.71875 -3.453125 Z M 5 -10.984375 Z \"/>\n",
       "</symbol>\n",
       "<symbol overflow=\"visible\" id=\"glyph2-3\">\n",
       "<path style=\"stroke:none;\" d=\"M 8.265625 -5.984375 L 8.265625 -4.765625 L 0.671875 -4.765625 L 0.671875 -5.984375 Z M 8.265625 -2.859375 L 8.265625 -1.609375 L 0.671875 -1.609375 L 0.671875 -2.859375 Z \"/>\n",
       "</symbol>\n",
       "<symbol overflow=\"visible\" id=\"glyph2-4\">\n",
       "<path style=\"stroke:none;\" d=\"M 1.421875 -7.375 L 1.421875 -8.390625 C 2.367188 -8.472656 3.03125 -8.625 3.40625 -8.84375 C 3.78125 -9.0625 4.0625 -9.570312 4.25 -10.375 L 5.28125 -10.375 L 5.28125 0 L 3.875 0 L 3.875 -7.375 Z \"/>\n",
       "</symbol>\n",
       "<symbol overflow=\"visible\" id=\"glyph2-5\">\n",
       "<path style=\"stroke:none;\" d=\"M 0.625 -4.828125 L 4.265625 -4.828125 L 4.265625 -3.484375 L 0.625 -3.484375 Z \"/>\n",
       "</symbol>\n",
       "<symbol overflow=\"visible\" id=\"glyph2-6\">\n",
       "<path style=\"stroke:none;\" d=\"M 4.03125 -10.421875 C 5.382812 -10.421875 6.359375 -9.863281 6.953125 -8.75 C 7.421875 -7.894531 7.65625 -6.71875 7.65625 -5.21875 C 7.65625 -3.800781 7.445312 -2.628906 7.03125 -1.703125 C 6.414062 -0.378906 5.414062 0.28125 4.03125 0.28125 C 2.769531 0.28125 1.835938 -0.257812 1.234375 -1.34375 C 0.722656 -2.25 0.46875 -3.46875 0.46875 -5 C 0.46875 -6.1875 0.617188 -7.203125 0.921875 -8.046875 C 1.492188 -9.628906 2.53125 -10.421875 4.03125 -10.421875 Z M 4.015625 -0.90625 C 4.691406 -0.90625 5.234375 -1.207031 5.640625 -1.8125 C 6.046875 -2.414062 6.25 -3.535156 6.25 -5.171875 C 6.25 -6.359375 6.101562 -7.332031 5.8125 -8.09375 C 5.519531 -8.863281 4.953125 -9.25 4.109375 -9.25 C 3.335938 -9.25 2.773438 -8.882812 2.421875 -8.15625 C 2.066406 -7.425781 1.890625 -6.359375 1.890625 -4.953125 C 1.890625 -3.890625 2.003906 -3.035156 2.234375 -2.390625 C 2.578125 -1.398438 3.171875 -0.90625 4.015625 -0.90625 Z \"/>\n",
       "</symbol>\n",
       "<symbol overflow=\"visible\" id=\"glyph2-7\">\n",
       "<path style=\"stroke:none;\" d=\"M 10.15625 -5.0625 C 10.851562 -5.0625 11.445312 -4.8125 11.9375 -4.3125 C 12.4375 -3.820312 12.6875 -3.226562 12.6875 -2.53125 C 12.6875 -1.832031 12.4375 -1.234375 11.9375 -0.734375 C 11.445312 -0.242188 10.851562 0 10.15625 0 C 9.457031 0 8.859375 -0.242188 8.359375 -0.734375 C 7.867188 -1.234375 7.625 -1.832031 7.625 -2.53125 C 7.625 -3.226562 7.867188 -3.820312 8.359375 -4.3125 C 8.859375 -4.8125 9.457031 -5.0625 10.15625 -5.0625 Z M 9.109375 -10.375 L 9.90625 -10.375 L 4.078125 0.28125 L 3.28125 0.28125 Z M 3.015625 -6.0625 C 3.429688 -6.0625 3.785156 -6.207031 4.078125 -6.5 C 4.367188 -6.800781 4.515625 -7.15625 4.515625 -7.5625 C 4.515625 -7.976562 4.367188 -8.332031 4.078125 -8.625 C 3.785156 -8.914062 3.429688 -9.0625 3.015625 -9.0625 C 2.597656 -9.0625 2.242188 -8.914062 1.953125 -8.625 C 1.660156 -8.34375 1.515625 -7.988281 1.515625 -7.5625 C 1.515625 -7.15625 1.660156 -6.800781 1.953125 -6.5 C 2.242188 -6.207031 2.597656 -6.0625 3.015625 -6.0625 Z M 3.015625 -10.109375 C 3.710938 -10.109375 4.304688 -9.859375 4.796875 -9.359375 C 5.296875 -8.867188 5.546875 -8.269531 5.546875 -7.5625 C 5.546875 -6.863281 5.296875 -6.265625 4.796875 -5.765625 C 4.304688 -5.273438 3.710938 -5.03125 3.015625 -5.03125 C 2.316406 -5.03125 1.71875 -5.273438 1.21875 -5.765625 C 0.726562 -6.265625 0.484375 -6.863281 0.484375 -7.5625 C 0.484375 -8.269531 0.726562 -8.867188 1.21875 -9.359375 C 1.71875 -9.859375 2.316406 -10.109375 3.015625 -10.109375 Z M 10.15625 -1.03125 C 10.570312 -1.03125 10.925781 -1.175781 11.21875 -1.46875 C 11.507812 -1.769531 11.65625 -2.125 11.65625 -2.53125 C 11.65625 -2.945312 11.507812 -3.300781 11.21875 -3.59375 C 10.925781 -3.882812 10.570312 -4.03125 10.15625 -4.03125 C 9.738281 -4.03125 9.382812 -3.882812 9.09375 -3.59375 C 8.800781 -3.300781 8.65625 -2.945312 8.65625 -2.53125 C 8.65625 -2.125 8.800781 -1.769531 9.09375 -1.46875 C 9.382812 -1.175781 9.738281 -1.03125 10.15625 -1.03125 Z \"/>\n",
       "</symbol>\n",
       "<symbol overflow=\"visible\" id=\"glyph2-8\">\n",
       "<path style=\"stroke:none;\" d=\"M 1.234375 1.515625 C 1.566406 1.460938 1.800781 1.226562 1.9375 0.8125 C 2.007812 0.59375 2.046875 0.382812 2.046875 0.1875 C 2.046875 0.144531 2.046875 0.109375 2.046875 0.078125 C 2.046875 0.0546875 2.039062 0.03125 2.03125 0 L 1.234375 0 L 1.234375 -1.59375 L 2.796875 -1.59375 L 2.796875 -0.109375 C 2.796875 0.460938 2.675781 0.96875 2.4375 1.40625 C 2.207031 1.84375 1.804688 2.113281 1.234375 2.21875 Z \"/>\n",
       "</symbol>\n",
       "<symbol overflow=\"visible\" id=\"glyph2-9\">\n",
       "<path style=\"stroke:none;\" d=\"\"/>\n",
       "</symbol>\n",
       "<symbol overflow=\"visible\" id=\"glyph2-10\">\n",
       "<path style=\"stroke:none;\" d=\"M 1.96875 -2.078125 C 1.96875 -1.691406 2.101562 -1.390625 2.375 -1.171875 C 2.65625 -0.960938 2.984375 -0.859375 3.359375 -0.859375 C 3.816406 -0.859375 4.265625 -0.960938 4.703125 -1.171875 C 5.429688 -1.523438 5.796875 -2.101562 5.796875 -2.90625 L 5.796875 -3.96875 C 5.628906 -3.863281 5.421875 -3.773438 5.171875 -3.703125 C 4.921875 -3.640625 4.675781 -3.59375 4.4375 -3.5625 L 3.640625 -3.46875 C 3.160156 -3.40625 2.800781 -3.304688 2.5625 -3.171875 C 2.164062 -2.941406 1.96875 -2.578125 1.96875 -2.078125 Z M 5.140625 -4.71875 C 5.441406 -4.757812 5.644531 -4.890625 5.75 -5.109375 C 5.800781 -5.222656 5.828125 -5.390625 5.828125 -5.609375 C 5.828125 -6.054688 5.664062 -6.378906 5.34375 -6.578125 C 5.03125 -6.773438 4.578125 -6.875 3.984375 -6.875 C 3.304688 -6.875 2.820312 -6.691406 2.53125 -6.328125 C 2.375 -6.117188 2.269531 -5.816406 2.21875 -5.421875 L 1 -5.421875 C 1.019531 -6.378906 1.328125 -7.046875 1.921875 -7.421875 C 2.523438 -7.796875 3.222656 -7.984375 4.015625 -7.984375 C 4.929688 -7.984375 5.675781 -7.804688 6.25 -7.453125 C 6.820312 -7.109375 7.109375 -6.566406 7.109375 -5.828125 L 7.109375 -1.34375 C 7.109375 -1.207031 7.132812 -1.097656 7.1875 -1.015625 C 7.238281 -0.929688 7.359375 -0.890625 7.546875 -0.890625 C 7.597656 -0.890625 7.660156 -0.890625 7.734375 -0.890625 C 7.804688 -0.898438 7.882812 -0.914062 7.96875 -0.9375 L 7.96875 0.03125 C 7.769531 0.09375 7.613281 0.128906 7.5 0.140625 C 7.394531 0.160156 7.25 0.171875 7.0625 0.171875 C 6.613281 0.171875 6.285156 0.0078125 6.078125 -0.3125 C 5.972656 -0.476562 5.898438 -0.71875 5.859375 -1.03125 C 5.585938 -0.6875 5.203125 -0.382812 4.703125 -0.125 C 4.203125 0.132812 3.65625 0.265625 3.0625 0.265625 C 2.332031 0.265625 1.738281 0.046875 1.28125 -0.390625 C 0.820312 -0.835938 0.59375 -1.390625 0.59375 -2.046875 C 0.59375 -2.765625 0.816406 -3.320312 1.265625 -3.71875 C 1.722656 -4.125 2.316406 -4.375 3.046875 -4.46875 Z M 4.046875 -7.984375 Z \"/>\n",
       "</symbol>\n",
       "<symbol overflow=\"visible\" id=\"glyph2-11\">\n",
       "<path style=\"stroke:none;\" d=\"M 1 -10.6875 L 2.3125 -10.6875 L 2.3125 0 L 1 0 Z \"/>\n",
       "</symbol>\n",
       "<symbol overflow=\"visible\" id=\"glyph2-12\">\n",
       "<path style=\"stroke:none;\" d=\"M 4.25 -0.875 C 4.863281 -0.875 5.375 -1.128906 5.78125 -1.640625 C 6.1875 -2.160156 6.390625 -2.925781 6.390625 -3.9375 C 6.390625 -4.5625 6.296875 -5.097656 6.109375 -5.546875 C 5.773438 -6.398438 5.15625 -6.828125 4.25 -6.828125 C 3.34375 -6.828125 2.722656 -6.375 2.390625 -5.46875 C 2.210938 -4.988281 2.125 -4.375 2.125 -3.625 C 2.125 -3.019531 2.210938 -2.507812 2.390625 -2.09375 C 2.722656 -1.28125 3.34375 -0.875 4.25 -0.875 Z M 0.859375 -7.765625 L 2.125 -7.765625 L 2.125 -6.71875 C 2.394531 -7.070312 2.679688 -7.347656 2.984375 -7.546875 C 3.429688 -7.835938 3.953125 -7.984375 4.546875 -7.984375 C 5.429688 -7.984375 6.179688 -7.644531 6.796875 -6.96875 C 7.410156 -6.289062 7.71875 -5.320312 7.71875 -4.0625 C 7.71875 -2.363281 7.273438 -1.148438 6.390625 -0.421875 C 5.828125 0.0351562 5.171875 0.265625 4.421875 0.265625 C 3.835938 0.265625 3.347656 0.132812 2.953125 -0.125 C 2.710938 -0.269531 2.453125 -0.519531 2.171875 -0.875 L 2.171875 3.109375 L 0.859375 3.109375 Z \"/>\n",
       "</symbol>\n",
       "<symbol overflow=\"visible\" id=\"glyph2-13\">\n",
       "<path style=\"stroke:none;\" d=\"M 0.953125 -10.734375 L 2.265625 -10.734375 L 2.265625 -6.734375 C 2.578125 -7.128906 2.859375 -7.40625 3.109375 -7.5625 C 3.523438 -7.84375 4.050781 -7.984375 4.6875 -7.984375 C 5.820312 -7.984375 6.585938 -7.585938 6.984375 -6.796875 C 7.203125 -6.367188 7.3125 -5.769531 7.3125 -5 L 7.3125 0 L 5.96875 0 L 5.96875 -4.90625 C 5.96875 -5.476562 5.894531 -5.898438 5.75 -6.171875 C 5.507812 -6.597656 5.0625 -6.8125 4.40625 -6.8125 C 3.863281 -6.8125 3.367188 -6.625 2.921875 -6.25 C 2.484375 -5.875 2.265625 -5.171875 2.265625 -4.140625 L 2.265625 0 L 0.953125 0 Z \"/>\n",
       "</symbol>\n",
       "<symbol overflow=\"visible\" id=\"glyph2-14\">\n",
       "<path style=\"stroke:none;\" d=\"M 1.84375 -2.65625 C 1.925781 -1.90625 2.269531 -1.390625 2.875 -1.109375 C 3.1875 -0.960938 3.546875 -0.890625 3.953125 -0.890625 C 4.734375 -0.890625 5.3125 -1.132812 5.6875 -1.625 C 6.0625 -2.125 6.25 -2.675781 6.25 -3.28125 C 6.25 -4 6.023438 -4.554688 5.578125 -4.953125 C 5.128906 -5.359375 4.597656 -5.5625 3.984375 -5.5625 C 3.523438 -5.5625 3.132812 -5.472656 2.8125 -5.296875 C 2.5 -5.117188 2.226562 -4.878906 2 -4.578125 L 0.859375 -4.640625 L 1.65625 -10.25 L 7.0625 -10.25 L 7.0625 -8.984375 L 2.640625 -8.984375 L 2.1875 -6.078125 C 2.4375 -6.265625 2.664062 -6.40625 2.875 -6.5 C 3.269531 -6.65625 3.722656 -6.734375 4.234375 -6.734375 C 5.179688 -6.734375 5.988281 -6.425781 6.65625 -5.8125 C 7.320312 -5.195312 7.65625 -4.414062 7.65625 -3.46875 C 7.65625 -2.488281 7.347656 -1.617188 6.734375 -0.859375 C 6.128906 -0.109375 5.160156 0.265625 3.828125 0.265625 C 2.984375 0.265625 2.234375 0.0234375 1.578125 -0.453125 C 0.921875 -0.929688 0.554688 -1.664062 0.484375 -2.65625 Z \"/>\n",
       "</symbol>\n",
       "<symbol overflow=\"visible\" id=\"glyph2-15\">\n",
       "<path style=\"stroke:none;\" d=\"M 1.28125 -1.59375 L 2.796875 -1.59375 L 2.796875 0 L 1.28125 0 Z \"/>\n",
       "</symbol>\n",
       "</g>\n",
       "</defs>\n",
       "<g id=\"surface2096\">\n",
       "<rect x=\"0\" y=\"0\" width=\"576\" height=\"288\" style=\"fill:rgb(100%,100%,100%);fill-opacity:1;stroke:none;\"/>\n",
       "<path style=\"fill:none;stroke-width:1;stroke-linecap:round;stroke-linejoin:round;stroke:rgb(0%,0%,0%);stroke-opacity:1;stroke-miterlimit:10;\" d=\"M 65.660156 214.558594 L 250.398438 214.558594 \"/>\n",
       "<path style=\"fill:none;stroke-width:1;stroke-linecap:round;stroke-linejoin:round;stroke:rgb(0%,0%,0%);stroke-opacity:1;stroke-miterlimit:10;\" d=\"M 65.660156 214.558594 L 65.660156 221.761719 \"/>\n",
       "<path style=\"fill:none;stroke-width:1;stroke-linecap:round;stroke-linejoin:round;stroke:rgb(0%,0%,0%);stroke-opacity:1;stroke-miterlimit:10;\" d=\"M 102.609375 214.558594 L 102.609375 221.761719 \"/>\n",
       "<path style=\"fill:none;stroke-width:1;stroke-linecap:round;stroke-linejoin:round;stroke:rgb(0%,0%,0%);stroke-opacity:1;stroke-miterlimit:10;\" d=\"M 139.554688 214.558594 L 139.554688 221.761719 \"/>\n",
       "<path style=\"fill:none;stroke-width:1;stroke-linecap:round;stroke-linejoin:round;stroke:rgb(0%,0%,0%);stroke-opacity:1;stroke-miterlimit:10;\" d=\"M 176.503906 214.558594 L 176.503906 221.761719 \"/>\n",
       "<path style=\"fill:none;stroke-width:1;stroke-linecap:round;stroke-linejoin:round;stroke:rgb(0%,0%,0%);stroke-opacity:1;stroke-miterlimit:10;\" d=\"M 213.453125 214.558594 L 213.453125 221.761719 \"/>\n",
       "<path style=\"fill:none;stroke-width:1;stroke-linecap:round;stroke-linejoin:round;stroke:rgb(0%,0%,0%);stroke-opacity:1;stroke-miterlimit:10;\" d=\"M 250.398438 214.558594 L 250.398438 221.761719 \"/>\n",
       "<g style=\"fill:rgb(0%,0%,0%);fill-opacity:1;\">\n",
       "  <use xlink:href=\"#glyph0-1\" x=\"62.183594\" y=\"241.921875\"/>\n",
       "</g>\n",
       "<g style=\"fill:rgb(0%,0%,0%);fill-opacity:1;\">\n",
       "  <use xlink:href=\"#glyph0-2\" x=\"92.179688\" y=\"241.921875\"/>\n",
       "  <use xlink:href=\"#glyph0-1\" x=\"99.131592\" y=\"241.921875\"/>\n",
       "  <use xlink:href=\"#glyph0-1\" x=\"106.083496\" y=\"241.921875\"/>\n",
       "</g>\n",
       "<g style=\"fill:rgb(0%,0%,0%);fill-opacity:1;\">\n",
       "  <use xlink:href=\"#glyph0-3\" x=\"125.652344\" y=\"241.921875\"/>\n",
       "  <use xlink:href=\"#glyph0-1\" x=\"132.604248\" y=\"241.921875\"/>\n",
       "  <use xlink:href=\"#glyph0-1\" x=\"139.556152\" y=\"241.921875\"/>\n",
       "  <use xlink:href=\"#glyph0-1\" x=\"146.508057\" y=\"241.921875\"/>\n",
       "</g>\n",
       "<g style=\"fill:rgb(0%,0%,0%);fill-opacity:1;\">\n",
       "  <use xlink:href=\"#glyph0-4\" x=\"199.550781\" y=\"241.921875\"/>\n",
       "  <use xlink:href=\"#glyph0-1\" x=\"206.502686\" y=\"241.921875\"/>\n",
       "  <use xlink:href=\"#glyph0-1\" x=\"213.45459\" y=\"241.921875\"/>\n",
       "  <use xlink:href=\"#glyph0-1\" x=\"220.406494\" y=\"241.921875\"/>\n",
       "</g>\n",
       "<path style=\"fill:none;stroke-width:1;stroke-linecap:round;stroke-linejoin:round;stroke:rgb(0%,0%,0%);stroke-opacity:1;stroke-miterlimit:10;\" d=\"M 59.039062 208.800781 L 59.039062 64.800781 \"/>\n",
       "<path style=\"fill:none;stroke-width:1;stroke-linecap:round;stroke-linejoin:round;stroke:rgb(0%,0%,0%);stroke-opacity:1;stroke-miterlimit:10;\" d=\"M 59.039062 208.800781 L 51.839844 208.800781 \"/>\n",
       "<path style=\"fill:none;stroke-width:1;stroke-linecap:round;stroke-linejoin:round;stroke:rgb(0%,0%,0%);stroke-opacity:1;stroke-miterlimit:10;\" d=\"M 59.039062 180 L 51.839844 180 \"/>\n",
       "<path style=\"fill:none;stroke-width:1;stroke-linecap:round;stroke-linejoin:round;stroke:rgb(0%,0%,0%);stroke-opacity:1;stroke-miterlimit:10;\" d=\"M 59.039062 151.199219 L 51.839844 151.199219 \"/>\n",
       "<path style=\"fill:none;stroke-width:1;stroke-linecap:round;stroke-linejoin:round;stroke:rgb(0%,0%,0%);stroke-opacity:1;stroke-miterlimit:10;\" d=\"M 59.039062 122.398438 L 51.839844 122.398438 \"/>\n",
       "<path style=\"fill:none;stroke-width:1;stroke-linecap:round;stroke-linejoin:round;stroke:rgb(0%,0%,0%);stroke-opacity:1;stroke-miterlimit:10;\" d=\"M 59.039062 93.601562 L 51.839844 93.601562 \"/>\n",
       "<path style=\"fill:none;stroke-width:1;stroke-linecap:round;stroke-linejoin:round;stroke:rgb(0%,0%,0%);stroke-opacity:1;stroke-miterlimit:10;\" d=\"M 59.039062 64.800781 L 51.839844 64.800781 \"/>\n",
       "<g style=\"fill:rgb(0%,0%,0%);fill-opacity:1;\">\n",
       "  <use xlink:href=\"#glyph1-1\" x=\"43.199219\" y=\"217.488281\"/>\n",
       "  <use xlink:href=\"#glyph1-2\" x=\"43.199219\" y=\"210.536377\"/>\n",
       "  <use xlink:href=\"#glyph1-1\" x=\"43.199219\" y=\"207.063477\"/>\n",
       "</g>\n",
       "<g style=\"fill:rgb(0%,0%,0%);fill-opacity:1;\">\n",
       "  <use xlink:href=\"#glyph1-1\" x=\"43.199219\" y=\"188.6875\"/>\n",
       "  <use xlink:href=\"#glyph1-2\" x=\"43.199219\" y=\"181.735596\"/>\n",
       "  <use xlink:href=\"#glyph1-3\" x=\"43.199219\" y=\"178.262695\"/>\n",
       "</g>\n",
       "<g style=\"fill:rgb(0%,0%,0%);fill-opacity:1;\">\n",
       "  <use xlink:href=\"#glyph1-1\" x=\"43.199219\" y=\"159.886719\"/>\n",
       "  <use xlink:href=\"#glyph1-2\" x=\"43.199219\" y=\"152.934814\"/>\n",
       "  <use xlink:href=\"#glyph1-4\" x=\"43.199219\" y=\"149.461914\"/>\n",
       "</g>\n",
       "<g style=\"fill:rgb(0%,0%,0%);fill-opacity:1;\">\n",
       "  <use xlink:href=\"#glyph1-1\" x=\"43.199219\" y=\"131.085938\"/>\n",
       "  <use xlink:href=\"#glyph1-2\" x=\"43.199219\" y=\"124.134033\"/>\n",
       "  <use xlink:href=\"#glyph1-5\" x=\"43.199219\" y=\"120.661133\"/>\n",
       "</g>\n",
       "<g style=\"fill:rgb(0%,0%,0%);fill-opacity:1;\">\n",
       "  <use xlink:href=\"#glyph1-1\" x=\"43.199219\" y=\"102.289062\"/>\n",
       "  <use xlink:href=\"#glyph1-2\" x=\"43.199219\" y=\"95.337158\"/>\n",
       "  <use xlink:href=\"#glyph1-6\" x=\"43.199219\" y=\"91.864258\"/>\n",
       "</g>\n",
       "<g style=\"fill:rgb(0%,0%,0%);fill-opacity:1;\">\n",
       "  <use xlink:href=\"#glyph1-7\" x=\"43.199219\" y=\"73.488281\"/>\n",
       "  <use xlink:href=\"#glyph1-2\" x=\"43.199219\" y=\"66.536377\"/>\n",
       "  <use xlink:href=\"#glyph1-1\" x=\"43.199219\" y=\"63.063477\"/>\n",
       "</g>\n",
       "<path style=\"fill:none;stroke-width:1;stroke-linecap:round;stroke-linejoin:round;stroke:rgb(0%,0%,0%);stroke-opacity:1;stroke-miterlimit:10;\" d=\"M 59.039062 214.558594 L 257.761719 214.558594 L 257.761719 59.039062 L 59.039062 59.039062 L 59.039062 214.558594 \"/>\n",
       "<g style=\"fill:rgb(0%,0%,0%);fill-opacity:1;\">\n",
       "  <use xlink:href=\"#glyph2-1\" x=\"85.058594\" y=\"34.863281\"/>\n",
       "  <use xlink:href=\"#glyph2-2\" x=\"95.000946\" y=\"34.863281\"/>\n",
       "  <use xlink:href=\"#glyph2-3\" x=\"104.943298\" y=\"34.863281\"/>\n",
       "  <use xlink:href=\"#glyph2-4\" x=\"113.648315\" y=\"34.863281\"/>\n",
       "  <use xlink:href=\"#glyph2-5\" x=\"121.938461\" y=\"34.863281\"/>\n",
       "  <use xlink:href=\"#glyph2-4\" x=\"126.902359\" y=\"34.863281\"/>\n",
       "  <use xlink:href=\"#glyph2-6\" x=\"135.192505\" y=\"34.863281\"/>\n",
       "  <use xlink:href=\"#glyph2-7\" x=\"143.482651\" y=\"34.863281\"/>\n",
       "  <use xlink:href=\"#glyph2-8\" x=\"156.736694\" y=\"34.863281\"/>\n",
       "  <use xlink:href=\"#glyph2-9\" x=\"160.878128\" y=\"34.863281\"/>\n",
       "  <use xlink:href=\"#glyph2-10\" x=\"165.019562\" y=\"34.863281\"/>\n",
       "  <use xlink:href=\"#glyph2-11\" x=\"173.309708\" y=\"34.863281\"/>\n",
       "  <use xlink:href=\"#glyph2-12\" x=\"176.621399\" y=\"34.863281\"/>\n",
       "  <use xlink:href=\"#glyph2-13\" x=\"184.911545\" y=\"34.863281\"/>\n",
       "  <use xlink:href=\"#glyph2-10\" x=\"193.201691\" y=\"34.863281\"/>\n",
       "  <use xlink:href=\"#glyph2-3\" x=\"201.491837\" y=\"34.863281\"/>\n",
       "  <use xlink:href=\"#glyph2-14\" x=\"210.196854\" y=\"34.863281\"/>\n",
       "  <use xlink:href=\"#glyph2-7\" x=\"218.487\" y=\"34.863281\"/>\n",
       "</g>\n",
       "<g style=\"fill:rgb(0%,0%,0%);fill-opacity:1;\">\n",
       "  <use xlink:href=\"#glyph0-5\" x=\"134.773438\" y=\"270.71875\"/>\n",
       "  <use xlink:href=\"#glyph0-6\" x=\"141.725342\" y=\"270.71875\"/>\n",
       "  <use xlink:href=\"#glyph0-7\" x=\"145.198242\" y=\"270.71875\"/>\n",
       "  <use xlink:href=\"#glyph0-8\" x=\"152.150146\" y=\"270.71875\"/>\n",
       "  <use xlink:href=\"#glyph0-6\" x=\"155.623047\" y=\"270.71875\"/>\n",
       "  <use xlink:href=\"#glyph0-9\" x=\"159.095947\" y=\"270.71875\"/>\n",
       "  <use xlink:href=\"#glyph0-7\" x=\"162.568848\" y=\"270.71875\"/>\n",
       "  <use xlink:href=\"#glyph0-10\" x=\"169.520752\" y=\"270.71875\"/>\n",
       "  <use xlink:href=\"#glyph0-10\" x=\"175.770752\" y=\"270.71875\"/>\n",
       "</g>\n",
       "<g style=\"fill:rgb(0%,0%,0%);fill-opacity:1;\">\n",
       "  <use xlink:href=\"#glyph1-8\" x=\"14.398438\" y=\"153.824219\"/>\n",
       "  <use xlink:href=\"#glyph1-9\" x=\"14.398438\" y=\"146.872314\"/>\n",
       "  <use xlink:href=\"#glyph1-10\" x=\"14.398438\" y=\"139.92041\"/>\n",
       "  <use xlink:href=\"#glyph1-11\" x=\"14.398438\" y=\"130.893311\"/>\n",
       "  <use xlink:href=\"#glyph1-12\" x=\"14.398438\" y=\"123.941406\"/>\n",
       "</g>\n",
       "<path style=\"fill:none;stroke-width:1;stroke-linecap:round;stroke-linejoin:round;stroke:rgb(40%,20%,0%);stroke-opacity:1;stroke-miterlimit:10;\" d=\"M 66.398438 206.351562 L 73.050781 203.183594 L 80.441406 204.335938 L 102.609375 202.464844 L 110 202.320312 L 124.777344 202.175781 L 139.554688 203.039062 L 176.503906 201.742188 L 213.453125 201.3125 L 250.398438 201.023438 \"/>\n",
       "<path style=\"fill:none;stroke-width:1;stroke-linecap:round;stroke-linejoin:round;stroke:rgb(40%,20%,10.980392%);stroke-opacity:1;stroke-miterlimit:10;\" d=\"M 66.398438 205.488281 L 73.050781 203.617188 L 80.441406 200.878906 L 102.609375 197.710938 L 110 198 L 124.777344 199.152344 L 139.554688 195.40625 L 176.503906 186.769531 L 213.453125 188.207031 L 250.398438 181.441406 \"/>\n",
       "<path style=\"fill:none;stroke-width:1;stroke-linecap:round;stroke-linejoin:round;stroke:rgb(40%,20%,22.352941%);stroke-opacity:1;stroke-miterlimit:10;\" d=\"M 66.398438 206.496094 L 73.050781 202.464844 L 80.441406 196.273438 L 102.609375 187.34375 L 110 180.289062 L 124.777344 175.390625 L 139.554688 166.175781 L 176.503906 151.054688 L 213.453125 137.089844 L 250.398438 126.144531 \"/>\n",
       "<path style=\"fill:none;stroke-width:1;stroke-linecap:round;stroke-linejoin:round;stroke:rgb(40%,20%,33.333333%);stroke-opacity:1;stroke-miterlimit:10;\" d=\"M 66.398438 205.777344 L 73.050781 195.984375 L 80.441406 187.632812 L 102.609375 168.625 L 110 153.503906 L 124.777344 142.273438 L 139.554688 130.894531 L 176.503906 102.816406 L 213.453125 85.105469 L 250.398438 77.617188 \"/>\n",
       "<path style=\"fill:none;stroke-width:1;stroke-linecap:round;stroke-linejoin:round;stroke:rgb(40%,20%,44.313725%);stroke-opacity:1;stroke-miterlimit:10;\" d=\"M 66.398438 205.777344 L 73.050781 194.6875 L 80.441406 179.566406 L 102.609375 142.414062 L 110 129.023438 L 124.777344 107.28125 L 139.554688 92.878906 L 176.503906 74.304688 L 213.453125 68.542969 L 250.398438 65.519531 \"/>\n",
       "<path style=\"fill:none;stroke-width:1;stroke-linecap:round;stroke-linejoin:round;stroke:rgb(40%,20%,55.686275%);stroke-opacity:1;stroke-miterlimit:10;\" d=\"M 66.398438 204.625 L 73.050781 186.625 L 80.441406 162.433594 L 102.609375 113.183594 L 110 100.65625 L 124.777344 82.222656 L 139.554688 73.007812 L 176.503906 66.097656 L 213.453125 65.230469 L 250.398438 64.800781 \"/>\n",
       "<path style=\"fill:none;stroke-width:1;stroke-linecap:round;stroke-linejoin:round;stroke:rgb(40%,20%,66.666667%);stroke-opacity:1;stroke-miterlimit:10;\" d=\"M 66.398438 203.472656 L 73.050781 174.671875 L 80.441406 142.414062 L 102.609375 90.574219 L 110 79.199219 L 124.777344 71.28125 L 139.554688 66.097656 L 176.503906 64.945312 L 213.453125 64.800781 L 250.398438 64.800781 \"/>\n",
       "<path style=\"fill:none;stroke-width:1;stroke-linecap:round;stroke-linejoin:round;stroke:rgb(40%,20%,77.647059%);stroke-opacity:1;stroke-miterlimit:10;\" d=\"M 66.398438 202.320312 L 73.050781 165.886719 L 80.441406 127.871094 L 102.609375 75.3125 L 110 69.839844 L 124.777344 66.527344 L 139.554688 64.800781 L 250.398438 64.800781 \"/>\n",
       "<path style=\"fill:none;stroke-width:1;stroke-linecap:round;stroke-linejoin:round;stroke:rgb(40%,20%,89.019608%);stroke-opacity:1;stroke-miterlimit:10;\" d=\"M 66.398438 203.183594 L 73.050781 157.96875 L 80.441406 111.457031 L 102.609375 67.246094 L 110 66.097656 L 124.777344 64.945312 L 139.554688 64.800781 L 250.398438 64.800781 \"/>\n",
       "<path style=\"fill:none;stroke-width:1;stroke-linecap:round;stroke-linejoin:round;stroke:rgb(40%,20%,100%);stroke-opacity:1;stroke-miterlimit:10;\" d=\"M 66.398438 201.886719 L 73.050781 141.984375 L 80.441406 97.777344 L 102.609375 65.953125 L 110 64.800781 L 250.398438 64.800781 \"/>\n",
       "<path style=\"fill:none;stroke-width:1;stroke-linecap:round;stroke-linejoin:round;stroke:rgb(0%,0%,0%);stroke-opacity:1;stroke-miterlimit:10;\" d=\"M 353.660156 214.558594 L 538.398438 214.558594 \"/>\n",
       "<path style=\"fill:none;stroke-width:1;stroke-linecap:round;stroke-linejoin:round;stroke:rgb(0%,0%,0%);stroke-opacity:1;stroke-miterlimit:10;\" d=\"M 353.660156 214.558594 L 353.660156 221.761719 \"/>\n",
       "<path style=\"fill:none;stroke-width:1;stroke-linecap:round;stroke-linejoin:round;stroke:rgb(0%,0%,0%);stroke-opacity:1;stroke-miterlimit:10;\" d=\"M 390.609375 214.558594 L 390.609375 221.761719 \"/>\n",
       "<path style=\"fill:none;stroke-width:1;stroke-linecap:round;stroke-linejoin:round;stroke:rgb(0%,0%,0%);stroke-opacity:1;stroke-miterlimit:10;\" d=\"M 427.554688 214.558594 L 427.554688 221.761719 \"/>\n",
       "<path style=\"fill:none;stroke-width:1;stroke-linecap:round;stroke-linejoin:round;stroke:rgb(0%,0%,0%);stroke-opacity:1;stroke-miterlimit:10;\" d=\"M 464.503906 214.558594 L 464.503906 221.761719 \"/>\n",
       "<path style=\"fill:none;stroke-width:1;stroke-linecap:round;stroke-linejoin:round;stroke:rgb(0%,0%,0%);stroke-opacity:1;stroke-miterlimit:10;\" d=\"M 501.453125 214.558594 L 501.453125 221.761719 \"/>\n",
       "<path style=\"fill:none;stroke-width:1;stroke-linecap:round;stroke-linejoin:round;stroke:rgb(0%,0%,0%);stroke-opacity:1;stroke-miterlimit:10;\" d=\"M 538.398438 214.558594 L 538.398438 221.761719 \"/>\n",
       "<g style=\"fill:rgb(0%,0%,0%);fill-opacity:1;\">\n",
       "  <use xlink:href=\"#glyph0-1\" x=\"350.183594\" y=\"241.921875\"/>\n",
       "</g>\n",
       "<g style=\"fill:rgb(0%,0%,0%);fill-opacity:1;\">\n",
       "  <use xlink:href=\"#glyph0-2\" x=\"380.179688\" y=\"241.921875\"/>\n",
       "  <use xlink:href=\"#glyph0-1\" x=\"387.131592\" y=\"241.921875\"/>\n",
       "  <use xlink:href=\"#glyph0-1\" x=\"394.083496\" y=\"241.921875\"/>\n",
       "</g>\n",
       "<g style=\"fill:rgb(0%,0%,0%);fill-opacity:1;\">\n",
       "  <use xlink:href=\"#glyph0-3\" x=\"413.652344\" y=\"241.921875\"/>\n",
       "  <use xlink:href=\"#glyph0-1\" x=\"420.604248\" y=\"241.921875\"/>\n",
       "  <use xlink:href=\"#glyph0-1\" x=\"427.556152\" y=\"241.921875\"/>\n",
       "  <use xlink:href=\"#glyph0-1\" x=\"434.508057\" y=\"241.921875\"/>\n",
       "</g>\n",
       "<g style=\"fill:rgb(0%,0%,0%);fill-opacity:1;\">\n",
       "  <use xlink:href=\"#glyph0-4\" x=\"487.550781\" y=\"241.921875\"/>\n",
       "  <use xlink:href=\"#glyph0-1\" x=\"494.502686\" y=\"241.921875\"/>\n",
       "  <use xlink:href=\"#glyph0-1\" x=\"501.45459\" y=\"241.921875\"/>\n",
       "  <use xlink:href=\"#glyph0-1\" x=\"508.406494\" y=\"241.921875\"/>\n",
       "</g>\n",
       "<path style=\"fill:none;stroke-width:1;stroke-linecap:round;stroke-linejoin:round;stroke:rgb(0%,0%,0%);stroke-opacity:1;stroke-miterlimit:10;\" d=\"M 347.039062 208.800781 L 347.039062 64.800781 \"/>\n",
       "<path style=\"fill:none;stroke-width:1;stroke-linecap:round;stroke-linejoin:round;stroke:rgb(0%,0%,0%);stroke-opacity:1;stroke-miterlimit:10;\" d=\"M 347.039062 208.800781 L 339.839844 208.800781 \"/>\n",
       "<path style=\"fill:none;stroke-width:1;stroke-linecap:round;stroke-linejoin:round;stroke:rgb(0%,0%,0%);stroke-opacity:1;stroke-miterlimit:10;\" d=\"M 347.039062 180 L 339.839844 180 \"/>\n",
       "<path style=\"fill:none;stroke-width:1;stroke-linecap:round;stroke-linejoin:round;stroke:rgb(0%,0%,0%);stroke-opacity:1;stroke-miterlimit:10;\" d=\"M 347.039062 151.199219 L 339.839844 151.199219 \"/>\n",
       "<path style=\"fill:none;stroke-width:1;stroke-linecap:round;stroke-linejoin:round;stroke:rgb(0%,0%,0%);stroke-opacity:1;stroke-miterlimit:10;\" d=\"M 347.039062 122.398438 L 339.839844 122.398438 \"/>\n",
       "<path style=\"fill:none;stroke-width:1;stroke-linecap:round;stroke-linejoin:round;stroke:rgb(0%,0%,0%);stroke-opacity:1;stroke-miterlimit:10;\" d=\"M 347.039062 93.601562 L 339.839844 93.601562 \"/>\n",
       "<path style=\"fill:none;stroke-width:1;stroke-linecap:round;stroke-linejoin:round;stroke:rgb(0%,0%,0%);stroke-opacity:1;stroke-miterlimit:10;\" d=\"M 347.039062 64.800781 L 339.839844 64.800781 \"/>\n",
       "<g style=\"fill:rgb(0%,0%,0%);fill-opacity:1;\">\n",
       "  <use xlink:href=\"#glyph1-1\" x=\"331.199219\" y=\"217.488281\"/>\n",
       "  <use xlink:href=\"#glyph1-2\" x=\"331.199219\" y=\"210.536377\"/>\n",
       "  <use xlink:href=\"#glyph1-1\" x=\"331.199219\" y=\"207.063477\"/>\n",
       "</g>\n",
       "<g style=\"fill:rgb(0%,0%,0%);fill-opacity:1;\">\n",
       "  <use xlink:href=\"#glyph1-1\" x=\"331.199219\" y=\"188.6875\"/>\n",
       "  <use xlink:href=\"#glyph1-2\" x=\"331.199219\" y=\"181.735596\"/>\n",
       "  <use xlink:href=\"#glyph1-3\" x=\"331.199219\" y=\"178.262695\"/>\n",
       "</g>\n",
       "<g style=\"fill:rgb(0%,0%,0%);fill-opacity:1;\">\n",
       "  <use xlink:href=\"#glyph1-1\" x=\"331.199219\" y=\"159.886719\"/>\n",
       "  <use xlink:href=\"#glyph1-2\" x=\"331.199219\" y=\"152.934814\"/>\n",
       "  <use xlink:href=\"#glyph1-4\" x=\"331.199219\" y=\"149.461914\"/>\n",
       "</g>\n",
       "<g style=\"fill:rgb(0%,0%,0%);fill-opacity:1;\">\n",
       "  <use xlink:href=\"#glyph1-1\" x=\"331.199219\" y=\"131.085938\"/>\n",
       "  <use xlink:href=\"#glyph1-2\" x=\"331.199219\" y=\"124.134033\"/>\n",
       "  <use xlink:href=\"#glyph1-5\" x=\"331.199219\" y=\"120.661133\"/>\n",
       "</g>\n",
       "<g style=\"fill:rgb(0%,0%,0%);fill-opacity:1;\">\n",
       "  <use xlink:href=\"#glyph1-1\" x=\"331.199219\" y=\"102.289062\"/>\n",
       "  <use xlink:href=\"#glyph1-2\" x=\"331.199219\" y=\"95.337158\"/>\n",
       "  <use xlink:href=\"#glyph1-6\" x=\"331.199219\" y=\"91.864258\"/>\n",
       "</g>\n",
       "<g style=\"fill:rgb(0%,0%,0%);fill-opacity:1;\">\n",
       "  <use xlink:href=\"#glyph1-7\" x=\"331.199219\" y=\"73.488281\"/>\n",
       "  <use xlink:href=\"#glyph1-2\" x=\"331.199219\" y=\"66.536377\"/>\n",
       "  <use xlink:href=\"#glyph1-1\" x=\"331.199219\" y=\"63.063477\"/>\n",
       "</g>\n",
       "<path style=\"fill:none;stroke-width:1;stroke-linecap:round;stroke-linejoin:round;stroke:rgb(0%,0%,0%);stroke-opacity:1;stroke-miterlimit:10;\" d=\"M 347.039062 214.558594 L 545.761719 214.558594 L 545.761719 59.039062 L 347.039062 59.039062 L 347.039062 214.558594 \"/>\n",
       "<g style=\"fill:rgb(0%,0%,0%);fill-opacity:1;\">\n",
       "  <use xlink:href=\"#glyph2-1\" x=\"370.988281\" y=\"34.863281\"/>\n",
       "  <use xlink:href=\"#glyph2-2\" x=\"380.930634\" y=\"34.863281\"/>\n",
       "  <use xlink:href=\"#glyph2-3\" x=\"390.872986\" y=\"34.863281\"/>\n",
       "  <use xlink:href=\"#glyph2-4\" x=\"399.578003\" y=\"34.863281\"/>\n",
       "  <use xlink:href=\"#glyph2-5\" x=\"407.868149\" y=\"34.863281\"/>\n",
       "  <use xlink:href=\"#glyph2-4\" x=\"412.832047\" y=\"34.863281\"/>\n",
       "  <use xlink:href=\"#glyph2-6\" x=\"421.122192\" y=\"34.863281\"/>\n",
       "  <use xlink:href=\"#glyph2-7\" x=\"429.412338\" y=\"34.863281\"/>\n",
       "  <use xlink:href=\"#glyph2-8\" x=\"442.666382\" y=\"34.863281\"/>\n",
       "  <use xlink:href=\"#glyph2-9\" x=\"446.807816\" y=\"34.863281\"/>\n",
       "  <use xlink:href=\"#glyph2-10\" x=\"450.949249\" y=\"34.863281\"/>\n",
       "  <use xlink:href=\"#glyph2-11\" x=\"459.239395\" y=\"34.863281\"/>\n",
       "  <use xlink:href=\"#glyph2-12\" x=\"462.551086\" y=\"34.863281\"/>\n",
       "  <use xlink:href=\"#glyph2-13\" x=\"470.841232\" y=\"34.863281\"/>\n",
       "  <use xlink:href=\"#glyph2-10\" x=\"479.131378\" y=\"34.863281\"/>\n",
       "  <use xlink:href=\"#glyph2-3\" x=\"487.421524\" y=\"34.863281\"/>\n",
       "  <use xlink:href=\"#glyph2-15\" x=\"496.126541\" y=\"34.863281\"/>\n",
       "  <use xlink:href=\"#glyph2-14\" x=\"500.267975\" y=\"34.863281\"/>\n",
       "  <use xlink:href=\"#glyph2-7\" x=\"508.558121\" y=\"34.863281\"/>\n",
       "</g>\n",
       "<g style=\"fill:rgb(0%,0%,0%);fill-opacity:1;\">\n",
       "  <use xlink:href=\"#glyph0-5\" x=\"422.773438\" y=\"270.71875\"/>\n",
       "  <use xlink:href=\"#glyph0-6\" x=\"429.725342\" y=\"270.71875\"/>\n",
       "  <use xlink:href=\"#glyph0-7\" x=\"433.198242\" y=\"270.71875\"/>\n",
       "  <use xlink:href=\"#glyph0-8\" x=\"440.150146\" y=\"270.71875\"/>\n",
       "  <use xlink:href=\"#glyph0-6\" x=\"443.623047\" y=\"270.71875\"/>\n",
       "  <use xlink:href=\"#glyph0-9\" x=\"447.095947\" y=\"270.71875\"/>\n",
       "  <use xlink:href=\"#glyph0-7\" x=\"450.568848\" y=\"270.71875\"/>\n",
       "  <use xlink:href=\"#glyph0-10\" x=\"457.520752\" y=\"270.71875\"/>\n",
       "  <use xlink:href=\"#glyph0-10\" x=\"463.770752\" y=\"270.71875\"/>\n",
       "</g>\n",
       "<g style=\"fill:rgb(0%,0%,0%);fill-opacity:1;\">\n",
       "  <use xlink:href=\"#glyph1-8\" x=\"302.398438\" y=\"153.824219\"/>\n",
       "  <use xlink:href=\"#glyph1-9\" x=\"302.398438\" y=\"146.872314\"/>\n",
       "  <use xlink:href=\"#glyph1-10\" x=\"302.398438\" y=\"139.92041\"/>\n",
       "  <use xlink:href=\"#glyph1-11\" x=\"302.398438\" y=\"130.893311\"/>\n",
       "  <use xlink:href=\"#glyph1-12\" x=\"302.398438\" y=\"123.941406\"/>\n",
       "</g>\n",
       "<path style=\"fill:none;stroke-width:1;stroke-linecap:round;stroke-linejoin:round;stroke:rgb(40%,20%,0%);stroke-opacity:1;stroke-miterlimit:10;\" d=\"M 354.398438 208.800781 L 361.050781 208.222656 L 368.441406 208.078125 L 390.609375 207.9375 L 398 207.648438 L 412.777344 208.222656 L 427.554688 208.222656 L 464.503906 208.511719 L 501.453125 207.648438 L 538.398438 207.648438 \"/>\n",
       "<path style=\"fill:none;stroke-width:1;stroke-linecap:round;stroke-linejoin:round;stroke:rgb(40%,20%,10.980392%);stroke-opacity:1;stroke-miterlimit:10;\" d=\"M 354.398438 208.511719 L 361.050781 208.511719 L 368.441406 207.792969 L 390.609375 206.351562 L 398 206.640625 L 412.777344 207.214844 L 427.554688 205.632812 L 464.503906 204.769531 L 501.453125 204.625 L 538.398438 202.894531 \"/>\n",
       "<path style=\"fill:none;stroke-width:1;stroke-linecap:round;stroke-linejoin:round;stroke:rgb(40%,20%,22.352941%);stroke-opacity:1;stroke-miterlimit:10;\" d=\"M 354.398438 208.65625 L 361.050781 207.359375 L 368.441406 206.929688 L 390.609375 202.894531 L 398 202.03125 L 412.777344 201.3125 L 427.554688 197.425781 L 464.503906 190.222656 L 501.453125 178.414062 L 538.398438 167.761719 \"/>\n",
       "<path style=\"fill:none;stroke-width:1;stroke-linecap:round;stroke-linejoin:round;stroke:rgb(40%,20%,33.333333%);stroke-opacity:1;stroke-miterlimit:10;\" d=\"M 354.398438 208.511719 L 361.050781 206.351562 L 368.441406 205.34375 L 390.609375 194.976562 L 398 190.511719 L 412.777344 184.320312 L 427.554688 173.953125 L 464.503906 147.742188 L 501.453125 127.007812 L 538.398438 108.574219 \"/>\n",
       "<path style=\"fill:none;stroke-width:1;stroke-linecap:round;stroke-linejoin:round;stroke:rgb(40%,20%,44.313725%);stroke-opacity:1;stroke-miterlimit:10;\" d=\"M 354.398438 208.367188 L 361.050781 205.632812 L 368.441406 201.3125 L 390.609375 182.015625 L 398 170.207031 L 412.777344 152.785156 L 427.554688 135.214844 L 464.503906 98.929688 L 501.453125 82.945312 L 538.398438 72.144531 \"/>\n",
       "<path style=\"fill:none;stroke-width:1;stroke-linecap:round;stroke-linejoin:round;stroke:rgb(40%,20%,55.686275%);stroke-opacity:1;stroke-miterlimit:10;\" d=\"M 354.398438 208.800781 L 361.050781 204.625 L 368.441406 197.710938 L 390.609375 156.816406 L 398 143.425781 L 412.777344 120.671875 L 427.554688 99.792969 L 464.503906 77.039062 L 501.453125 65.808594 L 538.398438 64.800781 \"/>\n",
       "<path style=\"fill:none;stroke-width:1;stroke-linecap:round;stroke-linejoin:round;stroke:rgb(40%,20%,66.666667%);stroke-opacity:1;stroke-miterlimit:10;\" d=\"M 354.398438 208.367188 L 361.050781 199.585938 L 368.441406 186.191406 L 390.609375 129.886719 L 398 108.289062 L 412.777344 92.304688 L 427.554688 78.191406 L 464.503906 65.664062 L 501.453125 64.945312 L 538.398438 64.945312 \"/>\n",
       "<path style=\"fill:none;stroke-width:1;stroke-linecap:round;stroke-linejoin:round;stroke:rgb(40%,20%,77.647059%);stroke-opacity:1;stroke-miterlimit:10;\" d=\"M 354.398438 208.078125 L 361.050781 197.566406 L 368.441406 177.121094 L 390.609375 100.800781 L 398 87.40625 L 412.777344 74.59375 L 427.554688 68.398438 L 464.503906 64.945312 L 501.453125 64.800781 L 538.398438 64.800781 \"/>\n",
       "<path style=\"fill:none;stroke-width:1;stroke-linecap:round;stroke-linejoin:round;stroke:rgb(40%,20%,89.019608%);stroke-opacity:1;stroke-miterlimit:10;\" d=\"M 354.398438 208.222656 L 361.050781 193.679688 L 368.441406 154.367188 L 390.609375 80.640625 L 398 73.441406 L 412.777344 65.519531 L 427.554688 65.230469 L 464.503906 64.800781 L 538.398438 64.800781 \"/>\n",
       "<path style=\"fill:none;stroke-width:1;stroke-linecap:round;stroke-linejoin:round;stroke:rgb(40%,20%,100%);stroke-opacity:1;stroke-miterlimit:10;\" d=\"M 354.398438 208.222656 L 361.050781 183.601562 L 368.441406 145.726562 L 390.609375 70.847656 L 398 66.671875 L 412.777344 65.089844 L 427.554688 64.800781 L 538.398438 64.800781 \"/>\n",
       "</g>\n",
       "</svg>\n"
      ],
      "text/plain": [
       "Plot with title \"ES=1-10%, alpha=.5%\""
      ]
     },
     "metadata": {
      "image/svg+xml": {
       "isolated": true
      }
     },
     "output_type": "display_data"
    }
   ],
   "source": [
    "library(plotrix)\n",
    "\n",
    "coin.power <- function(ntoss=100,nsim=1000,prob=.5, alpha){\n",
    "     lower <- qbinom(alpha/2,ntoss,.5)\n",
    "     upper <- qbinom(1-alpha/2,ntoss,.5)\n",
    "     rr <- rbinom(nsim,ntoss,prob)\n",
    "     sum(rr < lower | rr > upper) / nsim\n",
    " }\n",
    "\n",
    "ntosses <- c(10,100,200,500,600,800,1000,1500,2000,2500)\n",
    "\n",
    "options(repr.plot.width=8, repr.plot.height=4) # change these setting to plot larger figures\n",
    "\n",
    "par(mfrow=c(1,2))\n",
    "\n",
    "res = sapply(ntosses,coin.power,prob=.51,alpha=.05)\n",
    "names(res) = ntosses\n",
    "plot( ntosses, res , type=\"n\", main=\"ES=1-10%, alpha=5%\",xlab=\"# of toss\", ylab=\"power\", ylim=c(0,1))\n",
    "\n",
    "for (i in seq(0.5,.6,length.out=10)) {\n",
    "    j = scale(i, center=0.5, scale=.1)\n",
    "    lines( ntosses, sapply(ntosses,coin.power,prob=i,alpha=.05), col=color.scale(1,.4,.2,j) )\n",
    "}\n",
    "\n",
    "\n",
    "plot( ntosses, res , type=\"n\", main=\"ES=1-10%, alpha=.5%\",xlab=\"# of toss\", ylab=\"power\", ylim=c(0,1))\n",
    "\n",
    "for (i in seq(0.5,.6,length.out=10)) {\n",
    "    j = scale(i, center=0.5, scale=.1)\n",
    "    lines( ntosses, sapply(ntosses,coin.power,prob=i,alpha=.005), col=color.scale(1,.4,.2,j) )\n",
    "}\n"
   ]
  },
  {
   "cell_type": "markdown",
   "metadata": {},
   "source": [
    "<mark>On the above figure, the effect of $\\alpha$ is clearly visible. If a researcher chooses to decrease the type-I error rate ($\\alpha$) in order to decrease the false negative (negative being rejecting the null hyptothesis, when the coin is indeed fair), he will also decrease the power of his experiment.</mark>\n",
    "\n",
    "This is very similar to establishing a perfect threshold value for peak detection in a spectrum. A low threshold (large $\\alpha$ value) will allow to pick the signal, but will detect many spurious signals (false negatives). A high threshold (low $\\alpha$ value) will avoid detecting the noise, but if set to high will prevent us to detect the signal either."
   ]
  },
  {
   "cell_type": "markdown",
   "metadata": {},
   "source": [
    "<mark>Do not say: \"the difference between the two means is not statistically significant\"</mark>\n",
    "\n",
    "<mark>Say: \"the data doesn't allow us to conlude that the population means differ\"</mark>\n",
    "\n",
    "p. 16 of Cohen, J. (1977). Statistical Power Analysis for the Behavioral Sciences (Rev. ed.). New York: Academic Press, Inc."
   ]
  }
 ],
 "metadata": {
  "kernelspec": {
   "display_name": "R",
   "language": "R",
   "name": "ir"
  },
  "language_info": {
   "codemirror_mode": "r",
   "file_extension": ".r",
   "mimetype": "text/x-r-source",
   "name": "R",
   "pygments_lexer": "r",
   "version": "3.3.3"
  }
 },
 "nbformat": 4,
 "nbformat_minor": 2
}
