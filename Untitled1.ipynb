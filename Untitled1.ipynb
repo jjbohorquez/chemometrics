{
 "cells": [
  {
   "cell_type": "markdown",
   "metadata": {},
   "source": [
    "# mi primera bitacora\n",
    "\n",
    "## introducción\n",
    "\n",
    "### diseño experimental\n",
    "\n",
    "**dddd** ddd *dfd*\n",
    "\n",
    " - 3\n",
    " - 4"
   ]
  },
  {
   "cell_type": "code",
   "execution_count": 14,
   "metadata": {
    "collapsed": false
   },
   "outputs": [],
   "source": [
    "a <- 1"
   ]
  },
  {
   "cell_type": "code",
   "execution_count": 15,
   "metadata": {
    "collapsed": true
   },
   "outputs": [],
   "source": [
    "b = 2"
   ]
  },
  {
   "cell_type": "code",
   "execution_count": 21,
   "metadata": {
    "collapsed": true
   },
   "outputs": [],
   "source": [
    "c <- a + b"
   ]
  },
  {
   "cell_type": "code",
   "execution_count": 22,
   "metadata": {
    "collapsed": false
   },
   "outputs": [
    {
     "data": {
      "text/html": [
       "'the result is = 4'"
      ],
      "text/latex": [
       "'the result is = 4'"
      ],
      "text/markdown": [
       "'the result is = 4'"
      ],
      "text/plain": [
       "[1] \"the result is = 4\""
      ]
     },
     "execution_count": 22,
     "metadata": {},
     "output_type": "execute_result"
    }
   ],
   "source": [
    "paste(\"the result is =\",c)"
   ]
  },
  {
   "cell_type": "code",
   "execution_count": 18,
   "metadata": {
    "collapsed": true
   },
   "outputs": [],
   "source": [
    "b <- 3"
   ]
  },
  {
   "cell_type": "code",
   "execution_count": 19,
   "metadata": {
    "collapsed": false
   },
   "outputs": [
    {
     "data": {
      "text/html": [
       "3"
      ],
      "text/latex": [
       "3"
      ],
      "text/markdown": [
       "3"
      ],
      "text/plain": [
       "[1] 3"
      ]
     },
     "execution_count": 19,
     "metadata": {},
     "output_type": "execute_result"
    }
   ],
   "source": [
    "b"
   ]
  },
  {
   "cell_type": "code",
   "execution_count": 20,
   "metadata": {
    "collapsed": false
   },
   "outputs": [
    {
     "data": {
      "text/html": [
       "4"
      ],
      "text/latex": [
       "4"
      ],
      "text/markdown": [
       "4"
      ],
      "text/plain": [
       "[1] 4"
      ]
     },
     "execution_count": 20,
     "metadata": {},
     "output_type": "execute_result"
    }
   ],
   "source": [
    "a + b"
   ]
  },
  {
   "cell_type": "code",
   "execution_count": 23,
   "metadata": {
    "collapsed": false
   },
   "outputs": [
    {
     "data": {
      "text/html": [
       "0.54030230586814"
      ],
      "text/latex": [
       "0.54030230586814"
      ],
      "text/markdown": [
       "0.54030230586814"
      ],
      "text/plain": [
       "[1] 0.5403023"
      ]
     },
     "execution_count": 23,
     "metadata": {},
     "output_type": "execute_result"
    }
   ],
   "source": [
    "cos(1)"
   ]
  },
  {
   "cell_type": "code",
   "execution_count": 30,
   "metadata": {
    "collapsed": false
   },
   "outputs": [
    {
     "data": {
      "text/html": [
       "0.841"
      ],
      "text/latex": [
       "0.841"
      ],
      "text/markdown": [
       "0.841"
      ],
      "text/plain": [
       "[1] 0.841"
      ]
     },
     "execution_count": 30,
     "metadata": {},
     "output_type": "execute_result"
    }
   ],
   "source": [
    "round(sin(1),3)\n"
   ]
  },
  {
   "cell_type": "code",
   "execution_count": 28,
   "metadata": {
    "collapsed": false
   },
   "outputs": [
    {
     "data": {
      "text/html": [
       "0"
      ],
      "text/latex": [
       "0"
      ],
      "text/markdown": [
       "0"
      ],
      "text/plain": [
       "[1] 0"
      ]
     },
     "execution_count": 28,
     "metadata": {},
     "output_type": "execute_result"
    }
   ],
   "source": [
    "round(sin(pi),2)"
   ]
  },
  {
   "cell_type": "code",
   "execution_count": 27,
   "metadata": {
    "collapsed": false
   },
   "outputs": [
    {
     "data": {
      "text/html": [
       "-1"
      ],
      "text/latex": [
       "-1"
      ],
      "text/markdown": [
       "-1"
      ],
      "text/plain": [
       "[1] -1"
      ]
     },
     "execution_count": 27,
     "metadata": {},
     "output_type": "execute_result"
    }
   ],
   "source": [
    "cos(pi)"
   ]
  },
  {
   "cell_type": "code",
   "execution_count": 34,
   "metadata": {
    "collapsed": false
   },
   "outputs": [],
   "source": [
    "t <- c(0, 60, 120, 180)"
   ]
  },
  {
   "cell_type": "code",
   "execution_count": 35,
   "metadata": {
    "collapsed": false
   },
   "outputs": [
    {
     "data": {
      "text/html": [
       "<ol class=list-inline>\n",
       "\t<li>0</li>\n",
       "\t<li>60</li>\n",
       "\t<li>120</li>\n",
       "\t<li>180</li>\n",
       "</ol>\n"
      ],
      "text/latex": [
       "\\begin{enumerate*}\n",
       "\\item 0\n",
       "\\item 60\n",
       "\\item 120\n",
       "\\item 180\n",
       "\\end{enumerate*}\n"
      ],
      "text/markdown": [
       "1. 0\n",
       "2. 60\n",
       "3. 120\n",
       "4. 180\n",
       "\n",
       "\n"
      ],
      "text/plain": [
       "[1]   0  60 120 180"
      ]
     },
     "execution_count": 35,
     "metadata": {},
     "output_type": "execute_result"
    }
   ],
   "source": [
    "t"
   ]
  },
  {
   "cell_type": "code",
   "execution_count": 39,
   "metadata": {
    "collapsed": true
   },
   "outputs": [],
   "source": [
    "y <- c(2, 3, 2.3, 3.2)"
   ]
  },
  {
   "cell_type": "code",
   "execution_count": 40,
   "metadata": {
    "collapsed": false
   },
   "outputs": [
    {
     "data": {
      "text/html": [
       "<ol class=list-inline>\n",
       "\t<li>2</li>\n",
       "\t<li>3</li>\n",
       "\t<li>2.3</li>\n",
       "\t<li>3.2</li>\n",
       "</ol>\n"
      ],
      "text/latex": [
       "\\begin{enumerate*}\n",
       "\\item 2\n",
       "\\item 3\n",
       "\\item 2.3\n",
       "\\item 3.2\n",
       "\\end{enumerate*}\n"
      ],
      "text/markdown": [
       "1. 2\n",
       "2. 3\n",
       "3. 2.3\n",
       "4. 3.2\n",
       "\n",
       "\n"
      ],
      "text/plain": [
       "[1] 2.0 3.0 2.3 3.2"
      ]
     },
     "execution_count": 40,
     "metadata": {},
     "output_type": "execute_result"
    }
   ],
   "source": [
    "y"
   ]
  },
  {
   "cell_type": "code",
   "execution_count": 44,
   "metadata": {
    "collapsed": false
   },
   "outputs": [
    {
     "data": {
      "image/png": "[encoded data removed]",
      "image/svg+xml": [
       "<?xml version=\"1.0\" encoding=\"UTF-8\"?>\n",
       "<svg xmlns=\"http://www.w3.org/2000/svg\" xmlns:xlink=\"http://www.w3.org/1999/xlink\" width=\"216pt\" height=\"216pt\" viewBox=\"0 0 216 216\" version=\"1.1\">\n",
       "<defs>\n",
       "<g>\n",
       "<symbol overflow=\"visible\" id=\"glyph0-0\">\n",
       "<path style=\"stroke:none;\" d=\"M 0.40625 0 L 0.40625 -8.96875 L 7.515625 -8.96875 L 7.515625 0 Z M 6.390625 -1.125 L 6.390625 -7.84375 L 1.53125 -7.84375 L 1.53125 -1.125 Z \"/>\n",
       "</symbol>\n",
       "<symbol overflow=\"visible\" id=\"glyph0-1\">\n",
       "<path style=\"stroke:none;\" d=\"M 3.375 -8.734375 C 4.507812 -8.734375 5.328125 -8.269531 5.828125 -7.34375 C 6.222656 -6.625 6.421875 -5.632812 6.421875 -4.375 C 6.421875 -3.1875 6.242188 -2.207031 5.890625 -1.4375 C 5.378906 -0.320312 4.539062 0.234375 3.375 0.234375 C 2.320312 0.234375 1.539062 -0.21875 1.03125 -1.125 C 0.601562 -1.882812 0.390625 -2.90625 0.390625 -4.1875 C 0.390625 -5.1875 0.519531 -6.039062 0.78125 -6.75 C 1.257812 -8.070312 2.125 -8.734375 3.375 -8.734375 Z M 3.375 -0.765625 C 3.9375 -0.765625 4.382812 -1.015625 4.71875 -1.515625 C 5.0625 -2.023438 5.234375 -2.96875 5.234375 -4.34375 C 5.234375 -5.332031 5.109375 -6.144531 4.859375 -6.78125 C 4.617188 -7.425781 4.148438 -7.75 3.453125 -7.75 C 2.804688 -7.75 2.332031 -7.441406 2.03125 -6.828125 C 1.726562 -6.222656 1.578125 -5.332031 1.578125 -4.15625 C 1.578125 -3.257812 1.675781 -2.539062 1.875 -2 C 2.164062 -1.175781 2.664062 -0.765625 3.375 -0.765625 Z \"/>\n",
       "</symbol>\n",
       "<symbol overflow=\"visible\" id=\"glyph0-2\">\n",
       "<path style=\"stroke:none;\" d=\"M 1.546875 -2.234375 C 1.617188 -1.597656 1.910156 -1.160156 2.421875 -0.921875 C 2.679688 -0.804688 2.984375 -0.75 3.328125 -0.75 C 3.972656 -0.75 4.453125 -0.953125 4.765625 -1.359375 C 5.078125 -1.773438 5.234375 -2.238281 5.234375 -2.75 C 5.234375 -3.351562 5.046875 -3.820312 4.671875 -4.15625 C 4.304688 -4.488281 3.863281 -4.65625 3.34375 -4.65625 C 2.957031 -4.65625 2.628906 -4.582031 2.359375 -4.4375 C 2.085938 -4.289062 1.859375 -4.085938 1.671875 -3.828125 L 0.71875 -3.890625 L 1.390625 -8.59375 L 5.921875 -8.59375 L 5.921875 -7.53125 L 2.203125 -7.53125 L 1.84375 -5.109375 C 2.039062 -5.253906 2.234375 -5.367188 2.421875 -5.453125 C 2.742188 -5.585938 3.117188 -5.65625 3.546875 -5.65625 C 4.347656 -5.65625 5.023438 -5.394531 5.578125 -4.875 C 6.140625 -4.363281 6.421875 -3.707031 6.421875 -2.90625 C 6.421875 -2.082031 6.164062 -1.351562 5.65625 -0.71875 C 5.144531 -0.09375 4.328125 0.21875 3.203125 0.21875 C 2.492188 0.21875 1.863281 0.0195312 1.3125 -0.375 C 0.769531 -0.78125 0.46875 -1.398438 0.40625 -2.234375 Z \"/>\n",
       "</symbol>\n",
       "<symbol overflow=\"visible\" id=\"glyph0-3\">\n",
       "<path style=\"stroke:none;\" d=\"M 1.203125 -6.1875 L 1.203125 -7.03125 C 1.992188 -7.101562 2.546875 -7.226562 2.859375 -7.40625 C 3.171875 -7.59375 3.40625 -8.023438 3.5625 -8.703125 L 4.421875 -8.703125 L 4.421875 0 L 3.25 0 L 3.25 -6.1875 Z \"/>\n",
       "</symbol>\n",
       "<symbol overflow=\"visible\" id=\"glyph0-4\">\n",
       "<path style=\"stroke:none;\" d=\"M 1.03125 -8.359375 L 2.140625 -8.359375 L 2.140625 -6.53125 L 3.1875 -6.53125 L 3.1875 -5.640625 L 2.140625 -5.640625 L 2.140625 -1.375 C 2.140625 -1.144531 2.21875 -0.992188 2.375 -0.921875 C 2.457031 -0.867188 2.597656 -0.84375 2.796875 -0.84375 C 2.847656 -0.84375 2.90625 -0.84375 2.96875 -0.84375 C 3.03125 -0.851562 3.101562 -0.859375 3.1875 -0.859375 L 3.1875 0 C 3.050781 0.0390625 2.914062 0.0664062 2.78125 0.078125 C 2.644531 0.0976562 2.5 0.109375 2.34375 0.109375 C 1.832031 0.109375 1.484375 -0.0195312 1.296875 -0.28125 C 1.117188 -0.550781 1.03125 -0.894531 1.03125 -1.3125 L 1.03125 -5.640625 L 0.140625 -5.640625 L 0.140625 -6.53125 L 1.03125 -6.53125 Z \"/>\n",
       "</symbol>\n",
       "<symbol overflow=\"visible\" id=\"glyph1-0\">\n",
       "<path style=\"stroke:none;\" d=\"M 0 -0.40625 L -8.96875 -0.40625 L -8.96875 -7.515625 L 0 -7.515625 Z M -1.125 -6.390625 L -7.84375 -6.390625 L -7.84375 -1.53125 L -1.125 -1.53125 Z \"/>\n",
       "</symbol>\n",
       "<symbol overflow=\"visible\" id=\"glyph1-1\">\n",
       "<path style=\"stroke:none;\" d=\"M 0 -0.390625 C -0.75 -0.429688 -1.398438 -0.585938 -1.953125 -0.859375 C -2.515625 -1.128906 -3.023438 -1.65625 -3.484375 -2.4375 L -4.15625 -3.609375 C -4.46875 -4.140625 -4.726562 -4.507812 -4.9375 -4.71875 C -5.28125 -5.050781 -5.671875 -5.21875 -6.109375 -5.21875 C -6.609375 -5.21875 -7.007812 -5.0625 -7.3125 -4.75 C -7.613281 -4.445312 -7.765625 -4.046875 -7.765625 -3.546875 C -7.765625 -2.785156 -7.476562 -2.265625 -6.90625 -1.984375 C -6.601562 -1.828125 -6.179688 -1.738281 -5.640625 -1.71875 L -5.640625 -0.609375 C -6.398438 -0.617188 -7.019531 -0.757812 -7.5 -1.03125 C -8.34375 -1.5 -8.765625 -2.335938 -8.765625 -3.546875 C -8.765625 -4.546875 -8.492188 -5.273438 -7.953125 -5.734375 C -7.410156 -6.203125 -6.8125 -6.4375 -6.15625 -6.4375 C -5.457031 -6.4375 -4.859375 -6.1875 -4.359375 -5.6875 C -4.066406 -5.40625 -3.71875 -4.894531 -3.3125 -4.15625 L -2.84375 -3.328125 C -2.625 -2.929688 -2.414062 -2.617188 -2.21875 -2.390625 C -1.863281 -1.984375 -1.46875 -1.726562 -1.03125 -1.625 L -1.03125 -6.390625 L 0 -6.390625 Z \"/>\n",
       "</symbol>\n",
       "<symbol overflow=\"visible\" id=\"glyph1-2\">\n",
       "<path style=\"stroke:none;\" d=\"M -1.328125 -1.0625 L -1.328125 -2.34375 L 0 -2.34375 L 0 -1.0625 Z \"/>\n",
       "</symbol>\n",
       "<symbol overflow=\"visible\" id=\"glyph1-3\">\n",
       "<path style=\"stroke:none;\" d=\"M -8.734375 -3.375 C -8.734375 -4.507812 -8.269531 -5.328125 -7.34375 -5.828125 C -6.625 -6.222656 -5.632812 -6.421875 -4.375 -6.421875 C -3.1875 -6.421875 -2.207031 -6.242188 -1.4375 -5.890625 C -0.320312 -5.378906 0.234375 -4.539062 0.234375 -3.375 C 0.234375 -2.320312 -0.21875 -1.539062 -1.125 -1.03125 C -1.882812 -0.601562 -2.90625 -0.390625 -4.1875 -0.390625 C -5.1875 -0.390625 -6.039062 -0.519531 -6.75 -0.78125 C -8.070312 -1.257812 -8.734375 -2.125 -8.734375 -3.375 Z M -0.765625 -3.375 C -0.765625 -3.9375 -1.015625 -4.382812 -1.515625 -4.71875 C -2.023438 -5.0625 -2.96875 -5.234375 -4.34375 -5.234375 C -5.332031 -5.234375 -6.144531 -5.109375 -6.78125 -4.859375 C -7.425781 -4.617188 -7.75 -4.148438 -7.75 -3.453125 C -7.75 -2.804688 -7.441406 -2.332031 -6.828125 -2.03125 C -6.222656 -1.726562 -5.332031 -1.578125 -4.15625 -1.578125 C -3.257812 -1.578125 -2.539062 -1.675781 -2 -1.875 C -1.175781 -2.164062 -0.765625 -2.664062 -0.765625 -3.375 Z \"/>\n",
       "</symbol>\n",
       "<symbol overflow=\"visible\" id=\"glyph1-4\">\n",
       "<path style=\"stroke:none;\" d=\"M -8.78125 -3.65625 C -8.78125 -4.632812 -8.523438 -5.316406 -8.015625 -5.703125 C -7.503906 -6.085938 -6.984375 -6.28125 -6.453125 -6.28125 L -6.453125 -5.1875 C -6.796875 -5.125 -7.066406 -5.019531 -7.265625 -4.875 C -7.628906 -4.613281 -7.8125 -4.210938 -7.8125 -3.671875 C -7.8125 -3.054688 -7.523438 -2.566406 -6.953125 -2.203125 C -6.390625 -1.847656 -5.578125 -1.648438 -4.515625 -1.609375 C -4.890625 -1.859375 -5.171875 -2.175781 -5.359375 -2.5625 C -5.515625 -2.90625 -5.59375 -3.296875 -5.59375 -3.734375 C -5.59375 -4.460938 -5.359375 -5.097656 -4.890625 -5.640625 C -4.421875 -6.191406 -3.722656 -6.46875 -2.796875 -6.46875 C -2.003906 -6.46875 -1.300781 -6.207031 -0.6875 -5.6875 C -0.0820312 -5.164062 0.21875 -4.429688 0.21875 -3.484375 C 0.21875 -2.660156 -0.0859375 -1.953125 -0.703125 -1.359375 C -1.328125 -0.765625 -2.375 -0.46875 -3.84375 -0.46875 C -4.925781 -0.46875 -5.847656 -0.597656 -6.609375 -0.859375 C -8.054688 -1.367188 -8.78125 -2.300781 -8.78125 -3.65625 Z M -0.75 -3.578125 C -0.75 -4.148438 -0.941406 -4.578125 -1.328125 -4.859375 C -1.722656 -5.148438 -2.179688 -5.296875 -2.703125 -5.296875 C -3.148438 -5.296875 -3.578125 -5.164062 -3.984375 -4.90625 C -4.390625 -4.65625 -4.59375 -4.191406 -4.59375 -3.515625 C -4.59375 -3.046875 -4.4375 -2.632812 -4.125 -2.28125 C -3.8125 -1.925781 -3.335938 -1.75 -2.703125 -1.75 C -2.148438 -1.75 -1.6875 -1.910156 -1.3125 -2.234375 C -0.9375 -2.554688 -0.75 -3.003906 -0.75 -3.578125 Z \"/>\n",
       "</symbol>\n",
       "<symbol overflow=\"visible\" id=\"glyph1-5\">\n",
       "<path style=\"stroke:none;\" d=\"M 0.234375 -3.25 C 0.234375 -2.21875 -0.046875 -1.46875 -0.609375 -1 C -1.179688 -0.53125 -1.875 -0.296875 -2.6875 -0.296875 L -2.6875 -1.453125 C -2.125 -1.492188 -1.710938 -1.597656 -1.453125 -1.765625 C -0.992188 -2.046875 -0.765625 -2.5625 -0.765625 -3.3125 C -0.765625 -3.882812 -0.914062 -4.34375 -1.21875 -4.6875 C -1.53125 -5.039062 -1.929688 -5.21875 -2.421875 -5.21875 C -3.023438 -5.21875 -3.445312 -5.035156 -3.6875 -4.671875 C -3.925781 -4.304688 -4.046875 -3.796875 -4.046875 -3.140625 C -4.046875 -3.066406 -4.046875 -2.988281 -4.046875 -2.90625 C -4.046875 -2.832031 -4.039062 -2.757812 -4.03125 -2.6875 L -5 -2.6875 C -4.988281 -2.800781 -4.976562 -2.894531 -4.96875 -2.96875 C -4.96875 -3.050781 -4.96875 -3.132812 -4.96875 -3.21875 C -4.96875 -3.632812 -5.035156 -3.972656 -5.171875 -4.234375 C -5.398438 -4.703125 -5.804688 -4.9375 -6.390625 -4.9375 C -6.828125 -4.9375 -7.160156 -4.78125 -7.390625 -4.46875 C -7.628906 -4.15625 -7.75 -3.796875 -7.75 -3.390625 C -7.75 -2.648438 -7.503906 -2.144531 -7.015625 -1.875 C -6.742188 -1.71875 -6.363281 -1.628906 -5.875 -1.609375 L -5.875 -0.515625 C -6.519531 -0.515625 -7.070312 -0.644531 -7.53125 -0.90625 C -8.34375 -1.351562 -8.75 -2.140625 -8.75 -3.265625 C -8.75 -4.160156 -8.550781 -4.851562 -8.15625 -5.34375 C -7.757812 -5.832031 -7.1875 -6.078125 -6.4375 -6.078125 C -5.894531 -6.078125 -5.457031 -5.929688 -5.125 -5.640625 C -4.914062 -5.460938 -4.753906 -5.226562 -4.640625 -4.9375 C -4.515625 -5.40625 -4.269531 -5.765625 -3.90625 -6.015625 C -3.550781 -6.273438 -3.113281 -6.40625 -2.59375 -6.40625 C -1.757812 -6.40625 -1.078125 -6.128906 -0.546875 -5.578125 C -0.0234375 -5.035156 0.234375 -4.257812 0.234375 -3.25 Z \"/>\n",
       "</symbol>\n",
       "<symbol overflow=\"visible\" id=\"glyph1-6\">\n",
       "<path style=\"stroke:none;\" d=\"M -6.53125 -4.890625 L -6.53125 -6.109375 C -6.113281 -5.953125 -5.160156 -5.609375 -3.671875 -5.078125 C -2.546875 -4.671875 -1.628906 -4.335938 -0.921875 -4.078125 C 0.742188 -3.441406 1.757812 -2.992188 2.125 -2.734375 C 2.488281 -2.472656 2.671875 -2.023438 2.671875 -1.390625 C 2.671875 -1.234375 2.664062 -1.113281 2.65625 -1.03125 C 2.644531 -0.945312 2.625 -0.84375 2.59375 -0.71875 L 1.59375 -0.71875 C 1.644531 -0.90625 1.675781 -1.039062 1.6875 -1.125 C 1.695312 -1.21875 1.703125 -1.296875 1.703125 -1.359375 C 1.703125 -1.566406 1.664062 -1.71875 1.59375 -1.8125 C 1.53125 -1.90625 1.453125 -1.984375 1.359375 -2.046875 C 1.328125 -2.066406 1.160156 -2.140625 0.859375 -2.265625 C 0.554688 -2.390625 0.332031 -2.484375 0.1875 -2.546875 L -6.53125 -0.125 L -6.53125 -1.375 L -1.21875 -3.125 Z M -6.703125 -3.125 Z \"/>\n",
       "</symbol>\n",
       "<symbol overflow=\"visible\" id=\"glyph2-0\">\n",
       "<path style=\"stroke:none;\" d=\"M 0.484375 0 L 0.484375 -10.6875 L 8.96875 -10.6875 L 8.96875 0 Z M 7.625 -1.34375 L 7.625 -9.359375 L 1.8125 -9.359375 L 1.8125 -1.34375 Z \"/>\n",
       "</symbol>\n",
       "<symbol overflow=\"visible\" id=\"glyph2-1\">\n",
       "<path style=\"stroke:none;\" d=\"M 1.796875 -3.8125 C 1.796875 -2.976562 1.972656 -2.273438 2.328125 -1.703125 C 2.679688 -1.140625 3.25 -0.859375 4.03125 -0.859375 C 4.632812 -0.859375 5.128906 -1.117188 5.515625 -1.640625 C 5.910156 -2.171875 6.109375 -2.921875 6.109375 -3.890625 C 6.109375 -4.878906 5.90625 -5.609375 5.5 -6.078125 C 5.09375 -6.554688 4.597656 -6.796875 4.015625 -6.796875 C 3.347656 -6.796875 2.8125 -6.539062 2.40625 -6.03125 C 2 -5.53125 1.796875 -4.789062 1.796875 -3.8125 Z M 3.765625 -7.9375 C 4.359375 -7.9375 4.859375 -7.8125 5.265625 -7.5625 C 5.492188 -7.414062 5.757812 -7.160156 6.0625 -6.796875 L 6.0625 -10.734375 L 7.3125 -10.734375 L 7.3125 0 L 6.140625 0 L 6.140625 -1.078125 C 5.828125 -0.597656 5.460938 -0.25 5.046875 -0.03125 C 4.628906 0.175781 4.15625 0.28125 3.625 0.28125 C 2.75 0.28125 1.992188 -0.0820312 1.359375 -0.8125 C 0.722656 -1.550781 0.40625 -2.523438 0.40625 -3.734375 C 0.40625 -4.867188 0.691406 -5.851562 1.265625 -6.6875 C 1.847656 -7.519531 2.679688 -7.9375 3.765625 -7.9375 Z \"/>\n",
       "</symbol>\n",
       "</g>\n",
       "<clipPath id=\"clip1\">\n",
       "  <path d=\"M 60 135 L 68 135 L 68 143.558594 L 60 143.558594 Z \"/>\n",
       "</clipPath>\n",
       "<clipPath id=\"clip2\">\n",
       "  <path d=\"M 177 59.039062 L 185 59.039062 L 185 66 L 177 66 Z \"/>\n",
       "</clipPath>\n",
       "</defs>\n",
       "<g id=\"surface59\">\n",
       "<rect x=\"0\" y=\"0\" width=\"216\" height=\"216\" style=\"fill:rgb(100%,100%,100%);fill-opacity:1;stroke:none;\"/>\n",
       "<g clip-path=\"url(#clip1)\" clip-rule=\"nonzero\">\n",
       "<path style=\"fill:none;stroke-width:1;stroke-linecap:round;stroke-linejoin:round;stroke:rgb(0%,0%,0%);stroke-opacity:1;stroke-miterlimit:10;\" d=\"M 66.933594 139.464844 C 66.933594 143.734375 60.535156 143.734375 60.535156 139.464844 C 60.535156 135.199219 66.933594 135.199219 66.933594 139.464844 \"/>\n",
       "</g>\n",
       "<path style=\"fill:none;stroke-width:1;stroke-linecap:round;stroke-linejoin:round;stroke:rgb(0%,0%,0%);stroke-opacity:1;stroke-miterlimit:10;\" d=\"M 106.042969 75.023438 C 106.042969 79.289062 99.644531 79.289062 99.644531 75.023438 C 99.644531 70.753906 106.042969 70.753906 106.042969 75.023438 \"/>\n",
       "<path style=\"fill:none;stroke-width:1;stroke-linecap:round;stroke-linejoin:round;stroke:rgb(0%,0%,0%);stroke-opacity:1;stroke-miterlimit:10;\" d=\"M 145.15625 120.132812 C 145.15625 124.398438 138.753906 124.398438 138.753906 120.132812 C 138.753906 115.867188 145.15625 115.867188 145.15625 120.132812 \"/>\n",
       "<g clip-path=\"url(#clip2)\" clip-rule=\"nonzero\">\n",
       "<path style=\"fill:none;stroke-width:1;stroke-linecap:round;stroke-linejoin:round;stroke:rgb(0%,0%,0%);stroke-opacity:1;stroke-miterlimit:10;\" d=\"M 184.265625 62.132812 C 184.265625 66.398438 177.867188 66.398438 177.867188 62.132812 C 177.867188 57.867188 184.265625 57.867188 184.265625 62.132812 \"/>\n",
       "</g>\n",
       "<path style=\"fill:none;stroke-width:1;stroke-linecap:round;stroke-linejoin:round;stroke:rgb(0%,0%,0%);stroke-opacity:1;stroke-miterlimit:10;\" d=\"M 63.734375 142.558594 L 161.511719 142.558594 \"/>\n",
       "<path style=\"fill:none;stroke-width:1;stroke-linecap:round;stroke-linejoin:round;stroke:rgb(0%,0%,0%);stroke-opacity:1;stroke-miterlimit:10;\" d=\"M 63.734375 142.558594 L 63.734375 149.761719 \"/>\n",
       "<path style=\"fill:none;stroke-width:1;stroke-linecap:round;stroke-linejoin:round;stroke:rgb(0%,0%,0%);stroke-opacity:1;stroke-miterlimit:10;\" d=\"M 96.324219 142.558594 L 96.324219 149.761719 \"/>\n",
       "<path style=\"fill:none;stroke-width:1;stroke-linecap:round;stroke-linejoin:round;stroke:rgb(0%,0%,0%);stroke-opacity:1;stroke-miterlimit:10;\" d=\"M 128.917969 142.558594 L 128.917969 149.761719 \"/>\n",
       "<path style=\"fill:none;stroke-width:1;stroke-linecap:round;stroke-linejoin:round;stroke:rgb(0%,0%,0%);stroke-opacity:1;stroke-miterlimit:10;\" d=\"M 161.511719 142.558594 L 161.511719 149.761719 \"/>\n",
       "<g style=\"fill:rgb(0%,0%,0%);fill-opacity:1;\">\n",
       "  <use xlink:href=\"#glyph0-1\" x=\"60.257812\" y=\"169.921875\"/>\n",
       "</g>\n",
       "<g style=\"fill:rgb(0%,0%,0%);fill-opacity:1;\">\n",
       "  <use xlink:href=\"#glyph0-2\" x=\"89.371094\" y=\"169.921875\"/>\n",
       "  <use xlink:href=\"#glyph0-1\" x=\"96.322998\" y=\"169.921875\"/>\n",
       "</g>\n",
       "<g style=\"fill:rgb(0%,0%,0%);fill-opacity:1;\">\n",
       "  <use xlink:href=\"#glyph0-3\" x=\"118.488281\" y=\"169.921875\"/>\n",
       "  <use xlink:href=\"#glyph0-1\" x=\"125.440186\" y=\"169.921875\"/>\n",
       "  <use xlink:href=\"#glyph0-1\" x=\"132.39209\" y=\"169.921875\"/>\n",
       "</g>\n",
       "<g style=\"fill:rgb(0%,0%,0%);fill-opacity:1;\">\n",
       "  <use xlink:href=\"#glyph0-3\" x=\"151.082031\" y=\"169.921875\"/>\n",
       "  <use xlink:href=\"#glyph0-2\" x=\"158.033936\" y=\"169.921875\"/>\n",
       "  <use xlink:href=\"#glyph0-1\" x=\"164.98584\" y=\"169.921875\"/>\n",
       "</g>\n",
       "<path style=\"fill:none;stroke-width:1;stroke-linecap:round;stroke-linejoin:round;stroke:rgb(0%,0%,0%);stroke-opacity:1;stroke-miterlimit:10;\" d=\"M 59.039062 139.464844 L 59.039062 62.132812 \"/>\n",
       "<path style=\"fill:none;stroke-width:1;stroke-linecap:round;stroke-linejoin:round;stroke:rgb(0%,0%,0%);stroke-opacity:1;stroke-miterlimit:10;\" d=\"M 59.039062 139.464844 L 51.839844 139.464844 \"/>\n",
       "<path style=\"fill:none;stroke-width:1;stroke-linecap:round;stroke-linejoin:round;stroke:rgb(0%,0%,0%);stroke-opacity:1;stroke-miterlimit:10;\" d=\"M 59.039062 126.578125 L 51.839844 126.578125 \"/>\n",
       "<path style=\"fill:none;stroke-width:1;stroke-linecap:round;stroke-linejoin:round;stroke:rgb(0%,0%,0%);stroke-opacity:1;stroke-miterlimit:10;\" d=\"M 59.039062 113.6875 L 51.839844 113.6875 \"/>\n",
       "<path style=\"fill:none;stroke-width:1;stroke-linecap:round;stroke-linejoin:round;stroke:rgb(0%,0%,0%);stroke-opacity:1;stroke-miterlimit:10;\" d=\"M 59.039062 100.800781 L 51.839844 100.800781 \"/>\n",
       "<path style=\"fill:none;stroke-width:1;stroke-linecap:round;stroke-linejoin:round;stroke:rgb(0%,0%,0%);stroke-opacity:1;stroke-miterlimit:10;\" d=\"M 59.039062 87.910156 L 51.839844 87.910156 \"/>\n",
       "<path style=\"fill:none;stroke-width:1;stroke-linecap:round;stroke-linejoin:round;stroke:rgb(0%,0%,0%);stroke-opacity:1;stroke-miterlimit:10;\" d=\"M 59.039062 75.023438 L 51.839844 75.023438 \"/>\n",
       "<path style=\"fill:none;stroke-width:1;stroke-linecap:round;stroke-linejoin:round;stroke:rgb(0%,0%,0%);stroke-opacity:1;stroke-miterlimit:10;\" d=\"M 59.039062 62.132812 L 51.839844 62.132812 \"/>\n",
       "<g style=\"fill:rgb(0%,0%,0%);fill-opacity:1;\">\n",
       "  <use xlink:href=\"#glyph1-1\" x=\"43.199219\" y=\"148.152344\"/>\n",
       "  <use xlink:href=\"#glyph1-2\" x=\"43.199219\" y=\"141.200439\"/>\n",
       "  <use xlink:href=\"#glyph1-3\" x=\"43.199219\" y=\"137.727539\"/>\n",
       "</g>\n",
       "<g style=\"fill:rgb(0%,0%,0%);fill-opacity:1;\">\n",
       "  <use xlink:href=\"#glyph1-1\" x=\"43.199219\" y=\"109.488281\"/>\n",
       "  <use xlink:href=\"#glyph1-2\" x=\"43.199219\" y=\"102.536377\"/>\n",
       "  <use xlink:href=\"#glyph1-4\" x=\"43.199219\" y=\"99.063477\"/>\n",
       "</g>\n",
       "<g style=\"fill:rgb(0%,0%,0%);fill-opacity:1;\">\n",
       "  <use xlink:href=\"#glyph1-5\" x=\"43.199219\" y=\"70.820312\"/>\n",
       "  <use xlink:href=\"#glyph1-2\" x=\"43.199219\" y=\"63.868408\"/>\n",
       "  <use xlink:href=\"#glyph1-1\" x=\"43.199219\" y=\"60.395508\"/>\n",
       "</g>\n",
       "<path style=\"fill:none;stroke-width:1;stroke-linecap:round;stroke-linejoin:round;stroke:rgb(0%,0%,0%);stroke-opacity:1;stroke-miterlimit:10;\" d=\"M 59.039062 142.558594 L 185.761719 142.558594 L 185.761719 59.039062 L 59.039062 59.039062 L 59.039062 142.558594 \"/>\n",
       "<g style=\"fill:rgb(0%,0%,0%);fill-opacity:1;\">\n",
       "  <use xlink:href=\"#glyph2-1\" x=\"114.109375\" y=\"34.863281\"/>\n",
       "  <use xlink:href=\"#glyph2-1\" x=\"122.399521\" y=\"34.863281\"/>\n",
       "</g>\n",
       "<g style=\"fill:rgb(0%,0%,0%);fill-opacity:1;\">\n",
       "  <use xlink:href=\"#glyph0-4\" x=\"120.660156\" y=\"198.71875\"/>\n",
       "</g>\n",
       "<g style=\"fill:rgb(0%,0%,0%);fill-opacity:1;\">\n",
       "  <use xlink:href=\"#glyph1-6\" x=\"14.398438\" y=\"103.925781\"/>\n",
       "</g>\n",
       "</g>\n",
       "</svg>\n"
      ],
      "text/plain": [
       "Plot with title \"dd\""
      ]
     },
     "metadata": {
      "image/svg+xml": {
       "isolated": true
      }
     },
     "output_type": "display_data"
    }
   ],
   "source": [
    "options(repr.plot.width=3, repr.plot.height=3)\n",
    "plot(t,y,main='dd')"
   ]
  },
  {
   "cell_type": "code",
   "execution_count": 45,
   "metadata": {
    "collapsed": false
   },
   "outputs": [
    {
     "data": {
      "text/html": [
       "180"
      ],
      "text/latex": [
       "180"
      ],
      "text/markdown": [
       "180"
      ],
      "text/plain": [
       "[1] 180"
      ]
     },
     "execution_count": 45,
     "metadata": {},
     "output_type": "execute_result"
    }
   ],
   "source": [
    "max(t)\n"
   ]
  },
  {
   "cell_type": "code",
   "execution_count": 46,
   "metadata": {
    "collapsed": false
   },
   "outputs": [
    {
     "data": {
      "text/html": [
       "0"
      ],
      "text/latex": [
       "0"
      ],
      "text/markdown": [
       "0"
      ],
      "text/plain": [
       "[1] 0"
      ]
     },
     "execution_count": 46,
     "metadata": {},
     "output_type": "execute_result"
    }
   ],
   "source": [
    "min(t)"
   ]
  },
  {
   "cell_type": "code",
   "execution_count": 47,
   "metadata": {
    "collapsed": false
   },
   "outputs": [
    {
     "data": {
      "text/html": [
       "2.625"
      ],
      "text/latex": [
       "2.625"
      ],
      "text/markdown": [
       "2.625"
      ],
      "text/plain": [
       "[1] 2.625"
      ]
     },
     "execution_count": 47,
     "metadata": {},
     "output_type": "execute_result"
    }
   ],
   "source": [
    "mean(y)"
   ]
  },
  {
   "cell_type": "code",
   "execution_count": 48,
   "metadata": {
    "collapsed": false
   },
   "outputs": [
    {
     "data": {
      "text/plain": [
       "   Min. 1st Qu.  Median    Mean 3rd Qu.    Max. \n",
       "  2.000   2.225   2.650   2.625   3.050   3.200 "
      ]
     },
     "execution_count": 48,
     "metadata": {},
     "output_type": "execute_result"
    }
   ],
   "source": [
    "summary(y)"
   ]
  },
  {
   "cell_type": "code",
   "execution_count": 49,
   "metadata": {
    "collapsed": false
   },
   "outputs": [
    {
     "data": {
      "image/png": "[encoded data removed]",
      "image/svg+xml": [
       "<?xml version=\"1.0\" encoding=\"UTF-8\"?>\n",
       "<svg xmlns=\"http://www.w3.org/2000/svg\" xmlns:xlink=\"http://www.w3.org/1999/xlink\" width=\"216pt\" height=\"216pt\" viewBox=\"0 0 216 216\" version=\"1.1\">\n",
       "<defs>\n",
       "<g>\n",
       "<symbol overflow=\"visible\" id=\"glyph0-0\">\n",
       "<path style=\"stroke:none;\" d=\"M 0 -0.40625 L -8.96875 -0.40625 L -8.96875 -7.515625 L 0 -7.515625 Z M -1.125 -6.390625 L -7.84375 -6.390625 L -7.84375 -1.53125 L -1.125 -1.53125 Z \"/>\n",
       "</symbol>\n",
       "<symbol overflow=\"visible\" id=\"glyph0-1\">\n",
       "<path style=\"stroke:none;\" d=\"M 0 -0.390625 C -0.75 -0.429688 -1.398438 -0.585938 -1.953125 -0.859375 C -2.515625 -1.128906 -3.023438 -1.65625 -3.484375 -2.4375 L -4.15625 -3.609375 C -4.46875 -4.140625 -4.726562 -4.507812 -4.9375 -4.71875 C -5.28125 -5.050781 -5.671875 -5.21875 -6.109375 -5.21875 C -6.609375 -5.21875 -7.007812 -5.0625 -7.3125 -4.75 C -7.613281 -4.445312 -7.765625 -4.046875 -7.765625 -3.546875 C -7.765625 -2.785156 -7.476562 -2.265625 -6.90625 -1.984375 C -6.601562 -1.828125 -6.179688 -1.738281 -5.640625 -1.71875 L -5.640625 -0.609375 C -6.398438 -0.617188 -7.019531 -0.757812 -7.5 -1.03125 C -8.34375 -1.5 -8.765625 -2.335938 -8.765625 -3.546875 C -8.765625 -4.546875 -8.492188 -5.273438 -7.953125 -5.734375 C -7.410156 -6.203125 -6.8125 -6.4375 -6.15625 -6.4375 C -5.457031 -6.4375 -4.859375 -6.1875 -4.359375 -5.6875 C -4.066406 -5.40625 -3.71875 -4.894531 -3.3125 -4.15625 L -2.84375 -3.328125 C -2.625 -2.929688 -2.414062 -2.617188 -2.21875 -2.390625 C -1.863281 -1.984375 -1.46875 -1.726562 -1.03125 -1.625 L -1.03125 -6.390625 L 0 -6.390625 Z \"/>\n",
       "</symbol>\n",
       "<symbol overflow=\"visible\" id=\"glyph0-2\">\n",
       "<path style=\"stroke:none;\" d=\"M -1.328125 -1.0625 L -1.328125 -2.34375 L 0 -2.34375 L 0 -1.0625 Z \"/>\n",
       "</symbol>\n",
       "<symbol overflow=\"visible\" id=\"glyph0-3\">\n",
       "<path style=\"stroke:none;\" d=\"M -8.734375 -3.375 C -8.734375 -4.507812 -8.269531 -5.328125 -7.34375 -5.828125 C -6.625 -6.222656 -5.632812 -6.421875 -4.375 -6.421875 C -3.1875 -6.421875 -2.207031 -6.242188 -1.4375 -5.890625 C -0.320312 -5.378906 0.234375 -4.539062 0.234375 -3.375 C 0.234375 -2.320312 -0.21875 -1.539062 -1.125 -1.03125 C -1.882812 -0.601562 -2.90625 -0.390625 -4.1875 -0.390625 C -5.1875 -0.390625 -6.039062 -0.519531 -6.75 -0.78125 C -8.070312 -1.257812 -8.734375 -2.125 -8.734375 -3.375 Z M -0.765625 -3.375 C -0.765625 -3.9375 -1.015625 -4.382812 -1.515625 -4.71875 C -2.023438 -5.0625 -2.96875 -5.234375 -4.34375 -5.234375 C -5.332031 -5.234375 -6.144531 -5.109375 -6.78125 -4.859375 C -7.425781 -4.617188 -7.75 -4.148438 -7.75 -3.453125 C -7.75 -2.804688 -7.441406 -2.332031 -6.828125 -2.03125 C -6.222656 -1.726562 -5.332031 -1.578125 -4.15625 -1.578125 C -3.257812 -1.578125 -2.539062 -1.675781 -2 -1.875 C -1.175781 -2.164062 -0.765625 -2.664062 -0.765625 -3.375 Z \"/>\n",
       "</symbol>\n",
       "<symbol overflow=\"visible\" id=\"glyph0-4\">\n",
       "<path style=\"stroke:none;\" d=\"M -8.78125 -3.65625 C -8.78125 -4.632812 -8.523438 -5.316406 -8.015625 -5.703125 C -7.503906 -6.085938 -6.984375 -6.28125 -6.453125 -6.28125 L -6.453125 -5.1875 C -6.796875 -5.125 -7.066406 -5.019531 -7.265625 -4.875 C -7.628906 -4.613281 -7.8125 -4.210938 -7.8125 -3.671875 C -7.8125 -3.054688 -7.523438 -2.566406 -6.953125 -2.203125 C -6.390625 -1.847656 -5.578125 -1.648438 -4.515625 -1.609375 C -4.890625 -1.859375 -5.171875 -2.175781 -5.359375 -2.5625 C -5.515625 -2.90625 -5.59375 -3.296875 -5.59375 -3.734375 C -5.59375 -4.460938 -5.359375 -5.097656 -4.890625 -5.640625 C -4.421875 -6.191406 -3.722656 -6.46875 -2.796875 -6.46875 C -2.003906 -6.46875 -1.300781 -6.207031 -0.6875 -5.6875 C -0.0820312 -5.164062 0.21875 -4.429688 0.21875 -3.484375 C 0.21875 -2.660156 -0.0859375 -1.953125 -0.703125 -1.359375 C -1.328125 -0.765625 -2.375 -0.46875 -3.84375 -0.46875 C -4.925781 -0.46875 -5.847656 -0.597656 -6.609375 -0.859375 C -8.054688 -1.367188 -8.78125 -2.300781 -8.78125 -3.65625 Z M -0.75 -3.578125 C -0.75 -4.148438 -0.941406 -4.578125 -1.328125 -4.859375 C -1.722656 -5.148438 -2.179688 -5.296875 -2.703125 -5.296875 C -3.148438 -5.296875 -3.578125 -5.164062 -3.984375 -4.90625 C -4.390625 -4.65625 -4.59375 -4.191406 -4.59375 -3.515625 C -4.59375 -3.046875 -4.4375 -2.632812 -4.125 -2.28125 C -3.8125 -1.925781 -3.335938 -1.75 -2.703125 -1.75 C -2.148438 -1.75 -1.6875 -1.910156 -1.3125 -2.234375 C -0.9375 -2.554688 -0.75 -3.003906 -0.75 -3.578125 Z \"/>\n",
       "</symbol>\n",
       "<symbol overflow=\"visible\" id=\"glyph0-5\">\n",
       "<path style=\"stroke:none;\" d=\"M 0.234375 -3.25 C 0.234375 -2.21875 -0.046875 -1.46875 -0.609375 -1 C -1.179688 -0.53125 -1.875 -0.296875 -2.6875 -0.296875 L -2.6875 -1.453125 C -2.125 -1.492188 -1.710938 -1.597656 -1.453125 -1.765625 C -0.992188 -2.046875 -0.765625 -2.5625 -0.765625 -3.3125 C -0.765625 -3.882812 -0.914062 -4.34375 -1.21875 -4.6875 C -1.53125 -5.039062 -1.929688 -5.21875 -2.421875 -5.21875 C -3.023438 -5.21875 -3.445312 -5.035156 -3.6875 -4.671875 C -3.925781 -4.304688 -4.046875 -3.796875 -4.046875 -3.140625 C -4.046875 -3.066406 -4.046875 -2.988281 -4.046875 -2.90625 C -4.046875 -2.832031 -4.039062 -2.757812 -4.03125 -2.6875 L -5 -2.6875 C -4.988281 -2.800781 -4.976562 -2.894531 -4.96875 -2.96875 C -4.96875 -3.050781 -4.96875 -3.132812 -4.96875 -3.21875 C -4.96875 -3.632812 -5.035156 -3.972656 -5.171875 -4.234375 C -5.398438 -4.703125 -5.804688 -4.9375 -6.390625 -4.9375 C -6.828125 -4.9375 -7.160156 -4.78125 -7.390625 -4.46875 C -7.628906 -4.15625 -7.75 -3.796875 -7.75 -3.390625 C -7.75 -2.648438 -7.503906 -2.144531 -7.015625 -1.875 C -6.742188 -1.71875 -6.363281 -1.628906 -5.875 -1.609375 L -5.875 -0.515625 C -6.519531 -0.515625 -7.070312 -0.644531 -7.53125 -0.90625 C -8.34375 -1.351562 -8.75 -2.140625 -8.75 -3.265625 C -8.75 -4.160156 -8.550781 -4.851562 -8.15625 -5.34375 C -7.757812 -5.832031 -7.1875 -6.078125 -6.4375 -6.078125 C -5.894531 -6.078125 -5.457031 -5.929688 -5.125 -5.640625 C -4.914062 -5.460938 -4.753906 -5.226562 -4.640625 -4.9375 C -4.515625 -5.40625 -4.269531 -5.765625 -3.90625 -6.015625 C -3.550781 -6.273438 -3.113281 -6.40625 -2.59375 -6.40625 C -1.757812 -6.40625 -1.078125 -6.128906 -0.546875 -5.578125 C -0.0234375 -5.035156 0.234375 -4.257812 0.234375 -3.25 Z \"/>\n",
       "</symbol>\n",
       "</g>\n",
       "</defs>\n",
       "<g id=\"surface68\">\n",
       "<rect x=\"0\" y=\"0\" width=\"216\" height=\"216\" style=\"fill:rgb(100%,100%,100%);fill-opacity:1;stroke:none;\"/>\n",
       "<path style=\"fill:none;stroke-width:3;stroke-linecap:butt;stroke-linejoin:round;stroke:rgb(0%,0%,0%);stroke-opacity:1;stroke-miterlimit:10;\" d=\"M 98.933594 97.578125 L 145.867188 97.578125 \"/>\n",
       "<path style=\"fill:none;stroke-width:1;stroke-linecap:round;stroke-linejoin:round;stroke:rgb(0%,0%,0%);stroke-opacity:1;stroke-dasharray:4,4;stroke-miterlimit:10;\" d=\"M 122.398438 139.464844 L 122.398438 129.800781 \"/>\n",
       "<path style=\"fill:none;stroke-width:1;stroke-linecap:round;stroke-linejoin:round;stroke:rgb(0%,0%,0%);stroke-opacity:1;stroke-dasharray:4,4;stroke-miterlimit:10;\" d=\"M 122.398438 62.132812 L 122.398438 68.578125 \"/>\n",
       "<path style=\"fill:none;stroke-width:1;stroke-linecap:round;stroke-linejoin:round;stroke:rgb(0%,0%,0%);stroke-opacity:1;stroke-miterlimit:10;\" d=\"M 110.667969 139.464844 L 134.132812 139.464844 \"/>\n",
       "<path style=\"fill:none;stroke-width:1;stroke-linecap:round;stroke-linejoin:round;stroke:rgb(0%,0%,0%);stroke-opacity:1;stroke-miterlimit:10;\" d=\"M 110.667969 62.132812 L 134.132812 62.132812 \"/>\n",
       "<path style=\"fill:none;stroke-width:1;stroke-linecap:round;stroke-linejoin:round;stroke:rgb(0%,0%,0%);stroke-opacity:1;stroke-miterlimit:10;\" d=\"M 98.933594 129.800781 L 145.867188 129.800781 L 145.867188 68.578125 L 98.933594 68.578125 L 98.933594 129.800781 \"/>\n",
       "<path style=\"fill:none;stroke-width:1;stroke-linecap:round;stroke-linejoin:round;stroke:rgb(0%,0%,0%);stroke-opacity:1;stroke-miterlimit:10;\" d=\"M 59.039062 139.464844 L 59.039062 62.132812 \"/>\n",
       "<path style=\"fill:none;stroke-width:1;stroke-linecap:round;stroke-linejoin:round;stroke:rgb(0%,0%,0%);stroke-opacity:1;stroke-miterlimit:10;\" d=\"M 59.039062 139.464844 L 51.839844 139.464844 \"/>\n",
       "<path style=\"fill:none;stroke-width:1;stroke-linecap:round;stroke-linejoin:round;stroke:rgb(0%,0%,0%);stroke-opacity:1;stroke-miterlimit:10;\" d=\"M 59.039062 126.578125 L 51.839844 126.578125 \"/>\n",
       "<path style=\"fill:none;stroke-width:1;stroke-linecap:round;stroke-linejoin:round;stroke:rgb(0%,0%,0%);stroke-opacity:1;stroke-miterlimit:10;\" d=\"M 59.039062 113.6875 L 51.839844 113.6875 \"/>\n",
       "<path style=\"fill:none;stroke-width:1;stroke-linecap:round;stroke-linejoin:round;stroke:rgb(0%,0%,0%);stroke-opacity:1;stroke-miterlimit:10;\" d=\"M 59.039062 100.800781 L 51.839844 100.800781 \"/>\n",
       "<path style=\"fill:none;stroke-width:1;stroke-linecap:round;stroke-linejoin:round;stroke:rgb(0%,0%,0%);stroke-opacity:1;stroke-miterlimit:10;\" d=\"M 59.039062 87.910156 L 51.839844 87.910156 \"/>\n",
       "<path style=\"fill:none;stroke-width:1;stroke-linecap:round;stroke-linejoin:round;stroke:rgb(0%,0%,0%);stroke-opacity:1;stroke-miterlimit:10;\" d=\"M 59.039062 75.023438 L 51.839844 75.023438 \"/>\n",
       "<path style=\"fill:none;stroke-width:1;stroke-linecap:round;stroke-linejoin:round;stroke:rgb(0%,0%,0%);stroke-opacity:1;stroke-miterlimit:10;\" d=\"M 59.039062 62.132812 L 51.839844 62.132812 \"/>\n",
       "<g style=\"fill:rgb(0%,0%,0%);fill-opacity:1;\">\n",
       "  <use xlink:href=\"#glyph0-1\" x=\"43.199219\" y=\"148.152344\"/>\n",
       "  <use xlink:href=\"#glyph0-2\" x=\"43.199219\" y=\"141.200439\"/>\n",
       "  <use xlink:href=\"#glyph0-3\" x=\"43.199219\" y=\"137.727539\"/>\n",
       "</g>\n",
       "<g style=\"fill:rgb(0%,0%,0%);fill-opacity:1;\">\n",
       "  <use xlink:href=\"#glyph0-1\" x=\"43.199219\" y=\"109.488281\"/>\n",
       "  <use xlink:href=\"#glyph0-2\" x=\"43.199219\" y=\"102.536377\"/>\n",
       "  <use xlink:href=\"#glyph0-4\" x=\"43.199219\" y=\"99.063477\"/>\n",
       "</g>\n",
       "<g style=\"fill:rgb(0%,0%,0%);fill-opacity:1;\">\n",
       "  <use xlink:href=\"#glyph0-5\" x=\"43.199219\" y=\"70.820312\"/>\n",
       "  <use xlink:href=\"#glyph0-2\" x=\"43.199219\" y=\"63.868408\"/>\n",
       "  <use xlink:href=\"#glyph0-1\" x=\"43.199219\" y=\"60.395508\"/>\n",
       "</g>\n",
       "<path style=\"fill:none;stroke-width:1;stroke-linecap:round;stroke-linejoin:round;stroke:rgb(0%,0%,0%);stroke-opacity:1;stroke-miterlimit:10;\" d=\"M 59.039062 142.558594 L 185.761719 142.558594 L 185.761719 59.039062 L 59.039062 59.039062 L 59.039062 142.558594 \"/>\n",
       "</g>\n",
       "</svg>\n"
      ],
      "text/plain": [
       "plot without title"
      ]
     },
     "metadata": {
      "image/svg+xml": {
       "isolated": true
      }
     },
     "output_type": "display_data"
    }
   ],
   "source": [
    "boxplot(y)"
   ]
  },
  {
   "cell_type": "code",
   "execution_count": 50,
   "metadata": {
    "collapsed": false
   },
   "outputs": [
    {
     "data": {
      "text/html": [
       "3.2"
      ],
      "text/latex": [
       "3.2"
      ],
      "text/markdown": [
       "3.2"
      ],
      "text/plain": [
       "[1] 3.2"
      ]
     },
     "execution_count": 50,
     "metadata": {},
     "output_type": "execute_result"
    }
   ],
   "source": [
    "y[y > 3]"
   ]
  },
  {
   "cell_type": "code",
   "execution_count": 52,
   "metadata": {
    "collapsed": false
   },
   "outputs": [
    {
     "data": {
      "text/html": [
       "<ol class=list-inline>\n",
       "\t<li>FALSE</li>\n",
       "\t<li>FALSE</li>\n",
       "\t<li>FALSE</li>\n",
       "\t<li>TRUE</li>\n",
       "</ol>\n"
      ],
      "text/latex": [
       "\\begin{enumerate*}\n",
       "\\item FALSE\n",
       "\\item FALSE\n",
       "\\item FALSE\n",
       "\\item TRUE\n",
       "\\end{enumerate*}\n"
      ],
      "text/markdown": [
       "1. FALSE\n",
       "2. FALSE\n",
       "3. FALSE\n",
       "4. TRUE\n",
       "\n",
       "\n"
      ],
      "text/plain": [
       "[1] FALSE FALSE FALSE  TRUE"
      ]
     },
     "execution_count": 52,
     "metadata": {},
     "output_type": "execute_result"
    }
   ],
   "source": [
    "y > 3"
   ]
  },
  {
   "cell_type": "code",
   "execution_count": 53,
   "metadata": {
    "collapsed": false
   },
   "outputs": [
    {
     "data": {
      "text/html": [
       "<ol class=list-inline>\n",
       "\t<li>2</li>\n",
       "\t<li>3</li>\n",
       "\t<li>2.3</li>\n",
       "\t<li>3.2</li>\n",
       "</ol>\n"
      ],
      "text/latex": [
       "\\begin{enumerate*}\n",
       "\\item 2\n",
       "\\item 3\n",
       "\\item 2.3\n",
       "\\item 3.2\n",
       "\\end{enumerate*}\n"
      ],
      "text/markdown": [
       "1. 2\n",
       "2. 3\n",
       "3. 2.3\n",
       "4. 3.2\n",
       "\n",
       "\n"
      ],
      "text/plain": [
       "[1] 2.0 3.0 2.3 3.2"
      ]
     },
     "execution_count": 53,
     "metadata": {},
     "output_type": "execute_result"
    }
   ],
   "source": [
    "y"
   ]
  },
  {
   "cell_type": "code",
   "execution_count": 54,
   "metadata": {
    "collapsed": false
   },
   "outputs": [
    {
     "data": {
      "text/html": [
       "1"
      ],
      "text/latex": [
       "1"
      ],
      "text/markdown": [
       "1"
      ],
      "text/plain": [
       "[1] 1"
      ]
     },
     "execution_count": 54,
     "metadata": {},
     "output_type": "execute_result"
    }
   ],
   "source": [
    "sum(y > 3)"
   ]
  },
  {
   "cell_type": "code",
   "execution_count": 63,
   "metadata": {
    "collapsed": false
   },
   "outputs": [],
   "source": [
    "table1 <- read.csv(file='Workbook1.csv')"
   ]
  },
  {
   "cell_type": "code",
   "execution_count": 58,
   "metadata": {
    "collapsed": false
   },
   "outputs": [
    {
     "data": {
      "text/html": [
       "<table>\n",
       "<thead><tr><th></th><th scope=col>X...1</th><th scope=col>X0.909297427</th></tr></thead>\n",
       "<tbody>\n",
       "\t<tr><th scope=row>1</th><td>2.00000</td><td>0.14112</td></tr>\n",
       "\t<tr><th scope=row>2</th><td> 3.0000000</td><td>-0.7568025</td></tr>\n",
       "\t<tr><th scope=row>3</th><td> 4.0000000</td><td>-0.9589243</td></tr>\n",
       "\t<tr><th scope=row>4</th><td> 5.0000000</td><td>-0.2794155</td></tr>\n",
       "\t<tr><th scope=row>5</th><td>6.0000000</td><td>0.6569866</td></tr>\n",
       "\t<tr><th scope=row>6</th><td>7.0000000</td><td>0.9893582</td></tr>\n",
       "\t<tr><th scope=row>7</th><td>8.0000000</td><td>0.4121185</td></tr>\n",
       "\t<tr><th scope=row>8</th><td> 9.0000000</td><td>-0.5440211</td></tr>\n",
       "\t<tr><th scope=row>9</th><td>10.0000000</td><td>-0.9999902</td></tr>\n",
       "\t<tr><th scope=row>10</th><td>11.0000000</td><td>-0.5365729</td></tr>\n",
       "\t<tr><th scope=row>11</th><td>12.000000</td><td> 0.420167</td></tr>\n",
       "\t<tr><th scope=row>12</th><td>13</td><td> 0</td></tr>\n",
       "</tbody>\n",
       "</table>\n"
      ],
      "text/latex": [
       "\\begin{tabular}{r|ll}\n",
       "  & X...1 & X0.909297427\\\\\n",
       "\\hline\n",
       "\t1 & 2.00000 & 0.14112\\\\\n",
       "\t2 &  3.0000000 & -0.7568025\\\\\n",
       "\t3 &  4.0000000 & -0.9589243\\\\\n",
       "\t4 &  5.0000000 & -0.2794155\\\\\n",
       "\t5 & 6.0000000 & 0.6569866\\\\\n",
       "\t6 & 7.0000000 & 0.9893582\\\\\n",
       "\t7 & 8.0000000 & 0.4121185\\\\\n",
       "\t8 &  9.0000000 & -0.5440211\\\\\n",
       "\t9 & 10.0000000 & -0.9999902\\\\\n",
       "\t10 & 11.0000000 & -0.5365729\\\\\n",
       "\t11 & 12.000000 &  0.420167\\\\\n",
       "\t12 & 13 &  0\\\\\n",
       "\\end{tabular}\n"
      ],
      "text/plain": [
       "   X...1 X0.909297427\n",
       "1      2    0.1411200\n",
       "2      3   -0.7568025\n",
       "3      4   -0.9589243\n",
       "4      5   -0.2794155\n",
       "5      6    0.6569866\n",
       "6      7    0.9893582\n",
       "7      8    0.4121185\n",
       "8      9   -0.5440211\n",
       "9     10   -0.9999902\n",
       "10    11   -0.5365729\n",
       "11    12    0.4201670\n",
       "12    13    0.0000000"
      ]
     },
     "execution_count": 58,
     "metadata": {},
     "output_type": "execute_result"
    }
   ],
   "source": [
    "table1"
   ]
  },
  {
   "cell_type": "code",
   "execution_count": 60,
   "metadata": {
    "collapsed": false
   },
   "outputs": [],
   "source": [
    "colnames(table1) <- c(\"t\",\"y\")"
   ]
  },
  {
   "cell_type": "code",
   "execution_count": 61,
   "metadata": {
    "collapsed": false
   },
   "outputs": [
    {
     "data": {
      "text/html": [
       "<table>\n",
       "<thead><tr><th></th><th scope=col>t</th><th scope=col>y</th></tr></thead>\n",
       "<tbody>\n",
       "\t<tr><th scope=row>1</th><td>2.00000</td><td>0.14112</td></tr>\n",
       "\t<tr><th scope=row>2</th><td> 3.0000000</td><td>-0.7568025</td></tr>\n",
       "\t<tr><th scope=row>3</th><td> 4.0000000</td><td>-0.9589243</td></tr>\n",
       "\t<tr><th scope=row>4</th><td> 5.0000000</td><td>-0.2794155</td></tr>\n",
       "\t<tr><th scope=row>5</th><td>6.0000000</td><td>0.6569866</td></tr>\n",
       "\t<tr><th scope=row>6</th><td>7.0000000</td><td>0.9893582</td></tr>\n",
       "\t<tr><th scope=row>7</th><td>8.0000000</td><td>0.4121185</td></tr>\n",
       "\t<tr><th scope=row>8</th><td> 9.0000000</td><td>-0.5440211</td></tr>\n",
       "\t<tr><th scope=row>9</th><td>10.0000000</td><td>-0.9999902</td></tr>\n",
       "\t<tr><th scope=row>10</th><td>11.0000000</td><td>-0.5365729</td></tr>\n",
       "\t<tr><th scope=row>11</th><td>12.000000</td><td> 0.420167</td></tr>\n",
       "\t<tr><th scope=row>12</th><td>13</td><td> 0</td></tr>\n",
       "</tbody>\n",
       "</table>\n"
      ],
      "text/latex": [
       "\\begin{tabular}{r|ll}\n",
       "  & t & y\\\\\n",
       "\\hline\n",
       "\t1 & 2.00000 & 0.14112\\\\\n",
       "\t2 &  3.0000000 & -0.7568025\\\\\n",
       "\t3 &  4.0000000 & -0.9589243\\\\\n",
       "\t4 &  5.0000000 & -0.2794155\\\\\n",
       "\t5 & 6.0000000 & 0.6569866\\\\\n",
       "\t6 & 7.0000000 & 0.9893582\\\\\n",
       "\t7 & 8.0000000 & 0.4121185\\\\\n",
       "\t8 &  9.0000000 & -0.5440211\\\\\n",
       "\t9 & 10.0000000 & -0.9999902\\\\\n",
       "\t10 & 11.0000000 & -0.5365729\\\\\n",
       "\t11 & 12.000000 &  0.420167\\\\\n",
       "\t12 & 13 &  0\\\\\n",
       "\\end{tabular}\n"
      ],
      "text/plain": [
       "    t          y\n",
       "1   2  0.1411200\n",
       "2   3 -0.7568025\n",
       "3   4 -0.9589243\n",
       "4   5 -0.2794155\n",
       "5   6  0.6569866\n",
       "6   7  0.9893582\n",
       "7   8  0.4121185\n",
       "8   9 -0.5440211\n",
       "9  10 -0.9999902\n",
       "10 11 -0.5365729\n",
       "11 12  0.4201670\n",
       "12 13  0.0000000"
      ]
     },
     "execution_count": 61,
     "metadata": {},
     "output_type": "execute_result"
    }
   ],
   "source": [
    "table1"
   ]
  },
  {
   "cell_type": "code",
   "execution_count": null,
   "metadata": {
    "collapsed": true
   },
   "outputs": [],
   "source": []
  }
 ],
 "metadata": {
  "kernelspec": {
   "display_name": "R",
   "language": "R",
   "name": "ir"
  },
  "language_info": {
   "codemirror_mode": "r",
   "file_extension": ".r",
   "mimetype": "text/x-r-source",
   "name": "R",
   "pygments_lexer": "r",
   "version": "3.3.0"
  }
 },
 "nbformat": 4,
 "nbformat_minor": 2
}
