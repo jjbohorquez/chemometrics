{
 "cells": [
  {
   "cell_type": "code",
   "execution_count": null,
   "metadata": {
    "collapsed": true
   },
   "outputs": [],
   "source": []
  },
  {
   "cell_type": "markdown",
   "metadata": {
    "slideshow": {
     "slide_type": "slide"
    }
   },
   "source": [
    "# Chemometrics\n",
    "<br>\n",
    "**Julien Wist / 2017 / Universidad del Valle**\n",
    "<br>\n",
    "**Andrés Bernal / 2017 / ???**\n",
    "\n",
    "An up-to-date version of this notebook can be found here: https://github.com/jwist/chemometrics/"
   ]
  },
  {
   "cell_type": "code",
   "execution_count": 1,
   "metadata": {
    "slideshow": {
     "slide_type": "skip"
    }
   },
   "outputs": [],
   "source": [
    "options(repr.plot.width=3, repr.plot.height=3)"
   ]
  },
  {
   "cell_type": "markdown",
   "metadata": {
    "slideshow": {
     "slide_type": "slide"
    }
   },
   "source": [
    "## Aims\n",
    "\n",
    " - reproducibility in science\n",
    " - available tools \n",
    " - statistical methods applied to MP\n",
    " "
   ]
  },
  {
   "cell_type": "markdown",
   "metadata": {
    "slideshow": {
     "slide_type": "slide"
    }
   },
   "source": [
    "# reproducible science"
   ]
  },
  {
   "cell_type": "markdown",
   "metadata": {
    "slideshow": {
     "slide_type": "slide"
    }
   },
   "source": [
    "<center>\n",
    "<img src=\"https://raw.githubusercontent.com/jwist/chemometrics/master/img/problem1.png\" width=\"600\">\n",
    "</center>"
   ]
  },
  {
   "cell_type": "markdown",
   "metadata": {
    "slideshow": {
     "slide_type": "slide"
    }
   },
   "source": [
    "<center>\n",
    "<img src=\"https://raw.githubusercontent.com/jwist/chemometrics/master/img/problem2.png\" width=\"600\">\n",
    "</center>"
   ]
  },
  {
   "cell_type": "markdown",
   "metadata": {
    "slideshow": {
     "slide_type": "slide"
    }
   },
   "source": [
    "<center>\n",
    "<img src=\"https://raw.githubusercontent.com/jwist/chemometrics/master/img/problem3.png\" width=\"600\">\n",
    "</center>"
   ]
  },
  {
   "cell_type": "markdown",
   "metadata": {
    "slideshow": {
     "slide_type": "slide"
    }
   },
   "source": [
    "## a better publication for a better science"
   ]
  },
  {
   "cell_type": "markdown",
   "metadata": {
    "slideshow": {
     "slide_type": "slide"
    }
   },
   "source": [
    "<center>\n",
    "<img src=\"https://raw.githubusercontent.com/jwist/chemometrics/master/img/modernPublis1.png\" width=\"600\">\n",
    "</center>"
   ]
  },
  {
   "cell_type": "markdown",
   "metadata": {
    "slideshow": {
     "slide_type": "notes"
    }
   },
   "source": [
    "Although internet contributed to accelerate the pace at which information is shared, it had very little effect on the way information is formatted. Publications illustrate well this phenomena. Today, data produced in the lab are mostly digital. Analysis of data, digital or not, is performed using computers. The writing and sharing of the results is done digitally. Despite this, the end product, the publication is an exact copy of a plain printed paper with close to no enhanced features. A paper from 1905 is exactly the same product as a paper from 2017, even if its production and distribution differ. Publications were introduced to allow researchers to claim authorship for their contribution, thus allowing to accelerate the speed at which information was shared. Today, publication may well be deserving the counter objective, to slow the flux of information. In some research area this fragmentation of the knowledge and data is so detrimental that it may invalidate years of research that cost billions of dollars. Here we present cheminfo.org, a platform to store and share data and code libraries to facilitate solving problems related to chemistry. In our opinion this represent a step toward a more efficient way to share contributions within the academic community."
   ]
  },
  {
   "cell_type": "markdown",
   "metadata": {
    "slideshow": {
     "slide_type": "slide"
    }
   },
   "source": [
    "<center>\n",
    "<img src=\"https://raw.githubusercontent.com/jwist/chemometrics/master/img/modernPublis2.png\" width=\"600\">\n",
    "</center>"
   ]
  },
  {
   "cell_type": "markdown",
   "metadata": {
    "slideshow": {
     "slide_type": "notes"
    }
   },
   "source": [
    "A webpate is typically a more appropriate and \"modern\" way to share information in that not only the content is transfered but the code for its proper visualization. Usually, the raw data and the code used to manipulate them are not transfered since this latter is executed on the server. Although it is technically possible to transfer the tool to the end user, this would require instalation and configuration on the client side. "
   ]
  },
  {
   "cell_type": "markdown",
   "metadata": {
    "slideshow": {
     "slide_type": "slide"
    }
   },
   "source": [
    "<center>\n",
    "<img src=\"https://raw.githubusercontent.com/jwist/chemometrics/master/img/modernPublis3.png\" width=\"600\">\n",
    "</center>"
   ]
  },
  {
   "cell_type": "markdown",
   "metadata": {
    "slideshow": {
     "slide_type": "notes"
    }
   },
   "source": [
    "A better way to share information in the context of collaborative science require the author to share all the necessary information for someone else first to check what has been done and second to reproduce and extend the research. Example of such exists, but there is still room for improvement. An example is the very same tool used for this presentation/publication, jupyter."
   ]
  },
  {
   "cell_type": "markdown",
   "metadata": {
    "slideshow": {
     "slide_type": "slide"
    }
   },
   "source": [
    "<center>\n",
    "<img src=\"https://raw.githubusercontent.com/jwist/chemometrics/master/img/3layers.png\" width=\"800\">\n",
    "</center>"
   ]
  },
  {
   "cell_type": "markdown",
   "metadata": {
    "slideshow": {
     "slide_type": "notes"
    }
   },
   "source": [
    "The tree elements of collaborative science"
   ]
  },
  {
   "cell_type": "markdown",
   "metadata": {
    "slideshow": {
     "slide_type": "slide"
    }
   },
   "source": [
    "# an example! "
   ]
  },
  {
   "cell_type": "markdown",
   "metadata": {
    "slideshow": {
     "slide_type": "slide"
    }
   },
   "source": [
    "## Useful tools for cheminformatics\n",
    "\n",
    "Raw data must be analyzed and therfore libraries of function must be developped. Today, two very powerfull option exists.\n",
    "\n",
    "- python + pandas (numerical simulation + statistics)\n",
    "- **R (statistics)**\n",
    " \n",
    "Both are high end languages and thus allow to write relatively easily pieces of code. Both are scripting languages meaning that they don't require compilation. This makes the coding and debugging much simpler tasks."
   ]
  },
  {
   "cell_type": "markdown",
   "metadata": {
    "slideshow": {
     "slide_type": "slide"
    }
   },
   "source": [
    "### what is R?\n",
    "\n",
    "- R is a powerful and free to use tool to perform statistics\n",
    "- R is not a software for numerical vectorial algebra\n",
    "- R is free\n",
    "- R has a large community that supports its development and a lot of tutorials available\n",
    "\n",
    "Alternatively, common commercial software for statistics are:\n",
    " - Stata\n",
    " - SPSS\n",
    " - SAS\n"
   ]
  },
  {
   "cell_type": "markdown",
   "metadata": {
    "slideshow": {
     "slide_type": "slide"
    }
   },
   "source": [
    "### what is python?\n",
    "\n",
    " - python is free numeric simulation program\n",
    " - unlike R python is suitable for vectorial alegbra\n",
    " - python is open \n",
    " - python is supported by a very large community. New methods are rapidely implemented and shared.\n",
    " \n",
    " Alternatives to python are:\n",
    " \n",
    " - Octave\n",
    " - scilab\n",
    " - matlab\n",
    " - to some extend: mathematica"
   ]
  },
  {
   "cell_type": "markdown",
   "metadata": {
    "slideshow": {
     "slide_type": "slide"
    }
   },
   "source": [
    "## How to get R and python?\n",
    "\n",
    "It can be readily installed for all platforms (https://www.continuum.io/downloads)\n",
    "\n",
    "Alternatively you can download R directly (https://www.r-project.org/)\n",
    "\n"
   ]
  },
  {
   "cell_type": "markdown",
   "metadata": {
    "slideshow": {
     "slide_type": "slide"
    }
   },
   "source": [
    "\n",
    "### front-ends\n",
    "\n",
    "Because writing scritps is not always an easy task, program refered to as IDE exists to simplify writting. These programs offer an environment to suggest/auto-complete or provide easy access to help, etc.\n",
    "\n",
    "Front-ends for R are:\n",
    "\n",
    " - Desktop (multi platform)\n",
    "https://www.rstudio.com/\n",
    "\n",
    " - Online (no installation required)\n",
    "https://www.getdatajoy.com/\n",
    "\n",
    "Front-ends for python:\n",
    "\n",
    " - pycharm\n",
    " \n",
    "Among others!"
   ]
  },
  {
   "cell_type": "markdown",
   "metadata": {
    "slideshow": {
     "slide_type": "notes"
    }
   },
   "source": [
    "## R\n",
    "\n",
    "From now on we will focuse on R. "
   ]
  },
  {
   "cell_type": "markdown",
   "metadata": {
    "slideshow": {
     "slide_type": "slide"
    }
   },
   "source": [
    "<center>\n",
    "<img src=\"https://raw.githubusercontent.com/jwist/chemometrics/master/img/rstudio.png\" width=\"800\">\n",
    "</center>"
   ]
  },
  {
   "cell_type": "markdown",
   "metadata": {
    "slideshow": {
     "slide_type": "slide"
    }
   },
   "source": [
    "### great documentation\n",
    "- https://cran.r-project.org/manuals.html\n",
    "\n",
    "### free online tutorials\n",
    " - https://www.edx.org/course/introduction-r-programming-microsoft-dat204x-0?gclid=CIHUq6rv4MoCFc5ZhgodCBYKnQ\n",
    " - https://www.datacamp.com/courses/free-introduction-to-r\n",
    " - http://tryr.codeschool.com"
   ]
  },
  {
   "cell_type": "markdown",
   "metadata": {
    "slideshow": {
     "slide_type": "slide"
    }
   },
   "source": [
    "### online code execution\n",
    "<small>\n",
    "- http://www.tutorialspoint.com <br>\n",
    "<font color='green'>(most available language, has IDE, install.packages() works, free)</font>\n",
    "- https://cloud.sagemath.com/  <br><font color='green'>(allows to run R, scilab, julia, octave and maintain a labbook, install.packages() might work for paid subscription, allows for classroom management, otherwise free)</font>\n",
    "- https://datajoy.com (discontinued)  <br><font color='green'>(allows to install packages, not free)</font>\n",
    "- http://www.r-fiddle.org  <br><font color='green'>(allows to run simple code, very limited in size, install.packages() not available, no registration, free)</font></small>\n",
    "- google collaboratory (check if availabe)"
   ]
  },
  {
   "cell_type": "markdown",
   "metadata": {
    "slideshow": {
     "slide_type": "skip"
    }
   },
   "source": [
    "\n",
    "### a few dataset to play with\n",
    "\n",
    " - http://www.models.life.ku.dk/Wine_GCMS_FTIR\n",
    " - http://www.models.life.ku.dk/Wine_NMR\n",
    " - http://michem.disat.unimib.it/chm/download/datasets.htm\n",
    " - https://archive.ics.uci.edu/ml/datasets/Wine\n"
   ]
  },
  {
   "cell_type": "markdown",
   "metadata": {
    "slideshow": {
     "slide_type": "slide"
    }
   },
   "source": [
    "## a first example of publication with jupyter\n",
    "\n",
    "In this example we will **publish** a simple linear regression. The function we use is the following:\n",
    "\n",
    "$$ f(x) = -1.874 + 0.075 x + 0.01 x^2$$\n",
    "\n",
    "Instead of sharing an image of the results, we provide here all the code that is necessary for another group to reproduce our findings."
   ]
  },
  {
   "cell_type": "markdown",
   "metadata": {
    "slideshow": {
     "slide_type": "slide"
    }
   },
   "source": [
    "### experimental section\n",
    "\n",
    "**creation of the data. Here data are simulated, but real experimental data could be used instead.**"
   ]
  },
  {
   "cell_type": "code",
   "execution_count": 7,
   "metadata": {
    "slideshow": {
     "slide_type": "subslide"
    }
   },
   "outputs": [],
   "source": [
    "#rm(list=ls(all=TRUE)) # we clear the variable space\n",
    "\n",
    "N <- 20 # we define the number of observations\n",
    "\n",
    "# we create a fake dataset using a quadratic\n",
    "#equation and adding some noise\n",
    "# first create a vector of x repeated rep times\n",
    "rep <- 2 # number of replicates\n",
    "X <- rep(seq(from=43, to=96, length.out=N),rep)\n",
    "# then create the Y vector according to the equation:\n",
    "Y <- (0.075 * X + -1.874 + 0.01* X^2)\n",
    "# create some noise\n",
    "noise <- runif(length(Y), -1, 1) \n",
    "# add some noise to Y\n",
    "Y <- Y + 3*noise\n",
    "y = Y"
   ]
  },
  {
   "cell_type": "code",
   "execution_count": 8,
   "metadata": {
    "slideshow": {
     "slide_type": "subslide"
    }
   },
   "outputs": [],
   "source": [
    "x_sorted <- sort(X,index.return=TRUE)\n",
    "x <-x_sorted$x\n",
    "y <- Y[x_sorted$ix]\n"
   ]
  },
  {
   "cell_type": "markdown",
   "metadata": {
    "slideshow": {
     "slide_type": "slide"
    }
   },
   "source": [
    "### results and discussion\n",
    "\n",
    "blah blah"
   ]
  },
  {
   "cell_type": "code",
   "execution_count": 9,
   "metadata": {
    "slideshow": {
     "slide_type": "slide"
    }
   },
   "outputs": [
    {
     "data": {
      "text/html": [
       "<table>\n",
       "<thead><tr><th scope=col>x</th><th scope=col>x2</th><th scope=col>y</th></tr></thead>\n",
       "<tbody>\n",
       "\t<tr><td>43.00000</td><td>1849.000</td><td>19.68506</td></tr>\n",
       "\t<tr><td>43.00000</td><td>1849.000</td><td>18.85065</td></tr>\n",
       "\t<tr><td>45.78947</td><td>2096.676</td><td>22.38011</td></tr>\n",
       "\t<tr><td>45.78947</td><td>2096.676</td><td>20.49634</td></tr>\n",
       "\t<tr><td>48.57895</td><td>2359.914</td><td>25.63506</td></tr>\n",
       "\t<tr><td>48.57895</td><td>2359.914</td><td>27.72127</td></tr>\n",
       "</tbody>\n",
       "</table>\n"
      ],
      "text/latex": [
       "\\begin{tabular}{r|lll}\n",
       " x & x2 & y\\\\\n",
       "\\hline\n",
       "\t 43.00000 & 1849.000 & 19.68506\\\\\n",
       "\t 43.00000 & 1849.000 & 18.85065\\\\\n",
       "\t 45.78947 & 2096.676 & 22.38011\\\\\n",
       "\t 45.78947 & 2096.676 & 20.49634\\\\\n",
       "\t 48.57895 & 2359.914 & 25.63506\\\\\n",
       "\t 48.57895 & 2359.914 & 27.72127\\\\\n",
       "\\end{tabular}\n"
      ],
      "text/markdown": [
       "\n",
       "x | x2 | y | \n",
       "|---|---|---|---|---|---|\n",
       "| 43.00000 | 1849.000 | 19.68506 | \n",
       "| 43.00000 | 1849.000 | 18.85065 | \n",
       "| 45.78947 | 2096.676 | 22.38011 | \n",
       "| 45.78947 | 2096.676 | 20.49634 | \n",
       "| 48.57895 | 2359.914 | 25.63506 | \n",
       "| 48.57895 | 2359.914 | 27.72127 | \n",
       "\n",
       "\n"
      ],
      "text/plain": [
       "  x        x2       y       \n",
       "1 43.00000 1849.000 19.68506\n",
       "2 43.00000 1849.000 18.85065\n",
       "3 45.78947 2096.676 22.38011\n",
       "4 45.78947 2096.676 20.49634\n",
       "5 48.57895 2359.914 25.63506\n",
       "6 48.57895 2359.914 27.72127"
      ]
     },
     "metadata": {},
     "output_type": "display_data"
    },
    {
     "data": {
      "text/html": [
       "<ol class=list-inline>\n",
       "\t<li>40</li>\n",
       "\t<li>3</li>\n",
       "</ol>\n"
      ],
      "text/latex": [
       "\\begin{enumerate*}\n",
       "\\item 40\n",
       "\\item 3\n",
       "\\end{enumerate*}\n"
      ],
      "text/markdown": [
       "1. 40\n",
       "2. 3\n",
       "\n",
       "\n"
      ],
      "text/plain": [
       "[1] 40  3"
      ]
     },
     "metadata": {},
     "output_type": "display_data"
    }
   ],
   "source": [
    "data <- data.frame(x=x, x2=x^2, y=y)\n",
    "data[1:6,]\n",
    "dim(data)"
   ]
  },
  {
   "cell_type": "markdown",
   "metadata": {
    "slideshow": {
     "slide_type": "slide"
    }
   },
   "source": [
    "Now the first thing to do is to have a look to the data. This can be done readily with a single command:\n"
   ]
  },
  {
   "cell_type": "code",
   "execution_count": 10,
   "metadata": {
    "slideshow": {
     "slide_type": "slide"
    }
   },
   "outputs": [
    {
     "data": {
      "image/png": "[encoded data removed]",
      "text/plain": [
       "plot without title"
      ]
     },
     "metadata": {},
     "output_type": "display_data"
    }
   ],
   "source": [
    "plot(data$x, data$y, xlab='x', ylab='y') # plot data"
   ]
  },
  {
   "cell_type": "markdown",
   "metadata": {
    "slideshow": {
     "slide_type": "slide"
    }
   },
   "source": [
    "There is two options, if we have no idea about the model we may simple test with a single linear regression, since the data are looking to be linear. Therefore we can use a built-in tool in R that achieve just this. Exactly the same way you would ask **Microsoft Excel** to add a linear regression to your data."
   ]
  },
  {
   "cell_type": "code",
   "execution_count": 11,
   "metadata": {
    "slideshow": {
     "slide_type": "slide"
    }
   },
   "outputs": [],
   "source": [
    "fit.lm = lm(y ~ x, data=data)\n",
    "#plot(fit.lm)"
   ]
  },
  {
   "cell_type": "markdown",
   "metadata": {
    "slideshow": {
     "slide_type": "slide"
    }
   },
   "source": [
    "The line above means that we will use a routine called ```lm()```\n",
    " for linear model, and define the model as \"y=ax\", the equation of a line. If you are curious, you can uncomment the \"#\" in the cell above and see what results.<br> <br>\n",
    "And we may want to see the results and superimpose this resulting model to the \"experimental\" data. "
   ]
  },
  {
   "cell_type": "code",
   "execution_count": 12,
   "metadata": {
    "slideshow": {
     "slide_type": "slide"
    }
   },
   "outputs": [
    {
     "data": {
      "image/png": "[encoded data removed]",
      "text/plain": [
       "plot without title"
      ]
     },
     "metadata": {},
     "output_type": "display_data"
    }
   ],
   "source": [
    "plot(data$x, data$y, xlab='x', ylab='y') # plot data\n",
    "lines(data$x, fitted(fit.lm), col=2) # plot fitted curve\n"
   ]
  },
  {
   "cell_type": "markdown",
   "metadata": {
    "slideshow": {
     "slide_type": "slide"
    }
   },
   "source": [
    "The result looks nice, but we would like to know the regression coefficient for this model. Most complex routine in R own a procedure that is called ```summary()```. This allows will show you important parameters of the model object ```fit.lm```. If you only need the coefficient, you can simplify the output using the second line."
   ]
  },
  {
   "cell_type": "code",
   "execution_count": 8,
   "metadata": {
    "slideshow": {
     "slide_type": "slide"
    }
   },
   "outputs": [
    {
     "data": {
      "text/plain": [
       "\n",
       "Call:\n",
       "lm(formula = y ~ x, data = data)\n",
       "\n",
       "Residuals:\n",
       "   Min     1Q Median     3Q    Max \n",
       "-5.513 -2.509 -0.040  2.310  6.439 \n",
       "\n",
       "Coefficients:\n",
       "             Estimate Std. Error t value Pr(>|t|)    \n",
       "(Intercept) -47.60204    2.11491  -22.51   <2e-16 ***\n",
       "x             1.46664    0.02965   49.47   <2e-16 ***\n",
       "---\n",
       "Signif. codes:  0 ‘***’ 0.001 ‘**’ 0.01 ‘*’ 0.05 ‘.’ 0.1 ‘ ’ 1\n",
       "\n",
       "Residual standard error: 3.016 on 38 degrees of freedom\n",
       "Multiple R-squared:  0.9847,\tAdjusted R-squared:  0.9843 \n",
       "F-statistic:  2447 on 1 and 38 DF,  p-value: < 2.2e-16\n"
      ]
     },
     "metadata": {},
     "output_type": "display_data"
    },
    {
     "data": {
      "text/html": [
       "0.985"
      ],
      "text/latex": [
       "0.985"
      ],
      "text/markdown": [
       "0.985"
      ],
      "text/plain": [
       "[1] 0.985"
      ]
     },
     "metadata": {},
     "output_type": "display_data"
    }
   ],
   "source": [
    "summary(fit.lm)\n",
    "round(summary(fit.lm)$r.squared, 3)"
   ]
  },
  {
   "cell_type": "markdown",
   "metadata": {
    "slideshow": {
     "slide_type": "slide"
    }
   },
   "source": [
    "Althouth a correlation of 0.99 is acceptable, a more carefull look at our data indicates we may have a quadratic term. In order to test this, we can simple use another function in the  ```lm()``` routine."
   ]
  },
  {
   "cell_type": "code",
   "execution_count": 9,
   "metadata": {
    "slideshow": {
     "slide_type": "slide"
    }
   },
   "outputs": [
    {
     "name": "stdout",
     "output_type": "stream",
     "text": [
      "[1] \"R^2 = 0.994\"\n"
     ]
    },
    {
     "data": {
      "image/png": "[encoded data removed]",
      "text/plain": [
       "plot without title"
      ]
     },
     "metadata": {},
     "output_type": "display_data"
    }
   ],
   "source": [
    "fit.lm = lm(y ~ x + x2, data=data)\n",
    "plot(data$x, data$y, xlab='x', ylab='y') # plot data\n",
    "lines(data$x, fitted(fit.lm), col=2) # plot fitted curve\n",
    "#round(summary(fit.lm)$r.squared, 3)\n",
    "print(paste(\"R^2 =\",round(summary(fit.lm)$r.squared, 3)))"
   ]
  },
  {
   "cell_type": "markdown",
   "metadata": {
    "slideshow": {
     "slide_type": "slide"
    }
   },
   "source": [
    "This new model adjust better to our data than the previous one. And we may conclude that a quadratic effect exists in the phenomenon we are trying to observe.\n",
    "\n",
    "With this simple example we have demonstrated that it is fairly simple to use R for simple task usually done in **Microsoft Excel** or similar programs. We also illustrated the power of sharing not only a pdf of the class notes, but a file that contains the information and all the necessary code in order to be checked and validate."
   ]
  },
  {
   "cell_type": "markdown",
   "metadata": {
    "slideshow": {
     "slide_type": "slide"
    }
   },
   "source": [
    "### some publications are already available in this format\n",
    "\n",
    "https://github.com/ipython/ipython/wiki/A-gallery-of-interesting-IPython-Notebooks#reproducible-academic-publications\n",
    "\n",
    "http://localhost:8888/notebooks/jupyterNotebooks/LOSC_Event_tutorial.ipynb"
   ]
  },
  {
   "cell_type": "markdown",
   "metadata": {
    "slideshow": {
     "slide_type": "slide"
    }
   },
   "source": [
    "**Homeworks**\n",
    "\n",
    "please to check and do at least one of the tutorial listed above!"
   ]
  },
  {
   "cell_type": "markdown",
   "metadata": {},
   "source": [
    "**end of document**"
   ]
  }
 ],
 "metadata": {
  "celltoolbar": "Slideshow",
  "kernelspec": {
   "display_name": "R",
   "language": "R",
   "name": "ir"
  },
  "language_info": {
   "codemirror_mode": "r",
   "file_extension": ".r",
   "mimetype": "text/x-r-source",
   "name": "R",
   "pygments_lexer": "r",
   "version": "3.3.3"
  }
 },
 "nbformat": 4,
 "nbformat_minor": 1
}
